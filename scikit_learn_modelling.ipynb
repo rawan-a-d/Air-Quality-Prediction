{
 "cells": [
  {
   "cell_type": "markdown",
   "id": "2db24e9f",
   "metadata": {},
   "source": [
    "<h1 style=\"font-size:3rem;color:maroon;\"> Predicting Air Pollution Level using Machine Learning</h1>\n",
    "\n",
    "This notebook is created for the modelling [Scikit-learn](https://scikit-learn.org/stable/tutorial/machine_learning_map/index.html)."
   ]
  },
  {
   "cell_type": "markdown",
   "id": "e7b73347",
   "metadata": {},
   "source": [
    "![title](images/scikit_learn_map.png)"
   ]
  },
  {
   "cell_type": "markdown",
   "id": "ba47ddae",
   "metadata": {},
   "source": [
    "<h2><font color=slateblue> Preparing the tools </font></h2>"
   ]
  },
  {
   "cell_type": "code",
   "execution_count": 1,
   "id": "e78ad191",
   "metadata": {},
   "outputs": [],
   "source": [
    "# Regular EDA\n",
    "import pandas as pd\n",
    "import numpy as np\n",
    "\n",
    "# Modelling\n",
    "from sklearn.ensemble import RandomForestRegressor\n",
    "from sklearn.linear_model import SGDClassifier, ElasticNet, BayesianRidge, LassoLars\n",
    "from sklearn.svm import SVR\n",
    "from sklearn.ensemble import GradientBoostingRegressor\n",
    "from sklearn.metrics import mean_absolute_error"
   ]
  },
  {
   "cell_type": "markdown",
   "id": "2434455d",
   "metadata": {},
   "source": [
    "<h2><font color=slateblue>Read CSV file </font></h2>"
   ]
  },
  {
   "cell_type": "code",
   "execution_count": 2,
   "id": "8eb4eb42",
   "metadata": {},
   "outputs": [
    {
     "data": {
      "text/html": [
       "<div>\n",
       "<style scoped>\n",
       "    .dataframe tbody tr th:only-of-type {\n",
       "        vertical-align: middle;\n",
       "    }\n",
       "\n",
       "    .dataframe tbody tr th {\n",
       "        vertical-align: top;\n",
       "    }\n",
       "\n",
       "    .dataframe thead th {\n",
       "        text-align: right;\n",
       "    }\n",
       "</style>\n",
       "<table border=\"1\" class=\"dataframe\">\n",
       "  <thead>\n",
       "    <tr style=\"text-align: right;\">\n",
       "      <th></th>\n",
       "      <th>PC4</th>\n",
       "      <th>pm2.5</th>\n",
       "      <th>wd</th>\n",
       "      <th>ws</th>\n",
       "      <th>ssrd</th>\n",
       "      <th>blh</th>\n",
       "      <th>people_number</th>\n",
       "      <th>wd_group</th>\n",
       "      <th>year</th>\n",
       "      <th>month</th>\n",
       "      <th>day</th>\n",
       "      <th>day_of_week</th>\n",
       "      <th>day_of_year</th>\n",
       "    </tr>\n",
       "  </thead>\n",
       "  <tbody>\n",
       "    <tr>\n",
       "      <th>195</th>\n",
       "      <td>5614</td>\n",
       "      <td>3.59</td>\n",
       "      <td>231.87</td>\n",
       "      <td>5.05</td>\n",
       "      <td>97.94</td>\n",
       "      <td>761.58</td>\n",
       "      <td>10102.0</td>\n",
       "      <td>10</td>\n",
       "      <td>2021</td>\n",
       "      <td>9</td>\n",
       "      <td>30</td>\n",
       "      <td>3</td>\n",
       "      <td>273</td>\n",
       "    </tr>\n",
       "    <tr>\n",
       "      <th>67</th>\n",
       "      <td>5613</td>\n",
       "      <td>6.37</td>\n",
       "      <td>247.88</td>\n",
       "      <td>4.26</td>\n",
       "      <td>76.49</td>\n",
       "      <td>575.50</td>\n",
       "      <td>11110.0</td>\n",
       "      <td>11</td>\n",
       "      <td>2021</td>\n",
       "      <td>9</td>\n",
       "      <td>27</td>\n",
       "      <td>0</td>\n",
       "      <td>270</td>\n",
       "    </tr>\n",
       "    <tr>\n",
       "      <th>779</th>\n",
       "      <td>5655</td>\n",
       "      <td>11.72</td>\n",
       "      <td>272.94</td>\n",
       "      <td>3.40</td>\n",
       "      <td>73.83</td>\n",
       "      <td>288.28</td>\n",
       "      <td>7623.0</td>\n",
       "      <td>12</td>\n",
       "      <td>2021</td>\n",
       "      <td>10</td>\n",
       "      <td>18</td>\n",
       "      <td>0</td>\n",
       "      <td>291</td>\n",
       "    </tr>\n",
       "    <tr>\n",
       "      <th>561</th>\n",
       "      <td>5658</td>\n",
       "      <td>6.30</td>\n",
       "      <td>150.99</td>\n",
       "      <td>3.13</td>\n",
       "      <td>60.37</td>\n",
       "      <td>505.02</td>\n",
       "      <td>4323.0</td>\n",
       "      <td>7</td>\n",
       "      <td>2021</td>\n",
       "      <td>10</td>\n",
       "      <td>12</td>\n",
       "      <td>1</td>\n",
       "      <td>285</td>\n",
       "    </tr>\n",
       "    <tr>\n",
       "      <th>982</th>\n",
       "      <td>5627</td>\n",
       "      <td>9.09</td>\n",
       "      <td>283.26</td>\n",
       "      <td>3.15</td>\n",
       "      <td>104.39</td>\n",
       "      <td>307.22</td>\n",
       "      <td>11330.0</td>\n",
       "      <td>13</td>\n",
       "      <td>2021</td>\n",
       "      <td>10</td>\n",
       "      <td>24</td>\n",
       "      <td>6</td>\n",
       "      <td>297</td>\n",
       "    </tr>\n",
       "  </tbody>\n",
       "</table>\n",
       "</div>"
      ],
      "text/plain": [
       "      PC4  pm2.5      wd    ws    ssrd     blh  people_number  wd_group  year  \\\n",
       "195  5614   3.59  231.87  5.05   97.94  761.58        10102.0        10  2021   \n",
       "67   5613   6.37  247.88  4.26   76.49  575.50        11110.0        11  2021   \n",
       "779  5655  11.72  272.94  3.40   73.83  288.28         7623.0        12  2021   \n",
       "561  5658   6.30  150.99  3.13   60.37  505.02         4323.0         7  2021   \n",
       "982  5627   9.09  283.26  3.15  104.39  307.22        11330.0        13  2021   \n",
       "\n",
       "     month  day  day_of_week  day_of_year  \n",
       "195      9   30            3          273  \n",
       "67       9   27            0          270  \n",
       "779     10   18            0          291  \n",
       "561     10   12            1          285  \n",
       "982     10   24            6          297  "
      ]
     },
     "execution_count": 2,
     "metadata": {},
     "output_type": "execute_result"
    }
   ],
   "source": [
    "# read prepared dataset csv file\n",
    "df = pd.read_csv(\"data/df_prepared.csv\")\n",
    "df.sample(5)"
   ]
  },
  {
   "cell_type": "markdown",
   "id": "b24f31a7",
   "metadata": {},
   "source": [
    "<h2><font color=slateblue>Modelling </font></h2>"
   ]
  },
  {
   "cell_type": "markdown",
   "id": "c8b12ef8",
   "metadata": {},
   "source": [
    "<h4><font color=mediumvioletred>Get X and y</font></h4>"
   ]
  },
  {
   "cell_type": "code",
   "execution_count": 3,
   "id": "3cd83af1",
   "metadata": {},
   "outputs": [],
   "source": [
    "X = df.drop(\"pm2.5\", axis=1)\n",
    "y = df[\"pm2.5\"]"
   ]
  },
  {
   "cell_type": "markdown",
   "id": "eb5c7d52",
   "metadata": {},
   "source": [
    "<h4><font color=mediumvioletred>Get a sample of X </font></h4>"
   ]
  },
  {
   "cell_type": "code",
   "execution_count": 4,
   "id": "b9c5b34e",
   "metadata": {},
   "outputs": [
    {
     "data": {
      "text/html": [
       "<div>\n",
       "<style scoped>\n",
       "    .dataframe tbody tr th:only-of-type {\n",
       "        vertical-align: middle;\n",
       "    }\n",
       "\n",
       "    .dataframe tbody tr th {\n",
       "        vertical-align: top;\n",
       "    }\n",
       "\n",
       "    .dataframe thead th {\n",
       "        text-align: right;\n",
       "    }\n",
       "</style>\n",
       "<table border=\"1\" class=\"dataframe\">\n",
       "  <thead>\n",
       "    <tr style=\"text-align: right;\">\n",
       "      <th></th>\n",
       "      <th>PC4</th>\n",
       "      <th>wd</th>\n",
       "      <th>ws</th>\n",
       "      <th>ssrd</th>\n",
       "      <th>blh</th>\n",
       "      <th>people_number</th>\n",
       "      <th>wd_group</th>\n",
       "      <th>year</th>\n",
       "      <th>month</th>\n",
       "      <th>day</th>\n",
       "      <th>day_of_week</th>\n",
       "      <th>day_of_year</th>\n",
       "    </tr>\n",
       "  </thead>\n",
       "  <tbody>\n",
       "    <tr>\n",
       "      <th>1074</th>\n",
       "      <td>5625</td>\n",
       "      <td>241.47</td>\n",
       "      <td>4.74</td>\n",
       "      <td>72.34</td>\n",
       "      <td>572.76</td>\n",
       "      <td>14244.0</td>\n",
       "      <td>11</td>\n",
       "      <td>2021</td>\n",
       "      <td>10</td>\n",
       "      <td>27</td>\n",
       "      <td>2</td>\n",
       "      <td>300</td>\n",
       "    </tr>\n",
       "    <tr>\n",
       "      <th>798</th>\n",
       "      <td>5646</td>\n",
       "      <td>242.35</td>\n",
       "      <td>5.22</td>\n",
       "      <td>22.24</td>\n",
       "      <td>634.72</td>\n",
       "      <td>11305.0</td>\n",
       "      <td>11</td>\n",
       "      <td>2021</td>\n",
       "      <td>10</td>\n",
       "      <td>19</td>\n",
       "      <td>1</td>\n",
       "      <td>292</td>\n",
       "    </tr>\n",
       "    <tr>\n",
       "      <th>660</th>\n",
       "      <td>5622</td>\n",
       "      <td>143.87</td>\n",
       "      <td>3.28</td>\n",
       "      <td>61.76</td>\n",
       "      <td>598.95</td>\n",
       "      <td>8747.0</td>\n",
       "      <td>6</td>\n",
       "      <td>2021</td>\n",
       "      <td>10</td>\n",
       "      <td>15</td>\n",
       "      <td>4</td>\n",
       "      <td>288</td>\n",
       "    </tr>\n",
       "    <tr>\n",
       "      <th>645</th>\n",
       "      <td>5625</td>\n",
       "      <td>211.78</td>\n",
       "      <td>4.63</td>\n",
       "      <td>56.42</td>\n",
       "      <td>577.52</td>\n",
       "      <td>15358.0</td>\n",
       "      <td>9</td>\n",
       "      <td>2021</td>\n",
       "      <td>10</td>\n",
       "      <td>14</td>\n",
       "      <td>3</td>\n",
       "      <td>287</td>\n",
       "    </tr>\n",
       "    <tr>\n",
       "      <th>177</th>\n",
       "      <td>5623</td>\n",
       "      <td>231.93</td>\n",
       "      <td>5.09</td>\n",
       "      <td>97.14</td>\n",
       "      <td>761.84</td>\n",
       "      <td>19053.0</td>\n",
       "      <td>10</td>\n",
       "      <td>2021</td>\n",
       "      <td>9</td>\n",
       "      <td>30</td>\n",
       "      <td>3</td>\n",
       "      <td>273</td>\n",
       "    </tr>\n",
       "  </tbody>\n",
       "</table>\n",
       "</div>"
      ],
      "text/plain": [
       "       PC4      wd    ws   ssrd     blh  people_number  wd_group  year  month  \\\n",
       "1074  5625  241.47  4.74  72.34  572.76        14244.0        11  2021     10   \n",
       "798   5646  242.35  5.22  22.24  634.72        11305.0        11  2021     10   \n",
       "660   5622  143.87  3.28  61.76  598.95         8747.0         6  2021     10   \n",
       "645   5625  211.78  4.63  56.42  577.52        15358.0         9  2021     10   \n",
       "177   5623  231.93  5.09  97.14  761.84        19053.0        10  2021      9   \n",
       "\n",
       "      day  day_of_week  day_of_year  \n",
       "1074   27            2          300  \n",
       "798    19            1          292  \n",
       "660    15            4          288  \n",
       "645    14            3          287  \n",
       "177    30            3          273  "
      ]
     },
     "execution_count": 4,
     "metadata": {},
     "output_type": "execute_result"
    }
   ],
   "source": [
    "X.sample(5)"
   ]
  },
  {
   "cell_type": "markdown",
   "id": "1ed8c64e",
   "metadata": {},
   "source": [
    "<h4><font color=mediumvioletred>Get a sample of y </font></h4>"
   ]
  },
  {
   "cell_type": "code",
   "execution_count": 5,
   "id": "d1da2d20",
   "metadata": {
    "scrolled": true
   },
   "outputs": [
    {
     "data": {
      "text/plain": [
       "113      5.09\n",
       "333      2.93\n",
       "649     11.92\n",
       "787     12.61\n",
       "1374     7.79\n",
       "Name: pm2.5, dtype: float64"
      ]
     },
     "execution_count": 5,
     "metadata": {},
     "output_type": "execute_result"
    }
   ],
   "source": [
    "y.sample(5)"
   ]
  },
  {
   "cell_type": "markdown",
   "id": "df84c84a",
   "metadata": {},
   "source": [
    "<h4><font color=mediumvioletred>Split data into training and testing </font></h4>"
   ]
  },
  {
   "cell_type": "code",
   "execution_count": 6,
   "id": "02a514f3",
   "metadata": {},
   "outputs": [
    {
     "data": {
      "text/plain": [
       "(1452, 363)"
      ]
     },
     "execution_count": 6,
     "metadata": {},
     "output_type": "execute_result"
    }
   ],
   "source": [
    "df_train = df[((df.month == 11) & (df.day <= 7)) | (df.month < 11)]\n",
    "df_test = df[(df.month == 11) & (df.day > 7)]\n",
    "\n",
    "len(df_train), len(df_test)"
   ]
  },
  {
   "cell_type": "markdown",
   "id": "64199c79",
   "metadata": {},
   "source": [
    "<h4><font color=mediumvioletred>Split data into X & y </font></h4>"
   ]
  },
  {
   "cell_type": "code",
   "execution_count": 7,
   "id": "354d5cef",
   "metadata": {},
   "outputs": [
    {
     "data": {
      "text/plain": [
       "((1452, 12), (1452,), (363, 12), (363,))"
      ]
     },
     "execution_count": 7,
     "metadata": {},
     "output_type": "execute_result"
    }
   ],
   "source": [
    "X_train, y_train = df_train.drop(\"pm2.5\", axis=1), df_train[\"pm2.5\"]\n",
    "X_test, y_test = df_test.drop(\"pm2.5\", axis=1), df_test[\"pm2.5\"]\n",
    "\n",
    "X_train.shape, y_train.shape, X_test.shape, y_test.shape"
   ]
  },
  {
   "cell_type": "markdown",
   "id": "2437d2e2",
   "metadata": {},
   "source": [
    "<h4><font color=mediumvioletred>Create a method to evaluate model with Mean Absolute Error (MAE)</font></h4>\n",
    "\n",
    "MAE is the average of the absolute differences between predictions and actual values.\n",
    "It gives an idea of how wrong the model's predictions are."
   ]
  },
  {
   "cell_type": "code",
   "execution_count": 8,
   "id": "77e491d5",
   "metadata": {},
   "outputs": [],
   "source": [
    "def show_scores(model):\n",
    "    train_preds = model.predict(X_train)\n",
    "    test_preds = model.predict(X_test)\n",
    "    scores = {\n",
    "        \"Training MAE\": mean_absolute_error(y_train, train_preds),\n",
    "        \"Testing MAE\": mean_absolute_error(y_test, test_preds)\n",
    "    }\n",
    "    \n",
    "    return scores"
   ]
  },
  {
   "cell_type": "markdown",
   "id": "8c1d43ed",
   "metadata": {},
   "source": [
    "<h4><font color=mediumvioletred>Create a method to get a dataframe containing actual values, predictions and the differences between the two</font></h4>"
   ]
  },
  {
   "cell_type": "code",
   "execution_count": 9,
   "id": "8de71fb5",
   "metadata": {},
   "outputs": [],
   "source": [
    "def get_scores_dataframe(model):\n",
    "    test_preds = model.predict(X_test)\n",
    "    mae = mean_absolute_error(y_test, test_preds)\n",
    "\n",
    "    df = pd.DataFrame(data={\"actual values\": y_test,\n",
    "                           \"predicted values\": test_preds})\n",
    "\n",
    "    df[\"differences\"] = np.abs(df[\"predicted values\"] - df[\"actual values\"])\n",
    "\n",
    "    return df"
   ]
  },
  {
   "cell_type": "markdown",
   "id": "e8eb14a9",
   "metadata": {},
   "source": [
    "<h4><font color=mediumvioletred>Model with RandomForestRegressor </font></h4>"
   ]
  },
  {
   "cell_type": "code",
   "execution_count": 10,
   "id": "8da08b52",
   "metadata": {},
   "outputs": [
    {
     "data": {
      "text/plain": [
       "RandomForestRegressor(n_jobs=-1, random_state=42)"
      ]
     },
     "execution_count": 10,
     "metadata": {},
     "output_type": "execute_result"
    }
   ],
   "source": [
    "model = RandomForestRegressor(n_jobs=-1,\n",
    "                             random_state=42)\n",
    "\n",
    "# fit the model\n",
    "model.fit(X_train, y_train)"
   ]
  },
  {
   "cell_type": "code",
   "execution_count": 11,
   "id": "fc366a2a",
   "metadata": {},
   "outputs": [
    {
     "data": {
      "text/plain": [
       "{'Training MAE': 0.10919393939393951, 'Testing MAE': 10.048427548209366}"
      ]
     },
     "execution_count": 11,
     "metadata": {},
     "output_type": "execute_result"
    }
   ],
   "source": [
    "# score model\n",
    "show_scores(model)"
   ]
  },
  {
   "cell_type": "code",
   "execution_count": 12,
   "id": "406d0e1c",
   "metadata": {},
   "outputs": [
    {
     "data": {
      "text/html": [
       "<div>\n",
       "<style scoped>\n",
       "    .dataframe tbody tr th:only-of-type {\n",
       "        vertical-align: middle;\n",
       "    }\n",
       "\n",
       "    .dataframe tbody tr th {\n",
       "        vertical-align: top;\n",
       "    }\n",
       "\n",
       "    .dataframe thead th {\n",
       "        text-align: right;\n",
       "    }\n",
       "</style>\n",
       "<table border=\"1\" class=\"dataframe\">\n",
       "  <thead>\n",
       "    <tr style=\"text-align: right;\">\n",
       "      <th></th>\n",
       "      <th>actual values</th>\n",
       "      <th>predicted values</th>\n",
       "      <th>differences</th>\n",
       "    </tr>\n",
       "  </thead>\n",
       "  <tbody>\n",
       "    <tr>\n",
       "      <th>1626</th>\n",
       "      <td>8.50</td>\n",
       "      <td>7.7512</td>\n",
       "      <td>0.7488</td>\n",
       "    </tr>\n",
       "    <tr>\n",
       "      <th>1804</th>\n",
       "      <td>8.65</td>\n",
       "      <td>7.8698</td>\n",
       "      <td>0.7802</td>\n",
       "    </tr>\n",
       "    <tr>\n",
       "      <th>1623</th>\n",
       "      <td>8.46</td>\n",
       "      <td>7.6437</td>\n",
       "      <td>0.8163</td>\n",
       "    </tr>\n",
       "    <tr>\n",
       "      <th>1638</th>\n",
       "      <td>8.25</td>\n",
       "      <td>7.4113</td>\n",
       "      <td>0.8387</td>\n",
       "    </tr>\n",
       "    <tr>\n",
       "      <th>1645</th>\n",
       "      <td>8.58</td>\n",
       "      <td>7.6983</td>\n",
       "      <td>0.8817</td>\n",
       "    </tr>\n",
       "    <tr>\n",
       "      <th>1622</th>\n",
       "      <td>8.64</td>\n",
       "      <td>7.7425</td>\n",
       "      <td>0.8975</td>\n",
       "    </tr>\n",
       "    <tr>\n",
       "      <th>1618</th>\n",
       "      <td>8.73</td>\n",
       "      <td>7.6892</td>\n",
       "      <td>1.0408</td>\n",
       "    </tr>\n",
       "    <tr>\n",
       "      <th>1631</th>\n",
       "      <td>8.83</td>\n",
       "      <td>7.7856</td>\n",
       "      <td>1.0444</td>\n",
       "    </tr>\n",
       "    <tr>\n",
       "      <th>1628</th>\n",
       "      <td>8.67</td>\n",
       "      <td>7.4828</td>\n",
       "      <td>1.1872</td>\n",
       "    </tr>\n",
       "    <tr>\n",
       "      <th>1637</th>\n",
       "      <td>9.02</td>\n",
       "      <td>7.8250</td>\n",
       "      <td>1.1950</td>\n",
       "    </tr>\n",
       "  </tbody>\n",
       "</table>\n",
       "</div>"
      ],
      "text/plain": [
       "      actual values  predicted values  differences\n",
       "1626           8.50            7.7512       0.7488\n",
       "1804           8.65            7.8698       0.7802\n",
       "1623           8.46            7.6437       0.8163\n",
       "1638           8.25            7.4113       0.8387\n",
       "1645           8.58            7.6983       0.8817\n",
       "1622           8.64            7.7425       0.8975\n",
       "1618           8.73            7.6892       1.0408\n",
       "1631           8.83            7.7856       1.0444\n",
       "1628           8.67            7.4828       1.1872\n",
       "1637           9.02            7.8250       1.1950"
      ]
     },
     "execution_count": 12,
     "metadata": {},
     "output_type": "execute_result"
    }
   ],
   "source": [
    "# create dataframe containing actual values, predictions and the differences between them\n",
    "df = get_scores_dataframe(model)\n",
    "df.sort_values(by=\"differences\").head(10)"
   ]
  },
  {
   "cell_type": "markdown",
   "id": "1615bb6a",
   "metadata": {},
   "source": [
    "<h4><font color=mediumvioletred>Model with SGDClassifier </font></h4>"
   ]
  },
  {
   "cell_type": "code",
   "execution_count": 13,
   "id": "c988406b",
   "metadata": {},
   "outputs": [
    {
     "data": {
      "text/plain": [
       "SGDClassifier(n_jobs=-1, random_state=42)"
      ]
     },
     "execution_count": 13,
     "metadata": {},
     "output_type": "execute_result"
    }
   ],
   "source": [
    "model = SGDClassifier(n_jobs=-1,\n",
    "                        random_state=42)\n",
    "\n",
    "# fit the model\n",
    "model.fit(X_train, y_train.astype(int))"
   ]
  },
  {
   "cell_type": "code",
   "execution_count": 14,
   "id": "660a5391",
   "metadata": {},
   "outputs": [
    {
     "data": {
      "text/plain": [
       "{'Training MAE': 3.8308677685950414, 'Testing MAE': 11.02068870523416}"
      ]
     },
     "execution_count": 14,
     "metadata": {},
     "output_type": "execute_result"
    }
   ],
   "source": [
    "# score model\n",
    "show_scores(model)"
   ]
  },
  {
   "cell_type": "code",
   "execution_count": 15,
   "id": "1b492569",
   "metadata": {},
   "outputs": [
    {
     "data": {
      "text/html": [
       "<div>\n",
       "<style scoped>\n",
       "    .dataframe tbody tr th:only-of-type {\n",
       "        vertical-align: middle;\n",
       "    }\n",
       "\n",
       "    .dataframe tbody tr th {\n",
       "        vertical-align: top;\n",
       "    }\n",
       "\n",
       "    .dataframe thead th {\n",
       "        text-align: right;\n",
       "    }\n",
       "</style>\n",
       "<table border=\"1\" class=\"dataframe\">\n",
       "  <thead>\n",
       "    <tr style=\"text-align: right;\">\n",
       "      <th></th>\n",
       "      <th>actual values</th>\n",
       "      <th>predicted values</th>\n",
       "      <th>differences</th>\n",
       "    </tr>\n",
       "  </thead>\n",
       "  <tbody>\n",
       "    <tr>\n",
       "      <th>1637</th>\n",
       "      <td>9.02</td>\n",
       "      <td>9</td>\n",
       "      <td>0.02</td>\n",
       "    </tr>\n",
       "    <tr>\n",
       "      <th>1624</th>\n",
       "      <td>9.05</td>\n",
       "      <td>9</td>\n",
       "      <td>0.05</td>\n",
       "    </tr>\n",
       "    <tr>\n",
       "      <th>1764</th>\n",
       "      <td>18.05</td>\n",
       "      <td>18</td>\n",
       "      <td>0.05</td>\n",
       "    </tr>\n",
       "    <tr>\n",
       "      <th>1691</th>\n",
       "      <td>18.09</td>\n",
       "      <td>18</td>\n",
       "      <td>0.09</td>\n",
       "    </tr>\n",
       "    <tr>\n",
       "      <th>1640</th>\n",
       "      <td>9.16</td>\n",
       "      <td>9</td>\n",
       "      <td>0.16</td>\n",
       "    </tr>\n",
       "    <tr>\n",
       "      <th>1631</th>\n",
       "      <td>8.83</td>\n",
       "      <td>9</td>\n",
       "      <td>0.17</td>\n",
       "    </tr>\n",
       "    <tr>\n",
       "      <th>1629</th>\n",
       "      <td>9.18</td>\n",
       "      <td>9</td>\n",
       "      <td>0.18</td>\n",
       "    </tr>\n",
       "    <tr>\n",
       "      <th>1635</th>\n",
       "      <td>8.78</td>\n",
       "      <td>9</td>\n",
       "      <td>0.22</td>\n",
       "    </tr>\n",
       "    <tr>\n",
       "      <th>1644</th>\n",
       "      <td>9.23</td>\n",
       "      <td>9</td>\n",
       "      <td>0.23</td>\n",
       "    </tr>\n",
       "    <tr>\n",
       "      <th>1714</th>\n",
       "      <td>18.24</td>\n",
       "      <td>18</td>\n",
       "      <td>0.24</td>\n",
       "    </tr>\n",
       "  </tbody>\n",
       "</table>\n",
       "</div>"
      ],
      "text/plain": [
       "      actual values  predicted values  differences\n",
       "1637           9.02                 9         0.02\n",
       "1624           9.05                 9         0.05\n",
       "1764          18.05                18         0.05\n",
       "1691          18.09                18         0.09\n",
       "1640           9.16                 9         0.16\n",
       "1631           8.83                 9         0.17\n",
       "1629           9.18                 9         0.18\n",
       "1635           8.78                 9         0.22\n",
       "1644           9.23                 9         0.23\n",
       "1714          18.24                18         0.24"
      ]
     },
     "execution_count": 15,
     "metadata": {},
     "output_type": "execute_result"
    }
   ],
   "source": [
    "# create dataframe containing actual values, predictions and the differences between them\n",
    "df = get_scores_dataframe(model)\n",
    "df.sort_values(by=\"differences\").head(10)"
   ]
  },
  {
   "cell_type": "markdown",
   "id": "051d9f3d",
   "metadata": {},
   "source": [
    "<h4><font color=mediumvioletred>Model with BayesianRidge </font></h4>"
   ]
  },
  {
   "cell_type": "code",
   "execution_count": 16,
   "id": "f581ff8a",
   "metadata": {},
   "outputs": [
    {
     "data": {
      "text/plain": [
       "BayesianRidge()"
      ]
     },
     "execution_count": 16,
     "metadata": {},
     "output_type": "execute_result"
    }
   ],
   "source": [
    "model = BayesianRidge()\n",
    "\n",
    "# fit the model\n",
    "model.fit(X_train, y_train)"
   ]
  },
  {
   "cell_type": "code",
   "execution_count": 17,
   "id": "50444332",
   "metadata": {},
   "outputs": [
    {
     "data": {
      "text/plain": [
       "{'Training MAE': 2.0848596914772677, 'Testing MAE': 8.230464096394893}"
      ]
     },
     "execution_count": 17,
     "metadata": {},
     "output_type": "execute_result"
    }
   ],
   "source": [
    "# score model\n",
    "show_scores(model)"
   ]
  },
  {
   "cell_type": "code",
   "execution_count": 18,
   "id": "3f237fd9",
   "metadata": {},
   "outputs": [
    {
     "data": {
      "text/html": [
       "<div>\n",
       "<style scoped>\n",
       "    .dataframe tbody tr th:only-of-type {\n",
       "        vertical-align: middle;\n",
       "    }\n",
       "\n",
       "    .dataframe tbody tr th {\n",
       "        vertical-align: top;\n",
       "    }\n",
       "\n",
       "    .dataframe thead th {\n",
       "        text-align: right;\n",
       "    }\n",
       "</style>\n",
       "<table border=\"1\" class=\"dataframe\">\n",
       "  <thead>\n",
       "    <tr style=\"text-align: right;\">\n",
       "      <th></th>\n",
       "      <th>actual values</th>\n",
       "      <th>predicted values</th>\n",
       "      <th>differences</th>\n",
       "    </tr>\n",
       "  </thead>\n",
       "  <tbody>\n",
       "    <tr>\n",
       "      <th>1656</th>\n",
       "      <td>15.34</td>\n",
       "      <td>15.362499</td>\n",
       "      <td>0.022499</td>\n",
       "    </tr>\n",
       "    <tr>\n",
       "      <th>1794</th>\n",
       "      <td>9.66</td>\n",
       "      <td>9.633295</td>\n",
       "      <td>0.026705</td>\n",
       "    </tr>\n",
       "    <tr>\n",
       "      <th>1801</th>\n",
       "      <td>9.97</td>\n",
       "      <td>9.841261</td>\n",
       "      <td>0.128739</td>\n",
       "    </tr>\n",
       "    <tr>\n",
       "      <th>1464</th>\n",
       "      <td>12.55</td>\n",
       "      <td>12.883934</td>\n",
       "      <td>0.333934</td>\n",
       "    </tr>\n",
       "    <tr>\n",
       "      <th>1453</th>\n",
       "      <td>13.77</td>\n",
       "      <td>13.426157</td>\n",
       "      <td>0.343843</td>\n",
       "    </tr>\n",
       "    <tr>\n",
       "      <th>1788</th>\n",
       "      <td>9.86</td>\n",
       "      <td>9.409350</td>\n",
       "      <td>0.450650</td>\n",
       "    </tr>\n",
       "    <tr>\n",
       "      <th>1814</th>\n",
       "      <td>9.77</td>\n",
       "      <td>9.276628</td>\n",
       "      <td>0.493372</td>\n",
       "    </tr>\n",
       "    <tr>\n",
       "      <th>1702</th>\n",
       "      <td>14.18</td>\n",
       "      <td>13.604589</td>\n",
       "      <td>0.575411</td>\n",
       "    </tr>\n",
       "    <tr>\n",
       "      <th>1797</th>\n",
       "      <td>10.41</td>\n",
       "      <td>9.765023</td>\n",
       "      <td>0.644977</td>\n",
       "    </tr>\n",
       "    <tr>\n",
       "      <th>1804</th>\n",
       "      <td>8.65</td>\n",
       "      <td>9.319531</td>\n",
       "      <td>0.669531</td>\n",
       "    </tr>\n",
       "  </tbody>\n",
       "</table>\n",
       "</div>"
      ],
      "text/plain": [
       "      actual values  predicted values  differences\n",
       "1656          15.34         15.362499     0.022499\n",
       "1794           9.66          9.633295     0.026705\n",
       "1801           9.97          9.841261     0.128739\n",
       "1464          12.55         12.883934     0.333934\n",
       "1453          13.77         13.426157     0.343843\n",
       "1788           9.86          9.409350     0.450650\n",
       "1814           9.77          9.276628     0.493372\n",
       "1702          14.18         13.604589     0.575411\n",
       "1797          10.41          9.765023     0.644977\n",
       "1804           8.65          9.319531     0.669531"
      ]
     },
     "execution_count": 18,
     "metadata": {},
     "output_type": "execute_result"
    }
   ],
   "source": [
    "# create dataframe containing actual values, predictions and the differences between them\n",
    "df = get_scores_dataframe(model)\n",
    "df.sort_values(by=\"differences\").head(10)"
   ]
  },
  {
   "cell_type": "markdown",
   "id": "bbb23291",
   "metadata": {},
   "source": [
    "<h4><font color=mediumvioletred>Model with Lasso </font></h4>"
   ]
  },
  {
   "cell_type": "code",
   "execution_count": 19,
   "id": "67a3327d",
   "metadata": {},
   "outputs": [
    {
     "data": {
      "text/plain": [
       "LassoLars(alpha=0.1, normalize=False, random_state=42)"
      ]
     },
     "execution_count": 19,
     "metadata": {},
     "output_type": "execute_result"
    }
   ],
   "source": [
    "model = LassoLars(alpha=.1, \n",
    "                  normalize=False,\n",
    "                  random_state=42)\n",
    "\n",
    "# fit the model\n",
    "model.fit(X_train, y_train)"
   ]
  },
  {
   "cell_type": "code",
   "execution_count": 20,
   "id": "6c62aca6",
   "metadata": {},
   "outputs": [
    {
     "data": {
      "text/plain": [
       "{'Training MAE': 2.094663152181518, 'Testing MAE': 8.479539159568935}"
      ]
     },
     "execution_count": 20,
     "metadata": {},
     "output_type": "execute_result"
    }
   ],
   "source": [
    "# score model\n",
    "show_scores(model)"
   ]
  },
  {
   "cell_type": "code",
   "execution_count": 21,
   "id": "9b74e8af",
   "metadata": {},
   "outputs": [
    {
     "data": {
      "text/html": [
       "<div>\n",
       "<style scoped>\n",
       "    .dataframe tbody tr th:only-of-type {\n",
       "        vertical-align: middle;\n",
       "    }\n",
       "\n",
       "    .dataframe tbody tr th {\n",
       "        vertical-align: top;\n",
       "    }\n",
       "\n",
       "    .dataframe thead th {\n",
       "        text-align: right;\n",
       "    }\n",
       "</style>\n",
       "<table border=\"1\" class=\"dataframe\">\n",
       "  <thead>\n",
       "    <tr style=\"text-align: right;\">\n",
       "      <th></th>\n",
       "      <th>actual values</th>\n",
       "      <th>predicted values</th>\n",
       "      <th>differences</th>\n",
       "    </tr>\n",
       "  </thead>\n",
       "  <tbody>\n",
       "    <tr>\n",
       "      <th>1797</th>\n",
       "      <td>10.41</td>\n",
       "      <td>10.377485</td>\n",
       "      <td>0.032515</td>\n",
       "    </tr>\n",
       "    <tr>\n",
       "      <th>1814</th>\n",
       "      <td>9.77</td>\n",
       "      <td>9.896485</td>\n",
       "      <td>0.126485</td>\n",
       "    </tr>\n",
       "    <tr>\n",
       "      <th>1788</th>\n",
       "      <td>9.86</td>\n",
       "      <td>10.036764</td>\n",
       "      <td>0.176764</td>\n",
       "    </tr>\n",
       "    <tr>\n",
       "      <th>1791</th>\n",
       "      <td>10.58</td>\n",
       "      <td>10.326850</td>\n",
       "      <td>0.253150</td>\n",
       "    </tr>\n",
       "    <tr>\n",
       "      <th>1702</th>\n",
       "      <td>14.18</td>\n",
       "      <td>13.919129</td>\n",
       "      <td>0.260871</td>\n",
       "    </tr>\n",
       "    <tr>\n",
       "      <th>1810</th>\n",
       "      <td>10.72</td>\n",
       "      <td>10.440127</td>\n",
       "      <td>0.279873</td>\n",
       "    </tr>\n",
       "    <tr>\n",
       "      <th>1464</th>\n",
       "      <td>12.55</td>\n",
       "      <td>12.215642</td>\n",
       "      <td>0.334358</td>\n",
       "    </tr>\n",
       "    <tr>\n",
       "      <th>1786</th>\n",
       "      <td>10.60</td>\n",
       "      <td>10.172955</td>\n",
       "      <td>0.427045</td>\n",
       "    </tr>\n",
       "    <tr>\n",
       "      <th>1656</th>\n",
       "      <td>15.34</td>\n",
       "      <td>14.900739</td>\n",
       "      <td>0.439261</td>\n",
       "    </tr>\n",
       "    <tr>\n",
       "      <th>1793</th>\n",
       "      <td>10.53</td>\n",
       "      <td>10.065132</td>\n",
       "      <td>0.464868</td>\n",
       "    </tr>\n",
       "  </tbody>\n",
       "</table>\n",
       "</div>"
      ],
      "text/plain": [
       "      actual values  predicted values  differences\n",
       "1797          10.41         10.377485     0.032515\n",
       "1814           9.77          9.896485     0.126485\n",
       "1788           9.86         10.036764     0.176764\n",
       "1791          10.58         10.326850     0.253150\n",
       "1702          14.18         13.919129     0.260871\n",
       "1810          10.72         10.440127     0.279873\n",
       "1464          12.55         12.215642     0.334358\n",
       "1786          10.60         10.172955     0.427045\n",
       "1656          15.34         14.900739     0.439261\n",
       "1793          10.53         10.065132     0.464868"
      ]
     },
     "execution_count": 21,
     "metadata": {},
     "output_type": "execute_result"
    }
   ],
   "source": [
    "# create dataframe containing actual values, predictions and the differences between them\n",
    "df = get_scores_dataframe(model)\n",
    "df.sort_values(by=\"differences\").head(10)"
   ]
  },
  {
   "cell_type": "markdown",
   "id": "45d3664c",
   "metadata": {},
   "source": [
    "<h4><font color=mediumvioletred>Model with ElasticNet </font></h4>"
   ]
  },
  {
   "cell_type": "code",
   "execution_count": 22,
   "id": "dde87c2b",
   "metadata": {},
   "outputs": [
    {
     "data": {
      "text/plain": [
       "ElasticNet(random_state=42)"
      ]
     },
     "execution_count": 22,
     "metadata": {},
     "output_type": "execute_result"
    }
   ],
   "source": [
    "model = ElasticNet(random_state=42)\n",
    "\n",
    "# fit the model\n",
    "model.fit(X_train, y_train)"
   ]
  },
  {
   "cell_type": "code",
   "execution_count": 23,
   "id": "7dd8bfbb",
   "metadata": {},
   "outputs": [
    {
     "data": {
      "text/plain": [
       "{'Training MAE': 2.087054905914408, 'Testing MAE': 8.523340636969989}"
      ]
     },
     "execution_count": 23,
     "metadata": {},
     "output_type": "execute_result"
    }
   ],
   "source": [
    "# score model\n",
    "show_scores(model)"
   ]
  },
  {
   "cell_type": "code",
   "execution_count": 24,
   "id": "83f86332",
   "metadata": {},
   "outputs": [
    {
     "data": {
      "text/html": [
       "<div>\n",
       "<style scoped>\n",
       "    .dataframe tbody tr th:only-of-type {\n",
       "        vertical-align: middle;\n",
       "    }\n",
       "\n",
       "    .dataframe tbody tr th {\n",
       "        vertical-align: top;\n",
       "    }\n",
       "\n",
       "    .dataframe thead th {\n",
       "        text-align: right;\n",
       "    }\n",
       "</style>\n",
       "<table border=\"1\" class=\"dataframe\">\n",
       "  <thead>\n",
       "    <tr style=\"text-align: right;\">\n",
       "      <th></th>\n",
       "      <th>actual values</th>\n",
       "      <th>predicted values</th>\n",
       "      <th>differences</th>\n",
       "    </tr>\n",
       "  </thead>\n",
       "  <tbody>\n",
       "    <tr>\n",
       "      <th>1810</th>\n",
       "      <td>10.72</td>\n",
       "      <td>10.722897</td>\n",
       "      <td>0.002897</td>\n",
       "    </tr>\n",
       "    <tr>\n",
       "      <th>1791</th>\n",
       "      <td>10.58</td>\n",
       "      <td>10.623403</td>\n",
       "      <td>0.043403</td>\n",
       "    </tr>\n",
       "    <tr>\n",
       "      <th>1786</th>\n",
       "      <td>10.60</td>\n",
       "      <td>10.478008</td>\n",
       "      <td>0.121992</td>\n",
       "    </tr>\n",
       "    <tr>\n",
       "      <th>1702</th>\n",
       "      <td>14.18</td>\n",
       "      <td>14.307816</td>\n",
       "      <td>0.127816</td>\n",
       "    </tr>\n",
       "    <tr>\n",
       "      <th>1793</th>\n",
       "      <td>10.53</td>\n",
       "      <td>10.383361</td>\n",
       "      <td>0.146639</td>\n",
       "    </tr>\n",
       "    <tr>\n",
       "      <th>1787</th>\n",
       "      <td>10.75</td>\n",
       "      <td>10.522533</td>\n",
       "      <td>0.227467</td>\n",
       "    </tr>\n",
       "    <tr>\n",
       "      <th>1797</th>\n",
       "      <td>10.41</td>\n",
       "      <td>10.670780</td>\n",
       "      <td>0.260780</td>\n",
       "    </tr>\n",
       "    <tr>\n",
       "      <th>1795</th>\n",
       "      <td>10.92</td>\n",
       "      <td>10.647575</td>\n",
       "      <td>0.272425</td>\n",
       "    </tr>\n",
       "    <tr>\n",
       "      <th>1783</th>\n",
       "      <td>10.72</td>\n",
       "      <td>10.439159</td>\n",
       "      <td>0.280841</td>\n",
       "    </tr>\n",
       "    <tr>\n",
       "      <th>1464</th>\n",
       "      <td>12.55</td>\n",
       "      <td>12.220496</td>\n",
       "      <td>0.329504</td>\n",
       "    </tr>\n",
       "  </tbody>\n",
       "</table>\n",
       "</div>"
      ],
      "text/plain": [
       "      actual values  predicted values  differences\n",
       "1810          10.72         10.722897     0.002897\n",
       "1791          10.58         10.623403     0.043403\n",
       "1786          10.60         10.478008     0.121992\n",
       "1702          14.18         14.307816     0.127816\n",
       "1793          10.53         10.383361     0.146639\n",
       "1787          10.75         10.522533     0.227467\n",
       "1797          10.41         10.670780     0.260780\n",
       "1795          10.92         10.647575     0.272425\n",
       "1783          10.72         10.439159     0.280841\n",
       "1464          12.55         12.220496     0.329504"
      ]
     },
     "execution_count": 24,
     "metadata": {},
     "output_type": "execute_result"
    }
   ],
   "source": [
    "# create dataframe containing actual values, predictions and the differences between them\n",
    "df = get_scores_dataframe(model)\n",
    "df.sort_values(by=\"differences\").head(10)"
   ]
  },
  {
   "cell_type": "markdown",
   "id": "23cf13b8",
   "metadata": {},
   "source": [
    "<h4><font color=mediumvioletred>Model with SVR </font></h4>"
   ]
  },
  {
   "cell_type": "code",
   "execution_count": 25,
   "id": "dedf10a8",
   "metadata": {},
   "outputs": [
    {
     "data": {
      "text/plain": [
       "SVR()"
      ]
     },
     "execution_count": 25,
     "metadata": {},
     "output_type": "execute_result"
    }
   ],
   "source": [
    "model = SVR()\n",
    "\n",
    "# fit the model\n",
    "model.fit(X_train, y_train)"
   ]
  },
  {
   "cell_type": "code",
   "execution_count": 26,
   "id": "803528cc",
   "metadata": {},
   "outputs": [
    {
     "data": {
      "text/plain": [
       "{'Training MAE': 3.2839524378070912, 'Testing MAE': 13.459282342993536}"
      ]
     },
     "execution_count": 26,
     "metadata": {},
     "output_type": "execute_result"
    }
   ],
   "source": [
    "# score model\n",
    "show_scores(model)"
   ]
  },
  {
   "cell_type": "code",
   "execution_count": 27,
   "id": "c59c13fa",
   "metadata": {},
   "outputs": [
    {
     "data": {
      "text/html": [
       "<div>\n",
       "<style scoped>\n",
       "    .dataframe tbody tr th:only-of-type {\n",
       "        vertical-align: middle;\n",
       "    }\n",
       "\n",
       "    .dataframe tbody tr th {\n",
       "        vertical-align: top;\n",
       "    }\n",
       "\n",
       "    .dataframe thead th {\n",
       "        text-align: right;\n",
       "    }\n",
       "</style>\n",
       "<table border=\"1\" class=\"dataframe\">\n",
       "  <thead>\n",
       "    <tr style=\"text-align: right;\">\n",
       "      <th></th>\n",
       "      <th>actual values</th>\n",
       "      <th>predicted values</th>\n",
       "      <th>differences</th>\n",
       "    </tr>\n",
       "  </thead>\n",
       "  <tbody>\n",
       "    <tr>\n",
       "      <th>1623</th>\n",
       "      <td>8.46</td>\n",
       "      <td>7.090067</td>\n",
       "      <td>1.369933</td>\n",
       "    </tr>\n",
       "    <tr>\n",
       "      <th>1626</th>\n",
       "      <td>8.50</td>\n",
       "      <td>7.036318</td>\n",
       "      <td>1.463682</td>\n",
       "    </tr>\n",
       "    <tr>\n",
       "      <th>1638</th>\n",
       "      <td>8.25</td>\n",
       "      <td>6.775773</td>\n",
       "      <td>1.474227</td>\n",
       "    </tr>\n",
       "    <tr>\n",
       "      <th>1645</th>\n",
       "      <td>8.58</td>\n",
       "      <td>7.013954</td>\n",
       "      <td>1.566046</td>\n",
       "    </tr>\n",
       "    <tr>\n",
       "      <th>1622</th>\n",
       "      <td>8.64</td>\n",
       "      <td>7.028504</td>\n",
       "      <td>1.611496</td>\n",
       "    </tr>\n",
       "    <tr>\n",
       "      <th>1804</th>\n",
       "      <td>8.65</td>\n",
       "      <td>6.875179</td>\n",
       "      <td>1.774821</td>\n",
       "    </tr>\n",
       "    <tr>\n",
       "      <th>1628</th>\n",
       "      <td>8.67</td>\n",
       "      <td>6.780314</td>\n",
       "      <td>1.889686</td>\n",
       "    </tr>\n",
       "    <tr>\n",
       "      <th>1618</th>\n",
       "      <td>8.73</td>\n",
       "      <td>6.805302</td>\n",
       "      <td>1.924698</td>\n",
       "    </tr>\n",
       "    <tr>\n",
       "      <th>1631</th>\n",
       "      <td>8.83</td>\n",
       "      <td>6.891643</td>\n",
       "      <td>1.938357</td>\n",
       "    </tr>\n",
       "    <tr>\n",
       "      <th>1624</th>\n",
       "      <td>9.05</td>\n",
       "      <td>7.046316</td>\n",
       "      <td>2.003684</td>\n",
       "    </tr>\n",
       "  </tbody>\n",
       "</table>\n",
       "</div>"
      ],
      "text/plain": [
       "      actual values  predicted values  differences\n",
       "1623           8.46          7.090067     1.369933\n",
       "1626           8.50          7.036318     1.463682\n",
       "1638           8.25          6.775773     1.474227\n",
       "1645           8.58          7.013954     1.566046\n",
       "1622           8.64          7.028504     1.611496\n",
       "1804           8.65          6.875179     1.774821\n",
       "1628           8.67          6.780314     1.889686\n",
       "1618           8.73          6.805302     1.924698\n",
       "1631           8.83          6.891643     1.938357\n",
       "1624           9.05          7.046316     2.003684"
      ]
     },
     "execution_count": 27,
     "metadata": {},
     "output_type": "execute_result"
    }
   ],
   "source": [
    "# create dataframe containing actual values, predictions and the differences between them\n",
    "df = get_scores_dataframe(model)\n",
    "df.sort_values(by=\"differences\").head(10)"
   ]
  },
  {
   "cell_type": "markdown",
   "id": "9ec083f0",
   "metadata": {},
   "source": [
    "<h4><font color=mediumvioletred>Model with GradientBoostingRegressor </font></h4>"
   ]
  },
  {
   "cell_type": "code",
   "execution_count": 28,
   "id": "fbf18f41",
   "metadata": {},
   "outputs": [
    {
     "data": {
      "text/plain": [
       "GradientBoostingRegressor(max_depth=1, random_state=42)"
      ]
     },
     "execution_count": 28,
     "metadata": {},
     "output_type": "execute_result"
    }
   ],
   "source": [
    "model = GradientBoostingRegressor(n_estimators=100, \n",
    "                                  learning_rate=0.1, \n",
    "                                  max_depth=1,\n",
    "                                  random_state=42)\n",
    "\n",
    "# fit the model\n",
    "model.fit(X_train, y_train)"
   ]
  },
  {
   "cell_type": "code",
   "execution_count": 29,
   "id": "1abd53d2",
   "metadata": {},
   "outputs": [
    {
     "data": {
      "text/plain": [
       "{'Training MAE': 1.1383582504490593, 'Testing MAE': 9.292324551476502}"
      ]
     },
     "execution_count": 29,
     "metadata": {},
     "output_type": "execute_result"
    }
   ],
   "source": [
    "# score model\n",
    "show_scores(model)"
   ]
  },
  {
   "cell_type": "code",
   "execution_count": 30,
   "id": "8c12d79e",
   "metadata": {},
   "outputs": [
    {
     "data": {
      "text/html": [
       "<div>\n",
       "<style scoped>\n",
       "    .dataframe tbody tr th:only-of-type {\n",
       "        vertical-align: middle;\n",
       "    }\n",
       "\n",
       "    .dataframe tbody tr th {\n",
       "        vertical-align: top;\n",
       "    }\n",
       "\n",
       "    .dataframe thead th {\n",
       "        text-align: right;\n",
       "    }\n",
       "</style>\n",
       "<table border=\"1\" class=\"dataframe\">\n",
       "  <thead>\n",
       "    <tr style=\"text-align: right;\">\n",
       "      <th></th>\n",
       "      <th>actual values</th>\n",
       "      <th>predicted values</th>\n",
       "      <th>differences</th>\n",
       "    </tr>\n",
       "  </thead>\n",
       "  <tbody>\n",
       "    <tr>\n",
       "      <th>1481</th>\n",
       "      <td>14.35</td>\n",
       "      <td>14.207020</td>\n",
       "      <td>0.142980</td>\n",
       "    </tr>\n",
       "    <tr>\n",
       "      <th>1456</th>\n",
       "      <td>14.37</td>\n",
       "      <td>14.207020</td>\n",
       "      <td>0.162980</td>\n",
       "    </tr>\n",
       "    <tr>\n",
       "      <th>1461</th>\n",
       "      <td>14.61</td>\n",
       "      <td>14.403874</td>\n",
       "      <td>0.206126</td>\n",
       "    </tr>\n",
       "    <tr>\n",
       "      <th>1453</th>\n",
       "      <td>13.77</td>\n",
       "      <td>14.207020</td>\n",
       "      <td>0.437020</td>\n",
       "    </tr>\n",
       "    <tr>\n",
       "      <th>1484</th>\n",
       "      <td>13.70</td>\n",
       "      <td>14.207020</td>\n",
       "      <td>0.507020</td>\n",
       "    </tr>\n",
       "    <tr>\n",
       "      <th>1475</th>\n",
       "      <td>14.75</td>\n",
       "      <td>14.207020</td>\n",
       "      <td>0.542980</td>\n",
       "    </tr>\n",
       "    <tr>\n",
       "      <th>1638</th>\n",
       "      <td>8.25</td>\n",
       "      <td>7.696700</td>\n",
       "      <td>0.553300</td>\n",
       "    </tr>\n",
       "    <tr>\n",
       "      <th>1623</th>\n",
       "      <td>8.46</td>\n",
       "      <td>7.696700</td>\n",
       "      <td>0.763300</td>\n",
       "    </tr>\n",
       "    <tr>\n",
       "      <th>1626</th>\n",
       "      <td>8.50</td>\n",
       "      <td>7.696700</td>\n",
       "      <td>0.803300</td>\n",
       "    </tr>\n",
       "    <tr>\n",
       "      <th>1463</th>\n",
       "      <td>15.02</td>\n",
       "      <td>14.207020</td>\n",
       "      <td>0.812980</td>\n",
       "    </tr>\n",
       "  </tbody>\n",
       "</table>\n",
       "</div>"
      ],
      "text/plain": [
       "      actual values  predicted values  differences\n",
       "1481          14.35         14.207020     0.142980\n",
       "1456          14.37         14.207020     0.162980\n",
       "1461          14.61         14.403874     0.206126\n",
       "1453          13.77         14.207020     0.437020\n",
       "1484          13.70         14.207020     0.507020\n",
       "1475          14.75         14.207020     0.542980\n",
       "1638           8.25          7.696700     0.553300\n",
       "1623           8.46          7.696700     0.763300\n",
       "1626           8.50          7.696700     0.803300\n",
       "1463          15.02         14.207020     0.812980"
      ]
     },
     "execution_count": 30,
     "metadata": {},
     "output_type": "execute_result"
    }
   ],
   "source": [
    "# create dataframe containing actual values, predictions and the differences between them\n",
    "df = get_scores_dataframe(model)\n",
    "df.sort_values(by=\"differences\").head(10)"
   ]
  },
  {
   "cell_type": "markdown",
   "id": "6930a7f6",
   "metadata": {},
   "source": [
    "<h4><font color=mediumvioletred>Conclusion </font></h4>"
   ]
  },
  {
   "cell_type": "markdown",
   "id": "f2e7989a",
   "metadata": {},
   "source": [
    "After calculating the MAE (average of the absolute differences between predictions and actual values), we found that the following models had the best predictions:\n",
    "* BayesianRidge: 8.23\n",
    "* Lasso: 8.47\n",
    "* ElasticNet: 8.52\n",
    "\n",
    "**However, this is still insufficient. This might be a result of insufficient data and unhandled outliers.**"
   ]
  }
 ],
 "metadata": {
  "kernelspec": {
   "display_name": "Python 3 (ipykernel)",
   "language": "python",
   "name": "python3"
  },
  "language_info": {
   "codemirror_mode": {
    "name": "ipython",
    "version": 3
   },
   "file_extension": ".py",
   "mimetype": "text/x-python",
   "name": "python",
   "nbconvert_exporter": "python",
   "pygments_lexer": "ipython3",
   "version": "3.9.13"
  }
 },
 "nbformat": 4,
 "nbformat_minor": 5
}
