{
 "cells": [
  {
   "cell_type": "markdown",
   "id": "90a4671f",
   "metadata": {},
   "source": [
    "<h1 style=\"font-size:3rem;color:maroon;\"> Predicting Air Pollution Level using Machine Learning</h1>\n",
    "\n",
    "This notebook looks into using various Python-based machine learning and data science libraries in an attempt to build a machine learning model capable of predicting air pollution level in an area in Eindhoven in the upcoming week.\n",
    "\n",
    "We're going to take the following approach:\n",
    "1. Problem definition\n",
    "2. Data\n",
    "3. Features\n",
    "4. Data Exploration & Visualization\n",
    "5. Data Preparation\n",
    "6. Modelling"
   ]
  },
  {
   "cell_type": "markdown",
   "id": "2fb30f1f",
   "metadata": {},
   "source": [
    "<h2><font color=slateblue> 1. Problem Definition </font></h2>\n",
    "\n",
    "In a statement,\n",
    "> Given historical pollution data, weather data and people going through an area, can we predict air pollution level (fine particle matter level pm2.5) in an area in Eindhoven in the upcoming week?"
   ]
  },
  {
   "cell_type": "markdown",
   "id": "cb8f4787",
   "metadata": {},
   "source": [
    "<h2><font color=slateblue> 2. Data </font></h2>\n",
    "\n",
    "The data is provided by TNO and Zicht op Data."
   ]
  },
  {
   "cell_type": "markdown",
   "id": "cbd70547",
   "metadata": {},
   "source": [
    "<h2><font color=slateblue> 3. Features </font></h2>\n",
    "\n",
    "This is where you'll get different information about each of the features in our data.\n",
    "\n",
    "We have three separate datasets for the period between 25-09-2021 and 30-12-2021:\n",
    "\n",
    "**Air pollution**\n",
    "* date: date in ymd_hms\n",
    "* PC4: postcode\n",
    "* pm2.5: particulate matter <2.5um in ug/m3\n",
    "* pm10: particulate matter <10um in ug/m3\n",
    "* no2: nitrogen dioxide in ug/m3\n",
    "* no: nitrogen oxide in ug/m3\n",
    "* so2: sulphur dioxide in ug/m3\n",
    "\n",
    "\n",
    "**Meteo**\n",
    "* date: date in ymd_hms\n",
    "* PC4: postcode\n",
    "* wd: wind direction in degrees 0-360\n",
    "* ws: wind speed in m/s\n",
    "* blh: boundary layer height in metres\n",
    "* tcc: total cloud cover in oktas (0-9)\n",
    "* ssrd: solar surface radiation downwards in W/m2 \n",
    "\n",
    "(see https://cds.climate.copernicus.eu/cdsapp#!/dataset/reanalysis-era5-single-levels?tab=overview for more information)\n",
    "\n",
    "**Zichtop**\n",
    "* PC4: postcode\n",
    "* date: date in ymd_hms\n",
    "* pop_tot: total number of people in PC4 for each time step\n",
    "* m00_30: number of people who have been there for up to 30 minutes\n",
    "* m30_60: number of people who have been there for 30 and 60 minutes\n",
    "* H1_2: number of people who have been there for 1 and 2 hours\n",
    "* H2_4: number of people who have been there for 2 and 4 hours\n",
    "* H4_8: number of people who have been there for 4 and 8 hours\n",
    "* H8_16: number of people who have been there for 8 and 16 hours\n",
    "* H16plus: number of people who have been there for over 16 hours"
   ]
  },
  {
   "cell_type": "markdown",
   "id": "4c0c3f50",
   "metadata": {},
   "source": [
    "<h2><font color=slateblue> 4. Data Exploration & Visualization </font></h2>"
   ]
  },
  {
   "cell_type": "markdown",
   "id": "e4a00781",
   "metadata": {},
   "source": [
    "<h3><font color=steelblue>Pollution dataset </font></h3>"
   ]
  },
  {
   "cell_type": "markdown",
   "id": "c4fb57a3",
   "metadata": {},
   "source": [
    "<h4><font color=mediumvioletred>Setup</font></h4>"
   ]
  },
  {
   "cell_type": "code",
   "execution_count": 1,
   "id": "074fdc9e",
   "metadata": {},
   "outputs": [],
   "source": [
    "import pandas as pd\n",
    "import numpy as np\n",
    "import matplotlib.pyplot as plt\n",
    "import seaborn as sns\n",
    "from datetime import datetime, date, timedelta\n",
    "plt.style.use(\"ggplot\")"
   ]
  },
  {
   "cell_type": "markdown",
   "id": "961beabe",
   "metadata": {},
   "source": [
    "<h4><font color=mediumvioletred>Read CSV files</font></h4>"
   ]
  },
  {
   "cell_type": "code",
   "execution_count": 2,
   "id": "c2da62b6",
   "metadata": {},
   "outputs": [],
   "source": [
    "df_ap_np = pd.read_csv('data/air_pollution.csv')\n",
    "df_ap = pd.read_csv(\"data/air_pollution.csv\", parse_dates=[\"date\"])\n",
    "df_ap_per_date_per_postalcode = df_ap.groupby([pd.Grouper(freq='D', key='date'),\n",
    "                     'PC4']).mean()"
   ]
  },
  {
   "cell_type": "markdown",
   "id": "72d5010f",
   "metadata": {},
   "source": [
    "<h4><font color=mediumvioletred>Get some info about each column (type, number of null values..)</font></h4>"
   ]
  },
  {
   "cell_type": "code",
   "execution_count": 3,
   "id": "a646f7b3",
   "metadata": {
    "scrolled": false
   },
   "outputs": [
    {
     "name": "stdout",
     "output_type": "stream",
     "text": [
      "<class 'pandas.core.frame.DataFrame'>\n",
      "RangeIndex: 76824 entries, 0 to 76823\n",
      "Data columns (total 7 columns):\n",
      " #   Column  Non-Null Count  Dtype         \n",
      "---  ------  --------------  -----         \n",
      " 0   date    76824 non-null  datetime64[ns]\n",
      " 1   PC4     76824 non-null  int64         \n",
      " 2   pm10    76824 non-null  float64       \n",
      " 3   pm2.5   76824 non-null  float64       \n",
      " 4   no2     76824 non-null  float64       \n",
      " 5   no      76824 non-null  float64       \n",
      " 6   so2     76824 non-null  float64       \n",
      "dtypes: datetime64[ns](1), float64(5), int64(1)\n",
      "memory usage: 4.1 MB\n"
     ]
    }
   ],
   "source": [
    "df_ap.info()"
   ]
  },
  {
   "cell_type": "markdown",
   "id": "02aa605b",
   "metadata": {},
   "source": [
    "<h4><font color=mediumvioletred>Get the generate descriptive statistics of the columns</font></h4>"
   ]
  },
  {
   "cell_type": "code",
   "execution_count": 4,
   "id": "92f789c6",
   "metadata": {},
   "outputs": [
    {
     "data": {
      "text/html": [
       "<div>\n",
       "<style scoped>\n",
       "    .dataframe tbody tr th:only-of-type {\n",
       "        vertical-align: middle;\n",
       "    }\n",
       "\n",
       "    .dataframe tbody tr th {\n",
       "        vertical-align: top;\n",
       "    }\n",
       "\n",
       "    .dataframe thead th {\n",
       "        text-align: right;\n",
       "    }\n",
       "</style>\n",
       "<table border=\"1\" class=\"dataframe\">\n",
       "  <thead>\n",
       "    <tr style=\"text-align: right;\">\n",
       "      <th></th>\n",
       "      <th>PC4</th>\n",
       "      <th>pm10</th>\n",
       "      <th>pm2.5</th>\n",
       "      <th>no2</th>\n",
       "      <th>no</th>\n",
       "      <th>so2</th>\n",
       "    </tr>\n",
       "  </thead>\n",
       "  <tbody>\n",
       "    <tr>\n",
       "      <th>count</th>\n",
       "      <td>76824.000000</td>\n",
       "      <td>76824.000000</td>\n",
       "      <td>76824.000000</td>\n",
       "      <td>76824.000000</td>\n",
       "      <td>76824.000000</td>\n",
       "      <td>76824.000000</td>\n",
       "    </tr>\n",
       "    <tr>\n",
       "      <th>mean</th>\n",
       "      <td>5633.818182</td>\n",
       "      <td>19.300461</td>\n",
       "      <td>19.306449</td>\n",
       "      <td>25.810896</td>\n",
       "      <td>14.578421</td>\n",
       "      <td>3.419556</td>\n",
       "    </tr>\n",
       "    <tr>\n",
       "      <th>std</th>\n",
       "      <td>15.168756</td>\n",
       "      <td>12.790363</td>\n",
       "      <td>19.325968</td>\n",
       "      <td>13.715641</td>\n",
       "      <td>12.749047</td>\n",
       "      <td>3.060791</td>\n",
       "    </tr>\n",
       "    <tr>\n",
       "      <th>min</th>\n",
       "      <td>5611.000000</td>\n",
       "      <td>0.491714</td>\n",
       "      <td>0.419603</td>\n",
       "      <td>1.665652</td>\n",
       "      <td>0.000398</td>\n",
       "      <td>0.000000</td>\n",
       "    </tr>\n",
       "    <tr>\n",
       "      <th>25%</th>\n",
       "      <td>5622.000000</td>\n",
       "      <td>9.789488</td>\n",
       "      <td>5.986320</td>\n",
       "      <td>14.671372</td>\n",
       "      <td>4.785573</td>\n",
       "      <td>1.330161</td>\n",
       "    </tr>\n",
       "    <tr>\n",
       "      <th>50%</th>\n",
       "      <td>5631.000000</td>\n",
       "      <td>16.246310</td>\n",
       "      <td>12.186803</td>\n",
       "      <td>23.211536</td>\n",
       "      <td>12.002913</td>\n",
       "      <td>2.583675</td>\n",
       "    </tr>\n",
       "    <tr>\n",
       "      <th>75%</th>\n",
       "      <td>5646.000000</td>\n",
       "      <td>26.378854</td>\n",
       "      <td>26.603072</td>\n",
       "      <td>35.263642</td>\n",
       "      <td>22.173757</td>\n",
       "      <td>4.383727</td>\n",
       "    </tr>\n",
       "    <tr>\n",
       "      <th>max</th>\n",
       "      <td>5658.000000</td>\n",
       "      <td>89.593300</td>\n",
       "      <td>144.709400</td>\n",
       "      <td>79.853535</td>\n",
       "      <td>145.954814</td>\n",
       "      <td>26.323172</td>\n",
       "    </tr>\n",
       "  </tbody>\n",
       "</table>\n",
       "</div>"
      ],
      "text/plain": [
       "                PC4          pm10         pm2.5           no2            no  \\\n",
       "count  76824.000000  76824.000000  76824.000000  76824.000000  76824.000000   \n",
       "mean    5633.818182     19.300461     19.306449     25.810896     14.578421   \n",
       "std       15.168756     12.790363     19.325968     13.715641     12.749047   \n",
       "min     5611.000000      0.491714      0.419603      1.665652      0.000398   \n",
       "25%     5622.000000      9.789488      5.986320     14.671372      4.785573   \n",
       "50%     5631.000000     16.246310     12.186803     23.211536     12.002913   \n",
       "75%     5646.000000     26.378854     26.603072     35.263642     22.173757   \n",
       "max     5658.000000     89.593300    144.709400     79.853535    145.954814   \n",
       "\n",
       "                so2  \n",
       "count  76824.000000  \n",
       "mean       3.419556  \n",
       "std        3.060791  \n",
       "min        0.000000  \n",
       "25%        1.330161  \n",
       "50%        2.583675  \n",
       "75%        4.383727  \n",
       "max       26.323172  "
      ]
     },
     "execution_count": 4,
     "metadata": {},
     "output_type": "execute_result"
    }
   ],
   "source": [
    "df_ap.describe()"
   ]
  },
  {
   "cell_type": "markdown",
   "id": "7da04d80",
   "metadata": {},
   "source": [
    "<h4><font color=mediumvioletred>Testing for Normality</font></h4>"
   ]
  },
  {
   "cell_type": "code",
   "execution_count": 5,
   "id": "430a83c7",
   "metadata": {
    "scrolled": true
   },
   "outputs": [
    {
     "name": "stdout",
     "output_type": "stream",
     "text": [
      "Skewness per column:\n",
      "PC4      0.133642\n",
      "pm10     1.312018\n",
      "pm2.5    2.101590\n",
      "no2      0.621710\n",
      "no       1.845079\n",
      "so2      2.078176\n",
      "dtype: float64\n"
     ]
    },
    {
     "data": {
      "image/png": "[encoded data removed]",
      "text/plain": [
       "<Figure size 1440x360 with 1 Axes>"
      ]
     },
     "metadata": {},
     "output_type": "display_data"
    },
    {
     "data": {
      "image/png": "[encoded data removed]",
      "text/plain": [
       "<Figure size 1440x720 with 1 Axes>"
      ]
     },
     "metadata": {},
     "output_type": "display_data"
    }
   ],
   "source": [
    "print(\"Skewness per column:\")\n",
    "print(df_ap.skew(numeric_only=True))\n",
    "\n",
    "plt.figure(figsize=(20,5))\n",
    "plt.boxplot( df_ap['pm2.5'], vert=False)\n",
    "plt.title(\"Standard distribution of the PM2.5 values\")\n",
    "plt.xlabel(\"PM2.5 emission\")\n",
    "plt.show()\n",
    "\n",
    "plt.figure(figsize=(20,10))\n",
    "plt.hist(df_ap['pm2.5'], edgecolor='white', color='brown', bins=100)\n",
    "plt.title(\"Standard distribution of the PM2.5 values\")\n",
    "plt.xlabel(\"PM2.5 emission\")\n",
    "plt.ylabel(\"Distribution\")\n",
    "plt.show()"
   ]
  },
  {
   "cell_type": "markdown",
   "id": "b90c3b4e",
   "metadata": {},
   "source": [
    "Most skewed data in the dataset is the PM2.5 data.<br>\n",
    "There is a peak of 144 at the end of the tail. This could imply that anomalies exist in the data.<br>\n",
    "These number values are unexpectedly high compared to what would be normal.<br> \n",
    "\n",
    "These anomalies could cause malfunctions in future model(s). Action could be taken to minimize the effect of these anomalies."
   ]
  },
  {
   "cell_type": "markdown",
   "id": "253f258b",
   "metadata": {},
   "source": [
    "<h4><font color=mediumvioletred>Correlations in the dataset - Correlation matrix</font></h4>"
   ]
  },
  {
   "cell_type": "code",
   "execution_count": 7,
   "id": "aca06922",
   "metadata": {},
   "outputs": [
    {
     "data": {
      "text/html": [
       "<div>\n",
       "<style scoped>\n",
       "    .dataframe tbody tr th:only-of-type {\n",
       "        vertical-align: middle;\n",
       "    }\n",
       "\n",
       "    .dataframe tbody tr th {\n",
       "        vertical-align: top;\n",
       "    }\n",
       "\n",
       "    .dataframe thead th {\n",
       "        text-align: right;\n",
       "    }\n",
       "</style>\n",
       "<table border=\"1\" class=\"dataframe\">\n",
       "  <thead>\n",
       "    <tr style=\"text-align: right;\">\n",
       "      <th></th>\n",
       "      <th>PC4</th>\n",
       "      <th>pm10</th>\n",
       "      <th>pm2.5</th>\n",
       "      <th>no2</th>\n",
       "      <th>no</th>\n",
       "      <th>so2</th>\n",
       "    </tr>\n",
       "  </thead>\n",
       "  <tbody>\n",
       "    <tr>\n",
       "      <th>PC4</th>\n",
       "      <td>1.000000</td>\n",
       "      <td>-0.022215</td>\n",
       "      <td>-0.015463</td>\n",
       "      <td>-0.032789</td>\n",
       "      <td>-0.024208</td>\n",
       "      <td>-0.000279</td>\n",
       "    </tr>\n",
       "    <tr>\n",
       "      <th>pm10</th>\n",
       "      <td>-0.022215</td>\n",
       "      <td>1.000000</td>\n",
       "      <td>0.842424</td>\n",
       "      <td>0.443763</td>\n",
       "      <td>0.419273</td>\n",
       "      <td>0.354938</td>\n",
       "    </tr>\n",
       "    <tr>\n",
       "      <th>pm2.5</th>\n",
       "      <td>-0.015463</td>\n",
       "      <td>0.842424</td>\n",
       "      <td>1.000000</td>\n",
       "      <td>0.252095</td>\n",
       "      <td>0.178604</td>\n",
       "      <td>0.162552</td>\n",
       "    </tr>\n",
       "    <tr>\n",
       "      <th>no2</th>\n",
       "      <td>-0.032789</td>\n",
       "      <td>0.443763</td>\n",
       "      <td>0.252095</td>\n",
       "      <td>1.000000</td>\n",
       "      <td>0.674611</td>\n",
       "      <td>0.362617</td>\n",
       "    </tr>\n",
       "    <tr>\n",
       "      <th>no</th>\n",
       "      <td>-0.024208</td>\n",
       "      <td>0.419273</td>\n",
       "      <td>0.178604</td>\n",
       "      <td>0.674611</td>\n",
       "      <td>1.000000</td>\n",
       "      <td>0.309740</td>\n",
       "    </tr>\n",
       "    <tr>\n",
       "      <th>so2</th>\n",
       "      <td>-0.000279</td>\n",
       "      <td>0.354938</td>\n",
       "      <td>0.162552</td>\n",
       "      <td>0.362617</td>\n",
       "      <td>0.309740</td>\n",
       "      <td>1.000000</td>\n",
       "    </tr>\n",
       "  </tbody>\n",
       "</table>\n",
       "</div>"
      ],
      "text/plain": [
       "            PC4      pm10     pm2.5       no2        no       so2\n",
       "PC4    1.000000 -0.022215 -0.015463 -0.032789 -0.024208 -0.000279\n",
       "pm10  -0.022215  1.000000  0.842424  0.443763  0.419273  0.354938\n",
       "pm2.5 -0.015463  0.842424  1.000000  0.252095  0.178604  0.162552\n",
       "no2   -0.032789  0.443763  0.252095  1.000000  0.674611  0.362617\n",
       "no    -0.024208  0.419273  0.178604  0.674611  1.000000  0.309740\n",
       "so2   -0.000279  0.354938  0.162552  0.362617  0.309740  1.000000"
      ]
     },
     "execution_count": 7,
     "metadata": {},
     "output_type": "execute_result"
    }
   ],
   "source": [
    "df_ap.corr(numeric_only=True)"
   ]
  },
  {
   "cell_type": "markdown",
   "id": "06e80286",
   "metadata": {},
   "source": [
    "PM2.5 column is deeply correlated with the PM10 column."
   ]
  },
  {
   "cell_type": "markdown",
   "id": "d9e87c89",
   "metadata": {},
   "source": [
    "<h4><font color=mediumvioletred>Correlations in the dataset - Testing different correlation functions on PM2.5 column</font></h4>"
   ]
  },
  {
   "cell_type": "code",
   "execution_count": null,
   "id": "3b9c9873",
   "metadata": {},
   "outputs": [],
   "source": [
    "print('Pearson: ' + str(df_ap['pm2.5'].corr(df_ap['pm10'], method='pearson')))\n",
    "print('Spearman: ' + str(df_ap['pm2.5'].corr(df_ap['pm10'], method='spearman')))\n"
   ]
  },
  {
   "cell_type": "markdown",
   "id": "d130d60d",
   "metadata": {},
   "source": [
    "The two column excibit a high relationship both linearly and monotonically."
   ]
  },
  {
   "cell_type": "markdown",
   "id": "8e516eff",
   "metadata": {},
   "source": [
    "<h4><font color=mediumvioletred>Correlations in the dataset - Plotting the correlation between the PM10 and the PM2.5 columns</font></h4>"
   ]
  },
  {
   "cell_type": "code",
   "execution_count": null,
   "id": "42d987d6",
   "metadata": {},
   "outputs": [],
   "source": [
    "plt.figure(figsize=(20,10))\n",
    "plt.scatter(df_ap[\"pm2.5\"], df_ap[\"pm10\"], alpha=.15, color='black')\n",
    "plt.plot(np.unique(df_ap[\"pm2.5\"]), np.poly1d(np.polyfit(df_ap[\"pm2.5\"], df_ap[\"pm10\"], 1))\n",
    "         (np.unique(df_ap[\"pm2.5\"])), color='red', linewidth=3, linestyle='dashed')\n",
    "plt.xlabel('PM2.5 emission')\n",
    "plt.ylabel('PM10 emission')\n",
    "plt.title(\"Correlation between PM 10 and PM 2.5 values\")\n",
    "plt.show()"
   ]
  },
  {
   "cell_type": "markdown",
   "id": "e4d20ff7",
   "metadata": {},
   "source": [
    "PM2.5 emission is deeply correlated with the PM10 emission."
   ]
  },
  {
   "cell_type": "markdown",
   "id": "12217fac",
   "metadata": {},
   "source": [
    "<h4><font color=mediumvioletred>PM2.5 values - Daily average(mean) </font></h4>"
   ]
  },
  {
   "cell_type": "code",
   "execution_count": null,
   "id": "f91ec8e7",
   "metadata": {},
   "outputs": [],
   "source": [
    "df_ap_day_mean = df_ap.groupby(pd.Grouper(freq='D', key='date')).mean()\n",
    "plt.figure(figsize=(20,5))\n",
    "plt.title(\"Average PM2.5 value per day\")\n",
    "plt.plot(df_ap_day_mean['pm2.5'])\n",
    "plt.xlabel(\"Date\")\n",
    "plt.ylabel(\"PM2.5 emission\")\n",
    "plt.show()"
   ]
  },
  {
   "cell_type": "markdown",
   "id": "b09fd68f",
   "metadata": {},
   "source": [
    "The daily PM2.5 pollution is very high during the Holiday season. "
   ]
  },
  {
   "cell_type": "markdown",
   "id": "b4928e15",
   "metadata": {},
   "source": [
    "<h4><font color=mediumvioletred> Worst mean total pollution in different postal code areas</font></h4>"
   ]
  },
  {
   "cell_type": "code",
   "execution_count": null,
   "id": "6fb744a9",
   "metadata": {},
   "outputs": [],
   "source": [
    "df_ap_sp = df_ap.groupby(['PC4']).mean(numeric_only=True)\n",
    "print('Most populated areas with the pollution type:')\n",
    "df_ap_sp = df_ap_sp.drop_duplicates()\n",
    "df_ap_sp.reset_index().style.highlight_max(color = 'orange')"
   ]
  },
  {
   "cell_type": "code",
   "execution_count": null,
   "id": "6f17e899",
   "metadata": {},
   "outputs": [],
   "source": [
    "plot = df_ap_sp.plot.bar(xlabel= \"Postal area code\", legend=True, figsize=(25,5), width=0.7, edgecolor='white', title=\"Mean total pollution in different postal code areas\")"
   ]
  },
  {
   "cell_type": "markdown",
   "id": "e4840d86",
   "metadata": {},
   "source": [
    "There is a limited difference in air pollution between the different postal codes in Eindhoven."
   ]
  },
  {
   "cell_type": "markdown",
   "id": "fb00dea9",
   "metadata": {},
   "source": [
    "<h4><font color=mediumvioletred> Most peak pollution in different postal code areas</font></h4>"
   ]
  },
  {
   "cell_type": "code",
   "execution_count": null,
   "id": "15760f68",
   "metadata": {},
   "outputs": [],
   "source": [
    "df_ap_mp = df_ap.groupby(['PC4']).max(numeric_only=True)\n",
    "print('Most polluted areas per pollution type:')\n",
    "#Only grabs the first value, or none\n",
    "print(df_ap_mp.idxmax())\n",
    "df_ap_mp = df_ap_mp.drop_duplicates()\n",
    "df_ap_mp.reset_index().style.highlight_max(color = 'orange')"
   ]
  },
  {
   "cell_type": "code",
   "execution_count": null,
   "id": "33d29528",
   "metadata": {},
   "outputs": [],
   "source": [
    "plot = df_ap_mp.plot.bar(xlabel= \"Postal area code\", legend=True, figsize=(25,5), width=0.7, edgecolor='white', title=\"Peak pollution in different postal code areas\")"
   ]
  },
  {
   "cell_type": "markdown",
   "id": "0a3afc83",
   "metadata": {},
   "source": [
    "There is a limited difference in air pollution between the different postal codes in Eindhoven.\n",
    "\n",
    "There are several instances of the PM2.5 pollution with the value of 144.709400.<br>\n",
    "The PM2.5 sensor might be peaking, therefore, the taken measurement might be incorrect."
   ]
  },
  {
   "cell_type": "markdown",
   "id": "87b21a95",
   "metadata": {},
   "source": [
    "<h4><font color=mediumvioletred> Least pollution in different postal code areas</font></h4>"
   ]
  },
  {
   "cell_type": "code",
   "execution_count": null,
   "id": "87c60bf1",
   "metadata": {},
   "outputs": [],
   "source": [
    "df_ap_lp = df_ap.groupby(['PC4']).min(numeric_only=True)\n",
    "\n",
    "print('Least polluted areas per pollution type:')\n",
    "#Only grabs the first value, or none\n",
    "print(df_ap_lp.idxmin())\n",
    "\n",
    "df_ap_lp = df_ap_lp.drop_duplicates()\n",
    "df_ap_lp.reset_index().style.highlight_min(color = 'lightgreen')"
   ]
  },
  {
   "cell_type": "code",
   "execution_count": null,
   "id": "be771caf",
   "metadata": {},
   "outputs": [],
   "source": [
    "plot = df_ap_lp.plot.bar(xlabel= \"Postal area code\", legend=True, figsize=(25,5), width=0.7, edgecolor='white', title=\"Least pollution in different postal code areas\")"
   ]
  },
  {
   "cell_type": "markdown",
   "id": "e1aaa12b",
   "metadata": {},
   "source": [
    "There is a limited difference in air pollution between the different postal codes in Eindhoven.\n",
    "\n",
    "The sulfur dioxide sensor is not always taking measurements.\n"
   ]
  },
  {
   "cell_type": "markdown",
   "id": "a48017c3",
   "metadata": {},
   "source": [
    "<h4><font color=mediumvioletred>Comparing the most polluted postal code area (day mean) based on the pollution type with the same area on an average day</font></h4>"
   ]
  },
  {
   "cell_type": "code",
   "execution_count": null,
   "id": "1b99bdb2",
   "metadata": {
    "scrolled": false
   },
   "outputs": [],
   "source": [
    "most_polluted_days = df_ap_per_date_per_postalcode.idxmax()\n",
    "\n",
    "i = 0\n",
    "for day in most_polluted_days:\n",
    "    most_polluted_values = df_ap_per_date_per_postalcode.loc[(day[0] ,day[1]), :]\n",
    "    all_for_postcode =  df_ap_per_date_per_postalcode.loc[(slice(None), day[1]), :]\n",
    "    plt.bar([\"Average day\", str(day[0].date())], [all_for_postcode.mean()[most_polluted_days.index[i]], most_polluted_values.loc[most_polluted_days.index[i]]])\n",
    "    plt.title(\"Average day vs. Most polluted day - \" + str(most_polluted_days.index[i]).upper() + \", Area=\" + str(day[1]) )\n",
    "    plt.xlabel(str(most_polluted_days.index[i]).upper() + \" emission\")\n",
    "    plt.show()\n",
    "    i += 1"
   ]
  },
  {
   "cell_type": "markdown",
   "id": "12cd6a4d",
   "metadata": {},
   "source": [
    "<h4><font color=mediumvioletred>Comparing the least polluted postal code area (day mean) based on the pollution type with the same area on an average day</font></h4>"
   ]
  },
  {
   "cell_type": "code",
   "execution_count": null,
   "id": "a897c2a8",
   "metadata": {},
   "outputs": [],
   "source": [
    "least_polluted_days = df_ap_per_date_per_postalcode.idxmin()\n",
    "\n",
    "i = 0\n",
    "for day in least_polluted_days:\n",
    "    least_polluted_values = df_ap_per_date_per_postalcode.loc[(day[0] ,day[1]), :]\n",
    "    all_for_postcode =  df_ap_per_date_per_postalcode.loc[(slice(None), day[1]), :]\n",
    "    plt.bar([\"Average day\", str(day[0].date())], [all_for_postcode.mean()[least_polluted_days.index[i]], least_polluted_values.loc[least_polluted_days.index[i]]])\n",
    "    plt.title(\"Average day vs. Least polluted day - \" + str(least_polluted_days.index[i]).upper() + \", Area=\" + str(day[1]) )\n",
    "    plt.xlabel(str(least_polluted_days.index[i]).upper() + \" emission\")\n",
    "    plt.show()\n",
    "    i += 1"
   ]
  },
  {
   "cell_type": "markdown",
   "id": "d0f2b887",
   "metadata": {},
   "source": [
    "<h4><font color=mediumvioletred>A deeper look at the most polluted day in the most polluted area - PM2.5</font></h4>"
   ]
  },
  {
   "cell_type": "code",
   "execution_count": null,
   "id": "86400305",
   "metadata": {
    "scrolled": true
   },
   "outputs": [],
   "source": [
    "# DOUBLE CLICK ON THE GRAPH TO ZOOM IN #\n",
    "\n",
    "most_polluted = df_ap_per_date_per_postalcode.idxmax()['pm2.5']\n",
    "most_polluted_date = most_polluted[0].date() \n",
    "most_polluted_areacode = most_polluted[1]\n",
    "\n",
    "START_DATE =  str(most_polluted_date + timedelta(days=-0))\n",
    "END_DATE = str(most_polluted_date + timedelta(days=+1))\n",
    "\n",
    "FIG_HEIGHT = 10\n",
    "FIG_WIDTH = 55\n",
    "\n",
    "mask = ((df_ap['date'] > START_DATE) & (df_ap['date'] <= END_DATE) & (df_ap['PC4'] <= most_polluted_areacode))\n",
    "air_pollution = df_ap_np.loc[mask]\n",
    "\n",
    "f = plt.figure()\n",
    "f.set_figheight(FIG_HEIGHT)\n",
    "f.set_figwidth(FIG_WIDTH)\n",
    "plt.bar(air_pollution['date'], air_pollution['pm2.5'], color='gray')\n",
    "plt.title(\"PM2.5 emissions per hour\")\n",
    "plt.xlabel(\"Date and hour\")\n",
    "plt.ylabel(\"PM2.5 emission\")\n",
    "\n",
    "healthy_level = [15]\n",
    "legal_limit = [25]\n",
    "unhealthy_level = [55]\n",
    "\n",
    "plt.axhline(y = healthy_level, color = '#00FF00', linestyle = '-')\n",
    "plt.axhline(y = legal_limit, color = '#FFA500', linestyle = '-')\n",
    "plt.axhline(y = unhealthy_level, color = '#FF0000', linestyle = '-')\n",
    "plt.legend(['WHO guideline value 24h', 'Legal limit', 'High outdoor pollution '])\n",
    "plt.show()"
   ]
  },
  {
   "cell_type": "markdown",
   "id": "8d25886e",
   "metadata": {},
   "source": [
    "The PM2.5 emission on the 21st of December 2021 for the postal code 5611 exceeds the daily Dutch legal limit for air pollution.<br>\n",
    "However, the project group could not find a precise cause for the excessively high pollution.<br>\n",
    "The project group speculates that it is caused by people travelling for Christmas related activities.<br> \n",
    "\n",
    "Sources for the limits <br>\n",
    "Safe Limit: https://www.who.int/news-room/fact-sheets/detail/ambient-(outdoor)-air-quality-and-health<br>\n",
    "Legal limit: https://www.indoorairhygiene.org/pm2-5-explained/ <br>\n",
    "Unhealthy limit: https://smartairfilters.com/en/blog/difference-pm2-5-aqi-measurements/<br>"
   ]
  },
  {
   "cell_type": "markdown",
   "id": "e2e32833",
   "metadata": {},
   "source": [
    "<h4><font color=mediumvioletred>The average emission for each selected postal code on selected days</font></h4>"
   ]
  },
  {
   "cell_type": "code",
   "execution_count": null,
   "id": "f1503d6e",
   "metadata": {},
   "outputs": [],
   "source": [
    "df_heat = df_ap_np\n",
    "# START_DATE =  '2021-09-25'\n",
    "# END_DATE = '2021-12-31'\n",
    "# PCODES = [5611, 5626, 5644, 5654, 5658]\n",
    "\n",
    "# Select rows between start and end date for each postal code\n",
    "# mask = ((df_heat['date'] > START_DATE) & (df_heat['date'] <= END_DATE))\n",
    "# df_heat = df_heat.loc[mask]\n",
    "# df_heat = df_heat.loc[df_heat['PC4'].isin(PCODES)]\n",
    "\n",
    "# Group by postal code and group by day\n",
    "df_heat['date'] = pd.to_datetime(df_heat['date'], format='%Y/%m/%d %H:%M:%S')\n",
    "gr_by_pc4_day = df_heat.groupby(['PC4', df_heat['date'].dt.date]).mean()\n",
    "print(gr_by_pc4_day)"
   ]
  },
  {
   "cell_type": "markdown",
   "id": "3525d475",
   "metadata": {},
   "source": [
    "<h4><font color=mediumvioletred>Heatmap of the average emission for each selected postal code on selected days</font></h4>"
   ]
  },
  {
   "cell_type": "code",
   "execution_count": null,
   "id": "9490c035",
   "metadata": {},
   "outputs": [],
   "source": [
    "# Pivot the dataframe from long to wide form\n",
    "heat = pd.pivot_table(gr_by_pc4_day, index='PC4', columns='date', values='pm2.5')\n",
    "\n",
    "ax = plt.axes()\n",
    "sns.heatmap(heat, annot=False, cmap='plasma', ax = ax)\n",
    "ax.set_title('Average PM2.5 emission per postal code per day')\n",
    "plt.show()\n",
    "\n"
   ]
  },
  {
   "cell_type": "markdown",
   "id": "693bcb3b",
   "metadata": {},
   "source": [
    "There is a limited difference in air pollution between different postal codes in Eindhoven.<br>\n",
    "The emission of air pollutants for the city of Eindhoven is higher in December in comparison to the previous months in the dataset.\n"
   ]
  },
  {
   "cell_type": "markdown",
   "id": "87dc63c0",
   "metadata": {},
   "source": [
    "<h4><font color=mediumvioletred>Conclusion</font></h4>\n",
    "\n",
    "The emission of air pollutants is higher during the Holiday season. \n",
    "Furthermore, there is little difference of the emission of air pollutants between postal codes in Eindhoven.\n",
    "Anomalies exist in the dataset, which could lead to the malfunctioning of future model(s) based on this dataset.\n",
    "Steps should be taken to minimize the risk associated with these anomalies. "
   ]
  },
  {
   "cell_type": "code",
   "execution_count": null,
   "id": "115e423a",
   "metadata": {},
   "outputs": [],
   "source": []
  },
  {
   "cell_type": "code",
   "execution_count": null,
   "id": "a62b87a5",
   "metadata": {},
   "outputs": [],
   "source": []
  },
  {
   "cell_type": "code",
   "execution_count": null,
   "id": "cedc31ce",
   "metadata": {},
   "outputs": [],
   "source": []
  },
  {
   "cell_type": "markdown",
   "id": "002b5a79",
   "metadata": {},
   "source": [
    "<h2><font color=slateblue> 6. Modelling </font></h2>"
   ]
  },
  {
   "cell_type": "code",
   "execution_count": null,
   "id": "197c479d",
   "metadata": {},
   "outputs": [],
   "source": []
  },
  {
   "cell_type": "code",
   "execution_count": null,
   "id": "b3714cbd",
   "metadata": {},
   "outputs": [],
   "source": []
  },
  {
   "cell_type": "code",
   "execution_count": null,
   "id": "ecefde99",
   "metadata": {},
   "outputs": [],
   "source": []
  },
  {
   "cell_type": "code",
   "execution_count": null,
   "id": "d11b9c24",
   "metadata": {},
   "outputs": [],
   "source": []
  }
 ],
 "metadata": {
  "kernelspec": {
   "display_name": "Python 3 (ipykernel)",
   "language": "python",
   "name": "python3"
  },
  "language_info": {
   "codemirror_mode": {
    "name": "ipython",
    "version": 3
   },
   "file_extension": ".py",
   "mimetype": "text/x-python",
   "name": "python",
   "nbconvert_exporter": "python",
   "pygments_lexer": "ipython3",
   "version": "3.9.12"
  }
 },
 "nbformat": 4,
 "nbformat_minor": 5
}
