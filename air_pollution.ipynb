{
 "cells": [
  {
   "cell_type": "markdown",
   "id": "90a4671f",
   "metadata": {},
   "source": [
    "<h1 style=\"font-size:3rem;color:maroon;\"> Predicting Air Pollution Level using Machine Learning</h1>\n",
    "\n",
    "This notebook looks into using various Python-based machine learning and data science libraries in an attempt to build a machine learning model capable of predicting air pollution level in an area in Eindhoven in the upcoming week.\n",
    "\n",
    "We're going to take the following approach:\n",
    "1. Problem definition\n",
    "2. Data\n",
    "3. Features\n",
    "4. Data Exploration & Visualization\n",
    "5. Data Preparation\n",
    "6. Modelling"
   ]
  },
  {
   "cell_type": "markdown",
   "id": "2fb30f1f",
   "metadata": {},
   "source": [
    "<h2><font color=slateblue> 1. Problem Definition </font></h2>\n",
    "\n",
    "In a statement,\n",
    "> Given historical pollution data, weather data and people going through an area, can we predict air pollution level (fine particle matter level pm2.5) in an area in Eindhoven in the upcoming week?"
   ]
  },
  {
   "cell_type": "markdown",
   "id": "cb8f4787",
   "metadata": {},
   "source": [
    "<h2><font color=slateblue> 2. Data </font></h2>\n",
    "\n",
    "The data is provided by TNO and Zicht op Data."
   ]
  },
  {
   "cell_type": "markdown",
   "id": "cbd70547",
   "metadata": {},
   "source": [
    "<h2><font color=slateblue> 3. Features </font></h2>\n",
    "\n",
    "This is where you'll get different information about each of the features in our data.\n",
    "\n",
    "We have three separate datasets for the period between 25-09-2021 and 30-12-2021:\n",
    "\n",
    "**Air pollution**\n",
    "* date: date in ymd_hms\n",
    "* PC4: postcode\n",
    "* pm2.5: particulate matter <2.5um in ug/m3\n",
    "* pm10: particulate matter <10um in ug/m3\n",
    "* no2: nitrogen dioxide in ug/m3\n",
    "* no: nitrogen oxide in ug/m3\n",
    "* so2: sulphur dioxide in ug/m3\n",
    "\n",
    "\n",
    "**Meteo**\n",
    "* date: date in ymd_hms\n",
    "* PC4: postcode\n",
    "* wd: wind direction in degrees 0-360\n",
    "* ws: wind speed in m/s\n",
    "* blh: boundary layer height in metres\n",
    "* tcc: total cloud cover in oktas (0-9)\n",
    "* ssrd: solar surface radiation downwards in W/m2 \n",
    "\n",
    "(see https://cds.climate.copernicus.eu/cdsapp#!/dataset/reanalysis-era5-single-levels?tab=overview for more information)\n",
    "\n",
    "**Zichtop**\n",
    "* PC4: postcode\n",
    "* date: date in ymd_hms\n",
    "* pop_tot: total number of people in PC4 for each time step\n",
    "* m00_30: number of people who have been there for up to 30 minutes\n",
    "* m30_60: number of people who have been there for 30 and 60 minutes\n",
    "* H1_2: number of people who have been there for 1 and 2 hours\n",
    "* H2_4: number of people who have been there for 2 and 4 hours\n",
    "* H4_8: number of people who have been there for 4 and 8 hours\n",
    "* H8_16: number of people who have been there for 8 and 16 hours\n",
    "* H16plus: number of people who have been there for over 16 hours"
   ]
  },
  {
   "cell_type": "markdown",
   "id": "4c0c3f50",
   "metadata": {},
   "source": [
    "<h2><font color=slateblue> 4. Data Exploration & Visualization </font></h2>"
   ]
  },
  {
   "cell_type": "code",
   "execution_count": 1,
   "id": "074fdc9e",
   "metadata": {},
   "outputs": [],
   "source": [
    "import pandas as pd\n",
    "import matplotlib.pyplot as plt"
   ]
  },
  {
   "cell_type": "code",
   "execution_count": 2,
   "id": "c2da62b6",
   "metadata": {},
   "outputs": [
    {
     "name": "stdout",
     "output_type": "stream",
     "text": [
      "                    PC4       pm10      pm2.5        no2         no       so2\n",
      "date                                                                         \n",
      "2021-09-25  5633.818182  15.466935   8.721720  26.069080  17.055834  2.437436\n",
      "2021-09-26  5633.818182  16.939558   7.865281  22.889787  14.975765  3.269219\n",
      "2021-09-27  5633.818182  10.885686   6.332942  14.544284   9.515675  2.958683\n",
      "2021-09-28  5633.818182  11.001653   5.581899  19.050652  12.463990  4.460789\n",
      "2021-09-29  5633.818182   5.619904   2.877056  19.225747  12.578548  2.836495\n",
      "...                 ...        ...        ...        ...        ...       ...\n",
      "2021-12-26  5633.818182  33.453445  59.285179  30.420036   1.487488  5.850977\n",
      "2021-12-27  5633.818182  18.882888  32.962487  25.315250   5.139557  1.217043\n",
      "2021-12-28  5633.818182   9.041911  13.042438  16.337846   1.707830  1.284986\n",
      "2021-12-29  5633.818182  14.957415  20.030017  20.412490  10.673166  2.662822\n",
      "2021-12-30  5633.818182  12.595044  14.113009  11.833592   0.465474  1.418894\n",
      "\n",
      "[97 rows x 6 columns]\n"
     ]
    },
    {
     "data": {
      "text/plain": [
       "<AxesSubplot:xlabel='date'>"
      ]
     },
     "execution_count": 2,
     "metadata": {},
     "output_type": "execute_result"
    },
    {
     "data": {
      "image/png": "[encoded data removed]",
      "text/plain": [
       "<Figure size 432x288 with 1 Axes>"
      ]
     },
     "metadata": {
      "needs_background": "light"
     },
     "output_type": "display_data"
    }
   ],
   "source": [
    "air_pollution_csv = pd.read_csv('data/air_pollution.csv')\n",
    "\n",
    "air_pollution_csv['date'] = pd.to_datetime(air_pollution_csv['date'], format='%Y-%m-%d')\n",
    "group_by_day = air_pollution_csv.groupby(pd.Grouper(freq='D', key='date')).mean()\n",
    "\n",
    "print(group_by_day)\n",
    "\n",
    "group_by_day.plot(y = 'pm2.5')\n",
    "\n"
   ]
  },
  {
   "cell_type": "code",
   "execution_count": 3,
   "id": "834335e4",
   "metadata": {},
   "outputs": [
    {
     "name": "stdout",
     "output_type": "stream",
     "text": [
      "                      date   PC4      pm10      pm2.5        no2         no  \\\n",
      "49848  2021-09-25 00:00:00  5657  7.092951   4.014916  22.395097  14.652112   \n",
      "49849  2021-09-25 01:00:00  5657  5.555486   3.463953  15.029104   9.832871   \n",
      "49850  2021-09-25 02:00:00  5657  6.011938   3.997096  15.892578  10.397804   \n",
      "49851  2021-09-25 03:00:00  5657  6.832237   4.753222  15.988108  10.460304   \n",
      "49852  2021-09-25 04:00:00  5657  7.861262   5.400301  15.534764  10.163702   \n",
      "...                    ...   ...       ...        ...        ...        ...   \n",
      "76795  2021-12-30 18:00:00  5657  9.221920  11.890390  15.722421   0.082426   \n",
      "76796  2021-12-30 19:00:00  5657  8.605272  11.188490  14.162378   0.060084   \n",
      "76797  2021-12-30 20:00:00  5657  8.902969  11.535930  13.532033   0.054709   \n",
      "76798  2021-12-30 21:00:00  5657  9.894372  12.596000  13.303388   0.068632   \n",
      "76799  2021-12-30 22:00:00  5657  9.476359  12.678000  12.923872   0.038118   \n",
      "\n",
      "            so2  \n",
      "49848  2.404839  \n",
      "49849  2.337325  \n",
      "49850  2.033143  \n",
      "49851  1.895193  \n",
      "49852  1.966419  \n",
      "...         ...  \n",
      "76795  1.840824  \n",
      "76796  2.067295  \n",
      "76797  2.234918  \n",
      "76798  2.307315  \n",
      "76799  1.794507  \n",
      "\n",
      "[2328 rows x 7 columns]\n"
     ]
    },
    {
     "data": {
      "text/plain": [
       "<AxesSubplot:xlabel='date'>"
      ]
     },
     "execution_count": 3,
     "metadata": {},
     "output_type": "execute_result"
    },
    {
     "data": {
      "image/png": "[encoded data removed]",
      "text/plain": [
       "<Figure size 432x288 with 1 Axes>"
      ]
     },
     "metadata": {
      "needs_background": "light"
     },
     "output_type": "display_data"
    }
   ],
   "source": [
    "air_pollution_csv = pd.read_csv('data/air_pollution.csv')\n",
    "air_pollution_csv = air_pollution_csv[air_pollution_csv[\"PC4\"] == 5657]\n",
    "\n",
    "print(air_pollution_csv)\n",
    "\n",
    "air_pollution_csv.plot(y = 'pm2.5', x = 'date')\n",
    "\n"
   ]
  },
  {
   "cell_type": "code",
   "execution_count": 4,
   "id": "fa9d31de",
   "metadata": {},
   "outputs": [
    {
     "name": "stdout",
     "output_type": "stream",
     "text": [
      "         date  count\n",
      "0  2021-11-30    825\n",
      "1  2021-09-25    792\n",
      "2  2021-11-13    792\n",
      "3  2021-12-05    792\n",
      "4  2021-12-04    792\n",
      "..        ...    ...\n",
      "92 2021-10-25    792\n",
      "93 2021-10-24    792\n",
      "94 2021-10-23    792\n",
      "95 2021-10-22    792\n",
      "96 2021-12-30    759\n",
      "\n",
      "[97 rows x 2 columns]\n"
     ]
    }
   ],
   "source": [
    "air_pollution_csv = pd.read_csv('data/air_pollution.csv')\n",
    "air_pollution_csv = (pd.to_datetime(air_pollution_csv['date'], format='%Y-%m-%d')\n",
    "       .dt.floor('d')\n",
    "       .value_counts()\n",
    "       .rename_axis('date')\n",
    "       .reset_index(name='count'))\n",
    "print(air_pollution_csv)\n"
   ]
  },
  {
   "cell_type": "code",
   "execution_count": 27,
   "id": "27d63f83",
   "metadata": {},
   "outputs": [
    {
     "data": {
      "image/png": "[encoded data removed]",
      "text/plain": [
       "<Figure size 432x288 with 1 Axes>"
      ]
     },
     "metadata": {
      "needs_background": "light"
     },
     "output_type": "display_data"
    }
   ],
   "source": [
    "air_pollution_csv = pd.read_csv('data/air_pollution.csv')\n",
    "head_max = 3\n",
    "head = air_pollution_csv.head(head_max)\n",
    "air_pollution = pd.DataFrame(head)\n",
    "# y_axis = list(air_pollution.loc[:,'pm2.5'])\n",
    "# # plt.bar(x_axis, y_axis)\n",
    "# # plt.title(\"Bar chart of PM2.5 emissions per hour\")\n",
    "# # plt.xlabel(\"Date and hour\")\n",
    "# # plt.ylabel(\"PM2.5 emission\")\n",
    "\n",
    "# plt.show()\n",
    "\n",
    "\n",
    "\n",
    "healthy_level = [12]\n",
    "legal_limit = [25]\n",
    "unhealthy_level = [35]\n",
    "column_names = ['Safe level', 'Legal limit', 'Unhealthy level']\n",
    "width = 0.35 # the width of the bars: can also be len(x) sequence\n",
    "\n",
    "\n",
    "fig, ax = plt.subplots()\n",
    "\n",
    "x_axis = list(air_pollution.loc[:,'date'])\n",
    "y_axis = list(air_pollution.loc[:,'pm2.5'])\n",
    "\n",
    "width = 0.35\n",
    "\n",
    "ax.bar(x_axis, y_axis, width, label = 'Healthy level')\n",
    "ax.bar(x_axis, y_axis, width, label = 'Legal limit')\n",
    "ax.bar(x_axis, y_axis, width, label = 'Unhealthy limit')\n",
    "\n",
    "ax.set_ylabel('PM2.5')\n",
    "ax.set_title('Bar chart of PM2.5 emissions per hour')\n",
    "ax.legend()\n",
    "\n",
    "plt.show()\n",
    "\n",
    "\n"
   ]
  },
  {
   "cell_type": "markdown",
   "id": "6d797944",
   "metadata": {},
   "source": [
    "<h2><font color=slateblue> 5. Data Preparation </font></h2>"
   ]
  },
  {
   "cell_type": "code",
   "execution_count": null,
   "id": "796a3f9f",
   "metadata": {},
   "outputs": [],
   "source": []
  },
  {
   "cell_type": "code",
   "execution_count": null,
   "id": "115e423a",
   "metadata": {},
   "outputs": [],
   "source": []
  },
  {
   "cell_type": "code",
   "execution_count": null,
   "id": "a62b87a5",
   "metadata": {},
   "outputs": [],
   "source": []
  },
  {
   "cell_type": "code",
   "execution_count": null,
   "id": "cedc31ce",
   "metadata": {},
   "outputs": [],
   "source": []
  },
  {
   "cell_type": "markdown",
   "id": "002b5a79",
   "metadata": {},
   "source": [
    "<h2><font color=slateblue> 6. Modelling </font></h2>"
   ]
  },
  {
   "cell_type": "code",
   "execution_count": null,
   "id": "197c479d",
   "metadata": {},
   "outputs": [],
   "source": []
  },
  {
   "cell_type": "code",
   "execution_count": null,
   "id": "b3714cbd",
   "metadata": {},
   "outputs": [],
   "source": []
  },
  {
   "cell_type": "code",
   "execution_count": null,
   "id": "ecefde99",
   "metadata": {},
   "outputs": [],
   "source": []
  },
  {
   "cell_type": "code",
   "execution_count": null,
   "id": "d11b9c24",
   "metadata": {},
   "outputs": [],
   "source": []
  }
 ],
 "metadata": {
  "kernelspec": {
   "display_name": "Python 3 (ipykernel)",
   "language": "python",
   "name": "python3"
  },
  "language_info": {
   "codemirror_mode": {
    "name": "ipython",
    "version": 3
   },
   "file_extension": ".py",
   "mimetype": "text/x-python",
   "name": "python",
   "nbconvert_exporter": "python",
   "pygments_lexer": "ipython3",
   "version": "3.9.12"
  }
 },
 "nbformat": 4,
 "nbformat_minor": 5
}
