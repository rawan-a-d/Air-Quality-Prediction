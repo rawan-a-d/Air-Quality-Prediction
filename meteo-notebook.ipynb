{
 "cells": [
  {
   "cell_type": "markdown",
   "id": "90a4671f",
   "metadata": {},
   "source": [
    "<h1 style=\"font-size:3rem;color:maroon;\"> Predicting Air Pollution Level using Machine Learning</h1>\n",
    "\n",
    "This notebook looks into using various Python-based machine learning and data science libraries in an attempt to build a machine learning model capable of predicting air pollution level in an area in Eindhoven in the upcoming week.\n",
    "\n",
    "We're going to take the following approach:\n",
    "1. Problem definition\n",
    "2. Data\n",
    "3. Features\n",
    "4. Data Exploration & Visualization\n",
    "5. Data Preparation\n",
    "6. Modelling"
   ]
  },
  {
   "cell_type": "markdown",
   "id": "2fb30f1f",
   "metadata": {},
   "source": [
    "<h2><font color=slateblue> 1. Problem Definition </font></h2>\n",
    "\n",
    "In a statement,\n",
    "> Given historical pollution data, weather data and people going through an area, can we predict air pollution level in an area in Eindhoven in the upcoming week?"
   ]
  },
  {
   "cell_type": "markdown",
   "id": "cb8f4787",
   "metadata": {},
   "source": [
    "<h2><font color=slateblue> 2. Data </font></h2>\n",
    "\n",
    "The data is provided by TNO and Zicht op Data."
   ]
  },
  {
   "cell_type": "markdown",
   "id": "cbd70547",
   "metadata": {},
   "source": [
    "<h2><font color=slateblue> 3. Features </font></h2>\n",
    "\n",
    "This is where you'll get different information about each of the features in our data.\n",
    "\n",
    "We have three separate datasets for the period between 25-09-2021 and 30-12-2021:\n",
    "\n",
    "**Air pollution**\n",
    "* date: date in ymd_hms\n",
    "* PC4: postcode\n",
    "* pm2.5: particulate matter <2.5um in ug/m3\n",
    "* pm10: particulate matter <10um in ug/m3\n",
    "* no2: nitrogen dioxide in ug/m3\n",
    "* no: nitrogen oxide in ug/m3\n",
    "* so2: sulphur dioxide in ug/m3\n",
    "\n",
    "\n",
    "**Meteo**\n",
    "* date: date in ymd_hms\n",
    "* PC4: postcode\n",
    "* wd: wind direction in degrees 0-360\n",
    "* ws: wind speed in m/s\n",
    "* blh: boundary layer height in metres\n",
    "* tcc: total cloud cover in oktas (0-9)\n",
    "* ssrd: solar surface radiation downwards in W/m2 \n",
    "\n",
    "(see https://cds.climate.copernicus.eu/cdsapp#!/dataset/reanalysis-era5-single-levels?tab=overview for more information)\n",
    "\n",
    "**Zichtop**\n",
    "* PC4: postcode\n",
    "* date: date in ymd_hms\n",
    "* pop_tot: total number of people in PC4 for each time step\n",
    "* m00_30: number of people who have been there for up to 30 minutes\n",
    "* m30_60: number of people who have been there for 30 and 60 minutes\n",
    "* H1_2: number of people who have been there for 1 and 2 hours\n",
    "* H2_4: number of people who have been there for 2 and 4 hours\n",
    "* H4_8: number of people who have been there for 4 and 8 hours\n",
    "* H8_16: number of people who have been there for 8 and 16 hours\n",
    "* H16plus: number of people who have been there for over 16 hours"
   ]
  },
  {
   "cell_type": "markdown",
   "id": "4c0c3f50",
   "metadata": {},
   "source": [
    "<h2><font color=slateblue> 4. Data Exploration & Visualization </font></h2>"
   ]
  },
  {
   "cell_type": "markdown",
   "id": "71ec4af5",
   "metadata": {},
   "source": [
    "<h3><font color=steelblue>Meteo dataset</font><h3>"
   ]
  },
  {
   "cell_type": "markdown",
   "id": "a5af701c",
   "metadata": {},
   "source": [
    "<h4><font color=mediumvioletred>Read CSV files and get meteo data sample</font></h4>"
   ]
  },
  {
   "cell_type": "code",
   "execution_count": 115,
   "id": "074fdc9e",
   "metadata": {},
   "outputs": [
    {
     "data": {
      "text/html": [
       "<div>\n",
       "<style scoped>\n",
       "    .dataframe tbody tr th:only-of-type {\n",
       "        vertical-align: middle;\n",
       "    }\n",
       "\n",
       "    .dataframe tbody tr th {\n",
       "        vertical-align: top;\n",
       "    }\n",
       "\n",
       "    .dataframe thead th {\n",
       "        text-align: right;\n",
       "    }\n",
       "</style>\n",
       "<table border=\"1\" class=\"dataframe\">\n",
       "  <thead>\n",
       "    <tr style=\"text-align: right;\">\n",
       "      <th></th>\n",
       "      <th>date</th>\n",
       "      <th>PC4</th>\n",
       "      <th>wd</th>\n",
       "      <th>ws</th>\n",
       "      <th>blh</th>\n",
       "      <th>tcc</th>\n",
       "      <th>ssrd</th>\n",
       "    </tr>\n",
       "  </thead>\n",
       "  <tbody>\n",
       "    <tr>\n",
       "      <th>46808</th>\n",
       "      <td>2021-05-06 08:00:00</td>\n",
       "      <td>5616</td>\n",
       "      <td>212.181351</td>\n",
       "      <td>3.060509</td>\n",
       "      <td>720.367798</td>\n",
       "      <td>0.980718</td>\n",
       "      <td>346.195243</td>\n",
       "    </tr>\n",
       "    <tr>\n",
       "      <th>73241</th>\n",
       "      <td>2021-05-12 17:00:00</td>\n",
       "      <td>5622</td>\n",
       "      <td>168.310165</td>\n",
       "      <td>1.028075</td>\n",
       "      <td>448.963623</td>\n",
       "      <td>0.534280</td>\n",
       "      <td>209.020208</td>\n",
       "    </tr>\n",
       "    <tr>\n",
       "      <th>55291</th>\n",
       "      <td>2021-04-24 19:00:00</td>\n",
       "      <td>5617</td>\n",
       "      <td>61.099125</td>\n",
       "      <td>4.428370</td>\n",
       "      <td>743.446594</td>\n",
       "      <td>0.786707</td>\n",
       "      <td>19.684078</td>\n",
       "    </tr>\n",
       "    <tr>\n",
       "      <th>165572</th>\n",
       "      <td>2021-11-25 20:00:00</td>\n",
       "      <td>5633</td>\n",
       "      <td>193.084900</td>\n",
       "      <td>2.586384</td>\n",
       "      <td>102.310219</td>\n",
       "      <td>0.981005</td>\n",
       "      <td>0.000000</td>\n",
       "    </tr>\n",
       "    <tr>\n",
       "      <th>47597</th>\n",
       "      <td>2021-06-08 05:00:00</td>\n",
       "      <td>5616</td>\n",
       "      <td>19.830463</td>\n",
       "      <td>2.249244</td>\n",
       "      <td>107.497543</td>\n",
       "      <td>0.114462</td>\n",
       "      <td>78.687925</td>\n",
       "    </tr>\n",
       "    <tr>\n",
       "      <th>138602</th>\n",
       "      <td>2021-10-28 02:00:00</td>\n",
       "      <td>5629</td>\n",
       "      <td>265.842041</td>\n",
       "      <td>3.401980</td>\n",
       "      <td>219.591492</td>\n",
       "      <td>0.069614</td>\n",
       "      <td>0.000000</td>\n",
       "    </tr>\n",
       "    <tr>\n",
       "      <th>53831</th>\n",
       "      <td>2021-02-22 23:00:00</td>\n",
       "      <td>5617</td>\n",
       "      <td>252.356400</td>\n",
       "      <td>3.375351</td>\n",
       "      <td>231.403290</td>\n",
       "      <td>0.370273</td>\n",
       "      <td>0.000000</td>\n",
       "    </tr>\n",
       "    <tr>\n",
       "      <th>251259</th>\n",
       "      <td>2021-09-07 03:00:00</td>\n",
       "      <td>5654</td>\n",
       "      <td>351.808350</td>\n",
       "      <td>1.220289</td>\n",
       "      <td>38.950592</td>\n",
       "      <td>0.980806</td>\n",
       "      <td>0.000000</td>\n",
       "    </tr>\n",
       "    <tr>\n",
       "      <th>271645</th>\n",
       "      <td>2021-01-04 13:00:00</td>\n",
       "      <td>5657</td>\n",
       "      <td>46.482868</td>\n",
       "      <td>5.126524</td>\n",
       "      <td>824.160583</td>\n",
       "      <td>0.995898</td>\n",
       "      <td>81.071276</td>\n",
       "    </tr>\n",
       "    <tr>\n",
       "      <th>102251</th>\n",
       "      <td>2021-09-03 11:00:00</td>\n",
       "      <td>5625</td>\n",
       "      <td>33.956455</td>\n",
       "      <td>3.122911</td>\n",
       "      <td>638.130005</td>\n",
       "      <td>0.000000</td>\n",
       "      <td>651.578958</td>\n",
       "    </tr>\n",
       "  </tbody>\n",
       "</table>\n",
       "</div>"
      ],
      "text/plain": [
       "                       date   PC4          wd        ws         blh       tcc  \\\n",
       "46808   2021-05-06 08:00:00  5616  212.181351  3.060509  720.367798  0.980718   \n",
       "73241   2021-05-12 17:00:00  5622  168.310165  1.028075  448.963623  0.534280   \n",
       "55291   2021-04-24 19:00:00  5617   61.099125  4.428370  743.446594  0.786707   \n",
       "165572  2021-11-25 20:00:00  5633  193.084900  2.586384  102.310219  0.981005   \n",
       "47597   2021-06-08 05:00:00  5616   19.830463  2.249244  107.497543  0.114462   \n",
       "138602  2021-10-28 02:00:00  5629  265.842041  3.401980  219.591492  0.069614   \n",
       "53831   2021-02-22 23:00:00  5617  252.356400  3.375351  231.403290  0.370273   \n",
       "251259  2021-09-07 03:00:00  5654  351.808350  1.220289   38.950592  0.980806   \n",
       "271645  2021-01-04 13:00:00  5657   46.482868  5.126524  824.160583  0.995898   \n",
       "102251  2021-09-03 11:00:00  5625   33.956455  3.122911  638.130005  0.000000   \n",
       "\n",
       "              ssrd  \n",
       "46808   346.195243  \n",
       "73241   209.020208  \n",
       "55291    19.684078  \n",
       "165572    0.000000  \n",
       "47597    78.687925  \n",
       "138602    0.000000  \n",
       "53831     0.000000  \n",
       "251259    0.000000  \n",
       "271645   81.071276  \n",
       "102251  651.578958  "
      ]
     },
     "execution_count": 115,
     "metadata": {},
     "output_type": "execute_result"
    }
   ],
   "source": [
    "import pandas as pd\n",
    "import matplotlib.pyplot as plt\n",
    "import numpy as np\n",
    "\n",
    "df_meteo = pd.read_csv(\"data/meteo.csv\")\n",
    "df_air_pollution = pd.read_csv(\"data/air_pollution.csv\")\n",
    "df_meteo.sample(10)"
   ]
  },
  {
   "cell_type": "markdown",
   "id": "7363d5fc",
   "metadata": {},
   "source": [
    "<h4><font color=mediumvioletred>Get air pollution data sample</font></h4>"
   ]
  },
  {
   "cell_type": "code",
   "execution_count": 116,
   "id": "64af8c42",
   "metadata": {},
   "outputs": [
    {
     "data": {
      "text/html": [
       "<div>\n",
       "<style scoped>\n",
       "    .dataframe tbody tr th:only-of-type {\n",
       "        vertical-align: middle;\n",
       "    }\n",
       "\n",
       "    .dataframe tbody tr th {\n",
       "        vertical-align: top;\n",
       "    }\n",
       "\n",
       "    .dataframe thead th {\n",
       "        text-align: right;\n",
       "    }\n",
       "</style>\n",
       "<table border=\"1\" class=\"dataframe\">\n",
       "  <thead>\n",
       "    <tr style=\"text-align: right;\">\n",
       "      <th></th>\n",
       "      <th>date</th>\n",
       "      <th>PC4</th>\n",
       "      <th>pm10</th>\n",
       "      <th>pm2.5</th>\n",
       "      <th>no2</th>\n",
       "      <th>no</th>\n",
       "      <th>so2</th>\n",
       "    </tr>\n",
       "  </thead>\n",
       "  <tbody>\n",
       "    <tr>\n",
       "      <th>56726</th>\n",
       "      <td>2021-12-05 13:00:00</td>\n",
       "      <td>5642</td>\n",
       "      <td>15.143165</td>\n",
       "      <td>23.478901</td>\n",
       "      <td>14.278735</td>\n",
       "      <td>2.586056</td>\n",
       "      <td>1.160788</td>\n",
       "    </tr>\n",
       "    <tr>\n",
       "      <th>52043</th>\n",
       "      <td>2021-10-19 11:00:00</td>\n",
       "      <td>5658</td>\n",
       "      <td>11.926496</td>\n",
       "      <td>6.643806</td>\n",
       "      <td>18.658387</td>\n",
       "      <td>12.207349</td>\n",
       "      <td>5.012210</td>\n",
       "    </tr>\n",
       "    <tr>\n",
       "      <th>29320</th>\n",
       "      <td>2021-10-10 16:00:00</td>\n",
       "      <td>5633</td>\n",
       "      <td>37.149723</td>\n",
       "      <td>20.406223</td>\n",
       "      <td>34.469164</td>\n",
       "      <td>22.551634</td>\n",
       "      <td>4.210573</td>\n",
       "    </tr>\n",
       "    <tr>\n",
       "      <th>52962</th>\n",
       "      <td>2021-11-26 18:00:00</td>\n",
       "      <td>5658</td>\n",
       "      <td>9.904974</td>\n",
       "      <td>7.245156</td>\n",
       "      <td>24.933150</td>\n",
       "      <td>16.312646</td>\n",
       "      <td>3.792593</td>\n",
       "    </tr>\n",
       "    <tr>\n",
       "      <th>24899</th>\n",
       "      <td>2021-10-27 11:00:00</td>\n",
       "      <td>5629</td>\n",
       "      <td>13.563765</td>\n",
       "      <td>6.666611</td>\n",
       "      <td>19.676800</td>\n",
       "      <td>12.873651</td>\n",
       "      <td>1.825217</td>\n",
       "    </tr>\n",
       "    <tr>\n",
       "      <th>10993</th>\n",
       "      <td>2021-11-20 01:00:00</td>\n",
       "      <td>5617</td>\n",
       "      <td>18.526340</td>\n",
       "      <td>13.858179</td>\n",
       "      <td>59.734417</td>\n",
       "      <td>39.081560</td>\n",
       "      <td>7.685547</td>\n",
       "    </tr>\n",
       "    <tr>\n",
       "      <th>43825</th>\n",
       "      <td>2021-10-12 01:00:00</td>\n",
       "      <td>5653</td>\n",
       "      <td>14.620469</td>\n",
       "      <td>9.646616</td>\n",
       "      <td>27.794641</td>\n",
       "      <td>18.184792</td>\n",
       "      <td>3.231296</td>\n",
       "    </tr>\n",
       "    <tr>\n",
       "      <th>26016</th>\n",
       "      <td>2021-10-07 00:00:00</td>\n",
       "      <td>5631</td>\n",
       "      <td>26.511051</td>\n",
       "      <td>16.436764</td>\n",
       "      <td>29.147493</td>\n",
       "      <td>19.069902</td>\n",
       "      <td>4.372049</td>\n",
       "    </tr>\n",
       "    <tr>\n",
       "      <th>55223</th>\n",
       "      <td>2021-12-03 22:00:00</td>\n",
       "      <td>5645</td>\n",
       "      <td>8.849568</td>\n",
       "      <td>16.905436</td>\n",
       "      <td>11.104170</td>\n",
       "      <td>0.051567</td>\n",
       "      <td>1.089410</td>\n",
       "    </tr>\n",
       "    <tr>\n",
       "      <th>64960</th>\n",
       "      <td>2021-12-16 15:00:00</td>\n",
       "      <td>5611</td>\n",
       "      <td>34.327110</td>\n",
       "      <td>41.261930</td>\n",
       "      <td>39.306420</td>\n",
       "      <td>14.133032</td>\n",
       "      <td>3.787135</td>\n",
       "    </tr>\n",
       "  </tbody>\n",
       "</table>\n",
       "</div>"
      ],
      "text/plain": [
       "                      date   PC4       pm10      pm2.5        no2         no  \\\n",
       "56726  2021-12-05 13:00:00  5642  15.143165  23.478901  14.278735   2.586056   \n",
       "52043  2021-10-19 11:00:00  5658  11.926496   6.643806  18.658387  12.207349   \n",
       "29320  2021-10-10 16:00:00  5633  37.149723  20.406223  34.469164  22.551634   \n",
       "52962  2021-11-26 18:00:00  5658   9.904974   7.245156  24.933150  16.312646   \n",
       "24899  2021-10-27 11:00:00  5629  13.563765   6.666611  19.676800  12.873651   \n",
       "10993  2021-11-20 01:00:00  5617  18.526340  13.858179  59.734417  39.081560   \n",
       "43825  2021-10-12 01:00:00  5653  14.620469   9.646616  27.794641  18.184792   \n",
       "26016  2021-10-07 00:00:00  5631  26.511051  16.436764  29.147493  19.069902   \n",
       "55223  2021-12-03 22:00:00  5645   8.849568  16.905436  11.104170   0.051567   \n",
       "64960  2021-12-16 15:00:00  5611  34.327110  41.261930  39.306420  14.133032   \n",
       "\n",
       "            so2  \n",
       "56726  1.160788  \n",
       "52043  5.012210  \n",
       "29320  4.210573  \n",
       "52962  3.792593  \n",
       "24899  1.825217  \n",
       "10993  7.685547  \n",
       "43825  3.231296  \n",
       "26016  4.372049  \n",
       "55223  1.089410  \n",
       "64960  3.787135  "
      ]
     },
     "execution_count": 116,
     "metadata": {},
     "output_type": "execute_result"
    }
   ],
   "source": [
    "df_air_pollution.sample(10)"
   ]
  },
  {
   "cell_type": "markdown",
   "id": "b5d2cc9b",
   "metadata": {},
   "source": [
    "<h4><font color=mediumvioletred>Show all postal codes</font></h4>"
   ]
  },
  {
   "cell_type": "code",
   "execution_count": 117,
   "id": "7221116e",
   "metadata": {},
   "outputs": [
    {
     "data": {
      "text/plain": [
       "array([5611, 5612, 5613, 5614, 5615, 5616, 5617, 5621, 5622, 5623, 5624,\n",
       "       5625, 5626, 5627, 5628, 5629, 5631, 5632, 5633, 5641, 5642, 5643,\n",
       "       5644, 5645, 5646, 5651, 5652, 5653, 5654, 5655, 5656, 5657, 5658])"
      ]
     },
     "execution_count": 117,
     "metadata": {},
     "output_type": "execute_result"
    }
   ],
   "source": [
    "df_meteo['PC4'].unique()"
   ]
  },
  {
   "cell_type": "markdown",
   "id": "49b1e3c6",
   "metadata": {},
   "source": [
    "<h4><font color=mediumvioletred>Show the shape of the meteo data</font></h4>"
   ]
  },
  {
   "cell_type": "code",
   "execution_count": 118,
   "id": "c2da62b6",
   "metadata": {},
   "outputs": [
    {
     "data": {
      "text/plain": [
       "(289080, 7)"
      ]
     },
     "execution_count": 118,
     "metadata": {},
     "output_type": "execute_result"
    }
   ],
   "source": [
    "df_meteo.shape"
   ]
  },
  {
   "cell_type": "markdown",
   "id": "588fad0d",
   "metadata": {},
   "source": [
    "<h4><font color=mediumvioletred>Show all datatypes of meteo data</font></h4>"
   ]
  },
  {
   "cell_type": "code",
   "execution_count": 119,
   "id": "b4d8fa8b",
   "metadata": {},
   "outputs": [
    {
     "data": {
      "text/plain": [
       "date    datetime64[ns]\n",
       "PC4              int64\n",
       "wd             float64\n",
       "ws             float64\n",
       "blh            float64\n",
       "tcc            float64\n",
       "ssrd           float64\n",
       "dtype: object"
      ]
     },
     "execution_count": 119,
     "metadata": {},
     "output_type": "execute_result"
    }
   ],
   "source": [
    "df_meteo['date'] = pd.to_datetime(df_meteo['date'])\n",
    "df_air_pollution['date'] = pd.to_datetime(df_air_pollution['date'])\n",
    "df_meteo.dtypes"
   ]
  },
  {
   "cell_type": "markdown",
   "id": "a7c0836d",
   "metadata": {},
   "source": [
    "<h4><font color=mediumvioletred>Show standard distribution of boundary layer height data</font></h4>"
   ]
  },
  {
   "cell_type": "code",
   "execution_count": 120,
   "id": "044ef3c7",
   "metadata": {},
   "outputs": [
    {
     "name": "stdout",
     "output_type": "stream",
     "text": [
      "Skewness per column:\n",
      "PC4     0.133640\n",
      "wd     -0.214002\n",
      "ws      0.931107\n",
      "blh     1.054221\n",
      "tcc    -0.894305\n",
      "ssrd    1.656176\n",
      "dtype: float64\n"
     ]
    },
    {
     "data": {
      "image/png": "[encoded data removed]",
      "text/plain": [
       "<Figure size 1440x360 with 1 Axes>"
      ]
     },
     "metadata": {
      "needs_background": "light"
     },
     "output_type": "display_data"
    },
    {
     "data": {
      "image/png": "[encoded data removed]",
      "text/plain": [
       "<Figure size 1440x720 with 1 Axes>"
      ]
     },
     "metadata": {
      "needs_background": "light"
     },
     "output_type": "display_data"
    }
   ],
   "source": [
    "print(\"Skewness per column:\")\n",
    "print(df_meteo.skew(numeric_only=True))\n",
    "\n",
    "plt.figure(figsize=(20,5))\n",
    "plt.boxplot(df_meteo['blh'], vert=False)\n",
    "plt.title(\"Standard distribution of the boundary layer height values\")\n",
    "plt.xlabel(\"Boundary layer height in meters\")\n",
    "plt.show()\n",
    "\n",
    "plt.figure(figsize=(20,10))\n",
    "plt.hist(df_meteo['blh'], edgecolor='white', color='brown', bins=100)\n",
    "plt.title(\"Boundary layer height values\")\n",
    "plt.xlabel(\"Boundary layer height in meters\")\n",
    "plt.ylabel(\"Distribution\")\n",
    "plt.show()"
   ]
  },
  {
   "cell_type": "markdown",
   "id": "109b680a",
   "metadata": {},
   "source": [
    "<h4><font color=mediumvioletred>Filter meteo data on single postal code and get a sample</font></h4>"
   ]
  },
  {
   "cell_type": "code",
   "execution_count": 121,
   "id": "834335e4",
   "metadata": {},
   "outputs": [
    {
     "data": {
      "text/html": [
       "<div>\n",
       "<style scoped>\n",
       "    .dataframe tbody tr th:only-of-type {\n",
       "        vertical-align: middle;\n",
       "    }\n",
       "\n",
       "    .dataframe tbody tr th {\n",
       "        vertical-align: top;\n",
       "    }\n",
       "\n",
       "    .dataframe thead th {\n",
       "        text-align: right;\n",
       "    }\n",
       "</style>\n",
       "<table border=\"1\" class=\"dataframe\">\n",
       "  <thead>\n",
       "    <tr style=\"text-align: right;\">\n",
       "      <th></th>\n",
       "      <th>date</th>\n",
       "      <th>PC4</th>\n",
       "      <th>wd</th>\n",
       "      <th>ws</th>\n",
       "      <th>blh</th>\n",
       "      <th>tcc</th>\n",
       "      <th>ssrd</th>\n",
       "    </tr>\n",
       "  </thead>\n",
       "  <tbody>\n",
       "    <tr>\n",
       "      <th>5190</th>\n",
       "      <td>2021-08-05 06:00:00</td>\n",
       "      <td>5611</td>\n",
       "      <td>279.537476</td>\n",
       "      <td>0.156346</td>\n",
       "      <td>28.453054</td>\n",
       "      <td>0.141804</td>\n",
       "      <td>98.377769</td>\n",
       "    </tr>\n",
       "    <tr>\n",
       "      <th>4051</th>\n",
       "      <td>2021-06-18 19:00:00</td>\n",
       "      <td>5611</td>\n",
       "      <td>210.854492</td>\n",
       "      <td>2.649495</td>\n",
       "      <td>679.836060</td>\n",
       "      <td>0.329423</td>\n",
       "      <td>69.083416</td>\n",
       "    </tr>\n",
       "    <tr>\n",
       "      <th>6875</th>\n",
       "      <td>2021-10-14 11:00:00</td>\n",
       "      <td>5611</td>\n",
       "      <td>197.593216</td>\n",
       "      <td>5.910963</td>\n",
       "      <td>811.763672</td>\n",
       "      <td>0.856688</td>\n",
       "      <td>201.671181</td>\n",
       "    </tr>\n",
       "    <tr>\n",
       "      <th>3099</th>\n",
       "      <td>2021-05-10 03:00:00</td>\n",
       "      <td>5611</td>\n",
       "      <td>282.790100</td>\n",
       "      <td>5.851960</td>\n",
       "      <td>808.363953</td>\n",
       "      <td>0.996644</td>\n",
       "      <td>0.000000</td>\n",
       "    </tr>\n",
       "    <tr>\n",
       "      <th>4328</th>\n",
       "      <td>2021-06-30 08:00:00</td>\n",
       "      <td>5611</td>\n",
       "      <td>119.029724</td>\n",
       "      <td>3.082170</td>\n",
       "      <td>442.673065</td>\n",
       "      <td>1.000000</td>\n",
       "      <td>54.721541</td>\n",
       "    </tr>\n",
       "    <tr>\n",
       "      <th>780</th>\n",
       "      <td>2021-02-02 12:00:00</td>\n",
       "      <td>5611</td>\n",
       "      <td>285.451996</td>\n",
       "      <td>2.318806</td>\n",
       "      <td>278.885925</td>\n",
       "      <td>1.000000</td>\n",
       "      <td>48.848711</td>\n",
       "    </tr>\n",
       "    <tr>\n",
       "      <th>1261</th>\n",
       "      <td>2021-02-22 13:00:00</td>\n",
       "      <td>5611</td>\n",
       "      <td>251.558075</td>\n",
       "      <td>4.166262</td>\n",
       "      <td>735.981750</td>\n",
       "      <td>0.832544</td>\n",
       "      <td>382.520000</td>\n",
       "    </tr>\n",
       "    <tr>\n",
       "      <th>8409</th>\n",
       "      <td>2021-12-17 09:00:00</td>\n",
       "      <td>5611</td>\n",
       "      <td>64.079475</td>\n",
       "      <td>1.743395</td>\n",
       "      <td>163.040543</td>\n",
       "      <td>1.000000</td>\n",
       "      <td>13.679715</td>\n",
       "    </tr>\n",
       "    <tr>\n",
       "      <th>8227</th>\n",
       "      <td>2021-12-09 19:00:00</td>\n",
       "      <td>5611</td>\n",
       "      <td>251.162476</td>\n",
       "      <td>3.999039</td>\n",
       "      <td>440.350769</td>\n",
       "      <td>0.688638</td>\n",
       "      <td>0.000000</td>\n",
       "    </tr>\n",
       "    <tr>\n",
       "      <th>4395</th>\n",
       "      <td>2021-07-03 03:00:00</td>\n",
       "      <td>5611</td>\n",
       "      <td>323.722015</td>\n",
       "      <td>1.986299</td>\n",
       "      <td>69.018768</td>\n",
       "      <td>0.674117</td>\n",
       "      <td>0.000000</td>\n",
       "    </tr>\n",
       "  </tbody>\n",
       "</table>\n",
       "</div>"
      ],
      "text/plain": [
       "                    date   PC4          wd        ws         blh       tcc  \\\n",
       "5190 2021-08-05 06:00:00  5611  279.537476  0.156346   28.453054  0.141804   \n",
       "4051 2021-06-18 19:00:00  5611  210.854492  2.649495  679.836060  0.329423   \n",
       "6875 2021-10-14 11:00:00  5611  197.593216  5.910963  811.763672  0.856688   \n",
       "3099 2021-05-10 03:00:00  5611  282.790100  5.851960  808.363953  0.996644   \n",
       "4328 2021-06-30 08:00:00  5611  119.029724  3.082170  442.673065  1.000000   \n",
       "780  2021-02-02 12:00:00  5611  285.451996  2.318806  278.885925  1.000000   \n",
       "1261 2021-02-22 13:00:00  5611  251.558075  4.166262  735.981750  0.832544   \n",
       "8409 2021-12-17 09:00:00  5611   64.079475  1.743395  163.040543  1.000000   \n",
       "8227 2021-12-09 19:00:00  5611  251.162476  3.999039  440.350769  0.688638   \n",
       "4395 2021-07-03 03:00:00  5611  323.722015  1.986299   69.018768  0.674117   \n",
       "\n",
       "            ssrd  \n",
       "5190   98.377769  \n",
       "4051   69.083416  \n",
       "6875  201.671181  \n",
       "3099    0.000000  \n",
       "4328   54.721541  \n",
       "780    48.848711  \n",
       "1261  382.520000  \n",
       "8409   13.679715  \n",
       "8227    0.000000  \n",
       "4395    0.000000  "
      ]
     },
     "execution_count": 121,
     "metadata": {},
     "output_type": "execute_result"
    }
   ],
   "source": [
    "postalcode_df_meteo = df_meteo[df_meteo['PC4'] == 5611]\n",
    "postalcode_df_meteo.sample(10)"
   ]
  },
  {
   "cell_type": "markdown",
   "id": "bdd51343",
   "metadata": {},
   "source": [
    "<h4><font color=mediumvioletred>Visualize windspeed compared to solar surface radiation downwards</font></h4>"
   ]
  },
  {
   "cell_type": "code",
   "execution_count": 122,
   "id": "fa9d31de",
   "metadata": {},
   "outputs": [
    {
     "data": {
      "image/png": "[encoded data removed]",
      "text/plain": [
       "<Figure size 1800x432 with 1 Axes>"
      ]
     },
     "metadata": {
      "needs_background": "light"
     },
     "output_type": "display_data"
    }
   ],
   "source": [
    "fig, ax = plt.subplots(figsize=(25, 6))\n",
    "scatter = ax.scatter((postalcode_df_meteo[\"ws\"]),\n",
    "                list(postalcode_df_meteo[\"ssrd\"]),\n",
    "                color=\"blue\")\n",
    "\n",
    "ax.set(title=\"Windspeed compared to the solar surface radiation downwards \\n\",\n",
    "      xlabel=\"Windspeed in m/s\",\n",
    "      ylabel=\"Solar surface radiation downwards in W/m2\");"
   ]
  },
  {
   "cell_type": "markdown",
   "id": "e7b1f582",
   "metadata": {},
   "source": [
    "<h4><font color=mediumvioletred>Visualize windspeed in a single day from a specific postal code</font></h4>"
   ]
  },
  {
   "cell_type": "code",
   "execution_count": 123,
   "id": "b7313327",
   "metadata": {
    "scrolled": false
   },
   "outputs": [
    {
     "data": {
      "image/png": "[encoded data removed]",
      "text/plain": [
       "<Figure size 864x432 with 1 Axes>"
      ]
     },
     "metadata": {
      "needs_background": "light"
     },
     "output_type": "display_data"
    }
   ],
   "source": [
    "one_day = postalcode_df_meteo[postalcode_df_meteo['date']. dt. strftime('%Y-%m-%d')=='2021-09-25']\n",
    "\n",
    "fig, ax = plt.subplots(figsize=(12, 6))\n",
    "plot = ax.plot(list(one_day[\"date\"]),\n",
    "                list(one_day[\"ws\"]),\n",
    "                color=\"blue\")\n",
    "\n",
    "ax.set(title=\"Windspeed in a day \\n\",\n",
    "      xlabel=\"Date and time\",\n",
    "      ylabel=\"Windspeed in m/s\");\n"
   ]
  },
  {
   "cell_type": "markdown",
   "id": "652a76a4",
   "metadata": {},
   "source": [
    "<h4><font color=mediumvioletred>Merge meteo and air pollution dataset and show sample</font></h4>"
   ]
  },
  {
   "cell_type": "code",
   "execution_count": 124,
   "id": "0ad9f1c6",
   "metadata": {},
   "outputs": [
    {
     "data": {
      "text/html": [
       "<div>\n",
       "<style scoped>\n",
       "    .dataframe tbody tr th:only-of-type {\n",
       "        vertical-align: middle;\n",
       "    }\n",
       "\n",
       "    .dataframe tbody tr th {\n",
       "        vertical-align: top;\n",
       "    }\n",
       "\n",
       "    .dataframe thead th {\n",
       "        text-align: right;\n",
       "    }\n",
       "</style>\n",
       "<table border=\"1\" class=\"dataframe\">\n",
       "  <thead>\n",
       "    <tr style=\"text-align: right;\">\n",
       "      <th></th>\n",
       "      <th>date</th>\n",
       "      <th>PC4</th>\n",
       "      <th>wd</th>\n",
       "      <th>ws</th>\n",
       "      <th>blh</th>\n",
       "      <th>tcc</th>\n",
       "      <th>ssrd</th>\n",
       "      <th>pm10</th>\n",
       "      <th>pm2.5</th>\n",
       "      <th>no2</th>\n",
       "      <th>no</th>\n",
       "      <th>so2</th>\n",
       "    </tr>\n",
       "  </thead>\n",
       "  <tbody>\n",
       "    <tr>\n",
       "      <th>11910</th>\n",
       "      <td>2021-10-06 06:00:00</td>\n",
       "      <td>5616</td>\n",
       "      <td>231.719589</td>\n",
       "      <td>7.463819</td>\n",
       "      <td>984.865540</td>\n",
       "      <td>0.998814</td>\n",
       "      <td>0.109375</td>\n",
       "      <td>5.555810</td>\n",
       "      <td>3.719020</td>\n",
       "      <td>10.373368</td>\n",
       "      <td>6.786831</td>\n",
       "      <td>1.228605</td>\n",
       "    </tr>\n",
       "    <tr>\n",
       "      <th>43636</th>\n",
       "      <td>2021-12-06 03:00:00</td>\n",
       "      <td>5633</td>\n",
       "      <td>76.722595</td>\n",
       "      <td>2.051291</td>\n",
       "      <td>49.938686</td>\n",
       "      <td>0.636791</td>\n",
       "      <td>0.000000</td>\n",
       "      <td>28.601015</td>\n",
       "      <td>50.395561</td>\n",
       "      <td>26.105941</td>\n",
       "      <td>16.424777</td>\n",
       "      <td>1.775241</td>\n",
       "    </tr>\n",
       "    <tr>\n",
       "      <th>46390</th>\n",
       "      <td>2021-12-23 21:00:00</td>\n",
       "      <td>5641</td>\n",
       "      <td>221.283203</td>\n",
       "      <td>6.158351</td>\n",
       "      <td>535.761597</td>\n",
       "      <td>1.000000</td>\n",
       "      <td>0.000000</td>\n",
       "      <td>25.495330</td>\n",
       "      <td>49.502530</td>\n",
       "      <td>24.611823</td>\n",
       "      <td>0.387607</td>\n",
       "      <td>2.293023</td>\n",
       "    </tr>\n",
       "    <tr>\n",
       "      <th>66887</th>\n",
       "      <td>2021-12-04 22:00:00</td>\n",
       "      <td>5654</td>\n",
       "      <td>228.156937</td>\n",
       "      <td>4.927902</td>\n",
       "      <td>439.419800</td>\n",
       "      <td>0.923668</td>\n",
       "      <td>0.000000</td>\n",
       "      <td>14.018852</td>\n",
       "      <td>20.362778</td>\n",
       "      <td>17.317814</td>\n",
       "      <td>0.079179</td>\n",
       "      <td>3.597568</td>\n",
       "    </tr>\n",
       "    <tr>\n",
       "      <th>37706</th>\n",
       "      <td>2021-10-14 02:00:00</td>\n",
       "      <td>5631</td>\n",
       "      <td>209.463043</td>\n",
       "      <td>3.856271</td>\n",
       "      <td>298.673187</td>\n",
       "      <td>0.967899</td>\n",
       "      <td>0.000000</td>\n",
       "      <td>9.877192</td>\n",
       "      <td>7.234859</td>\n",
       "      <td>16.433668</td>\n",
       "      <td>10.751815</td>\n",
       "      <td>5.279274</td>\n",
       "    </tr>\n",
       "    <tr>\n",
       "      <th>45831</th>\n",
       "      <td>2021-11-30 15:00:00</td>\n",
       "      <td>5641</td>\n",
       "      <td>174.152756</td>\n",
       "      <td>6.610399</td>\n",
       "      <td>861.110291</td>\n",
       "      <td>1.000000</td>\n",
       "      <td>6.749426</td>\n",
       "      <td>5.502787</td>\n",
       "      <td>4.499235</td>\n",
       "      <td>22.536007</td>\n",
       "      <td>14.744303</td>\n",
       "      <td>1.020127</td>\n",
       "    </tr>\n",
       "    <tr>\n",
       "      <th>19899</th>\n",
       "      <td>2021-11-17 03:00:00</td>\n",
       "      <td>5622</td>\n",
       "      <td>235.415527</td>\n",
       "      <td>3.388723</td>\n",
       "      <td>271.804810</td>\n",
       "      <td>0.778807</td>\n",
       "      <td>0.000000</td>\n",
       "      <td>21.696812</td>\n",
       "      <td>18.015993</td>\n",
       "      <td>51.434166</td>\n",
       "      <td>33.651076</td>\n",
       "      <td>4.984011</td>\n",
       "    </tr>\n",
       "    <tr>\n",
       "      <th>21849</th>\n",
       "      <td>2021-11-01 09:00:00</td>\n",
       "      <td>5623</td>\n",
       "      <td>246.818939</td>\n",
       "      <td>6.229906</td>\n",
       "      <td>995.159180</td>\n",
       "      <td>0.023125</td>\n",
       "      <td>187.133819</td>\n",
       "      <td>11.663565</td>\n",
       "      <td>5.471729</td>\n",
       "      <td>14.662884</td>\n",
       "      <td>9.593270</td>\n",
       "      <td>2.588994</td>\n",
       "    </tr>\n",
       "    <tr>\n",
       "      <th>44523</th>\n",
       "      <td>2021-10-07 03:00:00</td>\n",
       "      <td>5641</td>\n",
       "      <td>170.913818</td>\n",
       "      <td>1.734940</td>\n",
       "      <td>74.196518</td>\n",
       "      <td>0.452396</td>\n",
       "      <td>0.000000</td>\n",
       "      <td>20.376648</td>\n",
       "      <td>13.866083</td>\n",
       "      <td>20.409999</td>\n",
       "      <td>13.353350</td>\n",
       "      <td>3.874133</td>\n",
       "    </tr>\n",
       "    <tr>\n",
       "      <th>43410</th>\n",
       "      <td>2021-11-26 18:00:00</td>\n",
       "      <td>5633</td>\n",
       "      <td>240.758362</td>\n",
       "      <td>6.144690</td>\n",
       "      <td>626.100586</td>\n",
       "      <td>0.999109</td>\n",
       "      <td>0.000000</td>\n",
       "      <td>11.374464</td>\n",
       "      <td>7.150613</td>\n",
       "      <td>34.082236</td>\n",
       "      <td>22.298484</td>\n",
       "      <td>3.554521</td>\n",
       "    </tr>\n",
       "  </tbody>\n",
       "</table>\n",
       "</div>"
      ],
      "text/plain": [
       "                     date   PC4          wd        ws         blh       tcc  \\\n",
       "11910 2021-10-06 06:00:00  5616  231.719589  7.463819  984.865540  0.998814   \n",
       "43636 2021-12-06 03:00:00  5633   76.722595  2.051291   49.938686  0.636791   \n",
       "46390 2021-12-23 21:00:00  5641  221.283203  6.158351  535.761597  1.000000   \n",
       "66887 2021-12-04 22:00:00  5654  228.156937  4.927902  439.419800  0.923668   \n",
       "37706 2021-10-14 02:00:00  5631  209.463043  3.856271  298.673187  0.967899   \n",
       "45831 2021-11-30 15:00:00  5641  174.152756  6.610399  861.110291  1.000000   \n",
       "19899 2021-11-17 03:00:00  5622  235.415527  3.388723  271.804810  0.778807   \n",
       "21849 2021-11-01 09:00:00  5623  246.818939  6.229906  995.159180  0.023125   \n",
       "44523 2021-10-07 03:00:00  5641  170.913818  1.734940   74.196518  0.452396   \n",
       "43410 2021-11-26 18:00:00  5633  240.758362  6.144690  626.100586  0.999109   \n",
       "\n",
       "             ssrd       pm10      pm2.5        no2         no       so2  \n",
       "11910    0.109375   5.555810   3.719020  10.373368   6.786831  1.228605  \n",
       "43636    0.000000  28.601015  50.395561  26.105941  16.424777  1.775241  \n",
       "46390    0.000000  25.495330  49.502530  24.611823   0.387607  2.293023  \n",
       "66887    0.000000  14.018852  20.362778  17.317814   0.079179  3.597568  \n",
       "37706    0.000000   9.877192   7.234859  16.433668  10.751815  5.279274  \n",
       "45831    6.749426   5.502787   4.499235  22.536007  14.744303  1.020127  \n",
       "19899    0.000000  21.696812  18.015993  51.434166  33.651076  4.984011  \n",
       "21849  187.133819  11.663565   5.471729  14.662884   9.593270  2.588994  \n",
       "44523    0.000000  20.376648  13.866083  20.409999  13.353350  3.874133  \n",
       "43410    0.000000  11.374464   7.150613  34.082236  22.298484  3.554521  "
      ]
     },
     "execution_count": 124,
     "metadata": {},
     "output_type": "execute_result"
    }
   ],
   "source": [
    "df_meteo_air_pollution = pd.merge(df_meteo, df_air_pollution[['PC4','date', 'pm10', 'pm2.5', 'no2',\t'no', 'so2']], on=['PC4', 'date'])\n",
    "df_meteo_air_pollution.sample(10)"
   ]
  },
  {
   "cell_type": "markdown",
   "id": "9752b5fb",
   "metadata": {},
   "source": [
    "<h4><font color=mediumvioletred>Show corrolation between merged meteo and air pollution data</font></h4>"
   ]
  },
  {
   "cell_type": "code",
   "execution_count": 125,
   "id": "e3e8f34c",
   "metadata": {},
   "outputs": [
    {
     "data": {
      "text/html": [
       "<div>\n",
       "<style scoped>\n",
       "    .dataframe tbody tr th:only-of-type {\n",
       "        vertical-align: middle;\n",
       "    }\n",
       "\n",
       "    .dataframe tbody tr th {\n",
       "        vertical-align: top;\n",
       "    }\n",
       "\n",
       "    .dataframe thead th {\n",
       "        text-align: right;\n",
       "    }\n",
       "</style>\n",
       "<table border=\"1\" class=\"dataframe\">\n",
       "  <thead>\n",
       "    <tr style=\"text-align: right;\">\n",
       "      <th></th>\n",
       "      <th>PC4</th>\n",
       "      <th>wd</th>\n",
       "      <th>ws</th>\n",
       "      <th>blh</th>\n",
       "      <th>tcc</th>\n",
       "      <th>ssrd</th>\n",
       "      <th>pm10</th>\n",
       "      <th>pm2.5</th>\n",
       "      <th>no2</th>\n",
       "      <th>no</th>\n",
       "      <th>so2</th>\n",
       "    </tr>\n",
       "  </thead>\n",
       "  <tbody>\n",
       "    <tr>\n",
       "      <th>PC4</th>\n",
       "      <td>1.000000</td>\n",
       "      <td>-0.000203</td>\n",
       "      <td>-0.001175</td>\n",
       "      <td>-0.000395</td>\n",
       "      <td>-0.000085</td>\n",
       "      <td>0.000106</td>\n",
       "      <td>-0.026865</td>\n",
       "      <td>-0.028674</td>\n",
       "      <td>-0.034462</td>\n",
       "      <td>-0.027125</td>\n",
       "      <td>0.004346</td>\n",
       "    </tr>\n",
       "    <tr>\n",
       "      <th>wd</th>\n",
       "      <td>-0.000203</td>\n",
       "      <td>1.000000</td>\n",
       "      <td>0.190082</td>\n",
       "      <td>0.048322</td>\n",
       "      <td>0.050032</td>\n",
       "      <td>0.032333</td>\n",
       "      <td>-0.148475</td>\n",
       "      <td>-0.106274</td>\n",
       "      <td>-0.161741</td>\n",
       "      <td>-0.109364</td>\n",
       "      <td>-0.008121</td>\n",
       "    </tr>\n",
       "    <tr>\n",
       "      <th>ws</th>\n",
       "      <td>-0.001175</td>\n",
       "      <td>0.190082</td>\n",
       "      <td>1.000000</td>\n",
       "      <td>0.807271</td>\n",
       "      <td>0.176822</td>\n",
       "      <td>0.073962</td>\n",
       "      <td>-0.607904</td>\n",
       "      <td>-0.472557</td>\n",
       "      <td>-0.591700</td>\n",
       "      <td>-0.499212</td>\n",
       "      <td>-0.212465</td>\n",
       "    </tr>\n",
       "    <tr>\n",
       "      <th>blh</th>\n",
       "      <td>-0.000395</td>\n",
       "      <td>0.048322</td>\n",
       "      <td>0.807271</td>\n",
       "      <td>1.000000</td>\n",
       "      <td>0.200182</td>\n",
       "      <td>0.341155</td>\n",
       "      <td>-0.615602</td>\n",
       "      <td>-0.542800</td>\n",
       "      <td>-0.655762</td>\n",
       "      <td>-0.502562</td>\n",
       "      <td>-0.337730</td>\n",
       "    </tr>\n",
       "    <tr>\n",
       "      <th>tcc</th>\n",
       "      <td>-0.000085</td>\n",
       "      <td>0.050032</td>\n",
       "      <td>0.176822</td>\n",
       "      <td>0.200182</td>\n",
       "      <td>1.000000</td>\n",
       "      <td>0.001251</td>\n",
       "      <td>-0.031441</td>\n",
       "      <td>0.110042</td>\n",
       "      <td>-0.105527</td>\n",
       "      <td>-0.186421</td>\n",
       "      <td>-0.208994</td>\n",
       "    </tr>\n",
       "    <tr>\n",
       "      <th>ssrd</th>\n",
       "      <td>0.000106</td>\n",
       "      <td>0.032333</td>\n",
       "      <td>0.073962</td>\n",
       "      <td>0.341155</td>\n",
       "      <td>0.001251</td>\n",
       "      <td>1.000000</td>\n",
       "      <td>-0.059004</td>\n",
       "      <td>-0.158170</td>\n",
       "      <td>-0.206825</td>\n",
       "      <td>-0.049303</td>\n",
       "      <td>-0.076840</td>\n",
       "    </tr>\n",
       "    <tr>\n",
       "      <th>pm10</th>\n",
       "      <td>-0.026865</td>\n",
       "      <td>-0.148475</td>\n",
       "      <td>-0.607904</td>\n",
       "      <td>-0.615602</td>\n",
       "      <td>-0.031441</td>\n",
       "      <td>-0.059004</td>\n",
       "      <td>1.000000</td>\n",
       "      <td>0.886844</td>\n",
       "      <td>0.560476</td>\n",
       "      <td>0.283385</td>\n",
       "      <td>0.336788</td>\n",
       "    </tr>\n",
       "    <tr>\n",
       "      <th>pm2.5</th>\n",
       "      <td>-0.028674</td>\n",
       "      <td>-0.106274</td>\n",
       "      <td>-0.472557</td>\n",
       "      <td>-0.542800</td>\n",
       "      <td>0.110042</td>\n",
       "      <td>-0.158170</td>\n",
       "      <td>0.886844</td>\n",
       "      <td>1.000000</td>\n",
       "      <td>0.431592</td>\n",
       "      <td>0.014917</td>\n",
       "      <td>0.189855</td>\n",
       "    </tr>\n",
       "    <tr>\n",
       "      <th>no2</th>\n",
       "      <td>-0.034462</td>\n",
       "      <td>-0.161741</td>\n",
       "      <td>-0.591700</td>\n",
       "      <td>-0.655762</td>\n",
       "      <td>-0.105527</td>\n",
       "      <td>-0.206825</td>\n",
       "      <td>0.560476</td>\n",
       "      <td>0.431592</td>\n",
       "      <td>1.000000</td>\n",
       "      <td>0.735620</td>\n",
       "      <td>0.394545</td>\n",
       "    </tr>\n",
       "    <tr>\n",
       "      <th>no</th>\n",
       "      <td>-0.027125</td>\n",
       "      <td>-0.109364</td>\n",
       "      <td>-0.499212</td>\n",
       "      <td>-0.502562</td>\n",
       "      <td>-0.186421</td>\n",
       "      <td>-0.049303</td>\n",
       "      <td>0.283385</td>\n",
       "      <td>0.014917</td>\n",
       "      <td>0.735620</td>\n",
       "      <td>1.000000</td>\n",
       "      <td>0.371746</td>\n",
       "    </tr>\n",
       "    <tr>\n",
       "      <th>so2</th>\n",
       "      <td>0.004346</td>\n",
       "      <td>-0.008121</td>\n",
       "      <td>-0.212465</td>\n",
       "      <td>-0.337730</td>\n",
       "      <td>-0.208994</td>\n",
       "      <td>-0.076840</td>\n",
       "      <td>0.336788</td>\n",
       "      <td>0.189855</td>\n",
       "      <td>0.394545</td>\n",
       "      <td>0.371746</td>\n",
       "      <td>1.000000</td>\n",
       "    </tr>\n",
       "  </tbody>\n",
       "</table>\n",
       "</div>"
      ],
      "text/plain": [
       "            PC4        wd        ws       blh       tcc      ssrd      pm10  \\\n",
       "PC4    1.000000 -0.000203 -0.001175 -0.000395 -0.000085  0.000106 -0.026865   \n",
       "wd    -0.000203  1.000000  0.190082  0.048322  0.050032  0.032333 -0.148475   \n",
       "ws    -0.001175  0.190082  1.000000  0.807271  0.176822  0.073962 -0.607904   \n",
       "blh   -0.000395  0.048322  0.807271  1.000000  0.200182  0.341155 -0.615602   \n",
       "tcc   -0.000085  0.050032  0.176822  0.200182  1.000000  0.001251 -0.031441   \n",
       "ssrd   0.000106  0.032333  0.073962  0.341155  0.001251  1.000000 -0.059004   \n",
       "pm10  -0.026865 -0.148475 -0.607904 -0.615602 -0.031441 -0.059004  1.000000   \n",
       "pm2.5 -0.028674 -0.106274 -0.472557 -0.542800  0.110042 -0.158170  0.886844   \n",
       "no2   -0.034462 -0.161741 -0.591700 -0.655762 -0.105527 -0.206825  0.560476   \n",
       "no    -0.027125 -0.109364 -0.499212 -0.502562 -0.186421 -0.049303  0.283385   \n",
       "so2    0.004346 -0.008121 -0.212465 -0.337730 -0.208994 -0.076840  0.336788   \n",
       "\n",
       "          pm2.5       no2        no       so2  \n",
       "PC4   -0.028674 -0.034462 -0.027125  0.004346  \n",
       "wd    -0.106274 -0.161741 -0.109364 -0.008121  \n",
       "ws    -0.472557 -0.591700 -0.499212 -0.212465  \n",
       "blh   -0.542800 -0.655762 -0.502562 -0.337730  \n",
       "tcc    0.110042 -0.105527 -0.186421 -0.208994  \n",
       "ssrd  -0.158170 -0.206825 -0.049303 -0.076840  \n",
       "pm10   0.886844  0.560476  0.283385  0.336788  \n",
       "pm2.5  1.000000  0.431592  0.014917  0.189855  \n",
       "no2    0.431592  1.000000  0.735620  0.394545  \n",
       "no     0.014917  0.735620  1.000000  0.371746  \n",
       "so2    0.189855  0.394545  0.371746  1.000000  "
      ]
     },
     "execution_count": 125,
     "metadata": {},
     "output_type": "execute_result"
    }
   ],
   "source": [
    "df_meteo_air_pollution.corr(method='spearman')"
   ]
  },
  {
   "cell_type": "markdown",
   "id": "f25db479",
   "metadata": {},
   "source": [
    "<h4><font color=mediumvioletred>Show corrolation between particulate matter smaller than 2.5 um and windspeed</font></h4>"
   ]
  },
  {
   "cell_type": "code",
   "execution_count": 126,
   "id": "0bdc9d3c",
   "metadata": {},
   "outputs": [
    {
     "name": "stdout",
     "output_type": "stream",
     "text": [
      "-0.4220468437258586\n"
     ]
    },
    {
     "data": {
      "image/png": "[encoded data removed]",
      "text/plain": [
       "<Figure size 432x288 with 1 Axes>"
      ]
     },
     "metadata": {
      "needs_background": "light"
     },
     "output_type": "display_data"
    }
   ],
   "source": [
    "group_by_day = df_meteo_air_pollution.groupby(pd.Grouper(freq='D', key='date')).mean()\n",
    "ws_pm25_corr = group_by_day[\"ws\"].corr(group_by_day[\"pm2.5\"])\n",
    "print(ws_pm25_corr)\n",
    "plt.scatter(group_by_day[\"ws\"], group_by_day[\"pm2.5\"])\n",
    "plt.plot(np.unique(group_by_day[\"ws\"]), np.poly1d(np.polyfit(group_by_day[\"ws\"], group_by_day[\"pm2.5\"], 1))\n",
    "         (np.unique(group_by_day[\"ws\"])), color='red')\n",
    "plt.title('Correlation between PM2.5 and windspeed')\n",
    "plt.xlabel('Windspeed in m/s')\n",
    "plt.ylabel('Inhalable particles with diameter \\n of 2.5 micrometers or smaller');\n",
    "# Particulate matter <2.5um in ug/m3"
   ]
  },
  {
   "cell_type": "markdown",
   "id": "dee8175a",
   "metadata": {},
   "source": [
    "<h4><font color=mediumvioletred>Show corrolation between particulate matter smaller than 2.5 um and boundary layer height</font></h4>"
   ]
  },
  {
   "cell_type": "code",
   "execution_count": 127,
   "id": "fda0afcc",
   "metadata": {},
   "outputs": [
    {
     "name": "stdout",
     "output_type": "stream",
     "text": [
      "-0.5270951619288825\n"
     ]
    },
    {
     "data": {
      "image/png": "[encoded data removed]",
      "text/plain": [
       "<Figure size 432x288 with 1 Axes>"
      ]
     },
     "metadata": {
      "needs_background": "light"
     },
     "output_type": "display_data"
    }
   ],
   "source": [
    "group_by_day = df_meteo_air_pollution.groupby(pd.Grouper(freq='D', key='date')).mean()\n",
    "ws_pm25_corr = group_by_day[\"blh\"].corr(group_by_day[\"pm2.5\"])\n",
    "print(ws_pm25_corr)\n",
    "plt.scatter(group_by_day[\"blh\"], group_by_day[\"pm2.5\"])\n",
    "plt.plot(np.unique(group_by_day[\"blh\"]), np.poly1d(np.polyfit(group_by_day[\"blh\"], group_by_day[\"pm2.5\"], 1))\n",
    "         (np.unique(group_by_day[\"blh\"])), color='red')\n",
    "plt.title('Correlation between PM2.5 and boundary layer heigt')\n",
    "plt.xlabel('Boundary layer height in m')\n",
    "plt.ylabel('Inhalable particles with diameter \\n of 2.5 micrometers or smaller');\n",
    "# Particulate matter <2.5um in ug/m3"
   ]
  },
  {
   "cell_type": "markdown",
   "id": "dc275c60",
   "metadata": {},
   "source": [
    "<h4><font color=mediumvioletred>Show corrolation between particulate matter smaller than 2.5 um and solar surface radiation downwards</font></h4>"
   ]
  },
  {
   "cell_type": "code",
   "execution_count": 128,
   "id": "222e9499",
   "metadata": {},
   "outputs": [
    {
     "name": "stdout",
     "output_type": "stream",
     "text": [
      "-0.44465439902953424\n"
     ]
    },
    {
     "data": {
      "image/png": "[encoded data removed]",
      "text/plain": [
       "<Figure size 432x288 with 1 Axes>"
      ]
     },
     "metadata": {
      "needs_background": "light"
     },
     "output_type": "display_data"
    }
   ],
   "source": [
    "group_by_day = df_meteo_air_pollution.groupby(pd.Grouper(freq='D', key='date')).mean()\n",
    "ws_pm25_corr = group_by_day[\"ssrd\"].corr(group_by_day[\"pm2.5\"])\n",
    "print(ws_pm25_corr)\n",
    "plt.scatter(group_by_day[\"ssrd\"], group_by_day[\"pm2.5\"])\n",
    "plt.plot(np.unique(group_by_day[\"ssrd\"]), np.poly1d(np.polyfit(group_by_day[\"ssrd\"], group_by_day[\"pm2.5\"], 1))\n",
    "         (np.unique(group_by_day[\"ssrd\"])), color='red')\n",
    "plt.title('Correlation between PM2.5 and solar surface radiation downwards')\n",
    "plt.xlabel('Solar surface radiation downwards in w/m^2')\n",
    "plt.ylabel('Inhalable particles with diameter \\n of 2.5 micrometers or smaller');\n",
    "# Particulate matter <2.5um in ug/m3"
   ]
  },
  {
   "cell_type": "markdown",
   "id": "efe1f01f",
   "metadata": {},
   "source": [
    "<h4><font color=mediumvioletred> Visualize the boundary layer height for a week of postal code 5611</font></h4>"
   ]
  },
  {
   "cell_type": "code",
   "execution_count": 129,
   "id": "c51b2b52",
   "metadata": {},
   "outputs": [
    {
     "data": {
      "image/png": "[encoded data removed]",
      "text/plain": [
       "<Figure size 1440x360 with 1 Axes>"
      ]
     },
     "metadata": {
      "needs_background": "light"
     },
     "output_type": "display_data"
    }
   ],
   "source": [
    "# Combined meto and air polution data for postalcode 5611\n",
    "postalcode_df_meteo_air_polution = df_meteo_air_pollution[df_meteo_air_pollution['PC4'] == 5611]\n",
    "\n",
    "# Combined data for the first week of november 2021 from postal code 5611 (24 * 7 = 168 entries)\n",
    "one_week_postalcode_df_meteo_air_polution = postalcode_df_meteo_air_polution[postalcode_df_meteo_air_polution['date']. dt. strftime('%Y-%m')=='2021-11'].head(168)\n",
    "    \n",
    "# Scatter plot with day against tip\n",
    "plt.figure(figsize = (20 ,5))\n",
    "\n",
    "plt.plot(one_week_postalcode_df_meteo_air_polution['date'], one_week_postalcode_df_meteo_air_polution['blh'])\n",
    " \n",
    "# Adding Title to the Plot\n",
    "plt.title('Boundary layer height for a week of postal code 5611')\n",
    "\n",
    "# Setting the X and Y labels\n",
    "plt.xlabel('Date')\n",
    "plt.ylabel('Boundary layer height in meters')\n",
    "  \n",
    "plt.show()"
   ]
  },
  {
   "cell_type": "markdown",
   "id": "5cb914f7",
   "metadata": {},
   "source": [
    "<h4><font color=mediumvioletred> Visualize particulate matter smaller than 2.5 micrometers for a week of postal code 5611</font></h4>"
   ]
  },
  {
   "cell_type": "code",
   "execution_count": 130,
   "id": "897cdad4",
   "metadata": {},
   "outputs": [
    {
     "data": {
      "image/png": "[encoded data removed]",
      "text/plain": [
       "<Figure size 1440x360 with 1 Axes>"
      ]
     },
     "metadata": {
      "needs_background": "light"
     },
     "output_type": "display_data"
    }
   ],
   "source": [
    "# Scatter plot with day against tip\n",
    "plt.figure(figsize = (20 ,5))\n",
    "\n",
    "plt.scatter(one_week_postalcode_df_meteo_air_polution['date'], one_week_postalcode_df_meteo_air_polution['pm2.5'])\n",
    " \n",
    "# Adding Title to the Plot\n",
    "plt.title('Inhalable particles with diameter of 2.5 micrometers or smaller for a week of postal code 5611')\n",
    "\n",
    "# Setting the X and Y labels\n",
    "plt.xlabel('Date')\n",
    "plt.ylabel('Inhalable particles with diameter \\n of 2.5 micrometers or smaller')\n",
    "  \n",
    "plt.show()"
   ]
  },
  {
   "cell_type": "markdown",
   "id": "6d797944",
   "metadata": {},
   "source": [
    "<h2><font color=slateblue> 5. Data Preparation </font></h2>"
   ]
  },
  {
   "cell_type": "code",
   "execution_count": null,
   "id": "796a3f9f",
   "metadata": {},
   "outputs": [],
   "source": []
  },
  {
   "cell_type": "code",
   "execution_count": null,
   "id": "115e423a",
   "metadata": {},
   "outputs": [],
   "source": []
  },
  {
   "cell_type": "code",
   "execution_count": null,
   "id": "a62b87a5",
   "metadata": {},
   "outputs": [],
   "source": []
  },
  {
   "cell_type": "code",
   "execution_count": null,
   "id": "cedc31ce",
   "metadata": {},
   "outputs": [],
   "source": []
  },
  {
   "cell_type": "markdown",
   "id": "002b5a79",
   "metadata": {},
   "source": [
    "<h2><font color=slateblue> 6. Modelling </font></h2>"
   ]
  },
  {
   "cell_type": "code",
   "execution_count": null,
   "id": "197c479d",
   "metadata": {},
   "outputs": [],
   "source": []
  },
  {
   "cell_type": "code",
   "execution_count": null,
   "id": "b3714cbd",
   "metadata": {},
   "outputs": [],
   "source": []
  },
  {
   "cell_type": "code",
   "execution_count": null,
   "id": "ecefde99",
   "metadata": {},
   "outputs": [],
   "source": []
  },
  {
   "cell_type": "code",
   "execution_count": null,
   "id": "d11b9c24",
   "metadata": {},
   "outputs": [],
   "source": []
  }
 ],
 "metadata": {
  "kernelspec": {
   "display_name": "Python 3 (ipykernel)",
   "language": "python",
   "name": "python3"
  },
  "language_info": {
   "codemirror_mode": {
    "name": "ipython",
    "version": 3
   },
   "file_extension": ".py",
   "mimetype": "text/x-python",
   "name": "python",
   "nbconvert_exporter": "python",
   "pygments_lexer": "ipython3",
   "version": "3.9.12"
  },
  "vscode": {
   "interpreter": {
    "hash": "a76c5491e1515b143b64554a1480411b606ff31e96932336d0c7284eb616e436"
   }
  }
 },
 "nbformat": 4,
 "nbformat_minor": 5
}
