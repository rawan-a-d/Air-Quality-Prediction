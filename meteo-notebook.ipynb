{
 "cells": [
  {
   "cell_type": "markdown",
   "id": "90a4671f",
   "metadata": {},
   "source": [
    "<h1 style=\"font-size:3rem;color:maroon;\"> Predicting Air Pollution Level using Machine Learning</h1>\n",
    "\n",
    "This notebook looks into using various Python-based machine learning and data science libraries in an attempt to build a machine learning model capable of predicting air pollution level in an area in Eindhoven in the upcoming week.\n",
    "\n",
    "We're going to take the following approach:\n",
    "1. Problem definition\n",
    "2. Data\n",
    "3. Features\n",
    "4. Data Exploration & Visualization\n",
    "5. Data Preparation\n",
    "6. Modelling"
   ]
  },
  {
   "cell_type": "markdown",
   "id": "2fb30f1f",
   "metadata": {},
   "source": [
    "<h2><font color=slateblue> 1. Problem Definition </font></h2>\n",
    "\n",
    "In a statement,\n",
    "> Given historical pollution data, weather data and people going through an area, can we predict air pollution level in an area in Eindhoven in the upcoming week?"
   ]
  },
  {
   "cell_type": "markdown",
   "id": "cb8f4787",
   "metadata": {},
   "source": [
    "<h2><font color=slateblue> 2. Data </font></h2>\n",
    "\n",
    "The data is provided by TNO and Zicht op Data."
   ]
  },
  {
   "cell_type": "markdown",
   "id": "cbd70547",
   "metadata": {},
   "source": [
    "<h2><font color=slateblue> 3. Features </font></h2>\n",
    "\n",
    "This is where you'll get different information about each of the features in our data.\n",
    "\n",
    "We have three separate datasets for the period between 25-09-2021 and 30-12-2021:\n",
    "\n",
    "**Air pollution**\n",
    "* date: date in ymd_hms\n",
    "* PC4: postcode\n",
    "* pm2.5: particulate matter <2.5um in ug/m3\n",
    "* pm10: particulate matter <10um in ug/m3\n",
    "* no2: nitrogen dioxide in ug/m3\n",
    "* no: nitrogen oxide in ug/m3\n",
    "* so2: sulphur dioxide in ug/m3\n",
    "\n",
    "\n",
    "**Meteo**\n",
    "* date: date in ymd_hms\n",
    "* PC4: postcode\n",
    "* wd: wind direction in degrees 0-360\n",
    "* ws: wind speed in m/s\n",
    "* blh: boundary layer height in metres\n",
    "* tcc: total cloud cover in oktas (0-9)\n",
    "* ssrd: solar surface radiation downwards in W/m2 \n",
    "\n",
    "(see https://cds.climate.copernicus.eu/cdsapp#!/dataset/reanalysis-era5-single-levels?tab=overview for more information)\n",
    "\n",
    "**Zichtop**\n",
    "* PC4: postcode\n",
    "* date: date in ymd_hms\n",
    "* pop_tot: total number of people in PC4 for each time step\n",
    "* m00_30: number of people who have been there for up to 30 minutes\n",
    "* m30_60: number of people who have been there for 30 and 60 minutes\n",
    "* H1_2: number of people who have been there for 1 and 2 hours\n",
    "* H2_4: number of people who have been there for 2 and 4 hours\n",
    "* H4_8: number of people who have been there for 4 and 8 hours\n",
    "* H8_16: number of people who have been there for 8 and 16 hours\n",
    "* H16plus: number of people who have been there for over 16 hours"
   ]
  },
  {
   "cell_type": "markdown",
   "id": "4c0c3f50",
   "metadata": {},
   "source": [
    "<h2><font color=slateblue> 4. Data Exploration & Visualization </font></h2>"
   ]
  },
  {
   "cell_type": "markdown",
   "id": "71ec4af5",
   "metadata": {},
   "source": [
    "<h3><font color=steelblue>Meteo dataset</font><h3>"
   ]
  },
  {
   "cell_type": "markdown",
   "id": "a5af701c",
   "metadata": {},
   "source": [
    "<h4><font color=mediumvioletred>Read CSV files and get meteo data sample</font></h4>"
   ]
  },
  {
   "cell_type": "code",
   "execution_count": 1,
   "id": "074fdc9e",
   "metadata": {},
   "outputs": [
    {
     "name": "stdout",
     "output_type": "stream",
     "text": [
      "Requirement already satisfied: windrose in c:\\users\\jarno\\anaconda3\\lib\\site-packages (1.8.0)\n",
      "Requirement already satisfied: matplotlib>=3 in c:\\users\\jarno\\anaconda3\\lib\\site-packages (from windrose) (3.5.1)\n",
      "Requirement already satisfied: numpy>=1.19 in c:\\users\\jarno\\anaconda3\\lib\\site-packages (from windrose) (1.21.5)\n",
      "Requirement already satisfied: pyparsing>=2.2.1 in c:\\users\\jarno\\anaconda3\\lib\\site-packages (from matplotlib>=3->windrose) (3.0.4)\n",
      "Requirement already satisfied: cycler>=0.10 in c:\\users\\jarno\\anaconda3\\lib\\site-packages (from matplotlib>=3->windrose) (0.11.0)\n",
      "Requirement already satisfied: pillow>=6.2.0 in c:\\users\\jarno\\anaconda3\\lib\\site-packages (from matplotlib>=3->windrose) (9.0.1)\n",
      "Requirement already satisfied: python-dateutil>=2.7 in c:\\users\\jarno\\anaconda3\\lib\\site-packages (from matplotlib>=3->windrose) (2.8.2)\n",
      "Requirement already satisfied: packaging>=20.0 in c:\\users\\jarno\\anaconda3\\lib\\site-packages (from matplotlib>=3->windrose) (21.3)\n",
      "Requirement already satisfied: fonttools>=4.22.0 in c:\\users\\jarno\\anaconda3\\lib\\site-packages (from matplotlib>=3->windrose) (4.25.0)\n",
      "Requirement already satisfied: kiwisolver>=1.0.1 in c:\\users\\jarno\\anaconda3\\lib\\site-packages (from matplotlib>=3->windrose) (1.3.2)\n",
      "Requirement already satisfied: six>=1.5 in c:\\users\\jarno\\anaconda3\\lib\\site-packages (from python-dateutil>=2.7->matplotlib>=3->windrose) (1.16.0)\n"
     ]
    },
    {
     "data": {
      "text/html": [
       "<div>\n",
       "<style scoped>\n",
       "    .dataframe tbody tr th:only-of-type {\n",
       "        vertical-align: middle;\n",
       "    }\n",
       "\n",
       "    .dataframe tbody tr th {\n",
       "        vertical-align: top;\n",
       "    }\n",
       "\n",
       "    .dataframe thead th {\n",
       "        text-align: right;\n",
       "    }\n",
       "</style>\n",
       "<table border=\"1\" class=\"dataframe\">\n",
       "  <thead>\n",
       "    <tr style=\"text-align: right;\">\n",
       "      <th></th>\n",
       "      <th>date</th>\n",
       "      <th>PC4</th>\n",
       "      <th>wd</th>\n",
       "      <th>ws</th>\n",
       "      <th>blh</th>\n",
       "      <th>tcc</th>\n",
       "      <th>ssrd</th>\n",
       "    </tr>\n",
       "  </thead>\n",
       "  <tbody>\n",
       "    <tr>\n",
       "      <th>58245</th>\n",
       "      <td>2021-08-25 21:00:00</td>\n",
       "      <td>5617</td>\n",
       "      <td>149.969803</td>\n",
       "      <td>3.451474</td>\n",
       "      <td>765.691162</td>\n",
       "      <td>0.995539</td>\n",
       "      <td>0.000000</td>\n",
       "    </tr>\n",
       "    <tr>\n",
       "      <th>233921</th>\n",
       "      <td>2021-09-14 17:00:00</td>\n",
       "      <td>5652</td>\n",
       "      <td>304.301636</td>\n",
       "      <td>1.912099</td>\n",
       "      <td>278.921295</td>\n",
       "      <td>0.989855</td>\n",
       "      <td>44.043095</td>\n",
       "    </tr>\n",
       "    <tr>\n",
       "      <th>267071</th>\n",
       "      <td>2021-06-27 23:00:00</td>\n",
       "      <td>5656</td>\n",
       "      <td>36.986469</td>\n",
       "      <td>3.783909</td>\n",
       "      <td>238.892624</td>\n",
       "      <td>0.885957</td>\n",
       "      <td>0.000000</td>\n",
       "    </tr>\n",
       "    <tr>\n",
       "      <th>159541</th>\n",
       "      <td>2021-03-19 13:00:00</td>\n",
       "      <td>5633</td>\n",
       "      <td>60.361565</td>\n",
       "      <td>4.186870</td>\n",
       "      <td>1311.477661</td>\n",
       "      <td>0.220295</td>\n",
       "      <td>587.215278</td>\n",
       "    </tr>\n",
       "    <tr>\n",
       "      <th>235115</th>\n",
       "      <td>2021-11-03 11:00:00</td>\n",
       "      <td>5652</td>\n",
       "      <td>354.265167</td>\n",
       "      <td>1.145092</td>\n",
       "      <td>106.398544</td>\n",
       "      <td>1.000000</td>\n",
       "      <td>178.067656</td>\n",
       "    </tr>\n",
       "    <tr>\n",
       "      <th>233986</th>\n",
       "      <td>2021-09-17 10:00:00</td>\n",
       "      <td>5652</td>\n",
       "      <td>205.197830</td>\n",
       "      <td>2.564782</td>\n",
       "      <td>545.666199</td>\n",
       "      <td>0.848093</td>\n",
       "      <td>397.721493</td>\n",
       "    </tr>\n",
       "    <tr>\n",
       "      <th>216063</th>\n",
       "      <td>2021-08-31 15:00:00</td>\n",
       "      <td>5646</td>\n",
       "      <td>95.486710</td>\n",
       "      <td>4.452307</td>\n",
       "      <td>928.612549</td>\n",
       "      <td>0.562310</td>\n",
       "      <td>372.345486</td>\n",
       "    </tr>\n",
       "    <tr>\n",
       "      <th>232733</th>\n",
       "      <td>2021-07-27 05:00:00</td>\n",
       "      <td>5652</td>\n",
       "      <td>259.699219</td>\n",
       "      <td>2.994544</td>\n",
       "      <td>237.385666</td>\n",
       "      <td>0.992307</td>\n",
       "      <td>32.714564</td>\n",
       "    </tr>\n",
       "    <tr>\n",
       "      <th>277483</th>\n",
       "      <td>2021-09-04 19:00:00</td>\n",
       "      <td>5657</td>\n",
       "      <td>34.960678</td>\n",
       "      <td>2.375596</td>\n",
       "      <td>178.121384</td>\n",
       "      <td>0.135610</td>\n",
       "      <td>1.354408</td>\n",
       "    </tr>\n",
       "    <tr>\n",
       "      <th>43528</th>\n",
       "      <td>2021-12-20 16:00:00</td>\n",
       "      <td>5615</td>\n",
       "      <td>31.985201</td>\n",
       "      <td>1.802091</td>\n",
       "      <td>100.404823</td>\n",
       "      <td>0.871921</td>\n",
       "      <td>3.227890</td>\n",
       "    </tr>\n",
       "  </tbody>\n",
       "</table>\n",
       "</div>"
      ],
      "text/plain": [
       "                       date   PC4          wd        ws          blh  \\\n",
       "58245   2021-08-25 21:00:00  5617  149.969803  3.451474   765.691162   \n",
       "233921  2021-09-14 17:00:00  5652  304.301636  1.912099   278.921295   \n",
       "267071  2021-06-27 23:00:00  5656   36.986469  3.783909   238.892624   \n",
       "159541  2021-03-19 13:00:00  5633   60.361565  4.186870  1311.477661   \n",
       "235115  2021-11-03 11:00:00  5652  354.265167  1.145092   106.398544   \n",
       "233986  2021-09-17 10:00:00  5652  205.197830  2.564782   545.666199   \n",
       "216063  2021-08-31 15:00:00  5646   95.486710  4.452307   928.612549   \n",
       "232733  2021-07-27 05:00:00  5652  259.699219  2.994544   237.385666   \n",
       "277483  2021-09-04 19:00:00  5657   34.960678  2.375596   178.121384   \n",
       "43528   2021-12-20 16:00:00  5615   31.985201  1.802091   100.404823   \n",
       "\n",
       "             tcc        ssrd  \n",
       "58245   0.995539    0.000000  \n",
       "233921  0.989855   44.043095  \n",
       "267071  0.885957    0.000000  \n",
       "159541  0.220295  587.215278  \n",
       "235115  1.000000  178.067656  \n",
       "233986  0.848093  397.721493  \n",
       "216063  0.562310  372.345486  \n",
       "232733  0.992307   32.714564  \n",
       "277483  0.135610    1.354408  \n",
       "43528   0.871921    3.227890  "
      ]
     },
     "execution_count": 1,
     "metadata": {},
     "output_type": "execute_result"
    }
   ],
   "source": [
    "!pip install windrose\n",
    "import pandas as pd\n",
    "import matplotlib.pyplot as plt\n",
    "import numpy as np\n",
    "from windrose import WindroseAxes\n",
    "\n",
    "\n",
    "df_meteo = pd.read_csv(\"data/meteo.csv\")\n",
    "df_air_pollution = pd.read_csv(\"data/air_pollution.csv\")\n",
    "df_meteo.sample(10)"
   ]
  },
  {
   "cell_type": "markdown",
   "id": "7363d5fc",
   "metadata": {},
   "source": [
    "<h4><font color=mediumvioletred>Get air pollution data sample</font></h4>"
   ]
  },
  {
   "cell_type": "code",
   "execution_count": 2,
   "id": "64af8c42",
   "metadata": {},
   "outputs": [
    {
     "data": {
      "text/html": [
       "<div>\n",
       "<style scoped>\n",
       "    .dataframe tbody tr th:only-of-type {\n",
       "        vertical-align: middle;\n",
       "    }\n",
       "\n",
       "    .dataframe tbody tr th {\n",
       "        vertical-align: top;\n",
       "    }\n",
       "\n",
       "    .dataframe thead th {\n",
       "        text-align: right;\n",
       "    }\n",
       "</style>\n",
       "<table border=\"1\" class=\"dataframe\">\n",
       "  <thead>\n",
       "    <tr style=\"text-align: right;\">\n",
       "      <th></th>\n",
       "      <th>date</th>\n",
       "      <th>PC4</th>\n",
       "      <th>pm10</th>\n",
       "      <th>pm2.5</th>\n",
       "      <th>no2</th>\n",
       "      <th>no</th>\n",
       "      <th>so2</th>\n",
       "    </tr>\n",
       "  </thead>\n",
       "  <tbody>\n",
       "    <tr>\n",
       "      <th>46126</th>\n",
       "      <td>2021-11-09 22:00:00</td>\n",
       "      <td>5654</td>\n",
       "      <td>32.581886</td>\n",
       "      <td>21.921196</td>\n",
       "      <td>40.834194</td>\n",
       "      <td>26.715989</td>\n",
       "      <td>5.502024</td>\n",
       "    </tr>\n",
       "    <tr>\n",
       "      <th>313</th>\n",
       "      <td>2021-10-08 01:00:00</td>\n",
       "      <td>5611</td>\n",
       "      <td>29.977919</td>\n",
       "      <td>18.169237</td>\n",
       "      <td>49.191643</td>\n",
       "      <td>32.183894</td>\n",
       "      <td>18.931392</td>\n",
       "    </tr>\n",
       "    <tr>\n",
       "      <th>28354</th>\n",
       "      <td>2021-11-06 10:00:00</td>\n",
       "      <td>5632</td>\n",
       "      <td>8.378853</td>\n",
       "      <td>5.401205</td>\n",
       "      <td>15.440095</td>\n",
       "      <td>10.101764</td>\n",
       "      <td>4.839930</td>\n",
       "    </tr>\n",
       "    <tr>\n",
       "      <th>72664</th>\n",
       "      <td>2021-12-25 15:00:00</td>\n",
       "      <td>5646</td>\n",
       "      <td>10.652130</td>\n",
       "      <td>11.705690</td>\n",
       "      <td>16.914877</td>\n",
       "      <td>0.721445</td>\n",
       "      <td>6.371763</td>\n",
       "    </tr>\n",
       "    <tr>\n",
       "      <th>6986</th>\n",
       "      <td>2021-10-18 02:00:00</td>\n",
       "      <td>5615</td>\n",
       "      <td>14.559152</td>\n",
       "      <td>10.828921</td>\n",
       "      <td>22.498328</td>\n",
       "      <td>14.719650</td>\n",
       "      <td>2.746107</td>\n",
       "    </tr>\n",
       "    <tr>\n",
       "      <th>62010</th>\n",
       "      <td>2021-12-12 17:00:00</td>\n",
       "      <td>5623</td>\n",
       "      <td>26.162990</td>\n",
       "      <td>35.681250</td>\n",
       "      <td>25.945504</td>\n",
       "      <td>0.838210</td>\n",
       "      <td>1.292645</td>\n",
       "    </tr>\n",
       "    <tr>\n",
       "      <th>38052</th>\n",
       "      <td>2021-11-08 12:00:00</td>\n",
       "      <td>5645</td>\n",
       "      <td>20.554876</td>\n",
       "      <td>8.911386</td>\n",
       "      <td>25.715815</td>\n",
       "      <td>16.824709</td>\n",
       "      <td>5.990637</td>\n",
       "    </tr>\n",
       "    <tr>\n",
       "      <th>26273</th>\n",
       "      <td>2021-10-17 17:00:00</td>\n",
       "      <td>5631</td>\n",
       "      <td>15.625467</td>\n",
       "      <td>9.645315</td>\n",
       "      <td>51.003649</td>\n",
       "      <td>33.369409</td>\n",
       "      <td>3.165698</td>\n",
       "    </tr>\n",
       "    <tr>\n",
       "      <th>4188</th>\n",
       "      <td>2021-11-04 12:00:00</td>\n",
       "      <td>5613</td>\n",
       "      <td>28.535538</td>\n",
       "      <td>25.895559</td>\n",
       "      <td>41.548596</td>\n",
       "      <td>27.183390</td>\n",
       "      <td>7.304440</td>\n",
       "    </tr>\n",
       "    <tr>\n",
       "      <th>48855</th>\n",
       "      <td>2021-10-20 15:00:00</td>\n",
       "      <td>5656</td>\n",
       "      <td>5.493306</td>\n",
       "      <td>4.068668</td>\n",
       "      <td>12.819431</td>\n",
       "      <td>8.387181</td>\n",
       "      <td>1.995720</td>\n",
       "    </tr>\n",
       "  </tbody>\n",
       "</table>\n",
       "</div>"
      ],
      "text/plain": [
       "                      date   PC4       pm10      pm2.5        no2         no  \\\n",
       "46126  2021-11-09 22:00:00  5654  32.581886  21.921196  40.834194  26.715989   \n",
       "313    2021-10-08 01:00:00  5611  29.977919  18.169237  49.191643  32.183894   \n",
       "28354  2021-11-06 10:00:00  5632   8.378853   5.401205  15.440095  10.101764   \n",
       "72664  2021-12-25 15:00:00  5646  10.652130  11.705690  16.914877   0.721445   \n",
       "6986   2021-10-18 02:00:00  5615  14.559152  10.828921  22.498328  14.719650   \n",
       "62010  2021-12-12 17:00:00  5623  26.162990  35.681250  25.945504   0.838210   \n",
       "38052  2021-11-08 12:00:00  5645  20.554876   8.911386  25.715815  16.824709   \n",
       "26273  2021-10-17 17:00:00  5631  15.625467   9.645315  51.003649  33.369409   \n",
       "4188   2021-11-04 12:00:00  5613  28.535538  25.895559  41.548596  27.183390   \n",
       "48855  2021-10-20 15:00:00  5656   5.493306   4.068668  12.819431   8.387181   \n",
       "\n",
       "             so2  \n",
       "46126   5.502024  \n",
       "313    18.931392  \n",
       "28354   4.839930  \n",
       "72664   6.371763  \n",
       "6986    2.746107  \n",
       "62010   1.292645  \n",
       "38052   5.990637  \n",
       "26273   3.165698  \n",
       "4188    7.304440  \n",
       "48855   1.995720  "
      ]
     },
     "execution_count": 2,
     "metadata": {},
     "output_type": "execute_result"
    }
   ],
   "source": [
    "df_air_pollution.sample(10)"
   ]
  },
  {
   "cell_type": "markdown",
   "id": "b5d2cc9b",
   "metadata": {},
   "source": [
    "<h4><font color=mediumvioletred>Show all postal codes</font></h4>"
   ]
  },
  {
   "cell_type": "code",
   "execution_count": 3,
   "id": "7221116e",
   "metadata": {},
   "outputs": [
    {
     "data": {
      "text/plain": [
       "array([5611, 5612, 5613, 5614, 5615, 5616, 5617, 5621, 5622, 5623, 5624,\n",
       "       5625, 5626, 5627, 5628, 5629, 5631, 5632, 5633, 5641, 5642, 5643,\n",
       "       5644, 5645, 5646, 5651, 5652, 5653, 5654, 5655, 5656, 5657, 5658],\n",
       "      dtype=int64)"
      ]
     },
     "execution_count": 3,
     "metadata": {},
     "output_type": "execute_result"
    }
   ],
   "source": [
    "df_meteo['PC4'].unique()"
   ]
  },
  {
   "cell_type": "markdown",
   "id": "c5ab42cc",
   "metadata": {},
   "source": [
    "The dataset contains data from 33 different postal code areas"
   ]
  },
  {
   "cell_type": "markdown",
   "id": "49b1e3c6",
   "metadata": {},
   "source": [
    "<h4><font color=mediumvioletred>Show the shape of the meteo data</font></h4>"
   ]
  },
  {
   "cell_type": "code",
   "execution_count": 4,
   "id": "c2da62b6",
   "metadata": {},
   "outputs": [
    {
     "data": {
      "text/plain": [
       "(289080, 7)"
      ]
     },
     "execution_count": 4,
     "metadata": {},
     "output_type": "execute_result"
    }
   ],
   "source": [
    "df_meteo.shape"
   ]
  },
  {
   "cell_type": "markdown",
   "id": "588fad0d",
   "metadata": {},
   "source": [
    "<h4><font color=mediumvioletred>Show all datatypes of meteo data</font></h4>"
   ]
  },
  {
   "cell_type": "code",
   "execution_count": 5,
   "id": "b4d8fa8b",
   "metadata": {},
   "outputs": [
    {
     "data": {
      "text/plain": [
       "date    datetime64[ns]\n",
       "PC4              int64\n",
       "wd             float64\n",
       "ws             float64\n",
       "blh            float64\n",
       "tcc            float64\n",
       "ssrd           float64\n",
       "dtype: object"
      ]
     },
     "execution_count": 5,
     "metadata": {},
     "output_type": "execute_result"
    }
   ],
   "source": [
    "df_meteo['date'] = pd.to_datetime(df_meteo['date'])\n",
    "df_air_pollution['date'] = pd.to_datetime(df_air_pollution['date'])\n",
    "df_meteo.dtypes"
   ]
  },
  {
   "cell_type": "markdown",
   "id": "651ac320",
   "metadata": {},
   "source": [
    "<h4><font color=mediumvioletred>Filter meteo data on single postal code and get a sample</font></h4>"
   ]
  },
  {
   "cell_type": "code",
   "execution_count": 6,
   "id": "fbd92a49",
   "metadata": {},
   "outputs": [
    {
     "data": {
      "text/html": [
       "<div>\n",
       "<style scoped>\n",
       "    .dataframe tbody tr th:only-of-type {\n",
       "        vertical-align: middle;\n",
       "    }\n",
       "\n",
       "    .dataframe tbody tr th {\n",
       "        vertical-align: top;\n",
       "    }\n",
       "\n",
       "    .dataframe thead th {\n",
       "        text-align: right;\n",
       "    }\n",
       "</style>\n",
       "<table border=\"1\" class=\"dataframe\">\n",
       "  <thead>\n",
       "    <tr style=\"text-align: right;\">\n",
       "      <th></th>\n",
       "      <th>date</th>\n",
       "      <th>PC4</th>\n",
       "      <th>wd</th>\n",
       "      <th>ws</th>\n",
       "      <th>blh</th>\n",
       "      <th>tcc</th>\n",
       "      <th>ssrd</th>\n",
       "    </tr>\n",
       "  </thead>\n",
       "  <tbody>\n",
       "    <tr>\n",
       "      <th>2310</th>\n",
       "      <td>2021-04-07 06:00:00</td>\n",
       "      <td>5611</td>\n",
       "      <td>179.731049</td>\n",
       "      <td>8.111948</td>\n",
       "      <td>953.838257</td>\n",
       "      <td>0.880435</td>\n",
       "      <td>9.861093</td>\n",
       "    </tr>\n",
       "    <tr>\n",
       "      <th>8263</th>\n",
       "      <td>2021-12-11 07:00:00</td>\n",
       "      <td>5611</td>\n",
       "      <td>187.399475</td>\n",
       "      <td>1.919938</td>\n",
       "      <td>79.016724</td>\n",
       "      <td>0.759298</td>\n",
       "      <td>0.000000</td>\n",
       "    </tr>\n",
       "    <tr>\n",
       "      <th>7466</th>\n",
       "      <td>2021-11-08 02:00:00</td>\n",
       "      <td>5611</td>\n",
       "      <td>199.578384</td>\n",
       "      <td>2.626828</td>\n",
       "      <td>130.049088</td>\n",
       "      <td>0.326731</td>\n",
       "      <td>0.000000</td>\n",
       "    </tr>\n",
       "    <tr>\n",
       "      <th>8750</th>\n",
       "      <td>2021-12-31 14:00:00</td>\n",
       "      <td>5611</td>\n",
       "      <td>204.204056</td>\n",
       "      <td>6.790852</td>\n",
       "      <td>891.596924</td>\n",
       "      <td>0.986587</td>\n",
       "      <td>73.305052</td>\n",
       "    </tr>\n",
       "    <tr>\n",
       "      <th>2773</th>\n",
       "      <td>2021-04-26 13:00:00</td>\n",
       "      <td>5611</td>\n",
       "      <td>54.624420</td>\n",
       "      <td>3.056090</td>\n",
       "      <td>1458.176270</td>\n",
       "      <td>0.141466</td>\n",
       "      <td>786.820278</td>\n",
       "    </tr>\n",
       "    <tr>\n",
       "      <th>3896</th>\n",
       "      <td>2021-06-12 08:00:00</td>\n",
       "      <td>5611</td>\n",
       "      <td>167.094131</td>\n",
       "      <td>3.582950</td>\n",
       "      <td>557.198425</td>\n",
       "      <td>0.988984</td>\n",
       "      <td>125.128325</td>\n",
       "    </tr>\n",
       "    <tr>\n",
       "      <th>4859</th>\n",
       "      <td>2021-07-22 11:00:00</td>\n",
       "      <td>5611</td>\n",
       "      <td>105.746552</td>\n",
       "      <td>2.591090</td>\n",
       "      <td>1236.261963</td>\n",
       "      <td>0.592528</td>\n",
       "      <td>553.559861</td>\n",
       "    </tr>\n",
       "    <tr>\n",
       "      <th>6267</th>\n",
       "      <td>2021-09-19 03:00:00</td>\n",
       "      <td>5611</td>\n",
       "      <td>8.349649</td>\n",
       "      <td>3.053959</td>\n",
       "      <td>210.379333</td>\n",
       "      <td>0.356281</td>\n",
       "      <td>0.000000</td>\n",
       "    </tr>\n",
       "    <tr>\n",
       "      <th>8733</th>\n",
       "      <td>2021-12-30 21:00:00</td>\n",
       "      <td>5611</td>\n",
       "      <td>211.792892</td>\n",
       "      <td>6.734316</td>\n",
       "      <td>1174.682983</td>\n",
       "      <td>0.982902</td>\n",
       "      <td>0.000000</td>\n",
       "    </tr>\n",
       "    <tr>\n",
       "      <th>3799</th>\n",
       "      <td>2021-06-08 07:00:00</td>\n",
       "      <td>5611</td>\n",
       "      <td>32.454685</td>\n",
       "      <td>1.156276</td>\n",
       "      <td>204.344025</td>\n",
       "      <td>0.000717</td>\n",
       "      <td>352.973472</td>\n",
       "    </tr>\n",
       "  </tbody>\n",
       "</table>\n",
       "</div>"
      ],
      "text/plain": [
       "                    date   PC4          wd        ws          blh       tcc  \\\n",
       "2310 2021-04-07 06:00:00  5611  179.731049  8.111948   953.838257  0.880435   \n",
       "8263 2021-12-11 07:00:00  5611  187.399475  1.919938    79.016724  0.759298   \n",
       "7466 2021-11-08 02:00:00  5611  199.578384  2.626828   130.049088  0.326731   \n",
       "8750 2021-12-31 14:00:00  5611  204.204056  6.790852   891.596924  0.986587   \n",
       "2773 2021-04-26 13:00:00  5611   54.624420  3.056090  1458.176270  0.141466   \n",
       "3896 2021-06-12 08:00:00  5611  167.094131  3.582950   557.198425  0.988984   \n",
       "4859 2021-07-22 11:00:00  5611  105.746552  2.591090  1236.261963  0.592528   \n",
       "6267 2021-09-19 03:00:00  5611    8.349649  3.053959   210.379333  0.356281   \n",
       "8733 2021-12-30 21:00:00  5611  211.792892  6.734316  1174.682983  0.982902   \n",
       "3799 2021-06-08 07:00:00  5611   32.454685  1.156276   204.344025  0.000717   \n",
       "\n",
       "            ssrd  \n",
       "2310    9.861093  \n",
       "8263    0.000000  \n",
       "7466    0.000000  \n",
       "8750   73.305052  \n",
       "2773  786.820278  \n",
       "3896  125.128325  \n",
       "4859  553.559861  \n",
       "6267    0.000000  \n",
       "8733    0.000000  \n",
       "3799  352.973472  "
      ]
     },
     "execution_count": 6,
     "metadata": {},
     "output_type": "execute_result"
    }
   ],
   "source": [
    "postalcode_df_meteo = df_meteo[df_meteo['PC4'] == 5611]\n",
    "postalcode_df_meteo.sample(10)"
   ]
  },
  {
   "cell_type": "markdown",
   "id": "737e8d55",
   "metadata": {},
   "source": [
    "In this sample the solar surface radiation downawrd (ssrd) shows the value 0.000000. After researching this, it is normal since the sensor can measure this during 6 p.m. and 6 a.m."
   ]
  },
  {
   "cell_type": "markdown",
   "id": "a7c0836d",
   "metadata": {},
   "source": [
    "<h4><font color=mediumvioletred>Show standard distribution of boundary layer height data</font></h4>"
   ]
  },
  {
   "cell_type": "code",
   "execution_count": 7,
   "id": "044ef3c7",
   "metadata": {},
   "outputs": [
    {
     "name": "stdout",
     "output_type": "stream",
     "text": [
      "Skewness per column:\n",
      "PC4     0.133640\n",
      "wd     -0.214002\n",
      "ws      0.931107\n",
      "blh     1.054221\n",
      "tcc    -0.894305\n",
      "ssrd    1.656176\n",
      "dtype: float64\n"
     ]
    },
    {
     "data": {
      "image/png": "[encoded data removed]",
      "text/plain": [
       "<Figure size 1440x360 with 1 Axes>"
      ]
     },
     "metadata": {
      "needs_background": "light"
     },
     "output_type": "display_data"
    },
    {
     "data": {
      "image/png": "[encoded data removed]",
      "text/plain": [
       "<Figure size 1440x720 with 1 Axes>"
      ]
     },
     "metadata": {
      "needs_background": "light"
     },
     "output_type": "display_data"
    }
   ],
   "source": [
    "print(\"Skewness per column:\")\n",
    "print(df_meteo.skew(numeric_only=True))\n",
    "\n",
    "plt.figure(figsize=(20,5))\n",
    "plt.boxplot(df_meteo['blh'], vert=False)\n",
    "plt.title(\"Standard distribution of the boundary layer height values\")\n",
    "plt.xlabel(\"Boundary layer height in meters\")\n",
    "plt.show()\n",
    "\n",
    "plt.figure(figsize=(20,10))\n",
    "plt.hist(df_meteo['blh'], edgecolor='white', color='brown', bins=100)\n",
    "plt.title(\"Boundary layer height values\")\n",
    "plt.xlabel(\"Boundary layer height in meters\")\n",
    "plt.ylabel(\"Distribution\")\n",
    "plt.show()"
   ]
  },
  {
   "cell_type": "markdown",
   "id": "af73bbeb",
   "metadata": {},
   "source": [
    "The graphs represent the distribution of the boundary layer height data. The skewness of these graphs are positive. Most of the boundary layer heights are close to zero. You also don't see a lot of outliers on the bottom graph, since the tail of data is not long. This means that the distribution is devided relatively evenly.\n"
   ]
  },
  {
   "cell_type": "markdown",
   "id": "bdd51343",
   "metadata": {},
   "source": [
    "<h4><font color=mediumvioletred>Visualize windspeed compared to solar surface radiation downwards</font></h4>"
   ]
  },
  {
   "cell_type": "code",
   "execution_count": 8,
   "id": "fa9d31de",
   "metadata": {},
   "outputs": [
    {
     "data": {
      "image/png": "[encoded data removed]",
      "text/plain": [
       "<Figure size 1800x432 with 1 Axes>"
      ]
     },
     "metadata": {
      "needs_background": "light"
     },
     "output_type": "display_data"
    }
   ],
   "source": [
    "fig, ax = plt.subplots(figsize=(25, 6))\n",
    "scatter = ax.scatter((postalcode_df_meteo[\"ws\"]),\n",
    "                list(postalcode_df_meteo[\"ssrd\"]),\n",
    "                color=\"blue\")\n",
    "\n",
    "ax.set(title=\"Windspeed compared to the solar surface radiation downwards \\n\",\n",
    "      xlabel=\"Windspeed in m/s\",\n",
    "      ylabel=\"Solar surface radiation downwards in W/m2\");"
   ]
  },
  {
   "cell_type": "markdown",
   "id": "bb101b5f",
   "metadata": {},
   "source": [
    "In the graph above you can see that the solar surface rediation downwards (ssrd) almost doesn't appear when the windspeed is above 8m/s. So there is a visable correlation between the windspeed and ssrd. It also shows the 0.000000 values of the ssrd."
   ]
  },
  {
   "cell_type": "markdown",
   "id": "e7b1f582",
   "metadata": {},
   "source": [
    "<h4><font color=mediumvioletred>Visualize windspeed in September from postal code 5611</font></h4>"
   ]
  },
  {
   "cell_type": "code",
   "execution_count": 9,
   "id": "b7313327",
   "metadata": {
    "scrolled": true
   },
   "outputs": [
    {
     "data": {
      "image/png": "[encoded data removed]",
      "text/plain": [
       "<Figure size 1728x432 with 1 Axes>"
      ]
     },
     "metadata": {
      "needs_background": "light"
     },
     "output_type": "display_data"
    }
   ],
   "source": [
    "one_month_postalcode_df_meteo = postalcode_df_meteo[postalcode_df_meteo['date']. dt. strftime('%Y-%m')=='2021-09']\n",
    "\n",
    "fig, ax = plt.subplots(figsize=(24, 6))\n",
    "plot = ax.plot(list(one_month_postalcode_df_meteo[\"date\"]),\n",
    "                list(one_month_postalcode_df_meteo[\"ws\"]),\n",
    "                color=\"blue\")\n",
    "\n",
    "ax.set(title=\"Windspeed in September of postal code 5611 \\n\",\n",
    "      xlabel=\"Date\",\n",
    "      ylabel=\"Windspeed in m/s\");\n"
   ]
  },
  {
   "cell_type": "markdown",
   "id": "c91e9fc8",
   "metadata": {},
   "source": [
    "No real conclusion can be drawn from just looking at the windspeed data. \n"
   ]
  },
  {
   "cell_type": "markdown",
   "id": "652a76a4",
   "metadata": {},
   "source": [
    "<h4><font color=mediumvioletred>Merge meteo and air pollution dataset and show sample</font></h4>"
   ]
  },
  {
   "cell_type": "code",
   "execution_count": 10,
   "id": "0ad9f1c6",
   "metadata": {
    "scrolled": false
   },
   "outputs": [
    {
     "data": {
      "text/html": [
       "<div>\n",
       "<style scoped>\n",
       "    .dataframe tbody tr th:only-of-type {\n",
       "        vertical-align: middle;\n",
       "    }\n",
       "\n",
       "    .dataframe tbody tr th {\n",
       "        vertical-align: top;\n",
       "    }\n",
       "\n",
       "    .dataframe thead th {\n",
       "        text-align: right;\n",
       "    }\n",
       "</style>\n",
       "<table border=\"1\" class=\"dataframe\">\n",
       "  <thead>\n",
       "    <tr style=\"text-align: right;\">\n",
       "      <th></th>\n",
       "      <th>date</th>\n",
       "      <th>PC4</th>\n",
       "      <th>wd</th>\n",
       "      <th>ws</th>\n",
       "      <th>blh</th>\n",
       "      <th>tcc</th>\n",
       "      <th>ssrd</th>\n",
       "      <th>pm10</th>\n",
       "      <th>pm2.5</th>\n",
       "      <th>no2</th>\n",
       "      <th>no</th>\n",
       "      <th>so2</th>\n",
       "    </tr>\n",
       "  </thead>\n",
       "  <tbody>\n",
       "    <tr>\n",
       "      <th>39262</th>\n",
       "      <td>2021-12-17 21:00:00</td>\n",
       "      <td>5631</td>\n",
       "      <td>51.476036</td>\n",
       "      <td>1.401982</td>\n",
       "      <td>191.231949</td>\n",
       "      <td>0.981255</td>\n",
       "      <td>0.000000</td>\n",
       "      <td>46.186570</td>\n",
       "      <td>69.844010</td>\n",
       "      <td>40.488949</td>\n",
       "      <td>2.588777</td>\n",
       "      <td>0.664326</td>\n",
       "    </tr>\n",
       "    <tr>\n",
       "      <th>53158</th>\n",
       "      <td>2021-12-14 21:00:00</td>\n",
       "      <td>5644</td>\n",
       "      <td>222.602966</td>\n",
       "      <td>4.153731</td>\n",
       "      <td>436.738770</td>\n",
       "      <td>1.000000</td>\n",
       "      <td>0.000000</td>\n",
       "      <td>29.894980</td>\n",
       "      <td>51.430940</td>\n",
       "      <td>33.909898</td>\n",
       "      <td>0.626347</td>\n",
       "      <td>4.708680</td>\n",
       "    </tr>\n",
       "    <tr>\n",
       "      <th>4906</th>\n",
       "      <td>2021-10-05 10:00:00</td>\n",
       "      <td>5613</td>\n",
       "      <td>292.097504</td>\n",
       "      <td>5.847796</td>\n",
       "      <td>1330.247192</td>\n",
       "      <td>0.634439</td>\n",
       "      <td>318.799444</td>\n",
       "      <td>4.833952</td>\n",
       "      <td>2.382388</td>\n",
       "      <td>9.501581</td>\n",
       "      <td>6.216460</td>\n",
       "      <td>0.764946</td>\n",
       "    </tr>\n",
       "    <tr>\n",
       "      <th>3064</th>\n",
       "      <td>2021-10-25 16:00:00</td>\n",
       "      <td>5612</td>\n",
       "      <td>242.143402</td>\n",
       "      <td>3.277405</td>\n",
       "      <td>491.867462</td>\n",
       "      <td>0.996217</td>\n",
       "      <td>27.324826</td>\n",
       "      <td>13.748197</td>\n",
       "      <td>8.887820</td>\n",
       "      <td>43.877637</td>\n",
       "      <td>28.707177</td>\n",
       "      <td>4.752811</td>\n",
       "    </tr>\n",
       "    <tr>\n",
       "      <th>68110</th>\n",
       "      <td>2021-10-19 22:00:00</td>\n",
       "      <td>5655</td>\n",
       "      <td>237.371246</td>\n",
       "      <td>6.608961</td>\n",
       "      <td>710.517151</td>\n",
       "      <td>0.955620</td>\n",
       "      <td>0.000000</td>\n",
       "      <td>6.023471</td>\n",
       "      <td>3.507000</td>\n",
       "      <td>8.681263</td>\n",
       "      <td>5.679762</td>\n",
       "      <td>5.017190</td>\n",
       "    </tr>\n",
       "    <tr>\n",
       "      <th>74192</th>\n",
       "      <td>2021-12-18 07:00:00</td>\n",
       "      <td>5657</td>\n",
       "      <td>51.492317</td>\n",
       "      <td>1.512193</td>\n",
       "      <td>226.622147</td>\n",
       "      <td>1.000000</td>\n",
       "      <td>0.000000</td>\n",
       "      <td>25.225560</td>\n",
       "      <td>40.715550</td>\n",
       "      <td>18.069893</td>\n",
       "      <td>0.160100</td>\n",
       "      <td>0.345975</td>\n",
       "    </tr>\n",
       "    <tr>\n",
       "      <th>15611</th>\n",
       "      <td>2021-12-02 10:00:00</td>\n",
       "      <td>5617</td>\n",
       "      <td>172.911240</td>\n",
       "      <td>4.264513</td>\n",
       "      <td>446.608063</td>\n",
       "      <td>0.799274</td>\n",
       "      <td>137.626224</td>\n",
       "      <td>15.968570</td>\n",
       "      <td>12.181496</td>\n",
       "      <td>9.097578</td>\n",
       "      <td>1.579858</td>\n",
       "      <td>0.874943</td>\n",
       "    </tr>\n",
       "    <tr>\n",
       "      <th>26520</th>\n",
       "      <td>2021-11-02 00:00:00</td>\n",
       "      <td>5625</td>\n",
       "      <td>244.601746</td>\n",
       "      <td>3.797328</td>\n",
       "      <td>312.679413</td>\n",
       "      <td>0.779195</td>\n",
       "      <td>0.000000</td>\n",
       "      <td>11.376079</td>\n",
       "      <td>7.800444</td>\n",
       "      <td>25.871151</td>\n",
       "      <td>16.926338</td>\n",
       "      <td>3.406202</td>\n",
       "    </tr>\n",
       "    <tr>\n",
       "      <th>49543</th>\n",
       "      <td>2021-10-22 07:00:00</td>\n",
       "      <td>5643</td>\n",
       "      <td>205.680191</td>\n",
       "      <td>6.795714</td>\n",
       "      <td>1048.806763</td>\n",
       "      <td>0.439268</td>\n",
       "      <td>13.729602</td>\n",
       "      <td>14.206520</td>\n",
       "      <td>5.804964</td>\n",
       "      <td>19.188419</td>\n",
       "      <td>12.554125</td>\n",
       "      <td>4.377343</td>\n",
       "    </tr>\n",
       "    <tr>\n",
       "      <th>41602</th>\n",
       "      <td>2021-12-18 09:00:00</td>\n",
       "      <td>5632</td>\n",
       "      <td>38.170605</td>\n",
       "      <td>2.114389</td>\n",
       "      <td>200.247421</td>\n",
       "      <td>1.000000</td>\n",
       "      <td>12.105240</td>\n",
       "      <td>34.441380</td>\n",
       "      <td>52.966220</td>\n",
       "      <td>24.550394</td>\n",
       "      <td>1.943091</td>\n",
       "      <td>0.670124</td>\n",
       "    </tr>\n",
       "  </tbody>\n",
       "</table>\n",
       "</div>"
      ],
      "text/plain": [
       "                     date   PC4          wd        ws          blh       tcc  \\\n",
       "39262 2021-12-17 21:00:00  5631   51.476036  1.401982   191.231949  0.981255   \n",
       "53158 2021-12-14 21:00:00  5644  222.602966  4.153731   436.738770  1.000000   \n",
       "4906  2021-10-05 10:00:00  5613  292.097504  5.847796  1330.247192  0.634439   \n",
       "3064  2021-10-25 16:00:00  5612  242.143402  3.277405   491.867462  0.996217   \n",
       "68110 2021-10-19 22:00:00  5655  237.371246  6.608961   710.517151  0.955620   \n",
       "74192 2021-12-18 07:00:00  5657   51.492317  1.512193   226.622147  1.000000   \n",
       "15611 2021-12-02 10:00:00  5617  172.911240  4.264513   446.608063  0.799274   \n",
       "26520 2021-11-02 00:00:00  5625  244.601746  3.797328   312.679413  0.779195   \n",
       "49543 2021-10-22 07:00:00  5643  205.680191  6.795714  1048.806763  0.439268   \n",
       "41602 2021-12-18 09:00:00  5632   38.170605  2.114389   200.247421  1.000000   \n",
       "\n",
       "             ssrd       pm10      pm2.5        no2         no       so2  \n",
       "39262    0.000000  46.186570  69.844010  40.488949   2.588777  0.664326  \n",
       "53158    0.000000  29.894980  51.430940  33.909898   0.626347  4.708680  \n",
       "4906   318.799444   4.833952   2.382388   9.501581   6.216460  0.764946  \n",
       "3064    27.324826  13.748197   8.887820  43.877637  28.707177  4.752811  \n",
       "68110    0.000000   6.023471   3.507000   8.681263   5.679762  5.017190  \n",
       "74192    0.000000  25.225560  40.715550  18.069893   0.160100  0.345975  \n",
       "15611  137.626224  15.968570  12.181496   9.097578   1.579858  0.874943  \n",
       "26520    0.000000  11.376079   7.800444  25.871151  16.926338  3.406202  \n",
       "49543   13.729602  14.206520   5.804964  19.188419  12.554125  4.377343  \n",
       "41602   12.105240  34.441380  52.966220  24.550394   1.943091  0.670124  "
      ]
     },
     "execution_count": 10,
     "metadata": {},
     "output_type": "execute_result"
    }
   ],
   "source": [
    "df_meteo_air_pollution = pd.merge(df_meteo, df_air_pollution[['PC4','date', 'pm10', 'pm2.5', 'no2',\t'no', 'so2']], on=['PC4', 'date'])\n",
    "df_meteo_air_pollution.sample(10)"
   ]
  },
  {
   "cell_type": "markdown",
   "id": "2fbc2eea",
   "metadata": {},
   "source": [
    "<h4><font color=mediumvioletred> Wind direction per day from 25-09 until 12-30 </font></h4>"
   ]
  },
  {
   "cell_type": "code",
   "execution_count": 11,
   "id": "794beda1",
   "metadata": {
    "scrolled": true
   },
   "outputs": [
    {
     "data": {
      "image/png": "[encoded data removed]",
      "text/plain": [
       "<Figure size 432x288 with 1 Axes>"
      ]
     },
     "metadata": {
      "needs_background": "light"
     },
     "output_type": "display_data"
    }
   ],
   "source": [
    "directions = np.array('N NNE NE ENE E ESE SE SSE S SSW SW WSW W WNW NW NNW N'.split())\n",
    "bins = np.arange(11.25, 372, 22.5)\n",
    "\n",
    "group_by_day2 = df_meteo_air_pollution.groupby(pd.Grouper(freq='D', key='date')).mean() \n",
    "\n",
    "group_by_day2['wd_stat'] = directions[np.digitize(group_by_day2['wd'], bins)] \n",
    "group_by_day2.sample(5) \n",
    "\n",
    "plt.scatter(group_by_day2[\"wd_stat\"], group_by_day2[\"pm2.5\"], linewidth=0.0 , s = 100 , c = \"C1\") \n",
    " \n",
    "\n",
    "plt.title('Wind direction 25-09 until 12-30') \n",
    "plt.xlabel('Wind directions') \n",
    "plt.ylabel('Average pm2.5 per day') \n",
    "plt.show()\n"
   ]
  },
  {
   "cell_type": "markdown",
   "id": "e5d0811a",
   "metadata": {},
   "source": [
    "In the last 3 months of 2021, the wind direction was mostly from the west and south. However, the data was not as varied as we had hoped, and many of the highest spikes in pm2.5 came from the east. This is likely due to the presence of the Roergebied region, which is known for its bad air. Overall, the data may not be as useful as we had hoped because it lacks diversity in wind direction."
   ]
  },
  {
   "cell_type": "markdown",
   "id": "607273a1",
   "metadata": {},
   "source": [
    "<h4><font color=mediumvioletred>Create new column to classify wind direction</font></h4>"
   ]
  },
  {
   "cell_type": "code",
   "execution_count": 12,
   "id": "8ee7eb9b",
   "metadata": {},
   "outputs": [
    {
     "data": {
      "text/html": [
       "<div>\n",
       "<style scoped>\n",
       "    .dataframe tbody tr th:only-of-type {\n",
       "        vertical-align: middle;\n",
       "    }\n",
       "\n",
       "    .dataframe tbody tr th {\n",
       "        vertical-align: top;\n",
       "    }\n",
       "\n",
       "    .dataframe thead th {\n",
       "        text-align: right;\n",
       "    }\n",
       "</style>\n",
       "<table border=\"1\" class=\"dataframe\">\n",
       "  <thead>\n",
       "    <tr style=\"text-align: right;\">\n",
       "      <th></th>\n",
       "      <th>date</th>\n",
       "      <th>PC4</th>\n",
       "      <th>wd</th>\n",
       "      <th>ws</th>\n",
       "      <th>blh</th>\n",
       "      <th>tcc</th>\n",
       "      <th>ssrd</th>\n",
       "      <th>pm10</th>\n",
       "      <th>pm2.5</th>\n",
       "      <th>no2</th>\n",
       "      <th>no</th>\n",
       "      <th>so2</th>\n",
       "      <th>wd_c</th>\n",
       "      <th>wd_c_n</th>\n",
       "    </tr>\n",
       "  </thead>\n",
       "  <tbody>\n",
       "    <tr>\n",
       "      <th>34550</th>\n",
       "      <td>2021-12-15 13:00:00</td>\n",
       "      <td>5628</td>\n",
       "      <td>209.846100</td>\n",
       "      <td>3.797304</td>\n",
       "      <td>504.759613</td>\n",
       "      <td>0.971699</td>\n",
       "      <td>56.718819</td>\n",
       "      <td>29.695980</td>\n",
       "      <td>49.476930</td>\n",
       "      <td>26.626816</td>\n",
       "      <td>4.899671</td>\n",
       "      <td>4.094203</td>\n",
       "      <td>SSW</td>\n",
       "      <td>9</td>\n",
       "    </tr>\n",
       "    <tr>\n",
       "      <th>73361</th>\n",
       "      <td>2021-11-13 17:00:00</td>\n",
       "      <td>5657</td>\n",
       "      <td>111.951874</td>\n",
       "      <td>2.224945</td>\n",
       "      <td>149.376495</td>\n",
       "      <td>0.637492</td>\n",
       "      <td>0.000000</td>\n",
       "      <td>9.030220</td>\n",
       "      <td>5.501269</td>\n",
       "      <td>31.396848</td>\n",
       "      <td>20.541555</td>\n",
       "      <td>2.039925</td>\n",
       "      <td>ESE</td>\n",
       "      <td>5</td>\n",
       "    </tr>\n",
       "    <tr>\n",
       "      <th>39175</th>\n",
       "      <td>2021-12-14 06:00:00</td>\n",
       "      <td>5631</td>\n",
       "      <td>220.847000</td>\n",
       "      <td>3.151743</td>\n",
       "      <td>362.757721</td>\n",
       "      <td>0.999330</td>\n",
       "      <td>0.000000</td>\n",
       "      <td>20.655480</td>\n",
       "      <td>35.894030</td>\n",
       "      <td>20.763707</td>\n",
       "      <td>1.035571</td>\n",
       "      <td>2.779204</td>\n",
       "      <td>SW</td>\n",
       "      <td>10</td>\n",
       "    </tr>\n",
       "    <tr>\n",
       "      <th>14485</th>\n",
       "      <td>2021-10-16 13:00:00</td>\n",
       "      <td>5617</td>\n",
       "      <td>236.180954</td>\n",
       "      <td>1.627986</td>\n",
       "      <td>1505.222046</td>\n",
       "      <td>0.805942</td>\n",
       "      <td>327.665486</td>\n",
       "      <td>11.426986</td>\n",
       "      <td>4.982026</td>\n",
       "      <td>16.255116</td>\n",
       "      <td>10.634996</td>\n",
       "      <td>0.267587</td>\n",
       "      <td>SW</td>\n",
       "      <td>10</td>\n",
       "    </tr>\n",
       "    <tr>\n",
       "      <th>34892</th>\n",
       "      <td>2021-12-29 19:00:00</td>\n",
       "      <td>5628</td>\n",
       "      <td>195.164825</td>\n",
       "      <td>6.525191</td>\n",
       "      <td>776.570496</td>\n",
       "      <td>1.000000</td>\n",
       "      <td>0.000000</td>\n",
       "      <td>17.511920</td>\n",
       "      <td>21.063220</td>\n",
       "      <td>17.987361</td>\n",
       "      <td>0.195505</td>\n",
       "      <td>1.878245</td>\n",
       "      <td>SSW</td>\n",
       "      <td>9</td>\n",
       "    </tr>\n",
       "    <tr>\n",
       "      <th>33613</th>\n",
       "      <td>2021-11-06 13:00:00</td>\n",
       "      <td>5628</td>\n",
       "      <td>237.211487</td>\n",
       "      <td>5.500072</td>\n",
       "      <td>670.349182</td>\n",
       "      <td>1.000000</td>\n",
       "      <td>121.381302</td>\n",
       "      <td>11.917644</td>\n",
       "      <td>6.016112</td>\n",
       "      <td>16.331471</td>\n",
       "      <td>10.684952</td>\n",
       "      <td>4.638085</td>\n",
       "      <td>WSW</td>\n",
       "      <td>11</td>\n",
       "    </tr>\n",
       "    <tr>\n",
       "      <th>10514</th>\n",
       "      <td>2021-11-14 02:00:00</td>\n",
       "      <td>5615</td>\n",
       "      <td>43.207325</td>\n",
       "      <td>1.861745</td>\n",
       "      <td>123.976105</td>\n",
       "      <td>1.000000</td>\n",
       "      <td>0.000000</td>\n",
       "      <td>21.450815</td>\n",
       "      <td>19.893070</td>\n",
       "      <td>22.409181</td>\n",
       "      <td>14.661326</td>\n",
       "      <td>0.006816</td>\n",
       "      <td>NE</td>\n",
       "      <td>2</td>\n",
       "    </tr>\n",
       "    <tr>\n",
       "      <th>53121</th>\n",
       "      <td>2021-12-13 08:00:00</td>\n",
       "      <td>5644</td>\n",
       "      <td>248.048294</td>\n",
       "      <td>3.738204</td>\n",
       "      <td>311.038788</td>\n",
       "      <td>0.740775</td>\n",
       "      <td>1.167377</td>\n",
       "      <td>29.194300</td>\n",
       "      <td>48.988530</td>\n",
       "      <td>23.022649</td>\n",
       "      <td>1.758301</td>\n",
       "      <td>2.780051</td>\n",
       "      <td>WSW</td>\n",
       "      <td>11</td>\n",
       "    </tr>\n",
       "    <tr>\n",
       "      <th>26558</th>\n",
       "      <td>2021-11-03 14:00:00</td>\n",
       "      <td>5625</td>\n",
       "      <td>103.965195</td>\n",
       "      <td>2.262634</td>\n",
       "      <td>305.503784</td>\n",
       "      <td>1.000000</td>\n",
       "      <td>119.495382</td>\n",
       "      <td>22.957001</td>\n",
       "      <td>18.115553</td>\n",
       "      <td>39.471337</td>\n",
       "      <td>25.824332</td>\n",
       "      <td>2.860355</td>\n",
       "      <td>ESE</td>\n",
       "      <td>5</td>\n",
       "    </tr>\n",
       "    <tr>\n",
       "      <th>67007</th>\n",
       "      <td>2021-12-09 22:00:00</td>\n",
       "      <td>5654</td>\n",
       "      <td>269.708954</td>\n",
       "      <td>4.418337</td>\n",
       "      <td>388.720154</td>\n",
       "      <td>0.214001</td>\n",
       "      <td>0.000000</td>\n",
       "      <td>26.272720</td>\n",
       "      <td>38.150490</td>\n",
       "      <td>19.361133</td>\n",
       "      <td>0.232650</td>\n",
       "      <td>1.898054</td>\n",
       "      <td>W</td>\n",
       "      <td>12</td>\n",
       "    </tr>\n",
       "  </tbody>\n",
       "</table>\n",
       "</div>"
      ],
      "text/plain": [
       "                     date   PC4          wd        ws          blh       tcc  \\\n",
       "34550 2021-12-15 13:00:00  5628  209.846100  3.797304   504.759613  0.971699   \n",
       "73361 2021-11-13 17:00:00  5657  111.951874  2.224945   149.376495  0.637492   \n",
       "39175 2021-12-14 06:00:00  5631  220.847000  3.151743   362.757721  0.999330   \n",
       "14485 2021-10-16 13:00:00  5617  236.180954  1.627986  1505.222046  0.805942   \n",
       "34892 2021-12-29 19:00:00  5628  195.164825  6.525191   776.570496  1.000000   \n",
       "33613 2021-11-06 13:00:00  5628  237.211487  5.500072   670.349182  1.000000   \n",
       "10514 2021-11-14 02:00:00  5615   43.207325  1.861745   123.976105  1.000000   \n",
       "53121 2021-12-13 08:00:00  5644  248.048294  3.738204   311.038788  0.740775   \n",
       "26558 2021-11-03 14:00:00  5625  103.965195  2.262634   305.503784  1.000000   \n",
       "67007 2021-12-09 22:00:00  5654  269.708954  4.418337   388.720154  0.214001   \n",
       "\n",
       "             ssrd       pm10      pm2.5        no2         no       so2 wd_c  \\\n",
       "34550   56.718819  29.695980  49.476930  26.626816   4.899671  4.094203  SSW   \n",
       "73361    0.000000   9.030220   5.501269  31.396848  20.541555  2.039925  ESE   \n",
       "39175    0.000000  20.655480  35.894030  20.763707   1.035571  2.779204   SW   \n",
       "14485  327.665486  11.426986   4.982026  16.255116  10.634996  0.267587   SW   \n",
       "34892    0.000000  17.511920  21.063220  17.987361   0.195505  1.878245  SSW   \n",
       "33613  121.381302  11.917644   6.016112  16.331471  10.684952  4.638085  WSW   \n",
       "10514    0.000000  21.450815  19.893070  22.409181  14.661326  0.006816   NE   \n",
       "53121    1.167377  29.194300  48.988530  23.022649   1.758301  2.780051  WSW   \n",
       "26558  119.495382  22.957001  18.115553  39.471337  25.824332  2.860355  ESE   \n",
       "67007    0.000000  26.272720  38.150490  19.361133   0.232650  1.898054    W   \n",
       "\n",
       "       wd_c_n  \n",
       "34550       9  \n",
       "73361       5  \n",
       "39175      10  \n",
       "14485      10  \n",
       "34892       9  \n",
       "33613      11  \n",
       "10514       2  \n",
       "53121      11  \n",
       "26558       5  \n",
       "67007      12  "
      ]
     },
     "execution_count": 12,
     "metadata": {},
     "output_type": "execute_result"
    }
   ],
   "source": [
    "def degToCompass(num):\n",
    "    val=int((num/22.5)+.5)\n",
    "    arr=[\"N\",\"NNE\",\"NE\",\"ENE\",\"E\",\"ESE\", \"SE\", \"SSE\",\"S\",\"SSW\",\"SW\",\"WSW\",\"W\",\"WNW\",\"NW\",\"NNW\"]\n",
    "\n",
    "    return arr[(val % 16)]\n",
    "\n",
    "df_meteo_air_pollution['wd_c'] = df_meteo_air_pollution.apply(lambda row: degToCompass(row.wd), axis=1)\n",
    "\n",
    "def degToCompassNumerical(num):\n",
    "    val=int((num/22.5)+.5)\n",
    "\n",
    "    return (val % 16)\n",
    "\n",
    "df_meteo_air_pollution['wd_c_n'] = df_meteo_air_pollution.apply(lambda row: degToCompassNumerical(row.wd), axis=1)\n",
    "\n",
    "df_meteo_air_pollution.sample(10)"
   ]
  },
  {
   "cell_type": "markdown",
   "id": "9752b5fb",
   "metadata": {},
   "source": [
    "<h4><font color=mediumvioletred>Show corrolation between merged meteo and air pollution data</font></h4>"
   ]
  },
  {
   "cell_type": "code",
   "execution_count": 13,
   "id": "e3e8f34c",
   "metadata": {},
   "outputs": [
    {
     "data": {
      "text/html": [
       "<div>\n",
       "<style scoped>\n",
       "    .dataframe tbody tr th:only-of-type {\n",
       "        vertical-align: middle;\n",
       "    }\n",
       "\n",
       "    .dataframe tbody tr th {\n",
       "        vertical-align: top;\n",
       "    }\n",
       "\n",
       "    .dataframe thead th {\n",
       "        text-align: right;\n",
       "    }\n",
       "</style>\n",
       "<table border=\"1\" class=\"dataframe\">\n",
       "  <thead>\n",
       "    <tr style=\"text-align: right;\">\n",
       "      <th></th>\n",
       "      <th>PC4</th>\n",
       "      <th>wd</th>\n",
       "      <th>ws</th>\n",
       "      <th>blh</th>\n",
       "      <th>tcc</th>\n",
       "      <th>ssrd</th>\n",
       "      <th>pm10</th>\n",
       "      <th>pm2.5</th>\n",
       "      <th>no2</th>\n",
       "      <th>no</th>\n",
       "      <th>so2</th>\n",
       "      <th>wd_c_n</th>\n",
       "    </tr>\n",
       "  </thead>\n",
       "  <tbody>\n",
       "    <tr>\n",
       "      <th>PC4</th>\n",
       "      <td>1.000000</td>\n",
       "      <td>-0.000203</td>\n",
       "      <td>-0.001175</td>\n",
       "      <td>-0.000395</td>\n",
       "      <td>-0.000085</td>\n",
       "      <td>0.000106</td>\n",
       "      <td>-0.026865</td>\n",
       "      <td>-0.028674</td>\n",
       "      <td>-0.034462</td>\n",
       "      <td>-0.027125</td>\n",
       "      <td>0.004346</td>\n",
       "      <td>0.000335</td>\n",
       "    </tr>\n",
       "    <tr>\n",
       "      <th>wd</th>\n",
       "      <td>-0.000203</td>\n",
       "      <td>1.000000</td>\n",
       "      <td>0.190082</td>\n",
       "      <td>0.048322</td>\n",
       "      <td>0.050032</td>\n",
       "      <td>0.032333</td>\n",
       "      <td>-0.148475</td>\n",
       "      <td>-0.106274</td>\n",
       "      <td>-0.161741</td>\n",
       "      <td>-0.109364</td>\n",
       "      <td>-0.008121</td>\n",
       "      <td>0.926805</td>\n",
       "    </tr>\n",
       "    <tr>\n",
       "      <th>ws</th>\n",
       "      <td>-0.001175</td>\n",
       "      <td>0.190082</td>\n",
       "      <td>1.000000</td>\n",
       "      <td>0.807271</td>\n",
       "      <td>0.176822</td>\n",
       "      <td>0.073962</td>\n",
       "      <td>-0.607904</td>\n",
       "      <td>-0.472557</td>\n",
       "      <td>-0.591700</td>\n",
       "      <td>-0.499212</td>\n",
       "      <td>-0.212465</td>\n",
       "      <td>0.227314</td>\n",
       "    </tr>\n",
       "    <tr>\n",
       "      <th>blh</th>\n",
       "      <td>-0.000395</td>\n",
       "      <td>0.048322</td>\n",
       "      <td>0.807271</td>\n",
       "      <td>1.000000</td>\n",
       "      <td>0.200182</td>\n",
       "      <td>0.341155</td>\n",
       "      <td>-0.615602</td>\n",
       "      <td>-0.542800</td>\n",
       "      <td>-0.655762</td>\n",
       "      <td>-0.502562</td>\n",
       "      <td>-0.337730</td>\n",
       "      <td>0.088094</td>\n",
       "    </tr>\n",
       "    <tr>\n",
       "      <th>tcc</th>\n",
       "      <td>-0.000085</td>\n",
       "      <td>0.050032</td>\n",
       "      <td>0.176822</td>\n",
       "      <td>0.200182</td>\n",
       "      <td>1.000000</td>\n",
       "      <td>0.001251</td>\n",
       "      <td>-0.031441</td>\n",
       "      <td>0.110042</td>\n",
       "      <td>-0.105527</td>\n",
       "      <td>-0.186421</td>\n",
       "      <td>-0.208994</td>\n",
       "      <td>0.093946</td>\n",
       "    </tr>\n",
       "    <tr>\n",
       "      <th>ssrd</th>\n",
       "      <td>0.000106</td>\n",
       "      <td>0.032333</td>\n",
       "      <td>0.073962</td>\n",
       "      <td>0.341155</td>\n",
       "      <td>0.001251</td>\n",
       "      <td>1.000000</td>\n",
       "      <td>-0.059004</td>\n",
       "      <td>-0.158170</td>\n",
       "      <td>-0.206825</td>\n",
       "      <td>-0.049303</td>\n",
       "      <td>-0.076840</td>\n",
       "      <td>0.026012</td>\n",
       "    </tr>\n",
       "    <tr>\n",
       "      <th>pm10</th>\n",
       "      <td>-0.026865</td>\n",
       "      <td>-0.148475</td>\n",
       "      <td>-0.607904</td>\n",
       "      <td>-0.615602</td>\n",
       "      <td>-0.031441</td>\n",
       "      <td>-0.059004</td>\n",
       "      <td>1.000000</td>\n",
       "      <td>0.886844</td>\n",
       "      <td>0.560476</td>\n",
       "      <td>0.283385</td>\n",
       "      <td>0.336788</td>\n",
       "      <td>-0.186965</td>\n",
       "    </tr>\n",
       "    <tr>\n",
       "      <th>pm2.5</th>\n",
       "      <td>-0.028674</td>\n",
       "      <td>-0.106274</td>\n",
       "      <td>-0.472557</td>\n",
       "      <td>-0.542800</td>\n",
       "      <td>0.110042</td>\n",
       "      <td>-0.158170</td>\n",
       "      <td>0.886844</td>\n",
       "      <td>1.000000</td>\n",
       "      <td>0.431592</td>\n",
       "      <td>0.014917</td>\n",
       "      <td>0.189855</td>\n",
       "      <td>-0.133190</td>\n",
       "    </tr>\n",
       "    <tr>\n",
       "      <th>no2</th>\n",
       "      <td>-0.034462</td>\n",
       "      <td>-0.161741</td>\n",
       "      <td>-0.591700</td>\n",
       "      <td>-0.655762</td>\n",
       "      <td>-0.105527</td>\n",
       "      <td>-0.206825</td>\n",
       "      <td>0.560476</td>\n",
       "      <td>0.431592</td>\n",
       "      <td>1.000000</td>\n",
       "      <td>0.735620</td>\n",
       "      <td>0.394545</td>\n",
       "      <td>-0.189193</td>\n",
       "    </tr>\n",
       "    <tr>\n",
       "      <th>no</th>\n",
       "      <td>-0.027125</td>\n",
       "      <td>-0.109364</td>\n",
       "      <td>-0.499212</td>\n",
       "      <td>-0.502562</td>\n",
       "      <td>-0.186421</td>\n",
       "      <td>-0.049303</td>\n",
       "      <td>0.283385</td>\n",
       "      <td>0.014917</td>\n",
       "      <td>0.735620</td>\n",
       "      <td>1.000000</td>\n",
       "      <td>0.371746</td>\n",
       "      <td>-0.127087</td>\n",
       "    </tr>\n",
       "    <tr>\n",
       "      <th>so2</th>\n",
       "      <td>0.004346</td>\n",
       "      <td>-0.008121</td>\n",
       "      <td>-0.212465</td>\n",
       "      <td>-0.337730</td>\n",
       "      <td>-0.208994</td>\n",
       "      <td>-0.076840</td>\n",
       "      <td>0.336788</td>\n",
       "      <td>0.189855</td>\n",
       "      <td>0.394545</td>\n",
       "      <td>0.371746</td>\n",
       "      <td>1.000000</td>\n",
       "      <td>-0.046151</td>\n",
       "    </tr>\n",
       "    <tr>\n",
       "      <th>wd_c_n</th>\n",
       "      <td>0.000335</td>\n",
       "      <td>0.926805</td>\n",
       "      <td>0.227314</td>\n",
       "      <td>0.088094</td>\n",
       "      <td>0.093946</td>\n",
       "      <td>0.026012</td>\n",
       "      <td>-0.186965</td>\n",
       "      <td>-0.133190</td>\n",
       "      <td>-0.189193</td>\n",
       "      <td>-0.127087</td>\n",
       "      <td>-0.046151</td>\n",
       "      <td>1.000000</td>\n",
       "    </tr>\n",
       "  </tbody>\n",
       "</table>\n",
       "</div>"
      ],
      "text/plain": [
       "             PC4        wd        ws       blh       tcc      ssrd      pm10  \\\n",
       "PC4     1.000000 -0.000203 -0.001175 -0.000395 -0.000085  0.000106 -0.026865   \n",
       "wd     -0.000203  1.000000  0.190082  0.048322  0.050032  0.032333 -0.148475   \n",
       "ws     -0.001175  0.190082  1.000000  0.807271  0.176822  0.073962 -0.607904   \n",
       "blh    -0.000395  0.048322  0.807271  1.000000  0.200182  0.341155 -0.615602   \n",
       "tcc    -0.000085  0.050032  0.176822  0.200182  1.000000  0.001251 -0.031441   \n",
       "ssrd    0.000106  0.032333  0.073962  0.341155  0.001251  1.000000 -0.059004   \n",
       "pm10   -0.026865 -0.148475 -0.607904 -0.615602 -0.031441 -0.059004  1.000000   \n",
       "pm2.5  -0.028674 -0.106274 -0.472557 -0.542800  0.110042 -0.158170  0.886844   \n",
       "no2    -0.034462 -0.161741 -0.591700 -0.655762 -0.105527 -0.206825  0.560476   \n",
       "no     -0.027125 -0.109364 -0.499212 -0.502562 -0.186421 -0.049303  0.283385   \n",
       "so2     0.004346 -0.008121 -0.212465 -0.337730 -0.208994 -0.076840  0.336788   \n",
       "wd_c_n  0.000335  0.926805  0.227314  0.088094  0.093946  0.026012 -0.186965   \n",
       "\n",
       "           pm2.5       no2        no       so2    wd_c_n  \n",
       "PC4    -0.028674 -0.034462 -0.027125  0.004346  0.000335  \n",
       "wd     -0.106274 -0.161741 -0.109364 -0.008121  0.926805  \n",
       "ws     -0.472557 -0.591700 -0.499212 -0.212465  0.227314  \n",
       "blh    -0.542800 -0.655762 -0.502562 -0.337730  0.088094  \n",
       "tcc     0.110042 -0.105527 -0.186421 -0.208994  0.093946  \n",
       "ssrd   -0.158170 -0.206825 -0.049303 -0.076840  0.026012  \n",
       "pm10    0.886844  0.560476  0.283385  0.336788 -0.186965  \n",
       "pm2.5   1.000000  0.431592  0.014917  0.189855 -0.133190  \n",
       "no2     0.431592  1.000000  0.735620  0.394545 -0.189193  \n",
       "no      0.014917  0.735620  1.000000  0.371746 -0.127087  \n",
       "so2     0.189855  0.394545  0.371746  1.000000 -0.046151  \n",
       "wd_c_n -0.133190 -0.189193 -0.127087 -0.046151  1.000000  "
      ]
     },
     "execution_count": 13,
     "metadata": {},
     "output_type": "execute_result"
    }
   ],
   "source": [
    "df_meteo_air_pollution.corr(method='spearman')"
   ]
  },
  {
   "cell_type": "markdown",
   "id": "56e69d71",
   "metadata": {},
   "source": [
    "With the spearman method, it can be noted that the particulate matter smaller than 2.5 micrometer (pm2.5) has the most corrolation with the boundary layer height (blh), the windspeed (ws), and nitrogen dioxide in ug/m3 (no2)."
   ]
  },
  {
   "cell_type": "markdown",
   "id": "3704706d",
   "metadata": {},
   "source": [
    "<h4><font color=mediumvioletred>Show all particlate matter of 2.5 micrometers or smaller for every wind direction</font></h4>"
   ]
  },
  {
   "cell_type": "code",
   "execution_count": 14,
   "id": "33b1b1ff",
   "metadata": {
    "scrolled": true
   },
   "outputs": [
    {
     "data": {
      "image/png": "[encoded data removed]",
      "text/plain": [
       "<Figure size 432x288 with 1 Axes>"
      ]
     },
     "metadata": {
      "needs_background": "light"
     },
     "output_type": "display_data"
    }
   ],
   "source": [
    "plt = df_meteo_air_pollution[['wd_c_n', 'pm2.5']].groupby('wd_c_n').count().plot(kind='bar', legend=None)\n",
    "plt.set_title(\"Inhalable particles with diameter of 2.5 micrometers or smaller for every wind direction\")\n",
    "plt.set_xlabel(\"Wind direction\")\n",
    "plt.set_ylabel(\"Inhalable particles with diameter \\n of 2.5 micrometers or smaller\")\n",
    "plt.set_xticks(range(len([\"N\",\"NNE\",\"NE\",\"ENE\",\"E\",\"ESE\", \"SE\", \"SSE\",\"S\",\"SSW\",\"SW\",\"WSW\",\"W\",\"WNW\",\"NW\",\"NNW\"])), [\"N\",\"NNE\",\"NE\",\"ENE\",\"E\",\"ESE\", \"SE\", \"SSE\",\"S\",\"SSW\",\"SW\",\"WSW\",\"W\",\"WNW\",\"NW\",\"NNW\"]);"
   ]
  },
  {
   "cell_type": "code",
   "execution_count": 15,
   "id": "0c6db6f9",
   "metadata": {},
   "outputs": [
    {
     "data": {
      "image/png": "[encoded data removed]",
      "text/plain": [
       "<Figure size 640x640 with 1 Axes>"
      ]
     },
     "metadata": {},
     "output_type": "display_data"
    }
   ],
   "source": [
    "wd_c_n = (df_meteo_air_pollution['wd_c_n'] * 16)\n",
    "pm25 = df_meteo_air_pollution['pm2.5']\n",
    "\n",
    "ax = WindroseAxes.from_ax()\n",
    "ax.bar(wd_c_n, pm25, edgecolor='white')\n",
    "ax.set_title('Inhalable particles with diameter of 2.5 micrometers or smaller for every wind direction');"
   ]
  },
  {
   "cell_type": "markdown",
   "id": "dcd91dda",
   "metadata": {},
   "source": [
    "The most inhalable particles with diameter of 2.5 micrometers or smaller come from the winddirections south, southwest, and west. This is in the months October, November and December"
   ]
  },
  {
   "cell_type": "markdown",
   "id": "f25db479",
   "metadata": {},
   "source": [
    "<h4><font color=mediumvioletred>Show corrolation between particulate matter smaller than 2.5 um and windspeed</font></h4>"
   ]
  },
  {
   "cell_type": "code",
   "execution_count": 16,
   "id": "0bdc9d3c",
   "metadata": {},
   "outputs": [
    {
     "name": "stdout",
     "output_type": "stream",
     "text": [
      "-0.4220468437258586\n"
     ]
    },
    {
     "ename": "TypeError",
     "evalue": "'Text' object is not callable",
     "output_type": "error",
     "traceback": [
      "\u001b[1;31m---------------------------------------------------------------------------\u001b[0m",
      "\u001b[1;31mTypeError\u001b[0m                                 Traceback (most recent call last)",
      "Input \u001b[1;32mIn [16]\u001b[0m, in \u001b[0;36m<cell line: 7>\u001b[1;34m()\u001b[0m\n\u001b[0;32m      4\u001b[0m plt\u001b[38;5;241m.\u001b[39mscatter(group_by_day[\u001b[38;5;124m\"\u001b[39m\u001b[38;5;124mws\u001b[39m\u001b[38;5;124m\"\u001b[39m], group_by_day[\u001b[38;5;124m\"\u001b[39m\u001b[38;5;124mpm2.5\u001b[39m\u001b[38;5;124m\"\u001b[39m])\n\u001b[0;32m      5\u001b[0m plt\u001b[38;5;241m.\u001b[39mplot(np\u001b[38;5;241m.\u001b[39munique(group_by_day[\u001b[38;5;124m\"\u001b[39m\u001b[38;5;124mws\u001b[39m\u001b[38;5;124m\"\u001b[39m]), np\u001b[38;5;241m.\u001b[39mpoly1d(np\u001b[38;5;241m.\u001b[39mpolyfit(group_by_day[\u001b[38;5;124m\"\u001b[39m\u001b[38;5;124mws\u001b[39m\u001b[38;5;124m\"\u001b[39m], group_by_day[\u001b[38;5;124m\"\u001b[39m\u001b[38;5;124mpm2.5\u001b[39m\u001b[38;5;124m\"\u001b[39m], \u001b[38;5;241m1\u001b[39m))\n\u001b[0;32m      6\u001b[0m          (np\u001b[38;5;241m.\u001b[39munique(group_by_day[\u001b[38;5;124m\"\u001b[39m\u001b[38;5;124mws\u001b[39m\u001b[38;5;124m\"\u001b[39m])), color\u001b[38;5;241m=\u001b[39m\u001b[38;5;124m'\u001b[39m\u001b[38;5;124mred\u001b[39m\u001b[38;5;124m'\u001b[39m)\n\u001b[1;32m----> 7\u001b[0m \u001b[43mplt\u001b[49m\u001b[38;5;241;43m.\u001b[39;49m\u001b[43mtitle\u001b[49m\u001b[43m(\u001b[49m\u001b[38;5;124;43m'\u001b[39;49m\u001b[38;5;124;43mCorrelation between PM2.5 and windspeed\u001b[39;49m\u001b[38;5;124;43m'\u001b[39;49m\u001b[43m)\u001b[49m\n\u001b[0;32m      8\u001b[0m plt\u001b[38;5;241m.\u001b[39mxlabel(\u001b[38;5;124m'\u001b[39m\u001b[38;5;124mWindspeed in m/s\u001b[39m\u001b[38;5;124m'\u001b[39m)\n\u001b[0;32m      9\u001b[0m plt\u001b[38;5;241m.\u001b[39mylabel(\u001b[38;5;124m'\u001b[39m\u001b[38;5;124mInhalable particles with diameter \u001b[39m\u001b[38;5;130;01m\\n\u001b[39;00m\u001b[38;5;124m of 2.5 micrometers or smaller\u001b[39m\u001b[38;5;124m'\u001b[39m)\n",
      "\u001b[1;31mTypeError\u001b[0m: 'Text' object is not callable"
     ]
    }
   ],
   "source": [
    "group_by_day = df_meteo_air_pollution.groupby(pd.Grouper(freq='D', key='date')).mean()\n",
    "ws_pm25_corr = group_by_day[\"ws\"].corr(group_by_day[\"pm2.5\"])\n",
    "print(ws_pm25_corr)\n",
    "plt.scatter(group_by_day[\"ws\"], group_by_day[\"pm2.5\"])\n",
    "plt.plot(np.unique(group_by_day[\"ws\"]), np.poly1d(np.polyfit(group_by_day[\"ws\"], group_by_day[\"pm2.5\"], 1))\n",
    "         (np.unique(group_by_day[\"ws\"])), color='red')\n",
    "plt.title('Correlation between PM2.5 and windspeed')\n",
    "plt.xlabel('Windspeed in m/s')\n",
    "plt.ylabel('Inhalable particles with diameter \\n of 2.5 micrometers or smaller');\n",
    "# Particulate matter <2.5um in ug/m3"
   ]
  },
  {
   "cell_type": "markdown",
   "id": "22139972",
   "metadata": {},
   "source": [
    "The inhalable particles with diameter of 2.5 micrometers or smaller keep decreasing when the windspeed keep increasing. So there is a low negative correlation between the two. Which means with higher wind speeds there are less particals of 2.5 micrometers or smaller in the air.  "
   ]
  },
  {
   "cell_type": "markdown",
   "id": "dee8175a",
   "metadata": {},
   "source": [
    "<h4><font color=mediumvioletred>Show corrolation between particulate matter smaller than 2.5 um and boundary layer height</font></h4>"
   ]
  },
  {
   "cell_type": "code",
   "execution_count": null,
   "id": "fda0afcc",
   "metadata": {},
   "outputs": [],
   "source": [
    "group_by_day = df_meteo_air_pollution.groupby(pd.Grouper(freq='D', key='date')).mean()\n",
    "ws_pm25_corr = group_by_day[\"blh\"].corr(group_by_day[\"pm2.5\"])\n",
    "print(ws_pm25_corr)\n",
    "plt.scatter(group_by_day[\"blh\"], group_by_day[\"pm2.5\"])\n",
    "plt.plot(np.unique(group_by_day[\"blh\"]), np.poly1d(np.polyfit(group_by_day[\"blh\"], group_by_day[\"pm2.5\"], 1))\n",
    "         (np.unique(group_by_day[\"blh\"])), color='red')\n",
    "plt.title('Correlation between PM2.5 and boundary layer heigt')\n",
    "plt.xlabel('Boundary layer height in m')\n",
    "plt.ylabel('Inhalable particles with diameter \\n of 2.5 micrometers or smaller');\n",
    "# Particulate matter <2.5um in ug/m3"
   ]
  },
  {
   "cell_type": "markdown",
   "id": "2106c9d6",
   "metadata": {},
   "source": [
    "The inhalable particles with diameter of 2.5 micrometers or smaller keep decreasing when the boundary layer height keeps increasing. So there is a low negative correlation between the two. Which means that how higher the boundary layer, the less there are particles of 2.5 micrometer or smaller in the air."
   ]
  },
  {
   "cell_type": "markdown",
   "id": "dc275c60",
   "metadata": {},
   "source": [
    "<h4><font color=mediumvioletred>Show corrolation between particulate matter smaller than 2.5 um and solar surface radiation downwards</font></h4>"
   ]
  },
  {
   "cell_type": "code",
   "execution_count": null,
   "id": "222e9499",
   "metadata": {
    "scrolled": true
   },
   "outputs": [],
   "source": [
    "group_by_day = df_meteo_air_pollution.groupby(pd.Grouper(freq='D', key='date')).mean()\n",
    "ws_pm25_corr = group_by_day[\"ssrd\"].corr(group_by_day[\"pm2.5\"])\n",
    "print(ws_pm25_corr)\n",
    "plt.scatter(group_by_day[\"ssrd\"], group_by_day[\"pm2.5\"])\n",
    "plt.plot(np.unique(group_by_day[\"ssrd\"]), np.poly1d(np.polyfit(group_by_day[\"ssrd\"], group_by_day[\"pm2.5\"], 1))\n",
    "         (np.unique(group_by_day[\"ssrd\"])), color='red')\n",
    "plt.title('Correlation between PM2.5 and solar surface radiation downwards')\n",
    "plt.xlabel('Solar surface radiation downwards in w/m^2')\n",
    "plt.ylabel('Inhalable particles with diameter \\n of 2.5 micrometers or smaller');\n",
    "# Particulate matter <2.5um in ug/m3"
   ]
  },
  {
   "cell_type": "markdown",
   "id": "42765c02",
   "metadata": {},
   "source": [
    "The inhalable particles with diameter of 2.5 micrometers or smaller keep decreasing when the solar surface radiation keep increasing. So there is a low negative correlation between the two. Which means that the higher the solar surface radiation is the less there are particles smaller than 2.5 micrometer in the air."
   ]
  },
  {
   "cell_type": "markdown",
   "id": "efe1f01f",
   "metadata": {},
   "source": [
    "<h4><font color=mediumvioletred> Visualize the boundary layer height for the first week of November of postal code 5611</font></h4>"
   ]
  },
  {
   "cell_type": "code",
   "execution_count": null,
   "id": "c51b2b52",
   "metadata": {},
   "outputs": [],
   "source": [
    "# Combined meto and air polution data for postalcode 5611\n",
    "postalcode_df_meteo_air_polution = df_meteo_air_pollution[df_meteo_air_pollution['PC4'] == 5611]\n",
    "\n",
    "# Combined data for the first week of november 2021 from postal code 5611 (24 * 7 = 168 entries)\n",
    "one_week_postalcode_df_meteo_air_polution = postalcode_df_meteo_air_polution[postalcode_df_meteo_air_polution['date']. dt. strftime('%Y-%m')=='2021-11'].head(168)\n",
    "    \n",
    "plt.figure(figsize = (20 ,5))\n",
    "\n",
    "plt.plot(one_week_postalcode_df_meteo_air_polution['date'], one_week_postalcode_df_meteo_air_polution['blh'])\n",
    " \n",
    "# Adding Title to the Plot\n",
    "plt.title('Boundary layer height for the first week of November of postal code 5611')\n",
    "\n",
    "# Setting the X and Y labels\n",
    "plt.xlabel('Date')\n",
    "plt.ylabel('Boundary layer height in meters')\n",
    "  \n",
    "plt.show()"
   ]
  },
  {
   "cell_type": "markdown",
   "id": "b94d80fe",
   "metadata": {},
   "source": [
    "In the graph above you can see that almost every day at around noon the boundary layer height increases and decreases later at night. That is because the surface temperature at noon elevated lead to increased sensitive heat flux, and as a result, the boundary layer height will develop higher during daytime. "
   ]
  },
  {
   "cell_type": "markdown",
   "id": "5cb914f7",
   "metadata": {},
   "source": [
    "<h4><font color=mediumvioletred> Visualize particulate matter smaller than 2.5 micrometers for the first week of November of postal code 5611</font></h4>"
   ]
  },
  {
   "cell_type": "code",
   "execution_count": null,
   "id": "897cdad4",
   "metadata": {},
   "outputs": [],
   "source": [
    "plt.figure(figsize = (20 ,5))\n",
    "\n",
    "plt.plot(one_week_postalcode_df_meteo_air_polution['date'], one_week_postalcode_df_meteo_air_polution['pm2.5'])\n",
    " \n",
    "# Adding Title to the Plot\n",
    "plt.title('Inhalable particles with diameter of 2.5 micrometers or smaller for the first week of November of postal code 5611')\n",
    "\n",
    "# Setting the X and Y labels\n",
    "plt.xlabel('Date')\n",
    "plt.ylabel('Inhalable particles with diameter \\n of 2.5 micrometers or smaller')\n",
    "  \n",
    "plt.show()"
   ]
  },
  {
   "cell_type": "markdown",
   "id": "00ef7257",
   "metadata": {},
   "source": [
    "In the graph above the particulate matter of 2.5 micrometer or smaller is visualized for the first week of November. You can see that almost every night the particals are lower then during the day. It is hard to see peaks in PM2.5 during the day but you can see a clearly difference between the particals at night and day. "
   ]
  },
  {
   "cell_type": "markdown",
   "id": "c7befb9a",
   "metadata": {},
   "source": [
    "<h4><font color=mediumvioletred>Conclusion</font></h4>\n",
    "\n",
    "After exploring and visualising the combined meteo- and pollution data, we came to the conclusion that the boundary layer height, the windspeed, the nitrogen dioxide in ug/m3, and the solar surface radiation downwards had the most corrolation on the PM2.5 values. Since this is the most important measurement of the pollution data, we devided that moving forward we are going to use this data in the air pollution prediction tool."
   ]
  },
  {
   "cell_type": "markdown",
   "id": "6d797944",
   "metadata": {},
   "source": [
    "<h2><font color=slateblue> 5. Data Preparation </font></h2>"
   ]
  },
  {
   "cell_type": "code",
   "execution_count": null,
   "id": "796a3f9f",
   "metadata": {},
   "outputs": [],
   "source": []
  },
  {
   "cell_type": "code",
   "execution_count": null,
   "id": "115e423a",
   "metadata": {},
   "outputs": [],
   "source": []
  },
  {
   "cell_type": "code",
   "execution_count": null,
   "id": "a62b87a5",
   "metadata": {},
   "outputs": [],
   "source": []
  },
  {
   "cell_type": "code",
   "execution_count": null,
   "id": "cedc31ce",
   "metadata": {},
   "outputs": [],
   "source": []
  },
  {
   "cell_type": "markdown",
   "id": "002b5a79",
   "metadata": {},
   "source": [
    "<h2><font color=slateblue> 6. Modelling </font></h2>"
   ]
  },
  {
   "cell_type": "code",
   "execution_count": null,
   "id": "197c479d",
   "metadata": {},
   "outputs": [],
   "source": []
  },
  {
   "cell_type": "code",
   "execution_count": null,
   "id": "b3714cbd",
   "metadata": {},
   "outputs": [],
   "source": []
  },
  {
   "cell_type": "code",
   "execution_count": null,
   "id": "ecefde99",
   "metadata": {},
   "outputs": [],
   "source": []
  },
  {
   "cell_type": "code",
   "execution_count": null,
   "id": "d11b9c24",
   "metadata": {},
   "outputs": [],
   "source": []
  }
 ],
 "metadata": {
  "kernelspec": {
   "display_name": "Python 3 (ipykernel)",
   "language": "python",
   "name": "python3"
  },
  "language_info": {
   "codemirror_mode": {
    "name": "ipython",
    "version": 3
   },
   "file_extension": ".py",
   "mimetype": "text/x-python",
   "name": "python",
   "nbconvert_exporter": "python",
   "pygments_lexer": "ipython3",
   "version": "3.9.12"
  },
  "vscode": {
   "interpreter": {
    "hash": "a76c5491e1515b143b64554a1480411b606ff31e96932336d0c7284eb616e436"
   }
  }
 },
 "nbformat": 4,
 "nbformat_minor": 5
}
