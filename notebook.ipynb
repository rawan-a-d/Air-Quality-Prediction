{
 "cells": [
  {
   "cell_type": "markdown",
   "id": "186ea4db",
   "metadata": {},
   "source": [
    "<h1 style=\"font-size:3rem;color:maroon;\"> Predicting Air Pollution level using Machine Learning</h1>\n",
    "\n",
    "This notebook looks into using various Python-based machine learning and data science libraries in an attempt to build a machine learning model capable of predicting air pollution level in an area in Eindhoven in the upcoming week.\n",
    "\n",
    "We're going to take the following approach:\n",
    "1. Problem definition\n",
    "2. Data\n",
    "3. Features\n",
    "4. Data Exploration & Visualization\n",
    "5. Data Preparation\n",
    "6. Modelling"
   ]
  },
  {
   "cell_type": "markdown",
   "id": "2637d244",
   "metadata": {},
   "source": [
    "<h2><font color=slateblue> 1. Problem Definition </font></h2>\n",
    "\n",
    "In a statement,\n",
    "> Given historical pollution data, weather data and people going through an area, can we predict air pollution level in an area in Eindhoven in the upcoming week?"
   ]
  },
  {
   "cell_type": "markdown",
   "id": "808419a4",
   "metadata": {},
   "source": [
    "<h2><font color=slateblue> 2. Data </font></h2>\n",
    "\n",
    "The data is provided by TNO and Zicht op Data."
   ]
  },
  {
   "cell_type": "markdown",
   "id": "cb72a3d1",
   "metadata": {},
   "source": [
    "<h2><font color=slateblue> 3. Features </font></h2>\n",
    "\n",
    "This is where you'll get different information about each of the features in our data.\n",
    "\n",
    "We have three separate datasets for the period between 25-09-2021 and 30-12-2021:\n",
    "\n",
    "**Air pollution**\n",
    "* date: date in ymd_hms\n",
    "* PC4: postcode\n",
    "* pm2.5: particulate matter <2.5um in ug/m3\n",
    "* pm10: particulate matter <10um in ug/m3\n",
    "* no2: nitrogen dioxide in ug/m3\n",
    "* no: nitrogen oxide in ug/m3\n",
    "* so2: sulphur dioxide in ug/m3\n",
    "\n",
    "\n",
    "**Meteo**\n",
    "* date: date in ymd_hms\n",
    "* PC4: postcode\n",
    "* wd: wind direction in degrees 0-360\n",
    "* ws: wind speed in m/s\n",
    "* blh: boundary layer height in metres\n",
    "* tcc: total cloud cover in oktas (0-9)\n",
    "* ssrd: solar surface radiation downwards in W/m2 \n",
    "\n",
    "(see https://cds.climate.copernicus.eu/cdsapp#!/dataset/reanalysis-era5-single-levels?tab=overview for more information)\n",
    "\n",
    "**Zichtop**\n",
    "* PC4: postcode\n",
    "* date: date in ymd_hms\n",
    "* pop_tot: total number of people in PC4 for each time step\n",
    "* m00_30: number of people who have been there for up to 30 minutes\n",
    "* m30_60: number of people who have been there for 30 and 60 minutes\n",
    "* H1_2: number of people who have been there for 1 and 2 hours\n",
    "* H2_4: number of people who have been there for 2 and 4 hours\n",
    "* H4_8: number of people who have been there for 4 and 8 hours\n",
    "* H8_16: number of people who have been there for 8 and 16 hours\n",
    "* H16plus: number of people who have been there for over 16 hours"
   ]
  },
  {
   "cell_type": "markdown",
   "id": "2b5f435f",
   "metadata": {},
   "source": [
    "<h2><font color=slateblue> 4. Data Exploration & Visualization </font></h2>"
   ]
  },
  {
   "cell_type": "code",
   "execution_count": null,
   "id": "bb98f0a5",
   "metadata": {},
   "outputs": [],
   "source": []
  },
  {
   "cell_type": "code",
   "execution_count": null,
   "id": "85d3222e",
   "metadata": {},
   "outputs": [],
   "source": []
  },
  {
   "cell_type": "code",
   "execution_count": null,
   "id": "11ec87c1",
   "metadata": {},
   "outputs": [],
   "source": []
  },
  {
   "cell_type": "code",
   "execution_count": null,
   "id": "099e4527",
   "metadata": {},
   "outputs": [],
   "source": []
  },
  {
   "cell_type": "markdown",
   "id": "81d53a16",
   "metadata": {},
   "source": [
    "<h2><font color=slateblue> 5. Data Preparation </font></h2>"
   ]
  },
  {
   "cell_type": "code",
   "execution_count": null,
   "id": "821271b2",
   "metadata": {},
   "outputs": [],
   "source": []
  },
  {
   "cell_type": "code",
   "execution_count": null,
   "id": "f6ae6cb4",
   "metadata": {},
   "outputs": [],
   "source": []
  },
  {
   "cell_type": "code",
   "execution_count": null,
   "id": "a7eae4f0",
   "metadata": {},
   "outputs": [],
   "source": []
  },
  {
   "cell_type": "code",
   "execution_count": null,
   "id": "cfef9136",
   "metadata": {},
   "outputs": [],
   "source": []
  },
  {
   "cell_type": "markdown",
   "id": "c4f4a51e",
   "metadata": {},
   "source": [
    "<h2><font color=slateblue> 6. Modelling </font></h2>"
   ]
  },
  {
   "cell_type": "code",
   "execution_count": null,
   "id": "d878ab3b",
   "metadata": {},
   "outputs": [],
   "source": []
  },
  {
   "cell_type": "code",
   "execution_count": null,
   "id": "6b44afb4",
   "metadata": {},
   "outputs": [],
   "source": []
  },
  {
   "cell_type": "code",
   "execution_count": null,
   "id": "b5cc2e92",
   "metadata": {},
   "outputs": [],
   "source": []
  },
  {
   "cell_type": "code",
   "execution_count": null,
   "id": "dae02bbe",
   "metadata": {},
   "outputs": [],
   "source": []
  }
 ],
 "metadata": {
  "kernelspec": {
   "display_name": "Python 3 (ipykernel)",
   "language": "python",
   "name": "python3"
  },
  "language_info": {
   "codemirror_mode": {
    "name": "ipython",
    "version": 3
   },
   "file_extension": ".py",
   "mimetype": "text/x-python",
   "name": "python",
   "nbconvert_exporter": "python",
   "pygments_lexer": "ipython3",
   "version": "3.9.13"
  }
 },
 "nbformat": 4,
 "nbformat_minor": 5
}
