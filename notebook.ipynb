{
 "cells": [
  {
   "cell_type": "markdown",
   "id": "90a4671f",
   "metadata": {},
   "source": [
    "<h1 style=\"font-size:3rem;color:maroon;\"> Predicting Air Pollution Level using Machine Learning</h1>\n",
    "\n",
    "This notebook looks into using various Python-based machine learning and data science libraries in an attempt to build a machine learning model capable of predicting air pollution level in an area in Eindhoven in the upcoming week.\n",
    "\n",
    "We're going to take the following approach:\n",
    "1. Problem definition\n",
    "2. Data\n",
    "3. Features\n",
    "4. Data Exploration & Visualization\n",
    "5. Data Preparation\n",
    "6. Modelling"
   ]
  },
  {
   "cell_type": "markdown",
   "id": "2fb30f1f",
   "metadata": {},
   "source": [
    "<h2><font color=slateblue> 1. Problem Definition </font></h2>\n",
    "\n",
    "In a statement,\n",
    "> Given historical pollution data, weather data and people going through an area, can we predict air pollution level (fine particle matter level pm2.5) in an area in Eindhoven in the upcoming week?"
   ]
  },
  {
   "cell_type": "markdown",
   "id": "cb8f4787",
   "metadata": {},
   "source": [
    "<h2><font color=slateblue> 2. Data </font></h2>\n",
    "\n",
    "The data is provided by TNO and Zicht op Data."
   ]
  },
  {
   "cell_type": "markdown",
   "id": "cbd70547",
   "metadata": {},
   "source": [
    "<h2><font color=slateblue> 3. Features </font></h2>\n",
    "\n",
    "This is where you'll get different information about each of the features in our data.\n",
    "\n",
    "We have three separate datasets for the period between 25-09-2021 and 30-12-2021:\n",
    "\n",
    "**Air pollution**\n",
    "* date: date in ymd_hms\n",
    "* PC4: postcode\n",
    "* pm2.5: particulate matter <2.5um in ug/m3\n",
    "* pm10: particulate matter <10um in ug/m3\n",
    "* no2: nitrogen dioxide in ug/m3\n",
    "* no: nitrogen oxide in ug/m3\n",
    "* so2: sulphur dioxide in ug/m3\n",
    "\n",
    "\n",
    "**Meteo**\n",
    "* date: date in ymd_hms\n",
    "* PC4: postcode\n",
    "* wd: wind direction in degrees 0-360\n",
    "* ws: wind speed in m/s\n",
    "* blh: boundary layer height in metres\n",
    "* tcc: total cloud cover in oktas (0-9)\n",
    "* ssrd: solar surface radiation downwards in W/m2 \n",
    "\n",
    "(see https://cds.climate.copernicus.eu/cdsapp#!/dataset/reanalysis-era5-single-levels?tab=overview for more information)\n",
    "\n",
    "**Zichtop**\n",
    "* PC4: postcode\n",
    "* date: date in ymd_hms\n",
    "* pop_tot: total number of people in PC4 for each time step\n",
    "* m00_30: number of people who have been there for up to 30 minutes\n",
    "* m30_60: number of people who have been there for 30 and 60 minutes\n",
    "* H1_2: number of people who have been there for 1 and 2 hours\n",
    "* H2_4: number of people who have been there for 2 and 4 hours\n",
    "* H4_8: number of people who have been there for 4 and 8 hours\n",
    "* H8_16: number of people who have been there for 8 and 16 hours\n",
    "* H16plus: number of people who have been there for over 16 hours"
   ]
  },
  {
   "cell_type": "markdown",
   "id": "19fd7e7a",
   "metadata": {},
   "source": [
    "<h2><font color=slateblue> Preparing the tools </font></h2>"
   ]
  },
  {
   "cell_type": "code",
   "execution_count": 2,
   "id": "074fdc9e",
   "metadata": {},
   "outputs": [],
   "source": [
    "# Regular EDA (exploratory data analysis) and plotting libraries\n",
    "import numpy as np\n",
    "import pandas as pd\n",
    "import matplotlib.pyplot as plt\n",
    "import seaborn as sns"
   ]
  },
  {
   "cell_type": "markdown",
   "id": "4c0c3f50",
   "metadata": {},
   "source": [
    "<h2><font color=slateblue> 4. Data Exploration & Visualization </font></h2>"
   ]
  },
  {
   "cell_type": "markdown",
   "id": "b94e5f94",
   "metadata": {},
   "source": [
    "<h3><font color=steelblue>Zicht op Data dateset </font></h3>"
   ]
  },
  {
   "cell_type": "markdown",
   "id": "ba1abc86",
   "metadata": {},
   "source": [
    "<h4><font color=mediumvioletred>Read CSV file </font></h4>"
   ]
  },
  {
   "cell_type": "code",
   "execution_count": 8,
   "id": "fa9d31de",
   "metadata": {},
   "outputs": [],
   "source": [
    "df_zod = pd.read_csv(\"data/zichtop.csv\",\n",
    "                     parse_dates=[\"date\"])"
   ]
  },
  {
   "cell_type": "markdown",
   "id": "754df3d1",
   "metadata": {},
   "source": [
    "<h4><font color=mediumvioletred>Get a sample </font></h4>"
   ]
  },
  {
   "cell_type": "code",
   "execution_count": 9,
   "id": "9432ba85",
   "metadata": {},
   "outputs": [
    {
     "data": {
      "text/html": [
       "<div>\n",
       "<style scoped>\n",
       "    .dataframe tbody tr th:only-of-type {\n",
       "        vertical-align: middle;\n",
       "    }\n",
       "\n",
       "    .dataframe tbody tr th {\n",
       "        vertical-align: top;\n",
       "    }\n",
       "\n",
       "    .dataframe thead th {\n",
       "        text-align: right;\n",
       "    }\n",
       "</style>\n",
       "<table border=\"1\" class=\"dataframe\">\n",
       "  <thead>\n",
       "    <tr style=\"text-align: right;\">\n",
       "      <th></th>\n",
       "      <th>PC4</th>\n",
       "      <th>date</th>\n",
       "      <th>pop_tot</th>\n",
       "      <th>m00_30</th>\n",
       "      <th>m30_60</th>\n",
       "      <th>H1_2</th>\n",
       "      <th>H2_4</th>\n",
       "      <th>H4_8</th>\n",
       "      <th>H8_16</th>\n",
       "      <th>H16plus</th>\n",
       "    </tr>\n",
       "  </thead>\n",
       "  <tbody>\n",
       "    <tr>\n",
       "      <th>225032</th>\n",
       "      <td>5655</td>\n",
       "      <td>2021-02-08 08:00:00</td>\n",
       "      <td>997</td>\n",
       "      <td>80.0</td>\n",
       "      <td>20.0</td>\n",
       "      <td>0.0</td>\n",
       "      <td>10.0</td>\n",
       "      <td>0.0</td>\n",
       "      <td>50.0</td>\n",
       "      <td>837.0</td>\n",
       "    </tr>\n",
       "    <tr>\n",
       "      <th>157490</th>\n",
       "      <td>5642</td>\n",
       "      <td>2021-05-03 02:00:00</td>\n",
       "      <td>652</td>\n",
       "      <td>45.0</td>\n",
       "      <td>0.0</td>\n",
       "      <td>0.0</td>\n",
       "      <td>0.0</td>\n",
       "      <td>0.0</td>\n",
       "      <td>112.0</td>\n",
       "      <td>495.0</td>\n",
       "    </tr>\n",
       "    <tr>\n",
       "      <th>124900</th>\n",
       "      <td>5631</td>\n",
       "      <td>2021-02-22 04:00:00</td>\n",
       "      <td>892</td>\n",
       "      <td>42.0</td>\n",
       "      <td>0.0</td>\n",
       "      <td>0.0</td>\n",
       "      <td>10.0</td>\n",
       "      <td>52.0</td>\n",
       "      <td>52.0</td>\n",
       "      <td>736.0</td>\n",
       "    </tr>\n",
       "    <tr>\n",
       "      <th>177201</th>\n",
       "      <td>5644</td>\n",
       "      <td>2021-10-27 09:00:00</td>\n",
       "      <td>5909</td>\n",
       "      <td>1964.0</td>\n",
       "      <td>457.0</td>\n",
       "      <td>356.0</td>\n",
       "      <td>576.0</td>\n",
       "      <td>965.0</td>\n",
       "      <td>847.0</td>\n",
       "      <td>744.0</td>\n",
       "    </tr>\n",
       "    <tr>\n",
       "      <th>57663</th>\n",
       "      <td>5621</td>\n",
       "      <td>2021-05-29 15:00:00</td>\n",
       "      <td>1604</td>\n",
       "      <td>247.0</td>\n",
       "      <td>88.0</td>\n",
       "      <td>53.0</td>\n",
       "      <td>35.0</td>\n",
       "      <td>194.0</td>\n",
       "      <td>229.0</td>\n",
       "      <td>758.0</td>\n",
       "    </tr>\n",
       "  </tbody>\n",
       "</table>\n",
       "</div>"
      ],
      "text/plain": [
       "         PC4                date  pop_tot  m00_30  m30_60   H1_2   H2_4  \\\n",
       "225032  5655 2021-02-08 08:00:00      997    80.0    20.0    0.0   10.0   \n",
       "157490  5642 2021-05-03 02:00:00      652    45.0     0.0    0.0    0.0   \n",
       "124900  5631 2021-02-22 04:00:00      892    42.0     0.0    0.0   10.0   \n",
       "177201  5644 2021-10-27 09:00:00     5909  1964.0   457.0  356.0  576.0   \n",
       "57663   5621 2021-05-29 15:00:00     1604   247.0    88.0   53.0   35.0   \n",
       "\n",
       "         H4_8  H8_16  H16plus  \n",
       "225032    0.0   50.0    837.0  \n",
       "157490    0.0  112.0    495.0  \n",
       "124900   52.0   52.0    736.0  \n",
       "177201  965.0  847.0    744.0  \n",
       "57663   194.0  229.0    758.0  "
      ]
     },
     "execution_count": 9,
     "metadata": {},
     "output_type": "execute_result"
    }
   ],
   "source": [
    "df_zod.sample(5)"
   ]
  },
  {
   "cell_type": "markdown",
   "id": "9255faac",
   "metadata": {},
   "source": [
    "<h4><font color=mediumvioletred>Get number of rows and columns </font></h4>"
   ]
  },
  {
   "cell_type": "code",
   "execution_count": 6,
   "id": "b20f50ba",
   "metadata": {},
   "outputs": [
    {
     "data": {
      "text/plain": [
       "(255024, 10)"
      ]
     },
     "execution_count": 6,
     "metadata": {},
     "output_type": "execute_result"
    }
   ],
   "source": [
    "df_zod.shape"
   ]
  },
  {
   "cell_type": "markdown",
   "id": "90103932",
   "metadata": {},
   "source": [
    "<h4><font color=mediumvioletred>Get types of columns </font></h4>"
   ]
  },
  {
   "cell_type": "code",
   "execution_count": 13,
   "id": "9f50dde3",
   "metadata": {},
   "outputs": [
    {
     "data": {
      "text/plain": [
       "PC4                 int64\n",
       "date       datetime64[ns]\n",
       "pop_tot             int64\n",
       "m00_30            float64\n",
       "m30_60            float64\n",
       "H1_2              float64\n",
       "H2_4              float64\n",
       "H4_8              float64\n",
       "H8_16             float64\n",
       "H16plus           float64\n",
       "dtype: object"
      ]
     },
     "execution_count": 13,
     "metadata": {},
     "output_type": "execute_result"
    }
   ],
   "source": [
    "df_zod.dtypes"
   ]
  },
  {
   "cell_type": "markdown",
   "id": "6ce8b664",
   "metadata": {},
   "source": [
    "<h4><font color=mediumvioletred>Get some info about each column (type, number of null values..) </font></h4>"
   ]
  },
  {
   "cell_type": "code",
   "execution_count": 11,
   "id": "0f08d0b8",
   "metadata": {},
   "outputs": [
    {
     "name": "stdout",
     "output_type": "stream",
     "text": [
      "<class 'pandas.core.frame.DataFrame'>\n",
      "RangeIndex: 255024 entries, 0 to 255023\n",
      "Data columns (total 10 columns):\n",
      " #   Column   Non-Null Count   Dtype         \n",
      "---  ------   --------------   -----         \n",
      " 0   PC4      255024 non-null  int64         \n",
      " 1   date     255024 non-null  datetime64[ns]\n",
      " 2   pop_tot  255024 non-null  int64         \n",
      " 3   m00_30   254276 non-null  float64       \n",
      " 4   m30_60   254276 non-null  float64       \n",
      " 5   H1_2     254276 non-null  float64       \n",
      " 6   H2_4     254276 non-null  float64       \n",
      " 7   H4_8     254276 non-null  float64       \n",
      " 8   H8_16    254276 non-null  float64       \n",
      " 9   H16plus  254276 non-null  float64       \n",
      "dtypes: datetime64[ns](1), float64(7), int64(2)\n",
      "memory usage: 19.5 MB\n"
     ]
    }
   ],
   "source": [
    "df_zod.info()"
   ]
  },
  {
   "cell_type": "markdown",
   "id": "3817ed26",
   "metadata": {},
   "source": [
    "<h4><font color=mediumvioletred>Get some info about numerical columns (count, mean, min...) </font></h4>"
   ]
  },
  {
   "cell_type": "code",
   "execution_count": 17,
   "id": "18e366cf",
   "metadata": {},
   "outputs": [
    {
     "data": {
      "text/html": [
       "<div>\n",
       "<style scoped>\n",
       "    .dataframe tbody tr th:only-of-type {\n",
       "        vertical-align: middle;\n",
       "    }\n",
       "\n",
       "    .dataframe tbody tr th {\n",
       "        vertical-align: top;\n",
       "    }\n",
       "\n",
       "    .dataframe thead th {\n",
       "        text-align: right;\n",
       "    }\n",
       "</style>\n",
       "<table border=\"1\" class=\"dataframe\">\n",
       "  <thead>\n",
       "    <tr style=\"text-align: right;\">\n",
       "      <th></th>\n",
       "      <th>PC4</th>\n",
       "      <th>pop_tot</th>\n",
       "      <th>m00_30</th>\n",
       "      <th>m30_60</th>\n",
       "      <th>H1_2</th>\n",
       "      <th>H2_4</th>\n",
       "      <th>H4_8</th>\n",
       "      <th>H8_16</th>\n",
       "      <th>H16plus</th>\n",
       "    </tr>\n",
       "  </thead>\n",
       "  <tbody>\n",
       "    <tr>\n",
       "      <th>count</th>\n",
       "      <td>255024.000000</td>\n",
       "      <td>255024.000000</td>\n",
       "      <td>254276.000000</td>\n",
       "      <td>254276.000000</td>\n",
       "      <td>254276.00000</td>\n",
       "      <td>254276.000000</td>\n",
       "      <td>254276.000000</td>\n",
       "      <td>254276.000000</td>\n",
       "      <td>254276.000000</td>\n",
       "    </tr>\n",
       "    <tr>\n",
       "      <th>mean</th>\n",
       "      <td>5633.818182</td>\n",
       "      <td>1984.896131</td>\n",
       "      <td>334.580322</td>\n",
       "      <td>41.012966</td>\n",
       "      <td>73.50676</td>\n",
       "      <td>126.323121</td>\n",
       "      <td>237.291384</td>\n",
       "      <td>349.584455</td>\n",
       "      <td>827.626296</td>\n",
       "    </tr>\n",
       "    <tr>\n",
       "      <th>std</th>\n",
       "      <td>15.168687</td>\n",
       "      <td>1285.972747</td>\n",
       "      <td>376.307733</td>\n",
       "      <td>61.055502</td>\n",
       "      <td>104.01577</td>\n",
       "      <td>186.176472</td>\n",
       "      <td>331.758108</td>\n",
       "      <td>380.206726</td>\n",
       "      <td>538.795020</td>\n",
       "    </tr>\n",
       "    <tr>\n",
       "      <th>min</th>\n",
       "      <td>5611.000000</td>\n",
       "      <td>5.000000</td>\n",
       "      <td>0.000000</td>\n",
       "      <td>0.000000</td>\n",
       "      <td>0.00000</td>\n",
       "      <td>0.000000</td>\n",
       "      <td>0.000000</td>\n",
       "      <td>0.000000</td>\n",
       "      <td>-3.000000</td>\n",
       "    </tr>\n",
       "    <tr>\n",
       "      <th>25%</th>\n",
       "      <td>5622.000000</td>\n",
       "      <td>1060.000000</td>\n",
       "      <td>56.000000</td>\n",
       "      <td>0.000000</td>\n",
       "      <td>0.00000</td>\n",
       "      <td>9.000000</td>\n",
       "      <td>38.000000</td>\n",
       "      <td>98.000000</td>\n",
       "      <td>471.000000</td>\n",
       "    </tr>\n",
       "    <tr>\n",
       "      <th>50%</th>\n",
       "      <td>5631.000000</td>\n",
       "      <td>1703.000000</td>\n",
       "      <td>222.000000</td>\n",
       "      <td>15.000000</td>\n",
       "      <td>32.00000</td>\n",
       "      <td>62.000000</td>\n",
       "      <td>119.000000</td>\n",
       "      <td>236.000000</td>\n",
       "      <td>781.000000</td>\n",
       "    </tr>\n",
       "    <tr>\n",
       "      <th>75%</th>\n",
       "      <td>5646.000000</td>\n",
       "      <td>2615.000000</td>\n",
       "      <td>481.000000</td>\n",
       "      <td>60.000000</td>\n",
       "      <td>107.00000</td>\n",
       "      <td>173.000000</td>\n",
       "      <td>292.000000</td>\n",
       "      <td>454.000000</td>\n",
       "      <td>1093.000000</td>\n",
       "    </tr>\n",
       "    <tr>\n",
       "      <th>max</th>\n",
       "      <td>5658.000000</td>\n",
       "      <td>11617.000000</td>\n",
       "      <td>4885.000000</td>\n",
       "      <td>2090.000000</td>\n",
       "      <td>1564.00000</td>\n",
       "      <td>5326.000000</td>\n",
       "      <td>3515.000000</td>\n",
       "      <td>3368.000000</td>\n",
       "      <td>3409.000000</td>\n",
       "    </tr>\n",
       "  </tbody>\n",
       "</table>\n",
       "</div>"
      ],
      "text/plain": [
       "                 PC4        pop_tot         m00_30         m30_60  \\\n",
       "count  255024.000000  255024.000000  254276.000000  254276.000000   \n",
       "mean     5633.818182    1984.896131     334.580322      41.012966   \n",
       "std        15.168687    1285.972747     376.307733      61.055502   \n",
       "min      5611.000000       5.000000       0.000000       0.000000   \n",
       "25%      5622.000000    1060.000000      56.000000       0.000000   \n",
       "50%      5631.000000    1703.000000     222.000000      15.000000   \n",
       "75%      5646.000000    2615.000000     481.000000      60.000000   \n",
       "max      5658.000000   11617.000000    4885.000000    2090.000000   \n",
       "\n",
       "               H1_2           H2_4           H4_8          H8_16  \\\n",
       "count  254276.00000  254276.000000  254276.000000  254276.000000   \n",
       "mean       73.50676     126.323121     237.291384     349.584455   \n",
       "std       104.01577     186.176472     331.758108     380.206726   \n",
       "min         0.00000       0.000000       0.000000       0.000000   \n",
       "25%         0.00000       9.000000      38.000000      98.000000   \n",
       "50%        32.00000      62.000000     119.000000     236.000000   \n",
       "75%       107.00000     173.000000     292.000000     454.000000   \n",
       "max      1564.00000    5326.000000    3515.000000    3368.000000   \n",
       "\n",
       "             H16plus  \n",
       "count  254276.000000  \n",
       "mean      827.626296  \n",
       "std       538.795020  \n",
       "min        -3.000000  \n",
       "25%       471.000000  \n",
       "50%       781.000000  \n",
       "75%      1093.000000  \n",
       "max      3409.000000  "
      ]
     },
     "execution_count": 17,
     "metadata": {},
     "output_type": "execute_result"
    }
   ],
   "source": [
    "df_zod.describe()"
   ]
  },
  {
   "cell_type": "markdown",
   "id": "6d797944",
   "metadata": {},
   "source": [
    "<h2><font color=slateblue> 5. Data Preparation </font></h2>"
   ]
  },
  {
   "cell_type": "code",
   "execution_count": null,
   "id": "796a3f9f",
   "metadata": {},
   "outputs": [],
   "source": []
  },
  {
   "cell_type": "code",
   "execution_count": null,
   "id": "115e423a",
   "metadata": {},
   "outputs": [],
   "source": []
  },
  {
   "cell_type": "code",
   "execution_count": null,
   "id": "a62b87a5",
   "metadata": {},
   "outputs": [],
   "source": []
  },
  {
   "cell_type": "code",
   "execution_count": null,
   "id": "cedc31ce",
   "metadata": {},
   "outputs": [],
   "source": []
  },
  {
   "cell_type": "markdown",
   "id": "002b5a79",
   "metadata": {},
   "source": [
    "<h2><font color=slateblue> 6. Modelling </font></h2>"
   ]
  },
  {
   "cell_type": "code",
   "execution_count": null,
   "id": "197c479d",
   "metadata": {},
   "outputs": [],
   "source": []
  },
  {
   "cell_type": "code",
   "execution_count": null,
   "id": "b3714cbd",
   "metadata": {},
   "outputs": [],
   "source": []
  },
  {
   "cell_type": "code",
   "execution_count": null,
   "id": "ecefde99",
   "metadata": {},
   "outputs": [],
   "source": []
  },
  {
   "cell_type": "code",
   "execution_count": null,
   "id": "d11b9c24",
   "metadata": {},
   "outputs": [],
   "source": []
  }
 ],
 "metadata": {
  "kernelspec": {
   "display_name": "Python 3 (ipykernel)",
   "language": "python",
   "name": "python3"
  },
  "language_info": {
   "codemirror_mode": {
    "name": "ipython",
    "version": 3
   },
   "file_extension": ".py",
   "mimetype": "text/x-python",
   "name": "python",
   "nbconvert_exporter": "python",
   "pygments_lexer": "ipython3",
   "version": "3.9.13"
  }
 },
 "nbformat": 4,
 "nbformat_minor": 5
}
