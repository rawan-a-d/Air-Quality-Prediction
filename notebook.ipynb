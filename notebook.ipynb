{
 "cells": [
  {
   "cell_type": "markdown",
   "id": "90a4671f",
   "metadata": {},
   "source": [
    "<h1 style=\"font-size:3rem;color:maroon;\"> Predicting Air Pollution Level using Machine Learning</h1>\n",
    "\n",
    "This notebook looks into using various Python-based machine learning and data science libraries in an attempt to build a machine learning model capable of predicting air pollution level in an area in Eindhoven in the upcoming week.\n",
    "\n",
    "We\"re going to take the following approach:\n",
    "1. Problem definition\n",
    "2. Data\n",
    "3. Features\n",
    "4. Data Exploration & Visualization\n",
    "5. Data Preparation\n",
    "6. Modelling"
   ]
  },
  {
   "cell_type": "markdown",
   "id": "2fb30f1f",
   "metadata": {},
   "source": [
    "<h2><font color=slateblue> 1. Problem Definition </font></h2>\n",
    "\n",
    "In a statement,\n",
    "> Given historical pollution data, weather data and people going through an area, can we predict air pollution level (fine particle matter level pm2.5) in an area in Eindhoven in the upcoming week?"
   ]
  },
  {
   "cell_type": "markdown",
   "id": "cb8f4787",
   "metadata": {},
   "source": [
    "<h2><font color=slateblue> 2. Data </font></h2>\n",
    "\n",
    "The data is provided by TNO and Zicht op Data."
   ]
  },
  {
   "cell_type": "markdown",
   "id": "cbd70547",
   "metadata": {},
   "source": [
    "<h2><font color=slateblue> 3. Features </font></h2>\n",
    "\n",
    "This is where you\"ll get different information about each of the features in our data.\n",
    "\n",
    "We have three separate datasets for the period between 25-09-2021 and 30-12-2021:\n",
    "\n",
    "**Air pollution**\n",
    "* date: date in ymd_hms\n",
    "* PC4: postcode\n",
    "* pm2.5: particulate matter <2.5um in ug/m3\n",
    "* pm10: particulate matter <10um in ug/m3\n",
    "* no2: nitrogen dioxide in ug/m3\n",
    "* no: nitrogen oxide in ug/m3\n",
    "* so2: sulphur dioxide in ug/m3\n",
    "\n",
    "\n",
    "**Meteo**\n",
    "* date: date in ymd_hms\n",
    "* PC4: postcode\n",
    "* wd: wind direction in degrees 0-360\n",
    "* ws: wind speed in m/s\n",
    "* blh: boundary layer height in metres\n",
    "* tcc: total cloud cover in oktas (0-9)\n",
    "* ssrd: solar surface radiation downwards in W/m2 \n",
    "\n",
    "(see https://cds.climate.copernicus.eu/cdsapp#!/dataset/reanalysis-era5-single-levels?tab=overview for more information)\n",
    "\n",
    "**Zichtop**\n",
    "* PC4: postcode\n",
    "* date: date in ymd_hms\n",
    "* pop_tot: total number of people in PC4 for each time step\n",
    "* m00_30: number of people who have been there for up to 30 minutes\n",
    "* m30_60: number of people who have been there for 30 and 60 minutes\n",
    "* H1_2: number of people who have been there for 1 and 2 hours\n",
    "* H2_4: number of people who have been there for 2 and 4 hours\n",
    "* H4_8: number of people who have been there for 4 and 8 hours\n",
    "* H8_16: number of people who have been there for 8 and 16 hours\n",
    "* H16plus: number of people who have been there for over 16 hours"
   ]
  },
  {
   "cell_type": "markdown",
   "id": "19fd7e7a",
   "metadata": {},
   "source": [
    "<h2><font color=slateblue> Preparing the tools </font></h2>"
   ]
  },
  {
   "cell_type": "code",
   "execution_count": null,
   "id": "074fdc9e",
   "metadata": {},
   "outputs": [],
   "source": [
    "# Regular EDA (exploratory data analysis) and plotting libraries\n",
    "import numpy as np\n",
    "import pandas as pd\n",
    "import matplotlib.pyplot as plt\n",
    "import seaborn as sns\n",
    "\n",
    "# Set the style\n",
    "plt.style.use(\"ggplot\")\n",
    "# plt.style.available"
   ]
  },
  {
   "cell_type": "markdown",
   "id": "4c0c3f50",
   "metadata": {},
   "source": [
    "<h2><font color=slateblue> 4. Data Exploration & Visualization </font></h2>"
   ]
  },
  {
   "cell_type": "markdown",
   "id": "b94e5f94",
   "metadata": {},
   "source": [
    "<h3><font color=steelblue>Zicht op Data dateset </font></h3>"
   ]
  },
  {
   "cell_type": "markdown",
   "id": "ba1abc86",
   "metadata": {},
   "source": [
    "<h4><font color=mediumvioletred>Read CSV files </font></h4>"
   ]
  },
  {
   "cell_type": "code",
   "execution_count": null,
   "id": "fa9d31de",
   "metadata": {},
   "outputs": [],
   "source": [
    "# read zichtop dataset csv file\n",
    "df_zichtop = pd.read_csv(\"data/zichtop.csv\", \n",
    "                    parse_dates=[\"date\"])\n",
    "\n",
    "# read air_pollution dataset csv file\n",
    "df_air_pollution = pd.read_csv(\"data/air_pollution.csv\",\n",
    "                    parse_dates=[\"date\"])"
   ]
  },
  {
   "cell_type": "markdown",
   "id": "754df3d1",
   "metadata": {},
   "source": [
    "<h4><font color=mediumvioletred>Get a sample </font></h4>"
   ]
  },
  {
   "cell_type": "code",
   "execution_count": null,
   "id": "9432ba85",
   "metadata": {},
   "outputs": [],
   "source": [
    "# zichtop sample\n",
    "df_zichtop.head(10)"
   ]
  },
  {
   "cell_type": "code",
   "execution_count": null,
   "id": "a4188d7c",
   "metadata": {},
   "outputs": [],
   "source": [
    "# air_pollution sample\n",
    "df_air_pollution.sample(5)"
   ]
  },
  {
   "cell_type": "markdown",
   "id": "9255faac",
   "metadata": {},
   "source": [
    "<h4><font color=mediumvioletred>Get number of rows and columns </font></h4>"
   ]
  },
  {
   "cell_type": "code",
   "execution_count": null,
   "id": "b20f50ba",
   "metadata": {},
   "outputs": [],
   "source": [
    "df_zichtop.shape"
   ]
  },
  {
   "cell_type": "markdown",
   "id": "90103932",
   "metadata": {},
   "source": [
    "<h4><font color=mediumvioletred>Get types of columns </font></h4>"
   ]
  },
  {
   "cell_type": "code",
   "execution_count": null,
   "id": "9f50dde3",
   "metadata": {},
   "outputs": [],
   "source": [
    "df_zichtop.dtypes"
   ]
  },
  {
   "cell_type": "markdown",
   "id": "6ce8b664",
   "metadata": {},
   "source": [
    "<h4><font color=mediumvioletred>Get some info about each column (type, number of null values..) </font></h4>"
   ]
  },
  {
   "cell_type": "code",
   "execution_count": null,
   "id": "0f08d0b8",
   "metadata": {},
   "outputs": [],
   "source": [
    "df_zichtop.info()"
   ]
  },
  {
   "cell_type": "markdown",
   "id": "3817ed26",
   "metadata": {},
   "source": [
    "<h4><font color=mediumvioletred>Get some info about numerical columns (count, mean, min...) </font></h4>"
   ]
  },
  {
   "cell_type": "code",
   "execution_count": null,
   "id": "18e366cf",
   "metadata": {},
   "outputs": [],
   "source": [
    "df_zichtop.describe()"
   ]
  },
  {
   "cell_type": "markdown",
   "id": "881b763e",
   "metadata": {},
   "source": [
    "<h4><font color=mediumvioletred>Merge zichtop and air_pollution datasets </font></h4>"
   ]
  },
  {
   "cell_type": "code",
   "execution_count": null,
   "id": "d996e2a7",
   "metadata": {},
   "outputs": [],
   "source": [
    "df_zichtop_air_pollution = pd.merge(df_zichtop, df_air_pollution[[\"PC4\",\"date\", \"pm2.5\"]], on=[\"PC4\", \"date\"])\n",
    "df_zichtop_air_pollution.sample(5)"
   ]
  },
  {
   "cell_type": "code",
   "execution_count": null,
   "id": "4b3a88a8",
   "metadata": {},
   "outputs": [],
   "source": [
    "df_zichtop_air_pollution.dtypes"
   ]
  },
  {
   "cell_type": "markdown",
   "id": "b5f0a1e8",
   "metadata": {},
   "source": [
    "<h4><font color=mediumvioletred>Reorder columns in zichtop air pollution dataset </font></h4>"
   ]
  },
  {
   "cell_type": "code",
   "execution_count": null,
   "id": "9b63b3f0",
   "metadata": {},
   "outputs": [],
   "source": [
    "zichtop_air_pollution_features = [\n",
    "    \"PC4\",\n",
    "    \"date\",\n",
    "    \"pop_tot\",\n",
    "    \"pm2.5\",\n",
    "    \"m00_30\",\n",
    "    \"m30_60\",\n",
    "    \"H1_2\",\n",
    "    \"H2_4\",\n",
    "    \"H4_8\",\n",
    "    \"H8_16\",\n",
    "    \"H16plus\"\n",
    "]\n",
    "\n",
    "df_zichtop_air_pollution = df_zichtop_air_pollution.reindex(zichtop_air_pollution_features, axis=1)\n",
    "\n",
    "df_zichtop_air_pollution.sample(5)"
   ]
  },
  {
   "cell_type": "markdown",
   "id": "4f151668",
   "metadata": {},
   "source": [
    "<h4><font color=mediumvioletred>Rename the date column to date_time </font></h4>"
   ]
  },
  {
   "cell_type": "code",
   "execution_count": null,
   "id": "712399e6",
   "metadata": {},
   "outputs": [],
   "source": [
    "df_zichtop_air_pollution.rename(columns={\"date\": \"date_time\"}, inplace=True)"
   ]
  },
  {
   "cell_type": "markdown",
   "id": "79cc31f1",
   "metadata": {},
   "source": [
    "<h4><font color=mediumvioletred>Separate date_time column to date and time </font></h4>"
   ]
  },
  {
   "cell_type": "code",
   "execution_count": null,
   "id": "076e5fc0",
   "metadata": {},
   "outputs": [],
   "source": [
    "df_zichtop_air_pollution[\"date\"] = df_zichtop_air_pollution[\"date_time\"].dt.date.astype(str)\n",
    "df_zichtop_air_pollution[\"time\"] = df_zichtop_air_pollution[\"date_time\"].dt.time.astype(str)"
   ]
  },
  {
   "cell_type": "code",
   "execution_count": null,
   "id": "23893b38",
   "metadata": {},
   "outputs": [],
   "source": [
    "df_zichtop_air_pollution.sample(5)"
   ]
  },
  {
   "cell_type": "code",
   "execution_count": null,
   "id": "dc889c38",
   "metadata": {},
   "outputs": [],
   "source": [
    "df_zichtop_air_pollution[(df_zichtop_air_pollution[\"PC4\"] == 5611) & (df_zichtop_air_pollution.date == \"2021-09-25\")]"
   ]
  },
  {
   "cell_type": "code",
   "execution_count": null,
   "id": "b31d026f",
   "metadata": {},
   "outputs": [],
   "source": [
    "# df_zichtop[(df_zichtop[\"PC4\"] == 5611) & (df_zichtop.date == \"2021-01-04\")]\n",
    "df_zichtop_air_pollution[(df_zichtop_air_pollution[\"PC4\"] == 5611)]"
   ]
  },
  {
   "cell_type": "markdown",
   "id": "927e87f9",
   "metadata": {},
   "source": [
    "<h4><font color=mediumvioletred>Get number of people in zipcode 5611 on 2021-09-25 </font></h4>"
   ]
  },
  {
   "cell_type": "code",
   "execution_count": null,
   "id": "6b62bdab",
   "metadata": {},
   "outputs": [],
   "source": [
    "people_5611 = df_zichtop_air_pollution[(df_zichtop_air_pollution[\"PC4\"] == 5611) & (df_zichtop_air_pollution[\"date\"] == \"2021-09-25\")]"
   ]
  },
  {
   "cell_type": "markdown",
   "id": "951320e9",
   "metadata": {},
   "source": [
    "<h4><font color=mediumvioletred>Visualize number of people in zipcode 5611 on 2021-09-25 </font></h4>"
   ]
  },
  {
   "cell_type": "code",
   "execution_count": null,
   "id": "3a20a84f",
   "metadata": {},
   "outputs": [],
   "source": [
    "fig, ax = plt.subplots(figsize=(25, 6))\n",
    "# Plot the data\n",
    "scatter = ax.bar(list(people_5611[\"time\"]),\n",
    "                list(people_5611[\"pop_tot\"]),\n",
    "                color=\"salmon\");\n",
    "\n",
    "# Customize the plot\n",
    "ax.set(title=\"Number of people in zipcode: 5611 on 2021-09-25 per hour \\n\",\n",
    "      xlabel=\"Time\",\n",
    "      ylabel=\"Number of People\");"
   ]
  },
  {
   "cell_type": "markdown",
   "id": "3d71d09f",
   "metadata": {},
   "source": [
    "<h4><font color=mediumvioletred> Get maximum number of people per zipcode </font></h4>"
   ]
  },
  {
   "cell_type": "code",
   "execution_count": null,
   "id": "ca04222f",
   "metadata": {
    "scrolled": false
   },
   "outputs": [],
   "source": [
    "max_people = df_zichtop_air_pollution.groupby([\"PC4\"])[\"pop_tot\"].agg(\"max\").reset_index()\n",
    "max_people.head()"
   ]
  },
  {
   "cell_type": "markdown",
   "id": "c90c6b73",
   "metadata": {},
   "source": [
    "<h4><font color=mediumvioletred> Visualize maximum number of people per zipcode </font></h4>"
   ]
  },
  {
   "cell_type": "code",
   "execution_count": null,
   "id": "48bc41f0",
   "metadata": {},
   "outputs": [],
   "source": [
    "fig, ax = plt.subplots(figsize=(30, 7))\n",
    "# Plot the data\n",
    "scatter = ax.bar(max_people[\"PC4\"].astype(str),\n",
    "                max_people[\"pop_tot\"],\n",
    "                color=\"salmon\");\n",
    "\n",
    "# Customize the plot\n",
    "ax.set(title=\"Max number of people per zipcode \\n\",\n",
    "      xlabel=\"Zipcode\",\n",
    "      ylabel=\"Number of People\");"
   ]
  },
  {
   "cell_type": "markdown",
   "id": "a9bdf6f6",
   "metadata": {},
   "source": [
    "Zipcodes 5611, 5612, 5616 have the highest number of people."
   ]
  },
  {
   "cell_type": "markdown",
   "id": "73b25c0f",
   "metadata": {},
   "source": [
    "<h4><font color=mediumvioletred> Get maximum, average and minimum number of people per zipcode </font></h4>"
   ]
  },
  {
   "cell_type": "code",
   "execution_count": null,
   "id": "01c21a80",
   "metadata": {},
   "outputs": [],
   "source": [
    "max_mean_min_people = df_zichtop_air_pollution.groupby([\"PC4\"])[\"pop_tot\"].agg([\"max\", \"min\", \"mean\"]).reset_index()\n",
    "max_mean_min_people.head()"
   ]
  },
  {
   "cell_type": "markdown",
   "id": "9601d614",
   "metadata": {},
   "source": [
    "<h4><font color=mediumvioletred> Visualize maximum, average and minimum number of people per zipcode </font></h4>"
   ]
  },
  {
   "cell_type": "code",
   "execution_count": null,
   "id": "def7f06d",
   "metadata": {},
   "outputs": [],
   "source": [
    "fig, ax = plt.subplots(figsize=(45, 10))\n",
    "\n",
    "x = np.arange(len(max_mean_min_people[\"PC4\"]))  # the label locations\n",
    "width = 0.28  # the width of the bars\n",
    "\n",
    "# Plot the data\n",
    "rects1 = ax.bar(x - width, max_mean_min_people[\"max\"], width, label=\"Maximum\", color=\"salmon\")\n",
    "rects2 = ax.bar(x, max_mean_min_people[\"mean\"], width, label=\"Average\", color=\"lightblue\")\n",
    "rects3 = ax.bar(x + width, max_mean_min_people[\"min\"], width, label=\"Minimum\", color=\"mediumaquamarine\")\n",
    "\n",
    "# Customize the plot\n",
    "ax.set_ylabel(\"Number of People\")\n",
    "ax.set_xlabel(\"Zipcode\")\n",
    "ax.set_title(\"Maximum, Average and Minimum number of people per zipcode \\n\")\n",
    "ax.set_xticks(x, max_mean_min_people[\"PC4\"])\n",
    "ax.legend()\n",
    "\n",
    "ax.bar_label(rects1, padding=4)\n",
    "ax.bar_label(rects2, padding=4)\n",
    "ax.bar_label(rects3, padding=4)\n",
    "\n",
    "fig.tight_layout()\n",
    "\n",
    "plt.show()"
   ]
  },
  {
   "cell_type": "markdown",
   "id": "35b08a9a",
   "metadata": {},
   "source": [
    "Zipcodes 5611, 5612, 5616 have the highest number of people and zipcodes 5633, 5656, 5617 have the lowest number of people."
   ]
  },
  {
   "cell_type": "markdown",
   "id": "8138471d",
   "metadata": {},
   "source": [
    "<h4><font color=mediumvioletred> Get number of people vs. air quality </font></h4>"
   ]
  },
  {
   "cell_type": "code",
   "execution_count": null,
   "id": "6c889ba0",
   "metadata": {},
   "outputs": [],
   "source": [
    "# get data for zipcode 5611 on 2021-09-25\n",
    "people_air_quality_area = df_zichtop_air_pollution[(df_zichtop_air_pollution[\"PC4\"] == 5611) & (df_zichtop_air_pollution[\"date\"] == \"2021-09-25\")]\n",
    "people_air_quality_area.head(5)"
   ]
  },
  {
   "cell_type": "markdown",
   "id": "cdeb3562",
   "metadata": {},
   "source": [
    "<h4><font color=mediumvioletred> Visualize number of people vs. air quality </font></h4>"
   ]
  },
  {
   "cell_type": "code",
   "execution_count": null,
   "id": "5c5a0633",
   "metadata": {},
   "outputs": [],
   "source": [
    "# Number of people vs. fine particulate matter in a day in a specific area\n",
    "fig, ax = plt.subplots(figsize=(10, 6))\n",
    "\n",
    "# Plot the data\n",
    "scatter = ax.scatter(x=people_air_quality_area[\"pop_tot\"],\n",
    "                    y=round(people_air_quality_area[\"pm2.5\"]),\n",
    "                    cmap=\"winter\"); # color map: this changes the color scheme\n",
    "\n",
    "# Customize the plot\n",
    "ax.set(title=\"Number of people vs. fine particulate matter \\n throughout the day for zipcode 5611 on 2021-09-25 \\n\",\n",
    "      xlabel=\"Number of people\",\n",
    "      ylabel=\"Fine particulate matter\");\n",
    "\n",
    "# Add a horizontal line\n",
    "ax.axhline(people_air_quality_area[\"pm2.5\"].mean(),\n",
    "          linestyle=\"--\");"
   ]
  },
  {
   "cell_type": "code",
   "execution_count": null,
   "id": "272a49b2",
   "metadata": {},
   "outputs": [],
   "source": [
    "# Subplot of number of people, pollution, time\n",
    "fig, (ax0, ax1) = plt.subplots(nrows=2,\n",
    "                                ncols=1,\n",
    "                                figsize=(30, 10),\n",
    "                                sharex=True)\n",
    "\n",
    "# Add data to ax0\n",
    "ax0.bar(people_air_quality_area[\"time\"], people_air_quality_area[\"pop_tot\"], color=\"salmon\");\n",
    "# Add data to ax1\n",
    "ax1.bar(people_air_quality_area[\"time\"], people_air_quality_area[\"pm2.5\"], color=\"mediumaquamarine\");\n",
    "\n",
    "# Customize ax0\n",
    "ax0.set(title=\"Number of people per hour \\n\",\n",
    "      ylabel=\"Number of people\");\n",
    "\n",
    "# Customize ax1\n",
    "ax1.set(title=\"Fine particulate matter per hour \\n\",\n",
    "        xlabel=\"Time\",\n",
    "        ylabel=\"Fine particulate matter\");\n",
    "\n",
    "# Add a title to the figure\n",
    "fig.suptitle(\"Air Quality Analysis for zipcode 5611 on 2021-09-25\", fontsize=16, fontweight=\"bold\");"
   ]
  },
  {
   "cell_type": "markdown",
   "id": "69243d73",
   "metadata": {},
   "source": [
    "<h4><font color=mediumvioletred> Get maximum, average and minimum fine particulate matter per zipcode </font></h4>"
   ]
  },
  {
   "cell_type": "code",
   "execution_count": null,
   "id": "c2e8b385",
   "metadata": {},
   "outputs": [],
   "source": [
    "# Get daily average of pm2.5 per zipcode\n",
    "average_pm_per_day = df_zichtop_air_pollution.groupby([\"PC4\", \"date\"])[\"pm2.5\"].agg({\"mean\"}).reset_index()\n",
    "\n",
    "# Get maximum, average and minimum of pm2.5 per zipcode\n",
    "max_mean_min_pm = average_pm_per_day.groupby([\"PC4\"])[\"mean\"].agg([\"max\", \"min\", \"mean\"]).reset_index()\n",
    "max_mean_min_pm.head()"
   ]
  },
  {
   "cell_type": "markdown",
   "id": "5fdb0da0",
   "metadata": {},
   "source": [
    "<h4><font color=mediumvioletred> Visualize maximum, average and minimum fine particulate matter per zipcode </font></h4>"
   ]
  },
  {
   "cell_type": "code",
   "execution_count": null,
   "id": "e1650653",
   "metadata": {},
   "outputs": [],
   "source": [
    "fig, ax = plt.subplots(figsize=(45, 10))\n",
    "\n",
    "x = np.arange(len(max_mean_min_pm[\"PC4\"]))  # the label locations\n",
    "width = 0.28  # the width of the bars\n",
    "\n",
    "# Plot the data\n",
    "rects1 = ax.bar(x - width, round(max_mean_min_pm[\"max\"]), width, label=\"Maximum\", color=\"salmon\")\n",
    "rects2 = ax.bar(x, round(max_mean_min_pm[\"mean\"]), width, label=\"Average\", color=\"lightblue\")\n",
    "rects3 = ax.bar(x + width, round(max_mean_min_pm[\"min\"]), width, label=\"Minimum\", color=\"mediumaquamarine\")\n",
    "\n",
    "# Customize the plot\n",
    "ax.set_ylabel(\"Fine particulate matter\")\n",
    "ax.set_xlabel(\"Zipcode\")\n",
    "ax.set_title(\"Maximum, average and minimum fine particulate matter per zipcode \\n\")\n",
    "ax.set_xticks(x, max_mean_min_pm[\"PC4\"])\n",
    "ax.legend()\n",
    "\n",
    "ax.bar_label(rects1, padding=4)\n",
    "ax.bar_label(rects2, padding=4)\n",
    "ax.bar_label(rects3, padding=4)\n",
    "\n",
    "fig.tight_layout()\n",
    "\n",
    "plt.show()"
   ]
  },
  {
   "cell_type": "markdown",
   "id": "27f6bcfc",
   "metadata": {},
   "source": [
    "According to the following diagram the maximum pm2.5 for each zipcode are on a moderate/unhealthy level and the average and minimum pm2.5 are on a good level."
   ]
  },
  {
   "cell_type": "markdown",
   "id": "4c144360",
   "metadata": {},
   "source": [
    "![title](images/pm2.5_chart.jpg)"
   ]
  },
  {
   "cell_type": "markdown",
   "id": "6d797944",
   "metadata": {},
   "source": [
    "<h2><font color=slateblue> 5. Data Preparation </font></h2>"
   ]
  },
  {
   "cell_type": "code",
   "execution_count": null,
   "id": "796a3f9f",
   "metadata": {},
   "outputs": [],
   "source": []
  },
  {
   "cell_type": "code",
   "execution_count": null,
   "id": "115e423a",
   "metadata": {},
   "outputs": [],
   "source": []
  },
  {
   "cell_type": "code",
   "execution_count": null,
   "id": "a62b87a5",
   "metadata": {},
   "outputs": [],
   "source": []
  },
  {
   "cell_type": "code",
   "execution_count": null,
   "id": "cedc31ce",
   "metadata": {},
   "outputs": [],
   "source": []
  },
  {
   "cell_type": "markdown",
   "id": "002b5a79",
   "metadata": {},
   "source": [
    "<h2><font color=slateblue> 6. Modelling </font></h2>"
   ]
  },
  {
   "cell_type": "code",
   "execution_count": null,
   "id": "197c479d",
   "metadata": {},
   "outputs": [],
   "source": []
  },
  {
   "cell_type": "code",
   "execution_count": null,
   "id": "b3714cbd",
   "metadata": {},
   "outputs": [],
   "source": []
  },
  {
   "cell_type": "code",
   "execution_count": null,
   "id": "ecefde99",
   "metadata": {},
   "outputs": [],
   "source": []
  },
  {
   "cell_type": "code",
   "execution_count": null,
   "id": "d11b9c24",
   "metadata": {},
   "outputs": [],
   "source": []
  }
 ],
 "metadata": {
  "kernelspec": {
   "display_name": "Python 3 (ipykernel)",
   "language": "python",
   "name": "python3"
  },
  "language_info": {
   "codemirror_mode": {
    "name": "ipython",
    "version": 3
   },
   "file_extension": ".py",
   "mimetype": "text/x-python",
   "name": "python",
   "nbconvert_exporter": "python",
   "pygments_lexer": "ipython3",
   "version": "3.9.13"
  }
 },
 "nbformat": 4,
 "nbformat_minor": 5
}
