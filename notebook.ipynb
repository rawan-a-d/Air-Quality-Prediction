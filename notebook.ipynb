{
 "cells": [
  {
   "cell_type": "markdown",
   "id": "90a4671f",
   "metadata": {},
   "source": [
    "<h1 style=\"font-size:3rem;color:maroon;\"> Predicting Air Pollution Level using Machine Learning</h1>\n",
    "\n",
    "This notebook looks into using various Python-based machine learning and data science libraries in an attempt to build a machine learning model capable of predicting air pollution level in an area in Eindhoven in the upcoming week.\n",
    "\n",
    "We\"re going to take the following approach:\n",
    "1. Problem definition\n",
    "2. Data\n",
    "3. Features\n",
    "4. Data Exploration & Visualization\n",
    "5. Data Preparation\n",
    "6. Modelling"
   ]
  },
  {
   "cell_type": "markdown",
   "id": "2fb30f1f",
   "metadata": {},
   "source": [
    "<h2><font color=slateblue> 1. Problem Definition </font></h2>\n",
    "\n",
    "In a statement,\n",
    "> Given historical pollution data, weather data and people going through an area, can we predict air pollution level (fine particle matter level pm2.5) in an area in Eindhoven in the upcoming week?"
   ]
  },
  {
   "cell_type": "markdown",
   "id": "cb8f4787",
   "metadata": {},
   "source": [
    "<h2><font color=slateblue> 2. Data </font></h2>\n",
    "\n",
    "The data is provided by TNO and Zicht op Data."
   ]
  },
  {
   "cell_type": "markdown",
   "id": "cbd70547",
   "metadata": {},
   "source": [
    "<h2><font color=slateblue> 3. Features </font></h2>\n",
    "\n",
    "This is where you\"ll get different information about each of the features in our data.\n",
    "\n",
    "We have three separate datasets for the period between 25-09-2021 and 30-12-2021:\n",
    "\n",
    "**Air pollution**\n",
    "* date: date in ymd_hms\n",
    "* PC4: postcode\n",
    "* pm2.5: particulate matter <2.5um in ug/m3\n",
    "* pm10: particulate matter <10um in ug/m3\n",
    "* no2: nitrogen dioxide in ug/m3\n",
    "* no: nitrogen oxide in ug/m3\n",
    "* so2: sulphur dioxide in ug/m3\n",
    "\n",
    "\n",
    "**Meteo**\n",
    "* date: date in ymd_hms\n",
    "* PC4: postcode\n",
    "* wd: wind direction in degrees 0-360\n",
    "* ws: wind speed in m/s\n",
    "* blh: boundary layer height in metres\n",
    "* tcc: total cloud cover in oktas (0-9)\n",
    "* ssrd: solar surface radiation downwards in W/m2 \n",
    "\n",
    "(see https://cds.climate.copernicus.eu/cdsapp#!/dataset/reanalysis-era5-single-levels?tab=overview for more information)\n",
    "\n",
    "**Zichtop**\n",
    "* PC4: postcode\n",
    "* date: date in ymd_hms\n",
    "* pop_tot: total number of people in PC4 for each time step\n",
    "* m00_30: number of people who have been there for up to 30 minutes\n",
    "* m30_60: number of people who have been there for 30 and 60 minutes\n",
    "* H1_2: number of people who have been there for 1 and 2 hours\n",
    "* H2_4: number of people who have been there for 2 and 4 hours\n",
    "* H4_8: number of people who have been there for 4 and 8 hours\n",
    "* H8_16: number of people who have been there for 8 and 16 hours\n",
    "* H16plus: number of people who have been there for over 16 hours"
   ]
  },
  {
   "cell_type": "markdown",
   "id": "19fd7e7a",
   "metadata": {},
   "source": [
    "<h2><font color=slateblue> Preparing the tools </font></h2>"
   ]
  },
  {
   "cell_type": "code",
   "execution_count": 91,
   "id": "074fdc9e",
   "metadata": {},
   "outputs": [],
   "source": [
    "# Regular EDA (exploratory data analysis) and plotting libraries\n",
    "import numpy as np\n",
    "import pandas as pd\n",
    "import matplotlib.pyplot as plt\n",
    "import seaborn as sns\n",
    "import pgeocode\n",
    "import plotly.express as px\n",
    "\n",
    "# Set the style\n",
    "plt.style.use(\"ggplot\")\n",
    "# plt.style.available"
   ]
  },
  {
   "cell_type": "markdown",
   "id": "4c0c3f50",
   "metadata": {},
   "source": [
    "<h2><font color=slateblue> 4. Data Exploration & Visualization </font></h2>"
   ]
  },
  {
   "cell_type": "markdown",
   "id": "b94e5f94",
   "metadata": {},
   "source": [
    "<h3><font color=steelblue>Zicht op Data dataset </font></h3>"
   ]
  },
  {
   "cell_type": "markdown",
   "id": "ba1abc86",
   "metadata": {},
   "source": [
    "<h4><font color=mediumvioletred>Read CSV files </font></h4>"
   ]
  },
  {
   "cell_type": "code",
   "execution_count": 92,
   "id": "fa9d31de",
   "metadata": {},
   "outputs": [],
   "source": [
    "# read zichtop dataset csv file\n",
    "df_zichtop = pd.read_csv(\"data/zichtop.csv\", \n",
    "                    parse_dates=[\"date\"])\n",
    "\n",
    "# read air_pollution dataset csv file\n",
    "df_air_pollution = pd.read_csv(\"data/air_pollution.csv\",\n",
    "                    parse_dates=[\"date\"])"
   ]
  },
  {
   "cell_type": "markdown",
   "id": "754df3d1",
   "metadata": {},
   "source": [
    "<h4><font color=mediumvioletred>Get a sample </font></h4>"
   ]
  },
  {
   "cell_type": "code",
   "execution_count": 93,
   "id": "9432ba85",
   "metadata": {},
   "outputs": [
    {
     "data": {
      "text/html": [
       "<div>\n",
       "<style scoped>\n",
       "    .dataframe tbody tr th:only-of-type {\n",
       "        vertical-align: middle;\n",
       "    }\n",
       "\n",
       "    .dataframe tbody tr th {\n",
       "        vertical-align: top;\n",
       "    }\n",
       "\n",
       "    .dataframe thead th {\n",
       "        text-align: right;\n",
       "    }\n",
       "</style>\n",
       "<table border=\"1\" class=\"dataframe\">\n",
       "  <thead>\n",
       "    <tr style=\"text-align: right;\">\n",
       "      <th></th>\n",
       "      <th>PC4</th>\n",
       "      <th>date</th>\n",
       "      <th>pop_tot</th>\n",
       "      <th>m00_30</th>\n",
       "      <th>m30_60</th>\n",
       "      <th>H1_2</th>\n",
       "      <th>H2_4</th>\n",
       "      <th>H4_8</th>\n",
       "      <th>H8_16</th>\n",
       "      <th>H16plus</th>\n",
       "    </tr>\n",
       "  </thead>\n",
       "  <tbody>\n",
       "    <tr>\n",
       "      <th>0</th>\n",
       "      <td>5611</td>\n",
       "      <td>2021-01-01 00:00:00</td>\n",
       "      <td>830</td>\n",
       "      <td>136.0</td>\n",
       "      <td>80.0</td>\n",
       "      <td>34.0</td>\n",
       "      <td>57.0</td>\n",
       "      <td>34.0</td>\n",
       "      <td>34.0</td>\n",
       "      <td>455.0</td>\n",
       "    </tr>\n",
       "    <tr>\n",
       "      <th>1</th>\n",
       "      <td>5611</td>\n",
       "      <td>2021-01-01 01:00:00</td>\n",
       "      <td>837</td>\n",
       "      <td>138.0</td>\n",
       "      <td>11.0</td>\n",
       "      <td>23.0</td>\n",
       "      <td>92.0</td>\n",
       "      <td>23.0</td>\n",
       "      <td>80.0</td>\n",
       "      <td>470.0</td>\n",
       "    </tr>\n",
       "    <tr>\n",
       "      <th>2</th>\n",
       "      <td>5611</td>\n",
       "      <td>2021-01-01 02:00:00</td>\n",
       "      <td>745</td>\n",
       "      <td>41.0</td>\n",
       "      <td>0.0</td>\n",
       "      <td>0.0</td>\n",
       "      <td>82.0</td>\n",
       "      <td>51.0</td>\n",
       "      <td>71.0</td>\n",
       "      <td>500.0</td>\n",
       "    </tr>\n",
       "    <tr>\n",
       "      <th>3</th>\n",
       "      <td>5611</td>\n",
       "      <td>2021-01-01 03:00:00</td>\n",
       "      <td>876</td>\n",
       "      <td>115.0</td>\n",
       "      <td>0.0</td>\n",
       "      <td>0.0</td>\n",
       "      <td>52.0</td>\n",
       "      <td>21.0</td>\n",
       "      <td>125.0</td>\n",
       "      <td>563.0</td>\n",
       "    </tr>\n",
       "    <tr>\n",
       "      <th>4</th>\n",
       "      <td>5611</td>\n",
       "      <td>2021-01-01 04:00:00</td>\n",
       "      <td>714</td>\n",
       "      <td>49.0</td>\n",
       "      <td>0.0</td>\n",
       "      <td>0.0</td>\n",
       "      <td>37.0</td>\n",
       "      <td>25.0</td>\n",
       "      <td>111.0</td>\n",
       "      <td>492.0</td>\n",
       "    </tr>\n",
       "    <tr>\n",
       "      <th>5</th>\n",
       "      <td>5611</td>\n",
       "      <td>2021-01-01 05:00:00</td>\n",
       "      <td>702</td>\n",
       "      <td>28.0</td>\n",
       "      <td>0.0</td>\n",
       "      <td>0.0</td>\n",
       "      <td>0.0</td>\n",
       "      <td>28.0</td>\n",
       "      <td>183.0</td>\n",
       "      <td>463.0</td>\n",
       "    </tr>\n",
       "    <tr>\n",
       "      <th>6</th>\n",
       "      <td>5611</td>\n",
       "      <td>2021-01-01 06:00:00</td>\n",
       "      <td>888</td>\n",
       "      <td>53.0</td>\n",
       "      <td>0.0</td>\n",
       "      <td>0.0</td>\n",
       "      <td>18.0</td>\n",
       "      <td>89.0</td>\n",
       "      <td>160.0</td>\n",
       "      <td>568.0</td>\n",
       "    </tr>\n",
       "    <tr>\n",
       "      <th>7</th>\n",
       "      <td>5611</td>\n",
       "      <td>2021-01-01 07:00:00</td>\n",
       "      <td>1182</td>\n",
       "      <td>148.0</td>\n",
       "      <td>0.0</td>\n",
       "      <td>0.0</td>\n",
       "      <td>0.0</td>\n",
       "      <td>84.0</td>\n",
       "      <td>169.0</td>\n",
       "      <td>781.0</td>\n",
       "    </tr>\n",
       "    <tr>\n",
       "      <th>8</th>\n",
       "      <td>5611</td>\n",
       "      <td>2021-01-01 08:00:00</td>\n",
       "      <td>1263</td>\n",
       "      <td>134.0</td>\n",
       "      <td>38.0</td>\n",
       "      <td>0.0</td>\n",
       "      <td>19.0</td>\n",
       "      <td>115.0</td>\n",
       "      <td>268.0</td>\n",
       "      <td>689.0</td>\n",
       "    </tr>\n",
       "    <tr>\n",
       "      <th>9</th>\n",
       "      <td>5611</td>\n",
       "      <td>2021-01-01 09:00:00</td>\n",
       "      <td>1514</td>\n",
       "      <td>214.0</td>\n",
       "      <td>71.0</td>\n",
       "      <td>0.0</td>\n",
       "      <td>71.0</td>\n",
       "      <td>160.0</td>\n",
       "      <td>303.0</td>\n",
       "      <td>695.0</td>\n",
       "    </tr>\n",
       "  </tbody>\n",
       "</table>\n",
       "</div>"
      ],
      "text/plain": [
       "    PC4                date  pop_tot  m00_30  m30_60  H1_2  H2_4   H4_8  \\\n",
       "0  5611 2021-01-01 00:00:00      830   136.0    80.0  34.0  57.0   34.0   \n",
       "1  5611 2021-01-01 01:00:00      837   138.0    11.0  23.0  92.0   23.0   \n",
       "2  5611 2021-01-01 02:00:00      745    41.0     0.0   0.0  82.0   51.0   \n",
       "3  5611 2021-01-01 03:00:00      876   115.0     0.0   0.0  52.0   21.0   \n",
       "4  5611 2021-01-01 04:00:00      714    49.0     0.0   0.0  37.0   25.0   \n",
       "5  5611 2021-01-01 05:00:00      702    28.0     0.0   0.0   0.0   28.0   \n",
       "6  5611 2021-01-01 06:00:00      888    53.0     0.0   0.0  18.0   89.0   \n",
       "7  5611 2021-01-01 07:00:00     1182   148.0     0.0   0.0   0.0   84.0   \n",
       "8  5611 2021-01-01 08:00:00     1263   134.0    38.0   0.0  19.0  115.0   \n",
       "9  5611 2021-01-01 09:00:00     1514   214.0    71.0   0.0  71.0  160.0   \n",
       "\n",
       "   H8_16  H16plus  \n",
       "0   34.0    455.0  \n",
       "1   80.0    470.0  \n",
       "2   71.0    500.0  \n",
       "3  125.0    563.0  \n",
       "4  111.0    492.0  \n",
       "5  183.0    463.0  \n",
       "6  160.0    568.0  \n",
       "7  169.0    781.0  \n",
       "8  268.0    689.0  \n",
       "9  303.0    695.0  "
      ]
     },
     "execution_count": 93,
     "metadata": {},
     "output_type": "execute_result"
    }
   ],
   "source": [
    "# zichtop sample\n",
    "df_zichtop.head(10)"
   ]
  },
  {
   "cell_type": "code",
   "execution_count": 94,
   "id": "a4188d7c",
   "metadata": {},
   "outputs": [
    {
     "data": {
      "text/html": [
       "<div>\n",
       "<style scoped>\n",
       "    .dataframe tbody tr th:only-of-type {\n",
       "        vertical-align: middle;\n",
       "    }\n",
       "\n",
       "    .dataframe tbody tr th {\n",
       "        vertical-align: top;\n",
       "    }\n",
       "\n",
       "    .dataframe thead th {\n",
       "        text-align: right;\n",
       "    }\n",
       "</style>\n",
       "<table border=\"1\" class=\"dataframe\">\n",
       "  <thead>\n",
       "    <tr style=\"text-align: right;\">\n",
       "      <th></th>\n",
       "      <th>date</th>\n",
       "      <th>PC4</th>\n",
       "      <th>pm10</th>\n",
       "      <th>pm2.5</th>\n",
       "      <th>no2</th>\n",
       "      <th>no</th>\n",
       "      <th>so2</th>\n",
       "    </tr>\n",
       "  </thead>\n",
       "  <tbody>\n",
       "    <tr>\n",
       "      <th>44173</th>\n",
       "      <td>2021-10-26 13:00:00</td>\n",
       "      <td>5653</td>\n",
       "      <td>16.257410</td>\n",
       "      <td>8.985305</td>\n",
       "      <td>17.214553</td>\n",
       "      <td>11.262713</td>\n",
       "      <td>3.297540</td>\n",
       "    </tr>\n",
       "    <tr>\n",
       "      <th>71751</th>\n",
       "      <td>2021-12-24 14:00:00</td>\n",
       "      <td>5641</td>\n",
       "      <td>29.604590</td>\n",
       "      <td>46.692060</td>\n",
       "      <td>17.795008</td>\n",
       "      <td>28.319151</td>\n",
       "      <td>0.562355</td>\n",
       "    </tr>\n",
       "    <tr>\n",
       "      <th>42117</th>\n",
       "      <td>2021-10-07 21:00:00</td>\n",
       "      <td>5652</td>\n",
       "      <td>35.555859</td>\n",
       "      <td>28.609646</td>\n",
       "      <td>49.667198</td>\n",
       "      <td>32.495028</td>\n",
       "      <td>11.040969</td>\n",
       "    </tr>\n",
       "    <tr>\n",
       "      <th>75404</th>\n",
       "      <td>2021-12-29 19:00:00</td>\n",
       "      <td>5617</td>\n",
       "      <td>17.511920</td>\n",
       "      <td>21.063220</td>\n",
       "      <td>17.987361</td>\n",
       "      <td>0.195505</td>\n",
       "      <td>1.878245</td>\n",
       "    </tr>\n",
       "    <tr>\n",
       "      <th>17992</th>\n",
       "      <td>2021-10-07 16:00:00</td>\n",
       "      <td>5625</td>\n",
       "      <td>14.382483</td>\n",
       "      <td>7.551966</td>\n",
       "      <td>12.354227</td>\n",
       "      <td>8.082819</td>\n",
       "      <td>0.696638</td>\n",
       "    </tr>\n",
       "  </tbody>\n",
       "</table>\n",
       "</div>"
      ],
      "text/plain": [
       "                     date   PC4       pm10      pm2.5        no2         no  \\\n",
       "44173 2021-10-26 13:00:00  5653  16.257410   8.985305  17.214553  11.262713   \n",
       "71751 2021-12-24 14:00:00  5641  29.604590  46.692060  17.795008  28.319151   \n",
       "42117 2021-10-07 21:00:00  5652  35.555859  28.609646  49.667198  32.495028   \n",
       "75404 2021-12-29 19:00:00  5617  17.511920  21.063220  17.987361   0.195505   \n",
       "17992 2021-10-07 16:00:00  5625  14.382483   7.551966  12.354227   8.082819   \n",
       "\n",
       "             so2  \n",
       "44173   3.297540  \n",
       "71751   0.562355  \n",
       "42117  11.040969  \n",
       "75404   1.878245  \n",
       "17992   0.696638  "
      ]
     },
     "execution_count": 94,
     "metadata": {},
     "output_type": "execute_result"
    }
   ],
   "source": [
    "# air_pollution sample\n",
    "df_air_pollution.sample(5)"
   ]
  },
  {
   "cell_type": "markdown",
   "id": "9255faac",
   "metadata": {},
   "source": [
    "<h4><font color=mediumvioletred>Get number of rows and columns </font></h4>"
   ]
  },
  {
   "cell_type": "code",
   "execution_count": 95,
   "id": "b20f50ba",
   "metadata": {},
   "outputs": [
    {
     "data": {
      "text/plain": [
       "(255024, 10)"
      ]
     },
     "execution_count": 95,
     "metadata": {},
     "output_type": "execute_result"
    }
   ],
   "source": [
    "df_zichtop.shape"
   ]
  },
  {
   "cell_type": "markdown",
   "id": "90103932",
   "metadata": {},
   "source": [
    "<h4><font color=mediumvioletred>Get types of columns </font></h4>"
   ]
  },
  {
   "cell_type": "code",
   "execution_count": 96,
   "id": "9f50dde3",
   "metadata": {},
   "outputs": [
    {
     "data": {
      "text/plain": [
       "PC4                 int64\n",
       "date       datetime64[ns]\n",
       "pop_tot             int64\n",
       "m00_30            float64\n",
       "m30_60            float64\n",
       "H1_2              float64\n",
       "H2_4              float64\n",
       "H4_8              float64\n",
       "H8_16             float64\n",
       "H16plus           float64\n",
       "dtype: object"
      ]
     },
     "execution_count": 96,
     "metadata": {},
     "output_type": "execute_result"
    }
   ],
   "source": [
    "df_zichtop.dtypes"
   ]
  },
  {
   "cell_type": "markdown",
   "id": "6ce8b664",
   "metadata": {},
   "source": [
    "<h4><font color=mediumvioletred>Get some info about each column (type, number of null values..) </font></h4>"
   ]
  },
  {
   "cell_type": "code",
   "execution_count": 97,
   "id": "0f08d0b8",
   "metadata": {},
   "outputs": [
    {
     "name": "stdout",
     "output_type": "stream",
     "text": [
      "<class 'pandas.core.frame.DataFrame'>\n",
      "RangeIndex: 255024 entries, 0 to 255023\n",
      "Data columns (total 10 columns):\n",
      " #   Column   Non-Null Count   Dtype         \n",
      "---  ------   --------------   -----         \n",
      " 0   PC4      255024 non-null  int64         \n",
      " 1   date     255024 non-null  datetime64[ns]\n",
      " 2   pop_tot  255024 non-null  int64         \n",
      " 3   m00_30   254276 non-null  float64       \n",
      " 4   m30_60   254276 non-null  float64       \n",
      " 5   H1_2     254276 non-null  float64       \n",
      " 6   H2_4     254276 non-null  float64       \n",
      " 7   H4_8     254276 non-null  float64       \n",
      " 8   H8_16    254276 non-null  float64       \n",
      " 9   H16plus  254276 non-null  float64       \n",
      "dtypes: datetime64[ns](1), float64(7), int64(2)\n",
      "memory usage: 19.5 MB\n"
     ]
    }
   ],
   "source": [
    "df_zichtop.info()"
   ]
  },
  {
   "cell_type": "markdown",
   "id": "3817ed26",
   "metadata": {},
   "source": [
    "<h4><font color=mediumvioletred>Get some info about numerical columns (count, mean, min...) </font></h4>"
   ]
  },
  {
   "cell_type": "code",
   "execution_count": 98,
   "id": "18e366cf",
   "metadata": {},
   "outputs": [
    {
     "data": {
      "text/html": [
       "<div>\n",
       "<style scoped>\n",
       "    .dataframe tbody tr th:only-of-type {\n",
       "        vertical-align: middle;\n",
       "    }\n",
       "\n",
       "    .dataframe tbody tr th {\n",
       "        vertical-align: top;\n",
       "    }\n",
       "\n",
       "    .dataframe thead th {\n",
       "        text-align: right;\n",
       "    }\n",
       "</style>\n",
       "<table border=\"1\" class=\"dataframe\">\n",
       "  <thead>\n",
       "    <tr style=\"text-align: right;\">\n",
       "      <th></th>\n",
       "      <th>PC4</th>\n",
       "      <th>pop_tot</th>\n",
       "      <th>m00_30</th>\n",
       "      <th>m30_60</th>\n",
       "      <th>H1_2</th>\n",
       "      <th>H2_4</th>\n",
       "      <th>H4_8</th>\n",
       "      <th>H8_16</th>\n",
       "      <th>H16plus</th>\n",
       "    </tr>\n",
       "  </thead>\n",
       "  <tbody>\n",
       "    <tr>\n",
       "      <th>count</th>\n",
       "      <td>255024.000000</td>\n",
       "      <td>255024.000000</td>\n",
       "      <td>254276.000000</td>\n",
       "      <td>254276.000000</td>\n",
       "      <td>254276.00000</td>\n",
       "      <td>254276.000000</td>\n",
       "      <td>254276.000000</td>\n",
       "      <td>254276.000000</td>\n",
       "      <td>254276.000000</td>\n",
       "    </tr>\n",
       "    <tr>\n",
       "      <th>mean</th>\n",
       "      <td>5633.818182</td>\n",
       "      <td>1984.896131</td>\n",
       "      <td>334.580322</td>\n",
       "      <td>41.012966</td>\n",
       "      <td>73.50676</td>\n",
       "      <td>126.323121</td>\n",
       "      <td>237.291384</td>\n",
       "      <td>349.584455</td>\n",
       "      <td>827.626296</td>\n",
       "    </tr>\n",
       "    <tr>\n",
       "      <th>std</th>\n",
       "      <td>15.168687</td>\n",
       "      <td>1285.972747</td>\n",
       "      <td>376.307733</td>\n",
       "      <td>61.055502</td>\n",
       "      <td>104.01577</td>\n",
       "      <td>186.176472</td>\n",
       "      <td>331.758108</td>\n",
       "      <td>380.206726</td>\n",
       "      <td>538.795020</td>\n",
       "    </tr>\n",
       "    <tr>\n",
       "      <th>min</th>\n",
       "      <td>5611.000000</td>\n",
       "      <td>5.000000</td>\n",
       "      <td>0.000000</td>\n",
       "      <td>0.000000</td>\n",
       "      <td>0.00000</td>\n",
       "      <td>0.000000</td>\n",
       "      <td>0.000000</td>\n",
       "      <td>0.000000</td>\n",
       "      <td>-3.000000</td>\n",
       "    </tr>\n",
       "    <tr>\n",
       "      <th>25%</th>\n",
       "      <td>5622.000000</td>\n",
       "      <td>1060.000000</td>\n",
       "      <td>56.000000</td>\n",
       "      <td>0.000000</td>\n",
       "      <td>0.00000</td>\n",
       "      <td>9.000000</td>\n",
       "      <td>38.000000</td>\n",
       "      <td>98.000000</td>\n",
       "      <td>471.000000</td>\n",
       "    </tr>\n",
       "    <tr>\n",
       "      <th>50%</th>\n",
       "      <td>5631.000000</td>\n",
       "      <td>1703.000000</td>\n",
       "      <td>222.000000</td>\n",
       "      <td>15.000000</td>\n",
       "      <td>32.00000</td>\n",
       "      <td>62.000000</td>\n",
       "      <td>119.000000</td>\n",
       "      <td>236.000000</td>\n",
       "      <td>781.000000</td>\n",
       "    </tr>\n",
       "    <tr>\n",
       "      <th>75%</th>\n",
       "      <td>5646.000000</td>\n",
       "      <td>2615.000000</td>\n",
       "      <td>481.000000</td>\n",
       "      <td>60.000000</td>\n",
       "      <td>107.00000</td>\n",
       "      <td>173.000000</td>\n",
       "      <td>292.000000</td>\n",
       "      <td>454.000000</td>\n",
       "      <td>1093.000000</td>\n",
       "    </tr>\n",
       "    <tr>\n",
       "      <th>max</th>\n",
       "      <td>5658.000000</td>\n",
       "      <td>11617.000000</td>\n",
       "      <td>4885.000000</td>\n",
       "      <td>2090.000000</td>\n",
       "      <td>1564.00000</td>\n",
       "      <td>5326.000000</td>\n",
       "      <td>3515.000000</td>\n",
       "      <td>3368.000000</td>\n",
       "      <td>3409.000000</td>\n",
       "    </tr>\n",
       "  </tbody>\n",
       "</table>\n",
       "</div>"
      ],
      "text/plain": [
       "                 PC4        pop_tot         m00_30         m30_60  \\\n",
       "count  255024.000000  255024.000000  254276.000000  254276.000000   \n",
       "mean     5633.818182    1984.896131     334.580322      41.012966   \n",
       "std        15.168687    1285.972747     376.307733      61.055502   \n",
       "min      5611.000000       5.000000       0.000000       0.000000   \n",
       "25%      5622.000000    1060.000000      56.000000       0.000000   \n",
       "50%      5631.000000    1703.000000     222.000000      15.000000   \n",
       "75%      5646.000000    2615.000000     481.000000      60.000000   \n",
       "max      5658.000000   11617.000000    4885.000000    2090.000000   \n",
       "\n",
       "               H1_2           H2_4           H4_8          H8_16  \\\n",
       "count  254276.00000  254276.000000  254276.000000  254276.000000   \n",
       "mean       73.50676     126.323121     237.291384     349.584455   \n",
       "std       104.01577     186.176472     331.758108     380.206726   \n",
       "min         0.00000       0.000000       0.000000       0.000000   \n",
       "25%         0.00000       9.000000      38.000000      98.000000   \n",
       "50%        32.00000      62.000000     119.000000     236.000000   \n",
       "75%       107.00000     173.000000     292.000000     454.000000   \n",
       "max      1564.00000    5326.000000    3515.000000    3368.000000   \n",
       "\n",
       "             H16plus  \n",
       "count  254276.000000  \n",
       "mean      827.626296  \n",
       "std       538.795020  \n",
       "min        -3.000000  \n",
       "25%       471.000000  \n",
       "50%       781.000000  \n",
       "75%      1093.000000  \n",
       "max      3409.000000  "
      ]
     },
     "execution_count": 98,
     "metadata": {},
     "output_type": "execute_result"
    }
   ],
   "source": [
    "df_zichtop.describe()"
   ]
  },
  {
   "cell_type": "markdown",
   "id": "881b763e",
   "metadata": {},
   "source": [
    "<h4><font color=mediumvioletred>Merge zichtop and air_pollution datasets </font></h4>"
   ]
  },
  {
   "cell_type": "code",
   "execution_count": 99,
   "id": "d996e2a7",
   "metadata": {},
   "outputs": [
    {
     "data": {
      "text/html": [
       "<div>\n",
       "<style scoped>\n",
       "    .dataframe tbody tr th:only-of-type {\n",
       "        vertical-align: middle;\n",
       "    }\n",
       "\n",
       "    .dataframe tbody tr th {\n",
       "        vertical-align: top;\n",
       "    }\n",
       "\n",
       "    .dataframe thead th {\n",
       "        text-align: right;\n",
       "    }\n",
       "</style>\n",
       "<table border=\"1\" class=\"dataframe\">\n",
       "  <thead>\n",
       "    <tr style=\"text-align: right;\">\n",
       "      <th></th>\n",
       "      <th>PC4</th>\n",
       "      <th>date</th>\n",
       "      <th>pop_tot</th>\n",
       "      <th>m00_30</th>\n",
       "      <th>m30_60</th>\n",
       "      <th>H1_2</th>\n",
       "      <th>H2_4</th>\n",
       "      <th>H4_8</th>\n",
       "      <th>H8_16</th>\n",
       "      <th>H16plus</th>\n",
       "      <th>pm2.5</th>\n",
       "    </tr>\n",
       "  </thead>\n",
       "  <tbody>\n",
       "    <tr>\n",
       "      <th>36686</th>\n",
       "      <td>5653</td>\n",
       "      <td>2021-11-07 14:00:00</td>\n",
       "      <td>2009</td>\n",
       "      <td>474.0</td>\n",
       "      <td>72.0</td>\n",
       "      <td>103.0</td>\n",
       "      <td>144.0</td>\n",
       "      <td>196.0</td>\n",
       "      <td>247.0</td>\n",
       "      <td>773.0</td>\n",
       "      <td>4.212838</td>\n",
       "    </tr>\n",
       "    <tr>\n",
       "      <th>17062</th>\n",
       "      <td>5626</td>\n",
       "      <td>2021-11-14 22:00:00</td>\n",
       "      <td>1363</td>\n",
       "      <td>60.0</td>\n",
       "      <td>0.0</td>\n",
       "      <td>0.0</td>\n",
       "      <td>0.0</td>\n",
       "      <td>9.0</td>\n",
       "      <td>187.0</td>\n",
       "      <td>1107.0</td>\n",
       "      <td>8.147939</td>\n",
       "    </tr>\n",
       "    <tr>\n",
       "      <th>24043</th>\n",
       "      <td>5633</td>\n",
       "      <td>2021-10-06 19:00:00</td>\n",
       "      <td>583</td>\n",
       "      <td>291.0</td>\n",
       "      <td>58.0</td>\n",
       "      <td>0.0</td>\n",
       "      <td>87.0</td>\n",
       "      <td>29.0</td>\n",
       "      <td>117.0</td>\n",
       "      <td>1.0</td>\n",
       "      <td>5.167689</td>\n",
       "    </tr>\n",
       "    <tr>\n",
       "      <th>1452</th>\n",
       "      <td>5612</td>\n",
       "      <td>2021-09-30 12:00:00</td>\n",
       "      <td>7513</td>\n",
       "      <td>906.0</td>\n",
       "      <td>261.0</td>\n",
       "      <td>277.0</td>\n",
       "      <td>860.0</td>\n",
       "      <td>2427.0</td>\n",
       "      <td>1890.0</td>\n",
       "      <td>892.0</td>\n",
       "      <td>5.070581</td>\n",
       "    </tr>\n",
       "    <tr>\n",
       "      <th>11129</th>\n",
       "      <td>5622</td>\n",
       "      <td>2021-10-18 17:00:00</td>\n",
       "      <td>2299</td>\n",
       "      <td>300.0</td>\n",
       "      <td>100.0</td>\n",
       "      <td>140.0</td>\n",
       "      <td>160.0</td>\n",
       "      <td>80.0</td>\n",
       "      <td>520.0</td>\n",
       "      <td>999.0</td>\n",
       "      <td>8.904518</td>\n",
       "    </tr>\n",
       "  </tbody>\n",
       "</table>\n",
       "</div>"
      ],
      "text/plain": [
       "        PC4                date  pop_tot  m00_30  m30_60   H1_2   H2_4  \\\n",
       "36686  5653 2021-11-07 14:00:00     2009   474.0    72.0  103.0  144.0   \n",
       "17062  5626 2021-11-14 22:00:00     1363    60.0     0.0    0.0    0.0   \n",
       "24043  5633 2021-10-06 19:00:00      583   291.0    58.0    0.0   87.0   \n",
       "1452   5612 2021-09-30 12:00:00     7513   906.0   261.0  277.0  860.0   \n",
       "11129  5622 2021-10-18 17:00:00     2299   300.0   100.0  140.0  160.0   \n",
       "\n",
       "         H4_8   H8_16  H16plus     pm2.5  \n",
       "36686   196.0   247.0    773.0  4.212838  \n",
       "17062     9.0   187.0   1107.0  8.147939  \n",
       "24043    29.0   117.0      1.0  5.167689  \n",
       "1452   2427.0  1890.0    892.0  5.070581  \n",
       "11129    80.0   520.0    999.0  8.904518  "
      ]
     },
     "execution_count": 99,
     "metadata": {},
     "output_type": "execute_result"
    }
   ],
   "source": [
    "df_zichtop_air_pollution = pd.merge(df_zichtop, df_air_pollution[[\"PC4\",\"date\", \"pm2.5\"]], on=[\"PC4\", \"date\"])\n",
    "df_zichtop_air_pollution.sample(5)"
   ]
  },
  {
   "cell_type": "code",
   "execution_count": 100,
   "id": "4b3a88a8",
   "metadata": {},
   "outputs": [
    {
     "data": {
      "text/plain": [
       "PC4                 int64\n",
       "date       datetime64[ns]\n",
       "pop_tot             int64\n",
       "m00_30            float64\n",
       "m30_60            float64\n",
       "H1_2              float64\n",
       "H2_4              float64\n",
       "H4_8              float64\n",
       "H8_16             float64\n",
       "H16plus           float64\n",
       "pm2.5             float64\n",
       "dtype: object"
      ]
     },
     "execution_count": 100,
     "metadata": {},
     "output_type": "execute_result"
    }
   ],
   "source": [
    "df_zichtop_air_pollution.dtypes"
   ]
  },
  {
   "cell_type": "markdown",
   "id": "b5f0a1e8",
   "metadata": {},
   "source": [
    "<h4><font color=mediumvioletred>Reorder columns in zichtop air pollution dataset </font></h4>"
   ]
  },
  {
   "cell_type": "code",
   "execution_count": 101,
   "id": "9b63b3f0",
   "metadata": {},
   "outputs": [
    {
     "data": {
      "text/html": [
       "<div>\n",
       "<style scoped>\n",
       "    .dataframe tbody tr th:only-of-type {\n",
       "        vertical-align: middle;\n",
       "    }\n",
       "\n",
       "    .dataframe tbody tr th {\n",
       "        vertical-align: top;\n",
       "    }\n",
       "\n",
       "    .dataframe thead th {\n",
       "        text-align: right;\n",
       "    }\n",
       "</style>\n",
       "<table border=\"1\" class=\"dataframe\">\n",
       "  <thead>\n",
       "    <tr style=\"text-align: right;\">\n",
       "      <th></th>\n",
       "      <th>PC4</th>\n",
       "      <th>date</th>\n",
       "      <th>pop_tot</th>\n",
       "      <th>pm2.5</th>\n",
       "      <th>m00_30</th>\n",
       "      <th>m30_60</th>\n",
       "      <th>H1_2</th>\n",
       "      <th>H2_4</th>\n",
       "      <th>H4_8</th>\n",
       "      <th>H8_16</th>\n",
       "      <th>H16plus</th>\n",
       "    </tr>\n",
       "  </thead>\n",
       "  <tbody>\n",
       "    <tr>\n",
       "      <th>440</th>\n",
       "      <td>5611</td>\n",
       "      <td>2021-10-13 08:00:00</td>\n",
       "      <td>6581</td>\n",
       "      <td>6.546959</td>\n",
       "      <td>723.0</td>\n",
       "      <td>174.0</td>\n",
       "      <td>506.0</td>\n",
       "      <td>955.0</td>\n",
       "      <td>1953.0</td>\n",
       "      <td>1663.0</td>\n",
       "      <td>607.0</td>\n",
       "    </tr>\n",
       "    <tr>\n",
       "      <th>5975</th>\n",
       "      <td>5615</td>\n",
       "      <td>2021-10-23 23:00:00</td>\n",
       "      <td>1026</td>\n",
       "      <td>16.003305</td>\n",
       "      <td>248.0</td>\n",
       "      <td>35.0</td>\n",
       "      <td>0.0</td>\n",
       "      <td>0.0</td>\n",
       "      <td>0.0</td>\n",
       "      <td>35.0</td>\n",
       "      <td>708.0</td>\n",
       "    </tr>\n",
       "    <tr>\n",
       "      <th>42517</th>\n",
       "      <td>5658</td>\n",
       "      <td>2021-10-06 13:00:00</td>\n",
       "      <td>2875</td>\n",
       "      <td>5.777953</td>\n",
       "      <td>453.0</td>\n",
       "      <td>68.0</td>\n",
       "      <td>77.0</td>\n",
       "      <td>125.0</td>\n",
       "      <td>164.0</td>\n",
       "      <td>299.0</td>\n",
       "      <td>1689.0</td>\n",
       "    </tr>\n",
       "    <tr>\n",
       "      <th>37279</th>\n",
       "      <td>5654</td>\n",
       "      <td>2021-10-08 07:00:00</td>\n",
       "      <td>3430</td>\n",
       "      <td>12.915983</td>\n",
       "      <td>327.0</td>\n",
       "      <td>133.0</td>\n",
       "      <td>121.0</td>\n",
       "      <td>182.0</td>\n",
       "      <td>1479.0</td>\n",
       "      <td>473.0</td>\n",
       "      <td>715.0</td>\n",
       "    </tr>\n",
       "    <tr>\n",
       "      <th>16795</th>\n",
       "      <td>5626</td>\n",
       "      <td>2021-11-03 19:00:00</td>\n",
       "      <td>2222</td>\n",
       "      <td>21.839800</td>\n",
       "      <td>352.0</td>\n",
       "      <td>21.0</td>\n",
       "      <td>139.0</td>\n",
       "      <td>117.0</td>\n",
       "      <td>64.0</td>\n",
       "      <td>513.0</td>\n",
       "      <td>1016.0</td>\n",
       "    </tr>\n",
       "  </tbody>\n",
       "</table>\n",
       "</div>"
      ],
      "text/plain": [
       "        PC4                date  pop_tot      pm2.5  m00_30  m30_60   H1_2  \\\n",
       "440    5611 2021-10-13 08:00:00     6581   6.546959   723.0   174.0  506.0   \n",
       "5975   5615 2021-10-23 23:00:00     1026  16.003305   248.0    35.0    0.0   \n",
       "42517  5658 2021-10-06 13:00:00     2875   5.777953   453.0    68.0   77.0   \n",
       "37279  5654 2021-10-08 07:00:00     3430  12.915983   327.0   133.0  121.0   \n",
       "16795  5626 2021-11-03 19:00:00     2222  21.839800   352.0    21.0  139.0   \n",
       "\n",
       "        H2_4    H4_8   H8_16  H16plus  \n",
       "440    955.0  1953.0  1663.0    607.0  \n",
       "5975     0.0     0.0    35.0    708.0  \n",
       "42517  125.0   164.0   299.0   1689.0  \n",
       "37279  182.0  1479.0   473.0    715.0  \n",
       "16795  117.0    64.0   513.0   1016.0  "
      ]
     },
     "execution_count": 101,
     "metadata": {},
     "output_type": "execute_result"
    }
   ],
   "source": [
    "zichtop_air_pollution_features = [\n",
    "    \"PC4\",\n",
    "    \"date\",\n",
    "    \"pop_tot\",\n",
    "    \"pm2.5\",\n",
    "    \"m00_30\",\n",
    "    \"m30_60\",\n",
    "    \"H1_2\",\n",
    "    \"H2_4\",\n",
    "    \"H4_8\",\n",
    "    \"H8_16\",\n",
    "    \"H16plus\"\n",
    "]\n",
    "\n",
    "df_zichtop_air_pollution = df_zichtop_air_pollution.reindex(zichtop_air_pollution_features, axis=1)\n",
    "\n",
    "df_zichtop_air_pollution.sample(5)"
   ]
  },
  {
   "cell_type": "markdown",
   "id": "4f151668",
   "metadata": {},
   "source": [
    "<h4><font color=mediumvioletred>Rename the date column to date_time </font></h4>"
   ]
  },
  {
   "cell_type": "code",
   "execution_count": 102,
   "id": "712399e6",
   "metadata": {},
   "outputs": [],
   "source": [
    "df_zichtop_air_pollution.rename(columns={\"date\": \"date_time\"}, inplace=True)"
   ]
  },
  {
   "cell_type": "markdown",
   "id": "79cc31f1",
   "metadata": {},
   "source": [
    "<h4><font color=mediumvioletred>Separate date_time column to date and time </font></h4>"
   ]
  },
  {
   "cell_type": "code",
   "execution_count": 103,
   "id": "076e5fc0",
   "metadata": {},
   "outputs": [],
   "source": [
    "df_zichtop_air_pollution[\"date\"] = df_zichtop_air_pollution[\"date_time\"].dt.date.astype(str)\n",
    "df_zichtop_air_pollution[\"time\"] = df_zichtop_air_pollution[\"date_time\"].dt.time.astype(str)"
   ]
  },
  {
   "cell_type": "code",
   "execution_count": 104,
   "id": "23893b38",
   "metadata": {},
   "outputs": [
    {
     "data": {
      "text/html": [
       "<div>\n",
       "<style scoped>\n",
       "    .dataframe tbody tr th:only-of-type {\n",
       "        vertical-align: middle;\n",
       "    }\n",
       "\n",
       "    .dataframe tbody tr th {\n",
       "        vertical-align: top;\n",
       "    }\n",
       "\n",
       "    .dataframe thead th {\n",
       "        text-align: right;\n",
       "    }\n",
       "</style>\n",
       "<table border=\"1\" class=\"dataframe\">\n",
       "  <thead>\n",
       "    <tr style=\"text-align: right;\">\n",
       "      <th></th>\n",
       "      <th>PC4</th>\n",
       "      <th>date_time</th>\n",
       "      <th>pop_tot</th>\n",
       "      <th>pm2.5</th>\n",
       "      <th>m00_30</th>\n",
       "      <th>m30_60</th>\n",
       "      <th>H1_2</th>\n",
       "      <th>H2_4</th>\n",
       "      <th>H4_8</th>\n",
       "      <th>H8_16</th>\n",
       "      <th>H16plus</th>\n",
       "      <th>date</th>\n",
       "      <th>time</th>\n",
       "    </tr>\n",
       "  </thead>\n",
       "  <tbody>\n",
       "    <tr>\n",
       "      <th>21828</th>\n",
       "      <td>5631</td>\n",
       "      <td>2021-10-24 12:00:00</td>\n",
       "      <td>3466</td>\n",
       "      <td>4.851183</td>\n",
       "      <td>1220.0</td>\n",
       "      <td>106.0</td>\n",
       "      <td>354.0</td>\n",
       "      <td>477.0</td>\n",
       "      <td>460.0</td>\n",
       "      <td>407.0</td>\n",
       "      <td>442.0</td>\n",
       "      <td>2021-10-24</td>\n",
       "      <td>12:00:00</td>\n",
       "    </tr>\n",
       "    <tr>\n",
       "      <th>43495</th>\n",
       "      <td>5658</td>\n",
       "      <td>2021-11-16 07:00:00</td>\n",
       "      <td>2605</td>\n",
       "      <td>40.738152</td>\n",
       "      <td>204.0</td>\n",
       "      <td>33.0</td>\n",
       "      <td>59.0</td>\n",
       "      <td>33.0</td>\n",
       "      <td>197.0</td>\n",
       "      <td>467.0</td>\n",
       "      <td>1612.0</td>\n",
       "      <td>2021-11-16</td>\n",
       "      <td>07:00:00</td>\n",
       "    </tr>\n",
       "    <tr>\n",
       "      <th>34540</th>\n",
       "      <td>5652</td>\n",
       "      <td>2021-10-04 04:00:00</td>\n",
       "      <td>3891</td>\n",
       "      <td>2.594182</td>\n",
       "      <td>497.0</td>\n",
       "      <td>50.0</td>\n",
       "      <td>12.0</td>\n",
       "      <td>62.0</td>\n",
       "      <td>274.0</td>\n",
       "      <td>1069.0</td>\n",
       "      <td>1927.0</td>\n",
       "      <td>2021-10-04</td>\n",
       "      <td>04:00:00</td>\n",
       "    </tr>\n",
       "    <tr>\n",
       "      <th>11676</th>\n",
       "      <td>5622</td>\n",
       "      <td>2021-11-10 12:00:00</td>\n",
       "      <td>2090</td>\n",
       "      <td>21.666246</td>\n",
       "      <td>397.0</td>\n",
       "      <td>82.0</td>\n",
       "      <td>47.0</td>\n",
       "      <td>140.0</td>\n",
       "      <td>292.0</td>\n",
       "      <td>385.0</td>\n",
       "      <td>747.0</td>\n",
       "      <td>2021-11-10</td>\n",
       "      <td>12:00:00</td>\n",
       "    </tr>\n",
       "    <tr>\n",
       "      <th>12253</th>\n",
       "      <td>5623</td>\n",
       "      <td>2021-10-10 13:00:00</td>\n",
       "      <td>3689</td>\n",
       "      <td>19.251701</td>\n",
       "      <td>804.0</td>\n",
       "      <td>144.0</td>\n",
       "      <td>144.0</td>\n",
       "      <td>536.0</td>\n",
       "      <td>639.0</td>\n",
       "      <td>680.0</td>\n",
       "      <td>742.0</td>\n",
       "      <td>2021-10-10</td>\n",
       "      <td>13:00:00</td>\n",
       "    </tr>\n",
       "  </tbody>\n",
       "</table>\n",
       "</div>"
      ],
      "text/plain": [
       "        PC4           date_time  pop_tot      pm2.5  m00_30  m30_60   H1_2  \\\n",
       "21828  5631 2021-10-24 12:00:00     3466   4.851183  1220.0   106.0  354.0   \n",
       "43495  5658 2021-11-16 07:00:00     2605  40.738152   204.0    33.0   59.0   \n",
       "34540  5652 2021-10-04 04:00:00     3891   2.594182   497.0    50.0   12.0   \n",
       "11676  5622 2021-11-10 12:00:00     2090  21.666246   397.0    82.0   47.0   \n",
       "12253  5623 2021-10-10 13:00:00     3689  19.251701   804.0   144.0  144.0   \n",
       "\n",
       "        H2_4   H4_8   H8_16  H16plus        date      time  \n",
       "21828  477.0  460.0   407.0    442.0  2021-10-24  12:00:00  \n",
       "43495   33.0  197.0   467.0   1612.0  2021-11-16  07:00:00  \n",
       "34540   62.0  274.0  1069.0   1927.0  2021-10-04  04:00:00  \n",
       "11676  140.0  292.0   385.0    747.0  2021-11-10  12:00:00  \n",
       "12253  536.0  639.0   680.0    742.0  2021-10-10  13:00:00  "
      ]
     },
     "execution_count": 104,
     "metadata": {},
     "output_type": "execute_result"
    }
   ],
   "source": [
    "df_zichtop_air_pollution.sample(5)"
   ]
  },
  {
   "cell_type": "markdown",
   "id": "bd439eb5",
   "metadata": {},
   "source": [
    "<h4><font color=mediumvioletred>Correlation between numerical columns </font></h4>"
   ]
  },
  {
   "cell_type": "code",
   "execution_count": 105,
   "id": "26396ab0",
   "metadata": {},
   "outputs": [
    {
     "data": {
      "text/html": [
       "<div>\n",
       "<style scoped>\n",
       "    .dataframe tbody tr th:only-of-type {\n",
       "        vertical-align: middle;\n",
       "    }\n",
       "\n",
       "    .dataframe tbody tr th {\n",
       "        vertical-align: top;\n",
       "    }\n",
       "\n",
       "    .dataframe thead th {\n",
       "        text-align: right;\n",
       "    }\n",
       "</style>\n",
       "<table border=\"1\" class=\"dataframe\">\n",
       "  <thead>\n",
       "    <tr style=\"text-align: right;\">\n",
       "      <th></th>\n",
       "      <th>PC4</th>\n",
       "      <th>pop_tot</th>\n",
       "      <th>pm2.5</th>\n",
       "      <th>m00_30</th>\n",
       "      <th>m30_60</th>\n",
       "      <th>H1_2</th>\n",
       "      <th>H2_4</th>\n",
       "      <th>H4_8</th>\n",
       "      <th>H8_16</th>\n",
       "      <th>H16plus</th>\n",
       "    </tr>\n",
       "  </thead>\n",
       "  <tbody>\n",
       "    <tr>\n",
       "      <th>PC4</th>\n",
       "      <td>1.000000</td>\n",
       "      <td>-0.085402</td>\n",
       "      <td>-0.040311</td>\n",
       "      <td>0.050393</td>\n",
       "      <td>-0.068758</td>\n",
       "      <td>-0.123084</td>\n",
       "      <td>-0.137336</td>\n",
       "      <td>-0.118519</td>\n",
       "      <td>-0.033977</td>\n",
       "      <td>-0.052989</td>\n",
       "    </tr>\n",
       "    <tr>\n",
       "      <th>pop_tot</th>\n",
       "      <td>-0.085402</td>\n",
       "      <td>1.000000</td>\n",
       "      <td>-0.016892</td>\n",
       "      <td>0.750560</td>\n",
       "      <td>0.708953</td>\n",
       "      <td>0.749542</td>\n",
       "      <td>0.761389</td>\n",
       "      <td>0.815847</td>\n",
       "      <td>0.842051</td>\n",
       "      <td>0.199654</td>\n",
       "    </tr>\n",
       "    <tr>\n",
       "      <th>pm2.5</th>\n",
       "      <td>-0.040311</td>\n",
       "      <td>-0.016892</td>\n",
       "      <td>1.000000</td>\n",
       "      <td>-0.094783</td>\n",
       "      <td>-0.025442</td>\n",
       "      <td>-0.015412</td>\n",
       "      <td>-0.017758</td>\n",
       "      <td>0.005160</td>\n",
       "      <td>0.018352</td>\n",
       "      <td>0.025760</td>\n",
       "    </tr>\n",
       "    <tr>\n",
       "      <th>m00_30</th>\n",
       "      <td>0.050393</td>\n",
       "      <td>0.750560</td>\n",
       "      <td>-0.094783</td>\n",
       "      <td>1.000000</td>\n",
       "      <td>0.640048</td>\n",
       "      <td>0.621415</td>\n",
       "      <td>0.589695</td>\n",
       "      <td>0.550787</td>\n",
       "      <td>0.616381</td>\n",
       "      <td>-0.189647</td>\n",
       "    </tr>\n",
       "    <tr>\n",
       "      <th>m30_60</th>\n",
       "      <td>-0.068758</td>\n",
       "      <td>0.708953</td>\n",
       "      <td>-0.025442</td>\n",
       "      <td>0.640048</td>\n",
       "      <td>1.000000</td>\n",
       "      <td>0.749745</td>\n",
       "      <td>0.676787</td>\n",
       "      <td>0.609642</td>\n",
       "      <td>0.572131</td>\n",
       "      <td>-0.137459</td>\n",
       "    </tr>\n",
       "    <tr>\n",
       "      <th>H1_2</th>\n",
       "      <td>-0.123084</td>\n",
       "      <td>0.749542</td>\n",
       "      <td>-0.015412</td>\n",
       "      <td>0.621415</td>\n",
       "      <td>0.749745</td>\n",
       "      <td>1.000000</td>\n",
       "      <td>0.805084</td>\n",
       "      <td>0.656044</td>\n",
       "      <td>0.571656</td>\n",
       "      <td>-0.132161</td>\n",
       "    </tr>\n",
       "    <tr>\n",
       "      <th>H2_4</th>\n",
       "      <td>-0.137336</td>\n",
       "      <td>0.761389</td>\n",
       "      <td>-0.017758</td>\n",
       "      <td>0.589695</td>\n",
       "      <td>0.676787</td>\n",
       "      <td>0.805084</td>\n",
       "      <td>1.000000</td>\n",
       "      <td>0.724193</td>\n",
       "      <td>0.540605</td>\n",
       "      <td>-0.144004</td>\n",
       "    </tr>\n",
       "    <tr>\n",
       "      <th>H4_8</th>\n",
       "      <td>-0.118519</td>\n",
       "      <td>0.815847</td>\n",
       "      <td>0.005160</td>\n",
       "      <td>0.550787</td>\n",
       "      <td>0.609642</td>\n",
       "      <td>0.656044</td>\n",
       "      <td>0.724193</td>\n",
       "      <td>1.000000</td>\n",
       "      <td>0.692728</td>\n",
       "      <td>-0.154635</td>\n",
       "    </tr>\n",
       "    <tr>\n",
       "      <th>H8_16</th>\n",
       "      <td>-0.033977</td>\n",
       "      <td>0.842051</td>\n",
       "      <td>0.018352</td>\n",
       "      <td>0.616381</td>\n",
       "      <td>0.572131</td>\n",
       "      <td>0.571656</td>\n",
       "      <td>0.540605</td>\n",
       "      <td>0.692728</td>\n",
       "      <td>1.000000</td>\n",
       "      <td>-0.002266</td>\n",
       "    </tr>\n",
       "    <tr>\n",
       "      <th>H16plus</th>\n",
       "      <td>-0.052989</td>\n",
       "      <td>0.199654</td>\n",
       "      <td>0.025760</td>\n",
       "      <td>-0.189647</td>\n",
       "      <td>-0.137459</td>\n",
       "      <td>-0.132161</td>\n",
       "      <td>-0.144004</td>\n",
       "      <td>-0.154635</td>\n",
       "      <td>-0.002266</td>\n",
       "      <td>1.000000</td>\n",
       "    </tr>\n",
       "  </tbody>\n",
       "</table>\n",
       "</div>"
      ],
      "text/plain": [
       "              PC4   pop_tot     pm2.5    m00_30    m30_60      H1_2      H2_4  \\\n",
       "PC4      1.000000 -0.085402 -0.040311  0.050393 -0.068758 -0.123084 -0.137336   \n",
       "pop_tot -0.085402  1.000000 -0.016892  0.750560  0.708953  0.749542  0.761389   \n",
       "pm2.5   -0.040311 -0.016892  1.000000 -0.094783 -0.025442 -0.015412 -0.017758   \n",
       "m00_30   0.050393  0.750560 -0.094783  1.000000  0.640048  0.621415  0.589695   \n",
       "m30_60  -0.068758  0.708953 -0.025442  0.640048  1.000000  0.749745  0.676787   \n",
       "H1_2    -0.123084  0.749542 -0.015412  0.621415  0.749745  1.000000  0.805084   \n",
       "H2_4    -0.137336  0.761389 -0.017758  0.589695  0.676787  0.805084  1.000000   \n",
       "H4_8    -0.118519  0.815847  0.005160  0.550787  0.609642  0.656044  0.724193   \n",
       "H8_16   -0.033977  0.842051  0.018352  0.616381  0.572131  0.571656  0.540605   \n",
       "H16plus -0.052989  0.199654  0.025760 -0.189647 -0.137459 -0.132161 -0.144004   \n",
       "\n",
       "             H4_8     H8_16   H16plus  \n",
       "PC4     -0.118519 -0.033977 -0.052989  \n",
       "pop_tot  0.815847  0.842051  0.199654  \n",
       "pm2.5    0.005160  0.018352  0.025760  \n",
       "m00_30   0.550787  0.616381 -0.189647  \n",
       "m30_60   0.609642  0.572131 -0.137459  \n",
       "H1_2     0.656044  0.571656 -0.132161  \n",
       "H2_4     0.724193  0.540605 -0.144004  \n",
       "H4_8     1.000000  0.692728 -0.154635  \n",
       "H8_16    0.692728  1.000000 -0.002266  \n",
       "H16plus -0.154635 -0.002266  1.000000  "
      ]
     },
     "execution_count": 105,
     "metadata": {},
     "output_type": "execute_result"
    }
   ],
   "source": [
    "df_zichtop_air_pollution.corr()"
   ]
  },
  {
   "cell_type": "markdown",
   "id": "fa187713",
   "metadata": {},
   "source": [
    "<h4><font color=mediumvioletred>Visualize correlation between numerical columns </font></h4>"
   ]
  },
  {
   "cell_type": "code",
   "execution_count": 106,
   "id": "cfd94ae4",
   "metadata": {},
   "outputs": [
    {
     "data": {
      "image/png": "[encoded data removed]",
      "text/plain": [
       "<Figure size 1000x600 with 2 Axes>"
      ]
     },
     "metadata": {},
     "output_type": "display_data"
    }
   ],
   "source": [
    "corr_matrix = df_zichtop_air_pollution.corr()\n",
    "plt.figure(figsize=(10, 6))\n",
    "sns.heatmap(corr_matrix, \n",
    "            annot=True, \n",
    "            linewidths=0.5, \n",
    "            fmt= \".2f\", \n",
    "            cmap=\"YlGnBu\");"
   ]
  },
  {
   "cell_type": "markdown",
   "id": "927e87f9",
   "metadata": {},
   "source": [
    "<h4><font color=mediumvioletred>Get number of people in zipcode 5611 on 2021-09-25 </font></h4>"
   ]
  },
  {
   "cell_type": "code",
   "execution_count": 107,
   "id": "6b62bdab",
   "metadata": {},
   "outputs": [
    {
     "data": {
      "text/html": [
       "<div>\n",
       "<style scoped>\n",
       "    .dataframe tbody tr th:only-of-type {\n",
       "        vertical-align: middle;\n",
       "    }\n",
       "\n",
       "    .dataframe tbody tr th {\n",
       "        vertical-align: top;\n",
       "    }\n",
       "\n",
       "    .dataframe thead th {\n",
       "        text-align: right;\n",
       "    }\n",
       "</style>\n",
       "<table border=\"1\" class=\"dataframe\">\n",
       "  <thead>\n",
       "    <tr style=\"text-align: right;\">\n",
       "      <th></th>\n",
       "      <th>PC4</th>\n",
       "      <th>date_time</th>\n",
       "      <th>pop_tot</th>\n",
       "      <th>pm2.5</th>\n",
       "      <th>m00_30</th>\n",
       "      <th>m30_60</th>\n",
       "      <th>H1_2</th>\n",
       "      <th>H2_4</th>\n",
       "      <th>H4_8</th>\n",
       "      <th>H8_16</th>\n",
       "      <th>H16plus</th>\n",
       "      <th>date</th>\n",
       "      <th>time</th>\n",
       "    </tr>\n",
       "  </thead>\n",
       "  <tbody>\n",
       "    <tr>\n",
       "      <th>10</th>\n",
       "      <td>5611</td>\n",
       "      <td>2021-09-25 10:00:00</td>\n",
       "      <td>7255</td>\n",
       "      <td>7.943402</td>\n",
       "      <td>1133.0</td>\n",
       "      <td>413.0</td>\n",
       "      <td>658.0</td>\n",
       "      <td>1776.0</td>\n",
       "      <td>980.0</td>\n",
       "      <td>1010.0</td>\n",
       "      <td>1285.0</td>\n",
       "      <td>2021-09-25</td>\n",
       "      <td>10:00:00</td>\n",
       "    </tr>\n",
       "    <tr>\n",
       "      <th>0</th>\n",
       "      <td>5611</td>\n",
       "      <td>2021-09-25 00:00:00</td>\n",
       "      <td>1438</td>\n",
       "      <td>4.531522</td>\n",
       "      <td>155.0</td>\n",
       "      <td>0.0</td>\n",
       "      <td>0.0</td>\n",
       "      <td>0.0</td>\n",
       "      <td>0.0</td>\n",
       "      <td>77.0</td>\n",
       "      <td>1206.0</td>\n",
       "      <td>2021-09-25</td>\n",
       "      <td>00:00:00</td>\n",
       "    </tr>\n",
       "    <tr>\n",
       "      <th>9</th>\n",
       "      <td>5611</td>\n",
       "      <td>2021-09-25 09:00:00</td>\n",
       "      <td>5693</td>\n",
       "      <td>9.297590</td>\n",
       "      <td>631.0</td>\n",
       "      <td>166.0</td>\n",
       "      <td>880.0</td>\n",
       "      <td>963.0</td>\n",
       "      <td>913.0</td>\n",
       "      <td>1029.0</td>\n",
       "      <td>1111.0</td>\n",
       "      <td>2021-09-25</td>\n",
       "      <td>09:00:00</td>\n",
       "    </tr>\n",
       "    <tr>\n",
       "      <th>23</th>\n",
       "      <td>5611</td>\n",
       "      <td>2021-09-25 23:00:00</td>\n",
       "      <td>2560</td>\n",
       "      <td>11.110579</td>\n",
       "      <td>140.0</td>\n",
       "      <td>14.0</td>\n",
       "      <td>28.0</td>\n",
       "      <td>210.0</td>\n",
       "      <td>406.0</td>\n",
       "      <td>490.0</td>\n",
       "      <td>1272.0</td>\n",
       "      <td>2021-09-25</td>\n",
       "      <td>23:00:00</td>\n",
       "    </tr>\n",
       "    <tr>\n",
       "      <th>17</th>\n",
       "      <td>5611</td>\n",
       "      <td>2021-09-25 17:00:00</td>\n",
       "      <td>6937</td>\n",
       "      <td>13.358345</td>\n",
       "      <td>756.0</td>\n",
       "      <td>145.0</td>\n",
       "      <td>524.0</td>\n",
       "      <td>1105.0</td>\n",
       "      <td>2051.0</td>\n",
       "      <td>1425.0</td>\n",
       "      <td>931.0</td>\n",
       "      <td>2021-09-25</td>\n",
       "      <td>17:00:00</td>\n",
       "    </tr>\n",
       "  </tbody>\n",
       "</table>\n",
       "</div>"
      ],
      "text/plain": [
       "     PC4           date_time  pop_tot      pm2.5  m00_30  m30_60   H1_2  \\\n",
       "10  5611 2021-09-25 10:00:00     7255   7.943402  1133.0   413.0  658.0   \n",
       "0   5611 2021-09-25 00:00:00     1438   4.531522   155.0     0.0    0.0   \n",
       "9   5611 2021-09-25 09:00:00     5693   9.297590   631.0   166.0  880.0   \n",
       "23  5611 2021-09-25 23:00:00     2560  11.110579   140.0    14.0   28.0   \n",
       "17  5611 2021-09-25 17:00:00     6937  13.358345   756.0   145.0  524.0   \n",
       "\n",
       "      H2_4    H4_8   H8_16  H16plus        date      time  \n",
       "10  1776.0   980.0  1010.0   1285.0  2021-09-25  10:00:00  \n",
       "0      0.0     0.0    77.0   1206.0  2021-09-25  00:00:00  \n",
       "9    963.0   913.0  1029.0   1111.0  2021-09-25  09:00:00  \n",
       "23   210.0   406.0   490.0   1272.0  2021-09-25  23:00:00  \n",
       "17  1105.0  2051.0  1425.0    931.0  2021-09-25  17:00:00  "
      ]
     },
     "execution_count": 107,
     "metadata": {},
     "output_type": "execute_result"
    }
   ],
   "source": [
    "people_air_quality_area = df_zichtop_air_pollution[(df_zichtop_air_pollution[\"PC4\"] == 5611) & (df_zichtop_air_pollution[\"date\"] == \"2021-09-25\")]\n",
    "people_air_quality_area.sample(5)"
   ]
  },
  {
   "cell_type": "markdown",
   "id": "951320e9",
   "metadata": {},
   "source": [
    "<h4><font color=mediumvioletred>Visualize number of people in zipcode 5611 on 2021-09-25 </font></h4>"
   ]
  },
  {
   "cell_type": "code",
   "execution_count": 108,
   "id": "3a20a84f",
   "metadata": {},
   "outputs": [
    {
     "data": {
      "image/png": "[encoded data removed]",
      "text/plain": [
       "<Figure size 2500x600 with 1 Axes>"
      ]
     },
     "metadata": {},
     "output_type": "display_data"
    }
   ],
   "source": [
    "fig, ax = plt.subplots(figsize=(25, 6))\n",
    "# Plot the data\n",
    "scatter = ax.bar(list(people_air_quality_area[\"time\"]),\n",
    "                list(people_air_quality_area[\"pop_tot\"]),\n",
    "                color=\"salmon\");\n",
    "\n",
    "# Customize the plot\n",
    "ax.set(title=\"Number of people in zipcode: 5611 on 2021-09-25 per hour \\n\",\n",
    "      xlabel=\"Time\",\n",
    "      ylabel=\"Number of People\");"
   ]
  },
  {
   "cell_type": "markdown",
   "id": "3d71d09f",
   "metadata": {},
   "source": [
    "<h4><font color=mediumvioletred> Get maximum number of people per zipcode </font></h4>"
   ]
  },
  {
   "cell_type": "code",
   "execution_count": 109,
   "id": "ca04222f",
   "metadata": {
    "scrolled": false
   },
   "outputs": [
    {
     "data": {
      "text/html": [
       "<div>\n",
       "<style scoped>\n",
       "    .dataframe tbody tr th:only-of-type {\n",
       "        vertical-align: middle;\n",
       "    }\n",
       "\n",
       "    .dataframe tbody tr th {\n",
       "        vertical-align: top;\n",
       "    }\n",
       "\n",
       "    .dataframe thead th {\n",
       "        text-align: right;\n",
       "    }\n",
       "</style>\n",
       "<table border=\"1\" class=\"dataframe\">\n",
       "  <thead>\n",
       "    <tr style=\"text-align: right;\">\n",
       "      <th></th>\n",
       "      <th>PC4</th>\n",
       "      <th>pop_tot</th>\n",
       "    </tr>\n",
       "  </thead>\n",
       "  <tbody>\n",
       "    <tr>\n",
       "      <th>0</th>\n",
       "      <td>5611</td>\n",
       "      <td>11617</td>\n",
       "    </tr>\n",
       "    <tr>\n",
       "      <th>1</th>\n",
       "      <td>5612</td>\n",
       "      <td>10250</td>\n",
       "    </tr>\n",
       "    <tr>\n",
       "      <th>2</th>\n",
       "      <td>5613</td>\n",
       "      <td>5925</td>\n",
       "    </tr>\n",
       "    <tr>\n",
       "      <th>3</th>\n",
       "      <td>5614</td>\n",
       "      <td>3504</td>\n",
       "    </tr>\n",
       "    <tr>\n",
       "      <th>4</th>\n",
       "      <td>5615</td>\n",
       "      <td>4408</td>\n",
       "    </tr>\n",
       "  </tbody>\n",
       "</table>\n",
       "</div>"
      ],
      "text/plain": [
       "    PC4  pop_tot\n",
       "0  5611    11617\n",
       "1  5612    10250\n",
       "2  5613     5925\n",
       "3  5614     3504\n",
       "4  5615     4408"
      ]
     },
     "execution_count": 109,
     "metadata": {},
     "output_type": "execute_result"
    }
   ],
   "source": [
    "max_people = df_zichtop_air_pollution.groupby([\"PC4\"])[\"pop_tot\"].agg(\"max\").reset_index()\n",
    "max_people.head()"
   ]
  },
  {
   "cell_type": "markdown",
   "id": "c90c6b73",
   "metadata": {},
   "source": [
    "<h4><font color=mediumvioletred> Visualize maximum number of people per zipcode </font></h4>"
   ]
  },
  {
   "cell_type": "code",
   "execution_count": 110,
   "id": "48bc41f0",
   "metadata": {},
   "outputs": [
    {
     "data": {
      "image/png": "[encoded data removed]",
      "text/plain": [
       "<Figure size 3000x700 with 1 Axes>"
      ]
     },
     "metadata": {},
     "output_type": "display_data"
    }
   ],
   "source": [
    "fig, ax = plt.subplots(figsize=(30, 7))\n",
    "# Plot the data\n",
    "scatter = ax.bar(max_people[\"PC4\"].astype(str),\n",
    "                max_people[\"pop_tot\"],\n",
    "                color=\"salmon\");\n",
    "\n",
    "# Customize the plot\n",
    "ax.set(title=\"Max number of people per zipcode \\n\",\n",
    "      xlabel=\"Zipcode\",\n",
    "      ylabel=\"Number of people\");"
   ]
  },
  {
   "cell_type": "markdown",
   "id": "a9bdf6f6",
   "metadata": {},
   "source": [
    "Zipcodes 5611, 5612, 5616 have the highest number of people."
   ]
  },
  {
   "cell_type": "markdown",
   "id": "73b25c0f",
   "metadata": {},
   "source": [
    "<h4><font color=mediumvioletred> Get maximum, average and minimum number of people per zipcode </font></h4>"
   ]
  },
  {
   "cell_type": "code",
   "execution_count": 111,
   "id": "01c21a80",
   "metadata": {},
   "outputs": [
    {
     "data": {
      "text/html": [
       "<div>\n",
       "<style scoped>\n",
       "    .dataframe tbody tr th:only-of-type {\n",
       "        vertical-align: middle;\n",
       "    }\n",
       "\n",
       "    .dataframe tbody tr th {\n",
       "        vertical-align: top;\n",
       "    }\n",
       "\n",
       "    .dataframe thead th {\n",
       "        text-align: right;\n",
       "    }\n",
       "</style>\n",
       "<table border=\"1\" class=\"dataframe\">\n",
       "  <thead>\n",
       "    <tr style=\"text-align: right;\">\n",
       "      <th></th>\n",
       "      <th>PC4</th>\n",
       "      <th>max</th>\n",
       "      <th>min</th>\n",
       "      <th>mean</th>\n",
       "    </tr>\n",
       "  </thead>\n",
       "  <tbody>\n",
       "    <tr>\n",
       "      <th>0</th>\n",
       "      <td>5611</td>\n",
       "      <td>11617</td>\n",
       "      <td>708</td>\n",
       "      <td>4676.526515</td>\n",
       "    </tr>\n",
       "    <tr>\n",
       "      <th>1</th>\n",
       "      <td>5612</td>\n",
       "      <td>10250</td>\n",
       "      <td>737</td>\n",
       "      <td>4052.258333</td>\n",
       "    </tr>\n",
       "    <tr>\n",
       "      <th>2</th>\n",
       "      <td>5613</td>\n",
       "      <td>5925</td>\n",
       "      <td>537</td>\n",
       "      <td>2504.754545</td>\n",
       "    </tr>\n",
       "    <tr>\n",
       "      <th>3</th>\n",
       "      <td>5614</td>\n",
       "      <td>3504</td>\n",
       "      <td>217</td>\n",
       "      <td>1509.311364</td>\n",
       "    </tr>\n",
       "    <tr>\n",
       "      <th>4</th>\n",
       "      <td>5615</td>\n",
       "      <td>4408</td>\n",
       "      <td>394</td>\n",
       "      <td>1933.862121</td>\n",
       "    </tr>\n",
       "  </tbody>\n",
       "</table>\n",
       "</div>"
      ],
      "text/plain": [
       "    PC4    max  min         mean\n",
       "0  5611  11617  708  4676.526515\n",
       "1  5612  10250  737  4052.258333\n",
       "2  5613   5925  537  2504.754545\n",
       "3  5614   3504  217  1509.311364\n",
       "4  5615   4408  394  1933.862121"
      ]
     },
     "execution_count": 111,
     "metadata": {},
     "output_type": "execute_result"
    }
   ],
   "source": [
    "max_mean_min_people = df_zichtop_air_pollution.groupby([\"PC4\"])[\"pop_tot\"].agg([\"max\", \"min\", \"mean\"]).reset_index()\n",
    "max_mean_min_people.head()"
   ]
  },
  {
   "cell_type": "markdown",
   "id": "9601d614",
   "metadata": {},
   "source": [
    "<h4><font color=mediumvioletred> Visualize maximum, average and minimum number of people per zipcode </font></h4>"
   ]
  },
  {
   "cell_type": "code",
   "execution_count": 112,
   "id": "def7f06d",
   "metadata": {},
   "outputs": [
    {
     "data": {
      "image/png": "[encoded data removed]",
      "text/plain": [
       "<Figure size 4500x1000 with 1 Axes>"
      ]
     },
     "metadata": {},
     "output_type": "display_data"
    }
   ],
   "source": [
    "fig, ax = plt.subplots(figsize=(45, 10))\n",
    "\n",
    "x = np.arange(len(max_mean_min_people[\"PC4\"]))  # the label locations\n",
    "width = 0.28  # the width of the bars\n",
    "\n",
    "# Plot the data\n",
    "rects1 = ax.bar(x - width, max_mean_min_people[\"max\"], width, label=\"Maximum\", color=\"salmon\")\n",
    "rects2 = ax.bar(x, max_mean_min_people[\"mean\"], width, label=\"Average\", color=\"lightblue\")\n",
    "rects3 = ax.bar(x + width, max_mean_min_people[\"min\"], width, label=\"Minimum\", color=\"mediumaquamarine\")\n",
    "\n",
    "# Customize the plot\n",
    "ax.set_ylabel(\"Number of people\")\n",
    "ax.set_xlabel(\"Zipcode\")\n",
    "ax.set_title(\"Maximum, average and minimum number of people per zipcode \\n\")\n",
    "ax.set_xticks(x, max_mean_min_people[\"PC4\"])\n",
    "ax.legend()\n",
    "\n",
    "ax.bar_label(rects1, padding=4)\n",
    "ax.bar_label(rects2, padding=4)\n",
    "ax.bar_label(rects3, padding=4)\n",
    "\n",
    "fig.tight_layout()\n",
    "\n",
    "plt.show()"
   ]
  },
  {
   "cell_type": "markdown",
   "id": "35b08a9a",
   "metadata": {},
   "source": [
    "Zipcodes 5611, 5612, 5616 have the highest number of people and zipcodes 5633, 5656, 5617 have the lowest number of people."
   ]
  },
  {
   "cell_type": "markdown",
   "id": "8138471d",
   "metadata": {},
   "source": [
    "<h4><font color=mediumvioletred> Get number of people vs. air quality </font></h4>"
   ]
  },
  {
   "cell_type": "code",
   "execution_count": 113,
   "id": "6c889ba0",
   "metadata": {},
   "outputs": [
    {
     "data": {
      "text/html": [
       "<div>\n",
       "<style scoped>\n",
       "    .dataframe tbody tr th:only-of-type {\n",
       "        vertical-align: middle;\n",
       "    }\n",
       "\n",
       "    .dataframe tbody tr th {\n",
       "        vertical-align: top;\n",
       "    }\n",
       "\n",
       "    .dataframe thead th {\n",
       "        text-align: right;\n",
       "    }\n",
       "</style>\n",
       "<table border=\"1\" class=\"dataframe\">\n",
       "  <thead>\n",
       "    <tr style=\"text-align: right;\">\n",
       "      <th></th>\n",
       "      <th>PC4</th>\n",
       "      <th>date_time</th>\n",
       "      <th>pop_tot</th>\n",
       "      <th>pm2.5</th>\n",
       "      <th>m00_30</th>\n",
       "      <th>m30_60</th>\n",
       "      <th>H1_2</th>\n",
       "      <th>H2_4</th>\n",
       "      <th>H4_8</th>\n",
       "      <th>H8_16</th>\n",
       "      <th>H16plus</th>\n",
       "      <th>date</th>\n",
       "      <th>time</th>\n",
       "    </tr>\n",
       "  </thead>\n",
       "  <tbody>\n",
       "    <tr>\n",
       "      <th>0</th>\n",
       "      <td>5611</td>\n",
       "      <td>2021-09-25 00:00:00</td>\n",
       "      <td>1438</td>\n",
       "      <td>4.531522</td>\n",
       "      <td>155.0</td>\n",
       "      <td>0.0</td>\n",
       "      <td>0.0</td>\n",
       "      <td>0.0</td>\n",
       "      <td>0.0</td>\n",
       "      <td>77.0</td>\n",
       "      <td>1206.0</td>\n",
       "      <td>2021-09-25</td>\n",
       "      <td>00:00:00</td>\n",
       "    </tr>\n",
       "    <tr>\n",
       "      <th>1</th>\n",
       "      <td>5611</td>\n",
       "      <td>2021-09-25 01:00:00</td>\n",
       "      <td>1516</td>\n",
       "      <td>3.434374</td>\n",
       "      <td>130.0</td>\n",
       "      <td>0.0</td>\n",
       "      <td>0.0</td>\n",
       "      <td>0.0</td>\n",
       "      <td>29.0</td>\n",
       "      <td>72.0</td>\n",
       "      <td>1285.0</td>\n",
       "      <td>2021-09-25</td>\n",
       "      <td>01:00:00</td>\n",
       "    </tr>\n",
       "    <tr>\n",
       "      <th>2</th>\n",
       "      <td>5611</td>\n",
       "      <td>2021-09-25 02:00:00</td>\n",
       "      <td>1283</td>\n",
       "      <td>4.274056</td>\n",
       "      <td>44.0</td>\n",
       "      <td>0.0</td>\n",
       "      <td>0.0</td>\n",
       "      <td>0.0</td>\n",
       "      <td>15.0</td>\n",
       "      <td>73.0</td>\n",
       "      <td>1151.0</td>\n",
       "      <td>2021-09-25</td>\n",
       "      <td>02:00:00</td>\n",
       "    </tr>\n",
       "    <tr>\n",
       "      <th>3</th>\n",
       "      <td>5611</td>\n",
       "      <td>2021-09-25 03:00:00</td>\n",
       "      <td>1223</td>\n",
       "      <td>5.396931</td>\n",
       "      <td>14.0</td>\n",
       "      <td>0.0</td>\n",
       "      <td>0.0</td>\n",
       "      <td>14.0</td>\n",
       "      <td>14.0</td>\n",
       "      <td>86.0</td>\n",
       "      <td>1095.0</td>\n",
       "      <td>2021-09-25</td>\n",
       "      <td>03:00:00</td>\n",
       "    </tr>\n",
       "    <tr>\n",
       "      <th>4</th>\n",
       "      <td>5611</td>\n",
       "      <td>2021-09-25 04:00:00</td>\n",
       "      <td>1464</td>\n",
       "      <td>6.389200</td>\n",
       "      <td>56.0</td>\n",
       "      <td>0.0</td>\n",
       "      <td>14.0</td>\n",
       "      <td>28.0</td>\n",
       "      <td>28.0</td>\n",
       "      <td>155.0</td>\n",
       "      <td>1183.0</td>\n",
       "      <td>2021-09-25</td>\n",
       "      <td>04:00:00</td>\n",
       "    </tr>\n",
       "  </tbody>\n",
       "</table>\n",
       "</div>"
      ],
      "text/plain": [
       "    PC4           date_time  pop_tot     pm2.5  m00_30  m30_60  H1_2  H2_4  \\\n",
       "0  5611 2021-09-25 00:00:00     1438  4.531522   155.0     0.0   0.0   0.0   \n",
       "1  5611 2021-09-25 01:00:00     1516  3.434374   130.0     0.0   0.0   0.0   \n",
       "2  5611 2021-09-25 02:00:00     1283  4.274056    44.0     0.0   0.0   0.0   \n",
       "3  5611 2021-09-25 03:00:00     1223  5.396931    14.0     0.0   0.0  14.0   \n",
       "4  5611 2021-09-25 04:00:00     1464  6.389200    56.0     0.0  14.0  28.0   \n",
       "\n",
       "   H4_8  H8_16  H16plus        date      time  \n",
       "0   0.0   77.0   1206.0  2021-09-25  00:00:00  \n",
       "1  29.0   72.0   1285.0  2021-09-25  01:00:00  \n",
       "2  15.0   73.0   1151.0  2021-09-25  02:00:00  \n",
       "3  14.0   86.0   1095.0  2021-09-25  03:00:00  \n",
       "4  28.0  155.0   1183.0  2021-09-25  04:00:00  "
      ]
     },
     "execution_count": 113,
     "metadata": {},
     "output_type": "execute_result"
    }
   ],
   "source": [
    "# get data for zipcode 5611 on 2021-09-25\n",
    "people_air_quality_area.head(5)"
   ]
  },
  {
   "cell_type": "markdown",
   "id": "cdeb3562",
   "metadata": {},
   "source": [
    "<h4><font color=mediumvioletred> Visualize number of people vs. air quality </font></h4>"
   ]
  },
  {
   "cell_type": "code",
   "execution_count": 114,
   "id": "5c5a0633",
   "metadata": {},
   "outputs": [
    {
     "data": {
      "image/png": "[encoded data removed]",
      "text/plain": [
       "<Figure size 1000x600 with 1 Axes>"
      ]
     },
     "metadata": {},
     "output_type": "display_data"
    }
   ],
   "source": [
    "# Number of people vs. fine particulate matter in a day in a specific area\n",
    "fig, ax = plt.subplots(figsize=(10, 6))\n",
    "\n",
    "# Plot the data\n",
    "scatter = ax.scatter(x=people_air_quality_area[\"pop_tot\"],\n",
    "                    y=round(people_air_quality_area[\"pm2.5\"]),\n",
    "                    cmap=\"winter\"); # color map: this changes the color scheme\n",
    "\n",
    "# Customize the plot\n",
    "ax.set(title=\"Number of people vs. fine inhalable particulate matter \\n throughout the day for zipcode 5611 on 2021-09-25 \\n\",\n",
    "      xlabel=\"Number of people\",\n",
    "      ylabel=\"Fine inhalable particles with diameter \\n of 2.5 micrometers or smaller\");\n",
    "\n",
    "# Add a horizontal line\n",
    "ax.axhline(people_air_quality_area[\"pm2.5\"].mean(),\n",
    "          linestyle=\"--\");"
   ]
  },
  {
   "cell_type": "code",
   "execution_count": 115,
   "id": "272a49b2",
   "metadata": {},
   "outputs": [
    {
     "data": {
      "image/png": "[encoded data removed]",
      "text/plain": [
       "<Figure size 3000x1000 with 2 Axes>"
      ]
     },
     "metadata": {},
     "output_type": "display_data"
    }
   ],
   "source": [
    "# Subplot of number of people, pollution, time\n",
    "fig, (ax0, ax1) = plt.subplots(nrows=2,\n",
    "                                ncols=1,\n",
    "                                figsize=(30, 10),\n",
    "                                sharex=True)\n",
    "\n",
    "# Add data to ax0\n",
    "ax0.bar(people_air_quality_area[\"time\"], people_air_quality_area[\"pop_tot\"], color=\"salmon\");\n",
    "# Add data to ax1\n",
    "ax1.bar(people_air_quality_area[\"time\"], people_air_quality_area[\"pm2.5\"], color=\"mediumaquamarine\");\n",
    "\n",
    "# Customize ax0\n",
    "ax0.set(title=\"Number of people per hour \\n\",\n",
    "      ylabel=\"Number of people\");\n",
    "\n",
    "# Customize ax1\n",
    "ax1.set(title=\"Fine inhalable particulate matter per hour \\n\",\n",
    "        xlabel=\"Time\",\n",
    "        ylabel=\"Fine inhalable particles with diameter \\n of 2.5 micrometers or smaller\");\n",
    "\n",
    "# Add a title to the figure\n",
    "fig.suptitle(\"Air Quality Analysis for zipcode 5611 on 2021-09-25\", fontsize=16, fontweight=\"bold\");"
   ]
  },
  {
   "cell_type": "markdown",
   "id": "69243d73",
   "metadata": {},
   "source": [
    "<h4><font color=mediumvioletred> Get maximum, average and minimum fine inhalable particulate matter per zipcode </font></h4>"
   ]
  },
  {
   "cell_type": "code",
   "execution_count": 116,
   "id": "c2e8b385",
   "metadata": {},
   "outputs": [
    {
     "data": {
      "text/html": [
       "<div>\n",
       "<style scoped>\n",
       "    .dataframe tbody tr th:only-of-type {\n",
       "        vertical-align: middle;\n",
       "    }\n",
       "\n",
       "    .dataframe tbody tr th {\n",
       "        vertical-align: top;\n",
       "    }\n",
       "\n",
       "    .dataframe thead th {\n",
       "        text-align: right;\n",
       "    }\n",
       "</style>\n",
       "<table border=\"1\" class=\"dataframe\">\n",
       "  <thead>\n",
       "    <tr style=\"text-align: right;\">\n",
       "      <th></th>\n",
       "      <th>PC4</th>\n",
       "      <th>max</th>\n",
       "      <th>min</th>\n",
       "      <th>mean</th>\n",
       "    </tr>\n",
       "  </thead>\n",
       "  <tbody>\n",
       "    <tr>\n",
       "      <th>0</th>\n",
       "      <td>5611</td>\n",
       "      <td>36.353814</td>\n",
       "      <td>2.800860</td>\n",
       "      <td>11.384660</td>\n",
       "    </tr>\n",
       "    <tr>\n",
       "      <th>1</th>\n",
       "      <td>5612</td>\n",
       "      <td>36.713622</td>\n",
       "      <td>2.803116</td>\n",
       "      <td>11.319719</td>\n",
       "    </tr>\n",
       "    <tr>\n",
       "      <th>2</th>\n",
       "      <td>5613</td>\n",
       "      <td>33.850463</td>\n",
       "      <td>2.651556</td>\n",
       "      <td>10.836317</td>\n",
       "    </tr>\n",
       "    <tr>\n",
       "      <th>3</th>\n",
       "      <td>5614</td>\n",
       "      <td>33.032114</td>\n",
       "      <td>2.573862</td>\n",
       "      <td>10.658091</td>\n",
       "    </tr>\n",
       "    <tr>\n",
       "      <th>4</th>\n",
       "      <td>5615</td>\n",
       "      <td>35.662240</td>\n",
       "      <td>2.660535</td>\n",
       "      <td>11.044525</td>\n",
       "    </tr>\n",
       "  </tbody>\n",
       "</table>\n",
       "</div>"
      ],
      "text/plain": [
       "    PC4        max       min       mean\n",
       "0  5611  36.353814  2.800860  11.384660\n",
       "1  5612  36.713622  2.803116  11.319719\n",
       "2  5613  33.850463  2.651556  10.836317\n",
       "3  5614  33.032114  2.573862  10.658091\n",
       "4  5615  35.662240  2.660535  11.044525"
      ]
     },
     "execution_count": 116,
     "metadata": {},
     "output_type": "execute_result"
    }
   ],
   "source": [
    "# Get daily average of pm2.5 per zipcode\n",
    "average_pm_per_day = df_zichtop_air_pollution.groupby([\"PC4\", \"date\"])[\"pm2.5\"].agg({\"mean\"}).reset_index()\n",
    "\n",
    "# Get maximum, average and minimum of pm2.5 per zipcode\n",
    "max_mean_min_pm = average_pm_per_day.groupby([\"PC4\"])[\"mean\"].agg([\"max\", \"min\", \"mean\"]).reset_index()\n",
    "max_mean_min_pm.head()"
   ]
  },
  {
   "cell_type": "markdown",
   "id": "5fdb0da0",
   "metadata": {},
   "source": [
    "<h4><font color=mediumvioletred> Visualize maximum, average and minimum fine inhalable particulate matter per zipcode </font></h4>"
   ]
  },
  {
   "cell_type": "code",
   "execution_count": 117,
   "id": "e1650653",
   "metadata": {},
   "outputs": [
    {
     "data": {
      "image/png": "[encoded data removed]",
      "text/plain": [
       "<Figure size 4500x1000 with 1 Axes>"
      ]
     },
     "metadata": {},
     "output_type": "display_data"
    }
   ],
   "source": [
    "fig, ax = plt.subplots(figsize=(45, 10))\n",
    "\n",
    "x = np.arange(len(max_mean_min_pm[\"PC4\"]))  # the label locations\n",
    "width = 0.28  # the width of the bars\n",
    "\n",
    "# Plot the data\n",
    "rects1 = ax.bar(x - width, round(max_mean_min_pm[\"max\"]), width, label=\"Maximum\", color=\"salmon\")\n",
    "rects2 = ax.bar(x, round(max_mean_min_pm[\"mean\"]), width, label=\"Average\", color=\"lightblue\")\n",
    "rects3 = ax.bar(x + width, round(max_mean_min_pm[\"min\"]), width, label=\"Minimum\", color=\"mediumaquamarine\")\n",
    "\n",
    "# Customize the plot\n",
    "ax.set_ylabel(\"Fine inhalable particles with diameter of 2.5 micrometers or smaller\")\n",
    "ax.set_xlabel(\"Zipcode\")\n",
    "ax.set_title(\"Maximum, average and minimum fine inhalable particulate matter per zipcode \\n\")\n",
    "ax.set_xticks(x, max_mean_min_pm[\"PC4\"])\n",
    "ax.legend()\n",
    "\n",
    "ax.bar_label(rects1, padding=4)\n",
    "ax.bar_label(rects2, padding=4)\n",
    "ax.bar_label(rects3, padding=4)\n",
    "\n",
    "fig.tight_layout()\n",
    "\n",
    "# adding air quality limits\n",
    "good_limit = [15]\n",
    "moderate_limit = [25]\n",
    "unhealthy_limit = [55]\n",
    "\n",
    "plt.axhline(y = good_limit, color = '#36e221', linestyle = '-')\n",
    "plt.axhline(y = moderate_limit, color = '#e7d85d', linestyle = '-')\n",
    "plt.axhline(y = unhealthy_limit, color = '#d56f33', linestyle = '-')\n",
    "plt.legend(['Good', 'Moderate', 'Unhealthy'])\n",
    "\n",
    "plt.show()"
   ]
  },
  {
   "cell_type": "markdown",
   "id": "27f6bcfc",
   "metadata": {},
   "source": [
    "According to the following diagram the maximum pm2.5 for each zipcode are on a moderate/unhealthy level and the average and minimum pm2.5 are on a good level."
   ]
  },
  {
   "cell_type": "markdown",
   "id": "4c144360",
   "metadata": {},
   "source": [
    "![title](images/pm2.5_chart.jpg)"
   ]
  },
  {
   "cell_type": "markdown",
   "id": "10f065d6",
   "metadata": {},
   "source": [
    "<h4><font color=mediumvioletred>Specify country code in Pgeocode library </font></h4>"
   ]
  },
  {
   "cell_type": "code",
   "execution_count": 118,
   "id": "fde629f7",
   "metadata": {},
   "outputs": [],
   "source": [
    "nomi = pgeocode.Nominatim('nl')"
   ]
  },
  {
   "cell_type": "markdown",
   "id": "15a8f9f6",
   "metadata": {},
   "source": [
    "<h4><font color=mediumvioletred>Get postal code information for zipcode 5621 </font></h4>"
   ]
  },
  {
   "cell_type": "code",
   "execution_count": 119,
   "id": "0716f8a7",
   "metadata": {},
   "outputs": [
    {
     "data": {
      "text/plain": [
       "postal_code                5621\n",
       "country_code                 NL\n",
       "place_name            Eindhoven\n",
       "state_name        Noord-Brabant\n",
       "state_code                    6\n",
       "county_name           Eindhoven\n",
       "county_code                 772\n",
       "community_name              NaN\n",
       "community_code              NaN\n",
       "latitude                51.4549\n",
       "longitude                 5.457\n",
       "accuracy                    6.0\n",
       "Name: 0, dtype: object"
      ]
     },
     "execution_count": 119,
     "metadata": {},
     "output_type": "execute_result"
    }
   ],
   "source": [
    "nomi.query_postal_code(\"5621\")"
   ]
  },
  {
   "cell_type": "markdown",
   "id": "b7ea6898",
   "metadata": {},
   "source": [
    "<h4><font color=mediumvioletred>Get sample of of zichtop air pollution dataframe </font></h4>"
   ]
  },
  {
   "cell_type": "code",
   "execution_count": 120,
   "id": "bf0aa0b4",
   "metadata": {},
   "outputs": [
    {
     "data": {
      "text/html": [
       "<div>\n",
       "<style scoped>\n",
       "    .dataframe tbody tr th:only-of-type {\n",
       "        vertical-align: middle;\n",
       "    }\n",
       "\n",
       "    .dataframe tbody tr th {\n",
       "        vertical-align: top;\n",
       "    }\n",
       "\n",
       "    .dataframe thead th {\n",
       "        text-align: right;\n",
       "    }\n",
       "</style>\n",
       "<table border=\"1\" class=\"dataframe\">\n",
       "  <thead>\n",
       "    <tr style=\"text-align: right;\">\n",
       "      <th></th>\n",
       "      <th>PC4</th>\n",
       "      <th>date_time</th>\n",
       "      <th>pop_tot</th>\n",
       "      <th>pm2.5</th>\n",
       "      <th>m00_30</th>\n",
       "      <th>m30_60</th>\n",
       "      <th>H1_2</th>\n",
       "      <th>H2_4</th>\n",
       "      <th>H4_8</th>\n",
       "      <th>H8_16</th>\n",
       "      <th>H16plus</th>\n",
       "      <th>date</th>\n",
       "      <th>time</th>\n",
       "    </tr>\n",
       "  </thead>\n",
       "  <tbody>\n",
       "    <tr>\n",
       "      <th>42097</th>\n",
       "      <td>5657</td>\n",
       "      <td>2021-11-13 01:00:00</td>\n",
       "      <td>297</td>\n",
       "      <td>3.210353</td>\n",
       "      <td>95.0</td>\n",
       "      <td>0.0</td>\n",
       "      <td>0.0</td>\n",
       "      <td>0.0</td>\n",
       "      <td>83.0</td>\n",
       "      <td>36.0</td>\n",
       "      <td>83.0</td>\n",
       "      <td>2021-11-13</td>\n",
       "      <td>01:00:00</td>\n",
       "    </tr>\n",
       "    <tr>\n",
       "      <th>31893</th>\n",
       "      <td>5646</td>\n",
       "      <td>2021-10-03 21:00:00</td>\n",
       "      <td>733</td>\n",
       "      <td>2.363312</td>\n",
       "      <td>79.0</td>\n",
       "      <td>0.0</td>\n",
       "      <td>0.0</td>\n",
       "      <td>52.0</td>\n",
       "      <td>52.0</td>\n",
       "      <td>131.0</td>\n",
       "      <td>419.0</td>\n",
       "      <td>2021-10-03</td>\n",
       "      <td>21:00:00</td>\n",
       "    </tr>\n",
       "    <tr>\n",
       "      <th>31657</th>\n",
       "      <td>5645</td>\n",
       "      <td>2021-11-18 01:00:00</td>\n",
       "      <td>584</td>\n",
       "      <td>14.743526</td>\n",
       "      <td>20.0</td>\n",
       "      <td>0.0</td>\n",
       "      <td>0.0</td>\n",
       "      <td>0.0</td>\n",
       "      <td>0.0</td>\n",
       "      <td>0.0</td>\n",
       "      <td>564.0</td>\n",
       "      <td>2021-11-18</td>\n",
       "      <td>01:00:00</td>\n",
       "    </tr>\n",
       "    <tr>\n",
       "      <th>17460</th>\n",
       "      <td>5627</td>\n",
       "      <td>2021-10-07 12:00:00</td>\n",
       "      <td>4990</td>\n",
       "      <td>3.923208</td>\n",
       "      <td>619.0</td>\n",
       "      <td>129.0</td>\n",
       "      <td>297.0</td>\n",
       "      <td>284.0</td>\n",
       "      <td>1367.0</td>\n",
       "      <td>774.0</td>\n",
       "      <td>1520.0</td>\n",
       "      <td>2021-10-07</td>\n",
       "      <td>12:00:00</td>\n",
       "    </tr>\n",
       "    <tr>\n",
       "      <th>41844</th>\n",
       "      <td>5657</td>\n",
       "      <td>2021-11-02 12:00:00</td>\n",
       "      <td>4358</td>\n",
       "      <td>4.765103</td>\n",
       "      <td>758.0</td>\n",
       "      <td>114.0</td>\n",
       "      <td>294.0</td>\n",
       "      <td>445.0</td>\n",
       "      <td>1118.0</td>\n",
       "      <td>1525.0</td>\n",
       "      <td>104.0</td>\n",
       "      <td>2021-11-02</td>\n",
       "      <td>12:00:00</td>\n",
       "    </tr>\n",
       "  </tbody>\n",
       "</table>\n",
       "</div>"
      ],
      "text/plain": [
       "        PC4           date_time  pop_tot      pm2.5  m00_30  m30_60   H1_2  \\\n",
       "42097  5657 2021-11-13 01:00:00      297   3.210353    95.0     0.0    0.0   \n",
       "31893  5646 2021-10-03 21:00:00      733   2.363312    79.0     0.0    0.0   \n",
       "31657  5645 2021-11-18 01:00:00      584  14.743526    20.0     0.0    0.0   \n",
       "17460  5627 2021-10-07 12:00:00     4990   3.923208   619.0   129.0  297.0   \n",
       "41844  5657 2021-11-02 12:00:00     4358   4.765103   758.0   114.0  294.0   \n",
       "\n",
       "        H2_4    H4_8   H8_16  H16plus        date      time  \n",
       "42097    0.0    83.0    36.0     83.0  2021-11-13  01:00:00  \n",
       "31893   52.0    52.0   131.0    419.0  2021-10-03  21:00:00  \n",
       "31657    0.0     0.0     0.0    564.0  2021-11-18  01:00:00  \n",
       "17460  284.0  1367.0   774.0   1520.0  2021-10-07  12:00:00  \n",
       "41844  445.0  1118.0  1525.0    104.0  2021-11-02  12:00:00  "
      ]
     },
     "execution_count": 120,
     "metadata": {},
     "output_type": "execute_result"
    }
   ],
   "source": [
    "df_zichtop_air_pollution.sample(5)"
   ]
  },
  {
   "cell_type": "markdown",
   "id": "c46de6b2",
   "metadata": {},
   "source": [
    "<h4><font color=mediumvioletred>Create a new dataframe containing unique zipcodes </font></h4>"
   ]
  },
  {
   "cell_type": "code",
   "execution_count": 121,
   "id": "d6745509",
   "metadata": {},
   "outputs": [
    {
     "data": {
      "text/html": [
       "<div>\n",
       "<style scoped>\n",
       "    .dataframe tbody tr th:only-of-type {\n",
       "        vertical-align: middle;\n",
       "    }\n",
       "\n",
       "    .dataframe tbody tr th {\n",
       "        vertical-align: top;\n",
       "    }\n",
       "\n",
       "    .dataframe thead th {\n",
       "        text-align: right;\n",
       "    }\n",
       "</style>\n",
       "<table border=\"1\" class=\"dataframe\">\n",
       "  <thead>\n",
       "    <tr style=\"text-align: right;\">\n",
       "      <th></th>\n",
       "      <th>PC4</th>\n",
       "    </tr>\n",
       "  </thead>\n",
       "  <tbody>\n",
       "    <tr>\n",
       "      <th>0</th>\n",
       "      <td>5611</td>\n",
       "    </tr>\n",
       "    <tr>\n",
       "      <th>1</th>\n",
       "      <td>5612</td>\n",
       "    </tr>\n",
       "    <tr>\n",
       "      <th>2</th>\n",
       "      <td>5613</td>\n",
       "    </tr>\n",
       "    <tr>\n",
       "      <th>3</th>\n",
       "      <td>5614</td>\n",
       "    </tr>\n",
       "    <tr>\n",
       "      <th>4</th>\n",
       "      <td>5615</td>\n",
       "    </tr>\n",
       "  </tbody>\n",
       "</table>\n",
       "</div>"
      ],
      "text/plain": [
       "    PC4\n",
       "0  5611\n",
       "1  5612\n",
       "2  5613\n",
       "3  5614\n",
       "4  5615"
      ]
     },
     "execution_count": 121,
     "metadata": {},
     "output_type": "execute_result"
    }
   ],
   "source": [
    "zipcodes = pd.DataFrame({\"PC4\": df_zichtop_air_pollution[\"PC4\"].unique()})\n",
    "zipcodes.head(5)"
   ]
  },
  {
   "cell_type": "markdown",
   "id": "c91e9223",
   "metadata": {},
   "source": [
    "<h4><font color=mediumvioletred>Add latitude, longitude data to the zipcodes dataframe </font></h4>"
   ]
  },
  {
   "cell_type": "code",
   "execution_count": 122,
   "id": "adfb7a42",
   "metadata": {},
   "outputs": [],
   "source": [
    "# add latitude, longitude data to the dataframe\n",
    "zipcodes[\"latitude\"] = zipcodes[\"PC4\"].apply(lambda x: nomi.query_postal_code(x)[9])\n",
    "zipcodes[\"longitude\"] = zipcodes[\"PC4\"].apply(lambda x: nomi.query_postal_code(x)[10])"
   ]
  },
  {
   "cell_type": "markdown",
   "id": "e4bf1a93",
   "metadata": {},
   "source": [
    "<h4><font color=mediumvioletred>Convert PC4 column to a string so that the circles appear on the map </font></h4>"
   ]
  },
  {
   "cell_type": "code",
   "execution_count": 123,
   "id": "50dc17fd",
   "metadata": {},
   "outputs": [],
   "source": [
    "zipcodes[\"PC4\"] = zipcodes[\"PC4\"].astype(\"str\")"
   ]
  },
  {
   "cell_type": "markdown",
   "id": "a00b5e0f",
   "metadata": {},
   "source": [
    "<h4><font color=mediumvioletred>Get sample of zipcodes </font></h4>"
   ]
  },
  {
   "cell_type": "code",
   "execution_count": 124,
   "id": "18091d83",
   "metadata": {},
   "outputs": [
    {
     "data": {
      "text/html": [
       "<div>\n",
       "<style scoped>\n",
       "    .dataframe tbody tr th:only-of-type {\n",
       "        vertical-align: middle;\n",
       "    }\n",
       "\n",
       "    .dataframe tbody tr th {\n",
       "        vertical-align: top;\n",
       "    }\n",
       "\n",
       "    .dataframe thead th {\n",
       "        text-align: right;\n",
       "    }\n",
       "</style>\n",
       "<table border=\"1\" class=\"dataframe\">\n",
       "  <thead>\n",
       "    <tr style=\"text-align: right;\">\n",
       "      <th></th>\n",
       "      <th>PC4</th>\n",
       "      <th>latitude</th>\n",
       "      <th>longitude</th>\n",
       "    </tr>\n",
       "  </thead>\n",
       "  <tbody>\n",
       "    <tr>\n",
       "      <th>22</th>\n",
       "      <td>5644</td>\n",
       "      <td>51.4183</td>\n",
       "      <td>5.4887</td>\n",
       "    </tr>\n",
       "    <tr>\n",
       "      <th>31</th>\n",
       "      <td>5657</td>\n",
       "      <td>51.4512</td>\n",
       "      <td>5.4008</td>\n",
       "    </tr>\n",
       "    <tr>\n",
       "      <th>20</th>\n",
       "      <td>5642</td>\n",
       "      <td>51.4389</td>\n",
       "      <td>5.5144</td>\n",
       "    </tr>\n",
       "    <tr>\n",
       "      <th>13</th>\n",
       "      <td>5627</td>\n",
       "      <td>51.4853</td>\n",
       "      <td>5.4440</td>\n",
       "    </tr>\n",
       "    <tr>\n",
       "      <th>19</th>\n",
       "      <td>5641</td>\n",
       "      <td>51.4466</td>\n",
       "      <td>5.5198</td>\n",
       "    </tr>\n",
       "  </tbody>\n",
       "</table>\n",
       "</div>"
      ],
      "text/plain": [
       "     PC4  latitude  longitude\n",
       "22  5644   51.4183     5.4887\n",
       "31  5657   51.4512     5.4008\n",
       "20  5642   51.4389     5.5144\n",
       "13  5627   51.4853     5.4440\n",
       "19  5641   51.4466     5.5198"
      ]
     },
     "execution_count": 124,
     "metadata": {},
     "output_type": "execute_result"
    }
   ],
   "source": [
    "zipcodes.sample(5)"
   ]
  },
  {
   "cell_type": "markdown",
   "id": "e1dd0431",
   "metadata": {},
   "source": [
    "<h4><font color=mediumvioletred>Plot the map with the latitude, longitude and zipcode in Eindhoven</font></h4>"
   ]
  },
  {
   "cell_type": "code",
   "execution_count": 125,
   "id": "61020570",
   "metadata": {},
   "outputs": [
    {
     "data": {
      "application/vnd.plotly.v1+json": {
       "config": {
        "plotlyServerURL": "https://plot.ly"
       },
       "data": [
        {
         "hovertemplate": "<b>%{hovertext}</b><br><br>latitude=%{lat}<br>longitude=%{lon}<extra></extra>",
         "hovertext": [
          "5611",
          "5612",
          "5613",
          "5614",
          "5615",
          "5616",
          "5617",
          "5621",
          "5622",
          "5623",
          "5624",
          "5625",
          "5626",
          "5627",
          "5628",
          "5629",
          "5631",
          "5632",
          "5633",
          "5641",
          "5642",
          "5643",
          "5644",
          "5645",
          "5646",
          "5651",
          "5652",
          "5653",
          "5654",
          "5655",
          "5656",
          "5657",
          "5658"
         ],
         "lat": [
          51.4366,
          51.4484,
          51.4387,
          51.4284,
          51.4293,
          51.4396,
          51.447,
          51.4549,
          51.4593,
          51.4595,
          51.4696,
          51.4719,
          51.4781,
          51.4853,
          51.4801,
          51.4884,
          51.4605,
          51.4767,
          51.4899,
          51.4466,
          51.4389,
          51.4235,
          51.4183,
          51.4242,
          51.4184,
          51.45,
          51.4394,
          51.4236,
          51.4215,
          51.4152,
          51.4112,
          51.4512,
          51.4405
         ],
         "legendgroup": "",
         "lon": [
          5.4801,
          5.4727,
          5.4969,
          5.4921,
          5.4746,
          5.4592,
          5.4573,
          5.457,
          5.4644,
          5.4782,
          5.457,
          5.4754,
          5.4302,
          5.444,
          5.4724,
          5.4734,
          5.4945,
          5.4956,
          5.4954,
          5.5198,
          5.5144,
          5.5011,
          5.4887,
          5.5109,
          5.5095,
          5.4433,
          5.438,
          5.4446,
          5.4582,
          5.4399,
          5.4561,
          5.4008,
          5.4098
         ],
         "marker": {
          "color": "#636efa"
         },
         "mode": "markers",
         "name": "",
         "showlegend": false,
         "subplot": "mapbox",
         "type": "scattermapbox"
        }
       ],
       "layout": {
        "height": 300,
        "legend": {
         "tracegroupgap": 0
        },
        "mapbox": {
         "center": {
          "lat": 51.44741515151516,
          "lon": 5.469863636363635
         },
         "domain": {
          "x": [
           0,
           1
          ],
          "y": [
           0,
           1
          ]
         },
         "style": "carto-positron",
         "zoom": 10
        },
        "margin": {
         "b": 0,
         "l": 0,
         "r": 0,
         "t": 30
        },
        "template": {
         "data": {
          "bar": [
           {
            "error_x": {
             "color": "#2a3f5f"
            },
            "error_y": {
             "color": "#2a3f5f"
            },
            "marker": {
             "line": {
              "color": "#E5ECF6",
              "width": 0.5
             },
             "pattern": {
              "fillmode": "overlay",
              "size": 10,
              "solidity": 0.2
             }
            },
            "type": "bar"
           }
          ],
          "barpolar": [
           {
            "marker": {
             "line": {
              "color": "#E5ECF6",
              "width": 0.5
             },
             "pattern": {
              "fillmode": "overlay",
              "size": 10,
              "solidity": 0.2
             }
            },
            "type": "barpolar"
           }
          ],
          "carpet": [
           {
            "aaxis": {
             "endlinecolor": "#2a3f5f",
             "gridcolor": "white",
             "linecolor": "white",
             "minorgridcolor": "white",
             "startlinecolor": "#2a3f5f"
            },
            "baxis": {
             "endlinecolor": "#2a3f5f",
             "gridcolor": "white",
             "linecolor": "white",
             "minorgridcolor": "white",
             "startlinecolor": "#2a3f5f"
            },
            "type": "carpet"
           }
          ],
          "choropleth": [
           {
            "colorbar": {
             "outlinewidth": 0,
             "ticks": ""
            },
            "type": "choropleth"
           }
          ],
          "contour": [
           {
            "colorbar": {
             "outlinewidth": 0,
             "ticks": ""
            },
            "colorscale": [
             [
              0,
              "#0d0887"
             ],
             [
              0.1111111111111111,
              "#46039f"
             ],
             [
              0.2222222222222222,
              "#7201a8"
             ],
             [
              0.3333333333333333,
              "#9c179e"
             ],
             [
              0.4444444444444444,
              "#bd3786"
             ],
             [
              0.5555555555555556,
              "#d8576b"
             ],
             [
              0.6666666666666666,
              "#ed7953"
             ],
             [
              0.7777777777777778,
              "#fb9f3a"
             ],
             [
              0.8888888888888888,
              "#fdca26"
             ],
             [
              1,
              "#f0f921"
             ]
            ],
            "type": "contour"
           }
          ],
          "contourcarpet": [
           {
            "colorbar": {
             "outlinewidth": 0,
             "ticks": ""
            },
            "type": "contourcarpet"
           }
          ],
          "heatmap": [
           {
            "colorbar": {
             "outlinewidth": 0,
             "ticks": ""
            },
            "colorscale": [
             [
              0,
              "#0d0887"
             ],
             [
              0.1111111111111111,
              "#46039f"
             ],
             [
              0.2222222222222222,
              "#7201a8"
             ],
             [
              0.3333333333333333,
              "#9c179e"
             ],
             [
              0.4444444444444444,
              "#bd3786"
             ],
             [
              0.5555555555555556,
              "#d8576b"
             ],
             [
              0.6666666666666666,
              "#ed7953"
             ],
             [
              0.7777777777777778,
              "#fb9f3a"
             ],
             [
              0.8888888888888888,
              "#fdca26"
             ],
             [
              1,
              "#f0f921"
             ]
            ],
            "type": "heatmap"
           }
          ],
          "heatmapgl": [
           {
            "colorbar": {
             "outlinewidth": 0,
             "ticks": ""
            },
            "colorscale": [
             [
              0,
              "#0d0887"
             ],
             [
              0.1111111111111111,
              "#46039f"
             ],
             [
              0.2222222222222222,
              "#7201a8"
             ],
             [
              0.3333333333333333,
              "#9c179e"
             ],
             [
              0.4444444444444444,
              "#bd3786"
             ],
             [
              0.5555555555555556,
              "#d8576b"
             ],
             [
              0.6666666666666666,
              "#ed7953"
             ],
             [
              0.7777777777777778,
              "#fb9f3a"
             ],
             [
              0.8888888888888888,
              "#fdca26"
             ],
             [
              1,
              "#f0f921"
             ]
            ],
            "type": "heatmapgl"
           }
          ],
          "histogram": [
           {
            "marker": {
             "pattern": {
              "fillmode": "overlay",
              "size": 10,
              "solidity": 0.2
             }
            },
            "type": "histogram"
           }
          ],
          "histogram2d": [
           {
            "colorbar": {
             "outlinewidth": 0,
             "ticks": ""
            },
            "colorscale": [
             [
              0,
              "#0d0887"
             ],
             [
              0.1111111111111111,
              "#46039f"
             ],
             [
              0.2222222222222222,
              "#7201a8"
             ],
             [
              0.3333333333333333,
              "#9c179e"
             ],
             [
              0.4444444444444444,
              "#bd3786"
             ],
             [
              0.5555555555555556,
              "#d8576b"
             ],
             [
              0.6666666666666666,
              "#ed7953"
             ],
             [
              0.7777777777777778,
              "#fb9f3a"
             ],
             [
              0.8888888888888888,
              "#fdca26"
             ],
             [
              1,
              "#f0f921"
             ]
            ],
            "type": "histogram2d"
           }
          ],
          "histogram2dcontour": [
           {
            "colorbar": {
             "outlinewidth": 0,
             "ticks": ""
            },
            "colorscale": [
             [
              0,
              "#0d0887"
             ],
             [
              0.1111111111111111,
              "#46039f"
             ],
             [
              0.2222222222222222,
              "#7201a8"
             ],
             [
              0.3333333333333333,
              "#9c179e"
             ],
             [
              0.4444444444444444,
              "#bd3786"
             ],
             [
              0.5555555555555556,
              "#d8576b"
             ],
             [
              0.6666666666666666,
              "#ed7953"
             ],
             [
              0.7777777777777778,
              "#fb9f3a"
             ],
             [
              0.8888888888888888,
              "#fdca26"
             ],
             [
              1,
              "#f0f921"
             ]
            ],
            "type": "histogram2dcontour"
           }
          ],
          "mesh3d": [
           {
            "colorbar": {
             "outlinewidth": 0,
             "ticks": ""
            },
            "type": "mesh3d"
           }
          ],
          "parcoords": [
           {
            "line": {
             "colorbar": {
              "outlinewidth": 0,
              "ticks": ""
             }
            },
            "type": "parcoords"
           }
          ],
          "pie": [
           {
            "automargin": true,
            "type": "pie"
           }
          ],
          "scatter": [
           {
            "fillpattern": {
             "fillmode": "overlay",
             "size": 10,
             "solidity": 0.2
            },
            "type": "scatter"
           }
          ],
          "scatter3d": [
           {
            "line": {
             "colorbar": {
              "outlinewidth": 0,
              "ticks": ""
             }
            },
            "marker": {
             "colorbar": {
              "outlinewidth": 0,
              "ticks": ""
             }
            },
            "type": "scatter3d"
           }
          ],
          "scattercarpet": [
           {
            "marker": {
             "colorbar": {
              "outlinewidth": 0,
              "ticks": ""
             }
            },
            "type": "scattercarpet"
           }
          ],
          "scattergeo": [
           {
            "marker": {
             "colorbar": {
              "outlinewidth": 0,
              "ticks": ""
             }
            },
            "type": "scattergeo"
           }
          ],
          "scattergl": [
           {
            "marker": {
             "colorbar": {
              "outlinewidth": 0,
              "ticks": ""
             }
            },
            "type": "scattergl"
           }
          ],
          "scattermapbox": [
           {
            "marker": {
             "colorbar": {
              "outlinewidth": 0,
              "ticks": ""
             }
            },
            "type": "scattermapbox"
           }
          ],
          "scatterpolar": [
           {
            "marker": {
             "colorbar": {
              "outlinewidth": 0,
              "ticks": ""
             }
            },
            "type": "scatterpolar"
           }
          ],
          "scatterpolargl": [
           {
            "marker": {
             "colorbar": {
              "outlinewidth": 0,
              "ticks": ""
             }
            },
            "type": "scatterpolargl"
           }
          ],
          "scatterternary": [
           {
            "marker": {
             "colorbar": {
              "outlinewidth": 0,
              "ticks": ""
             }
            },
            "type": "scatterternary"
           }
          ],
          "surface": [
           {
            "colorbar": {
             "outlinewidth": 0,
             "ticks": ""
            },
            "colorscale": [
             [
              0,
              "#0d0887"
             ],
             [
              0.1111111111111111,
              "#46039f"
             ],
             [
              0.2222222222222222,
              "#7201a8"
             ],
             [
              0.3333333333333333,
              "#9c179e"
             ],
             [
              0.4444444444444444,
              "#bd3786"
             ],
             [
              0.5555555555555556,
              "#d8576b"
             ],
             [
              0.6666666666666666,
              "#ed7953"
             ],
             [
              0.7777777777777778,
              "#fb9f3a"
             ],
             [
              0.8888888888888888,
              "#fdca26"
             ],
             [
              1,
              "#f0f921"
             ]
            ],
            "type": "surface"
           }
          ],
          "table": [
           {
            "cells": {
             "fill": {
              "color": "#EBF0F8"
             },
             "line": {
              "color": "white"
             }
            },
            "header": {
             "fill": {
              "color": "#C8D4E3"
             },
             "line": {
              "color": "white"
             }
            },
            "type": "table"
           }
          ]
         },
         "layout": {
          "annotationdefaults": {
           "arrowcolor": "#2a3f5f",
           "arrowhead": 0,
           "arrowwidth": 1
          },
          "autotypenumbers": "strict",
          "coloraxis": {
           "colorbar": {
            "outlinewidth": 0,
            "ticks": ""
           }
          },
          "colorscale": {
           "diverging": [
            [
             0,
             "#8e0152"
            ],
            [
             0.1,
             "#c51b7d"
            ],
            [
             0.2,
             "#de77ae"
            ],
            [
             0.3,
             "#f1b6da"
            ],
            [
             0.4,
             "#fde0ef"
            ],
            [
             0.5,
             "#f7f7f7"
            ],
            [
             0.6,
             "#e6f5d0"
            ],
            [
             0.7,
             "#b8e186"
            ],
            [
             0.8,
             "#7fbc41"
            ],
            [
             0.9,
             "#4d9221"
            ],
            [
             1,
             "#276419"
            ]
           ],
           "sequential": [
            [
             0,
             "#0d0887"
            ],
            [
             0.1111111111111111,
             "#46039f"
            ],
            [
             0.2222222222222222,
             "#7201a8"
            ],
            [
             0.3333333333333333,
             "#9c179e"
            ],
            [
             0.4444444444444444,
             "#bd3786"
            ],
            [
             0.5555555555555556,
             "#d8576b"
            ],
            [
             0.6666666666666666,
             "#ed7953"
            ],
            [
             0.7777777777777778,
             "#fb9f3a"
            ],
            [
             0.8888888888888888,
             "#fdca26"
            ],
            [
             1,
             "#f0f921"
            ]
           ],
           "sequentialminus": [
            [
             0,
             "#0d0887"
            ],
            [
             0.1111111111111111,
             "#46039f"
            ],
            [
             0.2222222222222222,
             "#7201a8"
            ],
            [
             0.3333333333333333,
             "#9c179e"
            ],
            [
             0.4444444444444444,
             "#bd3786"
            ],
            [
             0.5555555555555556,
             "#d8576b"
            ],
            [
             0.6666666666666666,
             "#ed7953"
            ],
            [
             0.7777777777777778,
             "#fb9f3a"
            ],
            [
             0.8888888888888888,
             "#fdca26"
            ],
            [
             1,
             "#f0f921"
            ]
           ]
          },
          "colorway": [
           "#636efa",
           "#EF553B",
           "#00cc96",
           "#ab63fa",
           "#FFA15A",
           "#19d3f3",
           "#FF6692",
           "#B6E880",
           "#FF97FF",
           "#FECB52"
          ],
          "font": {
           "color": "#2a3f5f"
          },
          "geo": {
           "bgcolor": "white",
           "lakecolor": "white",
           "landcolor": "#E5ECF6",
           "showlakes": true,
           "showland": true,
           "subunitcolor": "white"
          },
          "hoverlabel": {
           "align": "left"
          },
          "hovermode": "closest",
          "mapbox": {
           "style": "light"
          },
          "paper_bgcolor": "white",
          "plot_bgcolor": "#E5ECF6",
          "polar": {
           "angularaxis": {
            "gridcolor": "white",
            "linecolor": "white",
            "ticks": ""
           },
           "bgcolor": "#E5ECF6",
           "radialaxis": {
            "gridcolor": "white",
            "linecolor": "white",
            "ticks": ""
           }
          },
          "scene": {
           "xaxis": {
            "backgroundcolor": "#E5ECF6",
            "gridcolor": "white",
            "gridwidth": 2,
            "linecolor": "white",
            "showbackground": true,
            "ticks": "",
            "zerolinecolor": "white"
           },
           "yaxis": {
            "backgroundcolor": "#E5ECF6",
            "gridcolor": "white",
            "gridwidth": 2,
            "linecolor": "white",
            "showbackground": true,
            "ticks": "",
            "zerolinecolor": "white"
           },
           "zaxis": {
            "backgroundcolor": "#E5ECF6",
            "gridcolor": "white",
            "gridwidth": 2,
            "linecolor": "white",
            "showbackground": true,
            "ticks": "",
            "zerolinecolor": "white"
           }
          },
          "shapedefaults": {
           "line": {
            "color": "#2a3f5f"
           }
          },
          "ternary": {
           "aaxis": {
            "gridcolor": "white",
            "linecolor": "white",
            "ticks": ""
           },
           "baxis": {
            "gridcolor": "white",
            "linecolor": "white",
            "ticks": ""
           },
           "bgcolor": "#E5ECF6",
           "caxis": {
            "gridcolor": "white",
            "linecolor": "white",
            "ticks": ""
           }
          },
          "title": {
           "x": 0.05
          },
          "xaxis": {
           "automargin": true,
           "gridcolor": "white",
           "linecolor": "white",
           "ticks": "",
           "title": {
            "standoff": 15
           },
           "zerolinecolor": "white",
           "zerolinewidth": 2
          },
          "yaxis": {
           "automargin": true,
           "gridcolor": "white",
           "linecolor": "white",
           "ticks": "",
           "title": {
            "standoff": 15
           },
           "zerolinecolor": "white",
           "zerolinewidth": 2
          }
         }
        },
        "title": {
         "text": "Eindhoven map with latitude, longitude and zipcode"
        }
       }
      },
      "text/html": [
       "<div>                            <div id=\"4e6ea307-9252-4ba5-94bb-a7a31b74366c\" class=\"plotly-graph-div\" style=\"height:300px; width:100%;\"></div>            <script type=\"text/javascript\">                require([\"plotly\"], function(Plotly) {                    window.PLOTLYENV=window.PLOTLYENV || {};                                    if (document.getElementById(\"4e6ea307-9252-4ba5-94bb-a7a31b74366c\")) {                    Plotly.newPlot(                        \"4e6ea307-9252-4ba5-94bb-a7a31b74366c\",                        [{\"hovertemplate\":\"<b>%{hovertext}</b><br><br>latitude=%{lat}<br>longitude=%{lon}<extra></extra>\",\"hovertext\":[\"5611\",\"5612\",\"5613\",\"5614\",\"5615\",\"5616\",\"5617\",\"5621\",\"5622\",\"5623\",\"5624\",\"5625\",\"5626\",\"5627\",\"5628\",\"5629\",\"5631\",\"5632\",\"5633\",\"5641\",\"5642\",\"5643\",\"5644\",\"5645\",\"5646\",\"5651\",\"5652\",\"5653\",\"5654\",\"5655\",\"5656\",\"5657\",\"5658\"],\"lat\":[51.4366,51.4484,51.4387,51.4284,51.4293,51.4396,51.447,51.4549,51.4593,51.4595,51.4696,51.4719,51.4781,51.4853,51.4801,51.4884,51.4605,51.4767,51.4899,51.4466,51.4389,51.4235,51.4183,51.4242,51.4184,51.45,51.4394,51.4236,51.4215,51.4152,51.4112,51.4512,51.4405],\"legendgroup\":\"\",\"lon\":[5.4801,5.4727,5.4969,5.4921,5.4746,5.4592,5.4573,5.457,5.4644,5.4782,5.457,5.4754,5.4302,5.444,5.4724,5.4734,5.4945,5.4956,5.4954,5.5198,5.5144,5.5011,5.4887,5.5109,5.5095,5.4433,5.438,5.4446,5.4582,5.4399,5.4561,5.4008,5.4098],\"marker\":{\"color\":\"#636efa\"},\"mode\":\"markers\",\"name\":\"\",\"showlegend\":false,\"subplot\":\"mapbox\",\"type\":\"scattermapbox\"}],                        {\"template\":{\"data\":{\"histogram2dcontour\":[{\"type\":\"histogram2dcontour\",\"colorbar\":{\"outlinewidth\":0,\"ticks\":\"\"},\"colorscale\":[[0.0,\"#0d0887\"],[0.1111111111111111,\"#46039f\"],[0.2222222222222222,\"#7201a8\"],[0.3333333333333333,\"#9c179e\"],[0.4444444444444444,\"#bd3786\"],[0.5555555555555556,\"#d8576b\"],[0.6666666666666666,\"#ed7953\"],[0.7777777777777778,\"#fb9f3a\"],[0.8888888888888888,\"#fdca26\"],[1.0,\"#f0f921\"]]}],\"choropleth\":[{\"type\":\"choropleth\",\"colorbar\":{\"outlinewidth\":0,\"ticks\":\"\"}}],\"histogram2d\":[{\"type\":\"histogram2d\",\"colorbar\":{\"outlinewidth\":0,\"ticks\":\"\"},\"colorscale\":[[0.0,\"#0d0887\"],[0.1111111111111111,\"#46039f\"],[0.2222222222222222,\"#7201a8\"],[0.3333333333333333,\"#9c179e\"],[0.4444444444444444,\"#bd3786\"],[0.5555555555555556,\"#d8576b\"],[0.6666666666666666,\"#ed7953\"],[0.7777777777777778,\"#fb9f3a\"],[0.8888888888888888,\"#fdca26\"],[1.0,\"#f0f921\"]]}],\"heatmap\":[{\"type\":\"heatmap\",\"colorbar\":{\"outlinewidth\":0,\"ticks\":\"\"},\"colorscale\":[[0.0,\"#0d0887\"],[0.1111111111111111,\"#46039f\"],[0.2222222222222222,\"#7201a8\"],[0.3333333333333333,\"#9c179e\"],[0.4444444444444444,\"#bd3786\"],[0.5555555555555556,\"#d8576b\"],[0.6666666666666666,\"#ed7953\"],[0.7777777777777778,\"#fb9f3a\"],[0.8888888888888888,\"#fdca26\"],[1.0,\"#f0f921\"]]}],\"heatmapgl\":[{\"type\":\"heatmapgl\",\"colorbar\":{\"outlinewidth\":0,\"ticks\":\"\"},\"colorscale\":[[0.0,\"#0d0887\"],[0.1111111111111111,\"#46039f\"],[0.2222222222222222,\"#7201a8\"],[0.3333333333333333,\"#9c179e\"],[0.4444444444444444,\"#bd3786\"],[0.5555555555555556,\"#d8576b\"],[0.6666666666666666,\"#ed7953\"],[0.7777777777777778,\"#fb9f3a\"],[0.8888888888888888,\"#fdca26\"],[1.0,\"#f0f921\"]]}],\"contourcarpet\":[{\"type\":\"contourcarpet\",\"colorbar\":{\"outlinewidth\":0,\"ticks\":\"\"}}],\"contour\":[{\"type\":\"contour\",\"colorbar\":{\"outlinewidth\":0,\"ticks\":\"\"},\"colorscale\":[[0.0,\"#0d0887\"],[0.1111111111111111,\"#46039f\"],[0.2222222222222222,\"#7201a8\"],[0.3333333333333333,\"#9c179e\"],[0.4444444444444444,\"#bd3786\"],[0.5555555555555556,\"#d8576b\"],[0.6666666666666666,\"#ed7953\"],[0.7777777777777778,\"#fb9f3a\"],[0.8888888888888888,\"#fdca26\"],[1.0,\"#f0f921\"]]}],\"surface\":[{\"type\":\"surface\",\"colorbar\":{\"outlinewidth\":0,\"ticks\":\"\"},\"colorscale\":[[0.0,\"#0d0887\"],[0.1111111111111111,\"#46039f\"],[0.2222222222222222,\"#7201a8\"],[0.3333333333333333,\"#9c179e\"],[0.4444444444444444,\"#bd3786\"],[0.5555555555555556,\"#d8576b\"],[0.6666666666666666,\"#ed7953\"],[0.7777777777777778,\"#fb9f3a\"],[0.8888888888888888,\"#fdca26\"],[1.0,\"#f0f921\"]]}],\"mesh3d\":[{\"type\":\"mesh3d\",\"colorbar\":{\"outlinewidth\":0,\"ticks\":\"\"}}],\"scatter\":[{\"fillpattern\":{\"fillmode\":\"overlay\",\"size\":10,\"solidity\":0.2},\"type\":\"scatter\"}],\"parcoords\":[{\"type\":\"parcoords\",\"line\":{\"colorbar\":{\"outlinewidth\":0,\"ticks\":\"\"}}}],\"scatterpolargl\":[{\"type\":\"scatterpolargl\",\"marker\":{\"colorbar\":{\"outlinewidth\":0,\"ticks\":\"\"}}}],\"bar\":[{\"error_x\":{\"color\":\"#2a3f5f\"},\"error_y\":{\"color\":\"#2a3f5f\"},\"marker\":{\"line\":{\"color\":\"#E5ECF6\",\"width\":0.5},\"pattern\":{\"fillmode\":\"overlay\",\"size\":10,\"solidity\":0.2}},\"type\":\"bar\"}],\"scattergeo\":[{\"type\":\"scattergeo\",\"marker\":{\"colorbar\":{\"outlinewidth\":0,\"ticks\":\"\"}}}],\"scatterpolar\":[{\"type\":\"scatterpolar\",\"marker\":{\"colorbar\":{\"outlinewidth\":0,\"ticks\":\"\"}}}],\"histogram\":[{\"marker\":{\"pattern\":{\"fillmode\":\"overlay\",\"size\":10,\"solidity\":0.2}},\"type\":\"histogram\"}],\"scattergl\":[{\"type\":\"scattergl\",\"marker\":{\"colorbar\":{\"outlinewidth\":0,\"ticks\":\"\"}}}],\"scatter3d\":[{\"type\":\"scatter3d\",\"line\":{\"colorbar\":{\"outlinewidth\":0,\"ticks\":\"\"}},\"marker\":{\"colorbar\":{\"outlinewidth\":0,\"ticks\":\"\"}}}],\"scattermapbox\":[{\"type\":\"scattermapbox\",\"marker\":{\"colorbar\":{\"outlinewidth\":0,\"ticks\":\"\"}}}],\"scatterternary\":[{\"type\":\"scatterternary\",\"marker\":{\"colorbar\":{\"outlinewidth\":0,\"ticks\":\"\"}}}],\"scattercarpet\":[{\"type\":\"scattercarpet\",\"marker\":{\"colorbar\":{\"outlinewidth\":0,\"ticks\":\"\"}}}],\"carpet\":[{\"aaxis\":{\"endlinecolor\":\"#2a3f5f\",\"gridcolor\":\"white\",\"linecolor\":\"white\",\"minorgridcolor\":\"white\",\"startlinecolor\":\"#2a3f5f\"},\"baxis\":{\"endlinecolor\":\"#2a3f5f\",\"gridcolor\":\"white\",\"linecolor\":\"white\",\"minorgridcolor\":\"white\",\"startlinecolor\":\"#2a3f5f\"},\"type\":\"carpet\"}],\"table\":[{\"cells\":{\"fill\":{\"color\":\"#EBF0F8\"},\"line\":{\"color\":\"white\"}},\"header\":{\"fill\":{\"color\":\"#C8D4E3\"},\"line\":{\"color\":\"white\"}},\"type\":\"table\"}],\"barpolar\":[{\"marker\":{\"line\":{\"color\":\"#E5ECF6\",\"width\":0.5},\"pattern\":{\"fillmode\":\"overlay\",\"size\":10,\"solidity\":0.2}},\"type\":\"barpolar\"}],\"pie\":[{\"automargin\":true,\"type\":\"pie\"}]},\"layout\":{\"autotypenumbers\":\"strict\",\"colorway\":[\"#636efa\",\"#EF553B\",\"#00cc96\",\"#ab63fa\",\"#FFA15A\",\"#19d3f3\",\"#FF6692\",\"#B6E880\",\"#FF97FF\",\"#FECB52\"],\"font\":{\"color\":\"#2a3f5f\"},\"hovermode\":\"closest\",\"hoverlabel\":{\"align\":\"left\"},\"paper_bgcolor\":\"white\",\"plot_bgcolor\":\"#E5ECF6\",\"polar\":{\"bgcolor\":\"#E5ECF6\",\"angularaxis\":{\"gridcolor\":\"white\",\"linecolor\":\"white\",\"ticks\":\"\"},\"radialaxis\":{\"gridcolor\":\"white\",\"linecolor\":\"white\",\"ticks\":\"\"}},\"ternary\":{\"bgcolor\":\"#E5ECF6\",\"aaxis\":{\"gridcolor\":\"white\",\"linecolor\":\"white\",\"ticks\":\"\"},\"baxis\":{\"gridcolor\":\"white\",\"linecolor\":\"white\",\"ticks\":\"\"},\"caxis\":{\"gridcolor\":\"white\",\"linecolor\":\"white\",\"ticks\":\"\"}},\"coloraxis\":{\"colorbar\":{\"outlinewidth\":0,\"ticks\":\"\"}},\"colorscale\":{\"sequential\":[[0.0,\"#0d0887\"],[0.1111111111111111,\"#46039f\"],[0.2222222222222222,\"#7201a8\"],[0.3333333333333333,\"#9c179e\"],[0.4444444444444444,\"#bd3786\"],[0.5555555555555556,\"#d8576b\"],[0.6666666666666666,\"#ed7953\"],[0.7777777777777778,\"#fb9f3a\"],[0.8888888888888888,\"#fdca26\"],[1.0,\"#f0f921\"]],\"sequentialminus\":[[0.0,\"#0d0887\"],[0.1111111111111111,\"#46039f\"],[0.2222222222222222,\"#7201a8\"],[0.3333333333333333,\"#9c179e\"],[0.4444444444444444,\"#bd3786\"],[0.5555555555555556,\"#d8576b\"],[0.6666666666666666,\"#ed7953\"],[0.7777777777777778,\"#fb9f3a\"],[0.8888888888888888,\"#fdca26\"],[1.0,\"#f0f921\"]],\"diverging\":[[0,\"#8e0152\"],[0.1,\"#c51b7d\"],[0.2,\"#de77ae\"],[0.3,\"#f1b6da\"],[0.4,\"#fde0ef\"],[0.5,\"#f7f7f7\"],[0.6,\"#e6f5d0\"],[0.7,\"#b8e186\"],[0.8,\"#7fbc41\"],[0.9,\"#4d9221\"],[1,\"#276419\"]]},\"xaxis\":{\"gridcolor\":\"white\",\"linecolor\":\"white\",\"ticks\":\"\",\"title\":{\"standoff\":15},\"zerolinecolor\":\"white\",\"automargin\":true,\"zerolinewidth\":2},\"yaxis\":{\"gridcolor\":\"white\",\"linecolor\":\"white\",\"ticks\":\"\",\"title\":{\"standoff\":15},\"zerolinecolor\":\"white\",\"automargin\":true,\"zerolinewidth\":2},\"scene\":{\"xaxis\":{\"backgroundcolor\":\"#E5ECF6\",\"gridcolor\":\"white\",\"linecolor\":\"white\",\"showbackground\":true,\"ticks\":\"\",\"zerolinecolor\":\"white\",\"gridwidth\":2},\"yaxis\":{\"backgroundcolor\":\"#E5ECF6\",\"gridcolor\":\"white\",\"linecolor\":\"white\",\"showbackground\":true,\"ticks\":\"\",\"zerolinecolor\":\"white\",\"gridwidth\":2},\"zaxis\":{\"backgroundcolor\":\"#E5ECF6\",\"gridcolor\":\"white\",\"linecolor\":\"white\",\"showbackground\":true,\"ticks\":\"\",\"zerolinecolor\":\"white\",\"gridwidth\":2}},\"shapedefaults\":{\"line\":{\"color\":\"#2a3f5f\"}},\"annotationdefaults\":{\"arrowcolor\":\"#2a3f5f\",\"arrowhead\":0,\"arrowwidth\":1},\"geo\":{\"bgcolor\":\"white\",\"landcolor\":\"#E5ECF6\",\"subunitcolor\":\"white\",\"showland\":true,\"showlakes\":true,\"lakecolor\":\"white\"},\"title\":{\"x\":0.05},\"mapbox\":{\"style\":\"light\"}}},\"mapbox\":{\"domain\":{\"x\":[0.0,1.0],\"y\":[0.0,1.0]},\"center\":{\"lat\":51.44741515151516,\"lon\":5.469863636363635},\"zoom\":10,\"style\":\"carto-positron\"},\"legend\":{\"tracegroupgap\":0},\"title\":{\"text\":\"Eindhoven map with latitude, longitude and zipcode\"},\"height\":300,\"margin\":{\"r\":0,\"t\":30,\"l\":0,\"b\":0}},                        {\"responsive\": true}                    ).then(function(){\n",
       "                            \n",
       "var gd = document.getElementById('4e6ea307-9252-4ba5-94bb-a7a31b74366c');\n",
       "var x = new MutationObserver(function (mutations, observer) {{\n",
       "        var display = window.getComputedStyle(gd).display;\n",
       "        if (!display || display === 'none') {{\n",
       "            console.log([gd, 'removed!']);\n",
       "            Plotly.purge(gd);\n",
       "            observer.disconnect();\n",
       "        }}\n",
       "}});\n",
       "\n",
       "// Listen for the removal of the full notebook cells\n",
       "var notebookContainer = gd.closest('#notebook-container');\n",
       "if (notebookContainer) {{\n",
       "    x.observe(notebookContainer, {childList: true});\n",
       "}}\n",
       "\n",
       "// Listen for the clearing of the current output cell\n",
       "var outputEl = gd.closest('.output');\n",
       "if (outputEl) {{\n",
       "    x.observe(outputEl, {childList: true});\n",
       "}}\n",
       "\n",
       "                        })                };                });            </script>        </div>"
      ]
     },
     "metadata": {},
     "output_type": "display_data"
    }
   ],
   "source": [
    "fig = px.scatter_mapbox(zipcodes, \n",
    "                        title=\"Eindhoven map with latitude, longitude and zipcode\", \n",
    "                        lat=\"latitude\", \n",
    "                        lon=\"longitude\", \n",
    "#                         text=\"PC4\", \n",
    "                        hover_name=\"PC4\", \n",
    "                        zoom=10, \n",
    "                        height=300)\n",
    "fig.update_layout(mapbox_style=\"carto-positron\")\n",
    "fig.update_layout(margin={\"r\":0, \"t\":30, \"l\":0, \"b\":0})\n",
    "fig.show()"
   ]
  },
  {
   "cell_type": "markdown",
   "id": "56e5a731",
   "metadata": {},
   "source": [
    "<h4><font color=mediumvioletred>Get min and max number of people per area</font></h4>"
   ]
  },
  {
   "cell_type": "code",
   "execution_count": 126,
   "id": "4d0d7275",
   "metadata": {},
   "outputs": [
    {
     "data": {
      "text/html": [
       "<div>\n",
       "<style scoped>\n",
       "    .dataframe tbody tr th:only-of-type {\n",
       "        vertical-align: middle;\n",
       "    }\n",
       "\n",
       "    .dataframe tbody tr th {\n",
       "        vertical-align: top;\n",
       "    }\n",
       "\n",
       "    .dataframe thead th {\n",
       "        text-align: right;\n",
       "    }\n",
       "</style>\n",
       "<table border=\"1\" class=\"dataframe\">\n",
       "  <thead>\n",
       "    <tr style=\"text-align: right;\">\n",
       "      <th></th>\n",
       "      <th>PC4</th>\n",
       "      <th>max_number_people</th>\n",
       "      <th>min_number_people</th>\n",
       "    </tr>\n",
       "  </thead>\n",
       "  <tbody>\n",
       "    <tr>\n",
       "      <th>0</th>\n",
       "      <td>5611</td>\n",
       "      <td>11617</td>\n",
       "      <td>708</td>\n",
       "    </tr>\n",
       "    <tr>\n",
       "      <th>1</th>\n",
       "      <td>5612</td>\n",
       "      <td>10250</td>\n",
       "      <td>737</td>\n",
       "    </tr>\n",
       "    <tr>\n",
       "      <th>2</th>\n",
       "      <td>5613</td>\n",
       "      <td>5925</td>\n",
       "      <td>537</td>\n",
       "    </tr>\n",
       "    <tr>\n",
       "      <th>3</th>\n",
       "      <td>5614</td>\n",
       "      <td>3504</td>\n",
       "      <td>217</td>\n",
       "    </tr>\n",
       "    <tr>\n",
       "      <th>4</th>\n",
       "      <td>5615</td>\n",
       "      <td>4408</td>\n",
       "      <td>394</td>\n",
       "    </tr>\n",
       "  </tbody>\n",
       "</table>\n",
       "</div>"
      ],
      "text/plain": [
       "    PC4  max_number_people  min_number_people\n",
       "0  5611              11617                708\n",
       "1  5612              10250                737\n",
       "2  5613               5925                537\n",
       "3  5614               3504                217\n",
       "4  5615               4408                394"
      ]
     },
     "execution_count": 126,
     "metadata": {},
     "output_type": "execute_result"
    }
   ],
   "source": [
    "min_max_people_per_area = df_zichtop_air_pollution.groupby([\"PC4\"])[\"pop_tot\"].agg([\"max\", \"min\"]).rename(columns={'max': 'max_number_people', \"min\": \"min_number_people\"}).reset_index()\n",
    "min_max_people_per_area.head(5)"
   ]
  },
  {
   "cell_type": "markdown",
   "id": "25604114",
   "metadata": {},
   "source": [
    "<h4><font color=mediumvioletred>Add latitude, longitude data to the min_max_people_per_area dataframe </font></h4>"
   ]
  },
  {
   "cell_type": "code",
   "execution_count": 127,
   "id": "1e158bc0",
   "metadata": {},
   "outputs": [],
   "source": [
    "min_max_people_per_area[\"latitude\"] = min_max_people_per_area[\"PC4\"].apply(lambda x: nomi.query_postal_code(x)[9])\n",
    "min_max_people_per_area[\"longitude\"] = min_max_people_per_area[\"PC4\"].apply(lambda x: nomi.query_postal_code(x)[10])"
   ]
  },
  {
   "cell_type": "markdown",
   "id": "32bae4b3",
   "metadata": {},
   "source": [
    "<h4><font color=mediumvioletred>Convert PC4 column to a string so that the circles appear on the map </font></h4>"
   ]
  },
  {
   "cell_type": "code",
   "execution_count": 128,
   "id": "3185b2f4",
   "metadata": {},
   "outputs": [],
   "source": [
    "min_max_people_per_area[\"PC4\"] = min_max_people_per_area[\"PC4\"].astype(\"str\")"
   ]
  },
  {
   "cell_type": "markdown",
   "id": "6014408d",
   "metadata": {},
   "source": [
    "<h4><font color=mediumvioletred>Get sample of min_max_people_per_area </font></h4>"
   ]
  },
  {
   "cell_type": "code",
   "execution_count": 129,
   "id": "cdb42c2d",
   "metadata": {},
   "outputs": [
    {
     "data": {
      "text/html": [
       "<div>\n",
       "<style scoped>\n",
       "    .dataframe tbody tr th:only-of-type {\n",
       "        vertical-align: middle;\n",
       "    }\n",
       "\n",
       "    .dataframe tbody tr th {\n",
       "        vertical-align: top;\n",
       "    }\n",
       "\n",
       "    .dataframe thead th {\n",
       "        text-align: right;\n",
       "    }\n",
       "</style>\n",
       "<table border=\"1\" class=\"dataframe\">\n",
       "  <thead>\n",
       "    <tr style=\"text-align: right;\">\n",
       "      <th></th>\n",
       "      <th>PC4</th>\n",
       "      <th>max_number_people</th>\n",
       "      <th>min_number_people</th>\n",
       "      <th>latitude</th>\n",
       "      <th>longitude</th>\n",
       "    </tr>\n",
       "  </thead>\n",
       "  <tbody>\n",
       "    <tr>\n",
       "      <th>4</th>\n",
       "      <td>5615</td>\n",
       "      <td>4408</td>\n",
       "      <td>394</td>\n",
       "      <td>51.4293</td>\n",
       "      <td>5.4746</td>\n",
       "    </tr>\n",
       "    <tr>\n",
       "      <th>3</th>\n",
       "      <td>5614</td>\n",
       "      <td>3504</td>\n",
       "      <td>217</td>\n",
       "      <td>51.4284</td>\n",
       "      <td>5.4921</td>\n",
       "    </tr>\n",
       "    <tr>\n",
       "      <th>31</th>\n",
       "      <td>5657</td>\n",
       "      <td>7759</td>\n",
       "      <td>143</td>\n",
       "      <td>51.4512</td>\n",
       "      <td>5.4008</td>\n",
       "    </tr>\n",
       "    <tr>\n",
       "      <th>10</th>\n",
       "      <td>5624</td>\n",
       "      <td>4101</td>\n",
       "      <td>648</td>\n",
       "      <td>51.4696</td>\n",
       "      <td>5.4570</td>\n",
       "    </tr>\n",
       "    <tr>\n",
       "      <th>29</th>\n",
       "      <td>5655</td>\n",
       "      <td>3005</td>\n",
       "      <td>476</td>\n",
       "      <td>51.4152</td>\n",
       "      <td>5.4399</td>\n",
       "    </tr>\n",
       "  </tbody>\n",
       "</table>\n",
       "</div>"
      ],
      "text/plain": [
       "     PC4  max_number_people  min_number_people  latitude  longitude\n",
       "4   5615               4408                394   51.4293     5.4746\n",
       "3   5614               3504                217   51.4284     5.4921\n",
       "31  5657               7759                143   51.4512     5.4008\n",
       "10  5624               4101                648   51.4696     5.4570\n",
       "29  5655               3005                476   51.4152     5.4399"
      ]
     },
     "execution_count": 129,
     "metadata": {},
     "output_type": "execute_result"
    }
   ],
   "source": [
    "min_max_people_per_area.sample(5)"
   ]
  },
  {
   "cell_type": "markdown",
   "id": "d3babcf3",
   "metadata": {},
   "source": [
    "<h4><font color=mediumvioletred>Plot the map with the latitude, longitude, zipcode, minimum and maximum number of people in Eindhoven</font></h4>"
   ]
  },
  {
   "cell_type": "code",
   "execution_count": 130,
   "id": "83bfea27",
   "metadata": {
    "scrolled": true
   },
   "outputs": [
    {
     "data": {
      "application/vnd.plotly.v1+json": {
       "config": {
        "plotlyServerURL": "https://plot.ly"
       },
       "data": [
        {
         "customdata": [
          [
           708
          ],
          [
           737
          ],
          [
           537
          ],
          [
           217
          ],
          [
           394
          ],
          [
           724
          ],
          [
           76
          ],
          [
           379
          ],
          [
           630
          ],
          [
           698
          ],
          [
           648
          ],
          [
           606
          ],
          [
           648
          ],
          [
           1219
          ],
          [
           945
          ],
          [
           891
          ],
          [
           335
          ],
          [
           910
          ],
          [
           34
          ],
          [
           513
          ],
          [
           533
          ],
          [
           661
          ],
          [
           576
          ],
          [
           306
          ],
          [
           112
          ],
          [
           379
          ],
          [
           776
          ],
          [
           617
          ],
          [
           733
          ],
          [
           476
          ],
          [
           72
          ],
          [
           143
          ],
          [
           815
          ]
         ],
         "hovertemplate": "<b>%{hovertext}</b><br><br>max_number_people=%{marker.color}<br>latitude=%{lat}<br>longitude=%{lon}<br>min_number_people=%{customdata[0]}<extra></extra>",
         "hovertext": [
          "5611",
          "5612",
          "5613",
          "5614",
          "5615",
          "5616",
          "5617",
          "5621",
          "5622",
          "5623",
          "5624",
          "5625",
          "5626",
          "5627",
          "5628",
          "5629",
          "5631",
          "5632",
          "5633",
          "5641",
          "5642",
          "5643",
          "5644",
          "5645",
          "5646",
          "5651",
          "5652",
          "5653",
          "5654",
          "5655",
          "5656",
          "5657",
          "5658"
         ],
         "lat": [
          51.4366,
          51.4484,
          51.4387,
          51.4284,
          51.4293,
          51.4396,
          51.447,
          51.4549,
          51.4593,
          51.4595,
          51.4696,
          51.4719,
          51.4781,
          51.4853,
          51.4801,
          51.4884,
          51.4605,
          51.4767,
          51.4899,
          51.4466,
          51.4389,
          51.4235,
          51.4183,
          51.4242,
          51.4184,
          51.45,
          51.4394,
          51.4236,
          51.4215,
          51.4152,
          51.4112,
          51.4512,
          51.4405
         ],
         "legendgroup": "",
         "lon": [
          5.4801,
          5.4727,
          5.4969,
          5.4921,
          5.4746,
          5.4592,
          5.4573,
          5.457,
          5.4644,
          5.4782,
          5.457,
          5.4754,
          5.4302,
          5.444,
          5.4724,
          5.4734,
          5.4945,
          5.4956,
          5.4954,
          5.5198,
          5.5144,
          5.5011,
          5.4887,
          5.5109,
          5.5095,
          5.4433,
          5.438,
          5.4446,
          5.4582,
          5.4399,
          5.4561,
          5.4008,
          5.4098
         ],
         "marker": {
          "color": [
           11617,
           10250,
           5925,
           3504,
           4408,
           9085,
           4162,
           3537,
           3531,
           7457,
           4101,
           5919,
           6302,
           6192,
           5903,
           5533,
           6927,
           4871,
           3426,
           3851,
           3425,
           4554,
           7608,
           2173,
           3581,
           8250,
           8345,
           5221,
           4367,
           3005,
           7283,
           7759,
           3758
          ],
          "coloraxis": "coloraxis",
          "size": [
           11617,
           10250,
           5925,
           3504,
           4408,
           9085,
           4162,
           3537,
           3531,
           7457,
           4101,
           5919,
           6302,
           6192,
           5903,
           5533,
           6927,
           4871,
           3426,
           3851,
           3425,
           4554,
           7608,
           2173,
           3581,
           8250,
           8345,
           5221,
           4367,
           3005,
           7283,
           7759,
           3758
          ],
          "sizemode": "area",
          "sizeref": 51.63111111111111
         },
         "mode": "markers",
         "name": "",
         "showlegend": false,
         "subplot": "mapbox",
         "type": "scattermapbox"
        }
       ],
       "layout": {
        "coloraxis": {
         "colorbar": {
          "title": {
           "text": "max_number_people"
          }
         },
         "colorscale": [
          [
           0,
           "rgb(23, 28, 66)"
          ],
          [
           0.09090909090909091,
           "rgb(41, 58, 143)"
          ],
          [
           0.18181818181818182,
           "rgb(11, 102, 189)"
          ],
          [
           0.2727272727272727,
           "rgb(69, 144, 185)"
          ],
          [
           0.36363636363636365,
           "rgb(142, 181, 194)"
          ],
          [
           0.45454545454545453,
           "rgb(210, 216, 219)"
          ],
          [
           0.5454545454545454,
           "rgb(230, 210, 204)"
          ],
          [
           0.6363636363636364,
           "rgb(213, 157, 137)"
          ],
          [
           0.7272727272727273,
           "rgb(196, 101, 72)"
          ],
          [
           0.8181818181818182,
           "rgb(172, 43, 36)"
          ],
          [
           0.9090909090909091,
           "rgb(120, 14, 40)"
          ],
          [
           1,
           "rgb(60, 9, 17)"
          ]
         ]
        },
        "height": 300,
        "legend": {
         "itemsizing": "constant",
         "tracegroupgap": 0
        },
        "mapbox": {
         "center": {
          "lat": 51.44741515151516,
          "lon": 5.469863636363635
         },
         "domain": {
          "x": [
           0,
           1
          ],
          "y": [
           0,
           1
          ]
         },
         "style": "carto-positron",
         "zoom": 10
        },
        "margin": {
         "b": 0,
         "l": 0,
         "r": 0,
         "t": 30
        },
        "template": {
         "data": {
          "bar": [
           {
            "error_x": {
             "color": "#2a3f5f"
            },
            "error_y": {
             "color": "#2a3f5f"
            },
            "marker": {
             "line": {
              "color": "#E5ECF6",
              "width": 0.5
             },
             "pattern": {
              "fillmode": "overlay",
              "size": 10,
              "solidity": 0.2
             }
            },
            "type": "bar"
           }
          ],
          "barpolar": [
           {
            "marker": {
             "line": {
              "color": "#E5ECF6",
              "width": 0.5
             },
             "pattern": {
              "fillmode": "overlay",
              "size": 10,
              "solidity": 0.2
             }
            },
            "type": "barpolar"
           }
          ],
          "carpet": [
           {
            "aaxis": {
             "endlinecolor": "#2a3f5f",
             "gridcolor": "white",
             "linecolor": "white",
             "minorgridcolor": "white",
             "startlinecolor": "#2a3f5f"
            },
            "baxis": {
             "endlinecolor": "#2a3f5f",
             "gridcolor": "white",
             "linecolor": "white",
             "minorgridcolor": "white",
             "startlinecolor": "#2a3f5f"
            },
            "type": "carpet"
           }
          ],
          "choropleth": [
           {
            "colorbar": {
             "outlinewidth": 0,
             "ticks": ""
            },
            "type": "choropleth"
           }
          ],
          "contour": [
           {
            "colorbar": {
             "outlinewidth": 0,
             "ticks": ""
            },
            "colorscale": [
             [
              0,
              "#0d0887"
             ],
             [
              0.1111111111111111,
              "#46039f"
             ],
             [
              0.2222222222222222,
              "#7201a8"
             ],
             [
              0.3333333333333333,
              "#9c179e"
             ],
             [
              0.4444444444444444,
              "#bd3786"
             ],
             [
              0.5555555555555556,
              "#d8576b"
             ],
             [
              0.6666666666666666,
              "#ed7953"
             ],
             [
              0.7777777777777778,
              "#fb9f3a"
             ],
             [
              0.8888888888888888,
              "#fdca26"
             ],
             [
              1,
              "#f0f921"
             ]
            ],
            "type": "contour"
           }
          ],
          "contourcarpet": [
           {
            "colorbar": {
             "outlinewidth": 0,
             "ticks": ""
            },
            "type": "contourcarpet"
           }
          ],
          "heatmap": [
           {
            "colorbar": {
             "outlinewidth": 0,
             "ticks": ""
            },
            "colorscale": [
             [
              0,
              "#0d0887"
             ],
             [
              0.1111111111111111,
              "#46039f"
             ],
             [
              0.2222222222222222,
              "#7201a8"
             ],
             [
              0.3333333333333333,
              "#9c179e"
             ],
             [
              0.4444444444444444,
              "#bd3786"
             ],
             [
              0.5555555555555556,
              "#d8576b"
             ],
             [
              0.6666666666666666,
              "#ed7953"
             ],
             [
              0.7777777777777778,
              "#fb9f3a"
             ],
             [
              0.8888888888888888,
              "#fdca26"
             ],
             [
              1,
              "#f0f921"
             ]
            ],
            "type": "heatmap"
           }
          ],
          "heatmapgl": [
           {
            "colorbar": {
             "outlinewidth": 0,
             "ticks": ""
            },
            "colorscale": [
             [
              0,
              "#0d0887"
             ],
             [
              0.1111111111111111,
              "#46039f"
             ],
             [
              0.2222222222222222,
              "#7201a8"
             ],
             [
              0.3333333333333333,
              "#9c179e"
             ],
             [
              0.4444444444444444,
              "#bd3786"
             ],
             [
              0.5555555555555556,
              "#d8576b"
             ],
             [
              0.6666666666666666,
              "#ed7953"
             ],
             [
              0.7777777777777778,
              "#fb9f3a"
             ],
             [
              0.8888888888888888,
              "#fdca26"
             ],
             [
              1,
              "#f0f921"
             ]
            ],
            "type": "heatmapgl"
           }
          ],
          "histogram": [
           {
            "marker": {
             "pattern": {
              "fillmode": "overlay",
              "size": 10,
              "solidity": 0.2
             }
            },
            "type": "histogram"
           }
          ],
          "histogram2d": [
           {
            "colorbar": {
             "outlinewidth": 0,
             "ticks": ""
            },
            "colorscale": [
             [
              0,
              "#0d0887"
             ],
             [
              0.1111111111111111,
              "#46039f"
             ],
             [
              0.2222222222222222,
              "#7201a8"
             ],
             [
              0.3333333333333333,
              "#9c179e"
             ],
             [
              0.4444444444444444,
              "#bd3786"
             ],
             [
              0.5555555555555556,
              "#d8576b"
             ],
             [
              0.6666666666666666,
              "#ed7953"
             ],
             [
              0.7777777777777778,
              "#fb9f3a"
             ],
             [
              0.8888888888888888,
              "#fdca26"
             ],
             [
              1,
              "#f0f921"
             ]
            ],
            "type": "histogram2d"
           }
          ],
          "histogram2dcontour": [
           {
            "colorbar": {
             "outlinewidth": 0,
             "ticks": ""
            },
            "colorscale": [
             [
              0,
              "#0d0887"
             ],
             [
              0.1111111111111111,
              "#46039f"
             ],
             [
              0.2222222222222222,
              "#7201a8"
             ],
             [
              0.3333333333333333,
              "#9c179e"
             ],
             [
              0.4444444444444444,
              "#bd3786"
             ],
             [
              0.5555555555555556,
              "#d8576b"
             ],
             [
              0.6666666666666666,
              "#ed7953"
             ],
             [
              0.7777777777777778,
              "#fb9f3a"
             ],
             [
              0.8888888888888888,
              "#fdca26"
             ],
             [
              1,
              "#f0f921"
             ]
            ],
            "type": "histogram2dcontour"
           }
          ],
          "mesh3d": [
           {
            "colorbar": {
             "outlinewidth": 0,
             "ticks": ""
            },
            "type": "mesh3d"
           }
          ],
          "parcoords": [
           {
            "line": {
             "colorbar": {
              "outlinewidth": 0,
              "ticks": ""
             }
            },
            "type": "parcoords"
           }
          ],
          "pie": [
           {
            "automargin": true,
            "type": "pie"
           }
          ],
          "scatter": [
           {
            "fillpattern": {
             "fillmode": "overlay",
             "size": 10,
             "solidity": 0.2
            },
            "type": "scatter"
           }
          ],
          "scatter3d": [
           {
            "line": {
             "colorbar": {
              "outlinewidth": 0,
              "ticks": ""
             }
            },
            "marker": {
             "colorbar": {
              "outlinewidth": 0,
              "ticks": ""
             }
            },
            "type": "scatter3d"
           }
          ],
          "scattercarpet": [
           {
            "marker": {
             "colorbar": {
              "outlinewidth": 0,
              "ticks": ""
             }
            },
            "type": "scattercarpet"
           }
          ],
          "scattergeo": [
           {
            "marker": {
             "colorbar": {
              "outlinewidth": 0,
              "ticks": ""
             }
            },
            "type": "scattergeo"
           }
          ],
          "scattergl": [
           {
            "marker": {
             "colorbar": {
              "outlinewidth": 0,
              "ticks": ""
             }
            },
            "type": "scattergl"
           }
          ],
          "scattermapbox": [
           {
            "marker": {
             "colorbar": {
              "outlinewidth": 0,
              "ticks": ""
             }
            },
            "type": "scattermapbox"
           }
          ],
          "scatterpolar": [
           {
            "marker": {
             "colorbar": {
              "outlinewidth": 0,
              "ticks": ""
             }
            },
            "type": "scatterpolar"
           }
          ],
          "scatterpolargl": [
           {
            "marker": {
             "colorbar": {
              "outlinewidth": 0,
              "ticks": ""
             }
            },
            "type": "scatterpolargl"
           }
          ],
          "scatterternary": [
           {
            "marker": {
             "colorbar": {
              "outlinewidth": 0,
              "ticks": ""
             }
            },
            "type": "scatterternary"
           }
          ],
          "surface": [
           {
            "colorbar": {
             "outlinewidth": 0,
             "ticks": ""
            },
            "colorscale": [
             [
              0,
              "#0d0887"
             ],
             [
              0.1111111111111111,
              "#46039f"
             ],
             [
              0.2222222222222222,
              "#7201a8"
             ],
             [
              0.3333333333333333,
              "#9c179e"
             ],
             [
              0.4444444444444444,
              "#bd3786"
             ],
             [
              0.5555555555555556,
              "#d8576b"
             ],
             [
              0.6666666666666666,
              "#ed7953"
             ],
             [
              0.7777777777777778,
              "#fb9f3a"
             ],
             [
              0.8888888888888888,
              "#fdca26"
             ],
             [
              1,
              "#f0f921"
             ]
            ],
            "type": "surface"
           }
          ],
          "table": [
           {
            "cells": {
             "fill": {
              "color": "#EBF0F8"
             },
             "line": {
              "color": "white"
             }
            },
            "header": {
             "fill": {
              "color": "#C8D4E3"
             },
             "line": {
              "color": "white"
             }
            },
            "type": "table"
           }
          ]
         },
         "layout": {
          "annotationdefaults": {
           "arrowcolor": "#2a3f5f",
           "arrowhead": 0,
           "arrowwidth": 1
          },
          "autotypenumbers": "strict",
          "coloraxis": {
           "colorbar": {
            "outlinewidth": 0,
            "ticks": ""
           }
          },
          "colorscale": {
           "diverging": [
            [
             0,
             "#8e0152"
            ],
            [
             0.1,
             "#c51b7d"
            ],
            [
             0.2,
             "#de77ae"
            ],
            [
             0.3,
             "#f1b6da"
            ],
            [
             0.4,
             "#fde0ef"
            ],
            [
             0.5,
             "#f7f7f7"
            ],
            [
             0.6,
             "#e6f5d0"
            ],
            [
             0.7,
             "#b8e186"
            ],
            [
             0.8,
             "#7fbc41"
            ],
            [
             0.9,
             "#4d9221"
            ],
            [
             1,
             "#276419"
            ]
           ],
           "sequential": [
            [
             0,
             "#0d0887"
            ],
            [
             0.1111111111111111,
             "#46039f"
            ],
            [
             0.2222222222222222,
             "#7201a8"
            ],
            [
             0.3333333333333333,
             "#9c179e"
            ],
            [
             0.4444444444444444,
             "#bd3786"
            ],
            [
             0.5555555555555556,
             "#d8576b"
            ],
            [
             0.6666666666666666,
             "#ed7953"
            ],
            [
             0.7777777777777778,
             "#fb9f3a"
            ],
            [
             0.8888888888888888,
             "#fdca26"
            ],
            [
             1,
             "#f0f921"
            ]
           ],
           "sequentialminus": [
            [
             0,
             "#0d0887"
            ],
            [
             0.1111111111111111,
             "#46039f"
            ],
            [
             0.2222222222222222,
             "#7201a8"
            ],
            [
             0.3333333333333333,
             "#9c179e"
            ],
            [
             0.4444444444444444,
             "#bd3786"
            ],
            [
             0.5555555555555556,
             "#d8576b"
            ],
            [
             0.6666666666666666,
             "#ed7953"
            ],
            [
             0.7777777777777778,
             "#fb9f3a"
            ],
            [
             0.8888888888888888,
             "#fdca26"
            ],
            [
             1,
             "#f0f921"
            ]
           ]
          },
          "colorway": [
           "#636efa",
           "#EF553B",
           "#00cc96",
           "#ab63fa",
           "#FFA15A",
           "#19d3f3",
           "#FF6692",
           "#B6E880",
           "#FF97FF",
           "#FECB52"
          ],
          "font": {
           "color": "#2a3f5f"
          },
          "geo": {
           "bgcolor": "white",
           "lakecolor": "white",
           "landcolor": "#E5ECF6",
           "showlakes": true,
           "showland": true,
           "subunitcolor": "white"
          },
          "hoverlabel": {
           "align": "left"
          },
          "hovermode": "closest",
          "mapbox": {
           "style": "light"
          },
          "paper_bgcolor": "white",
          "plot_bgcolor": "#E5ECF6",
          "polar": {
           "angularaxis": {
            "gridcolor": "white",
            "linecolor": "white",
            "ticks": ""
           },
           "bgcolor": "#E5ECF6",
           "radialaxis": {
            "gridcolor": "white",
            "linecolor": "white",
            "ticks": ""
           }
          },
          "scene": {
           "xaxis": {
            "backgroundcolor": "#E5ECF6",
            "gridcolor": "white",
            "gridwidth": 2,
            "linecolor": "white",
            "showbackground": true,
            "ticks": "",
            "zerolinecolor": "white"
           },
           "yaxis": {
            "backgroundcolor": "#E5ECF6",
            "gridcolor": "white",
            "gridwidth": 2,
            "linecolor": "white",
            "showbackground": true,
            "ticks": "",
            "zerolinecolor": "white"
           },
           "zaxis": {
            "backgroundcolor": "#E5ECF6",
            "gridcolor": "white",
            "gridwidth": 2,
            "linecolor": "white",
            "showbackground": true,
            "ticks": "",
            "zerolinecolor": "white"
           }
          },
          "shapedefaults": {
           "line": {
            "color": "#2a3f5f"
           }
          },
          "ternary": {
           "aaxis": {
            "gridcolor": "white",
            "linecolor": "white",
            "ticks": ""
           },
           "baxis": {
            "gridcolor": "white",
            "linecolor": "white",
            "ticks": ""
           },
           "bgcolor": "#E5ECF6",
           "caxis": {
            "gridcolor": "white",
            "linecolor": "white",
            "ticks": ""
           }
          },
          "title": {
           "x": 0.05
          },
          "xaxis": {
           "automargin": true,
           "gridcolor": "white",
           "linecolor": "white",
           "ticks": "",
           "title": {
            "standoff": 15
           },
           "zerolinecolor": "white",
           "zerolinewidth": 2
          },
          "yaxis": {
           "automargin": true,
           "gridcolor": "white",
           "linecolor": "white",
           "ticks": "",
           "title": {
            "standoff": 15
           },
           "zerolinecolor": "white",
           "zerolinewidth": 2
          }
         }
        },
        "title": {
         "text": "Eindhoven map with latitude, longitude, zipcode, maximum and minimum number of people"
        }
       }
      },
      "text/html": [
       "<div>                            <div id=\"84577108-7b5f-4629-940d-323ba78124a3\" class=\"plotly-graph-div\" style=\"height:300px; width:100%;\"></div>            <script type=\"text/javascript\">                require([\"plotly\"], function(Plotly) {                    window.PLOTLYENV=window.PLOTLYENV || {};                                    if (document.getElementById(\"84577108-7b5f-4629-940d-323ba78124a3\")) {                    Plotly.newPlot(                        \"84577108-7b5f-4629-940d-323ba78124a3\",                        [{\"customdata\":[[708],[737],[537],[217],[394],[724],[76],[379],[630],[698],[648],[606],[648],[1219],[945],[891],[335],[910],[34],[513],[533],[661],[576],[306],[112],[379],[776],[617],[733],[476],[72],[143],[815]],\"hovertemplate\":\"<b>%{hovertext}</b><br><br>max_number_people=%{marker.color}<br>latitude=%{lat}<br>longitude=%{lon}<br>min_number_people=%{customdata[0]}<extra></extra>\",\"hovertext\":[\"5611\",\"5612\",\"5613\",\"5614\",\"5615\",\"5616\",\"5617\",\"5621\",\"5622\",\"5623\",\"5624\",\"5625\",\"5626\",\"5627\",\"5628\",\"5629\",\"5631\",\"5632\",\"5633\",\"5641\",\"5642\",\"5643\",\"5644\",\"5645\",\"5646\",\"5651\",\"5652\",\"5653\",\"5654\",\"5655\",\"5656\",\"5657\",\"5658\"],\"lat\":[51.4366,51.4484,51.4387,51.4284,51.4293,51.4396,51.447,51.4549,51.4593,51.4595,51.4696,51.4719,51.4781,51.4853,51.4801,51.4884,51.4605,51.4767,51.4899,51.4466,51.4389,51.4235,51.4183,51.4242,51.4184,51.45,51.4394,51.4236,51.4215,51.4152,51.4112,51.4512,51.4405],\"legendgroup\":\"\",\"lon\":[5.4801,5.4727,5.4969,5.4921,5.4746,5.4592,5.4573,5.457,5.4644,5.4782,5.457,5.4754,5.4302,5.444,5.4724,5.4734,5.4945,5.4956,5.4954,5.5198,5.5144,5.5011,5.4887,5.5109,5.5095,5.4433,5.438,5.4446,5.4582,5.4399,5.4561,5.4008,5.4098],\"marker\":{\"color\":[11617,10250,5925,3504,4408,9085,4162,3537,3531,7457,4101,5919,6302,6192,5903,5533,6927,4871,3426,3851,3425,4554,7608,2173,3581,8250,8345,5221,4367,3005,7283,7759,3758],\"coloraxis\":\"coloraxis\",\"size\":[11617,10250,5925,3504,4408,9085,4162,3537,3531,7457,4101,5919,6302,6192,5903,5533,6927,4871,3426,3851,3425,4554,7608,2173,3581,8250,8345,5221,4367,3005,7283,7759,3758],\"sizemode\":\"area\",\"sizeref\":51.63111111111111},\"mode\":\"markers\",\"name\":\"\",\"showlegend\":false,\"subplot\":\"mapbox\",\"type\":\"scattermapbox\"}],                        {\"template\":{\"data\":{\"histogram2dcontour\":[{\"type\":\"histogram2dcontour\",\"colorbar\":{\"outlinewidth\":0,\"ticks\":\"\"},\"colorscale\":[[0.0,\"#0d0887\"],[0.1111111111111111,\"#46039f\"],[0.2222222222222222,\"#7201a8\"],[0.3333333333333333,\"#9c179e\"],[0.4444444444444444,\"#bd3786\"],[0.5555555555555556,\"#d8576b\"],[0.6666666666666666,\"#ed7953\"],[0.7777777777777778,\"#fb9f3a\"],[0.8888888888888888,\"#fdca26\"],[1.0,\"#f0f921\"]]}],\"choropleth\":[{\"type\":\"choropleth\",\"colorbar\":{\"outlinewidth\":0,\"ticks\":\"\"}}],\"histogram2d\":[{\"type\":\"histogram2d\",\"colorbar\":{\"outlinewidth\":0,\"ticks\":\"\"},\"colorscale\":[[0.0,\"#0d0887\"],[0.1111111111111111,\"#46039f\"],[0.2222222222222222,\"#7201a8\"],[0.3333333333333333,\"#9c179e\"],[0.4444444444444444,\"#bd3786\"],[0.5555555555555556,\"#d8576b\"],[0.6666666666666666,\"#ed7953\"],[0.7777777777777778,\"#fb9f3a\"],[0.8888888888888888,\"#fdca26\"],[1.0,\"#f0f921\"]]}],\"heatmap\":[{\"type\":\"heatmap\",\"colorbar\":{\"outlinewidth\":0,\"ticks\":\"\"},\"colorscale\":[[0.0,\"#0d0887\"],[0.1111111111111111,\"#46039f\"],[0.2222222222222222,\"#7201a8\"],[0.3333333333333333,\"#9c179e\"],[0.4444444444444444,\"#bd3786\"],[0.5555555555555556,\"#d8576b\"],[0.6666666666666666,\"#ed7953\"],[0.7777777777777778,\"#fb9f3a\"],[0.8888888888888888,\"#fdca26\"],[1.0,\"#f0f921\"]]}],\"heatmapgl\":[{\"type\":\"heatmapgl\",\"colorbar\":{\"outlinewidth\":0,\"ticks\":\"\"},\"colorscale\":[[0.0,\"#0d0887\"],[0.1111111111111111,\"#46039f\"],[0.2222222222222222,\"#7201a8\"],[0.3333333333333333,\"#9c179e\"],[0.4444444444444444,\"#bd3786\"],[0.5555555555555556,\"#d8576b\"],[0.6666666666666666,\"#ed7953\"],[0.7777777777777778,\"#fb9f3a\"],[0.8888888888888888,\"#fdca26\"],[1.0,\"#f0f921\"]]}],\"contourcarpet\":[{\"type\":\"contourcarpet\",\"colorbar\":{\"outlinewidth\":0,\"ticks\":\"\"}}],\"contour\":[{\"type\":\"contour\",\"colorbar\":{\"outlinewidth\":0,\"ticks\":\"\"},\"colorscale\":[[0.0,\"#0d0887\"],[0.1111111111111111,\"#46039f\"],[0.2222222222222222,\"#7201a8\"],[0.3333333333333333,\"#9c179e\"],[0.4444444444444444,\"#bd3786\"],[0.5555555555555556,\"#d8576b\"],[0.6666666666666666,\"#ed7953\"],[0.7777777777777778,\"#fb9f3a\"],[0.8888888888888888,\"#fdca26\"],[1.0,\"#f0f921\"]]}],\"surface\":[{\"type\":\"surface\",\"colorbar\":{\"outlinewidth\":0,\"ticks\":\"\"},\"colorscale\":[[0.0,\"#0d0887\"],[0.1111111111111111,\"#46039f\"],[0.2222222222222222,\"#7201a8\"],[0.3333333333333333,\"#9c179e\"],[0.4444444444444444,\"#bd3786\"],[0.5555555555555556,\"#d8576b\"],[0.6666666666666666,\"#ed7953\"],[0.7777777777777778,\"#fb9f3a\"],[0.8888888888888888,\"#fdca26\"],[1.0,\"#f0f921\"]]}],\"mesh3d\":[{\"type\":\"mesh3d\",\"colorbar\":{\"outlinewidth\":0,\"ticks\":\"\"}}],\"scatter\":[{\"fillpattern\":{\"fillmode\":\"overlay\",\"size\":10,\"solidity\":0.2},\"type\":\"scatter\"}],\"parcoords\":[{\"type\":\"parcoords\",\"line\":{\"colorbar\":{\"outlinewidth\":0,\"ticks\":\"\"}}}],\"scatterpolargl\":[{\"type\":\"scatterpolargl\",\"marker\":{\"colorbar\":{\"outlinewidth\":0,\"ticks\":\"\"}}}],\"bar\":[{\"error_x\":{\"color\":\"#2a3f5f\"},\"error_y\":{\"color\":\"#2a3f5f\"},\"marker\":{\"line\":{\"color\":\"#E5ECF6\",\"width\":0.5},\"pattern\":{\"fillmode\":\"overlay\",\"size\":10,\"solidity\":0.2}},\"type\":\"bar\"}],\"scattergeo\":[{\"type\":\"scattergeo\",\"marker\":{\"colorbar\":{\"outlinewidth\":0,\"ticks\":\"\"}}}],\"scatterpolar\":[{\"type\":\"scatterpolar\",\"marker\":{\"colorbar\":{\"outlinewidth\":0,\"ticks\":\"\"}}}],\"histogram\":[{\"marker\":{\"pattern\":{\"fillmode\":\"overlay\",\"size\":10,\"solidity\":0.2}},\"type\":\"histogram\"}],\"scattergl\":[{\"type\":\"scattergl\",\"marker\":{\"colorbar\":{\"outlinewidth\":0,\"ticks\":\"\"}}}],\"scatter3d\":[{\"type\":\"scatter3d\",\"line\":{\"colorbar\":{\"outlinewidth\":0,\"ticks\":\"\"}},\"marker\":{\"colorbar\":{\"outlinewidth\":0,\"ticks\":\"\"}}}],\"scattermapbox\":[{\"type\":\"scattermapbox\",\"marker\":{\"colorbar\":{\"outlinewidth\":0,\"ticks\":\"\"}}}],\"scatterternary\":[{\"type\":\"scatterternary\",\"marker\":{\"colorbar\":{\"outlinewidth\":0,\"ticks\":\"\"}}}],\"scattercarpet\":[{\"type\":\"scattercarpet\",\"marker\":{\"colorbar\":{\"outlinewidth\":0,\"ticks\":\"\"}}}],\"carpet\":[{\"aaxis\":{\"endlinecolor\":\"#2a3f5f\",\"gridcolor\":\"white\",\"linecolor\":\"white\",\"minorgridcolor\":\"white\",\"startlinecolor\":\"#2a3f5f\"},\"baxis\":{\"endlinecolor\":\"#2a3f5f\",\"gridcolor\":\"white\",\"linecolor\":\"white\",\"minorgridcolor\":\"white\",\"startlinecolor\":\"#2a3f5f\"},\"type\":\"carpet\"}],\"table\":[{\"cells\":{\"fill\":{\"color\":\"#EBF0F8\"},\"line\":{\"color\":\"white\"}},\"header\":{\"fill\":{\"color\":\"#C8D4E3\"},\"line\":{\"color\":\"white\"}},\"type\":\"table\"}],\"barpolar\":[{\"marker\":{\"line\":{\"color\":\"#E5ECF6\",\"width\":0.5},\"pattern\":{\"fillmode\":\"overlay\",\"size\":10,\"solidity\":0.2}},\"type\":\"barpolar\"}],\"pie\":[{\"automargin\":true,\"type\":\"pie\"}]},\"layout\":{\"autotypenumbers\":\"strict\",\"colorway\":[\"#636efa\",\"#EF553B\",\"#00cc96\",\"#ab63fa\",\"#FFA15A\",\"#19d3f3\",\"#FF6692\",\"#B6E880\",\"#FF97FF\",\"#FECB52\"],\"font\":{\"color\":\"#2a3f5f\"},\"hovermode\":\"closest\",\"hoverlabel\":{\"align\":\"left\"},\"paper_bgcolor\":\"white\",\"plot_bgcolor\":\"#E5ECF6\",\"polar\":{\"bgcolor\":\"#E5ECF6\",\"angularaxis\":{\"gridcolor\":\"white\",\"linecolor\":\"white\",\"ticks\":\"\"},\"radialaxis\":{\"gridcolor\":\"white\",\"linecolor\":\"white\",\"ticks\":\"\"}},\"ternary\":{\"bgcolor\":\"#E5ECF6\",\"aaxis\":{\"gridcolor\":\"white\",\"linecolor\":\"white\",\"ticks\":\"\"},\"baxis\":{\"gridcolor\":\"white\",\"linecolor\":\"white\",\"ticks\":\"\"},\"caxis\":{\"gridcolor\":\"white\",\"linecolor\":\"white\",\"ticks\":\"\"}},\"coloraxis\":{\"colorbar\":{\"outlinewidth\":0,\"ticks\":\"\"}},\"colorscale\":{\"sequential\":[[0.0,\"#0d0887\"],[0.1111111111111111,\"#46039f\"],[0.2222222222222222,\"#7201a8\"],[0.3333333333333333,\"#9c179e\"],[0.4444444444444444,\"#bd3786\"],[0.5555555555555556,\"#d8576b\"],[0.6666666666666666,\"#ed7953\"],[0.7777777777777778,\"#fb9f3a\"],[0.8888888888888888,\"#fdca26\"],[1.0,\"#f0f921\"]],\"sequentialminus\":[[0.0,\"#0d0887\"],[0.1111111111111111,\"#46039f\"],[0.2222222222222222,\"#7201a8\"],[0.3333333333333333,\"#9c179e\"],[0.4444444444444444,\"#bd3786\"],[0.5555555555555556,\"#d8576b\"],[0.6666666666666666,\"#ed7953\"],[0.7777777777777778,\"#fb9f3a\"],[0.8888888888888888,\"#fdca26\"],[1.0,\"#f0f921\"]],\"diverging\":[[0,\"#8e0152\"],[0.1,\"#c51b7d\"],[0.2,\"#de77ae\"],[0.3,\"#f1b6da\"],[0.4,\"#fde0ef\"],[0.5,\"#f7f7f7\"],[0.6,\"#e6f5d0\"],[0.7,\"#b8e186\"],[0.8,\"#7fbc41\"],[0.9,\"#4d9221\"],[1,\"#276419\"]]},\"xaxis\":{\"gridcolor\":\"white\",\"linecolor\":\"white\",\"ticks\":\"\",\"title\":{\"standoff\":15},\"zerolinecolor\":\"white\",\"automargin\":true,\"zerolinewidth\":2},\"yaxis\":{\"gridcolor\":\"white\",\"linecolor\":\"white\",\"ticks\":\"\",\"title\":{\"standoff\":15},\"zerolinecolor\":\"white\",\"automargin\":true,\"zerolinewidth\":2},\"scene\":{\"xaxis\":{\"backgroundcolor\":\"#E5ECF6\",\"gridcolor\":\"white\",\"linecolor\":\"white\",\"showbackground\":true,\"ticks\":\"\",\"zerolinecolor\":\"white\",\"gridwidth\":2},\"yaxis\":{\"backgroundcolor\":\"#E5ECF6\",\"gridcolor\":\"white\",\"linecolor\":\"white\",\"showbackground\":true,\"ticks\":\"\",\"zerolinecolor\":\"white\",\"gridwidth\":2},\"zaxis\":{\"backgroundcolor\":\"#E5ECF6\",\"gridcolor\":\"white\",\"linecolor\":\"white\",\"showbackground\":true,\"ticks\":\"\",\"zerolinecolor\":\"white\",\"gridwidth\":2}},\"shapedefaults\":{\"line\":{\"color\":\"#2a3f5f\"}},\"annotationdefaults\":{\"arrowcolor\":\"#2a3f5f\",\"arrowhead\":0,\"arrowwidth\":1},\"geo\":{\"bgcolor\":\"white\",\"landcolor\":\"#E5ECF6\",\"subunitcolor\":\"white\",\"showland\":true,\"showlakes\":true,\"lakecolor\":\"white\"},\"title\":{\"x\":0.05},\"mapbox\":{\"style\":\"light\"}}},\"mapbox\":{\"domain\":{\"x\":[0.0,1.0],\"y\":[0.0,1.0]},\"center\":{\"lat\":51.44741515151516,\"lon\":5.469863636363635},\"zoom\":10,\"style\":\"carto-positron\"},\"coloraxis\":{\"colorbar\":{\"title\":{\"text\":\"max_number_people\"}},\"colorscale\":[[0.0,\"rgb(23, 28, 66)\"],[0.09090909090909091,\"rgb(41, 58, 143)\"],[0.18181818181818182,\"rgb(11, 102, 189)\"],[0.2727272727272727,\"rgb(69, 144, 185)\"],[0.36363636363636365,\"rgb(142, 181, 194)\"],[0.45454545454545453,\"rgb(210, 216, 219)\"],[0.5454545454545454,\"rgb(230, 210, 204)\"],[0.6363636363636364,\"rgb(213, 157, 137)\"],[0.7272727272727273,\"rgb(196, 101, 72)\"],[0.8181818181818182,\"rgb(172, 43, 36)\"],[0.9090909090909091,\"rgb(120, 14, 40)\"],[1.0,\"rgb(60, 9, 17)\"]]},\"legend\":{\"tracegroupgap\":0,\"itemsizing\":\"constant\"},\"title\":{\"text\":\"Eindhoven map with latitude, longitude, zipcode, maximum and minimum number of people\"},\"height\":300,\"margin\":{\"r\":0,\"t\":30,\"l\":0,\"b\":0}},                        {\"responsive\": true}                    ).then(function(){\n",
       "                            \n",
       "var gd = document.getElementById('84577108-7b5f-4629-940d-323ba78124a3');\n",
       "var x = new MutationObserver(function (mutations, observer) {{\n",
       "        var display = window.getComputedStyle(gd).display;\n",
       "        if (!display || display === 'none') {{\n",
       "            console.log([gd, 'removed!']);\n",
       "            Plotly.purge(gd);\n",
       "            observer.disconnect();\n",
       "        }}\n",
       "}});\n",
       "\n",
       "// Listen for the removal of the full notebook cells\n",
       "var notebookContainer = gd.closest('#notebook-container');\n",
       "if (notebookContainer) {{\n",
       "    x.observe(notebookContainer, {childList: true});\n",
       "}}\n",
       "\n",
       "// Listen for the clearing of the current output cell\n",
       "var outputEl = gd.closest('.output');\n",
       "if (outputEl) {{\n",
       "    x.observe(outputEl, {childList: true});\n",
       "}}\n",
       "\n",
       "                        })                };                });            </script>        </div>"
      ]
     },
     "metadata": {},
     "output_type": "display_data"
    }
   ],
   "source": [
    "fig = px.scatter_mapbox(min_max_people_per_area, \n",
    "                        title=\"Eindhoven map with latitude, longitude, zipcode, maximum and minimum number of people\", \n",
    "                        lat=\"latitude\", \n",
    "                        lon=\"longitude\", \n",
    "                        hover_name=\"PC4\", \n",
    "                        hover_data=[\"min_number_people\"], \n",
    "                        color=\"max_number_people\", \n",
    "                        size=\"max_number_people\", \n",
    "                        color_continuous_scale=px.colors.diverging.balance, \n",
    "                        size_max=15, \n",
    "                        zoom=10, \n",
    "                        height=300)\n",
    "fig.update_layout(mapbox_style=\"carto-positron\")\n",
    "fig.update_layout(margin={\"r\":0, \"t\":30, \"l\":0, \"b\":0})\n",
    "fig.show()"
   ]
  },
  {
   "cell_type": "markdown",
   "id": "cdf609bb",
   "metadata": {},
   "source": [
    "<h4><font color=mediumvioletred>Calculate number of people per hour </font></h4>"
   ]
  },
  {
   "cell_type": "code",
   "execution_count": 131,
   "id": "5cd07334",
   "metadata": {},
   "outputs": [
    {
     "data": {
      "text/html": [
       "<div>\n",
       "<style scoped>\n",
       "    .dataframe tbody tr th:only-of-type {\n",
       "        vertical-align: middle;\n",
       "    }\n",
       "\n",
       "    .dataframe tbody tr th {\n",
       "        vertical-align: top;\n",
       "    }\n",
       "\n",
       "    .dataframe thead th {\n",
       "        text-align: right;\n",
       "    }\n",
       "</style>\n",
       "<table border=\"1\" class=\"dataframe\">\n",
       "  <thead>\n",
       "    <tr style=\"text-align: right;\">\n",
       "      <th></th>\n",
       "      <th>PC4</th>\n",
       "      <th>pm2.5</th>\n",
       "      <th>m00_30</th>\n",
       "      <th>m30_60</th>\n",
       "      <th>date</th>\n",
       "      <th>time</th>\n",
       "      <th>people_number</th>\n",
       "    </tr>\n",
       "  </thead>\n",
       "  <tbody>\n",
       "    <tr>\n",
       "      <th>0</th>\n",
       "      <td>5611</td>\n",
       "      <td>4.531522</td>\n",
       "      <td>155.0</td>\n",
       "      <td>0.0</td>\n",
       "      <td>2021-09-25</td>\n",
       "      <td>00:00:00</td>\n",
       "      <td>155.0</td>\n",
       "    </tr>\n",
       "    <tr>\n",
       "      <th>1</th>\n",
       "      <td>5611</td>\n",
       "      <td>3.434374</td>\n",
       "      <td>130.0</td>\n",
       "      <td>0.0</td>\n",
       "      <td>2021-09-25</td>\n",
       "      <td>01:00:00</td>\n",
       "      <td>130.0</td>\n",
       "    </tr>\n",
       "    <tr>\n",
       "      <th>2</th>\n",
       "      <td>5611</td>\n",
       "      <td>4.274056</td>\n",
       "      <td>44.0</td>\n",
       "      <td>0.0</td>\n",
       "      <td>2021-09-25</td>\n",
       "      <td>02:00:00</td>\n",
       "      <td>44.0</td>\n",
       "    </tr>\n",
       "    <tr>\n",
       "      <th>3</th>\n",
       "      <td>5611</td>\n",
       "      <td>5.396931</td>\n",
       "      <td>14.0</td>\n",
       "      <td>0.0</td>\n",
       "      <td>2021-09-25</td>\n",
       "      <td>03:00:00</td>\n",
       "      <td>14.0</td>\n",
       "    </tr>\n",
       "    <tr>\n",
       "      <th>4</th>\n",
       "      <td>5611</td>\n",
       "      <td>6.389200</td>\n",
       "      <td>56.0</td>\n",
       "      <td>0.0</td>\n",
       "      <td>2021-09-25</td>\n",
       "      <td>04:00:00</td>\n",
       "      <td>56.0</td>\n",
       "    </tr>\n",
       "  </tbody>\n",
       "</table>\n",
       "</div>"
      ],
      "text/plain": [
       "    PC4     pm2.5  m00_30  m30_60        date      time  people_number\n",
       "0  5611  4.531522   155.0     0.0  2021-09-25  00:00:00          155.0\n",
       "1  5611  3.434374   130.0     0.0  2021-09-25  01:00:00          130.0\n",
       "2  5611  4.274056    44.0     0.0  2021-09-25  02:00:00           44.0\n",
       "3  5611  5.396931    14.0     0.0  2021-09-25  03:00:00           14.0\n",
       "4  5611  6.389200    56.0     0.0  2021-09-25  04:00:00           56.0"
      ]
     },
     "execution_count": 131,
     "metadata": {},
     "output_type": "execute_result"
    }
   ],
   "source": [
    "# Get specific columns\n",
    "people_per_hour = df_zichtop_air_pollution.iloc[:, [0, 3, 4, 5, 11, 12]].copy()\n",
    "# Calculate number of people per hour\n",
    "people_per_hour[\"people_number\"] = people_per_hour[\"m00_30\"] + people_per_hour[\"m30_60\"]\n",
    "\n",
    "people_per_hour.head(5)"
   ]
  },
  {
   "cell_type": "markdown",
   "id": "79227b6c",
   "metadata": {},
   "source": [
    "<h4><font color=mediumvioletred>People vs. pollution on 25-09-2021 </font></h4>"
   ]
  },
  {
   "cell_type": "code",
   "execution_count": 132,
   "id": "fc0c2ee5",
   "metadata": {},
   "outputs": [
    {
     "data": {
      "text/html": [
       "<div>\n",
       "<style scoped>\n",
       "    .dataframe tbody tr th:only-of-type {\n",
       "        vertical-align: middle;\n",
       "    }\n",
       "\n",
       "    .dataframe tbody tr th {\n",
       "        vertical-align: top;\n",
       "    }\n",
       "\n",
       "    .dataframe thead th {\n",
       "        text-align: right;\n",
       "    }\n",
       "</style>\n",
       "<table border=\"1\" class=\"dataframe\">\n",
       "  <thead>\n",
       "    <tr style=\"text-align: right;\">\n",
       "      <th></th>\n",
       "      <th>PC4</th>\n",
       "      <th>date</th>\n",
       "      <th>people_number</th>\n",
       "      <th>pm2.5</th>\n",
       "    </tr>\n",
       "  </thead>\n",
       "  <tbody>\n",
       "    <tr>\n",
       "      <th>0</th>\n",
       "      <td>5611</td>\n",
       "      <td>2021-09-25</td>\n",
       "      <td>16501.0</td>\n",
       "      <td>9.16</td>\n",
       "    </tr>\n",
       "    <tr>\n",
       "      <th>1</th>\n",
       "      <td>5612</td>\n",
       "      <td>2021-09-25</td>\n",
       "      <td>23022.0</td>\n",
       "      <td>9.18</td>\n",
       "    </tr>\n",
       "    <tr>\n",
       "      <th>2</th>\n",
       "      <td>5613</td>\n",
       "      <td>2021-09-25</td>\n",
       "      <td>14987.0</td>\n",
       "      <td>8.56</td>\n",
       "    </tr>\n",
       "    <tr>\n",
       "      <th>3</th>\n",
       "      <td>5614</td>\n",
       "      <td>2021-09-25</td>\n",
       "      <td>10039.0</td>\n",
       "      <td>8.45</td>\n",
       "    </tr>\n",
       "    <tr>\n",
       "      <th>4</th>\n",
       "      <td>5615</td>\n",
       "      <td>2021-09-25</td>\n",
       "      <td>11540.0</td>\n",
       "      <td>8.97</td>\n",
       "    </tr>\n",
       "  </tbody>\n",
       "</table>\n",
       "</div>"
      ],
      "text/plain": [
       "    PC4        date  people_number  pm2.5\n",
       "0  5611  2021-09-25        16501.0   9.16\n",
       "1  5612  2021-09-25        23022.0   9.18\n",
       "2  5613  2021-09-25        14987.0   8.56\n",
       "3  5614  2021-09-25        10039.0   8.45\n",
       "4  5615  2021-09-25        11540.0   8.97"
      ]
     },
     "execution_count": 132,
     "metadata": {},
     "output_type": "execute_result"
    }
   ],
   "source": [
    "# Calculate people number (sum) and pm2.5 (average) per day\n",
    "people_pollution_per_day = people_per_hour[people_per_hour.date == \"2021-09-25\"].groupby([\"PC4\", \"date\"]).agg({\"people_number\": \"sum\", \"pm2.5\": \"mean\"}).reset_index()\n",
    "# Round to 2 decimal places\n",
    "people_pollution_per_day = people_pollution_per_day.round(decimals=2)\n",
    "\n",
    "people_pollution_per_day.head(5)"
   ]
  },
  {
   "cell_type": "markdown",
   "id": "278f9091",
   "metadata": {},
   "source": [
    "<h4><font color=mediumvioletred>Add latitude, longitude data to the people_pollution_per_day dataframe </font></h4>"
   ]
  },
  {
   "cell_type": "code",
   "execution_count": 133,
   "id": "cf5ab606",
   "metadata": {},
   "outputs": [],
   "source": [
    "people_pollution_per_day[\"latitude\"] = people_pollution_per_day[\"PC4\"].apply(lambda x: nomi.query_postal_code(x)[9])\n",
    "people_pollution_per_day[\"longitude\"] = people_pollution_per_day[\"PC4\"].apply(lambda x: nomi.query_postal_code(x)[10])"
   ]
  },
  {
   "cell_type": "markdown",
   "id": "3ca2961c",
   "metadata": {},
   "source": [
    "<h4><font color=mediumvioletred>Convert PC4 column to a string so that the circles appear on the map </font></h4>"
   ]
  },
  {
   "cell_type": "code",
   "execution_count": 134,
   "id": "92f05295",
   "metadata": {},
   "outputs": [],
   "source": [
    "people_pollution_per_day[\"PC4\"] = people_pollution_per_day[\"PC4\"].astype(\"str\")"
   ]
  },
  {
   "cell_type": "markdown",
   "id": "e05f5c77",
   "metadata": {},
   "source": [
    "<h4><font color=mediumvioletred>Plot the map with the latitude, longitude, zipcode, number of people and fine inhalable particulate matter in Eindhoven</font></h4>"
   ]
  },
  {
   "cell_type": "code",
   "execution_count": 135,
   "id": "be67b8e1",
   "metadata": {},
   "outputs": [
    {
     "data": {
      "application/vnd.plotly.v1+json": {
       "config": {
        "plotlyServerURL": "https://plot.ly"
       },
       "data": [
        {
         "hovertemplate": "<b>%{hovertext}</b><br><br>people_number=%{marker.size}<br>latitude=%{lat}<br>longitude=%{lon}<br>pm2.5=%{marker.color}<extra></extra>",
         "hovertext": [
          "5611",
          "5612",
          "5613",
          "5614",
          "5615",
          "5616",
          "5617",
          "5621",
          "5622",
          "5623",
          "5624",
          "5625",
          "5626",
          "5627",
          "5628",
          "5629",
          "5631",
          "5632",
          "5633",
          "5641",
          "5642",
          "5643",
          "5644",
          "5645",
          "5646",
          "5651",
          "5652",
          "5653",
          "5654",
          "5655",
          "5656",
          "5657",
          "5658"
         ],
         "lat": [
          51.4366,
          51.4484,
          51.4387,
          51.4284,
          51.4293,
          51.4396,
          51.447,
          51.4549,
          51.4593,
          51.4595,
          51.4696,
          51.4719,
          51.4781,
          51.4853,
          51.4801,
          51.4884,
          51.4605,
          51.4767,
          51.4899,
          51.4466,
          51.4389,
          51.4235,
          51.4183,
          51.4242,
          51.4184,
          51.45,
          51.4394,
          51.4236,
          51.4215,
          51.4152,
          51.4112,
          51.4512,
          51.4405
         ],
         "legendgroup": "",
         "lon": [
          5.4801,
          5.4727,
          5.4969,
          5.4921,
          5.4746,
          5.4592,
          5.4573,
          5.457,
          5.4644,
          5.4782,
          5.457,
          5.4754,
          5.4302,
          5.444,
          5.4724,
          5.4734,
          5.4945,
          5.4956,
          5.4954,
          5.5198,
          5.5144,
          5.5011,
          5.4887,
          5.5109,
          5.5095,
          5.4433,
          5.438,
          5.4446,
          5.4582,
          5.4399,
          5.4561,
          5.4008,
          5.4098
         ],
         "marker": {
          "color": [
           9.16,
           9.18,
           8.56,
           8.45,
           8.97,
           9.74,
           9.93,
           9.53,
           9.39,
           9.36,
           8.83,
           9.23,
           8.59,
           8.76,
           9.04,
           8.98,
           8.34,
           8.95,
           8.77,
           7.56,
           7.95,
           8.14,
           7.94,
           7.7,
           7.49,
           8.68,
           9.71,
           8.83,
           8.52,
           8.25,
           7.88,
           8.33,
           9.09
          ],
          "coloraxis": "coloraxis",
          "size": [
           16501,
           23022,
           14987,
           10039,
           11540,
           14754,
           9688,
           10568,
           7640,
           18300,
           5364,
           12020,
           22633,
           14589,
           8861,
           9679,
           14832,
           9865,
           12124,
           6199,
           8252,
           9139,
           21030,
           3084,
           14299,
           28338,
           23357,
           13399,
           5970,
           6454,
           36573,
           28099,
           3789
          ],
          "sizemode": "area",
          "sizeref": 162.54666666666665
         },
         "mode": "markers",
         "name": "",
         "showlegend": false,
         "subplot": "mapbox",
         "type": "scattermapbox"
        }
       ],
       "layout": {
        "coloraxis": {
         "colorbar": {
          "title": {
           "text": "pm2.5"
          }
         },
         "colorscale": [
          [
           0,
           "rgb(23, 28, 66)"
          ],
          [
           0.09090909090909091,
           "rgb(41, 58, 143)"
          ],
          [
           0.18181818181818182,
           "rgb(11, 102, 189)"
          ],
          [
           0.2727272727272727,
           "rgb(69, 144, 185)"
          ],
          [
           0.36363636363636365,
           "rgb(142, 181, 194)"
          ],
          [
           0.45454545454545453,
           "rgb(210, 216, 219)"
          ],
          [
           0.5454545454545454,
           "rgb(230, 210, 204)"
          ],
          [
           0.6363636363636364,
           "rgb(213, 157, 137)"
          ],
          [
           0.7272727272727273,
           "rgb(196, 101, 72)"
          ],
          [
           0.8181818181818182,
           "rgb(172, 43, 36)"
          ],
          [
           0.9090909090909091,
           "rgb(120, 14, 40)"
          ],
          [
           1,
           "rgb(60, 9, 17)"
          ]
         ]
        },
        "height": 300,
        "legend": {
         "itemsizing": "constant",
         "tracegroupgap": 0
        },
        "mapbox": {
         "center": {
          "lat": 51.44741515151516,
          "lon": 5.469863636363635
         },
         "domain": {
          "x": [
           0,
           1
          ],
          "y": [
           0,
           1
          ]
         },
         "style": "carto-positron",
         "zoom": 10
        },
        "margin": {
         "b": 0,
         "l": 0,
         "r": 0,
         "t": 30
        },
        "template": {
         "data": {
          "bar": [
           {
            "error_x": {
             "color": "#2a3f5f"
            },
            "error_y": {
             "color": "#2a3f5f"
            },
            "marker": {
             "line": {
              "color": "#E5ECF6",
              "width": 0.5
             },
             "pattern": {
              "fillmode": "overlay",
              "size": 10,
              "solidity": 0.2
             }
            },
            "type": "bar"
           }
          ],
          "barpolar": [
           {
            "marker": {
             "line": {
              "color": "#E5ECF6",
              "width": 0.5
             },
             "pattern": {
              "fillmode": "overlay",
              "size": 10,
              "solidity": 0.2
             }
            },
            "type": "barpolar"
           }
          ],
          "carpet": [
           {
            "aaxis": {
             "endlinecolor": "#2a3f5f",
             "gridcolor": "white",
             "linecolor": "white",
             "minorgridcolor": "white",
             "startlinecolor": "#2a3f5f"
            },
            "baxis": {
             "endlinecolor": "#2a3f5f",
             "gridcolor": "white",
             "linecolor": "white",
             "minorgridcolor": "white",
             "startlinecolor": "#2a3f5f"
            },
            "type": "carpet"
           }
          ],
          "choropleth": [
           {
            "colorbar": {
             "outlinewidth": 0,
             "ticks": ""
            },
            "type": "choropleth"
           }
          ],
          "contour": [
           {
            "colorbar": {
             "outlinewidth": 0,
             "ticks": ""
            },
            "colorscale": [
             [
              0,
              "#0d0887"
             ],
             [
              0.1111111111111111,
              "#46039f"
             ],
             [
              0.2222222222222222,
              "#7201a8"
             ],
             [
              0.3333333333333333,
              "#9c179e"
             ],
             [
              0.4444444444444444,
              "#bd3786"
             ],
             [
              0.5555555555555556,
              "#d8576b"
             ],
             [
              0.6666666666666666,
              "#ed7953"
             ],
             [
              0.7777777777777778,
              "#fb9f3a"
             ],
             [
              0.8888888888888888,
              "#fdca26"
             ],
             [
              1,
              "#f0f921"
             ]
            ],
            "type": "contour"
           }
          ],
          "contourcarpet": [
           {
            "colorbar": {
             "outlinewidth": 0,
             "ticks": ""
            },
            "type": "contourcarpet"
           }
          ],
          "heatmap": [
           {
            "colorbar": {
             "outlinewidth": 0,
             "ticks": ""
            },
            "colorscale": [
             [
              0,
              "#0d0887"
             ],
             [
              0.1111111111111111,
              "#46039f"
             ],
             [
              0.2222222222222222,
              "#7201a8"
             ],
             [
              0.3333333333333333,
              "#9c179e"
             ],
             [
              0.4444444444444444,
              "#bd3786"
             ],
             [
              0.5555555555555556,
              "#d8576b"
             ],
             [
              0.6666666666666666,
              "#ed7953"
             ],
             [
              0.7777777777777778,
              "#fb9f3a"
             ],
             [
              0.8888888888888888,
              "#fdca26"
             ],
             [
              1,
              "#f0f921"
             ]
            ],
            "type": "heatmap"
           }
          ],
          "heatmapgl": [
           {
            "colorbar": {
             "outlinewidth": 0,
             "ticks": ""
            },
            "colorscale": [
             [
              0,
              "#0d0887"
             ],
             [
              0.1111111111111111,
              "#46039f"
             ],
             [
              0.2222222222222222,
              "#7201a8"
             ],
             [
              0.3333333333333333,
              "#9c179e"
             ],
             [
              0.4444444444444444,
              "#bd3786"
             ],
             [
              0.5555555555555556,
              "#d8576b"
             ],
             [
              0.6666666666666666,
              "#ed7953"
             ],
             [
              0.7777777777777778,
              "#fb9f3a"
             ],
             [
              0.8888888888888888,
              "#fdca26"
             ],
             [
              1,
              "#f0f921"
             ]
            ],
            "type": "heatmapgl"
           }
          ],
          "histogram": [
           {
            "marker": {
             "pattern": {
              "fillmode": "overlay",
              "size": 10,
              "solidity": 0.2
             }
            },
            "type": "histogram"
           }
          ],
          "histogram2d": [
           {
            "colorbar": {
             "outlinewidth": 0,
             "ticks": ""
            },
            "colorscale": [
             [
              0,
              "#0d0887"
             ],
             [
              0.1111111111111111,
              "#46039f"
             ],
             [
              0.2222222222222222,
              "#7201a8"
             ],
             [
              0.3333333333333333,
              "#9c179e"
             ],
             [
              0.4444444444444444,
              "#bd3786"
             ],
             [
              0.5555555555555556,
              "#d8576b"
             ],
             [
              0.6666666666666666,
              "#ed7953"
             ],
             [
              0.7777777777777778,
              "#fb9f3a"
             ],
             [
              0.8888888888888888,
              "#fdca26"
             ],
             [
              1,
              "#f0f921"
             ]
            ],
            "type": "histogram2d"
           }
          ],
          "histogram2dcontour": [
           {
            "colorbar": {
             "outlinewidth": 0,
             "ticks": ""
            },
            "colorscale": [
             [
              0,
              "#0d0887"
             ],
             [
              0.1111111111111111,
              "#46039f"
             ],
             [
              0.2222222222222222,
              "#7201a8"
             ],
             [
              0.3333333333333333,
              "#9c179e"
             ],
             [
              0.4444444444444444,
              "#bd3786"
             ],
             [
              0.5555555555555556,
              "#d8576b"
             ],
             [
              0.6666666666666666,
              "#ed7953"
             ],
             [
              0.7777777777777778,
              "#fb9f3a"
             ],
             [
              0.8888888888888888,
              "#fdca26"
             ],
             [
              1,
              "#f0f921"
             ]
            ],
            "type": "histogram2dcontour"
           }
          ],
          "mesh3d": [
           {
            "colorbar": {
             "outlinewidth": 0,
             "ticks": ""
            },
            "type": "mesh3d"
           }
          ],
          "parcoords": [
           {
            "line": {
             "colorbar": {
              "outlinewidth": 0,
              "ticks": ""
             }
            },
            "type": "parcoords"
           }
          ],
          "pie": [
           {
            "automargin": true,
            "type": "pie"
           }
          ],
          "scatter": [
           {
            "fillpattern": {
             "fillmode": "overlay",
             "size": 10,
             "solidity": 0.2
            },
            "type": "scatter"
           }
          ],
          "scatter3d": [
           {
            "line": {
             "colorbar": {
              "outlinewidth": 0,
              "ticks": ""
             }
            },
            "marker": {
             "colorbar": {
              "outlinewidth": 0,
              "ticks": ""
             }
            },
            "type": "scatter3d"
           }
          ],
          "scattercarpet": [
           {
            "marker": {
             "colorbar": {
              "outlinewidth": 0,
              "ticks": ""
             }
            },
            "type": "scattercarpet"
           }
          ],
          "scattergeo": [
           {
            "marker": {
             "colorbar": {
              "outlinewidth": 0,
              "ticks": ""
             }
            },
            "type": "scattergeo"
           }
          ],
          "scattergl": [
           {
            "marker": {
             "colorbar": {
              "outlinewidth": 0,
              "ticks": ""
             }
            },
            "type": "scattergl"
           }
          ],
          "scattermapbox": [
           {
            "marker": {
             "colorbar": {
              "outlinewidth": 0,
              "ticks": ""
             }
            },
            "type": "scattermapbox"
           }
          ],
          "scatterpolar": [
           {
            "marker": {
             "colorbar": {
              "outlinewidth": 0,
              "ticks": ""
             }
            },
            "type": "scatterpolar"
           }
          ],
          "scatterpolargl": [
           {
            "marker": {
             "colorbar": {
              "outlinewidth": 0,
              "ticks": ""
             }
            },
            "type": "scatterpolargl"
           }
          ],
          "scatterternary": [
           {
            "marker": {
             "colorbar": {
              "outlinewidth": 0,
              "ticks": ""
             }
            },
            "type": "scatterternary"
           }
          ],
          "surface": [
           {
            "colorbar": {
             "outlinewidth": 0,
             "ticks": ""
            },
            "colorscale": [
             [
              0,
              "#0d0887"
             ],
             [
              0.1111111111111111,
              "#46039f"
             ],
             [
              0.2222222222222222,
              "#7201a8"
             ],
             [
              0.3333333333333333,
              "#9c179e"
             ],
             [
              0.4444444444444444,
              "#bd3786"
             ],
             [
              0.5555555555555556,
              "#d8576b"
             ],
             [
              0.6666666666666666,
              "#ed7953"
             ],
             [
              0.7777777777777778,
              "#fb9f3a"
             ],
             [
              0.8888888888888888,
              "#fdca26"
             ],
             [
              1,
              "#f0f921"
             ]
            ],
            "type": "surface"
           }
          ],
          "table": [
           {
            "cells": {
             "fill": {
              "color": "#EBF0F8"
             },
             "line": {
              "color": "white"
             }
            },
            "header": {
             "fill": {
              "color": "#C8D4E3"
             },
             "line": {
              "color": "white"
             }
            },
            "type": "table"
           }
          ]
         },
         "layout": {
          "annotationdefaults": {
           "arrowcolor": "#2a3f5f",
           "arrowhead": 0,
           "arrowwidth": 1
          },
          "autotypenumbers": "strict",
          "coloraxis": {
           "colorbar": {
            "outlinewidth": 0,
            "ticks": ""
           }
          },
          "colorscale": {
           "diverging": [
            [
             0,
             "#8e0152"
            ],
            [
             0.1,
             "#c51b7d"
            ],
            [
             0.2,
             "#de77ae"
            ],
            [
             0.3,
             "#f1b6da"
            ],
            [
             0.4,
             "#fde0ef"
            ],
            [
             0.5,
             "#f7f7f7"
            ],
            [
             0.6,
             "#e6f5d0"
            ],
            [
             0.7,
             "#b8e186"
            ],
            [
             0.8,
             "#7fbc41"
            ],
            [
             0.9,
             "#4d9221"
            ],
            [
             1,
             "#276419"
            ]
           ],
           "sequential": [
            [
             0,
             "#0d0887"
            ],
            [
             0.1111111111111111,
             "#46039f"
            ],
            [
             0.2222222222222222,
             "#7201a8"
            ],
            [
             0.3333333333333333,
             "#9c179e"
            ],
            [
             0.4444444444444444,
             "#bd3786"
            ],
            [
             0.5555555555555556,
             "#d8576b"
            ],
            [
             0.6666666666666666,
             "#ed7953"
            ],
            [
             0.7777777777777778,
             "#fb9f3a"
            ],
            [
             0.8888888888888888,
             "#fdca26"
            ],
            [
             1,
             "#f0f921"
            ]
           ],
           "sequentialminus": [
            [
             0,
             "#0d0887"
            ],
            [
             0.1111111111111111,
             "#46039f"
            ],
            [
             0.2222222222222222,
             "#7201a8"
            ],
            [
             0.3333333333333333,
             "#9c179e"
            ],
            [
             0.4444444444444444,
             "#bd3786"
            ],
            [
             0.5555555555555556,
             "#d8576b"
            ],
            [
             0.6666666666666666,
             "#ed7953"
            ],
            [
             0.7777777777777778,
             "#fb9f3a"
            ],
            [
             0.8888888888888888,
             "#fdca26"
            ],
            [
             1,
             "#f0f921"
            ]
           ]
          },
          "colorway": [
           "#636efa",
           "#EF553B",
           "#00cc96",
           "#ab63fa",
           "#FFA15A",
           "#19d3f3",
           "#FF6692",
           "#B6E880",
           "#FF97FF",
           "#FECB52"
          ],
          "font": {
           "color": "#2a3f5f"
          },
          "geo": {
           "bgcolor": "white",
           "lakecolor": "white",
           "landcolor": "#E5ECF6",
           "showlakes": true,
           "showland": true,
           "subunitcolor": "white"
          },
          "hoverlabel": {
           "align": "left"
          },
          "hovermode": "closest",
          "mapbox": {
           "style": "light"
          },
          "paper_bgcolor": "white",
          "plot_bgcolor": "#E5ECF6",
          "polar": {
           "angularaxis": {
            "gridcolor": "white",
            "linecolor": "white",
            "ticks": ""
           },
           "bgcolor": "#E5ECF6",
           "radialaxis": {
            "gridcolor": "white",
            "linecolor": "white",
            "ticks": ""
           }
          },
          "scene": {
           "xaxis": {
            "backgroundcolor": "#E5ECF6",
            "gridcolor": "white",
            "gridwidth": 2,
            "linecolor": "white",
            "showbackground": true,
            "ticks": "",
            "zerolinecolor": "white"
           },
           "yaxis": {
            "backgroundcolor": "#E5ECF6",
            "gridcolor": "white",
            "gridwidth": 2,
            "linecolor": "white",
            "showbackground": true,
            "ticks": "",
            "zerolinecolor": "white"
           },
           "zaxis": {
            "backgroundcolor": "#E5ECF6",
            "gridcolor": "white",
            "gridwidth": 2,
            "linecolor": "white",
            "showbackground": true,
            "ticks": "",
            "zerolinecolor": "white"
           }
          },
          "shapedefaults": {
           "line": {
            "color": "#2a3f5f"
           }
          },
          "ternary": {
           "aaxis": {
            "gridcolor": "white",
            "linecolor": "white",
            "ticks": ""
           },
           "baxis": {
            "gridcolor": "white",
            "linecolor": "white",
            "ticks": ""
           },
           "bgcolor": "#E5ECF6",
           "caxis": {
            "gridcolor": "white",
            "linecolor": "white",
            "ticks": ""
           }
          },
          "title": {
           "x": 0.05
          },
          "xaxis": {
           "automargin": true,
           "gridcolor": "white",
           "linecolor": "white",
           "ticks": "",
           "title": {
            "standoff": 15
           },
           "zerolinecolor": "white",
           "zerolinewidth": 2
          },
          "yaxis": {
           "automargin": true,
           "gridcolor": "white",
           "linecolor": "white",
           "ticks": "",
           "title": {
            "standoff": 15
           },
           "zerolinecolor": "white",
           "zerolinewidth": 2
          }
         }
        },
        "title": {
         "text": "Number of people vs. fine inhalable particulate matter per zipcode in Eindhoven on 25-09-2021"
        }
       }
      },
      "text/html": [
       "<div>                            <div id=\"a5e8872d-eea2-49a2-a967-599b027d03ab\" class=\"plotly-graph-div\" style=\"height:300px; width:100%;\"></div>            <script type=\"text/javascript\">                require([\"plotly\"], function(Plotly) {                    window.PLOTLYENV=window.PLOTLYENV || {};                                    if (document.getElementById(\"a5e8872d-eea2-49a2-a967-599b027d03ab\")) {                    Plotly.newPlot(                        \"a5e8872d-eea2-49a2-a967-599b027d03ab\",                        [{\"hovertemplate\":\"<b>%{hovertext}</b><br><br>people_number=%{marker.size}<br>latitude=%{lat}<br>longitude=%{lon}<br>pm2.5=%{marker.color}<extra></extra>\",\"hovertext\":[\"5611\",\"5612\",\"5613\",\"5614\",\"5615\",\"5616\",\"5617\",\"5621\",\"5622\",\"5623\",\"5624\",\"5625\",\"5626\",\"5627\",\"5628\",\"5629\",\"5631\",\"5632\",\"5633\",\"5641\",\"5642\",\"5643\",\"5644\",\"5645\",\"5646\",\"5651\",\"5652\",\"5653\",\"5654\",\"5655\",\"5656\",\"5657\",\"5658\"],\"lat\":[51.4366,51.4484,51.4387,51.4284,51.4293,51.4396,51.447,51.4549,51.4593,51.4595,51.4696,51.4719,51.4781,51.4853,51.4801,51.4884,51.4605,51.4767,51.4899,51.4466,51.4389,51.4235,51.4183,51.4242,51.4184,51.45,51.4394,51.4236,51.4215,51.4152,51.4112,51.4512,51.4405],\"legendgroup\":\"\",\"lon\":[5.4801,5.4727,5.4969,5.4921,5.4746,5.4592,5.4573,5.457,5.4644,5.4782,5.457,5.4754,5.4302,5.444,5.4724,5.4734,5.4945,5.4956,5.4954,5.5198,5.5144,5.5011,5.4887,5.5109,5.5095,5.4433,5.438,5.4446,5.4582,5.4399,5.4561,5.4008,5.4098],\"marker\":{\"color\":[9.16,9.18,8.56,8.45,8.97,9.74,9.93,9.53,9.39,9.36,8.83,9.23,8.59,8.76,9.04,8.98,8.34,8.95,8.77,7.56,7.95,8.14,7.94,7.7,7.49,8.68,9.71,8.83,8.52,8.25,7.88,8.33,9.09],\"coloraxis\":\"coloraxis\",\"size\":[16501.0,23022.0,14987.0,10039.0,11540.0,14754.0,9688.0,10568.0,7640.0,18300.0,5364.0,12020.0,22633.0,14589.0,8861.0,9679.0,14832.0,9865.0,12124.0,6199.0,8252.0,9139.0,21030.0,3084.0,14299.0,28338.0,23357.0,13399.0,5970.0,6454.0,36573.0,28099.0,3789.0],\"sizemode\":\"area\",\"sizeref\":162.54666666666665},\"mode\":\"markers\",\"name\":\"\",\"showlegend\":false,\"subplot\":\"mapbox\",\"type\":\"scattermapbox\"}],                        {\"template\":{\"data\":{\"histogram2dcontour\":[{\"type\":\"histogram2dcontour\",\"colorbar\":{\"outlinewidth\":0,\"ticks\":\"\"},\"colorscale\":[[0.0,\"#0d0887\"],[0.1111111111111111,\"#46039f\"],[0.2222222222222222,\"#7201a8\"],[0.3333333333333333,\"#9c179e\"],[0.4444444444444444,\"#bd3786\"],[0.5555555555555556,\"#d8576b\"],[0.6666666666666666,\"#ed7953\"],[0.7777777777777778,\"#fb9f3a\"],[0.8888888888888888,\"#fdca26\"],[1.0,\"#f0f921\"]]}],\"choropleth\":[{\"type\":\"choropleth\",\"colorbar\":{\"outlinewidth\":0,\"ticks\":\"\"}}],\"histogram2d\":[{\"type\":\"histogram2d\",\"colorbar\":{\"outlinewidth\":0,\"ticks\":\"\"},\"colorscale\":[[0.0,\"#0d0887\"],[0.1111111111111111,\"#46039f\"],[0.2222222222222222,\"#7201a8\"],[0.3333333333333333,\"#9c179e\"],[0.4444444444444444,\"#bd3786\"],[0.5555555555555556,\"#d8576b\"],[0.6666666666666666,\"#ed7953\"],[0.7777777777777778,\"#fb9f3a\"],[0.8888888888888888,\"#fdca26\"],[1.0,\"#f0f921\"]]}],\"heatmap\":[{\"type\":\"heatmap\",\"colorbar\":{\"outlinewidth\":0,\"ticks\":\"\"},\"colorscale\":[[0.0,\"#0d0887\"],[0.1111111111111111,\"#46039f\"],[0.2222222222222222,\"#7201a8\"],[0.3333333333333333,\"#9c179e\"],[0.4444444444444444,\"#bd3786\"],[0.5555555555555556,\"#d8576b\"],[0.6666666666666666,\"#ed7953\"],[0.7777777777777778,\"#fb9f3a\"],[0.8888888888888888,\"#fdca26\"],[1.0,\"#f0f921\"]]}],\"heatmapgl\":[{\"type\":\"heatmapgl\",\"colorbar\":{\"outlinewidth\":0,\"ticks\":\"\"},\"colorscale\":[[0.0,\"#0d0887\"],[0.1111111111111111,\"#46039f\"],[0.2222222222222222,\"#7201a8\"],[0.3333333333333333,\"#9c179e\"],[0.4444444444444444,\"#bd3786\"],[0.5555555555555556,\"#d8576b\"],[0.6666666666666666,\"#ed7953\"],[0.7777777777777778,\"#fb9f3a\"],[0.8888888888888888,\"#fdca26\"],[1.0,\"#f0f921\"]]}],\"contourcarpet\":[{\"type\":\"contourcarpet\",\"colorbar\":{\"outlinewidth\":0,\"ticks\":\"\"}}],\"contour\":[{\"type\":\"contour\",\"colorbar\":{\"outlinewidth\":0,\"ticks\":\"\"},\"colorscale\":[[0.0,\"#0d0887\"],[0.1111111111111111,\"#46039f\"],[0.2222222222222222,\"#7201a8\"],[0.3333333333333333,\"#9c179e\"],[0.4444444444444444,\"#bd3786\"],[0.5555555555555556,\"#d8576b\"],[0.6666666666666666,\"#ed7953\"],[0.7777777777777778,\"#fb9f3a\"],[0.8888888888888888,\"#fdca26\"],[1.0,\"#f0f921\"]]}],\"surface\":[{\"type\":\"surface\",\"colorbar\":{\"outlinewidth\":0,\"ticks\":\"\"},\"colorscale\":[[0.0,\"#0d0887\"],[0.1111111111111111,\"#46039f\"],[0.2222222222222222,\"#7201a8\"],[0.3333333333333333,\"#9c179e\"],[0.4444444444444444,\"#bd3786\"],[0.5555555555555556,\"#d8576b\"],[0.6666666666666666,\"#ed7953\"],[0.7777777777777778,\"#fb9f3a\"],[0.8888888888888888,\"#fdca26\"],[1.0,\"#f0f921\"]]}],\"mesh3d\":[{\"type\":\"mesh3d\",\"colorbar\":{\"outlinewidth\":0,\"ticks\":\"\"}}],\"scatter\":[{\"fillpattern\":{\"fillmode\":\"overlay\",\"size\":10,\"solidity\":0.2},\"type\":\"scatter\"}],\"parcoords\":[{\"type\":\"parcoords\",\"line\":{\"colorbar\":{\"outlinewidth\":0,\"ticks\":\"\"}}}],\"scatterpolargl\":[{\"type\":\"scatterpolargl\",\"marker\":{\"colorbar\":{\"outlinewidth\":0,\"ticks\":\"\"}}}],\"bar\":[{\"error_x\":{\"color\":\"#2a3f5f\"},\"error_y\":{\"color\":\"#2a3f5f\"},\"marker\":{\"line\":{\"color\":\"#E5ECF6\",\"width\":0.5},\"pattern\":{\"fillmode\":\"overlay\",\"size\":10,\"solidity\":0.2}},\"type\":\"bar\"}],\"scattergeo\":[{\"type\":\"scattergeo\",\"marker\":{\"colorbar\":{\"outlinewidth\":0,\"ticks\":\"\"}}}],\"scatterpolar\":[{\"type\":\"scatterpolar\",\"marker\":{\"colorbar\":{\"outlinewidth\":0,\"ticks\":\"\"}}}],\"histogram\":[{\"marker\":{\"pattern\":{\"fillmode\":\"overlay\",\"size\":10,\"solidity\":0.2}},\"type\":\"histogram\"}],\"scattergl\":[{\"type\":\"scattergl\",\"marker\":{\"colorbar\":{\"outlinewidth\":0,\"ticks\":\"\"}}}],\"scatter3d\":[{\"type\":\"scatter3d\",\"line\":{\"colorbar\":{\"outlinewidth\":0,\"ticks\":\"\"}},\"marker\":{\"colorbar\":{\"outlinewidth\":0,\"ticks\":\"\"}}}],\"scattermapbox\":[{\"type\":\"scattermapbox\",\"marker\":{\"colorbar\":{\"outlinewidth\":0,\"ticks\":\"\"}}}],\"scatterternary\":[{\"type\":\"scatterternary\",\"marker\":{\"colorbar\":{\"outlinewidth\":0,\"ticks\":\"\"}}}],\"scattercarpet\":[{\"type\":\"scattercarpet\",\"marker\":{\"colorbar\":{\"outlinewidth\":0,\"ticks\":\"\"}}}],\"carpet\":[{\"aaxis\":{\"endlinecolor\":\"#2a3f5f\",\"gridcolor\":\"white\",\"linecolor\":\"white\",\"minorgridcolor\":\"white\",\"startlinecolor\":\"#2a3f5f\"},\"baxis\":{\"endlinecolor\":\"#2a3f5f\",\"gridcolor\":\"white\",\"linecolor\":\"white\",\"minorgridcolor\":\"white\",\"startlinecolor\":\"#2a3f5f\"},\"type\":\"carpet\"}],\"table\":[{\"cells\":{\"fill\":{\"color\":\"#EBF0F8\"},\"line\":{\"color\":\"white\"}},\"header\":{\"fill\":{\"color\":\"#C8D4E3\"},\"line\":{\"color\":\"white\"}},\"type\":\"table\"}],\"barpolar\":[{\"marker\":{\"line\":{\"color\":\"#E5ECF6\",\"width\":0.5},\"pattern\":{\"fillmode\":\"overlay\",\"size\":10,\"solidity\":0.2}},\"type\":\"barpolar\"}],\"pie\":[{\"automargin\":true,\"type\":\"pie\"}]},\"layout\":{\"autotypenumbers\":\"strict\",\"colorway\":[\"#636efa\",\"#EF553B\",\"#00cc96\",\"#ab63fa\",\"#FFA15A\",\"#19d3f3\",\"#FF6692\",\"#B6E880\",\"#FF97FF\",\"#FECB52\"],\"font\":{\"color\":\"#2a3f5f\"},\"hovermode\":\"closest\",\"hoverlabel\":{\"align\":\"left\"},\"paper_bgcolor\":\"white\",\"plot_bgcolor\":\"#E5ECF6\",\"polar\":{\"bgcolor\":\"#E5ECF6\",\"angularaxis\":{\"gridcolor\":\"white\",\"linecolor\":\"white\",\"ticks\":\"\"},\"radialaxis\":{\"gridcolor\":\"white\",\"linecolor\":\"white\",\"ticks\":\"\"}},\"ternary\":{\"bgcolor\":\"#E5ECF6\",\"aaxis\":{\"gridcolor\":\"white\",\"linecolor\":\"white\",\"ticks\":\"\"},\"baxis\":{\"gridcolor\":\"white\",\"linecolor\":\"white\",\"ticks\":\"\"},\"caxis\":{\"gridcolor\":\"white\",\"linecolor\":\"white\",\"ticks\":\"\"}},\"coloraxis\":{\"colorbar\":{\"outlinewidth\":0,\"ticks\":\"\"}},\"colorscale\":{\"sequential\":[[0.0,\"#0d0887\"],[0.1111111111111111,\"#46039f\"],[0.2222222222222222,\"#7201a8\"],[0.3333333333333333,\"#9c179e\"],[0.4444444444444444,\"#bd3786\"],[0.5555555555555556,\"#d8576b\"],[0.6666666666666666,\"#ed7953\"],[0.7777777777777778,\"#fb9f3a\"],[0.8888888888888888,\"#fdca26\"],[1.0,\"#f0f921\"]],\"sequentialminus\":[[0.0,\"#0d0887\"],[0.1111111111111111,\"#46039f\"],[0.2222222222222222,\"#7201a8\"],[0.3333333333333333,\"#9c179e\"],[0.4444444444444444,\"#bd3786\"],[0.5555555555555556,\"#d8576b\"],[0.6666666666666666,\"#ed7953\"],[0.7777777777777778,\"#fb9f3a\"],[0.8888888888888888,\"#fdca26\"],[1.0,\"#f0f921\"]],\"diverging\":[[0,\"#8e0152\"],[0.1,\"#c51b7d\"],[0.2,\"#de77ae\"],[0.3,\"#f1b6da\"],[0.4,\"#fde0ef\"],[0.5,\"#f7f7f7\"],[0.6,\"#e6f5d0\"],[0.7,\"#b8e186\"],[0.8,\"#7fbc41\"],[0.9,\"#4d9221\"],[1,\"#276419\"]]},\"xaxis\":{\"gridcolor\":\"white\",\"linecolor\":\"white\",\"ticks\":\"\",\"title\":{\"standoff\":15},\"zerolinecolor\":\"white\",\"automargin\":true,\"zerolinewidth\":2},\"yaxis\":{\"gridcolor\":\"white\",\"linecolor\":\"white\",\"ticks\":\"\",\"title\":{\"standoff\":15},\"zerolinecolor\":\"white\",\"automargin\":true,\"zerolinewidth\":2},\"scene\":{\"xaxis\":{\"backgroundcolor\":\"#E5ECF6\",\"gridcolor\":\"white\",\"linecolor\":\"white\",\"showbackground\":true,\"ticks\":\"\",\"zerolinecolor\":\"white\",\"gridwidth\":2},\"yaxis\":{\"backgroundcolor\":\"#E5ECF6\",\"gridcolor\":\"white\",\"linecolor\":\"white\",\"showbackground\":true,\"ticks\":\"\",\"zerolinecolor\":\"white\",\"gridwidth\":2},\"zaxis\":{\"backgroundcolor\":\"#E5ECF6\",\"gridcolor\":\"white\",\"linecolor\":\"white\",\"showbackground\":true,\"ticks\":\"\",\"zerolinecolor\":\"white\",\"gridwidth\":2}},\"shapedefaults\":{\"line\":{\"color\":\"#2a3f5f\"}},\"annotationdefaults\":{\"arrowcolor\":\"#2a3f5f\",\"arrowhead\":0,\"arrowwidth\":1},\"geo\":{\"bgcolor\":\"white\",\"landcolor\":\"#E5ECF6\",\"subunitcolor\":\"white\",\"showland\":true,\"showlakes\":true,\"lakecolor\":\"white\"},\"title\":{\"x\":0.05},\"mapbox\":{\"style\":\"light\"}}},\"mapbox\":{\"domain\":{\"x\":[0.0,1.0],\"y\":[0.0,1.0]},\"center\":{\"lat\":51.44741515151516,\"lon\":5.469863636363635},\"zoom\":10,\"style\":\"carto-positron\"},\"coloraxis\":{\"colorbar\":{\"title\":{\"text\":\"pm2.5\"}},\"colorscale\":[[0.0,\"rgb(23, 28, 66)\"],[0.09090909090909091,\"rgb(41, 58, 143)\"],[0.18181818181818182,\"rgb(11, 102, 189)\"],[0.2727272727272727,\"rgb(69, 144, 185)\"],[0.36363636363636365,\"rgb(142, 181, 194)\"],[0.45454545454545453,\"rgb(210, 216, 219)\"],[0.5454545454545454,\"rgb(230, 210, 204)\"],[0.6363636363636364,\"rgb(213, 157, 137)\"],[0.7272727272727273,\"rgb(196, 101, 72)\"],[0.8181818181818182,\"rgb(172, 43, 36)\"],[0.9090909090909091,\"rgb(120, 14, 40)\"],[1.0,\"rgb(60, 9, 17)\"]]},\"legend\":{\"tracegroupgap\":0,\"itemsizing\":\"constant\"},\"title\":{\"text\":\"Number of people vs. fine inhalable particulate matter per zipcode in Eindhoven on 25-09-2021\"},\"height\":300,\"margin\":{\"r\":0,\"t\":30,\"l\":0,\"b\":0}},                        {\"responsive\": true}                    ).then(function(){\n",
       "                            \n",
       "var gd = document.getElementById('a5e8872d-eea2-49a2-a967-599b027d03ab');\n",
       "var x = new MutationObserver(function (mutations, observer) {{\n",
       "        var display = window.getComputedStyle(gd).display;\n",
       "        if (!display || display === 'none') {{\n",
       "            console.log([gd, 'removed!']);\n",
       "            Plotly.purge(gd);\n",
       "            observer.disconnect();\n",
       "        }}\n",
       "}});\n",
       "\n",
       "// Listen for the removal of the full notebook cells\n",
       "var notebookContainer = gd.closest('#notebook-container');\n",
       "if (notebookContainer) {{\n",
       "    x.observe(notebookContainer, {childList: true});\n",
       "}}\n",
       "\n",
       "// Listen for the clearing of the current output cell\n",
       "var outputEl = gd.closest('.output');\n",
       "if (outputEl) {{\n",
       "    x.observe(outputEl, {childList: true});\n",
       "}}\n",
       "\n",
       "                        })                };                });            </script>        </div>"
      ]
     },
     "metadata": {},
     "output_type": "display_data"
    }
   ],
   "source": [
    "fig = px.scatter_mapbox(people_pollution_per_day, \n",
    "                        title=\"Number of people vs. fine inhalable particulate matter per zipcode in Eindhoven on 25-09-2021\", \n",
    "                        lat=\"latitude\", \n",
    "                        lon=\"longitude\", \n",
    "                        hover_name=\"PC4\", \n",
    "                        color=\"pm2.5\", \n",
    "                        size=\"people_number\", \n",
    "                        color_continuous_scale=px.colors.diverging.balance, \n",
    "                        size_max=15, \n",
    "                        zoom=10, \n",
    "                        height=300)\n",
    "fig.update_layout(mapbox_style=\"carto-positron\")\n",
    "fig.update_layout(margin={\"r\":0, \"t\":30, \"l\":0, \"b\":0})\n",
    "fig.show()"
   ]
  },
  {
   "cell_type": "markdown",
   "id": "4310e0d4",
   "metadata": {},
   "source": [
    "<h4><font color=mediumvioletred> Conclusion </font></h4>"
   ]
  },
  {
   "cell_type": "markdown",
   "id": "e038bab5",
   "metadata": {},
   "source": [
    "After exploring and visualizing the zichtop dataset, we conclude that the only relevant columns to use in the following steps are  date, PC4 (zipcode) and a new column called people_number (m00_30 + m30_60).\n",
    "\n",
    "We need this new column because we want to group data per area and date and currently pop_tot column is the result of the sum of the following columns (m00_30, m30_60, H1_2, H2_4, H4_8, H8_16 and H16plus), so the same people are counted multiple times throughout the day and that will result in inaccurate number of people. "
   ]
  },
  {
   "cell_type": "markdown",
   "id": "6d797944",
   "metadata": {},
   "source": [
    "<h2><font color=slateblue> 5. Data Preparation </font></h2>"
   ]
  },
  {
   "cell_type": "code",
   "execution_count": null,
   "id": "796a3f9f",
   "metadata": {},
   "outputs": [],
   "source": []
  },
  {
   "cell_type": "code",
   "execution_count": null,
   "id": "115e423a",
   "metadata": {},
   "outputs": [],
   "source": []
  },
  {
   "cell_type": "code",
   "execution_count": null,
   "id": "a62b87a5",
   "metadata": {},
   "outputs": [],
   "source": []
  },
  {
   "cell_type": "code",
   "execution_count": null,
   "id": "cedc31ce",
   "metadata": {},
   "outputs": [],
   "source": []
  },
  {
   "cell_type": "markdown",
   "id": "002b5a79",
   "metadata": {},
   "source": [
    "<h2><font color=slateblue> 6. Modelling </font></h2>"
   ]
  },
  {
   "cell_type": "code",
   "execution_count": null,
   "id": "197c479d",
   "metadata": {},
   "outputs": [],
   "source": []
  },
  {
   "cell_type": "code",
   "execution_count": null,
   "id": "b3714cbd",
   "metadata": {},
   "outputs": [],
   "source": []
  },
  {
   "cell_type": "code",
   "execution_count": null,
   "id": "ecefde99",
   "metadata": {},
   "outputs": [],
   "source": []
  },
  {
   "cell_type": "code",
   "execution_count": null,
   "id": "d11b9c24",
   "metadata": {},
   "outputs": [],
   "source": []
  },
  {
   "cell_type": "code",
   "execution_count": null,
   "id": "6dbc89d1",
   "metadata": {},
   "outputs": [],
   "source": []
  }
 ],
 "metadata": {
  "kernelspec": {
   "display_name": "Python 3 (ipykernel)",
   "language": "python",
   "name": "python3"
  },
  "language_info": {
   "codemirror_mode": {
    "name": "ipython",
    "version": 3
   },
   "file_extension": ".py",
   "mimetype": "text/x-python",
   "name": "python",
   "nbconvert_exporter": "python",
   "pygments_lexer": "ipython3",
   "version": "3.9.13"
  }
 },
 "nbformat": 4,
 "nbformat_minor": 5
}
