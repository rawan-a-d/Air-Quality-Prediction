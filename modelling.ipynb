{
 "cells": [
  {
   "cell_type": "markdown",
   "id": "2db24e9f",
   "metadata": {},
   "source": [
    "<h1 style=\"font-size:3rem;color:maroon;\"> Predicting Air Pollution Level using Machine Learning</h1>\n",
    "\n",
    "This notebook is created for the modelling."
   ]
  },
  {
   "cell_type": "markdown",
   "id": "ba47ddae",
   "metadata": {},
   "source": [
    "<h2><font color=slateblue> Preparing the tools </font></h2>"
   ]
  },
  {
   "cell_type": "code",
   "execution_count": 1,
   "id": "e78ad191",
   "metadata": {},
   "outputs": [],
   "source": [
    "# Regular EDA\n",
    "import pandas as pd\n",
    "\n",
    "# Modelling\n",
    "from sklearn.linear_model import SGDClassifier\n",
    "from sklearn.ensemble import RandomForestRegressor"
   ]
  },
  {
   "cell_type": "markdown",
   "id": "2434455d",
   "metadata": {},
   "source": [
    "<h2><font color=slateblue>Read CSV file </font></h2>"
   ]
  },
  {
   "cell_type": "code",
   "execution_count": 2,
   "id": "8eb4eb42",
   "metadata": {},
   "outputs": [
    {
     "data": {
      "text/html": [
       "<div>\n",
       "<style scoped>\n",
       "    .dataframe tbody tr th:only-of-type {\n",
       "        vertical-align: middle;\n",
       "    }\n",
       "\n",
       "    .dataframe tbody tr th {\n",
       "        vertical-align: top;\n",
       "    }\n",
       "\n",
       "    .dataframe thead th {\n",
       "        text-align: right;\n",
       "    }\n",
       "</style>\n",
       "<table border=\"1\" class=\"dataframe\">\n",
       "  <thead>\n",
       "    <tr style=\"text-align: right;\">\n",
       "      <th></th>\n",
       "      <th>PC4</th>\n",
       "      <th>pm2.5</th>\n",
       "      <th>wd</th>\n",
       "      <th>ws</th>\n",
       "      <th>ssrd</th>\n",
       "      <th>blh</th>\n",
       "      <th>people_number</th>\n",
       "      <th>wd_group</th>\n",
       "      <th>year</th>\n",
       "      <th>month</th>\n",
       "      <th>day</th>\n",
       "      <th>day_of_week</th>\n",
       "      <th>day_of_year</th>\n",
       "    </tr>\n",
       "  </thead>\n",
       "  <tbody>\n",
       "    <tr>\n",
       "      <th>131</th>\n",
       "      <td>5614</td>\n",
       "      <td>5.43</td>\n",
       "      <td>264.39</td>\n",
       "      <td>3.48</td>\n",
       "      <td>123.08</td>\n",
       "      <td>533.99</td>\n",
       "      <td>9330.0</td>\n",
       "      <td>12</td>\n",
       "      <td>2021</td>\n",
       "      <td>9</td>\n",
       "      <td>28</td>\n",
       "      <td>1</td>\n",
       "      <td>271</td>\n",
       "    </tr>\n",
       "    <tr>\n",
       "      <th>81</th>\n",
       "      <td>5616</td>\n",
       "      <td>7.03</td>\n",
       "      <td>247.86</td>\n",
       "      <td>4.28</td>\n",
       "      <td>76.32</td>\n",
       "      <td>576.90</td>\n",
       "      <td>10624.0</td>\n",
       "      <td>11</td>\n",
       "      <td>2021</td>\n",
       "      <td>9</td>\n",
       "      <td>27</td>\n",
       "      <td>0</td>\n",
       "      <td>270</td>\n",
       "    </tr>\n",
       "    <tr>\n",
       "      <th>216</th>\n",
       "      <td>5623</td>\n",
       "      <td>3.87</td>\n",
       "      <td>253.33</td>\n",
       "      <td>5.31</td>\n",
       "      <td>74.04</td>\n",
       "      <td>726.15</td>\n",
       "      <td>17723.0</td>\n",
       "      <td>11</td>\n",
       "      <td>2021</td>\n",
       "      <td>10</td>\n",
       "      <td>1</td>\n",
       "      <td>4</td>\n",
       "      <td>274</td>\n",
       "    </tr>\n",
       "    <tr>\n",
       "      <th>610</th>\n",
       "      <td>5641</td>\n",
       "      <td>6.00</td>\n",
       "      <td>170.17</td>\n",
       "      <td>2.76</td>\n",
       "      <td>59.89</td>\n",
       "      <td>395.44</td>\n",
       "      <td>8111.0</td>\n",
       "      <td>8</td>\n",
       "      <td>2021</td>\n",
       "      <td>10</td>\n",
       "      <td>13</td>\n",
       "      <td>2</td>\n",
       "      <td>286</td>\n",
       "    </tr>\n",
       "    <tr>\n",
       "      <th>1814</th>\n",
       "      <td>5658</td>\n",
       "      <td>9.77</td>\n",
       "      <td>218.83</td>\n",
       "      <td>4.42</td>\n",
       "      <td>47.15</td>\n",
       "      <td>418.33</td>\n",
       "      <td>2555.0</td>\n",
       "      <td>10</td>\n",
       "      <td>2021</td>\n",
       "      <td>11</td>\n",
       "      <td>18</td>\n",
       "      <td>3</td>\n",
       "      <td>322</td>\n",
       "    </tr>\n",
       "  </tbody>\n",
       "</table>\n",
       "</div>"
      ],
      "text/plain": [
       "       PC4  pm2.5      wd    ws    ssrd     blh  people_number  wd_group  \\\n",
       "131   5614   5.43  264.39  3.48  123.08  533.99         9330.0        12   \n",
       "81    5616   7.03  247.86  4.28   76.32  576.90        10624.0        11   \n",
       "216   5623   3.87  253.33  5.31   74.04  726.15        17723.0        11   \n",
       "610   5641   6.00  170.17  2.76   59.89  395.44         8111.0         8   \n",
       "1814  5658   9.77  218.83  4.42   47.15  418.33         2555.0        10   \n",
       "\n",
       "      year  month  day  day_of_week  day_of_year  \n",
       "131   2021      9   28            1          271  \n",
       "81    2021      9   27            0          270  \n",
       "216   2021     10    1            4          274  \n",
       "610   2021     10   13            2          286  \n",
       "1814  2021     11   18            3          322  "
      ]
     },
     "execution_count": 2,
     "metadata": {},
     "output_type": "execute_result"
    }
   ],
   "source": [
    "# read prepared dataset csv file\n",
    "df_grouped_numerical = pd.read_csv(\"data/df_grouped_numerical.csv\")\n",
    "df_grouped_numerical.sample(5)"
   ]
  },
  {
   "cell_type": "markdown",
   "id": "b24f31a7",
   "metadata": {},
   "source": [
    "<h2><font color=slateblue>Modelling </font></h2>"
   ]
  },
  {
   "cell_type": "markdown",
   "id": "c8b12ef8",
   "metadata": {},
   "source": [
    "<h4><font color=mediumvioletred>Get X and y</font></h4>"
   ]
  },
  {
   "cell_type": "code",
   "execution_count": 3,
   "id": "3cd83af1",
   "metadata": {},
   "outputs": [],
   "source": [
    "df_grouped_numerical[\"pm2.5\"] = df_grouped_numerical[\"pm2.5\"].astype(int)\n",
    "    \n",
    "X = df_grouped_numerical.drop(\"pm2.5\", axis=1)\n",
    "y = df_grouped_numerical[\"pm2.5\"]"
   ]
  },
  {
   "cell_type": "markdown",
   "id": "eb5c7d52",
   "metadata": {},
   "source": [
    "<h4><font color=mediumvioletred>Get a sample of X </font></h4>"
   ]
  },
  {
   "cell_type": "code",
   "execution_count": 4,
   "id": "b9c5b34e",
   "metadata": {},
   "outputs": [
    {
     "data": {
      "text/html": [
       "<div>\n",
       "<style scoped>\n",
       "    .dataframe tbody tr th:only-of-type {\n",
       "        vertical-align: middle;\n",
       "    }\n",
       "\n",
       "    .dataframe tbody tr th {\n",
       "        vertical-align: top;\n",
       "    }\n",
       "\n",
       "    .dataframe thead th {\n",
       "        text-align: right;\n",
       "    }\n",
       "</style>\n",
       "<table border=\"1\" class=\"dataframe\">\n",
       "  <thead>\n",
       "    <tr style=\"text-align: right;\">\n",
       "      <th></th>\n",
       "      <th>PC4</th>\n",
       "      <th>wd</th>\n",
       "      <th>ws</th>\n",
       "      <th>ssrd</th>\n",
       "      <th>blh</th>\n",
       "      <th>people_number</th>\n",
       "      <th>wd_group</th>\n",
       "      <th>year</th>\n",
       "      <th>month</th>\n",
       "      <th>day</th>\n",
       "      <th>day_of_week</th>\n",
       "      <th>day_of_year</th>\n",
       "    </tr>\n",
       "  </thead>\n",
       "  <tbody>\n",
       "    <tr>\n",
       "      <th>1710</th>\n",
       "      <td>5615</td>\n",
       "      <td>41.43</td>\n",
       "      <td>2.85</td>\n",
       "      <td>25.67</td>\n",
       "      <td>377.07</td>\n",
       "      <td>7508.0</td>\n",
       "      <td>2</td>\n",
       "      <td>2021</td>\n",
       "      <td>11</td>\n",
       "      <td>15</td>\n",
       "      <td>0</td>\n",
       "      <td>319</td>\n",
       "    </tr>\n",
       "    <tr>\n",
       "      <th>954</th>\n",
       "      <td>5624</td>\n",
       "      <td>248.57</td>\n",
       "      <td>2.60</td>\n",
       "      <td>78.14</td>\n",
       "      <td>246.65</td>\n",
       "      <td>6342.0</td>\n",
       "      <td>11</td>\n",
       "      <td>2021</td>\n",
       "      <td>10</td>\n",
       "      <td>23</td>\n",
       "      <td>5</td>\n",
       "      <td>296</td>\n",
       "    </tr>\n",
       "    <tr>\n",
       "      <th>713</th>\n",
       "      <td>5625</td>\n",
       "      <td>242.70</td>\n",
       "      <td>1.76</td>\n",
       "      <td>78.39</td>\n",
       "      <td>418.74</td>\n",
       "      <td>14745.0</td>\n",
       "      <td>11</td>\n",
       "      <td>2021</td>\n",
       "      <td>10</td>\n",
       "      <td>16</td>\n",
       "      <td>5</td>\n",
       "      <td>289</td>\n",
       "    </tr>\n",
       "    <tr>\n",
       "      <th>105</th>\n",
       "      <td>5616</td>\n",
       "      <td>264.51</td>\n",
       "      <td>3.51</td>\n",
       "      <td>122.99</td>\n",
       "      <td>537.03</td>\n",
       "      <td>10628.0</td>\n",
       "      <td>12</td>\n",
       "      <td>2021</td>\n",
       "      <td>9</td>\n",
       "      <td>28</td>\n",
       "      <td>1</td>\n",
       "      <td>271</td>\n",
       "    </tr>\n",
       "    <tr>\n",
       "      <th>1402</th>\n",
       "      <td>5624</td>\n",
       "      <td>231.12</td>\n",
       "      <td>5.61</td>\n",
       "      <td>33.82</td>\n",
       "      <td>592.74</td>\n",
       "      <td>5277.0</td>\n",
       "      <td>10</td>\n",
       "      <td>2021</td>\n",
       "      <td>11</td>\n",
       "      <td>6</td>\n",
       "      <td>5</td>\n",
       "      <td>310</td>\n",
       "    </tr>\n",
       "  </tbody>\n",
       "</table>\n",
       "</div>"
      ],
      "text/plain": [
       "       PC4      wd    ws    ssrd     blh  people_number  wd_group  year  \\\n",
       "1710  5615   41.43  2.85   25.67  377.07         7508.0         2  2021   \n",
       "954   5624  248.57  2.60   78.14  246.65         6342.0        11  2021   \n",
       "713   5625  242.70  1.76   78.39  418.74        14745.0        11  2021   \n",
       "105   5616  264.51  3.51  122.99  537.03        10628.0        12  2021   \n",
       "1402  5624  231.12  5.61   33.82  592.74         5277.0        10  2021   \n",
       "\n",
       "      month  day  day_of_week  day_of_year  \n",
       "1710     11   15            0          319  \n",
       "954      10   23            5          296  \n",
       "713      10   16            5          289  \n",
       "105       9   28            1          271  \n",
       "1402     11    6            5          310  "
      ]
     },
     "execution_count": 4,
     "metadata": {},
     "output_type": "execute_result"
    }
   ],
   "source": [
    "X.sample(5)"
   ]
  },
  {
   "cell_type": "markdown",
   "id": "1ed8c64e",
   "metadata": {},
   "source": [
    "<h4><font color=mediumvioletred>Get a sample of y </font></h4>"
   ]
  },
  {
   "cell_type": "code",
   "execution_count": 5,
   "id": "d1da2d20",
   "metadata": {
    "scrolled": true
   },
   "outputs": [
    {
     "data": {
      "text/plain": [
       "1122     5\n",
       "1773    18\n",
       "499     24\n",
       "587      7\n",
       "273      2\n",
       "Name: pm2.5, dtype: int32"
      ]
     },
     "execution_count": 5,
     "metadata": {},
     "output_type": "execute_result"
    }
   ],
   "source": [
    "y.sample(5)"
   ]
  },
  {
   "cell_type": "markdown",
   "id": "df84c84a",
   "metadata": {},
   "source": [
    "<h4><font color=mediumvioletred>Split data into training and testing </font></h4>"
   ]
  },
  {
   "cell_type": "code",
   "execution_count": 6,
   "id": "02a514f3",
   "metadata": {},
   "outputs": [
    {
     "data": {
      "text/plain": [
       "(1452, 363)"
      ]
     },
     "execution_count": 6,
     "metadata": {},
     "output_type": "execute_result"
    }
   ],
   "source": [
    "df_train = df_grouped_numerical[((df_grouped_numerical.month == 11) & (df_grouped_numerical.day <= 7)) | \n",
    "                                (df_grouped_numerical.month == 10) | \n",
    "                                (df_grouped_numerical.month == 9)]\n",
    "df_test = df_grouped_numerical[(df_grouped_numerical.month == 11) & (df_grouped_numerical.day > 7)]\n",
    "\n",
    "len(df_train), len(df_test)"
   ]
  },
  {
   "cell_type": "markdown",
   "id": "64199c79",
   "metadata": {},
   "source": [
    "<h4><font color=mediumvioletred>Split data into X & y </font></h4>"
   ]
  },
  {
   "cell_type": "code",
   "execution_count": 7,
   "id": "354d5cef",
   "metadata": {},
   "outputs": [
    {
     "data": {
      "text/plain": [
       "((1452, 12), (1452,), (363, 12), (363,))"
      ]
     },
     "execution_count": 7,
     "metadata": {},
     "output_type": "execute_result"
    }
   ],
   "source": [
    "X_train, y_train = df_train.drop(\"pm2.5\", axis=1), df_train[\"pm2.5\"]\n",
    "X_test, y_test = df_test.drop(\"pm2.5\", axis=1), df_test[\"pm2.5\"]\n",
    "\n",
    "X_train.shape, y_train.shape, X_test.shape, y_test.shape"
   ]
  },
  {
   "cell_type": "markdown",
   "id": "e8eb14a9",
   "metadata": {},
   "source": [
    "<h4><font color=mediumvioletred>Model with RandomForestRegressor </font></h4>"
   ]
  },
  {
   "cell_type": "code",
   "execution_count": 8,
   "id": "8da08b52",
   "metadata": {},
   "outputs": [
    {
     "data": {
      "text/plain": [
       "RandomForestRegressor(n_jobs=-1, random_state=42)"
      ]
     },
     "execution_count": 8,
     "metadata": {},
     "output_type": "execute_result"
    }
   ],
   "source": [
    "model = RandomForestRegressor(n_jobs=-1,\n",
    "                             random_state=42)\n",
    "\n",
    "# fit the model\n",
    "model.fit(X_train, y_train)"
   ]
  },
  {
   "cell_type": "code",
   "execution_count": 9,
   "id": "fc366a2a",
   "metadata": {},
   "outputs": [
    {
     "data": {
      "text/plain": [
       "-1.3631986291723894"
      ]
     },
     "execution_count": 9,
     "metadata": {},
     "output_type": "execute_result"
    }
   ],
   "source": [
    "model.score(X_test, y_test)"
   ]
  },
  {
   "cell_type": "markdown",
   "id": "1615bb6a",
   "metadata": {},
   "source": [
    "<h4><font color=mediumvioletred>Model with SGDClassifier </font></h4>"
   ]
  },
  {
   "cell_type": "code",
   "execution_count": 10,
   "id": "c988406b",
   "metadata": {},
   "outputs": [
    {
     "data": {
      "text/plain": [
       "SGDClassifier(n_jobs=-1, random_state=42)"
      ]
     },
     "execution_count": 10,
     "metadata": {},
     "output_type": "execute_result"
    }
   ],
   "source": [
    "model = SGDClassifier(n_jobs=-1,\n",
    "                        random_state=42)\n",
    "\n",
    "# fit the model\n",
    "model.fit(X_train, y_train)"
   ]
  },
  {
   "cell_type": "code",
   "execution_count": 11,
   "id": "660a5391",
   "metadata": {},
   "outputs": [
    {
     "data": {
      "text/plain": [
       "0.07988980716253444"
      ]
     },
     "execution_count": 11,
     "metadata": {},
     "output_type": "execute_result"
    }
   ],
   "source": [
    "model.score(X_test, y_test)"
   ]
  }
 ],
 "metadata": {
  "kernelspec": {
   "display_name": "Python 3 (ipykernel)",
   "language": "python",
   "name": "python3"
  },
  "language_info": {
   "codemirror_mode": {
    "name": "ipython",
    "version": 3
   },
   "file_extension": ".py",
   "mimetype": "text/x-python",
   "name": "python",
   "nbconvert_exporter": "python",
   "pygments_lexer": "ipython3",
   "version": "3.9.13"
  }
 },
 "nbformat": 4,
 "nbformat_minor": 5
}
