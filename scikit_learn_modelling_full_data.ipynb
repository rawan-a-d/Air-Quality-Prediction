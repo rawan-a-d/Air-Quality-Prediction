{
 "cells": [
  {
   "cell_type": "markdown",
   "id": "2db24e9f",
   "metadata": {},
   "source": [
    "<h1 style=\"font-size:3rem;color:maroon;\"> Predicting Air Pollution Level using Machine Learning</h1>\n",
    "\n",
    "This notebook is created for the modelling of the full data using [Scikit-learn](https://scikit-learn.org/stable/tutorial/machine_learning_map/index.html)."
   ]
  },
  {
   "cell_type": "markdown",
   "id": "58f6e46d",
   "metadata": {},
   "source": [
    "![title](images/scikit_learn_map.png)"
   ]
  },
  {
   "cell_type": "markdown",
   "id": "ba47ddae",
   "metadata": {},
   "source": [
    "<h2><font color=slateblue> Preparing the tools </font></h2>"
   ]
  },
  {
   "cell_type": "code",
   "execution_count": 1,
   "id": "e78ad191",
   "metadata": {},
   "outputs": [],
   "source": [
    "# Regular EDA\n",
    "import pandas as pd\n",
    "import numpy as np\n",
    "import seaborn as sns\n",
    "sns.set_palette(\"husl\")\n",
    "\n",
    "# Modelling\n",
    "from sklearn.ensemble import RandomForestRegressor\n",
    "from sklearn.linear_model import SGDClassifier, ElasticNet, BayesianRidge, LassoLars\n",
    "from sklearn.svm import SVR\n",
    "from sklearn.ensemble import GradientBoostingRegressor\n",
    "from sklearn.metrics import mean_absolute_error\n",
    "\n",
    "# Save a model\n",
    "import pickle"
   ]
  },
  {
   "cell_type": "markdown",
   "id": "b24f31a7",
   "metadata": {},
   "source": [
    "<h2><font color=slateblue>Modelling using daily data</font></h2>"
   ]
  },
  {
   "cell_type": "markdown",
   "id": "2434455d",
   "metadata": {},
   "source": [
    "<h4><font color=mediumvioletred>Read CSV file</font></h4>"
   ]
  },
  {
   "cell_type": "code",
   "execution_count": 2,
   "id": "8eb4eb42",
   "metadata": {},
   "outputs": [
    {
     "data": {
      "text/html": [
       "<div>\n",
       "<style scoped>\n",
       "    .dataframe tbody tr th:only-of-type {\n",
       "        vertical-align: middle;\n",
       "    }\n",
       "\n",
       "    .dataframe tbody tr th {\n",
       "        vertical-align: top;\n",
       "    }\n",
       "\n",
       "    .dataframe thead th {\n",
       "        text-align: right;\n",
       "    }\n",
       "</style>\n",
       "<table border=\"1\" class=\"dataframe\">\n",
       "  <thead>\n",
       "    <tr style=\"text-align: right;\">\n",
       "      <th></th>\n",
       "      <th>PC4</th>\n",
       "      <th>people_number</th>\n",
       "      <th>pm2.5</th>\n",
       "      <th>wd</th>\n",
       "      <th>ws</th>\n",
       "      <th>ssrd</th>\n",
       "      <th>blh</th>\n",
       "      <th>year</th>\n",
       "      <th>month</th>\n",
       "      <th>day</th>\n",
       "      <th>day_of_week</th>\n",
       "      <th>day_of_year</th>\n",
       "    </tr>\n",
       "  </thead>\n",
       "  <tbody>\n",
       "    <tr>\n",
       "      <th>7040</th>\n",
       "      <td>5645</td>\n",
       "      <td>2379.0</td>\n",
       "      <td>4.231642</td>\n",
       "      <td>151.204095</td>\n",
       "      <td>1.767653</td>\n",
       "      <td>174.654594</td>\n",
       "      <td>471.860348</td>\n",
       "      <td>2021</td>\n",
       "      <td>8</td>\n",
       "      <td>2</td>\n",
       "      <td>0</td>\n",
       "      <td>214</td>\n",
       "    </tr>\n",
       "    <tr>\n",
       "      <th>5484</th>\n",
       "      <td>5633</td>\n",
       "      <td>9209.0</td>\n",
       "      <td>4.918526</td>\n",
       "      <td>197.922662</td>\n",
       "      <td>2.152933</td>\n",
       "      <td>297.998955</td>\n",
       "      <td>681.302216</td>\n",
       "      <td>2021</td>\n",
       "      <td>6</td>\n",
       "      <td>16</td>\n",
       "      <td>2</td>\n",
       "      <td>167</td>\n",
       "    </tr>\n",
       "    <tr>\n",
       "      <th>657</th>\n",
       "      <td>5656</td>\n",
       "      <td>14406.0</td>\n",
       "      <td>5.378546</td>\n",
       "      <td>250.979497</td>\n",
       "      <td>7.409521</td>\n",
       "      <td>22.154852</td>\n",
       "      <td>979.025571</td>\n",
       "      <td>2021</td>\n",
       "      <td>1</td>\n",
       "      <td>20</td>\n",
       "      <td>2</td>\n",
       "      <td>20</td>\n",
       "    </tr>\n",
       "    <tr>\n",
       "      <th>5183</th>\n",
       "      <td>5611</td>\n",
       "      <td>9479.0</td>\n",
       "      <td>5.261087</td>\n",
       "      <td>63.878370</td>\n",
       "      <td>2.528077</td>\n",
       "      <td>307.555913</td>\n",
       "      <td>732.884530</td>\n",
       "      <td>2021</td>\n",
       "      <td>6</td>\n",
       "      <td>7</td>\n",
       "      <td>0</td>\n",
       "      <td>158</td>\n",
       "    </tr>\n",
       "    <tr>\n",
       "      <th>7374</th>\n",
       "      <td>5629</td>\n",
       "      <td>8493.0</td>\n",
       "      <td>6.963556</td>\n",
       "      <td>208.344081</td>\n",
       "      <td>1.877202</td>\n",
       "      <td>217.427312</td>\n",
       "      <td>340.047356</td>\n",
       "      <td>2021</td>\n",
       "      <td>8</td>\n",
       "      <td>12</td>\n",
       "      <td>3</td>\n",
       "      <td>224</td>\n",
       "    </tr>\n",
       "  </tbody>\n",
       "</table>\n",
       "</div>"
      ],
      "text/plain": [
       "       PC4  people_number     pm2.5          wd        ws        ssrd  \\\n",
       "7040  5645         2379.0  4.231642  151.204095  1.767653  174.654594   \n",
       "5484  5633         9209.0  4.918526  197.922662  2.152933  297.998955   \n",
       "657   5656        14406.0  5.378546  250.979497  7.409521   22.154852   \n",
       "5183  5611         9479.0  5.261087   63.878370  2.528077  307.555913   \n",
       "7374  5629         8493.0  6.963556  208.344081  1.877202  217.427312   \n",
       "\n",
       "             blh  year  month  day  day_of_week  day_of_year  \n",
       "7040  471.860348  2021      8    2            0          214  \n",
       "5484  681.302216  2021      6   16            2          167  \n",
       "657   979.025571  2021      1   20            2           20  \n",
       "5183  732.884530  2021      6    7            0          158  \n",
       "7374  340.047356  2021      8   12            3          224  "
      ]
     },
     "execution_count": 2,
     "metadata": {},
     "output_type": "execute_result"
    }
   ],
   "source": [
    "# read prepared dataset csv file\n",
    "df = pd.read_csv(\"data/df_prepared_full_data.csv\")\n",
    "df.sample(5)"
   ]
  },
  {
   "cell_type": "markdown",
   "id": "c8b12ef8",
   "metadata": {},
   "source": [
    "<h4><font color=mediumvioletred>Get X and y</font></h4>"
   ]
  },
  {
   "cell_type": "code",
   "execution_count": 3,
   "id": "3cd83af1",
   "metadata": {},
   "outputs": [],
   "source": [
    "X = df.drop(\"pm2.5\", axis=1)\n",
    "y = df[\"pm2.5\"]"
   ]
  },
  {
   "cell_type": "markdown",
   "id": "eb5c7d52",
   "metadata": {},
   "source": [
    "<h4><font color=mediumvioletred>Get a sample of X </font></h4>"
   ]
  },
  {
   "cell_type": "code",
   "execution_count": 4,
   "id": "b9c5b34e",
   "metadata": {},
   "outputs": [
    {
     "data": {
      "text/html": [
       "<div>\n",
       "<style scoped>\n",
       "    .dataframe tbody tr th:only-of-type {\n",
       "        vertical-align: middle;\n",
       "    }\n",
       "\n",
       "    .dataframe tbody tr th {\n",
       "        vertical-align: top;\n",
       "    }\n",
       "\n",
       "    .dataframe thead th {\n",
       "        text-align: right;\n",
       "    }\n",
       "</style>\n",
       "<table border=\"1\" class=\"dataframe\">\n",
       "  <thead>\n",
       "    <tr style=\"text-align: right;\">\n",
       "      <th></th>\n",
       "      <th>PC4</th>\n",
       "      <th>people_number</th>\n",
       "      <th>wd</th>\n",
       "      <th>ws</th>\n",
       "      <th>ssrd</th>\n",
       "      <th>blh</th>\n",
       "      <th>year</th>\n",
       "      <th>month</th>\n",
       "      <th>day</th>\n",
       "      <th>day_of_week</th>\n",
       "      <th>day_of_year</th>\n",
       "    </tr>\n",
       "  </thead>\n",
       "  <tbody>\n",
       "    <tr>\n",
       "      <th>2933</th>\n",
       "      <td>5614</td>\n",
       "      <td>6341.0</td>\n",
       "      <td>290.244193</td>\n",
       "      <td>2.090083</td>\n",
       "      <td>211.792538</td>\n",
       "      <td>180.118740</td>\n",
       "      <td>2021</td>\n",
       "      <td>3</td>\n",
       "      <td>30</td>\n",
       "      <td>1</td>\n",
       "      <td>89</td>\n",
       "    </tr>\n",
       "    <tr>\n",
       "      <th>3770</th>\n",
       "      <td>5621</td>\n",
       "      <td>2882.0</td>\n",
       "      <td>61.274622</td>\n",
       "      <td>3.437768</td>\n",
       "      <td>191.357623</td>\n",
       "      <td>851.939101</td>\n",
       "      <td>2021</td>\n",
       "      <td>4</td>\n",
       "      <td>25</td>\n",
       "      <td>6</td>\n",
       "      <td>115</td>\n",
       "    </tr>\n",
       "    <tr>\n",
       "      <th>7016</th>\n",
       "      <td>5645</td>\n",
       "      <td>1451.0</td>\n",
       "      <td>191.177689</td>\n",
       "      <td>3.206882</td>\n",
       "      <td>149.087146</td>\n",
       "      <td>427.110626</td>\n",
       "      <td>2021</td>\n",
       "      <td>8</td>\n",
       "      <td>1</td>\n",
       "      <td>6</td>\n",
       "      <td>213</td>\n",
       "    </tr>\n",
       "    <tr>\n",
       "      <th>3326</th>\n",
       "      <td>5625</td>\n",
       "      <td>4827.0</td>\n",
       "      <td>113.201503</td>\n",
       "      <td>4.522953</td>\n",
       "      <td>136.048354</td>\n",
       "      <td>745.939818</td>\n",
       "      <td>2021</td>\n",
       "      <td>4</td>\n",
       "      <td>11</td>\n",
       "      <td>6</td>\n",
       "      <td>101</td>\n",
       "    </tr>\n",
       "    <tr>\n",
       "      <th>3559</th>\n",
       "      <td>5644</td>\n",
       "      <td>11038.0</td>\n",
       "      <td>120.579007</td>\n",
       "      <td>2.369459</td>\n",
       "      <td>221.099992</td>\n",
       "      <td>389.646641</td>\n",
       "      <td>2021</td>\n",
       "      <td>4</td>\n",
       "      <td>18</td>\n",
       "      <td>6</td>\n",
       "      <td>108</td>\n",
       "    </tr>\n",
       "  </tbody>\n",
       "</table>\n",
       "</div>"
      ],
      "text/plain": [
       "       PC4  people_number          wd        ws        ssrd         blh  year  \\\n",
       "2933  5614         6341.0  290.244193  2.090083  211.792538  180.118740  2021   \n",
       "3770  5621         2882.0   61.274622  3.437768  191.357623  851.939101  2021   \n",
       "7016  5645         1451.0  191.177689  3.206882  149.087146  427.110626  2021   \n",
       "3326  5625         4827.0  113.201503  4.522953  136.048354  745.939818  2021   \n",
       "3559  5644        11038.0  120.579007  2.369459  221.099992  389.646641  2021   \n",
       "\n",
       "      month  day  day_of_week  day_of_year  \n",
       "2933      3   30            1           89  \n",
       "3770      4   25            6          115  \n",
       "7016      8    1            6          213  \n",
       "3326      4   11            6          101  \n",
       "3559      4   18            6          108  "
      ]
     },
     "execution_count": 4,
     "metadata": {},
     "output_type": "execute_result"
    }
   ],
   "source": [
    "X.sample(5)"
   ]
  },
  {
   "cell_type": "markdown",
   "id": "1ed8c64e",
   "metadata": {},
   "source": [
    "<h4><font color=mediumvioletred>Get a sample of y </font></h4>"
   ]
  },
  {
   "cell_type": "code",
   "execution_count": 5,
   "id": "d1da2d20",
   "metadata": {
    "scrolled": true
   },
   "outputs": [
    {
     "data": {
      "text/plain": [
       "4050    14.298930\n",
       "6545     4.462008\n",
       "9758    16.226271\n",
       "7355     9.339779\n",
       "503     34.686192\n",
       "Name: pm2.5, dtype: float64"
      ]
     },
     "execution_count": 5,
     "metadata": {},
     "output_type": "execute_result"
    }
   ],
   "source": [
    "y.sample(5)"
   ]
  },
  {
   "cell_type": "markdown",
   "id": "476481d4",
   "metadata": {},
   "source": [
    "<h4><font color=mediumvioletred>Check shape of the dataframe </font></h4>"
   ]
  },
  {
   "cell_type": "code",
   "execution_count": 6,
   "id": "2f904c86",
   "metadata": {},
   "outputs": [
    {
     "data": {
      "text/plain": [
       "(10626, 12)"
      ]
     },
     "execution_count": 6,
     "metadata": {},
     "output_type": "execute_result"
    }
   ],
   "source": [
    "df.shape"
   ]
  },
  {
   "cell_type": "markdown",
   "id": "df84c84a",
   "metadata": {},
   "source": [
    "<h4><font color=mediumvioletred>Split data into training and testing </font></h4>"
   ]
  },
  {
   "cell_type": "code",
   "execution_count": 7,
   "id": "02a514f3",
   "metadata": {},
   "outputs": [
    {
     "data": {
      "text/plain": [
       "(6996, 3630)"
      ]
     },
     "execution_count": 7,
     "metadata": {},
     "output_type": "execute_result"
    }
   ],
   "source": [
    "df_train = df[df.month < 8]\n",
    "df_test = df[df.month >= 8]\n",
    "\n",
    "len(df_train), len(df_test)"
   ]
  },
  {
   "cell_type": "markdown",
   "id": "64199c79",
   "metadata": {},
   "source": [
    "<h4><font color=mediumvioletred>Split data into X & y </font></h4>"
   ]
  },
  {
   "cell_type": "code",
   "execution_count": 8,
   "id": "354d5cef",
   "metadata": {},
   "outputs": [
    {
     "data": {
      "text/plain": [
       "((6996, 11), (6996,), (3630, 11), (3630,))"
      ]
     },
     "execution_count": 8,
     "metadata": {},
     "output_type": "execute_result"
    }
   ],
   "source": [
    "X_train, y_train = df_train.drop(\"pm2.5\", axis=1), df_train[\"pm2.5\"]\n",
    "X_test, y_test = df_test.drop(\"pm2.5\", axis=1), df_test[\"pm2.5\"]\n",
    "\n",
    "X_train.shape, y_train.shape, X_test.shape, y_test.shape"
   ]
  },
  {
   "cell_type": "code",
   "execution_count": 9,
   "id": "e0d08f22",
   "metadata": {},
   "outputs": [
    {
     "data": {
      "text/html": [
       "<div>\n",
       "<style scoped>\n",
       "    .dataframe tbody tr th:only-of-type {\n",
       "        vertical-align: middle;\n",
       "    }\n",
       "\n",
       "    .dataframe tbody tr th {\n",
       "        vertical-align: top;\n",
       "    }\n",
       "\n",
       "    .dataframe thead th {\n",
       "        text-align: right;\n",
       "    }\n",
       "</style>\n",
       "<table border=\"1\" class=\"dataframe\">\n",
       "  <thead>\n",
       "    <tr style=\"text-align: right;\">\n",
       "      <th></th>\n",
       "      <th>PC4</th>\n",
       "      <th>people_number</th>\n",
       "      <th>wd</th>\n",
       "      <th>ws</th>\n",
       "      <th>ssrd</th>\n",
       "      <th>blh</th>\n",
       "      <th>year</th>\n",
       "      <th>month</th>\n",
       "      <th>day</th>\n",
       "      <th>day_of_week</th>\n",
       "      <th>day_of_year</th>\n",
       "    </tr>\n",
       "  </thead>\n",
       "  <tbody>\n",
       "    <tr>\n",
       "      <th>0</th>\n",
       "      <td>5611</td>\n",
       "      <td>6671.0</td>\n",
       "      <td>203.334312</td>\n",
       "      <td>2.886824</td>\n",
       "      <td>35.783607</td>\n",
       "      <td>241.558209</td>\n",
       "      <td>2021</td>\n",
       "      <td>1</td>\n",
       "      <td>1</td>\n",
       "      <td>4</td>\n",
       "      <td>1</td>\n",
       "    </tr>\n",
       "    <tr>\n",
       "      <th>1</th>\n",
       "      <td>5656</td>\n",
       "      <td>9330.0</td>\n",
       "      <td>202.914324</td>\n",
       "      <td>2.885721</td>\n",
       "      <td>36.077402</td>\n",
       "      <td>243.613262</td>\n",
       "      <td>2021</td>\n",
       "      <td>1</td>\n",
       "      <td>1</td>\n",
       "      <td>4</td>\n",
       "      <td>1</td>\n",
       "    </tr>\n",
       "    <tr>\n",
       "      <th>2</th>\n",
       "      <td>5658</td>\n",
       "      <td>1539.0</td>\n",
       "      <td>203.860565</td>\n",
       "      <td>2.900199</td>\n",
       "      <td>35.915225</td>\n",
       "      <td>240.125790</td>\n",
       "      <td>2021</td>\n",
       "      <td>1</td>\n",
       "      <td>1</td>\n",
       "      <td>4</td>\n",
       "      <td>1</td>\n",
       "    </tr>\n",
       "    <tr>\n",
       "      <th>3</th>\n",
       "      <td>5612</td>\n",
       "      <td>5478.0</td>\n",
       "      <td>203.603766</td>\n",
       "      <td>2.890154</td>\n",
       "      <td>35.685987</td>\n",
       "      <td>240.507430</td>\n",
       "      <td>2021</td>\n",
       "      <td>1</td>\n",
       "      <td>1</td>\n",
       "      <td>4</td>\n",
       "      <td>1</td>\n",
       "    </tr>\n",
       "    <tr>\n",
       "      <th>4</th>\n",
       "      <td>5625</td>\n",
       "      <td>3793.0</td>\n",
       "      <td>204.119216</td>\n",
       "      <td>2.896506</td>\n",
       "      <td>35.493932</td>\n",
       "      <td>238.454701</td>\n",
       "      <td>2021</td>\n",
       "      <td>1</td>\n",
       "      <td>1</td>\n",
       "      <td>4</td>\n",
       "      <td>1</td>\n",
       "    </tr>\n",
       "  </tbody>\n",
       "</table>\n",
       "</div>"
      ],
      "text/plain": [
       "    PC4  people_number          wd        ws       ssrd         blh  year  \\\n",
       "0  5611         6671.0  203.334312  2.886824  35.783607  241.558209  2021   \n",
       "1  5656         9330.0  202.914324  2.885721  36.077402  243.613262  2021   \n",
       "2  5658         1539.0  203.860565  2.900199  35.915225  240.125790  2021   \n",
       "3  5612         5478.0  203.603766  2.890154  35.685987  240.507430  2021   \n",
       "4  5625         3793.0  204.119216  2.896506  35.493932  238.454701  2021   \n",
       "\n",
       "   month  day  day_of_week  day_of_year  \n",
       "0      1    1            4            1  \n",
       "1      1    1            4            1  \n",
       "2      1    1            4            1  \n",
       "3      1    1            4            1  \n",
       "4      1    1            4            1  "
      ]
     },
     "execution_count": 9,
     "metadata": {},
     "output_type": "execute_result"
    }
   ],
   "source": [
    "X_train.head()"
   ]
  },
  {
   "cell_type": "markdown",
   "id": "2437d2e2",
   "metadata": {},
   "source": [
    "<h4><font color=mediumvioletred>Create a method to evaluate model with Mean Absolute Error (MAE)</font></h4>\n",
    "\n",
    "MAE is the average of the absolute differences between predictions and actual values.\n",
    "It gives an idea of how wrong the model's predictions are."
   ]
  },
  {
   "cell_type": "code",
   "execution_count": 10,
   "id": "77e491d5",
   "metadata": {},
   "outputs": [],
   "source": [
    "def show_scores(model):\n",
    "    train_preds = model.predict(X_train)\n",
    "    test_preds = model.predict(X_test)\n",
    "    scores = {\n",
    "        \"Training MAE\": mean_absolute_error(y_train, train_preds),\n",
    "        \"Testing MAE\": mean_absolute_error(y_test, test_preds)\n",
    "    }\n",
    "    \n",
    "    return scores"
   ]
  },
  {
   "cell_type": "markdown",
   "id": "8c1d43ed",
   "metadata": {},
   "source": [
    "<h4><font color=mediumvioletred>Create a method to get a dataframe containing actual values, predictions and the differences between the two</font></h4>"
   ]
  },
  {
   "cell_type": "code",
   "execution_count": 11,
   "id": "8de71fb5",
   "metadata": {},
   "outputs": [],
   "source": [
    "def get_scores_dataframe(model):\n",
    "    test_preds = model.predict(X_test)\n",
    "    mae = mean_absolute_error(y_test, test_preds)\n",
    "\n",
    "    df = pd.DataFrame(data={\"actual values\": y_test,\n",
    "                           \"predicted values\": test_preds})\n",
    "\n",
    "    df[\"differences\"] = np.abs(df[\"predicted values\"] - df[\"actual values\"])\n",
    "\n",
    "    return df"
   ]
  },
  {
   "cell_type": "markdown",
   "id": "e8eb14a9",
   "metadata": {},
   "source": [
    "<h4><font color=mediumvioletred>Model with RandomForestRegressor </font></h4>"
   ]
  },
  {
   "cell_type": "code",
   "execution_count": 12,
   "id": "8da08b52",
   "metadata": {},
   "outputs": [
    {
     "data": {
      "text/plain": [
       "RandomForestRegressor(n_jobs=-1, random_state=42)"
      ]
     },
     "execution_count": 12,
     "metadata": {},
     "output_type": "execute_result"
    }
   ],
   "source": [
    "rf_model = RandomForestRegressor(n_jobs=-1,\n",
    "                             random_state=42)\n",
    "\n",
    "# fit the model\n",
    "rf_model.fit(X_train, y_train)"
   ]
  },
  {
   "cell_type": "code",
   "execution_count": 13,
   "id": "fc366a2a",
   "metadata": {},
   "outputs": [
    {
     "data": {
      "text/plain": [
       "{'Training MAE': 0.04171778584017382, 'Testing MAE': 5.808087347686456}"
      ]
     },
     "execution_count": 13,
     "metadata": {},
     "output_type": "execute_result"
    }
   ],
   "source": [
    "# score model\n",
    "show_scores(rf_model)"
   ]
  },
  {
   "cell_type": "code",
   "execution_count": 14,
   "id": "406d0e1c",
   "metadata": {},
   "outputs": [
    {
     "data": {
      "text/html": [
       "<div>\n",
       "<style scoped>\n",
       "    .dataframe tbody tr th:only-of-type {\n",
       "        vertical-align: middle;\n",
       "    }\n",
       "\n",
       "    .dataframe tbody tr th {\n",
       "        vertical-align: top;\n",
       "    }\n",
       "\n",
       "    .dataframe thead th {\n",
       "        text-align: right;\n",
       "    }\n",
       "</style>\n",
       "<table border=\"1\" class=\"dataframe\">\n",
       "  <thead>\n",
       "    <tr style=\"text-align: right;\">\n",
       "      <th></th>\n",
       "      <th>actual values</th>\n",
       "      <th>predicted values</th>\n",
       "      <th>differences</th>\n",
       "    </tr>\n",
       "  </thead>\n",
       "  <tbody>\n",
       "    <tr>\n",
       "      <th>10554</th>\n",
       "      <td>52.221626</td>\n",
       "      <td>8.736306</td>\n",
       "      <td>43.485320</td>\n",
       "    </tr>\n",
       "    <tr>\n",
       "      <th>10552</th>\n",
       "      <td>52.221626</td>\n",
       "      <td>8.736306</td>\n",
       "      <td>43.485320</td>\n",
       "    </tr>\n",
       "    <tr>\n",
       "      <th>10528</th>\n",
       "      <td>52.191574</td>\n",
       "      <td>8.701670</td>\n",
       "      <td>43.489904</td>\n",
       "    </tr>\n",
       "    <tr>\n",
       "      <th>10539</th>\n",
       "      <td>52.191574</td>\n",
       "      <td>8.695751</td>\n",
       "      <td>43.495824</td>\n",
       "    </tr>\n",
       "    <tr>\n",
       "      <th>10559</th>\n",
       "      <td>52.191574</td>\n",
       "      <td>8.695310</td>\n",
       "      <td>43.496264</td>\n",
       "    </tr>\n",
       "    <tr>\n",
       "      <th>10550</th>\n",
       "      <td>52.191574</td>\n",
       "      <td>8.695310</td>\n",
       "      <td>43.496264</td>\n",
       "    </tr>\n",
       "    <tr>\n",
       "      <th>10549</th>\n",
       "      <td>52.513554</td>\n",
       "      <td>8.707596</td>\n",
       "      <td>43.805958</td>\n",
       "    </tr>\n",
       "    <tr>\n",
       "      <th>10553</th>\n",
       "      <td>53.134212</td>\n",
       "      <td>8.743520</td>\n",
       "      <td>44.390692</td>\n",
       "    </tr>\n",
       "    <tr>\n",
       "      <th>10540</th>\n",
       "      <td>53.134212</td>\n",
       "      <td>8.728602</td>\n",
       "      <td>44.405611</td>\n",
       "    </tr>\n",
       "    <tr>\n",
       "      <th>10558</th>\n",
       "      <td>53.134212</td>\n",
       "      <td>8.709376</td>\n",
       "      <td>44.424836</td>\n",
       "    </tr>\n",
       "  </tbody>\n",
       "</table>\n",
       "</div>"
      ],
      "text/plain": [
       "       actual values  predicted values  differences\n",
       "10554      52.221626          8.736306    43.485320\n",
       "10552      52.221626          8.736306    43.485320\n",
       "10528      52.191574          8.701670    43.489904\n",
       "10539      52.191574          8.695751    43.495824\n",
       "10559      52.191574          8.695310    43.496264\n",
       "10550      52.191574          8.695310    43.496264\n",
       "10549      52.513554          8.707596    43.805958\n",
       "10553      53.134212          8.743520    44.390692\n",
       "10540      53.134212          8.728602    44.405611\n",
       "10558      53.134212          8.709376    44.424836"
      ]
     },
     "execution_count": 14,
     "metadata": {},
     "output_type": "execute_result"
    }
   ],
   "source": [
    "# create dataframe containing actual values, predictions and the differences between them\n",
    "df_scores = get_scores_dataframe(rf_model)\n",
    "df_scores.sort_values(by=\"differences\").tail(10)"
   ]
  },
  {
   "cell_type": "markdown",
   "id": "1615bb6a",
   "metadata": {},
   "source": [
    "<h4><font color=mediumvioletred>Model with SGDClassifier </font></h4>"
   ]
  },
  {
   "cell_type": "code",
   "execution_count": 15,
   "id": "c988406b",
   "metadata": {},
   "outputs": [
    {
     "data": {
      "text/plain": [
       "SGDClassifier(n_jobs=-1, random_state=42)"
      ]
     },
     "execution_count": 15,
     "metadata": {},
     "output_type": "execute_result"
    }
   ],
   "source": [
    "sgd_model = SGDClassifier(n_jobs=-1,\n",
    "                        random_state=42)\n",
    "\n",
    "# fit the model\n",
    "sgd_model.fit(X_train, y_train.astype(int))"
   ]
  },
  {
   "cell_type": "code",
   "execution_count": 16,
   "id": "660a5391",
   "metadata": {},
   "outputs": [
    {
     "data": {
      "text/plain": [
       "{'Training MAE': 5.636144156470307, 'Testing MAE': 6.820826154766663}"
      ]
     },
     "execution_count": 16,
     "metadata": {},
     "output_type": "execute_result"
    }
   ],
   "source": [
    "# score model\n",
    "show_scores(sgd_model)"
   ]
  },
  {
   "cell_type": "code",
   "execution_count": 17,
   "id": "1b492569",
   "metadata": {},
   "outputs": [
    {
     "data": {
      "text/html": [
       "<div>\n",
       "<style scoped>\n",
       "    .dataframe tbody tr th:only-of-type {\n",
       "        vertical-align: middle;\n",
       "    }\n",
       "\n",
       "    .dataframe tbody tr th {\n",
       "        vertical-align: top;\n",
       "    }\n",
       "\n",
       "    .dataframe thead th {\n",
       "        text-align: right;\n",
       "    }\n",
       "</style>\n",
       "<table border=\"1\" class=\"dataframe\">\n",
       "  <thead>\n",
       "    <tr style=\"text-align: right;\">\n",
       "      <th></th>\n",
       "      <th>actual values</th>\n",
       "      <th>predicted values</th>\n",
       "      <th>differences</th>\n",
       "    </tr>\n",
       "  </thead>\n",
       "  <tbody>\n",
       "    <tr>\n",
       "      <th>10558</th>\n",
       "      <td>53.134212</td>\n",
       "      <td>7</td>\n",
       "      <td>46.134212</td>\n",
       "    </tr>\n",
       "    <tr>\n",
       "      <th>10548</th>\n",
       "      <td>49.394966</td>\n",
       "      <td>3</td>\n",
       "      <td>46.394966</td>\n",
       "    </tr>\n",
       "    <tr>\n",
       "      <th>10542</th>\n",
       "      <td>50.327637</td>\n",
       "      <td>3</td>\n",
       "      <td>47.327637</td>\n",
       "    </tr>\n",
       "    <tr>\n",
       "      <th>10536</th>\n",
       "      <td>50.327637</td>\n",
       "      <td>3</td>\n",
       "      <td>47.327637</td>\n",
       "    </tr>\n",
       "    <tr>\n",
       "      <th>10527</th>\n",
       "      <td>51.049526</td>\n",
       "      <td>3</td>\n",
       "      <td>48.049526</td>\n",
       "    </tr>\n",
       "    <tr>\n",
       "      <th>10550</th>\n",
       "      <td>52.191574</td>\n",
       "      <td>3</td>\n",
       "      <td>49.191574</td>\n",
       "    </tr>\n",
       "    <tr>\n",
       "      <th>10539</th>\n",
       "      <td>52.191574</td>\n",
       "      <td>3</td>\n",
       "      <td>49.191574</td>\n",
       "    </tr>\n",
       "    <tr>\n",
       "      <th>10559</th>\n",
       "      <td>52.191574</td>\n",
       "      <td>3</td>\n",
       "      <td>49.191574</td>\n",
       "    </tr>\n",
       "    <tr>\n",
       "      <th>10528</th>\n",
       "      <td>52.191574</td>\n",
       "      <td>3</td>\n",
       "      <td>49.191574</td>\n",
       "    </tr>\n",
       "    <tr>\n",
       "      <th>10553</th>\n",
       "      <td>53.134212</td>\n",
       "      <td>3</td>\n",
       "      <td>50.134212</td>\n",
       "    </tr>\n",
       "  </tbody>\n",
       "</table>\n",
       "</div>"
      ],
      "text/plain": [
       "       actual values  predicted values  differences\n",
       "10558      53.134212                 7    46.134212\n",
       "10548      49.394966                 3    46.394966\n",
       "10542      50.327637                 3    47.327637\n",
       "10536      50.327637                 3    47.327637\n",
       "10527      51.049526                 3    48.049526\n",
       "10550      52.191574                 3    49.191574\n",
       "10539      52.191574                 3    49.191574\n",
       "10559      52.191574                 3    49.191574\n",
       "10528      52.191574                 3    49.191574\n",
       "10553      53.134212                 3    50.134212"
      ]
     },
     "execution_count": 17,
     "metadata": {},
     "output_type": "execute_result"
    }
   ],
   "source": [
    "# create dataframe containing actual values, predictions and the differences between them\n",
    "df_scores = get_scores_dataframe(sgd_model)\n",
    "df_scores.sort_values(by=\"differences\").tail(10)"
   ]
  },
  {
   "cell_type": "markdown",
   "id": "051d9f3d",
   "metadata": {},
   "source": [
    "<h4><font color=mediumvioletred>Model with BayesianRidge </font></h4>"
   ]
  },
  {
   "cell_type": "code",
   "execution_count": 18,
   "id": "f581ff8a",
   "metadata": {},
   "outputs": [
    {
     "data": {
      "text/plain": [
       "BayesianRidge()"
      ]
     },
     "execution_count": 18,
     "metadata": {},
     "output_type": "execute_result"
    }
   ],
   "source": [
    "br_model = BayesianRidge()\n",
    "\n",
    "# fit the model\n",
    "br_model.fit(X_train, y_train)"
   ]
  },
  {
   "cell_type": "code",
   "execution_count": 19,
   "id": "50444332",
   "metadata": {},
   "outputs": [
    {
     "data": {
      "text/plain": [
       "{'Training MAE': 4.493719072780842, 'Testing MAE': 12.533384729521654}"
      ]
     },
     "execution_count": 19,
     "metadata": {},
     "output_type": "execute_result"
    }
   ],
   "source": [
    "# score model\n",
    "show_scores(br_model)"
   ]
  },
  {
   "cell_type": "code",
   "execution_count": 20,
   "id": "3f237fd9",
   "metadata": {},
   "outputs": [
    {
     "data": {
      "text/html": [
       "<div>\n",
       "<style scoped>\n",
       "    .dataframe tbody tr th:only-of-type {\n",
       "        vertical-align: middle;\n",
       "    }\n",
       "\n",
       "    .dataframe tbody tr th {\n",
       "        vertical-align: top;\n",
       "    }\n",
       "\n",
       "    .dataframe thead th {\n",
       "        text-align: right;\n",
       "    }\n",
       "</style>\n",
       "<table border=\"1\" class=\"dataframe\">\n",
       "  <thead>\n",
       "    <tr style=\"text-align: right;\">\n",
       "      <th></th>\n",
       "      <th>actual values</th>\n",
       "      <th>predicted values</th>\n",
       "      <th>differences</th>\n",
       "    </tr>\n",
       "  </thead>\n",
       "  <tbody>\n",
       "    <tr>\n",
       "      <th>10538</th>\n",
       "      <td>52.221626</td>\n",
       "      <td>-2.137597</td>\n",
       "      <td>54.359223</td>\n",
       "    </tr>\n",
       "    <tr>\n",
       "      <th>10556</th>\n",
       "      <td>52.221626</td>\n",
       "      <td>-2.141879</td>\n",
       "      <td>54.363505</td>\n",
       "    </tr>\n",
       "    <tr>\n",
       "      <th>10552</th>\n",
       "      <td>52.221626</td>\n",
       "      <td>-2.145186</td>\n",
       "      <td>54.366812</td>\n",
       "    </tr>\n",
       "    <tr>\n",
       "      <th>10532</th>\n",
       "      <td>52.221626</td>\n",
       "      <td>-2.161142</td>\n",
       "      <td>54.382768</td>\n",
       "    </tr>\n",
       "    <tr>\n",
       "      <th>10534</th>\n",
       "      <td>52.221626</td>\n",
       "      <td>-2.162837</td>\n",
       "      <td>54.384464</td>\n",
       "    </tr>\n",
       "    <tr>\n",
       "      <th>10547</th>\n",
       "      <td>52.221626</td>\n",
       "      <td>-2.182549</td>\n",
       "      <td>54.404175</td>\n",
       "    </tr>\n",
       "    <tr>\n",
       "      <th>10549</th>\n",
       "      <td>52.513554</td>\n",
       "      <td>-2.066935</td>\n",
       "      <td>54.580489</td>\n",
       "    </tr>\n",
       "    <tr>\n",
       "      <th>10553</th>\n",
       "      <td>53.134212</td>\n",
       "      <td>-2.028515</td>\n",
       "      <td>55.162728</td>\n",
       "    </tr>\n",
       "    <tr>\n",
       "      <th>10558</th>\n",
       "      <td>53.134212</td>\n",
       "      <td>-2.068599</td>\n",
       "      <td>55.202812</td>\n",
       "    </tr>\n",
       "    <tr>\n",
       "      <th>10540</th>\n",
       "      <td>53.134212</td>\n",
       "      <td>-2.073668</td>\n",
       "      <td>55.207880</td>\n",
       "    </tr>\n",
       "  </tbody>\n",
       "</table>\n",
       "</div>"
      ],
      "text/plain": [
       "       actual values  predicted values  differences\n",
       "10538      52.221626         -2.137597    54.359223\n",
       "10556      52.221626         -2.141879    54.363505\n",
       "10552      52.221626         -2.145186    54.366812\n",
       "10532      52.221626         -2.161142    54.382768\n",
       "10534      52.221626         -2.162837    54.384464\n",
       "10547      52.221626         -2.182549    54.404175\n",
       "10549      52.513554         -2.066935    54.580489\n",
       "10553      53.134212         -2.028515    55.162728\n",
       "10558      53.134212         -2.068599    55.202812\n",
       "10540      53.134212         -2.073668    55.207880"
      ]
     },
     "execution_count": 20,
     "metadata": {},
     "output_type": "execute_result"
    }
   ],
   "source": [
    "# create dataframe containing actual values, predictions and the differences between them\n",
    "df_scores = get_scores_dataframe(br_model)\n",
    "df_scores.sort_values(by=\"differences\").tail(10)"
   ]
  },
  {
   "cell_type": "markdown",
   "id": "bbb23291",
   "metadata": {},
   "source": [
    "<h4><font color=mediumvioletred>Model with Lasso </font></h4>"
   ]
  },
  {
   "cell_type": "code",
   "execution_count": 21,
   "id": "67a3327d",
   "metadata": {},
   "outputs": [
    {
     "data": {
      "text/plain": [
       "LassoLars(alpha=0.1, normalize=False, random_state=42)"
      ]
     },
     "execution_count": 21,
     "metadata": {},
     "output_type": "execute_result"
    }
   ],
   "source": [
    "lasso_model = LassoLars(alpha=.1, \n",
    "                  normalize=False,\n",
    "                  random_state=42)\n",
    "\n",
    "# fit the model\n",
    "lasso_model.fit(X_train, y_train)"
   ]
  },
  {
   "cell_type": "code",
   "execution_count": 22,
   "id": "6c62aca6",
   "metadata": {},
   "outputs": [
    {
     "data": {
      "text/plain": [
       "{'Training MAE': 4.718627988121286, 'Testing MAE': 9.193399983957317}"
      ]
     },
     "execution_count": 22,
     "metadata": {},
     "output_type": "execute_result"
    }
   ],
   "source": [
    "# score model\n",
    "show_scores(lasso_model)"
   ]
  },
  {
   "cell_type": "code",
   "execution_count": 23,
   "id": "9b74e8af",
   "metadata": {},
   "outputs": [
    {
     "data": {
      "text/html": [
       "<div>\n",
       "<style scoped>\n",
       "    .dataframe tbody tr th:only-of-type {\n",
       "        vertical-align: middle;\n",
       "    }\n",
       "\n",
       "    .dataframe tbody tr th {\n",
       "        vertical-align: top;\n",
       "    }\n",
       "\n",
       "    .dataframe thead th {\n",
       "        text-align: right;\n",
       "    }\n",
       "</style>\n",
       "<table border=\"1\" class=\"dataframe\">\n",
       "  <thead>\n",
       "    <tr style=\"text-align: right;\">\n",
       "      <th></th>\n",
       "      <th>actual values</th>\n",
       "      <th>predicted values</th>\n",
       "      <th>differences</th>\n",
       "    </tr>\n",
       "  </thead>\n",
       "  <tbody>\n",
       "    <tr>\n",
       "      <th>10556</th>\n",
       "      <td>52.221626</td>\n",
       "      <td>3.399523</td>\n",
       "      <td>48.822104</td>\n",
       "    </tr>\n",
       "    <tr>\n",
       "      <th>10538</th>\n",
       "      <td>52.221626</td>\n",
       "      <td>3.392149</td>\n",
       "      <td>48.829477</td>\n",
       "    </tr>\n",
       "    <tr>\n",
       "      <th>10534</th>\n",
       "      <td>52.221626</td>\n",
       "      <td>3.390166</td>\n",
       "      <td>48.831460</td>\n",
       "    </tr>\n",
       "    <tr>\n",
       "      <th>10532</th>\n",
       "      <td>52.221626</td>\n",
       "      <td>3.388391</td>\n",
       "      <td>48.833236</td>\n",
       "    </tr>\n",
       "    <tr>\n",
       "      <th>10552</th>\n",
       "      <td>52.221626</td>\n",
       "      <td>3.387409</td>\n",
       "      <td>48.834217</td>\n",
       "    </tr>\n",
       "    <tr>\n",
       "      <th>10547</th>\n",
       "      <td>52.221626</td>\n",
       "      <td>3.378918</td>\n",
       "      <td>48.842708</td>\n",
       "    </tr>\n",
       "    <tr>\n",
       "      <th>10549</th>\n",
       "      <td>52.513554</td>\n",
       "      <td>3.456812</td>\n",
       "      <td>49.056741</td>\n",
       "    </tr>\n",
       "    <tr>\n",
       "      <th>10540</th>\n",
       "      <td>53.134212</td>\n",
       "      <td>3.488185</td>\n",
       "      <td>49.646028</td>\n",
       "    </tr>\n",
       "    <tr>\n",
       "      <th>10558</th>\n",
       "      <td>53.134212</td>\n",
       "      <td>3.459423</td>\n",
       "      <td>49.674790</td>\n",
       "    </tr>\n",
       "    <tr>\n",
       "      <th>10553</th>\n",
       "      <td>53.134212</td>\n",
       "      <td>3.457639</td>\n",
       "      <td>49.676573</td>\n",
       "    </tr>\n",
       "  </tbody>\n",
       "</table>\n",
       "</div>"
      ],
      "text/plain": [
       "       actual values  predicted values  differences\n",
       "10556      52.221626          3.399523    48.822104\n",
       "10538      52.221626          3.392149    48.829477\n",
       "10534      52.221626          3.390166    48.831460\n",
       "10532      52.221626          3.388391    48.833236\n",
       "10552      52.221626          3.387409    48.834217\n",
       "10547      52.221626          3.378918    48.842708\n",
       "10549      52.513554          3.456812    49.056741\n",
       "10540      53.134212          3.488185    49.646028\n",
       "10558      53.134212          3.459423    49.674790\n",
       "10553      53.134212          3.457639    49.676573"
      ]
     },
     "execution_count": 23,
     "metadata": {},
     "output_type": "execute_result"
    }
   ],
   "source": [
    "# create dataframe containing actual values, predictions and the differences between them\n",
    "df_scores = get_scores_dataframe(lasso_model)\n",
    "df_scores.sort_values(by=\"differences\").tail(10)"
   ]
  },
  {
   "cell_type": "markdown",
   "id": "45d3664c",
   "metadata": {},
   "source": [
    "<h4><font color=mediumvioletred>Model with ElasticNet </font></h4>"
   ]
  },
  {
   "cell_type": "code",
   "execution_count": 24,
   "id": "dde87c2b",
   "metadata": {},
   "outputs": [
    {
     "data": {
      "text/plain": [
       "ElasticNet(random_state=42)"
      ]
     },
     "execution_count": 24,
     "metadata": {},
     "output_type": "execute_result"
    }
   ],
   "source": [
    "en_model = ElasticNet(random_state=42)\n",
    "\n",
    "# fit the model\n",
    "en_model.fit(X_train, y_train)"
   ]
  },
  {
   "cell_type": "code",
   "execution_count": 25,
   "id": "7dd8bfbb",
   "metadata": {},
   "outputs": [
    {
     "data": {
      "text/plain": [
       "{'Training MAE': 4.711480312254824, 'Testing MAE': 9.081408868592785}"
      ]
     },
     "execution_count": 25,
     "metadata": {},
     "output_type": "execute_result"
    }
   ],
   "source": [
    "# score model\n",
    "show_scores(en_model)"
   ]
  },
  {
   "cell_type": "code",
   "execution_count": 26,
   "id": "83f86332",
   "metadata": {},
   "outputs": [
    {
     "data": {
      "text/html": [
       "<div>\n",
       "<style scoped>\n",
       "    .dataframe tbody tr th:only-of-type {\n",
       "        vertical-align: middle;\n",
       "    }\n",
       "\n",
       "    .dataframe tbody tr th {\n",
       "        vertical-align: top;\n",
       "    }\n",
       "\n",
       "    .dataframe thead th {\n",
       "        text-align: right;\n",
       "    }\n",
       "</style>\n",
       "<table border=\"1\" class=\"dataframe\">\n",
       "  <thead>\n",
       "    <tr style=\"text-align: right;\">\n",
       "      <th></th>\n",
       "      <th>actual values</th>\n",
       "      <th>predicted values</th>\n",
       "      <th>differences</th>\n",
       "    </tr>\n",
       "  </thead>\n",
       "  <tbody>\n",
       "    <tr>\n",
       "      <th>10556</th>\n",
       "      <td>52.221626</td>\n",
       "      <td>3.069623</td>\n",
       "      <td>49.152003</td>\n",
       "    </tr>\n",
       "    <tr>\n",
       "      <th>10554</th>\n",
       "      <td>52.221626</td>\n",
       "      <td>3.066803</td>\n",
       "      <td>49.154823</td>\n",
       "    </tr>\n",
       "    <tr>\n",
       "      <th>10547</th>\n",
       "      <td>52.221626</td>\n",
       "      <td>3.064831</td>\n",
       "      <td>49.156795</td>\n",
       "    </tr>\n",
       "    <tr>\n",
       "      <th>10532</th>\n",
       "      <td>52.221626</td>\n",
       "      <td>3.064592</td>\n",
       "      <td>49.157034</td>\n",
       "    </tr>\n",
       "    <tr>\n",
       "      <th>10538</th>\n",
       "      <td>52.221626</td>\n",
       "      <td>3.055465</td>\n",
       "      <td>49.166161</td>\n",
       "    </tr>\n",
       "    <tr>\n",
       "      <th>10552</th>\n",
       "      <td>52.221626</td>\n",
       "      <td>3.052110</td>\n",
       "      <td>49.169516</td>\n",
       "    </tr>\n",
       "    <tr>\n",
       "      <th>10549</th>\n",
       "      <td>52.513554</td>\n",
       "      <td>3.092049</td>\n",
       "      <td>49.421505</td>\n",
       "    </tr>\n",
       "    <tr>\n",
       "      <th>10540</th>\n",
       "      <td>53.134212</td>\n",
       "      <td>3.143768</td>\n",
       "      <td>49.990444</td>\n",
       "    </tr>\n",
       "    <tr>\n",
       "      <th>10558</th>\n",
       "      <td>53.134212</td>\n",
       "      <td>3.100039</td>\n",
       "      <td>50.034173</td>\n",
       "    </tr>\n",
       "    <tr>\n",
       "      <th>10553</th>\n",
       "      <td>53.134212</td>\n",
       "      <td>3.066014</td>\n",
       "      <td>50.068198</td>\n",
       "    </tr>\n",
       "  </tbody>\n",
       "</table>\n",
       "</div>"
      ],
      "text/plain": [
       "       actual values  predicted values  differences\n",
       "10556      52.221626          3.069623    49.152003\n",
       "10554      52.221626          3.066803    49.154823\n",
       "10547      52.221626          3.064831    49.156795\n",
       "10532      52.221626          3.064592    49.157034\n",
       "10538      52.221626          3.055465    49.166161\n",
       "10552      52.221626          3.052110    49.169516\n",
       "10549      52.513554          3.092049    49.421505\n",
       "10540      53.134212          3.143768    49.990444\n",
       "10558      53.134212          3.100039    50.034173\n",
       "10553      53.134212          3.066014    50.068198"
      ]
     },
     "execution_count": 26,
     "metadata": {},
     "output_type": "execute_result"
    }
   ],
   "source": [
    "# create dataframe containing actual values, predictions and the differences between them\n",
    "df_scores = get_scores_dataframe(en_model)\n",
    "df_scores.sort_values(by=\"differences\").tail(10)"
   ]
  },
  {
   "cell_type": "markdown",
   "id": "23cf13b8",
   "metadata": {},
   "source": [
    "<h4><font color=mediumvioletred>Model with SVR </font></h4>"
   ]
  },
  {
   "cell_type": "code",
   "execution_count": 27,
   "id": "dedf10a8",
   "metadata": {},
   "outputs": [
    {
     "data": {
      "text/plain": [
       "SVR()"
      ]
     },
     "execution_count": 27,
     "metadata": {},
     "output_type": "execute_result"
    }
   ],
   "source": [
    "svr_model = SVR()\n",
    "\n",
    "# fit the model\n",
    "svr_model.fit(X_train, y_train)"
   ]
  },
  {
   "cell_type": "code",
   "execution_count": 28,
   "id": "803528cc",
   "metadata": {},
   "outputs": [
    {
     "data": {
      "text/plain": [
       "{'Training MAE': 5.333511269470986, 'Testing MAE': 5.7497847250923115}"
      ]
     },
     "execution_count": 28,
     "metadata": {},
     "output_type": "execute_result"
    }
   ],
   "source": [
    "# score model\n",
    "show_scores(svr_model)"
   ]
  },
  {
   "cell_type": "code",
   "execution_count": 29,
   "id": "c59c13fa",
   "metadata": {},
   "outputs": [
    {
     "data": {
      "text/html": [
       "<div>\n",
       "<style scoped>\n",
       "    .dataframe tbody tr th:only-of-type {\n",
       "        vertical-align: middle;\n",
       "    }\n",
       "\n",
       "    .dataframe tbody tr th {\n",
       "        vertical-align: top;\n",
       "    }\n",
       "\n",
       "    .dataframe thead th {\n",
       "        text-align: right;\n",
       "    }\n",
       "</style>\n",
       "<table border=\"1\" class=\"dataframe\">\n",
       "  <thead>\n",
       "    <tr style=\"text-align: right;\">\n",
       "      <th></th>\n",
       "      <th>actual values</th>\n",
       "      <th>predicted values</th>\n",
       "      <th>differences</th>\n",
       "    </tr>\n",
       "  </thead>\n",
       "  <tbody>\n",
       "    <tr>\n",
       "      <th>10554</th>\n",
       "      <td>52.221626</td>\n",
       "      <td>11.453576</td>\n",
       "      <td>40.768050</td>\n",
       "    </tr>\n",
       "    <tr>\n",
       "      <th>10552</th>\n",
       "      <td>52.221626</td>\n",
       "      <td>11.412368</td>\n",
       "      <td>40.809258</td>\n",
       "    </tr>\n",
       "    <tr>\n",
       "      <th>10556</th>\n",
       "      <td>52.221626</td>\n",
       "      <td>10.988021</td>\n",
       "      <td>41.233605</td>\n",
       "    </tr>\n",
       "    <tr>\n",
       "      <th>10385</th>\n",
       "      <td>49.336040</td>\n",
       "      <td>8.068439</td>\n",
       "      <td>41.267601</td>\n",
       "    </tr>\n",
       "    <tr>\n",
       "      <th>10532</th>\n",
       "      <td>52.221626</td>\n",
       "      <td>10.443014</td>\n",
       "      <td>41.778612</td>\n",
       "    </tr>\n",
       "    <tr>\n",
       "      <th>10534</th>\n",
       "      <td>52.221626</td>\n",
       "      <td>10.269881</td>\n",
       "      <td>41.951745</td>\n",
       "    </tr>\n",
       "    <tr>\n",
       "      <th>10549</th>\n",
       "      <td>52.513554</td>\n",
       "      <td>10.431605</td>\n",
       "      <td>42.081948</td>\n",
       "    </tr>\n",
       "    <tr>\n",
       "      <th>10547</th>\n",
       "      <td>52.221626</td>\n",
       "      <td>9.809105</td>\n",
       "      <td>42.412522</td>\n",
       "    </tr>\n",
       "    <tr>\n",
       "      <th>10558</th>\n",
       "      <td>53.134212</td>\n",
       "      <td>10.181038</td>\n",
       "      <td>42.953174</td>\n",
       "    </tr>\n",
       "    <tr>\n",
       "      <th>10540</th>\n",
       "      <td>53.134212</td>\n",
       "      <td>8.129580</td>\n",
       "      <td>45.004633</td>\n",
       "    </tr>\n",
       "  </tbody>\n",
       "</table>\n",
       "</div>"
      ],
      "text/plain": [
       "       actual values  predicted values  differences\n",
       "10554      52.221626         11.453576    40.768050\n",
       "10552      52.221626         11.412368    40.809258\n",
       "10556      52.221626         10.988021    41.233605\n",
       "10385      49.336040          8.068439    41.267601\n",
       "10532      52.221626         10.443014    41.778612\n",
       "10534      52.221626         10.269881    41.951745\n",
       "10549      52.513554         10.431605    42.081948\n",
       "10547      52.221626          9.809105    42.412522\n",
       "10558      53.134212         10.181038    42.953174\n",
       "10540      53.134212          8.129580    45.004633"
      ]
     },
     "execution_count": 29,
     "metadata": {},
     "output_type": "execute_result"
    }
   ],
   "source": [
    "# create dataframe containing actual values, predictions and the differences between them\n",
    "df_scores = get_scores_dataframe(svr_model)\n",
    "df_scores.sort_values(by=\"differences\").tail(10)"
   ]
  },
  {
   "cell_type": "markdown",
   "id": "9ec083f0",
   "metadata": {},
   "source": [
    "<h4><font color=mediumvioletred>Model with GradientBoostingRegressor </font></h4>"
   ]
  },
  {
   "cell_type": "code",
   "execution_count": 30,
   "id": "fbf18f41",
   "metadata": {},
   "outputs": [
    {
     "data": {
      "text/plain": [
       "GradientBoostingRegressor(max_depth=1, random_state=42)"
      ]
     },
     "execution_count": 30,
     "metadata": {},
     "output_type": "execute_result"
    }
   ],
   "source": [
    "gbr_model = GradientBoostingRegressor(n_estimators=100, \n",
    "                                  learning_rate=0.1, \n",
    "                                  max_depth=1,\n",
    "                                  random_state=42)\n",
    "\n",
    "# fit the model\n",
    "gbr_model.fit(X_train, y_train)"
   ]
  },
  {
   "cell_type": "code",
   "execution_count": 31,
   "id": "1abd53d2",
   "metadata": {},
   "outputs": [
    {
     "data": {
      "text/plain": [
       "{'Training MAE': 3.702118080860074, 'Testing MAE': 5.003318273816123}"
      ]
     },
     "execution_count": 31,
     "metadata": {},
     "output_type": "execute_result"
    }
   ],
   "source": [
    "# score model\n",
    "show_scores(gbr_model)"
   ]
  },
  {
   "cell_type": "code",
   "execution_count": 32,
   "id": "8c12d79e",
   "metadata": {},
   "outputs": [
    {
     "data": {
      "text/html": [
       "<div>\n",
       "<style scoped>\n",
       "    .dataframe tbody tr th:only-of-type {\n",
       "        vertical-align: middle;\n",
       "    }\n",
       "\n",
       "    .dataframe tbody tr th {\n",
       "        vertical-align: top;\n",
       "    }\n",
       "\n",
       "    .dataframe thead th {\n",
       "        text-align: right;\n",
       "    }\n",
       "</style>\n",
       "<table border=\"1\" class=\"dataframe\">\n",
       "  <thead>\n",
       "    <tr style=\"text-align: right;\">\n",
       "      <th></th>\n",
       "      <th>actual values</th>\n",
       "      <th>predicted values</th>\n",
       "      <th>differences</th>\n",
       "    </tr>\n",
       "  </thead>\n",
       "  <tbody>\n",
       "    <tr>\n",
       "      <th>10552</th>\n",
       "      <td>52.221626</td>\n",
       "      <td>16.393411</td>\n",
       "      <td>35.828215</td>\n",
       "    </tr>\n",
       "    <tr>\n",
       "      <th>10538</th>\n",
       "      <td>52.221626</td>\n",
       "      <td>16.393411</td>\n",
       "      <td>35.828215</td>\n",
       "    </tr>\n",
       "    <tr>\n",
       "      <th>10547</th>\n",
       "      <td>52.221626</td>\n",
       "      <td>16.393411</td>\n",
       "      <td>35.828215</td>\n",
       "    </tr>\n",
       "    <tr>\n",
       "      <th>10554</th>\n",
       "      <td>52.221626</td>\n",
       "      <td>16.393411</td>\n",
       "      <td>35.828215</td>\n",
       "    </tr>\n",
       "    <tr>\n",
       "      <th>10534</th>\n",
       "      <td>52.221626</td>\n",
       "      <td>16.393411</td>\n",
       "      <td>35.828215</td>\n",
       "    </tr>\n",
       "    <tr>\n",
       "      <th>10549</th>\n",
       "      <td>52.513554</td>\n",
       "      <td>16.393411</td>\n",
       "      <td>36.120142</td>\n",
       "    </tr>\n",
       "    <tr>\n",
       "      <th>10427</th>\n",
       "      <td>45.380806</td>\n",
       "      <td>9.213524</td>\n",
       "      <td>36.167282</td>\n",
       "    </tr>\n",
       "    <tr>\n",
       "      <th>10558</th>\n",
       "      <td>53.134212</td>\n",
       "      <td>16.393411</td>\n",
       "      <td>36.740801</td>\n",
       "    </tr>\n",
       "    <tr>\n",
       "      <th>10553</th>\n",
       "      <td>53.134212</td>\n",
       "      <td>16.393411</td>\n",
       "      <td>36.740801</td>\n",
       "    </tr>\n",
       "    <tr>\n",
       "      <th>10540</th>\n",
       "      <td>53.134212</td>\n",
       "      <td>16.393411</td>\n",
       "      <td>36.740801</td>\n",
       "    </tr>\n",
       "  </tbody>\n",
       "</table>\n",
       "</div>"
      ],
      "text/plain": [
       "       actual values  predicted values  differences\n",
       "10552      52.221626         16.393411    35.828215\n",
       "10538      52.221626         16.393411    35.828215\n",
       "10547      52.221626         16.393411    35.828215\n",
       "10554      52.221626         16.393411    35.828215\n",
       "10534      52.221626         16.393411    35.828215\n",
       "10549      52.513554         16.393411    36.120142\n",
       "10427      45.380806          9.213524    36.167282\n",
       "10558      53.134212         16.393411    36.740801\n",
       "10553      53.134212         16.393411    36.740801\n",
       "10540      53.134212         16.393411    36.740801"
      ]
     },
     "execution_count": 32,
     "metadata": {},
     "output_type": "execute_result"
    }
   ],
   "source": [
    "# create dataframe containing actual values, predictions and the differences between them\n",
    "df_scores = get_scores_dataframe(gbr_model)\n",
    "df_scores.sort_values(by=\"differences\").tail(10)"
   ]
  },
  {
   "cell_type": "markdown",
   "id": "6930a7f6",
   "metadata": {},
   "source": [
    "<h4><font color=mediumvioletred>Conclusion </font></h4>"
   ]
  },
  {
   "cell_type": "markdown",
   "id": "f2e7989a",
   "metadata": {},
   "source": [
    "After calculating the MAE (average of the absolute differences between predictions and actual values), we found that the following models had the best predictions:\n",
    "* GradientBoostingRegressor: 5.003318273816123\n",
    "* SVR: 5.7497847250923115\n",
    "* RandomForestRegressor: 5.808087347686456\n",
    "\n",
    "**After using more data (from 2021-01-01 to 2021-11-18), the models' scores improved a bit.\n",
    "However, the maximum value is still too high, this is because there are unhandled outliers.**"
   ]
  },
  {
   "cell_type": "markdown",
   "id": "98e27d0b",
   "metadata": {},
   "source": [
    "<h4><font color=mediumvioletred>Check feature importance</font></h4>\n",
    "\n",
    "Feature importance means which features affected the model the most."
   ]
  },
  {
   "cell_type": "code",
   "execution_count": 33,
   "id": "15a3062a",
   "metadata": {},
   "outputs": [
    {
     "data": {
      "text/plain": [
       "array([0.        , 0.        , 0.04223137, 0.00725066, 0.05456352,\n",
       "       0.60346652, 0.        , 0.01597499, 0.03872019, 0.01141425,\n",
       "       0.2263785 ])"
      ]
     },
     "execution_count": 33,
     "metadata": {},
     "output_type": "execute_result"
    }
   ],
   "source": [
    "gbr_model.feature_importances_"
   ]
  },
  {
   "cell_type": "code",
   "execution_count": 34,
   "id": "26871201",
   "metadata": {},
   "outputs": [],
   "source": [
    "# Helper function for plotting feature importance\n",
    "def plot_features(columns, importances, n=20):\n",
    "    df = (pd.DataFrame({\"features\": columns,\n",
    "                        \"feature_importance\": importances})\n",
    "          .sort_values(\"feature_importance\", ascending=False)\n",
    "          .reset_index(drop=True))\n",
    "    \n",
    "    sns.barplot(x=\"feature_importance\",\n",
    "                y=\"features\",\n",
    "                data=df[:n],\n",
    "                orient=\"h\")"
   ]
  },
  {
   "cell_type": "code",
   "execution_count": 35,
   "id": "1a78c955",
   "metadata": {},
   "outputs": [
    {
     "data": {
      "image/png": "[encoded data removed]",
      "text/plain": [
       "<Figure size 640x480 with 1 Axes>"
      ]
     },
     "metadata": {},
     "output_type": "display_data"
    }
   ],
   "source": [
    "plot_features(X_train.columns, gbr_model.feature_importances_)"
   ]
  },
  {
   "cell_type": "markdown",
   "id": "187b3fa1",
   "metadata": {},
   "source": [
    "The columns which affected the model the most are boundary layer height, day of year, solar sun radiation, wind direction and day.\n",
    "\n",
    "The model was unable to identify a pattern or correlation between the number of people and the PM2.5 due to the fact that during rush hours, both the number of people and the PM2.5 (pollution level) rise, and when people arrive at their destinations, the number of people stays very high while the pollution level declines.\n",
    "\n",
    "Given that the zip codes are in the same city and have the same weather, it was likewise unable to establish a link between the zip code (PC4) and the PM2.5."
   ]
  },
  {
   "cell_type": "markdown",
   "id": "40b6d486",
   "metadata": {},
   "source": [
    "<h4><font color=mediumvioletred>Export the best model (GradientBoostingRegressor)</font></h4>"
   ]
  },
  {
   "cell_type": "code",
   "execution_count": 36,
   "id": "c809997f",
   "metadata": {},
   "outputs": [],
   "source": [
    "pickle.dump(gbr_model, open(\"models/gbr_air_quality_prediction_model_daily.pkl\", \"wb\")) # wb = write binary"
   ]
  },
  {
   "cell_type": "markdown",
   "id": "5391c6e4",
   "metadata": {},
   "source": [
    "<h4><font color=mediumvioletred>Load the exported model and test it</font></h4>"
   ]
  },
  {
   "cell_type": "code",
   "execution_count": 37,
   "id": "0aedbc70",
   "metadata": {},
   "outputs": [
    {
     "data": {
      "text/plain": [
       "{'Training MAE': 3.702118080860074, 'Testing MAE': 5.003318273816123}"
      ]
     },
     "execution_count": 37,
     "metadata": {},
     "output_type": "execute_result"
    }
   ],
   "source": [
    "loaded_model = pickle.load(open(\"models/gbr_air_quality_prediction_model_daily.pkl\", \"rb\"))\n",
    "show_scores(loaded_model)"
   ]
  },
  {
   "cell_type": "markdown",
   "id": "42e3eeaf",
   "metadata": {},
   "source": [
    "**After modelling, we discussed the results with Georgiana Manolache and she advised us to group the data by week and also include a column to identify the season to see if the predictions can be improved any further.**"
   ]
  },
  {
   "cell_type": "markdown",
   "id": "0762a66b",
   "metadata": {},
   "source": [
    "<h2><font color=slateblue>Modelling using weekly data</font></h2>"
   ]
  },
  {
   "cell_type": "markdown",
   "id": "ebdf7b79",
   "metadata": {},
   "source": [
    "<h4><font color=mediumvioletred>Get sample of the dataframe</font></h4>"
   ]
  },
  {
   "cell_type": "code",
   "execution_count": 38,
   "id": "f94fb08c",
   "metadata": {},
   "outputs": [
    {
     "data": {
      "text/html": [
       "<div>\n",
       "<style scoped>\n",
       "    .dataframe tbody tr th:only-of-type {\n",
       "        vertical-align: middle;\n",
       "    }\n",
       "\n",
       "    .dataframe tbody tr th {\n",
       "        vertical-align: top;\n",
       "    }\n",
       "\n",
       "    .dataframe thead th {\n",
       "        text-align: right;\n",
       "    }\n",
       "</style>\n",
       "<table border=\"1\" class=\"dataframe\">\n",
       "  <thead>\n",
       "    <tr style=\"text-align: right;\">\n",
       "      <th></th>\n",
       "      <th>PC4</th>\n",
       "      <th>people_number</th>\n",
       "      <th>pm2.5</th>\n",
       "      <th>wd</th>\n",
       "      <th>ws</th>\n",
       "      <th>ssrd</th>\n",
       "      <th>blh</th>\n",
       "      <th>year</th>\n",
       "      <th>month</th>\n",
       "      <th>day</th>\n",
       "      <th>day_of_week</th>\n",
       "      <th>day_of_year</th>\n",
       "    </tr>\n",
       "  </thead>\n",
       "  <tbody>\n",
       "    <tr>\n",
       "      <th>1045</th>\n",
       "      <td>5617</td>\n",
       "      <td>4833.0</td>\n",
       "      <td>40.815845</td>\n",
       "      <td>116.382113</td>\n",
       "      <td>2.470378</td>\n",
       "      <td>12.783685</td>\n",
       "      <td>250.155310</td>\n",
       "      <td>2021</td>\n",
       "      <td>2</td>\n",
       "      <td>1</td>\n",
       "      <td>0</td>\n",
       "      <td>32</td>\n",
       "    </tr>\n",
       "    <tr>\n",
       "      <th>8192</th>\n",
       "      <td>5628</td>\n",
       "      <td>6562.0</td>\n",
       "      <td>15.530583</td>\n",
       "      <td>93.578364</td>\n",
       "      <td>1.595437</td>\n",
       "      <td>199.010066</td>\n",
       "      <td>180.525323</td>\n",
       "      <td>2021</td>\n",
       "      <td>9</td>\n",
       "      <td>6</td>\n",
       "      <td>0</td>\n",
       "      <td>249</td>\n",
       "    </tr>\n",
       "    <tr>\n",
       "      <th>5612</th>\n",
       "      <td>5621</td>\n",
       "      <td>4786.0</td>\n",
       "      <td>3.670962</td>\n",
       "      <td>183.194667</td>\n",
       "      <td>4.055485</td>\n",
       "      <td>243.598328</td>\n",
       "      <td>849.543283</td>\n",
       "      <td>2021</td>\n",
       "      <td>6</td>\n",
       "      <td>20</td>\n",
       "      <td>6</td>\n",
       "      <td>171</td>\n",
       "    </tr>\n",
       "    <tr>\n",
       "      <th>618</th>\n",
       "      <td>5654</td>\n",
       "      <td>2821.0</td>\n",
       "      <td>8.628644</td>\n",
       "      <td>228.861347</td>\n",
       "      <td>7.907742</td>\n",
       "      <td>5.650899</td>\n",
       "      <td>942.770253</td>\n",
       "      <td>2021</td>\n",
       "      <td>1</td>\n",
       "      <td>19</td>\n",
       "      <td>1</td>\n",
       "      <td>19</td>\n",
       "    </tr>\n",
       "    <tr>\n",
       "      <th>5849</th>\n",
       "      <td>5629</td>\n",
       "      <td>9677.0</td>\n",
       "      <td>8.343399</td>\n",
       "      <td>120.258619</td>\n",
       "      <td>3.226619</td>\n",
       "      <td>257.169919</td>\n",
       "      <td>490.095062</td>\n",
       "      <td>2021</td>\n",
       "      <td>6</td>\n",
       "      <td>27</td>\n",
       "      <td>6</td>\n",
       "      <td>178</td>\n",
       "    </tr>\n",
       "  </tbody>\n",
       "</table>\n",
       "</div>"
      ],
      "text/plain": [
       "       PC4  people_number      pm2.5          wd        ws        ssrd  \\\n",
       "1045  5617         4833.0  40.815845  116.382113  2.470378   12.783685   \n",
       "8192  5628         6562.0  15.530583   93.578364  1.595437  199.010066   \n",
       "5612  5621         4786.0   3.670962  183.194667  4.055485  243.598328   \n",
       "618   5654         2821.0   8.628644  228.861347  7.907742    5.650899   \n",
       "5849  5629         9677.0   8.343399  120.258619  3.226619  257.169919   \n",
       "\n",
       "             blh  year  month  day  day_of_week  day_of_year  \n",
       "1045  250.155310  2021      2    1            0           32  \n",
       "8192  180.525323  2021      9    6            0          249  \n",
       "5612  849.543283  2021      6   20            6          171  \n",
       "618   942.770253  2021      1   19            1           19  \n",
       "5849  490.095062  2021      6   27            6          178  "
      ]
     },
     "execution_count": 38,
     "metadata": {},
     "output_type": "execute_result"
    }
   ],
   "source": [
    "df.sample(5)"
   ]
  },
  {
   "cell_type": "markdown",
   "id": "1598b70e",
   "metadata": {},
   "source": [
    "<h4><font color=mediumvioletred>Add date column</font></h4>"
   ]
  },
  {
   "cell_type": "code",
   "execution_count": 39,
   "id": "dea4c9d9",
   "metadata": {},
   "outputs": [],
   "source": [
    "df[\"date\"] = df[df.columns[7:10]].apply(\n",
    "    lambda x: \"-\".join(x.astype(str)), axis=1)\n",
    "\n",
    "df[\"date\"] = df[\"date\"].astype(\"datetime64[ns]\")"
   ]
  },
  {
   "cell_type": "markdown",
   "id": "fea12433",
   "metadata": {},
   "source": [
    "<h4><font color=mediumvioletred>Calculate week number from date</font></h4>"
   ]
  },
  {
   "cell_type": "code",
   "execution_count": 40,
   "id": "329c6dc2",
   "metadata": {},
   "outputs": [],
   "source": [
    "df['week_number'] = df['date'].dt.isocalendar().week"
   ]
  },
  {
   "cell_type": "markdown",
   "id": "99414431",
   "metadata": {},
   "source": [
    "<h4><font color=mediumvioletred>Add season from date</font></h4>\n",
    "\n",
    "1 = spring, 2 = summer, 3 = autumn, 4 = winter"
   ]
  },
  {
   "cell_type": "code",
   "execution_count": 41,
   "id": "fc6fe6bf",
   "metadata": {},
   "outputs": [],
   "source": [
    "date_offset = (df.date.dt.month*100 + df.date.dt.day - 320)%1300\n",
    "\n",
    "df['season'] = pd.cut(date_offset, [0, 300, 602, 900, 1300], \n",
    "                      labels=[1, 2, 3, 4])"
   ]
  },
  {
   "cell_type": "markdown",
   "id": "4c53cb9e",
   "metadata": {},
   "source": [
    "<h4><font color=mediumvioletred>Get sample of the dataframe</font></h4>"
   ]
  },
  {
   "cell_type": "code",
   "execution_count": 42,
   "id": "58d9c945",
   "metadata": {},
   "outputs": [
    {
     "data": {
      "text/html": [
       "<div>\n",
       "<style scoped>\n",
       "    .dataframe tbody tr th:only-of-type {\n",
       "        vertical-align: middle;\n",
       "    }\n",
       "\n",
       "    .dataframe tbody tr th {\n",
       "        vertical-align: top;\n",
       "    }\n",
       "\n",
       "    .dataframe thead th {\n",
       "        text-align: right;\n",
       "    }\n",
       "</style>\n",
       "<table border=\"1\" class=\"dataframe\">\n",
       "  <thead>\n",
       "    <tr style=\"text-align: right;\">\n",
       "      <th></th>\n",
       "      <th>PC4</th>\n",
       "      <th>people_number</th>\n",
       "      <th>pm2.5</th>\n",
       "      <th>wd</th>\n",
       "      <th>ws</th>\n",
       "      <th>ssrd</th>\n",
       "      <th>blh</th>\n",
       "      <th>year</th>\n",
       "      <th>month</th>\n",
       "      <th>day</th>\n",
       "      <th>day_of_week</th>\n",
       "      <th>day_of_year</th>\n",
       "      <th>date</th>\n",
       "      <th>week_number</th>\n",
       "      <th>season</th>\n",
       "    </tr>\n",
       "  </thead>\n",
       "  <tbody>\n",
       "    <tr>\n",
       "      <th>3849</th>\n",
       "      <td>5655</td>\n",
       "      <td>3407.0</td>\n",
       "      <td>11.240178</td>\n",
       "      <td>92.985240</td>\n",
       "      <td>3.088374</td>\n",
       "      <td>282.046413</td>\n",
       "      <td>686.496410</td>\n",
       "      <td>2021</td>\n",
       "      <td>4</td>\n",
       "      <td>27</td>\n",
       "      <td>1</td>\n",
       "      <td>117</td>\n",
       "      <td>2021-04-27</td>\n",
       "      <td>17</td>\n",
       "      <td>1</td>\n",
       "    </tr>\n",
       "    <tr>\n",
       "      <th>7202</th>\n",
       "      <td>5646</td>\n",
       "      <td>11152.0</td>\n",
       "      <td>3.007152</td>\n",
       "      <td>257.021533</td>\n",
       "      <td>3.925994</td>\n",
       "      <td>163.193618</td>\n",
       "      <td>745.261805</td>\n",
       "      <td>2021</td>\n",
       "      <td>8</td>\n",
       "      <td>7</td>\n",
       "      <td>5</td>\n",
       "      <td>219</td>\n",
       "      <td>2021-08-07</td>\n",
       "      <td>31</td>\n",
       "      <td>2</td>\n",
       "    </tr>\n",
       "    <tr>\n",
       "      <th>4089</th>\n",
       "      <td>5611</td>\n",
       "      <td>19289.0</td>\n",
       "      <td>3.904557</td>\n",
       "      <td>210.975552</td>\n",
       "      <td>8.978289</td>\n",
       "      <td>196.971763</td>\n",
       "      <td>1516.281118</td>\n",
       "      <td>2021</td>\n",
       "      <td>5</td>\n",
       "      <td>4</td>\n",
       "      <td>1</td>\n",
       "      <td>124</td>\n",
       "      <td>2021-05-04</td>\n",
       "      <td>18</td>\n",
       "      <td>1</td>\n",
       "    </tr>\n",
       "    <tr>\n",
       "      <th>5340</th>\n",
       "      <td>5622</td>\n",
       "      <td>3960.0</td>\n",
       "      <td>4.192006</td>\n",
       "      <td>180.691116</td>\n",
       "      <td>2.695236</td>\n",
       "      <td>232.337291</td>\n",
       "      <td>580.768496</td>\n",
       "      <td>2021</td>\n",
       "      <td>6</td>\n",
       "      <td>11</td>\n",
       "      <td>4</td>\n",
       "      <td>162</td>\n",
       "      <td>2021-06-11</td>\n",
       "      <td>23</td>\n",
       "      <td>1</td>\n",
       "    </tr>\n",
       "    <tr>\n",
       "      <th>445</th>\n",
       "      <td>5641</td>\n",
       "      <td>3490.0</td>\n",
       "      <td>13.020782</td>\n",
       "      <td>76.600607</td>\n",
       "      <td>3.082698</td>\n",
       "      <td>32.030915</td>\n",
       "      <td>457.443562</td>\n",
       "      <td>2021</td>\n",
       "      <td>1</td>\n",
       "      <td>14</td>\n",
       "      <td>3</td>\n",
       "      <td>14</td>\n",
       "      <td>2021-01-14</td>\n",
       "      <td>2</td>\n",
       "      <td>4</td>\n",
       "    </tr>\n",
       "  </tbody>\n",
       "</table>\n",
       "</div>"
      ],
      "text/plain": [
       "       PC4  people_number      pm2.5          wd        ws        ssrd  \\\n",
       "3849  5655         3407.0  11.240178   92.985240  3.088374  282.046413   \n",
       "7202  5646        11152.0   3.007152  257.021533  3.925994  163.193618   \n",
       "4089  5611        19289.0   3.904557  210.975552  8.978289  196.971763   \n",
       "5340  5622         3960.0   4.192006  180.691116  2.695236  232.337291   \n",
       "445   5641         3490.0  13.020782   76.600607  3.082698   32.030915   \n",
       "\n",
       "              blh  year  month  day  day_of_week  day_of_year       date  \\\n",
       "3849   686.496410  2021      4   27            1          117 2021-04-27   \n",
       "7202   745.261805  2021      8    7            5          219 2021-08-07   \n",
       "4089  1516.281118  2021      5    4            1          124 2021-05-04   \n",
       "5340   580.768496  2021      6   11            4          162 2021-06-11   \n",
       "445    457.443562  2021      1   14            3           14 2021-01-14   \n",
       "\n",
       "      week_number season  \n",
       "3849           17      1  \n",
       "7202           31      2  \n",
       "4089           18      1  \n",
       "5340           23      1  \n",
       "445             2      4  "
      ]
     },
     "execution_count": 42,
     "metadata": {},
     "output_type": "execute_result"
    }
   ],
   "source": [
    "df.sample(5)"
   ]
  },
  {
   "cell_type": "markdown",
   "id": "4b6351d3",
   "metadata": {},
   "source": [
    "<h4><font color=mediumvioletred>Group the dataframe by area and week number</font></h4>"
   ]
  },
  {
   "cell_type": "code",
   "execution_count": 43,
   "id": "c1791508",
   "metadata": {},
   "outputs": [],
   "source": [
    "df_weekly = df.groupby([\"PC4\", \"week_number\"]).agg({\"pm2.5\": \"mean\", \"wd\": \"mean\", \"ws\": \"mean\", \"ssrd\": \"mean\", \"blh\": \"mean\", \"people_number\": \"sum\", \"season\": lambda x: x.iloc[1]}).reset_index()"
   ]
  },
  {
   "cell_type": "markdown",
   "id": "52bd6407",
   "metadata": {},
   "source": [
    "<h4><font color=mediumvioletred>Get data for zip code 5615</font></h4>"
   ]
  },
  {
   "cell_type": "code",
   "execution_count": 44,
   "id": "7b921a2c",
   "metadata": {},
   "outputs": [
    {
     "data": {
      "text/html": [
       "<div>\n",
       "<style scoped>\n",
       "    .dataframe tbody tr th:only-of-type {\n",
       "        vertical-align: middle;\n",
       "    }\n",
       "\n",
       "    .dataframe tbody tr th {\n",
       "        vertical-align: top;\n",
       "    }\n",
       "\n",
       "    .dataframe thead th {\n",
       "        text-align: right;\n",
       "    }\n",
       "</style>\n",
       "<table border=\"1\" class=\"dataframe\">\n",
       "  <thead>\n",
       "    <tr style=\"text-align: right;\">\n",
       "      <th></th>\n",
       "      <th>PC4</th>\n",
       "      <th>week_number</th>\n",
       "      <th>pm2.5</th>\n",
       "      <th>wd</th>\n",
       "      <th>ws</th>\n",
       "      <th>ssrd</th>\n",
       "      <th>blh</th>\n",
       "      <th>people_number</th>\n",
       "      <th>season</th>\n",
       "    </tr>\n",
       "  </thead>\n",
       "  <tbody>\n",
       "    <tr>\n",
       "      <th>188</th>\n",
       "      <td>5615</td>\n",
       "      <td>1</td>\n",
       "      <td>22.424890</td>\n",
       "      <td>123.330978</td>\n",
       "      <td>3.164777</td>\n",
       "      <td>21.008967</td>\n",
       "      <td>379.766082</td>\n",
       "      <td>28493.0</td>\n",
       "      <td>4</td>\n",
       "    </tr>\n",
       "    <tr>\n",
       "      <th>189</th>\n",
       "      <td>5615</td>\n",
       "      <td>2</td>\n",
       "      <td>18.903186</td>\n",
       "      <td>169.627734</td>\n",
       "      <td>3.944949</td>\n",
       "      <td>28.743293</td>\n",
       "      <td>514.425679</td>\n",
       "      <td>27307.0</td>\n",
       "      <td>4</td>\n",
       "    </tr>\n",
       "    <tr>\n",
       "      <th>190</th>\n",
       "      <td>5615</td>\n",
       "      <td>3</td>\n",
       "      <td>11.120214</td>\n",
       "      <td>226.768988</td>\n",
       "      <td>5.543433</td>\n",
       "      <td>31.394141</td>\n",
       "      <td>743.666952</td>\n",
       "      <td>30429.0</td>\n",
       "      <td>4</td>\n",
       "    </tr>\n",
       "    <tr>\n",
       "      <th>191</th>\n",
       "      <td>5615</td>\n",
       "      <td>4</td>\n",
       "      <td>18.344876</td>\n",
       "      <td>179.207799</td>\n",
       "      <td>4.210786</td>\n",
       "      <td>36.645872</td>\n",
       "      <td>509.488630</td>\n",
       "      <td>28045.0</td>\n",
       "      <td>4</td>\n",
       "    </tr>\n",
       "    <tr>\n",
       "      <th>192</th>\n",
       "      <td>5615</td>\n",
       "      <td>5</td>\n",
       "      <td>21.561596</td>\n",
       "      <td>176.674427</td>\n",
       "      <td>3.935283</td>\n",
       "      <td>27.183599</td>\n",
       "      <td>397.629005</td>\n",
       "      <td>27235.0</td>\n",
       "      <td>4</td>\n",
       "    </tr>\n",
       "    <tr>\n",
       "      <th>193</th>\n",
       "      <td>5615</td>\n",
       "      <td>6</td>\n",
       "      <td>19.029066</td>\n",
       "      <td>94.393184</td>\n",
       "      <td>3.925097</td>\n",
       "      <td>84.693781</td>\n",
       "      <td>418.111591</td>\n",
       "      <td>24106.0</td>\n",
       "      <td>4</td>\n",
       "    </tr>\n",
       "    <tr>\n",
       "      <th>194</th>\n",
       "      <td>5615</td>\n",
       "      <td>7</td>\n",
       "      <td>11.750731</td>\n",
       "      <td>259.523227</td>\n",
       "      <td>4.890734</td>\n",
       "      <td>71.262752</td>\n",
       "      <td>511.467894</td>\n",
       "      <td>28397.0</td>\n",
       "      <td>4</td>\n",
       "    </tr>\n",
       "    <tr>\n",
       "      <th>195</th>\n",
       "      <td>5615</td>\n",
       "      <td>8</td>\n",
       "      <td>12.148209</td>\n",
       "      <td>170.615613</td>\n",
       "      <td>3.362601</td>\n",
       "      <td>101.748600</td>\n",
       "      <td>443.092117</td>\n",
       "      <td>30787.0</td>\n",
       "      <td>4</td>\n",
       "    </tr>\n",
       "    <tr>\n",
       "      <th>196</th>\n",
       "      <td>5615</td>\n",
       "      <td>9</td>\n",
       "      <td>26.518792</td>\n",
       "      <td>115.733766</td>\n",
       "      <td>2.529431</td>\n",
       "      <td>114.709032</td>\n",
       "      <td>357.538443</td>\n",
       "      <td>35263.0</td>\n",
       "      <td>4</td>\n",
       "    </tr>\n",
       "    <tr>\n",
       "      <th>197</th>\n",
       "      <td>5615</td>\n",
       "      <td>10</td>\n",
       "      <td>16.075805</td>\n",
       "      <td>203.702675</td>\n",
       "      <td>5.696211</td>\n",
       "      <td>94.621430</td>\n",
       "      <td>935.631505</td>\n",
       "      <td>34303.0</td>\n",
       "      <td>4</td>\n",
       "    </tr>\n",
       "    <tr>\n",
       "      <th>198</th>\n",
       "      <td>5615</td>\n",
       "      <td>11</td>\n",
       "      <td>9.466149</td>\n",
       "      <td>120.887012</td>\n",
       "      <td>3.649548</td>\n",
       "      <td>105.319617</td>\n",
       "      <td>636.622361</td>\n",
       "      <td>34314.0</td>\n",
       "      <td>4</td>\n",
       "    </tr>\n",
       "    <tr>\n",
       "      <th>199</th>\n",
       "      <td>5615</td>\n",
       "      <td>12</td>\n",
       "      <td>16.457478</td>\n",
       "      <td>209.379768</td>\n",
       "      <td>3.862361</td>\n",
       "      <td>117.169930</td>\n",
       "      <td>648.324637</td>\n",
       "      <td>47894.0</td>\n",
       "      <td>1</td>\n",
       "    </tr>\n",
       "    <tr>\n",
       "      <th>200</th>\n",
       "      <td>5615</td>\n",
       "      <td>13</td>\n",
       "      <td>12.686863</td>\n",
       "      <td>168.516322</td>\n",
       "      <td>3.170934</td>\n",
       "      <td>172.810899</td>\n",
       "      <td>493.006206</td>\n",
       "      <td>64641.0</td>\n",
       "      <td>1</td>\n",
       "    </tr>\n",
       "    <tr>\n",
       "      <th>201</th>\n",
       "      <td>5615</td>\n",
       "      <td>14</td>\n",
       "      <td>10.615531</td>\n",
       "      <td>151.190621</td>\n",
       "      <td>4.769801</td>\n",
       "      <td>142.758006</td>\n",
       "      <td>796.253527</td>\n",
       "      <td>51541.0</td>\n",
       "      <td>1</td>\n",
       "    </tr>\n",
       "    <tr>\n",
       "      <th>202</th>\n",
       "      <td>5615</td>\n",
       "      <td>15</td>\n",
       "      <td>10.150864</td>\n",
       "      <td>109.910033</td>\n",
       "      <td>2.672597</td>\n",
       "      <td>210.666241</td>\n",
       "      <td>637.155933</td>\n",
       "      <td>53096.0</td>\n",
       "      <td>1</td>\n",
       "    </tr>\n",
       "    <tr>\n",
       "      <th>203</th>\n",
       "      <td>5615</td>\n",
       "      <td>16</td>\n",
       "      <td>13.283522</td>\n",
       "      <td>91.895372</td>\n",
       "      <td>2.703433</td>\n",
       "      <td>206.683306</td>\n",
       "      <td>570.460501</td>\n",
       "      <td>121930.0</td>\n",
       "      <td>1</td>\n",
       "    </tr>\n",
       "    <tr>\n",
       "      <th>204</th>\n",
       "      <td>5615</td>\n",
       "      <td>17</td>\n",
       "      <td>12.519114</td>\n",
       "      <td>118.318787</td>\n",
       "      <td>3.392783</td>\n",
       "      <td>215.182998</td>\n",
       "      <td>656.867201</td>\n",
       "      <td>40298.0</td>\n",
       "      <td>1</td>\n",
       "    </tr>\n",
       "    <tr>\n",
       "      <th>205</th>\n",
       "      <td>5615</td>\n",
       "      <td>18</td>\n",
       "      <td>8.503137</td>\n",
       "      <td>222.684800</td>\n",
       "      <td>4.763625</td>\n",
       "      <td>201.116707</td>\n",
       "      <td>903.783830</td>\n",
       "      <td>52454.0</td>\n",
       "      <td>1</td>\n",
       "    </tr>\n",
       "    <tr>\n",
       "      <th>206</th>\n",
       "      <td>5615</td>\n",
       "      <td>19</td>\n",
       "      <td>11.091612</td>\n",
       "      <td>208.510630</td>\n",
       "      <td>2.540826</td>\n",
       "      <td>197.720079</td>\n",
       "      <td>612.155156</td>\n",
       "      <td>60296.0</td>\n",
       "      <td>1</td>\n",
       "    </tr>\n",
       "    <tr>\n",
       "      <th>207</th>\n",
       "      <td>5615</td>\n",
       "      <td>20</td>\n",
       "      <td>8.576589</td>\n",
       "      <td>212.913673</td>\n",
       "      <td>4.734617</td>\n",
       "      <td>183.496263</td>\n",
       "      <td>884.967285</td>\n",
       "      <td>63064.0</td>\n",
       "      <td>1</td>\n",
       "    </tr>\n",
       "  </tbody>\n",
       "</table>\n",
       "</div>"
      ],
      "text/plain": [
       "      PC4  week_number      pm2.5          wd        ws        ssrd  \\\n",
       "188  5615            1  22.424890  123.330978  3.164777   21.008967   \n",
       "189  5615            2  18.903186  169.627734  3.944949   28.743293   \n",
       "190  5615            3  11.120214  226.768988  5.543433   31.394141   \n",
       "191  5615            4  18.344876  179.207799  4.210786   36.645872   \n",
       "192  5615            5  21.561596  176.674427  3.935283   27.183599   \n",
       "193  5615            6  19.029066   94.393184  3.925097   84.693781   \n",
       "194  5615            7  11.750731  259.523227  4.890734   71.262752   \n",
       "195  5615            8  12.148209  170.615613  3.362601  101.748600   \n",
       "196  5615            9  26.518792  115.733766  2.529431  114.709032   \n",
       "197  5615           10  16.075805  203.702675  5.696211   94.621430   \n",
       "198  5615           11   9.466149  120.887012  3.649548  105.319617   \n",
       "199  5615           12  16.457478  209.379768  3.862361  117.169930   \n",
       "200  5615           13  12.686863  168.516322  3.170934  172.810899   \n",
       "201  5615           14  10.615531  151.190621  4.769801  142.758006   \n",
       "202  5615           15  10.150864  109.910033  2.672597  210.666241   \n",
       "203  5615           16  13.283522   91.895372  2.703433  206.683306   \n",
       "204  5615           17  12.519114  118.318787  3.392783  215.182998   \n",
       "205  5615           18   8.503137  222.684800  4.763625  201.116707   \n",
       "206  5615           19  11.091612  208.510630  2.540826  197.720079   \n",
       "207  5615           20   8.576589  212.913673  4.734617  183.496263   \n",
       "\n",
       "            blh  people_number  season  \n",
       "188  379.766082        28493.0       4  \n",
       "189  514.425679        27307.0       4  \n",
       "190  743.666952        30429.0       4  \n",
       "191  509.488630        28045.0       4  \n",
       "192  397.629005        27235.0       4  \n",
       "193  418.111591        24106.0       4  \n",
       "194  511.467894        28397.0       4  \n",
       "195  443.092117        30787.0       4  \n",
       "196  357.538443        35263.0       4  \n",
       "197  935.631505        34303.0       4  \n",
       "198  636.622361        34314.0       4  \n",
       "199  648.324637        47894.0       1  \n",
       "200  493.006206        64641.0       1  \n",
       "201  796.253527        51541.0       1  \n",
       "202  637.155933        53096.0       1  \n",
       "203  570.460501       121930.0       1  \n",
       "204  656.867201        40298.0       1  \n",
       "205  903.783830        52454.0       1  \n",
       "206  612.155156        60296.0       1  \n",
       "207  884.967285        63064.0       1  "
      ]
     },
     "execution_count": 44,
     "metadata": {},
     "output_type": "execute_result"
    }
   ],
   "source": [
    "df_weekly[df_weekly.PC4 == 5615][:20]"
   ]
  },
  {
   "cell_type": "markdown",
   "id": "f67e1b77",
   "metadata": {},
   "source": [
    "<h4><font color=mediumvioletred>Export weekly dataframe to csv</font></h4>"
   ]
  },
  {
   "cell_type": "code",
   "execution_count": 45,
   "id": "466f0c79",
   "metadata": {},
   "outputs": [],
   "source": [
    "df_weekly.to_csv(\"data/df_prepared_full_data_weekly.csv\")"
   ]
  },
  {
   "cell_type": "markdown",
   "id": "b2e9fa2d",
   "metadata": {},
   "source": [
    "<h4><font color=mediumvioletred>Get X and y</font></h4>"
   ]
  },
  {
   "cell_type": "code",
   "execution_count": 46,
   "id": "6c4cdd52",
   "metadata": {},
   "outputs": [],
   "source": [
    "X = df_weekly.drop(\"pm2.5\", axis=1)\n",
    "y = df_weekly[\"pm2.5\"]"
   ]
  },
  {
   "cell_type": "markdown",
   "id": "2e1d5c7b",
   "metadata": {},
   "source": [
    "<h4><font color=mediumvioletred>Get a sample of X </font></h4>"
   ]
  },
  {
   "cell_type": "code",
   "execution_count": 47,
   "id": "067308ed",
   "metadata": {},
   "outputs": [
    {
     "data": {
      "text/html": [
       "<div>\n",
       "<style scoped>\n",
       "    .dataframe tbody tr th:only-of-type {\n",
       "        vertical-align: middle;\n",
       "    }\n",
       "\n",
       "    .dataframe tbody tr th {\n",
       "        vertical-align: top;\n",
       "    }\n",
       "\n",
       "    .dataframe thead th {\n",
       "        text-align: right;\n",
       "    }\n",
       "</style>\n",
       "<table border=\"1\" class=\"dataframe\">\n",
       "  <thead>\n",
       "    <tr style=\"text-align: right;\">\n",
       "      <th></th>\n",
       "      <th>PC4</th>\n",
       "      <th>week_number</th>\n",
       "      <th>wd</th>\n",
       "      <th>ws</th>\n",
       "      <th>ssrd</th>\n",
       "      <th>blh</th>\n",
       "      <th>people_number</th>\n",
       "      <th>season</th>\n",
       "    </tr>\n",
       "  </thead>\n",
       "  <tbody>\n",
       "    <tr>\n",
       "      <th>1040</th>\n",
       "      <td>5644</td>\n",
       "      <td>7</td>\n",
       "      <td>259.451434</td>\n",
       "      <td>4.877860</td>\n",
       "      <td>71.387116</td>\n",
       "      <td>511.996385</td>\n",
       "      <td>72979.0</td>\n",
       "      <td>4</td>\n",
       "    </tr>\n",
       "    <tr>\n",
       "      <th>36</th>\n",
       "      <td>5611</td>\n",
       "      <td>37</td>\n",
       "      <td>159.865968</td>\n",
       "      <td>2.493743</td>\n",
       "      <td>136.532106</td>\n",
       "      <td>409.072206</td>\n",
       "      <td>110947.0</td>\n",
       "      <td>2</td>\n",
       "    </tr>\n",
       "    <tr>\n",
       "      <th>1447</th>\n",
       "      <td>5656</td>\n",
       "      <td>38</td>\n",
       "      <td>185.691632</td>\n",
       "      <td>2.905228</td>\n",
       "      <td>122.642489</td>\n",
       "      <td>453.814193</td>\n",
       "      <td>199222.0</td>\n",
       "      <td>2</td>\n",
       "    </tr>\n",
       "    <tr>\n",
       "      <th>954</th>\n",
       "      <td>5642</td>\n",
       "      <td>15</td>\n",
       "      <td>110.002359</td>\n",
       "      <td>2.672656</td>\n",
       "      <td>210.449448</td>\n",
       "      <td>637.579861</td>\n",
       "      <td>27384.0</td>\n",
       "      <td>1</td>\n",
       "    </tr>\n",
       "    <tr>\n",
       "      <th>1152</th>\n",
       "      <td>5646</td>\n",
       "      <td>25</td>\n",
       "      <td>127.013328</td>\n",
       "      <td>3.084645</td>\n",
       "      <td>162.303716</td>\n",
       "      <td>574.222446</td>\n",
       "      <td>74785.0</td>\n",
       "      <td>2</td>\n",
       "    </tr>\n",
       "  </tbody>\n",
       "</table>\n",
       "</div>"
      ],
      "text/plain": [
       "       PC4  week_number          wd        ws        ssrd         blh  \\\n",
       "1040  5644            7  259.451434  4.877860   71.387116  511.996385   \n",
       "36    5611           37  159.865968  2.493743  136.532106  409.072206   \n",
       "1447  5656           38  185.691632  2.905228  122.642489  453.814193   \n",
       "954   5642           15  110.002359  2.672656  210.449448  637.579861   \n",
       "1152  5646           25  127.013328  3.084645  162.303716  574.222446   \n",
       "\n",
       "      people_number  season  \n",
       "1040        72979.0       4  \n",
       "36         110947.0       2  \n",
       "1447       199222.0       2  \n",
       "954         27384.0       1  \n",
       "1152        74785.0       2  "
      ]
     },
     "execution_count": 47,
     "metadata": {},
     "output_type": "execute_result"
    }
   ],
   "source": [
    "X.sample(5)"
   ]
  },
  {
   "cell_type": "markdown",
   "id": "f465a911",
   "metadata": {},
   "source": [
    "<h4><font color=mediumvioletred>Get a sample of y </font></h4>"
   ]
  },
  {
   "cell_type": "code",
   "execution_count": 48,
   "id": "949bacbf",
   "metadata": {
    "scrolled": true
   },
   "outputs": [
    {
     "data": {
      "text/plain": [
       "1512    26.363251\n",
       "1185     9.204118\n",
       "548      5.123970\n",
       "426     18.130650\n",
       "770     10.844011\n",
       "Name: pm2.5, dtype: float64"
      ]
     },
     "execution_count": 48,
     "metadata": {},
     "output_type": "execute_result"
    }
   ],
   "source": [
    "y.sample(5)"
   ]
  },
  {
   "cell_type": "markdown",
   "id": "87252a69",
   "metadata": {},
   "source": [
    "<h4><font color=mediumvioletred>Check shape of the dataframe </font></h4>"
   ]
  },
  {
   "cell_type": "code",
   "execution_count": 49,
   "id": "6c63fc78",
   "metadata": {},
   "outputs": [
    {
     "data": {
      "text/plain": [
       "(1551, 9)"
      ]
     },
     "execution_count": 49,
     "metadata": {},
     "output_type": "execute_result"
    }
   ],
   "source": [
    "df_weekly.shape"
   ]
  },
  {
   "cell_type": "markdown",
   "id": "c4fabf11",
   "metadata": {},
   "source": [
    "<h4><font color=mediumvioletred>Split data into training and testing </font></h4>"
   ]
  },
  {
   "cell_type": "code",
   "execution_count": 50,
   "id": "f5e75097",
   "metadata": {},
   "outputs": [
    {
     "data": {
      "text/plain": [
       "(1221, 330)"
      ]
     },
     "execution_count": 50,
     "metadata": {},
     "output_type": "execute_result"
    }
   ],
   "source": [
    "df_train = df_weekly[df_weekly.week_number < 38]\n",
    "df_test = df_weekly[df_weekly.week_number >= 38]\n",
    "\n",
    "len(df_train), len(df_test)"
   ]
  },
  {
   "cell_type": "markdown",
   "id": "211e4a0e",
   "metadata": {},
   "source": [
    "<h4><font color=mediumvioletred>Split data into X & y </font></h4>"
   ]
  },
  {
   "cell_type": "code",
   "execution_count": 51,
   "id": "e7655dcf",
   "metadata": {},
   "outputs": [
    {
     "data": {
      "text/plain": [
       "((1221, 8), (1221,), (330, 8), (330,))"
      ]
     },
     "execution_count": 51,
     "metadata": {},
     "output_type": "execute_result"
    }
   ],
   "source": [
    "X_train, y_train = df_train.drop(\"pm2.5\", axis=1), df_train[\"pm2.5\"]\n",
    "X_test, y_test = df_test.drop(\"pm2.5\", axis=1), df_test[\"pm2.5\"]\n",
    "\n",
    "X_train.shape, y_train.shape, X_test.shape, y_test.shape"
   ]
  },
  {
   "cell_type": "markdown",
   "id": "585321c3",
   "metadata": {},
   "source": [
    "<h4><font color=mediumvioletred>Model with RandomForestRegressor </font></h4>"
   ]
  },
  {
   "cell_type": "code",
   "execution_count": 52,
   "id": "c8e700f2",
   "metadata": {},
   "outputs": [
    {
     "data": {
      "text/plain": [
       "RandomForestRegressor(n_jobs=-1, random_state=42)"
      ]
     },
     "execution_count": 52,
     "metadata": {},
     "output_type": "execute_result"
    }
   ],
   "source": [
    "rf_model = RandomForestRegressor(n_jobs=-1,\n",
    "                             random_state=42)\n",
    "\n",
    "# fit the model\n",
    "rf_model.fit(X_train, y_train)"
   ]
  },
  {
   "cell_type": "code",
   "execution_count": 53,
   "id": "ee093761",
   "metadata": {},
   "outputs": [
    {
     "data": {
      "text/plain": [
       "{'Training MAE': 0.024578897184108037, 'Testing MAE': 6.072975797769486}"
      ]
     },
     "execution_count": 53,
     "metadata": {},
     "output_type": "execute_result"
    }
   ],
   "source": [
    "# score model\n",
    "show_scores(rf_model)"
   ]
  },
  {
   "cell_type": "code",
   "execution_count": 54,
   "id": "b0faca56",
   "metadata": {},
   "outputs": [
    {
     "data": {
      "text/html": [
       "<div>\n",
       "<style scoped>\n",
       "    .dataframe tbody tr th:only-of-type {\n",
       "        vertical-align: middle;\n",
       "    }\n",
       "\n",
       "    .dataframe tbody tr th {\n",
       "        vertical-align: top;\n",
       "    }\n",
       "\n",
       "    .dataframe thead th {\n",
       "        text-align: right;\n",
       "    }\n",
       "</style>\n",
       "<table border=\"1\" class=\"dataframe\">\n",
       "  <thead>\n",
       "    <tr style=\"text-align: right;\">\n",
       "      <th></th>\n",
       "      <th>actual values</th>\n",
       "      <th>predicted values</th>\n",
       "      <th>differences</th>\n",
       "    </tr>\n",
       "  </thead>\n",
       "  <tbody>\n",
       "    <tr>\n",
       "      <th>45</th>\n",
       "      <td>34.319192</td>\n",
       "      <td>14.292401</td>\n",
       "      <td>20.026791</td>\n",
       "    </tr>\n",
       "    <tr>\n",
       "      <th>327</th>\n",
       "      <td>34.319192</td>\n",
       "      <td>14.289023</td>\n",
       "      <td>20.030169</td>\n",
       "    </tr>\n",
       "    <tr>\n",
       "      <th>186</th>\n",
       "      <td>34.319192</td>\n",
       "      <td>14.289023</td>\n",
       "      <td>20.030169</td>\n",
       "    </tr>\n",
       "    <tr>\n",
       "      <th>233</th>\n",
       "      <td>34.319192</td>\n",
       "      <td>14.289023</td>\n",
       "      <td>20.030169</td>\n",
       "    </tr>\n",
       "    <tr>\n",
       "      <th>280</th>\n",
       "      <td>34.319192</td>\n",
       "      <td>14.289023</td>\n",
       "      <td>20.030169</td>\n",
       "    </tr>\n",
       "    <tr>\n",
       "      <th>139</th>\n",
       "      <td>34.319192</td>\n",
       "      <td>14.289023</td>\n",
       "      <td>20.030169</td>\n",
       "    </tr>\n",
       "    <tr>\n",
       "      <th>1173</th>\n",
       "      <td>34.355470</td>\n",
       "      <td>14.269965</td>\n",
       "      <td>20.085505</td>\n",
       "    </tr>\n",
       "    <tr>\n",
       "      <th>1455</th>\n",
       "      <td>34.680089</td>\n",
       "      <td>14.342753</td>\n",
       "      <td>20.337337</td>\n",
       "    </tr>\n",
       "    <tr>\n",
       "      <th>1361</th>\n",
       "      <td>34.680089</td>\n",
       "      <td>14.337298</td>\n",
       "      <td>20.342791</td>\n",
       "    </tr>\n",
       "    <tr>\n",
       "      <th>1079</th>\n",
       "      <td>34.680089</td>\n",
       "      <td>14.274116</td>\n",
       "      <td>20.405973</td>\n",
       "    </tr>\n",
       "  </tbody>\n",
       "</table>\n",
       "</div>"
      ],
      "text/plain": [
       "      actual values  predicted values  differences\n",
       "45        34.319192         14.292401    20.026791\n",
       "327       34.319192         14.289023    20.030169\n",
       "186       34.319192         14.289023    20.030169\n",
       "233       34.319192         14.289023    20.030169\n",
       "280       34.319192         14.289023    20.030169\n",
       "139       34.319192         14.289023    20.030169\n",
       "1173      34.355470         14.269965    20.085505\n",
       "1455      34.680089         14.342753    20.337337\n",
       "1361      34.680089         14.337298    20.342791\n",
       "1079      34.680089         14.274116    20.405973"
      ]
     },
     "execution_count": 54,
     "metadata": {},
     "output_type": "execute_result"
    }
   ],
   "source": [
    "# create dataframe containing actual values, predictions and the differences between them\n",
    "df_scores = get_scores_dataframe(rf_model)\n",
    "df_scores.sort_values(by=\"differences\").tail(10)"
   ]
  },
  {
   "cell_type": "markdown",
   "id": "f9730383",
   "metadata": {},
   "source": [
    "<h4><font color=mediumvioletred>Model with SGDClassifier </font></h4>"
   ]
  },
  {
   "cell_type": "code",
   "execution_count": 55,
   "id": "bbe00f9a",
   "metadata": {},
   "outputs": [
    {
     "data": {
      "text/plain": [
       "SGDClassifier(n_jobs=-1, random_state=42)"
      ]
     },
     "execution_count": 55,
     "metadata": {},
     "output_type": "execute_result"
    }
   ],
   "source": [
    "sgd_model = SGDClassifier(n_jobs=-1,\n",
    "                        random_state=42)\n",
    "\n",
    "# fit the model\n",
    "sgd_model.fit(X_train, y_train.astype(int))"
   ]
  },
  {
   "cell_type": "code",
   "execution_count": 56,
   "id": "60692974",
   "metadata": {},
   "outputs": [
    {
     "data": {
      "text/plain": [
       "{'Training MAE': 4.228876435507023, 'Testing MAE': 8.53119431230069}"
      ]
     },
     "execution_count": 56,
     "metadata": {},
     "output_type": "execute_result"
    }
   ],
   "source": [
    "# score model\n",
    "show_scores(sgd_model)"
   ]
  },
  {
   "cell_type": "code",
   "execution_count": 57,
   "id": "3c8a7d2b",
   "metadata": {},
   "outputs": [
    {
     "data": {
      "text/html": [
       "<div>\n",
       "<style scoped>\n",
       "    .dataframe tbody tr th:only-of-type {\n",
       "        vertical-align: middle;\n",
       "    }\n",
       "\n",
       "    .dataframe tbody tr th {\n",
       "        vertical-align: top;\n",
       "    }\n",
       "\n",
       "    .dataframe thead th {\n",
       "        text-align: right;\n",
       "    }\n",
       "</style>\n",
       "<table border=\"1\" class=\"dataframe\">\n",
       "  <thead>\n",
       "    <tr style=\"text-align: right;\">\n",
       "      <th></th>\n",
       "      <th>actual values</th>\n",
       "      <th>predicted values</th>\n",
       "      <th>differences</th>\n",
       "    </tr>\n",
       "  </thead>\n",
       "  <tbody>\n",
       "    <tr>\n",
       "      <th>327</th>\n",
       "      <td>34.319192</td>\n",
       "      <td>11</td>\n",
       "      <td>23.319192</td>\n",
       "    </tr>\n",
       "    <tr>\n",
       "      <th>280</th>\n",
       "      <td>34.319192</td>\n",
       "      <td>11</td>\n",
       "      <td>23.319192</td>\n",
       "    </tr>\n",
       "    <tr>\n",
       "      <th>92</th>\n",
       "      <td>34.319192</td>\n",
       "      <td>11</td>\n",
       "      <td>23.319192</td>\n",
       "    </tr>\n",
       "    <tr>\n",
       "      <th>139</th>\n",
       "      <td>34.319192</td>\n",
       "      <td>11</td>\n",
       "      <td>23.319192</td>\n",
       "    </tr>\n",
       "    <tr>\n",
       "      <th>186</th>\n",
       "      <td>34.319192</td>\n",
       "      <td>11</td>\n",
       "      <td>23.319192</td>\n",
       "    </tr>\n",
       "    <tr>\n",
       "      <th>233</th>\n",
       "      <td>34.319192</td>\n",
       "      <td>11</td>\n",
       "      <td>23.319192</td>\n",
       "    </tr>\n",
       "    <tr>\n",
       "      <th>1173</th>\n",
       "      <td>34.355470</td>\n",
       "      <td>11</td>\n",
       "      <td>23.355470</td>\n",
       "    </tr>\n",
       "    <tr>\n",
       "      <th>1079</th>\n",
       "      <td>34.680089</td>\n",
       "      <td>11</td>\n",
       "      <td>23.680089</td>\n",
       "    </tr>\n",
       "    <tr>\n",
       "      <th>1361</th>\n",
       "      <td>34.680089</td>\n",
       "      <td>11</td>\n",
       "      <td>23.680089</td>\n",
       "    </tr>\n",
       "    <tr>\n",
       "      <th>1455</th>\n",
       "      <td>34.680089</td>\n",
       "      <td>11</td>\n",
       "      <td>23.680089</td>\n",
       "    </tr>\n",
       "  </tbody>\n",
       "</table>\n",
       "</div>"
      ],
      "text/plain": [
       "      actual values  predicted values  differences\n",
       "327       34.319192                11    23.319192\n",
       "280       34.319192                11    23.319192\n",
       "92        34.319192                11    23.319192\n",
       "139       34.319192                11    23.319192\n",
       "186       34.319192                11    23.319192\n",
       "233       34.319192                11    23.319192\n",
       "1173      34.355470                11    23.355470\n",
       "1079      34.680089                11    23.680089\n",
       "1361      34.680089                11    23.680089\n",
       "1455      34.680089                11    23.680089"
      ]
     },
     "execution_count": 57,
     "metadata": {},
     "output_type": "execute_result"
    }
   ],
   "source": [
    "# create dataframe containing actual values, predictions and the differences between them\n",
    "df_scores = get_scores_dataframe(sgd_model)\n",
    "df_scores.sort_values(by=\"differences\").tail(10)"
   ]
  },
  {
   "cell_type": "markdown",
   "id": "cd981c6a",
   "metadata": {},
   "source": [
    "<h4><font color=mediumvioletred>Model with GradientBoostingRegressor </font></h4>"
   ]
  },
  {
   "cell_type": "code",
   "execution_count": 58,
   "id": "a139789f",
   "metadata": {},
   "outputs": [
    {
     "data": {
      "text/plain": [
       "GradientBoostingRegressor(max_depth=1, random_state=42)"
      ]
     },
     "execution_count": 58,
     "metadata": {},
     "output_type": "execute_result"
    }
   ],
   "source": [
    "gbr_model = GradientBoostingRegressor(n_estimators=100, \n",
    "                                  learning_rate=0.1, \n",
    "                                  max_depth=1,\n",
    "                                  random_state=42)\n",
    "\n",
    "# fit the model\n",
    "gbr_model.fit(X_train, y_train)"
   ]
  },
  {
   "cell_type": "code",
   "execution_count": 59,
   "id": "e5a8421d",
   "metadata": {},
   "outputs": [
    {
     "data": {
      "text/plain": [
       "{'Training MAE': 1.1943743662594815, 'Testing MAE': 7.398151531788652}"
      ]
     },
     "execution_count": 59,
     "metadata": {},
     "output_type": "execute_result"
    }
   ],
   "source": [
    "# score model\n",
    "show_scores(gbr_model)"
   ]
  },
  {
   "cell_type": "code",
   "execution_count": 60,
   "id": "d4b5509a",
   "metadata": {},
   "outputs": [
    {
     "data": {
      "text/html": [
       "<div>\n",
       "<style scoped>\n",
       "    .dataframe tbody tr th:only-of-type {\n",
       "        vertical-align: middle;\n",
       "    }\n",
       "\n",
       "    .dataframe tbody tr th {\n",
       "        vertical-align: top;\n",
       "    }\n",
       "\n",
       "    .dataframe thead th {\n",
       "        text-align: right;\n",
       "    }\n",
       "</style>\n",
       "<table border=\"1\" class=\"dataframe\">\n",
       "  <thead>\n",
       "    <tr style=\"text-align: right;\">\n",
       "      <th></th>\n",
       "      <th>actual values</th>\n",
       "      <th>predicted values</th>\n",
       "      <th>differences</th>\n",
       "    </tr>\n",
       "  </thead>\n",
       "  <tbody>\n",
       "    <tr>\n",
       "      <th>186</th>\n",
       "      <td>34.319192</td>\n",
       "      <td>15.462908</td>\n",
       "      <td>18.856284</td>\n",
       "    </tr>\n",
       "    <tr>\n",
       "      <th>45</th>\n",
       "      <td>34.319192</td>\n",
       "      <td>15.462908</td>\n",
       "      <td>18.856284</td>\n",
       "    </tr>\n",
       "    <tr>\n",
       "      <th>280</th>\n",
       "      <td>34.319192</td>\n",
       "      <td>15.462908</td>\n",
       "      <td>18.856284</td>\n",
       "    </tr>\n",
       "    <tr>\n",
       "      <th>139</th>\n",
       "      <td>34.319192</td>\n",
       "      <td>15.462908</td>\n",
       "      <td>18.856284</td>\n",
       "    </tr>\n",
       "    <tr>\n",
       "      <th>327</th>\n",
       "      <td>34.319192</td>\n",
       "      <td>15.462908</td>\n",
       "      <td>18.856284</td>\n",
       "    </tr>\n",
       "    <tr>\n",
       "      <th>233</th>\n",
       "      <td>34.319192</td>\n",
       "      <td>15.462908</td>\n",
       "      <td>18.856284</td>\n",
       "    </tr>\n",
       "    <tr>\n",
       "      <th>1173</th>\n",
       "      <td>34.355470</td>\n",
       "      <td>15.462908</td>\n",
       "      <td>18.892562</td>\n",
       "    </tr>\n",
       "    <tr>\n",
       "      <th>1079</th>\n",
       "      <td>34.680089</td>\n",
       "      <td>15.462908</td>\n",
       "      <td>19.217181</td>\n",
       "    </tr>\n",
       "    <tr>\n",
       "      <th>1455</th>\n",
       "      <td>34.680089</td>\n",
       "      <td>15.462908</td>\n",
       "      <td>19.217181</td>\n",
       "    </tr>\n",
       "    <tr>\n",
       "      <th>1361</th>\n",
       "      <td>34.680089</td>\n",
       "      <td>15.462908</td>\n",
       "      <td>19.217181</td>\n",
       "    </tr>\n",
       "  </tbody>\n",
       "</table>\n",
       "</div>"
      ],
      "text/plain": [
       "      actual values  predicted values  differences\n",
       "186       34.319192         15.462908    18.856284\n",
       "45        34.319192         15.462908    18.856284\n",
       "280       34.319192         15.462908    18.856284\n",
       "139       34.319192         15.462908    18.856284\n",
       "327       34.319192         15.462908    18.856284\n",
       "233       34.319192         15.462908    18.856284\n",
       "1173      34.355470         15.462908    18.892562\n",
       "1079      34.680089         15.462908    19.217181\n",
       "1455      34.680089         15.462908    19.217181\n",
       "1361      34.680089         15.462908    19.217181"
      ]
     },
     "execution_count": 60,
     "metadata": {},
     "output_type": "execute_result"
    }
   ],
   "source": [
    "# create dataframe containing actual values, predictions and the differences between them\n",
    "df_scores = get_scores_dataframe(gbr_model)\n",
    "df_scores.sort_values(by=\"differences\").tail(10)"
   ]
  },
  {
   "cell_type": "markdown",
   "id": "09bb1748",
   "metadata": {},
   "source": [
    "<h4><font color=mediumvioletred>Model with BayesianRidge </font></h4>"
   ]
  },
  {
   "cell_type": "code",
   "execution_count": 61,
   "id": "ffe4f0e6",
   "metadata": {},
   "outputs": [
    {
     "data": {
      "text/plain": [
       "BayesianRidge()"
      ]
     },
     "execution_count": 61,
     "metadata": {},
     "output_type": "execute_result"
    }
   ],
   "source": [
    "br_model = BayesianRidge()\n",
    "\n",
    "# fit the model\n",
    "br_model.fit(X_train, y_train)"
   ]
  },
  {
   "cell_type": "code",
   "execution_count": 62,
   "id": "e882b2cc",
   "metadata": {},
   "outputs": [
    {
     "data": {
      "text/plain": [
       "{'Training MAE': 2.3344465343406453, 'Testing MAE': 8.503177539345117}"
      ]
     },
     "execution_count": 62,
     "metadata": {},
     "output_type": "execute_result"
    }
   ],
   "source": [
    "# score model\n",
    "show_scores(br_model)"
   ]
  },
  {
   "cell_type": "code",
   "execution_count": 63,
   "id": "81534884",
   "metadata": {},
   "outputs": [
    {
     "data": {
      "text/html": [
       "<div>\n",
       "<style scoped>\n",
       "    .dataframe tbody tr th:only-of-type {\n",
       "        vertical-align: middle;\n",
       "    }\n",
       "\n",
       "    .dataframe tbody tr th {\n",
       "        vertical-align: top;\n",
       "    }\n",
       "\n",
       "    .dataframe thead th {\n",
       "        text-align: right;\n",
       "    }\n",
       "</style>\n",
       "<table border=\"1\" class=\"dataframe\">\n",
       "  <thead>\n",
       "    <tr style=\"text-align: right;\">\n",
       "      <th></th>\n",
       "      <th>actual values</th>\n",
       "      <th>predicted values</th>\n",
       "      <th>differences</th>\n",
       "    </tr>\n",
       "  </thead>\n",
       "  <tbody>\n",
       "    <tr>\n",
       "      <th>233</th>\n",
       "      <td>34.319192</td>\n",
       "      <td>10.724954</td>\n",
       "      <td>23.594238</td>\n",
       "    </tr>\n",
       "    <tr>\n",
       "      <th>280</th>\n",
       "      <td>34.319192</td>\n",
       "      <td>10.724078</td>\n",
       "      <td>23.595114</td>\n",
       "    </tr>\n",
       "    <tr>\n",
       "      <th>186</th>\n",
       "      <td>34.319192</td>\n",
       "      <td>10.709456</td>\n",
       "      <td>23.609736</td>\n",
       "    </tr>\n",
       "    <tr>\n",
       "      <th>327</th>\n",
       "      <td>34.319192</td>\n",
       "      <td>10.704694</td>\n",
       "      <td>23.614498</td>\n",
       "    </tr>\n",
       "    <tr>\n",
       "      <th>139</th>\n",
       "      <td>34.319192</td>\n",
       "      <td>10.677221</td>\n",
       "      <td>23.641971</td>\n",
       "    </tr>\n",
       "    <tr>\n",
       "      <th>45</th>\n",
       "      <td>34.319192</td>\n",
       "      <td>10.661235</td>\n",
       "      <td>23.657957</td>\n",
       "    </tr>\n",
       "    <tr>\n",
       "      <th>92</th>\n",
       "      <td>34.319192</td>\n",
       "      <td>10.625715</td>\n",
       "      <td>23.693477</td>\n",
       "    </tr>\n",
       "    <tr>\n",
       "      <th>1361</th>\n",
       "      <td>34.680089</td>\n",
       "      <td>10.880571</td>\n",
       "      <td>23.799518</td>\n",
       "    </tr>\n",
       "    <tr>\n",
       "      <th>1079</th>\n",
       "      <td>34.680089</td>\n",
       "      <td>10.765126</td>\n",
       "      <td>23.914963</td>\n",
       "    </tr>\n",
       "    <tr>\n",
       "      <th>1455</th>\n",
       "      <td>34.680089</td>\n",
       "      <td>10.669848</td>\n",
       "      <td>24.010241</td>\n",
       "    </tr>\n",
       "  </tbody>\n",
       "</table>\n",
       "</div>"
      ],
      "text/plain": [
       "      actual values  predicted values  differences\n",
       "233       34.319192         10.724954    23.594238\n",
       "280       34.319192         10.724078    23.595114\n",
       "186       34.319192         10.709456    23.609736\n",
       "327       34.319192         10.704694    23.614498\n",
       "139       34.319192         10.677221    23.641971\n",
       "45        34.319192         10.661235    23.657957\n",
       "92        34.319192         10.625715    23.693477\n",
       "1361      34.680089         10.880571    23.799518\n",
       "1079      34.680089         10.765126    23.914963\n",
       "1455      34.680089         10.669848    24.010241"
      ]
     },
     "execution_count": 63,
     "metadata": {},
     "output_type": "execute_result"
    }
   ],
   "source": [
    "# create dataframe containing actual values, predictions and the differences between them\n",
    "df_scores = get_scores_dataframe(br_model)\n",
    "df_scores.sort_values(by=\"differences\").tail(10)"
   ]
  },
  {
   "cell_type": "markdown",
   "id": "65128dfa",
   "metadata": {},
   "source": [
    "<h4><font color=mediumvioletred>Model with Lasso </font></h4>"
   ]
  },
  {
   "cell_type": "code",
   "execution_count": 64,
   "id": "17bd192c",
   "metadata": {},
   "outputs": [
    {
     "data": {
      "text/plain": [
       "LassoLars(alpha=0.1, normalize=False, random_state=42)"
      ]
     },
     "execution_count": 64,
     "metadata": {},
     "output_type": "execute_result"
    }
   ],
   "source": [
    "lasso_model = LassoLars(alpha=.1, \n",
    "                  normalize=False,\n",
    "                  random_state=42)\n",
    "\n",
    "# fit the model\n",
    "lasso_model.fit(X_train, y_train)"
   ]
  },
  {
   "cell_type": "code",
   "execution_count": 65,
   "id": "097225b1",
   "metadata": {},
   "outputs": [
    {
     "data": {
      "text/plain": [
       "{'Training MAE': 2.3416797240304987, 'Testing MAE': 8.602986638895269}"
      ]
     },
     "execution_count": 65,
     "metadata": {},
     "output_type": "execute_result"
    }
   ],
   "source": [
    "# score model\n",
    "show_scores(lasso_model)"
   ]
  },
  {
   "cell_type": "code",
   "execution_count": 66,
   "id": "86856222",
   "metadata": {},
   "outputs": [
    {
     "data": {
      "text/html": [
       "<div>\n",
       "<style scoped>\n",
       "    .dataframe tbody tr th:only-of-type {\n",
       "        vertical-align: middle;\n",
       "    }\n",
       "\n",
       "    .dataframe tbody tr th {\n",
       "        vertical-align: top;\n",
       "    }\n",
       "\n",
       "    .dataframe thead th {\n",
       "        text-align: right;\n",
       "    }\n",
       "</style>\n",
       "<table border=\"1\" class=\"dataframe\">\n",
       "  <thead>\n",
       "    <tr style=\"text-align: right;\">\n",
       "      <th></th>\n",
       "      <th>actual values</th>\n",
       "      <th>predicted values</th>\n",
       "      <th>differences</th>\n",
       "    </tr>\n",
       "  </thead>\n",
       "  <tbody>\n",
       "    <tr>\n",
       "      <th>280</th>\n",
       "      <td>34.319192</td>\n",
       "      <td>10.425495</td>\n",
       "      <td>23.893697</td>\n",
       "    </tr>\n",
       "    <tr>\n",
       "      <th>233</th>\n",
       "      <td>34.319192</td>\n",
       "      <td>10.425011</td>\n",
       "      <td>23.894181</td>\n",
       "    </tr>\n",
       "    <tr>\n",
       "      <th>186</th>\n",
       "      <td>34.319192</td>\n",
       "      <td>10.409504</td>\n",
       "      <td>23.909688</td>\n",
       "    </tr>\n",
       "    <tr>\n",
       "      <th>327</th>\n",
       "      <td>34.319192</td>\n",
       "      <td>10.407024</td>\n",
       "      <td>23.912168</td>\n",
       "    </tr>\n",
       "    <tr>\n",
       "      <th>139</th>\n",
       "      <td>34.319192</td>\n",
       "      <td>10.379159</td>\n",
       "      <td>23.940033</td>\n",
       "    </tr>\n",
       "    <tr>\n",
       "      <th>45</th>\n",
       "      <td>34.319192</td>\n",
       "      <td>10.365094</td>\n",
       "      <td>23.954098</td>\n",
       "    </tr>\n",
       "    <tr>\n",
       "      <th>92</th>\n",
       "      <td>34.319192</td>\n",
       "      <td>10.331649</td>\n",
       "      <td>23.987543</td>\n",
       "    </tr>\n",
       "    <tr>\n",
       "      <th>1361</th>\n",
       "      <td>34.680089</td>\n",
       "      <td>10.563518</td>\n",
       "      <td>24.116571</td>\n",
       "    </tr>\n",
       "    <tr>\n",
       "      <th>1079</th>\n",
       "      <td>34.680089</td>\n",
       "      <td>10.453654</td>\n",
       "      <td>24.226435</td>\n",
       "    </tr>\n",
       "    <tr>\n",
       "      <th>1455</th>\n",
       "      <td>34.680089</td>\n",
       "      <td>10.359558</td>\n",
       "      <td>24.320532</td>\n",
       "    </tr>\n",
       "  </tbody>\n",
       "</table>\n",
       "</div>"
      ],
      "text/plain": [
       "      actual values  predicted values  differences\n",
       "280       34.319192         10.425495    23.893697\n",
       "233       34.319192         10.425011    23.894181\n",
       "186       34.319192         10.409504    23.909688\n",
       "327       34.319192         10.407024    23.912168\n",
       "139       34.319192         10.379159    23.940033\n",
       "45        34.319192         10.365094    23.954098\n",
       "92        34.319192         10.331649    23.987543\n",
       "1361      34.680089         10.563518    24.116571\n",
       "1079      34.680089         10.453654    24.226435\n",
       "1455      34.680089         10.359558    24.320532"
      ]
     },
     "execution_count": 66,
     "metadata": {},
     "output_type": "execute_result"
    }
   ],
   "source": [
    "# create dataframe containing actual values, predictions and the differences between them\n",
    "df_scores = get_scores_dataframe(lasso_model)\n",
    "df_scores.sort_values(by=\"differences\").tail(10)"
   ]
  },
  {
   "cell_type": "markdown",
   "id": "b34c2364",
   "metadata": {},
   "source": [
    "<h4><font color=mediumvioletred>Model with ElasticNet </font></h4>"
   ]
  },
  {
   "cell_type": "code",
   "execution_count": 67,
   "id": "5f00a395",
   "metadata": {},
   "outputs": [
    {
     "data": {
      "text/plain": [
       "ElasticNet(random_state=42)"
      ]
     },
     "execution_count": 67,
     "metadata": {},
     "output_type": "execute_result"
    }
   ],
   "source": [
    "en_model = ElasticNet(random_state=42)\n",
    "\n",
    "# fit the model\n",
    "en_model.fit(X_train, y_train)"
   ]
  },
  {
   "cell_type": "code",
   "execution_count": 68,
   "id": "872bb379",
   "metadata": {},
   "outputs": [
    {
     "data": {
      "text/plain": [
       "{'Training MAE': 2.422679766416977, 'Testing MAE': 8.626299350617332}"
      ]
     },
     "execution_count": 68,
     "metadata": {},
     "output_type": "execute_result"
    }
   ],
   "source": [
    "# score model\n",
    "show_scores(en_model)"
   ]
  },
  {
   "cell_type": "code",
   "execution_count": 69,
   "id": "513f6122",
   "metadata": {},
   "outputs": [
    {
     "data": {
      "text/html": [
       "<div>\n",
       "<style scoped>\n",
       "    .dataframe tbody tr th:only-of-type {\n",
       "        vertical-align: middle;\n",
       "    }\n",
       "\n",
       "    .dataframe tbody tr th {\n",
       "        vertical-align: top;\n",
       "    }\n",
       "\n",
       "    .dataframe thead th {\n",
       "        text-align: right;\n",
       "    }\n",
       "</style>\n",
       "<table border=\"1\" class=\"dataframe\">\n",
       "  <thead>\n",
       "    <tr style=\"text-align: right;\">\n",
       "      <th></th>\n",
       "      <th>actual values</th>\n",
       "      <th>predicted values</th>\n",
       "      <th>differences</th>\n",
       "    </tr>\n",
       "  </thead>\n",
       "  <tbody>\n",
       "    <tr>\n",
       "      <th>233</th>\n",
       "      <td>34.319192</td>\n",
       "      <td>10.069607</td>\n",
       "      <td>24.249585</td>\n",
       "    </tr>\n",
       "    <tr>\n",
       "      <th>186</th>\n",
       "      <td>34.319192</td>\n",
       "      <td>10.054422</td>\n",
       "      <td>24.264770</td>\n",
       "    </tr>\n",
       "    <tr>\n",
       "      <th>327</th>\n",
       "      <td>34.319192</td>\n",
       "      <td>10.051926</td>\n",
       "      <td>24.267266</td>\n",
       "    </tr>\n",
       "    <tr>\n",
       "      <th>1173</th>\n",
       "      <td>34.355470</td>\n",
       "      <td>10.063046</td>\n",
       "      <td>24.292424</td>\n",
       "    </tr>\n",
       "    <tr>\n",
       "      <th>139</th>\n",
       "      <td>34.319192</td>\n",
       "      <td>10.026660</td>\n",
       "      <td>24.292532</td>\n",
       "    </tr>\n",
       "    <tr>\n",
       "      <th>45</th>\n",
       "      <td>34.319192</td>\n",
       "      <td>10.016471</td>\n",
       "      <td>24.302721</td>\n",
       "    </tr>\n",
       "    <tr>\n",
       "      <th>92</th>\n",
       "      <td>34.319192</td>\n",
       "      <td>9.983285</td>\n",
       "      <td>24.335907</td>\n",
       "    </tr>\n",
       "    <tr>\n",
       "      <th>1361</th>\n",
       "      <td>34.680089</td>\n",
       "      <td>10.144288</td>\n",
       "      <td>24.535801</td>\n",
       "    </tr>\n",
       "    <tr>\n",
       "      <th>1079</th>\n",
       "      <td>34.680089</td>\n",
       "      <td>10.046733</td>\n",
       "      <td>24.633356</td>\n",
       "    </tr>\n",
       "    <tr>\n",
       "      <th>1455</th>\n",
       "      <td>34.680089</td>\n",
       "      <td>9.932617</td>\n",
       "      <td>24.747472</td>\n",
       "    </tr>\n",
       "  </tbody>\n",
       "</table>\n",
       "</div>"
      ],
      "text/plain": [
       "      actual values  predicted values  differences\n",
       "233       34.319192         10.069607    24.249585\n",
       "186       34.319192         10.054422    24.264770\n",
       "327       34.319192         10.051926    24.267266\n",
       "1173      34.355470         10.063046    24.292424\n",
       "139       34.319192         10.026660    24.292532\n",
       "45        34.319192         10.016471    24.302721\n",
       "92        34.319192          9.983285    24.335907\n",
       "1361      34.680089         10.144288    24.535801\n",
       "1079      34.680089         10.046733    24.633356\n",
       "1455      34.680089          9.932617    24.747472"
      ]
     },
     "execution_count": 69,
     "metadata": {},
     "output_type": "execute_result"
    }
   ],
   "source": [
    "# create dataframe containing actual values, predictions and the differences between them\n",
    "df_scores = get_scores_dataframe(en_model)\n",
    "df_scores.sort_values(by=\"differences\").tail(10)"
   ]
  },
  {
   "cell_type": "markdown",
   "id": "2cfbe560",
   "metadata": {},
   "source": [
    "<h4><font color=mediumvioletred>Model with SVR </font></h4>"
   ]
  },
  {
   "cell_type": "code",
   "execution_count": 70,
   "id": "0c144ace",
   "metadata": {},
   "outputs": [
    {
     "data": {
      "text/plain": [
       "SVR()"
      ]
     },
     "execution_count": 70,
     "metadata": {},
     "output_type": "execute_result"
    }
   ],
   "source": [
    "svr_model = SVR()\n",
    "\n",
    "# fit the model\n",
    "svr_model.fit(X_train, y_train)"
   ]
  },
  {
   "cell_type": "code",
   "execution_count": 71,
   "id": "cbbe4763",
   "metadata": {},
   "outputs": [
    {
     "data": {
      "text/plain": [
       "{'Training MAE': 3.913479596322271, 'Testing MAE': 7.805045466821868}"
      ]
     },
     "execution_count": 71,
     "metadata": {},
     "output_type": "execute_result"
    }
   ],
   "source": [
    "# score model\n",
    "show_scores(svr_model)"
   ]
  },
  {
   "cell_type": "code",
   "execution_count": 72,
   "id": "20eab29b",
   "metadata": {},
   "outputs": [
    {
     "data": {
      "text/html": [
       "<div>\n",
       "<style scoped>\n",
       "    .dataframe tbody tr th:only-of-type {\n",
       "        vertical-align: middle;\n",
       "    }\n",
       "\n",
       "    .dataframe tbody tr th {\n",
       "        vertical-align: top;\n",
       "    }\n",
       "\n",
       "    .dataframe thead th {\n",
       "        text-align: right;\n",
       "    }\n",
       "</style>\n",
       "<table border=\"1\" class=\"dataframe\">\n",
       "  <thead>\n",
       "    <tr style=\"text-align: right;\">\n",
       "      <th></th>\n",
       "      <th>actual values</th>\n",
       "      <th>predicted values</th>\n",
       "      <th>differences</th>\n",
       "    </tr>\n",
       "  </thead>\n",
       "  <tbody>\n",
       "    <tr>\n",
       "      <th>186</th>\n",
       "      <td>34.319192</td>\n",
       "      <td>11.374957</td>\n",
       "      <td>22.944235</td>\n",
       "    </tr>\n",
       "    <tr>\n",
       "      <th>609</th>\n",
       "      <td>32.812274</td>\n",
       "      <td>9.789342</td>\n",
       "      <td>23.022932</td>\n",
       "    </tr>\n",
       "    <tr>\n",
       "      <th>139</th>\n",
       "      <td>34.319192</td>\n",
       "      <td>10.966573</td>\n",
       "      <td>23.352619</td>\n",
       "    </tr>\n",
       "    <tr>\n",
       "      <th>1220</th>\n",
       "      <td>32.812274</td>\n",
       "      <td>9.420553</td>\n",
       "      <td>23.391721</td>\n",
       "    </tr>\n",
       "    <tr>\n",
       "      <th>1173</th>\n",
       "      <td>34.355470</td>\n",
       "      <td>10.868781</td>\n",
       "      <td>23.486689</td>\n",
       "    </tr>\n",
       "    <tr>\n",
       "      <th>1267</th>\n",
       "      <td>33.525037</td>\n",
       "      <td>9.902843</td>\n",
       "      <td>23.622194</td>\n",
       "    </tr>\n",
       "    <tr>\n",
       "      <th>45</th>\n",
       "      <td>34.319192</td>\n",
       "      <td>10.689036</td>\n",
       "      <td>23.630156</td>\n",
       "    </tr>\n",
       "    <tr>\n",
       "      <th>92</th>\n",
       "      <td>34.319192</td>\n",
       "      <td>10.260789</td>\n",
       "      <td>24.058403</td>\n",
       "    </tr>\n",
       "    <tr>\n",
       "      <th>1079</th>\n",
       "      <td>34.680089</td>\n",
       "      <td>10.477429</td>\n",
       "      <td>24.202660</td>\n",
       "    </tr>\n",
       "    <tr>\n",
       "      <th>1455</th>\n",
       "      <td>34.680089</td>\n",
       "      <td>9.298868</td>\n",
       "      <td>25.381221</td>\n",
       "    </tr>\n",
       "  </tbody>\n",
       "</table>\n",
       "</div>"
      ],
      "text/plain": [
       "      actual values  predicted values  differences\n",
       "186       34.319192         11.374957    22.944235\n",
       "609       32.812274          9.789342    23.022932\n",
       "139       34.319192         10.966573    23.352619\n",
       "1220      32.812274          9.420553    23.391721\n",
       "1173      34.355470         10.868781    23.486689\n",
       "1267      33.525037          9.902843    23.622194\n",
       "45        34.319192         10.689036    23.630156\n",
       "92        34.319192         10.260789    24.058403\n",
       "1079      34.680089         10.477429    24.202660\n",
       "1455      34.680089          9.298868    25.381221"
      ]
     },
     "execution_count": 72,
     "metadata": {},
     "output_type": "execute_result"
    }
   ],
   "source": [
    "# create dataframe containing actual values, predictions and the differences between them\n",
    "df_scores = get_scores_dataframe(svr_model)\n",
    "df_scores.sort_values(by=\"differences\").tail(10)"
   ]
  },
  {
   "cell_type": "markdown",
   "id": "a0d5d4d4",
   "metadata": {},
   "source": [
    "<h4><font color=mediumvioletred>Conclusion </font></h4>"
   ]
  },
  {
   "cell_type": "markdown",
   "id": "c56459ce",
   "metadata": {},
   "source": [
    "After calculating the MAE (average of the absolute differences between predictions and actual values), we found that the following models had the best predictions:\n",
    "* RandomForestRegressor: 6.0729757977694865\n",
    "* GradientBoostingRegressor: 7.398151531788652\n",
    "* SVR: 7.805045466821868\n",
    "\n",
    "**After using more data (from 2021-01-01 to 2021-11-18) and grouping the data by week, the models' scores improved a bit.\n",
    "However, the maximum value is still too high, this is because there are unhandled outliers.**"
   ]
  },
  {
   "cell_type": "markdown",
   "id": "896e431b",
   "metadata": {},
   "source": [
    "<h4><font color=mediumvioletred>Check feature importance</font></h4>\n",
    "\n",
    "Feature importance means which features affected the model the most."
   ]
  },
  {
   "cell_type": "code",
   "execution_count": 73,
   "id": "565d11a6",
   "metadata": {},
   "outputs": [
    {
     "data": {
      "image/png": "[encoded data removed]",
      "text/plain": [
       "<Figure size 640x480 with 1 Axes>"
      ]
     },
     "metadata": {},
     "output_type": "display_data"
    }
   ],
   "source": [
    "# GradientBoostingRegressor model\n",
    "plot_features(X_train.columns, gbr_model.feature_importances_)"
   ]
  },
  {
   "cell_type": "code",
   "execution_count": 74,
   "id": "33c9c820",
   "metadata": {},
   "outputs": [
    {
     "data": {
      "image/png": "[encoded data removed]",
      "text/plain": [
       "<Figure size 640x480 with 1 Axes>"
      ]
     },
     "metadata": {},
     "output_type": "display_data"
    }
   ],
   "source": [
    "# RandomForestRegressor model\n",
    "plot_features(X_train.columns, rf_model.feature_importances_)"
   ]
  },
  {
   "cell_type": "markdown",
   "id": "f195c0cf",
   "metadata": {},
   "source": [
    "The columns which affected the best models the most are week number, boundary layer height, wind direction, solar sun radiation and wind speed.\n",
    "\n",
    "The model was unable to identify a pattern or correlation between the number of people and the PM2.5 due to the fact that during rush hours, both the number of people and the PM2.5 pollution level rise, and when people arrive at their destinations, the number of people stays very high while the pollution level declines.\n",
    "\n",
    "Given that the zip codes are in the same city and have the same weather, it was likewise unable to establish a link between the zip code (PC4) and the PM2.5.\n",
    "\n",
    "Including the season column had no effect on the model."
   ]
  },
  {
   "cell_type": "markdown",
   "id": "87614d63",
   "metadata": {},
   "source": [
    "<h4><font color=mediumvioletred>Export the best model (GradientBoostingRegressor and RandomForestRegressor)</font></h4>"
   ]
  },
  {
   "cell_type": "code",
   "execution_count": 75,
   "id": "81cf274c",
   "metadata": {},
   "outputs": [],
   "source": [
    "pickle.dump(gbr_model, open(\"models/gbr_air_quality_prediction_model_weekly.pkl\", \"wb\")) # wb = write binary\n",
    "pickle.dump(rf_model, open(\"models/rf_air_quality_prediction_model_weekly.pkl\", \"wb\")) # wb = write binary"
   ]
  },
  {
   "cell_type": "markdown",
   "id": "93848199",
   "metadata": {},
   "source": [
    "<h2><font color=slateblue>Modelling using daily data after handling outliers</font></h2>\n",
    "\n",
    "\n",
    "[Outliers Handling notebook](http://localhost:8888/notebooks/outliers_handling.ipynb)"
   ]
  },
  {
   "cell_type": "markdown",
   "id": "a19756d4",
   "metadata": {},
   "source": [
    "<h3><font color=steelblue>Remove pm2.5 outliers</font></h3>"
   ]
  },
  {
   "cell_type": "markdown",
   "id": "519fc3fa",
   "metadata": {},
   "source": [
    "<h4><font color=mediumvioletred>Read CSV file</font></h4>"
   ]
  },
  {
   "cell_type": "code",
   "execution_count": 76,
   "id": "211111ad",
   "metadata": {},
   "outputs": [
    {
     "data": {
      "text/html": [
       "<div>\n",
       "<style scoped>\n",
       "    .dataframe tbody tr th:only-of-type {\n",
       "        vertical-align: middle;\n",
       "    }\n",
       "\n",
       "    .dataframe tbody tr th {\n",
       "        vertical-align: top;\n",
       "    }\n",
       "\n",
       "    .dataframe thead th {\n",
       "        text-align: right;\n",
       "    }\n",
       "</style>\n",
       "<table border=\"1\" class=\"dataframe\">\n",
       "  <thead>\n",
       "    <tr style=\"text-align: right;\">\n",
       "      <th></th>\n",
       "      <th>PC4</th>\n",
       "      <th>people_number</th>\n",
       "      <th>pm2.5</th>\n",
       "      <th>wd</th>\n",
       "      <th>ws</th>\n",
       "      <th>ssrd</th>\n",
       "      <th>blh</th>\n",
       "      <th>year</th>\n",
       "      <th>month</th>\n",
       "      <th>day</th>\n",
       "      <th>day_of_week</th>\n",
       "      <th>day_of_year</th>\n",
       "    </tr>\n",
       "  </thead>\n",
       "  <tbody>\n",
       "    <tr>\n",
       "      <th>8369</th>\n",
       "      <td>5656</td>\n",
       "      <td>21398.0</td>\n",
       "      <td>18.030058</td>\n",
       "      <td>201.227439</td>\n",
       "      <td>4.546276</td>\n",
       "      <td>111.111709</td>\n",
       "      <td>544.804866</td>\n",
       "      <td>2021</td>\n",
       "      <td>9</td>\n",
       "      <td>23</td>\n",
       "      <td>3</td>\n",
       "      <td>266</td>\n",
       "    </tr>\n",
       "    <tr>\n",
       "      <th>172</th>\n",
       "      <td>5625</td>\n",
       "      <td>4815.0</td>\n",
       "      <td>17.938721</td>\n",
       "      <td>181.337783</td>\n",
       "      <td>3.513360</td>\n",
       "      <td>16.606545</td>\n",
       "      <td>378.014627</td>\n",
       "      <td>2021</td>\n",
       "      <td>1</td>\n",
       "      <td>7</td>\n",
       "      <td>3</td>\n",
       "      <td>7</td>\n",
       "    </tr>\n",
       "    <tr>\n",
       "      <th>1941</th>\n",
       "      <td>5628</td>\n",
       "      <td>5607.0</td>\n",
       "      <td>6.461842</td>\n",
       "      <td>216.910213</td>\n",
       "      <td>9.432661</td>\n",
       "      <td>116.153670</td>\n",
       "      <td>1488.074593</td>\n",
       "      <td>2021</td>\n",
       "      <td>3</td>\n",
       "      <td>11</td>\n",
       "      <td>3</td>\n",
       "      <td>70</td>\n",
       "    </tr>\n",
       "    <tr>\n",
       "      <th>4166</th>\n",
       "      <td>5631</td>\n",
       "      <td>9583.0</td>\n",
       "      <td>9.305510</td>\n",
       "      <td>183.932868</td>\n",
       "      <td>3.004812</td>\n",
       "      <td>173.226664</td>\n",
       "      <td>486.519078</td>\n",
       "      <td>2021</td>\n",
       "      <td>5</td>\n",
       "      <td>19</td>\n",
       "      <td>2</td>\n",
       "      <td>139</td>\n",
       "    </tr>\n",
       "    <tr>\n",
       "      <th>5301</th>\n",
       "      <td>5616</td>\n",
       "      <td>7553.0</td>\n",
       "      <td>2.258873</td>\n",
       "      <td>63.522331</td>\n",
       "      <td>3.936352</td>\n",
       "      <td>134.781936</td>\n",
       "      <td>738.577515</td>\n",
       "      <td>2021</td>\n",
       "      <td>6</td>\n",
       "      <td>22</td>\n",
       "      <td>1</td>\n",
       "      <td>173</td>\n",
       "    </tr>\n",
       "  </tbody>\n",
       "</table>\n",
       "</div>"
      ],
      "text/plain": [
       "       PC4  people_number      pm2.5          wd        ws        ssrd  \\\n",
       "8369  5656        21398.0  18.030058  201.227439  4.546276  111.111709   \n",
       "172   5625         4815.0  17.938721  181.337783  3.513360   16.606545   \n",
       "1941  5628         5607.0   6.461842  216.910213  9.432661  116.153670   \n",
       "4166  5631         9583.0   9.305510  183.932868  3.004812  173.226664   \n",
       "5301  5616         7553.0   2.258873   63.522331  3.936352  134.781936   \n",
       "\n",
       "              blh  year  month  day  day_of_week  day_of_year  \n",
       "8369   544.804866  2021      9   23            3          266  \n",
       "172    378.014627  2021      1    7            3            7  \n",
       "1941  1488.074593  2021      3   11            3           70  \n",
       "4166   486.519078  2021      5   19            2          139  \n",
       "5301   738.577515  2021      6   22            1          173  "
      ]
     },
     "execution_count": 76,
     "metadata": {},
     "output_type": "execute_result"
    }
   ],
   "source": [
    "# read prepared dataset csv file\n",
    "df_removed_pollution_outliers = pd.read_csv(\"data/df_removed_pollution_outliers.csv\")\n",
    "df_removed_pollution_outliers.sample(5)"
   ]
  },
  {
   "cell_type": "markdown",
   "id": "8afaf913",
   "metadata": {},
   "source": [
    "<h4><font color=mediumvioletred>Get X and y</font></h4>"
   ]
  },
  {
   "cell_type": "code",
   "execution_count": 77,
   "id": "53e58a21",
   "metadata": {},
   "outputs": [],
   "source": [
    "X = df_removed_pollution_outliers.drop(\"pm2.5\", axis=1)\n",
    "y = df_removed_pollution_outliers[\"pm2.5\"]"
   ]
  },
  {
   "cell_type": "markdown",
   "id": "5f36af78",
   "metadata": {},
   "source": [
    "<h4><font color=mediumvioletred>Get a sample of X </font></h4>"
   ]
  },
  {
   "cell_type": "code",
   "execution_count": 78,
   "id": "173036e1",
   "metadata": {},
   "outputs": [
    {
     "data": {
      "text/html": [
       "<div>\n",
       "<style scoped>\n",
       "    .dataframe tbody tr th:only-of-type {\n",
       "        vertical-align: middle;\n",
       "    }\n",
       "\n",
       "    .dataframe tbody tr th {\n",
       "        vertical-align: top;\n",
       "    }\n",
       "\n",
       "    .dataframe thead th {\n",
       "        text-align: right;\n",
       "    }\n",
       "</style>\n",
       "<table border=\"1\" class=\"dataframe\">\n",
       "  <thead>\n",
       "    <tr style=\"text-align: right;\">\n",
       "      <th></th>\n",
       "      <th>PC4</th>\n",
       "      <th>people_number</th>\n",
       "      <th>wd</th>\n",
       "      <th>ws</th>\n",
       "      <th>ssrd</th>\n",
       "      <th>blh</th>\n",
       "      <th>year</th>\n",
       "      <th>month</th>\n",
       "      <th>day</th>\n",
       "      <th>day_of_week</th>\n",
       "      <th>day_of_year</th>\n",
       "    </tr>\n",
       "  </thead>\n",
       "  <tbody>\n",
       "    <tr>\n",
       "      <th>4929</th>\n",
       "      <td>5615</td>\n",
       "      <td>7360.0</td>\n",
       "      <td>179.678251</td>\n",
       "      <td>2.679310</td>\n",
       "      <td>231.364225</td>\n",
       "      <td>588.233027</td>\n",
       "      <td>2021</td>\n",
       "      <td>6</td>\n",
       "      <td>11</td>\n",
       "      <td>4</td>\n",
       "      <td>162</td>\n",
       "    </tr>\n",
       "    <tr>\n",
       "      <th>7734</th>\n",
       "      <td>5626</td>\n",
       "      <td>17183.0</td>\n",
       "      <td>32.079655</td>\n",
       "      <td>3.221554</td>\n",
       "      <td>162.243808</td>\n",
       "      <td>395.467604</td>\n",
       "      <td>2021</td>\n",
       "      <td>9</td>\n",
       "      <td>4</td>\n",
       "      <td>5</td>\n",
       "      <td>247</td>\n",
       "    </tr>\n",
       "    <tr>\n",
       "      <th>1731</th>\n",
       "      <td>5631</td>\n",
       "      <td>7494.0</td>\n",
       "      <td>99.646122</td>\n",
       "      <td>2.377443</td>\n",
       "      <td>30.913811</td>\n",
       "      <td>377.514593</td>\n",
       "      <td>2021</td>\n",
       "      <td>3</td>\n",
       "      <td>4</td>\n",
       "      <td>3</td>\n",
       "      <td>63</td>\n",
       "    </tr>\n",
       "    <tr>\n",
       "      <th>8001</th>\n",
       "      <td>5644</td>\n",
       "      <td>13652.0</td>\n",
       "      <td>177.596737</td>\n",
       "      <td>2.696568</td>\n",
       "      <td>108.520122</td>\n",
       "      <td>454.793399</td>\n",
       "      <td>2021</td>\n",
       "      <td>9</td>\n",
       "      <td>12</td>\n",
       "      <td>6</td>\n",
       "      <td>255</td>\n",
       "    </tr>\n",
       "    <tr>\n",
       "      <th>8765</th>\n",
       "      <td>5632</td>\n",
       "      <td>12756.0</td>\n",
       "      <td>262.221733</td>\n",
       "      <td>5.538220</td>\n",
       "      <td>59.620532</td>\n",
       "      <td>784.409350</td>\n",
       "      <td>2021</td>\n",
       "      <td>10</td>\n",
       "      <td>5</td>\n",
       "      <td>1</td>\n",
       "      <td>278</td>\n",
       "    </tr>\n",
       "  </tbody>\n",
       "</table>\n",
       "</div>"
      ],
      "text/plain": [
       "       PC4  people_number          wd        ws        ssrd         blh  year  \\\n",
       "4929  5615         7360.0  179.678251  2.679310  231.364225  588.233027  2021   \n",
       "7734  5626        17183.0   32.079655  3.221554  162.243808  395.467604  2021   \n",
       "1731  5631         7494.0   99.646122  2.377443   30.913811  377.514593  2021   \n",
       "8001  5644        13652.0  177.596737  2.696568  108.520122  454.793399  2021   \n",
       "8765  5632        12756.0  262.221733  5.538220   59.620532  784.409350  2021   \n",
       "\n",
       "      month  day  day_of_week  day_of_year  \n",
       "4929      6   11            4          162  \n",
       "7734      9    4            5          247  \n",
       "1731      3    4            3           63  \n",
       "8001      9   12            6          255  \n",
       "8765     10    5            1          278  "
      ]
     },
     "execution_count": 78,
     "metadata": {},
     "output_type": "execute_result"
    }
   ],
   "source": [
    "X.sample(5)"
   ]
  },
  {
   "cell_type": "markdown",
   "id": "eb7a8c66",
   "metadata": {},
   "source": [
    "<h4><font color=mediumvioletred>Get a sample of y </font></h4>"
   ]
  },
  {
   "cell_type": "code",
   "execution_count": 79,
   "id": "9e32e57a",
   "metadata": {
    "scrolled": true
   },
   "outputs": [
    {
     "data": {
      "text/plain": [
       "6071     3.153123\n",
       "2365    27.385742\n",
       "3523    13.935285\n",
       "3302     5.185724\n",
       "3413     7.228557\n",
       "Name: pm2.5, dtype: float64"
      ]
     },
     "execution_count": 79,
     "metadata": {},
     "output_type": "execute_result"
    }
   ],
   "source": [
    "y.sample(5)"
   ]
  },
  {
   "cell_type": "markdown",
   "id": "c51d0ebf",
   "metadata": {},
   "source": [
    "<h4><font color=mediumvioletred>Check shape of the dataframe </font></h4>"
   ]
  },
  {
   "cell_type": "code",
   "execution_count": 80,
   "id": "35ed0c27",
   "metadata": {},
   "outputs": [
    {
     "data": {
      "text/plain": [
       "(10066, 12)"
      ]
     },
     "execution_count": 80,
     "metadata": {},
     "output_type": "execute_result"
    }
   ],
   "source": [
    "df_removed_pollution_outliers.shape"
   ]
  },
  {
   "cell_type": "markdown",
   "id": "b36a6aba",
   "metadata": {},
   "source": [
    "<h4><font color=mediumvioletred>Split data into training and testing </font></h4>"
   ]
  },
  {
   "cell_type": "code",
   "execution_count": 81,
   "id": "152dc485",
   "metadata": {},
   "outputs": [
    {
     "data": {
      "text/plain": [
       "(6602, 3464)"
      ]
     },
     "execution_count": 81,
     "metadata": {},
     "output_type": "execute_result"
    }
   ],
   "source": [
    "df_train = df_removed_pollution_outliers[df_removed_pollution_outliers.month < 8]\n",
    "df_test = df_removed_pollution_outliers[df_removed_pollution_outliers.month >= 8]\n",
    "\n",
    "len(df_train), len(df_test)"
   ]
  },
  {
   "cell_type": "markdown",
   "id": "e8e79280",
   "metadata": {},
   "source": [
    "<h4><font color=mediumvioletred>Split data into X & y </font></h4>"
   ]
  },
  {
   "cell_type": "code",
   "execution_count": 82,
   "id": "9cbd54ac",
   "metadata": {},
   "outputs": [
    {
     "data": {
      "text/plain": [
       "((6602, 11), (6602,), (3464, 11), (3464,))"
      ]
     },
     "execution_count": 82,
     "metadata": {},
     "output_type": "execute_result"
    }
   ],
   "source": [
    "X_train, y_train = df_train.drop(\"pm2.5\", axis=1), df_train[\"pm2.5\"]\n",
    "X_test, y_test = df_test.drop(\"pm2.5\", axis=1), df_test[\"pm2.5\"]\n",
    "\n",
    "X_train.shape, y_train.shape, X_test.shape, y_test.shape"
   ]
  },
  {
   "cell_type": "code",
   "execution_count": 83,
   "id": "90739831",
   "metadata": {},
   "outputs": [
    {
     "data": {
      "text/html": [
       "<div>\n",
       "<style scoped>\n",
       "    .dataframe tbody tr th:only-of-type {\n",
       "        vertical-align: middle;\n",
       "    }\n",
       "\n",
       "    .dataframe tbody tr th {\n",
       "        vertical-align: top;\n",
       "    }\n",
       "\n",
       "    .dataframe thead th {\n",
       "        text-align: right;\n",
       "    }\n",
       "</style>\n",
       "<table border=\"1\" class=\"dataframe\">\n",
       "  <thead>\n",
       "    <tr style=\"text-align: right;\">\n",
       "      <th></th>\n",
       "      <th>PC4</th>\n",
       "      <th>people_number</th>\n",
       "      <th>wd</th>\n",
       "      <th>ws</th>\n",
       "      <th>ssrd</th>\n",
       "      <th>blh</th>\n",
       "      <th>year</th>\n",
       "      <th>month</th>\n",
       "      <th>day</th>\n",
       "      <th>day_of_week</th>\n",
       "      <th>day_of_year</th>\n",
       "    </tr>\n",
       "  </thead>\n",
       "  <tbody>\n",
       "    <tr>\n",
       "      <th>0</th>\n",
       "      <td>5611</td>\n",
       "      <td>6671.0</td>\n",
       "      <td>203.334312</td>\n",
       "      <td>2.886824</td>\n",
       "      <td>35.783607</td>\n",
       "      <td>241.558209</td>\n",
       "      <td>2021</td>\n",
       "      <td>1</td>\n",
       "      <td>1</td>\n",
       "      <td>4</td>\n",
       "      <td>1</td>\n",
       "    </tr>\n",
       "    <tr>\n",
       "      <th>1</th>\n",
       "      <td>5656</td>\n",
       "      <td>9330.0</td>\n",
       "      <td>202.914324</td>\n",
       "      <td>2.885721</td>\n",
       "      <td>36.077402</td>\n",
       "      <td>243.613262</td>\n",
       "      <td>2021</td>\n",
       "      <td>1</td>\n",
       "      <td>1</td>\n",
       "      <td>4</td>\n",
       "      <td>1</td>\n",
       "    </tr>\n",
       "    <tr>\n",
       "      <th>2</th>\n",
       "      <td>5658</td>\n",
       "      <td>1539.0</td>\n",
       "      <td>203.860565</td>\n",
       "      <td>2.900199</td>\n",
       "      <td>35.915225</td>\n",
       "      <td>240.125790</td>\n",
       "      <td>2021</td>\n",
       "      <td>1</td>\n",
       "      <td>1</td>\n",
       "      <td>4</td>\n",
       "      <td>1</td>\n",
       "    </tr>\n",
       "    <tr>\n",
       "      <th>3</th>\n",
       "      <td>5612</td>\n",
       "      <td>5478.0</td>\n",
       "      <td>203.603766</td>\n",
       "      <td>2.890154</td>\n",
       "      <td>35.685987</td>\n",
       "      <td>240.507430</td>\n",
       "      <td>2021</td>\n",
       "      <td>1</td>\n",
       "      <td>1</td>\n",
       "      <td>4</td>\n",
       "      <td>1</td>\n",
       "    </tr>\n",
       "    <tr>\n",
       "      <th>4</th>\n",
       "      <td>5625</td>\n",
       "      <td>3793.0</td>\n",
       "      <td>204.119216</td>\n",
       "      <td>2.896506</td>\n",
       "      <td>35.493932</td>\n",
       "      <td>238.454701</td>\n",
       "      <td>2021</td>\n",
       "      <td>1</td>\n",
       "      <td>1</td>\n",
       "      <td>4</td>\n",
       "      <td>1</td>\n",
       "    </tr>\n",
       "  </tbody>\n",
       "</table>\n",
       "</div>"
      ],
      "text/plain": [
       "    PC4  people_number          wd        ws       ssrd         blh  year  \\\n",
       "0  5611         6671.0  203.334312  2.886824  35.783607  241.558209  2021   \n",
       "1  5656         9330.0  202.914324  2.885721  36.077402  243.613262  2021   \n",
       "2  5658         1539.0  203.860565  2.900199  35.915225  240.125790  2021   \n",
       "3  5612         5478.0  203.603766  2.890154  35.685987  240.507430  2021   \n",
       "4  5625         3793.0  204.119216  2.896506  35.493932  238.454701  2021   \n",
       "\n",
       "   month  day  day_of_week  day_of_year  \n",
       "0      1    1            4            1  \n",
       "1      1    1            4            1  \n",
       "2      1    1            4            1  \n",
       "3      1    1            4            1  \n",
       "4      1    1            4            1  "
      ]
     },
     "execution_count": 83,
     "metadata": {},
     "output_type": "execute_result"
    }
   ],
   "source": [
    "X_train.head()"
   ]
  },
  {
   "cell_type": "markdown",
   "id": "865187ce",
   "metadata": {},
   "source": [
    "<h4><font color=mediumvioletred>Model with RandomForestRegressor </font></h4>"
   ]
  },
  {
   "cell_type": "code",
   "execution_count": 84,
   "id": "eff090b3",
   "metadata": {},
   "outputs": [
    {
     "data": {
      "text/plain": [
       "RandomForestRegressor(n_jobs=-1, random_state=42)"
      ]
     },
     "execution_count": 84,
     "metadata": {},
     "output_type": "execute_result"
    }
   ],
   "source": [
    "rf_model = RandomForestRegressor(n_jobs=-1,\n",
    "                             random_state=42)\n",
    "\n",
    "# fit the model\n",
    "rf_model.fit(X_train, y_train)"
   ]
  },
  {
   "cell_type": "code",
   "execution_count": 85,
   "id": "509f4251",
   "metadata": {},
   "outputs": [
    {
     "data": {
      "text/plain": [
       "{'Training MAE': 0.036345250667748595, 'Testing MAE': 4.602450789580376}"
      ]
     },
     "execution_count": 85,
     "metadata": {},
     "output_type": "execute_result"
    }
   ],
   "source": [
    "# score model\n",
    "show_scores(rf_model)"
   ]
  },
  {
   "cell_type": "code",
   "execution_count": 86,
   "id": "3b3d260d",
   "metadata": {},
   "outputs": [
    {
     "data": {
      "text/html": [
       "<div>\n",
       "<style scoped>\n",
       "    .dataframe tbody tr th:only-of-type {\n",
       "        vertical-align: middle;\n",
       "    }\n",
       "\n",
       "    .dataframe tbody tr th {\n",
       "        vertical-align: top;\n",
       "    }\n",
       "\n",
       "    .dataframe thead th {\n",
       "        text-align: right;\n",
       "    }\n",
       "</style>\n",
       "<table border=\"1\" class=\"dataframe\">\n",
       "  <thead>\n",
       "    <tr style=\"text-align: right;\">\n",
       "      <th></th>\n",
       "      <th>actual values</th>\n",
       "      <th>predicted values</th>\n",
       "      <th>differences</th>\n",
       "    </tr>\n",
       "  </thead>\n",
       "  <tbody>\n",
       "    <tr>\n",
       "      <th>9952</th>\n",
       "      <td>28.459488</td>\n",
       "      <td>7.824755</td>\n",
       "      <td>20.634733</td>\n",
       "    </tr>\n",
       "    <tr>\n",
       "      <th>9931</th>\n",
       "      <td>28.534494</td>\n",
       "      <td>7.803945</td>\n",
       "      <td>20.730550</td>\n",
       "    </tr>\n",
       "    <tr>\n",
       "      <th>9953</th>\n",
       "      <td>28.534494</td>\n",
       "      <td>7.803385</td>\n",
       "      <td>20.731109</td>\n",
       "    </tr>\n",
       "    <tr>\n",
       "      <th>9932</th>\n",
       "      <td>28.534494</td>\n",
       "      <td>7.800248</td>\n",
       "      <td>20.734246</td>\n",
       "    </tr>\n",
       "    <tr>\n",
       "      <th>9951</th>\n",
       "      <td>28.534494</td>\n",
       "      <td>7.794669</td>\n",
       "      <td>20.739826</td>\n",
       "    </tr>\n",
       "    <tr>\n",
       "      <th>9943</th>\n",
       "      <td>28.637873</td>\n",
       "      <td>7.820064</td>\n",
       "      <td>20.817808</td>\n",
       "    </tr>\n",
       "    <tr>\n",
       "      <th>9948</th>\n",
       "      <td>28.637873</td>\n",
       "      <td>7.812657</td>\n",
       "      <td>20.825216</td>\n",
       "    </tr>\n",
       "    <tr>\n",
       "      <th>9945</th>\n",
       "      <td>28.637873</td>\n",
       "      <td>7.809103</td>\n",
       "      <td>20.828770</td>\n",
       "    </tr>\n",
       "    <tr>\n",
       "      <th>9937</th>\n",
       "      <td>28.637873</td>\n",
       "      <td>7.802273</td>\n",
       "      <td>20.835599</td>\n",
       "    </tr>\n",
       "    <tr>\n",
       "      <th>9957</th>\n",
       "      <td>28.637873</td>\n",
       "      <td>7.801922</td>\n",
       "      <td>20.835950</td>\n",
       "    </tr>\n",
       "  </tbody>\n",
       "</table>\n",
       "</div>"
      ],
      "text/plain": [
       "      actual values  predicted values  differences\n",
       "9952      28.459488          7.824755    20.634733\n",
       "9931      28.534494          7.803945    20.730550\n",
       "9953      28.534494          7.803385    20.731109\n",
       "9932      28.534494          7.800248    20.734246\n",
       "9951      28.534494          7.794669    20.739826\n",
       "9943      28.637873          7.820064    20.817808\n",
       "9948      28.637873          7.812657    20.825216\n",
       "9945      28.637873          7.809103    20.828770\n",
       "9937      28.637873          7.802273    20.835599\n",
       "9957      28.637873          7.801922    20.835950"
      ]
     },
     "execution_count": 86,
     "metadata": {},
     "output_type": "execute_result"
    }
   ],
   "source": [
    "# create dataframe containing actual values, predictions and the differences between them\n",
    "df_scores = get_scores_dataframe(rf_model)\n",
    "df_scores.sort_values(by=\"differences\").tail(10)"
   ]
  },
  {
   "cell_type": "markdown",
   "id": "a376e207",
   "metadata": {},
   "source": [
    "<h4><font color=mediumvioletred>Model with SGDClassifier </font></h4>"
   ]
  },
  {
   "cell_type": "code",
   "execution_count": 87,
   "id": "2513674c",
   "metadata": {},
   "outputs": [
    {
     "data": {
      "text/plain": [
       "SGDClassifier(n_jobs=-1, random_state=42)"
      ]
     },
     "execution_count": 87,
     "metadata": {},
     "output_type": "execute_result"
    }
   ],
   "source": [
    "sgd_model = SGDClassifier(n_jobs=-1,\n",
    "                        random_state=42)\n",
    "\n",
    "# fit the model\n",
    "sgd_model.fit(X_train, y_train.astype(int))"
   ]
  },
  {
   "cell_type": "code",
   "execution_count": 88,
   "id": "fd5a821d",
   "metadata": {},
   "outputs": [
    {
     "data": {
      "text/plain": [
       "{'Training MAE': 4.956007655065589, 'Testing MAE': 7.881990682996173}"
      ]
     },
     "execution_count": 88,
     "metadata": {},
     "output_type": "execute_result"
    }
   ],
   "source": [
    "# score model\n",
    "show_scores(sgd_model)"
   ]
  },
  {
   "cell_type": "code",
   "execution_count": 89,
   "id": "9459c230",
   "metadata": {},
   "outputs": [
    {
     "data": {
      "text/html": [
       "<div>\n",
       "<style scoped>\n",
       "    .dataframe tbody tr th:only-of-type {\n",
       "        vertical-align: middle;\n",
       "    }\n",
       "\n",
       "    .dataframe tbody tr th {\n",
       "        vertical-align: top;\n",
       "    }\n",
       "\n",
       "    .dataframe thead th {\n",
       "        text-align: right;\n",
       "    }\n",
       "</style>\n",
       "<table border=\"1\" class=\"dataframe\">\n",
       "  <thead>\n",
       "    <tr style=\"text-align: right;\">\n",
       "      <th></th>\n",
       "      <th>actual values</th>\n",
       "      <th>predicted values</th>\n",
       "      <th>differences</th>\n",
       "    </tr>\n",
       "  </thead>\n",
       "  <tbody>\n",
       "    <tr>\n",
       "      <th>8924</th>\n",
       "      <td>29.598045</td>\n",
       "      <td>2</td>\n",
       "      <td>27.598045</td>\n",
       "    </tr>\n",
       "    <tr>\n",
       "      <th>8935</th>\n",
       "      <td>29.598045</td>\n",
       "      <td>2</td>\n",
       "      <td>27.598045</td>\n",
       "    </tr>\n",
       "    <tr>\n",
       "      <th>8922</th>\n",
       "      <td>29.627718</td>\n",
       "      <td>2</td>\n",
       "      <td>27.627718</td>\n",
       "    </tr>\n",
       "    <tr>\n",
       "      <th>8931</th>\n",
       "      <td>29.627718</td>\n",
       "      <td>2</td>\n",
       "      <td>27.627718</td>\n",
       "    </tr>\n",
       "    <tr>\n",
       "      <th>8921</th>\n",
       "      <td>29.627718</td>\n",
       "      <td>2</td>\n",
       "      <td>27.627718</td>\n",
       "    </tr>\n",
       "    <tr>\n",
       "      <th>8928</th>\n",
       "      <td>29.714216</td>\n",
       "      <td>2</td>\n",
       "      <td>27.714216</td>\n",
       "    </tr>\n",
       "    <tr>\n",
       "      <th>9997</th>\n",
       "      <td>29.730927</td>\n",
       "      <td>2</td>\n",
       "      <td>27.730927</td>\n",
       "    </tr>\n",
       "    <tr>\n",
       "      <th>9998</th>\n",
       "      <td>29.730927</td>\n",
       "      <td>2</td>\n",
       "      <td>27.730927</td>\n",
       "    </tr>\n",
       "    <tr>\n",
       "      <th>8919</th>\n",
       "      <td>29.997757</td>\n",
       "      <td>2</td>\n",
       "      <td>27.997757</td>\n",
       "    </tr>\n",
       "    <tr>\n",
       "      <th>8929</th>\n",
       "      <td>29.997757</td>\n",
       "      <td>2</td>\n",
       "      <td>27.997757</td>\n",
       "    </tr>\n",
       "  </tbody>\n",
       "</table>\n",
       "</div>"
      ],
      "text/plain": [
       "      actual values  predicted values  differences\n",
       "8924      29.598045                 2    27.598045\n",
       "8935      29.598045                 2    27.598045\n",
       "8922      29.627718                 2    27.627718\n",
       "8931      29.627718                 2    27.627718\n",
       "8921      29.627718                 2    27.627718\n",
       "8928      29.714216                 2    27.714216\n",
       "9997      29.730927                 2    27.730927\n",
       "9998      29.730927                 2    27.730927\n",
       "8919      29.997757                 2    27.997757\n",
       "8929      29.997757                 2    27.997757"
      ]
     },
     "execution_count": 89,
     "metadata": {},
     "output_type": "execute_result"
    }
   ],
   "source": [
    "# create dataframe containing actual values, predictions and the differences between them\n",
    "df_scores = get_scores_dataframe(sgd_model)\n",
    "df_scores.sort_values(by=\"differences\").tail(10)"
   ]
  },
  {
   "cell_type": "markdown",
   "id": "e6e56dca",
   "metadata": {},
   "source": [
    "<h4><font color=mediumvioletred>Model with BayesianRidge </font></h4>"
   ]
  },
  {
   "cell_type": "code",
   "execution_count": 90,
   "id": "3127e3af",
   "metadata": {},
   "outputs": [
    {
     "data": {
      "text/plain": [
       "BayesianRidge()"
      ]
     },
     "execution_count": 90,
     "metadata": {},
     "output_type": "execute_result"
    }
   ],
   "source": [
    "br_model = BayesianRidge()\n",
    "\n",
    "# fit the model\n",
    "br_model.fit(X_train, y_train)"
   ]
  },
  {
   "cell_type": "code",
   "execution_count": 91,
   "id": "a3e10c18",
   "metadata": {},
   "outputs": [
    {
     "data": {
      "text/plain": [
       "{'Training MAE': 3.5624019328254053, 'Testing MAE': 9.67447984820144}"
      ]
     },
     "execution_count": 91,
     "metadata": {},
     "output_type": "execute_result"
    }
   ],
   "source": [
    "# score model\n",
    "show_scores(br_model)"
   ]
  },
  {
   "cell_type": "code",
   "execution_count": 92,
   "id": "9c645a33",
   "metadata": {},
   "outputs": [
    {
     "data": {
      "text/html": [
       "<div>\n",
       "<style scoped>\n",
       "    .dataframe tbody tr th:only-of-type {\n",
       "        vertical-align: middle;\n",
       "    }\n",
       "\n",
       "    .dataframe tbody tr th {\n",
       "        vertical-align: top;\n",
       "    }\n",
       "\n",
       "    .dataframe thead th {\n",
       "        text-align: right;\n",
       "    }\n",
       "</style>\n",
       "<table border=\"1\" class=\"dataframe\">\n",
       "  <thead>\n",
       "    <tr style=\"text-align: right;\">\n",
       "      <th></th>\n",
       "      <th>actual values</th>\n",
       "      <th>predicted values</th>\n",
       "      <th>differences</th>\n",
       "    </tr>\n",
       "  </thead>\n",
       "  <tbody>\n",
       "    <tr>\n",
       "      <th>10015</th>\n",
       "      <td>26.966311</td>\n",
       "      <td>-0.745355</td>\n",
       "      <td>27.711666</td>\n",
       "    </tr>\n",
       "    <tr>\n",
       "      <th>10030</th>\n",
       "      <td>26.966311</td>\n",
       "      <td>-0.751245</td>\n",
       "      <td>27.717556</td>\n",
       "    </tr>\n",
       "    <tr>\n",
       "      <th>9995</th>\n",
       "      <td>28.878929</td>\n",
       "      <td>-3.787905</td>\n",
       "      <td>32.666834</td>\n",
       "    </tr>\n",
       "    <tr>\n",
       "      <th>9992</th>\n",
       "      <td>29.126659</td>\n",
       "      <td>-3.731385</td>\n",
       "      <td>32.858044</td>\n",
       "    </tr>\n",
       "    <tr>\n",
       "      <th>9999</th>\n",
       "      <td>29.462456</td>\n",
       "      <td>-3.766769</td>\n",
       "      <td>33.229225</td>\n",
       "    </tr>\n",
       "    <tr>\n",
       "      <th>9993</th>\n",
       "      <td>29.462456</td>\n",
       "      <td>-3.777012</td>\n",
       "      <td>33.239468</td>\n",
       "    </tr>\n",
       "    <tr>\n",
       "      <th>9996</th>\n",
       "      <td>29.462456</td>\n",
       "      <td>-3.792915</td>\n",
       "      <td>33.255370</td>\n",
       "    </tr>\n",
       "    <tr>\n",
       "      <th>9994</th>\n",
       "      <td>29.462456</td>\n",
       "      <td>-3.793952</td>\n",
       "      <td>33.256408</td>\n",
       "    </tr>\n",
       "    <tr>\n",
       "      <th>9997</th>\n",
       "      <td>29.730927</td>\n",
       "      <td>-3.744187</td>\n",
       "      <td>33.475114</td>\n",
       "    </tr>\n",
       "    <tr>\n",
       "      <th>9998</th>\n",
       "      <td>29.730927</td>\n",
       "      <td>-3.775427</td>\n",
       "      <td>33.506354</td>\n",
       "    </tr>\n",
       "  </tbody>\n",
       "</table>\n",
       "</div>"
      ],
      "text/plain": [
       "       actual values  predicted values  differences\n",
       "10015      26.966311         -0.745355    27.711666\n",
       "10030      26.966311         -0.751245    27.717556\n",
       "9995       28.878929         -3.787905    32.666834\n",
       "9992       29.126659         -3.731385    32.858044\n",
       "9999       29.462456         -3.766769    33.229225\n",
       "9993       29.462456         -3.777012    33.239468\n",
       "9996       29.462456         -3.792915    33.255370\n",
       "9994       29.462456         -3.793952    33.256408\n",
       "9997       29.730927         -3.744187    33.475114\n",
       "9998       29.730927         -3.775427    33.506354"
      ]
     },
     "execution_count": 92,
     "metadata": {},
     "output_type": "execute_result"
    }
   ],
   "source": [
    "# create dataframe containing actual values, predictions and the differences between them\n",
    "df_scores = get_scores_dataframe(br_model)\n",
    "df_scores.sort_values(by=\"differences\").tail(10)"
   ]
  },
  {
   "cell_type": "markdown",
   "id": "b9a8d4e5",
   "metadata": {},
   "source": [
    "<h4><font color=mediumvioletred>Model with Lasso </font></h4>"
   ]
  },
  {
   "cell_type": "code",
   "execution_count": 93,
   "id": "89315bc9",
   "metadata": {},
   "outputs": [
    {
     "data": {
      "text/plain": [
       "LassoLars(alpha=0.1, normalize=False, random_state=42)"
      ]
     },
     "execution_count": 93,
     "metadata": {},
     "output_type": "execute_result"
    }
   ],
   "source": [
    "lasso_model = LassoLars(alpha=.1, \n",
    "                  normalize=False,\n",
    "                  random_state=42)\n",
    "\n",
    "# fit the model\n",
    "lasso_model.fit(X_train, y_train)"
   ]
  },
  {
   "cell_type": "code",
   "execution_count": 94,
   "id": "cf61038f",
   "metadata": {},
   "outputs": [
    {
     "data": {
      "text/plain": [
       "{'Training MAE': 3.6468056626141974, 'Testing MAE': 7.366696471979622}"
      ]
     },
     "execution_count": 94,
     "metadata": {},
     "output_type": "execute_result"
    }
   ],
   "source": [
    "# score model\n",
    "show_scores(lasso_model)"
   ]
  },
  {
   "cell_type": "code",
   "execution_count": 95,
   "id": "3fea68e6",
   "metadata": {},
   "outputs": [
    {
     "data": {
      "text/html": [
       "<div>\n",
       "<style scoped>\n",
       "    .dataframe tbody tr th:only-of-type {\n",
       "        vertical-align: middle;\n",
       "    }\n",
       "\n",
       "    .dataframe tbody tr th {\n",
       "        vertical-align: top;\n",
       "    }\n",
       "\n",
       "    .dataframe thead th {\n",
       "        text-align: right;\n",
       "    }\n",
       "</style>\n",
       "<table border=\"1\" class=\"dataframe\">\n",
       "  <thead>\n",
       "    <tr style=\"text-align: right;\">\n",
       "      <th></th>\n",
       "      <th>actual values</th>\n",
       "      <th>predicted values</th>\n",
       "      <th>differences</th>\n",
       "    </tr>\n",
       "  </thead>\n",
       "  <tbody>\n",
       "    <tr>\n",
       "      <th>8929</th>\n",
       "      <td>29.997757</td>\n",
       "      <td>5.364898</td>\n",
       "      <td>24.632859</td>\n",
       "    </tr>\n",
       "    <tr>\n",
       "      <th>8926</th>\n",
       "      <td>29.997757</td>\n",
       "      <td>5.306986</td>\n",
       "      <td>24.690771</td>\n",
       "    </tr>\n",
       "    <tr>\n",
       "      <th>9995</th>\n",
       "      <td>28.878929</td>\n",
       "      <td>0.206866</td>\n",
       "      <td>28.672063</td>\n",
       "    </tr>\n",
       "    <tr>\n",
       "      <th>9992</th>\n",
       "      <td>29.126659</td>\n",
       "      <td>0.285386</td>\n",
       "      <td>28.841273</td>\n",
       "    </tr>\n",
       "    <tr>\n",
       "      <th>9999</th>\n",
       "      <td>29.462456</td>\n",
       "      <td>0.215571</td>\n",
       "      <td>29.246885</td>\n",
       "    </tr>\n",
       "    <tr>\n",
       "      <th>9993</th>\n",
       "      <td>29.462456</td>\n",
       "      <td>0.211029</td>\n",
       "      <td>29.251427</td>\n",
       "    </tr>\n",
       "    <tr>\n",
       "      <th>9994</th>\n",
       "      <td>29.462456</td>\n",
       "      <td>0.207125</td>\n",
       "      <td>29.255331</td>\n",
       "    </tr>\n",
       "    <tr>\n",
       "      <th>9996</th>\n",
       "      <td>29.462456</td>\n",
       "      <td>0.202420</td>\n",
       "      <td>29.260036</td>\n",
       "    </tr>\n",
       "    <tr>\n",
       "      <th>9997</th>\n",
       "      <td>29.730927</td>\n",
       "      <td>0.273857</td>\n",
       "      <td>29.457070</td>\n",
       "    </tr>\n",
       "    <tr>\n",
       "      <th>9998</th>\n",
       "      <td>29.730927</td>\n",
       "      <td>0.236143</td>\n",
       "      <td>29.494783</td>\n",
       "    </tr>\n",
       "  </tbody>\n",
       "</table>\n",
       "</div>"
      ],
      "text/plain": [
       "      actual values  predicted values  differences\n",
       "8929      29.997757          5.364898    24.632859\n",
       "8926      29.997757          5.306986    24.690771\n",
       "9995      28.878929          0.206866    28.672063\n",
       "9992      29.126659          0.285386    28.841273\n",
       "9999      29.462456          0.215571    29.246885\n",
       "9993      29.462456          0.211029    29.251427\n",
       "9994      29.462456          0.207125    29.255331\n",
       "9996      29.462456          0.202420    29.260036\n",
       "9997      29.730927          0.273857    29.457070\n",
       "9998      29.730927          0.236143    29.494783"
      ]
     },
     "execution_count": 95,
     "metadata": {},
     "output_type": "execute_result"
    }
   ],
   "source": [
    "# create dataframe containing actual values, predictions and the differences between them\n",
    "df_scores = get_scores_dataframe(lasso_model)\n",
    "df_scores.sort_values(by=\"differences\").tail(10)"
   ]
  },
  {
   "cell_type": "markdown",
   "id": "d1a7b271",
   "metadata": {},
   "source": [
    "<h4><font color=mediumvioletred>Model with ElasticNet </font></h4>"
   ]
  },
  {
   "cell_type": "code",
   "execution_count": 96,
   "id": "aa300f02",
   "metadata": {},
   "outputs": [
    {
     "data": {
      "text/plain": [
       "ElasticNet(random_state=42)"
      ]
     },
     "execution_count": 96,
     "metadata": {},
     "output_type": "execute_result"
    }
   ],
   "source": [
    "en_model = ElasticNet(random_state=42)\n",
    "\n",
    "# fit the model\n",
    "en_model.fit(X_train, y_train)"
   ]
  },
  {
   "cell_type": "code",
   "execution_count": 97,
   "id": "9ce12485",
   "metadata": {},
   "outputs": [
    {
     "data": {
      "text/plain": [
       "{'Training MAE': 3.637414509360973, 'Testing MAE': 7.233717244606149}"
      ]
     },
     "execution_count": 97,
     "metadata": {},
     "output_type": "execute_result"
    }
   ],
   "source": [
    "# score model\n",
    "show_scores(en_model)"
   ]
  },
  {
   "cell_type": "code",
   "execution_count": 98,
   "id": "a133bd84",
   "metadata": {},
   "outputs": [
    {
     "data": {
      "text/html": [
       "<div>\n",
       "<style scoped>\n",
       "    .dataframe tbody tr th:only-of-type {\n",
       "        vertical-align: middle;\n",
       "    }\n",
       "\n",
       "    .dataframe tbody tr th {\n",
       "        vertical-align: top;\n",
       "    }\n",
       "\n",
       "    .dataframe thead th {\n",
       "        text-align: right;\n",
       "    }\n",
       "</style>\n",
       "<table border=\"1\" class=\"dataframe\">\n",
       "  <thead>\n",
       "    <tr style=\"text-align: right;\">\n",
       "      <th></th>\n",
       "      <th>actual values</th>\n",
       "      <th>predicted values</th>\n",
       "      <th>differences</th>\n",
       "    </tr>\n",
       "  </thead>\n",
       "  <tbody>\n",
       "    <tr>\n",
       "      <th>8929</th>\n",
       "      <td>29.997757</td>\n",
       "      <td>5.772464</td>\n",
       "      <td>24.225293</td>\n",
       "    </tr>\n",
       "    <tr>\n",
       "      <th>8926</th>\n",
       "      <td>29.997757</td>\n",
       "      <td>5.672706</td>\n",
       "      <td>24.325051</td>\n",
       "    </tr>\n",
       "    <tr>\n",
       "      <th>9995</th>\n",
       "      <td>28.878929</td>\n",
       "      <td>0.674695</td>\n",
       "      <td>28.204234</td>\n",
       "    </tr>\n",
       "    <tr>\n",
       "      <th>9992</th>\n",
       "      <td>29.126659</td>\n",
       "      <td>0.787856</td>\n",
       "      <td>28.338803</td>\n",
       "    </tr>\n",
       "    <tr>\n",
       "      <th>9994</th>\n",
       "      <td>29.462456</td>\n",
       "      <td>0.679774</td>\n",
       "      <td>28.782681</td>\n",
       "    </tr>\n",
       "    <tr>\n",
       "      <th>9999</th>\n",
       "      <td>29.462456</td>\n",
       "      <td>0.678030</td>\n",
       "      <td>28.784425</td>\n",
       "    </tr>\n",
       "    <tr>\n",
       "      <th>9993</th>\n",
       "      <td>29.462456</td>\n",
       "      <td>0.675299</td>\n",
       "      <td>28.787156</td>\n",
       "    </tr>\n",
       "    <tr>\n",
       "      <th>9996</th>\n",
       "      <td>29.462456</td>\n",
       "      <td>0.670176</td>\n",
       "      <td>28.792280</td>\n",
       "    </tr>\n",
       "    <tr>\n",
       "      <th>9997</th>\n",
       "      <td>29.730927</td>\n",
       "      <td>0.772970</td>\n",
       "      <td>28.957956</td>\n",
       "    </tr>\n",
       "    <tr>\n",
       "      <th>9998</th>\n",
       "      <td>29.730927</td>\n",
       "      <td>0.717919</td>\n",
       "      <td>29.013007</td>\n",
       "    </tr>\n",
       "  </tbody>\n",
       "</table>\n",
       "</div>"
      ],
      "text/plain": [
       "      actual values  predicted values  differences\n",
       "8929      29.997757          5.772464    24.225293\n",
       "8926      29.997757          5.672706    24.325051\n",
       "9995      28.878929          0.674695    28.204234\n",
       "9992      29.126659          0.787856    28.338803\n",
       "9994      29.462456          0.679774    28.782681\n",
       "9999      29.462456          0.678030    28.784425\n",
       "9993      29.462456          0.675299    28.787156\n",
       "9996      29.462456          0.670176    28.792280\n",
       "9997      29.730927          0.772970    28.957956\n",
       "9998      29.730927          0.717919    29.013007"
      ]
     },
     "execution_count": 98,
     "metadata": {},
     "output_type": "execute_result"
    }
   ],
   "source": [
    "# create dataframe containing actual values, predictions and the differences between them\n",
    "df_scores = get_scores_dataframe(en_model)\n",
    "df_scores.sort_values(by=\"differences\").tail(10)"
   ]
  },
  {
   "cell_type": "markdown",
   "id": "6837b6ff",
   "metadata": {},
   "source": [
    "<h4><font color=mediumvioletred>Model with SVR </font></h4>"
   ]
  },
  {
   "cell_type": "code",
   "execution_count": 99,
   "id": "907c19a5",
   "metadata": {},
   "outputs": [
    {
     "data": {
      "text/plain": [
       "SVR()"
      ]
     },
     "execution_count": 99,
     "metadata": {},
     "output_type": "execute_result"
    }
   ],
   "source": [
    "svr_model = SVR()\n",
    "\n",
    "# fit the model\n",
    "svr_model.fit(X_train, y_train)"
   ]
  },
  {
   "cell_type": "code",
   "execution_count": 100,
   "id": "692f1cc9",
   "metadata": {},
   "outputs": [
    {
     "data": {
      "text/plain": [
       "{'Training MAE': 4.241681671662025, 'Testing MAE': 4.532047065567538}"
      ]
     },
     "execution_count": 100,
     "metadata": {},
     "output_type": "execute_result"
    }
   ],
   "source": [
    "# score model\n",
    "show_scores(svr_model)"
   ]
  },
  {
   "cell_type": "code",
   "execution_count": 101,
   "id": "976ce02e",
   "metadata": {},
   "outputs": [
    {
     "data": {
      "text/html": [
       "<div>\n",
       "<style scoped>\n",
       "    .dataframe tbody tr th:only-of-type {\n",
       "        vertical-align: middle;\n",
       "    }\n",
       "\n",
       "    .dataframe tbody tr th {\n",
       "        vertical-align: top;\n",
       "    }\n",
       "\n",
       "    .dataframe thead th {\n",
       "        text-align: right;\n",
       "    }\n",
       "</style>\n",
       "<table border=\"1\" class=\"dataframe\">\n",
       "  <thead>\n",
       "    <tr style=\"text-align: right;\">\n",
       "      <th></th>\n",
       "      <th>actual values</th>\n",
       "      <th>predicted values</th>\n",
       "      <th>differences</th>\n",
       "    </tr>\n",
       "  </thead>\n",
       "  <tbody>\n",
       "    <tr>\n",
       "      <th>8931</th>\n",
       "      <td>29.627718</td>\n",
       "      <td>9.264262</td>\n",
       "      <td>20.363456</td>\n",
       "    </tr>\n",
       "    <tr>\n",
       "      <th>8913</th>\n",
       "      <td>27.467463</td>\n",
       "      <td>7.004655</td>\n",
       "      <td>20.462808</td>\n",
       "    </tr>\n",
       "    <tr>\n",
       "      <th>8914</th>\n",
       "      <td>28.354483</td>\n",
       "      <td>7.604754</td>\n",
       "      <td>20.749728</td>\n",
       "    </tr>\n",
       "    <tr>\n",
       "      <th>9998</th>\n",
       "      <td>29.730927</td>\n",
       "      <td>8.784794</td>\n",
       "      <td>20.946132</td>\n",
       "    </tr>\n",
       "    <tr>\n",
       "      <th>8934</th>\n",
       "      <td>28.354483</td>\n",
       "      <td>7.261392</td>\n",
       "      <td>21.093090</td>\n",
       "    </tr>\n",
       "    <tr>\n",
       "      <th>9992</th>\n",
       "      <td>29.126659</td>\n",
       "      <td>7.371027</td>\n",
       "      <td>21.755633</td>\n",
       "    </tr>\n",
       "    <tr>\n",
       "      <th>8919</th>\n",
       "      <td>29.997757</td>\n",
       "      <td>8.103498</td>\n",
       "      <td>21.894259</td>\n",
       "    </tr>\n",
       "    <tr>\n",
       "      <th>9997</th>\n",
       "      <td>29.730927</td>\n",
       "      <td>7.694264</td>\n",
       "      <td>22.036662</td>\n",
       "    </tr>\n",
       "    <tr>\n",
       "      <th>8929</th>\n",
       "      <td>29.997757</td>\n",
       "      <td>7.785076</td>\n",
       "      <td>22.212681</td>\n",
       "    </tr>\n",
       "    <tr>\n",
       "      <th>8928</th>\n",
       "      <td>29.714216</td>\n",
       "      <td>7.464943</td>\n",
       "      <td>22.249273</td>\n",
       "    </tr>\n",
       "  </tbody>\n",
       "</table>\n",
       "</div>"
      ],
      "text/plain": [
       "      actual values  predicted values  differences\n",
       "8931      29.627718          9.264262    20.363456\n",
       "8913      27.467463          7.004655    20.462808\n",
       "8914      28.354483          7.604754    20.749728\n",
       "9998      29.730927          8.784794    20.946132\n",
       "8934      28.354483          7.261392    21.093090\n",
       "9992      29.126659          7.371027    21.755633\n",
       "8919      29.997757          8.103498    21.894259\n",
       "9997      29.730927          7.694264    22.036662\n",
       "8929      29.997757          7.785076    22.212681\n",
       "8928      29.714216          7.464943    22.249273"
      ]
     },
     "execution_count": 101,
     "metadata": {},
     "output_type": "execute_result"
    }
   ],
   "source": [
    "# create dataframe containing actual values, predictions and the differences between them\n",
    "df_scores = get_scores_dataframe(svr_model)\n",
    "df_scores.sort_values(by=\"differences\").tail(10)"
   ]
  },
  {
   "cell_type": "markdown",
   "id": "79954db9",
   "metadata": {},
   "source": [
    "<h4><font color=mediumvioletred>Model with GradientBoostingRegressor </font></h4>"
   ]
  },
  {
   "cell_type": "code",
   "execution_count": 102,
   "id": "726781ad",
   "metadata": {},
   "outputs": [
    {
     "data": {
      "text/plain": [
       "GradientBoostingRegressor(max_depth=1, random_state=42)"
      ]
     },
     "execution_count": 102,
     "metadata": {},
     "output_type": "execute_result"
    }
   ],
   "source": [
    "gbr_model = GradientBoostingRegressor(n_estimators=100, \n",
    "                                  learning_rate=0.1, \n",
    "                                  max_depth=1,\n",
    "                                  random_state=42)\n",
    "\n",
    "# fit the model\n",
    "gbr_model.fit(X_train, y_train)"
   ]
  },
  {
   "cell_type": "code",
   "execution_count": 103,
   "id": "0d2fba15",
   "metadata": {},
   "outputs": [
    {
     "data": {
      "text/plain": [
       "{'Training MAE': 2.9103424151199606, 'Testing MAE': 4.316716867263234}"
      ]
     },
     "execution_count": 103,
     "metadata": {},
     "output_type": "execute_result"
    }
   ],
   "source": [
    "# score model\n",
    "show_scores(gbr_model)"
   ]
  },
  {
   "cell_type": "code",
   "execution_count": 104,
   "id": "47dbde87",
   "metadata": {},
   "outputs": [
    {
     "data": {
      "text/html": [
       "<div>\n",
       "<style scoped>\n",
       "    .dataframe tbody tr th:only-of-type {\n",
       "        vertical-align: middle;\n",
       "    }\n",
       "\n",
       "    .dataframe tbody tr th {\n",
       "        vertical-align: top;\n",
       "    }\n",
       "\n",
       "    .dataframe thead th {\n",
       "        text-align: right;\n",
       "    }\n",
       "</style>\n",
       "<table border=\"1\" class=\"dataframe\">\n",
       "  <thead>\n",
       "    <tr style=\"text-align: right;\">\n",
       "      <th></th>\n",
       "      <th>actual values</th>\n",
       "      <th>predicted values</th>\n",
       "      <th>differences</th>\n",
       "    </tr>\n",
       "  </thead>\n",
       "  <tbody>\n",
       "    <tr>\n",
       "      <th>8917</th>\n",
       "      <td>29.714216</td>\n",
       "      <td>11.029181</td>\n",
       "      <td>18.685036</td>\n",
       "    </tr>\n",
       "    <tr>\n",
       "      <th>9999</th>\n",
       "      <td>29.462456</td>\n",
       "      <td>10.580951</td>\n",
       "      <td>18.881505</td>\n",
       "    </tr>\n",
       "    <tr>\n",
       "      <th>9994</th>\n",
       "      <td>29.462456</td>\n",
       "      <td>10.580951</td>\n",
       "      <td>18.881505</td>\n",
       "    </tr>\n",
       "    <tr>\n",
       "      <th>9993</th>\n",
       "      <td>29.462456</td>\n",
       "      <td>10.580951</td>\n",
       "      <td>18.881505</td>\n",
       "    </tr>\n",
       "    <tr>\n",
       "      <th>9996</th>\n",
       "      <td>29.462456</td>\n",
       "      <td>10.580951</td>\n",
       "      <td>18.881505</td>\n",
       "    </tr>\n",
       "    <tr>\n",
       "      <th>8929</th>\n",
       "      <td>29.997757</td>\n",
       "      <td>11.029181</td>\n",
       "      <td>18.968576</td>\n",
       "    </tr>\n",
       "    <tr>\n",
       "      <th>8926</th>\n",
       "      <td>29.997757</td>\n",
       "      <td>11.029181</td>\n",
       "      <td>18.968576</td>\n",
       "    </tr>\n",
       "    <tr>\n",
       "      <th>8919</th>\n",
       "      <td>29.997757</td>\n",
       "      <td>11.029181</td>\n",
       "      <td>18.968576</td>\n",
       "    </tr>\n",
       "    <tr>\n",
       "      <th>9998</th>\n",
       "      <td>29.730927</td>\n",
       "      <td>10.580951</td>\n",
       "      <td>19.149976</td>\n",
       "    </tr>\n",
       "    <tr>\n",
       "      <th>9997</th>\n",
       "      <td>29.730927</td>\n",
       "      <td>10.580951</td>\n",
       "      <td>19.149976</td>\n",
       "    </tr>\n",
       "  </tbody>\n",
       "</table>\n",
       "</div>"
      ],
      "text/plain": [
       "      actual values  predicted values  differences\n",
       "8917      29.714216         11.029181    18.685036\n",
       "9999      29.462456         10.580951    18.881505\n",
       "9994      29.462456         10.580951    18.881505\n",
       "9993      29.462456         10.580951    18.881505\n",
       "9996      29.462456         10.580951    18.881505\n",
       "8929      29.997757         11.029181    18.968576\n",
       "8926      29.997757         11.029181    18.968576\n",
       "8919      29.997757         11.029181    18.968576\n",
       "9998      29.730927         10.580951    19.149976\n",
       "9997      29.730927         10.580951    19.149976"
      ]
     },
     "execution_count": 104,
     "metadata": {},
     "output_type": "execute_result"
    }
   ],
   "source": [
    "# create dataframe containing actual values, predictions and the differences between them\n",
    "df_scores = get_scores_dataframe(gbr_model)\n",
    "df_scores.sort_values(by=\"differences\").tail(10)"
   ]
  },
  {
   "cell_type": "markdown",
   "id": "a8283d13",
   "metadata": {},
   "source": [
    "<h4><font color=mediumvioletred>Conclusion </font></h4>"
   ]
  },
  {
   "cell_type": "markdown",
   "id": "df2c6de7",
   "metadata": {},
   "source": [
    "After calculating the MAE (average of the absolute differences between predictions and actual values), we found that the following models had the best predictions:\n",
    "* GradientBoostingRegressor: 4.316716867263234\n",
    "* SVR: 4.532047065567538\n",
    "* RandomForestRegressor: 4.602450789580377"
   ]
  },
  {
   "cell_type": "markdown",
   "id": "a66db92d",
   "metadata": {},
   "source": [
    "<h4><font color=mediumvioletred>Check feature importance</font></h4>\n",
    "\n",
    "Feature importance means which features affected the model the most."
   ]
  },
  {
   "cell_type": "code",
   "execution_count": 105,
   "id": "fc925229",
   "metadata": {},
   "outputs": [
    {
     "data": {
      "image/png": "[encoded data removed]",
      "text/plain": [
       "<Figure size 640x480 with 1 Axes>"
      ]
     },
     "metadata": {},
     "output_type": "display_data"
    }
   ],
   "source": [
    "plot_features(X_train.columns, gbr_model.feature_importances_)"
   ]
  },
  {
   "cell_type": "markdown",
   "id": "82b461de",
   "metadata": {},
   "source": [
    "<h4><font color=mediumvioletred>Export the best model (GradientBoostingRegressor)</font></h4>"
   ]
  },
  {
   "cell_type": "code",
   "execution_count": 106,
   "id": "279fbdf2",
   "metadata": {},
   "outputs": [],
   "source": [
    "pickle.dump(gbr_model, open(\"models/gbr_air_quality_prediction_model_removed_outliers.pkl\", \"wb\")) # wb = write binary"
   ]
  },
  {
   "cell_type": "markdown",
   "id": "a36507e9",
   "metadata": {},
   "source": [
    "<h3><font color=steelblue>Replace pm2.5 outliers with median</font></h3>"
   ]
  },
  {
   "cell_type": "markdown",
   "id": "56f35e76",
   "metadata": {},
   "source": [
    "<h4><font color=mediumvioletred>Read CSV file</font></h4>"
   ]
  },
  {
   "cell_type": "code",
   "execution_count": 107,
   "id": "40ccbc93",
   "metadata": {},
   "outputs": [
    {
     "data": {
      "text/html": [
       "<div>\n",
       "<style scoped>\n",
       "    .dataframe tbody tr th:only-of-type {\n",
       "        vertical-align: middle;\n",
       "    }\n",
       "\n",
       "    .dataframe tbody tr th {\n",
       "        vertical-align: top;\n",
       "    }\n",
       "\n",
       "    .dataframe thead th {\n",
       "        text-align: right;\n",
       "    }\n",
       "</style>\n",
       "<table border=\"1\" class=\"dataframe\">\n",
       "  <thead>\n",
       "    <tr style=\"text-align: right;\">\n",
       "      <th></th>\n",
       "      <th>PC4</th>\n",
       "      <th>people_number</th>\n",
       "      <th>pm2.5</th>\n",
       "      <th>wd</th>\n",
       "      <th>ws</th>\n",
       "      <th>ssrd</th>\n",
       "      <th>blh</th>\n",
       "      <th>year</th>\n",
       "      <th>month</th>\n",
       "      <th>day</th>\n",
       "      <th>day_of_week</th>\n",
       "      <th>day_of_year</th>\n",
       "    </tr>\n",
       "  </thead>\n",
       "  <tbody>\n",
       "    <tr>\n",
       "      <th>9319</th>\n",
       "      <td>5617</td>\n",
       "      <td>8268.0</td>\n",
       "      <td>9.087465</td>\n",
       "      <td>191.484713</td>\n",
       "      <td>1.549714</td>\n",
       "      <td>116.723276</td>\n",
       "      <td>216.917769</td>\n",
       "      <td>2021</td>\n",
       "      <td>10</td>\n",
       "      <td>10</td>\n",
       "      <td>6</td>\n",
       "      <td>283</td>\n",
       "    </tr>\n",
       "    <tr>\n",
       "      <th>9111</th>\n",
       "      <td>5651</td>\n",
       "      <td>23909.0</td>\n",
       "      <td>3.450567</td>\n",
       "      <td>259.599426</td>\n",
       "      <td>4.955632</td>\n",
       "      <td>132.400164</td>\n",
       "      <td>817.379449</td>\n",
       "      <td>2021</td>\n",
       "      <td>10</td>\n",
       "      <td>4</td>\n",
       "      <td>0</td>\n",
       "      <td>277</td>\n",
       "    </tr>\n",
       "    <tr>\n",
       "      <th>1222</th>\n",
       "      <td>5623</td>\n",
       "      <td>1231.0</td>\n",
       "      <td>9.642492</td>\n",
       "      <td>30.981145</td>\n",
       "      <td>6.951277</td>\n",
       "      <td>22.347075</td>\n",
       "      <td>619.577412</td>\n",
       "      <td>2021</td>\n",
       "      <td>2</td>\n",
       "      <td>7</td>\n",
       "      <td>6</td>\n",
       "      <td>38</td>\n",
       "    </tr>\n",
       "    <tr>\n",
       "      <th>574</th>\n",
       "      <td>5626</td>\n",
       "      <td>7032.0</td>\n",
       "      <td>16.343767</td>\n",
       "      <td>212.993941</td>\n",
       "      <td>4.999220</td>\n",
       "      <td>24.850185</td>\n",
       "      <td>622.793575</td>\n",
       "      <td>2021</td>\n",
       "      <td>1</td>\n",
       "      <td>18</td>\n",
       "      <td>0</td>\n",
       "      <td>18</td>\n",
       "    </tr>\n",
       "    <tr>\n",
       "      <th>4594</th>\n",
       "      <td>5617</td>\n",
       "      <td>5933.0</td>\n",
       "      <td>17.088066</td>\n",
       "      <td>231.428143</td>\n",
       "      <td>4.046898</td>\n",
       "      <td>186.419443</td>\n",
       "      <td>760.287015</td>\n",
       "      <td>2021</td>\n",
       "      <td>5</td>\n",
       "      <td>20</td>\n",
       "      <td>3</td>\n",
       "      <td>140</td>\n",
       "    </tr>\n",
       "  </tbody>\n",
       "</table>\n",
       "</div>"
      ],
      "text/plain": [
       "       PC4  people_number      pm2.5          wd        ws        ssrd  \\\n",
       "9319  5617         8268.0   9.087465  191.484713  1.549714  116.723276   \n",
       "9111  5651        23909.0   3.450567  259.599426  4.955632  132.400164   \n",
       "1222  5623         1231.0   9.642492   30.981145  6.951277   22.347075   \n",
       "574   5626         7032.0  16.343767  212.993941  4.999220   24.850185   \n",
       "4594  5617         5933.0  17.088066  231.428143  4.046898  186.419443   \n",
       "\n",
       "             blh  year  month  day  day_of_week  day_of_year  \n",
       "9319  216.917769  2021     10   10            6          283  \n",
       "9111  817.379449  2021     10    4            0          277  \n",
       "1222  619.577412  2021      2    7            6           38  \n",
       "574   622.793575  2021      1   18            0           18  \n",
       "4594  760.287015  2021      5   20            3          140  "
      ]
     },
     "execution_count": 107,
     "metadata": {},
     "output_type": "execute_result"
    }
   ],
   "source": [
    "# read prepared dataset csv file\n",
    "df_replaced_pollution_median_outliers = pd.read_csv(\"data/df_replaced_pollution_median_outliers.csv\")\n",
    "df_replaced_pollution_median_outliers.sample(5)"
   ]
  },
  {
   "cell_type": "markdown",
   "id": "251c632e",
   "metadata": {},
   "source": [
    "<h4><font color=mediumvioletred>Get X and y</font></h4>"
   ]
  },
  {
   "cell_type": "code",
   "execution_count": 108,
   "id": "e5254964",
   "metadata": {},
   "outputs": [],
   "source": [
    "X = df_replaced_pollution_median_outliers.drop(\"pm2.5\", axis=1)\n",
    "y = df_replaced_pollution_median_outliers[\"pm2.5\"]"
   ]
  },
  {
   "cell_type": "markdown",
   "id": "40b67a81",
   "metadata": {},
   "source": [
    "<h4><font color=mediumvioletred>Get a sample of X </font></h4>"
   ]
  },
  {
   "cell_type": "code",
   "execution_count": 109,
   "id": "9b2eea4f",
   "metadata": {},
   "outputs": [
    {
     "data": {
      "text/html": [
       "<div>\n",
       "<style scoped>\n",
       "    .dataframe tbody tr th:only-of-type {\n",
       "        vertical-align: middle;\n",
       "    }\n",
       "\n",
       "    .dataframe tbody tr th {\n",
       "        vertical-align: top;\n",
       "    }\n",
       "\n",
       "    .dataframe thead th {\n",
       "        text-align: right;\n",
       "    }\n",
       "</style>\n",
       "<table border=\"1\" class=\"dataframe\">\n",
       "  <thead>\n",
       "    <tr style=\"text-align: right;\">\n",
       "      <th></th>\n",
       "      <th>PC4</th>\n",
       "      <th>people_number</th>\n",
       "      <th>wd</th>\n",
       "      <th>ws</th>\n",
       "      <th>ssrd</th>\n",
       "      <th>blh</th>\n",
       "      <th>year</th>\n",
       "      <th>month</th>\n",
       "      <th>day</th>\n",
       "      <th>day_of_week</th>\n",
       "      <th>day_of_year</th>\n",
       "    </tr>\n",
       "  </thead>\n",
       "  <tbody>\n",
       "    <tr>\n",
       "      <th>1049</th>\n",
       "      <td>5633</td>\n",
       "      <td>6283.0</td>\n",
       "      <td>117.728454</td>\n",
       "      <td>2.500008</td>\n",
       "      <td>12.675340</td>\n",
       "      <td>251.988473</td>\n",
       "      <td>2021</td>\n",
       "      <td>2</td>\n",
       "      <td>1</td>\n",
       "      <td>0</td>\n",
       "      <td>32</td>\n",
       "    </tr>\n",
       "    <tr>\n",
       "      <th>8847</th>\n",
       "      <td>5616</td>\n",
       "      <td>9553.0</td>\n",
       "      <td>259.917735</td>\n",
       "      <td>2.678798</td>\n",
       "      <td>107.837520</td>\n",
       "      <td>380.408950</td>\n",
       "      <td>2021</td>\n",
       "      <td>9</td>\n",
       "      <td>26</td>\n",
       "      <td>6</td>\n",
       "      <td>269</td>\n",
       "    </tr>\n",
       "    <tr>\n",
       "      <th>3683</th>\n",
       "      <td>5617</td>\n",
       "      <td>6509.0</td>\n",
       "      <td>91.614686</td>\n",
       "      <td>2.719172</td>\n",
       "      <td>180.160706</td>\n",
       "      <td>705.612274</td>\n",
       "      <td>2021</td>\n",
       "      <td>4</td>\n",
       "      <td>22</td>\n",
       "      <td>3</td>\n",
       "      <td>112</td>\n",
       "    </tr>\n",
       "    <tr>\n",
       "      <th>336</th>\n",
       "      <td>5626</td>\n",
       "      <td>7086.0</td>\n",
       "      <td>225.604046</td>\n",
       "      <td>5.834950</td>\n",
       "      <td>12.834695</td>\n",
       "      <td>683.027081</td>\n",
       "      <td>2021</td>\n",
       "      <td>1</td>\n",
       "      <td>11</td>\n",
       "      <td>0</td>\n",
       "      <td>11</td>\n",
       "    </tr>\n",
       "    <tr>\n",
       "      <th>1581</th>\n",
       "      <td>5621</td>\n",
       "      <td>4154.0</td>\n",
       "      <td>233.515768</td>\n",
       "      <td>5.526477</td>\n",
       "      <td>47.639574</td>\n",
       "      <td>751.516609</td>\n",
       "      <td>2021</td>\n",
       "      <td>2</td>\n",
       "      <td>17</td>\n",
       "      <td>2</td>\n",
       "      <td>48</td>\n",
       "    </tr>\n",
       "  </tbody>\n",
       "</table>\n",
       "</div>"
      ],
      "text/plain": [
       "       PC4  people_number          wd        ws        ssrd         blh  year  \\\n",
       "1049  5633         6283.0  117.728454  2.500008   12.675340  251.988473  2021   \n",
       "8847  5616         9553.0  259.917735  2.678798  107.837520  380.408950  2021   \n",
       "3683  5617         6509.0   91.614686  2.719172  180.160706  705.612274  2021   \n",
       "336   5626         7086.0  225.604046  5.834950   12.834695  683.027081  2021   \n",
       "1581  5621         4154.0  233.515768  5.526477   47.639574  751.516609  2021   \n",
       "\n",
       "      month  day  day_of_week  day_of_year  \n",
       "1049      2    1            0           32  \n",
       "8847      9   26            6          269  \n",
       "3683      4   22            3          112  \n",
       "336       1   11            0           11  \n",
       "1581      2   17            2           48  "
      ]
     },
     "execution_count": 109,
     "metadata": {},
     "output_type": "execute_result"
    }
   ],
   "source": [
    "X.sample(5)"
   ]
  },
  {
   "cell_type": "markdown",
   "id": "d1c523ee",
   "metadata": {},
   "source": [
    "<h4><font color=mediumvioletred>Get a sample of y </font></h4>"
   ]
  },
  {
   "cell_type": "code",
   "execution_count": 110,
   "id": "4edf53f6",
   "metadata": {
    "scrolled": true
   },
   "outputs": [
    {
     "data": {
      "text/plain": [
       "8888     7.721156\n",
       "2178     9.087465\n",
       "626      8.392200\n",
       "5109    17.099413\n",
       "1086     9.087465\n",
       "Name: pm2.5, dtype: float64"
      ]
     },
     "execution_count": 110,
     "metadata": {},
     "output_type": "execute_result"
    }
   ],
   "source": [
    "y.sample(5)"
   ]
  },
  {
   "cell_type": "markdown",
   "id": "c9093446",
   "metadata": {},
   "source": [
    "<h4><font color=mediumvioletred>Check shape of the dataframe </font></h4>"
   ]
  },
  {
   "cell_type": "code",
   "execution_count": 111,
   "id": "6a9772a5",
   "metadata": {},
   "outputs": [
    {
     "data": {
      "text/plain": [
       "(10626, 12)"
      ]
     },
     "execution_count": 111,
     "metadata": {},
     "output_type": "execute_result"
    }
   ],
   "source": [
    "df_replaced_pollution_median_outliers.shape"
   ]
  },
  {
   "cell_type": "markdown",
   "id": "dad40625",
   "metadata": {},
   "source": [
    "<h4><font color=mediumvioletred>Split data into training and testing </font></h4>"
   ]
  },
  {
   "cell_type": "code",
   "execution_count": 112,
   "id": "2dbca5f3",
   "metadata": {},
   "outputs": [
    {
     "data": {
      "text/plain": [
       "(6996, 3630)"
      ]
     },
     "execution_count": 112,
     "metadata": {},
     "output_type": "execute_result"
    }
   ],
   "source": [
    "df_train = df_replaced_pollution_median_outliers[df_replaced_pollution_median_outliers.month < 8]\n",
    "df_test = df_replaced_pollution_median_outliers[df_replaced_pollution_median_outliers.month >= 8]\n",
    "\n",
    "len(df_train), len(df_test)"
   ]
  },
  {
   "cell_type": "markdown",
   "id": "0e801cc2",
   "metadata": {},
   "source": [
    "<h4><font color=mediumvioletred>Split data into X & y </font></h4>"
   ]
  },
  {
   "cell_type": "code",
   "execution_count": 113,
   "id": "4f09d4e1",
   "metadata": {},
   "outputs": [
    {
     "data": {
      "text/plain": [
       "((6996, 11), (6996,), (3630, 11), (3630,))"
      ]
     },
     "execution_count": 113,
     "metadata": {},
     "output_type": "execute_result"
    }
   ],
   "source": [
    "X_train, y_train = df_train.drop(\"pm2.5\", axis=1), df_train[\"pm2.5\"]\n",
    "X_test, y_test = df_test.drop(\"pm2.5\", axis=1), df_test[\"pm2.5\"]\n",
    "\n",
    "X_train.shape, y_train.shape, X_test.shape, y_test.shape"
   ]
  },
  {
   "cell_type": "code",
   "execution_count": 114,
   "id": "6297c46e",
   "metadata": {},
   "outputs": [
    {
     "data": {
      "text/html": [
       "<div>\n",
       "<style scoped>\n",
       "    .dataframe tbody tr th:only-of-type {\n",
       "        vertical-align: middle;\n",
       "    }\n",
       "\n",
       "    .dataframe tbody tr th {\n",
       "        vertical-align: top;\n",
       "    }\n",
       "\n",
       "    .dataframe thead th {\n",
       "        text-align: right;\n",
       "    }\n",
       "</style>\n",
       "<table border=\"1\" class=\"dataframe\">\n",
       "  <thead>\n",
       "    <tr style=\"text-align: right;\">\n",
       "      <th></th>\n",
       "      <th>PC4</th>\n",
       "      <th>people_number</th>\n",
       "      <th>wd</th>\n",
       "      <th>ws</th>\n",
       "      <th>ssrd</th>\n",
       "      <th>blh</th>\n",
       "      <th>year</th>\n",
       "      <th>month</th>\n",
       "      <th>day</th>\n",
       "      <th>day_of_week</th>\n",
       "      <th>day_of_year</th>\n",
       "    </tr>\n",
       "  </thead>\n",
       "  <tbody>\n",
       "    <tr>\n",
       "      <th>0</th>\n",
       "      <td>5611</td>\n",
       "      <td>6671.0</td>\n",
       "      <td>203.334312</td>\n",
       "      <td>2.886824</td>\n",
       "      <td>35.783607</td>\n",
       "      <td>241.558209</td>\n",
       "      <td>2021</td>\n",
       "      <td>1</td>\n",
       "      <td>1</td>\n",
       "      <td>4</td>\n",
       "      <td>1</td>\n",
       "    </tr>\n",
       "    <tr>\n",
       "      <th>1</th>\n",
       "      <td>5656</td>\n",
       "      <td>9330.0</td>\n",
       "      <td>202.914324</td>\n",
       "      <td>2.885721</td>\n",
       "      <td>36.077402</td>\n",
       "      <td>243.613262</td>\n",
       "      <td>2021</td>\n",
       "      <td>1</td>\n",
       "      <td>1</td>\n",
       "      <td>4</td>\n",
       "      <td>1</td>\n",
       "    </tr>\n",
       "    <tr>\n",
       "      <th>2</th>\n",
       "      <td>5658</td>\n",
       "      <td>1539.0</td>\n",
       "      <td>203.860565</td>\n",
       "      <td>2.900199</td>\n",
       "      <td>35.915225</td>\n",
       "      <td>240.125790</td>\n",
       "      <td>2021</td>\n",
       "      <td>1</td>\n",
       "      <td>1</td>\n",
       "      <td>4</td>\n",
       "      <td>1</td>\n",
       "    </tr>\n",
       "    <tr>\n",
       "      <th>3</th>\n",
       "      <td>5612</td>\n",
       "      <td>5478.0</td>\n",
       "      <td>203.603766</td>\n",
       "      <td>2.890154</td>\n",
       "      <td>35.685987</td>\n",
       "      <td>240.507430</td>\n",
       "      <td>2021</td>\n",
       "      <td>1</td>\n",
       "      <td>1</td>\n",
       "      <td>4</td>\n",
       "      <td>1</td>\n",
       "    </tr>\n",
       "    <tr>\n",
       "      <th>4</th>\n",
       "      <td>5625</td>\n",
       "      <td>3793.0</td>\n",
       "      <td>204.119216</td>\n",
       "      <td>2.896506</td>\n",
       "      <td>35.493932</td>\n",
       "      <td>238.454701</td>\n",
       "      <td>2021</td>\n",
       "      <td>1</td>\n",
       "      <td>1</td>\n",
       "      <td>4</td>\n",
       "      <td>1</td>\n",
       "    </tr>\n",
       "  </tbody>\n",
       "</table>\n",
       "</div>"
      ],
      "text/plain": [
       "    PC4  people_number          wd        ws       ssrd         blh  year  \\\n",
       "0  5611         6671.0  203.334312  2.886824  35.783607  241.558209  2021   \n",
       "1  5656         9330.0  202.914324  2.885721  36.077402  243.613262  2021   \n",
       "2  5658         1539.0  203.860565  2.900199  35.915225  240.125790  2021   \n",
       "3  5612         5478.0  203.603766  2.890154  35.685987  240.507430  2021   \n",
       "4  5625         3793.0  204.119216  2.896506  35.493932  238.454701  2021   \n",
       "\n",
       "   month  day  day_of_week  day_of_year  \n",
       "0      1    1            4            1  \n",
       "1      1    1            4            1  \n",
       "2      1    1            4            1  \n",
       "3      1    1            4            1  \n",
       "4      1    1            4            1  "
      ]
     },
     "execution_count": 114,
     "metadata": {},
     "output_type": "execute_result"
    }
   ],
   "source": [
    "X_train.head()"
   ]
  },
  {
   "cell_type": "markdown",
   "id": "a9768684",
   "metadata": {},
   "source": [
    "<h4><font color=mediumvioletred>Model with RandomForestRegressor </font></h4>"
   ]
  },
  {
   "cell_type": "code",
   "execution_count": 115,
   "id": "4eb1c9ce",
   "metadata": {},
   "outputs": [
    {
     "data": {
      "text/plain": [
       "RandomForestRegressor(n_jobs=-1, random_state=42)"
      ]
     },
     "execution_count": 115,
     "metadata": {},
     "output_type": "execute_result"
    }
   ],
   "source": [
    "rf_model = RandomForestRegressor(n_jobs=-1,\n",
    "                             random_state=42)\n",
    "\n",
    "# fit the model\n",
    "rf_model.fit(X_train, y_train)"
   ]
  },
  {
   "cell_type": "code",
   "execution_count": 116,
   "id": "3c2c45a0",
   "metadata": {},
   "outputs": [
    {
     "data": {
      "text/plain": [
       "{'Training MAE': 0.07327523803492846, 'Testing MAE': 4.327968551453809}"
      ]
     },
     "execution_count": 116,
     "metadata": {},
     "output_type": "execute_result"
    }
   ],
   "source": [
    "# score model\n",
    "show_scores(rf_model)"
   ]
  },
  {
   "cell_type": "code",
   "execution_count": 117,
   "id": "cc9aebba",
   "metadata": {},
   "outputs": [
    {
     "data": {
      "text/html": [
       "<div>\n",
       "<style scoped>\n",
       "    .dataframe tbody tr th:only-of-type {\n",
       "        vertical-align: middle;\n",
       "    }\n",
       "\n",
       "    .dataframe tbody tr th {\n",
       "        vertical-align: top;\n",
       "    }\n",
       "\n",
       "    .dataframe thead th {\n",
       "        text-align: right;\n",
       "    }\n",
       "</style>\n",
       "<table border=\"1\" class=\"dataframe\">\n",
       "  <thead>\n",
       "    <tr style=\"text-align: right;\">\n",
       "      <th></th>\n",
       "      <th>actual values</th>\n",
       "      <th>predicted values</th>\n",
       "      <th>differences</th>\n",
       "    </tr>\n",
       "  </thead>\n",
       "  <tbody>\n",
       "    <tr>\n",
       "      <th>10563</th>\n",
       "      <td>26.578117</td>\n",
       "      <td>8.202327</td>\n",
       "      <td>18.375790</td>\n",
       "    </tr>\n",
       "    <tr>\n",
       "      <th>10574</th>\n",
       "      <td>26.578117</td>\n",
       "      <td>8.202327</td>\n",
       "      <td>18.375790</td>\n",
       "    </tr>\n",
       "    <tr>\n",
       "      <th>10567</th>\n",
       "      <td>26.578117</td>\n",
       "      <td>8.200097</td>\n",
       "      <td>18.378021</td>\n",
       "    </tr>\n",
       "    <tr>\n",
       "      <th>10333</th>\n",
       "      <td>26.473959</td>\n",
       "      <td>8.064137</td>\n",
       "      <td>18.409822</td>\n",
       "    </tr>\n",
       "    <tr>\n",
       "      <th>10580</th>\n",
       "      <td>26.915167</td>\n",
       "      <td>8.304478</td>\n",
       "      <td>18.610689</td>\n",
       "    </tr>\n",
       "    <tr>\n",
       "      <th>10588</th>\n",
       "      <td>26.915167</td>\n",
       "      <td>8.301976</td>\n",
       "      <td>18.613191</td>\n",
       "    </tr>\n",
       "    <tr>\n",
       "      <th>10568</th>\n",
       "      <td>26.851381</td>\n",
       "      <td>8.207667</td>\n",
       "      <td>18.643714</td>\n",
       "    </tr>\n",
       "    <tr>\n",
       "      <th>10584</th>\n",
       "      <td>26.966311</td>\n",
       "      <td>8.314897</td>\n",
       "      <td>18.651414</td>\n",
       "    </tr>\n",
       "    <tr>\n",
       "      <th>10590</th>\n",
       "      <td>26.966311</td>\n",
       "      <td>8.297701</td>\n",
       "      <td>18.668609</td>\n",
       "    </tr>\n",
       "    <tr>\n",
       "      <th>10575</th>\n",
       "      <td>26.966311</td>\n",
       "      <td>8.213505</td>\n",
       "      <td>18.752806</td>\n",
       "    </tr>\n",
       "  </tbody>\n",
       "</table>\n",
       "</div>"
      ],
      "text/plain": [
       "       actual values  predicted values  differences\n",
       "10563      26.578117          8.202327    18.375790\n",
       "10574      26.578117          8.202327    18.375790\n",
       "10567      26.578117          8.200097    18.378021\n",
       "10333      26.473959          8.064137    18.409822\n",
       "10580      26.915167          8.304478    18.610689\n",
       "10588      26.915167          8.301976    18.613191\n",
       "10568      26.851381          8.207667    18.643714\n",
       "10584      26.966311          8.314897    18.651414\n",
       "10590      26.966311          8.297701    18.668609\n",
       "10575      26.966311          8.213505    18.752806"
      ]
     },
     "execution_count": 117,
     "metadata": {},
     "output_type": "execute_result"
    }
   ],
   "source": [
    "# create dataframe containing actual values, predictions and the differences between them\n",
    "df_scores = get_scores_dataframe(rf_model)\n",
    "df_scores.sort_values(by=\"differences\").tail(10)"
   ]
  },
  {
   "cell_type": "markdown",
   "id": "2492511a",
   "metadata": {},
   "source": [
    "<h4><font color=mediumvioletred>Model with SGDClassifier </font></h4>"
   ]
  },
  {
   "cell_type": "code",
   "execution_count": 118,
   "id": "ddc48d9b",
   "metadata": {},
   "outputs": [
    {
     "data": {
      "text/plain": [
       "SGDClassifier(n_jobs=-1, random_state=42)"
      ]
     },
     "execution_count": 118,
     "metadata": {},
     "output_type": "execute_result"
    }
   ],
   "source": [
    "sgd_model = SGDClassifier(n_jobs=-1,\n",
    "                        random_state=42)\n",
    "\n",
    "# fit the model\n",
    "sgd_model.fit(X_train, y_train.astype(int))"
   ]
  },
  {
   "cell_type": "code",
   "execution_count": 119,
   "id": "0a0d69a8",
   "metadata": {},
   "outputs": [
    {
     "data": {
      "text/plain": [
       "{'Training MAE': 4.680309929136824, 'Testing MAE': 4.923760670013008}"
      ]
     },
     "execution_count": 119,
     "metadata": {},
     "output_type": "execute_result"
    }
   ],
   "source": [
    "# score model\n",
    "show_scores(sgd_model)"
   ]
  },
  {
   "cell_type": "code",
   "execution_count": 120,
   "id": "dd417a71",
   "metadata": {},
   "outputs": [
    {
     "data": {
      "text/html": [
       "<div>\n",
       "<style scoped>\n",
       "    .dataframe tbody tr th:only-of-type {\n",
       "        vertical-align: middle;\n",
       "    }\n",
       "\n",
       "    .dataframe tbody tr th {\n",
       "        vertical-align: top;\n",
       "    }\n",
       "\n",
       "    .dataframe thead th {\n",
       "        text-align: right;\n",
       "    }\n",
       "</style>\n",
       "<table border=\"1\" class=\"dataframe\">\n",
       "  <thead>\n",
       "    <tr style=\"text-align: right;\">\n",
       "      <th></th>\n",
       "      <th>actual values</th>\n",
       "      <th>predicted values</th>\n",
       "      <th>differences</th>\n",
       "    </tr>\n",
       "  </thead>\n",
       "  <tbody>\n",
       "    <tr>\n",
       "      <th>10588</th>\n",
       "      <td>26.915167</td>\n",
       "      <td>7</td>\n",
       "      <td>19.915167</td>\n",
       "    </tr>\n",
       "    <tr>\n",
       "      <th>10580</th>\n",
       "      <td>26.915167</td>\n",
       "      <td>7</td>\n",
       "      <td>19.915167</td>\n",
       "    </tr>\n",
       "    <tr>\n",
       "      <th>10575</th>\n",
       "      <td>26.966311</td>\n",
       "      <td>7</td>\n",
       "      <td>19.966311</td>\n",
       "    </tr>\n",
       "    <tr>\n",
       "      <th>10584</th>\n",
       "      <td>26.966311</td>\n",
       "      <td>7</td>\n",
       "      <td>19.966311</td>\n",
       "    </tr>\n",
       "    <tr>\n",
       "      <th>8582</th>\n",
       "      <td>23.628653</td>\n",
       "      <td>3</td>\n",
       "      <td>20.628653</td>\n",
       "    </tr>\n",
       "    <tr>\n",
       "      <th>10579</th>\n",
       "      <td>25.661686</td>\n",
       "      <td>3</td>\n",
       "      <td>22.661686</td>\n",
       "    </tr>\n",
       "    <tr>\n",
       "      <th>10582</th>\n",
       "      <td>26.212662</td>\n",
       "      <td>3</td>\n",
       "      <td>23.212662</td>\n",
       "    </tr>\n",
       "    <tr>\n",
       "      <th>10567</th>\n",
       "      <td>26.578117</td>\n",
       "      <td>3</td>\n",
       "      <td>23.578117</td>\n",
       "    </tr>\n",
       "    <tr>\n",
       "      <th>10571</th>\n",
       "      <td>26.578117</td>\n",
       "      <td>3</td>\n",
       "      <td>23.578117</td>\n",
       "    </tr>\n",
       "    <tr>\n",
       "      <th>10590</th>\n",
       "      <td>26.966311</td>\n",
       "      <td>3</td>\n",
       "      <td>23.966311</td>\n",
       "    </tr>\n",
       "  </tbody>\n",
       "</table>\n",
       "</div>"
      ],
      "text/plain": [
       "       actual values  predicted values  differences\n",
       "10588      26.915167                 7    19.915167\n",
       "10580      26.915167                 7    19.915167\n",
       "10575      26.966311                 7    19.966311\n",
       "10584      26.966311                 7    19.966311\n",
       "8582       23.628653                 3    20.628653\n",
       "10579      25.661686                 3    22.661686\n",
       "10582      26.212662                 3    23.212662\n",
       "10567      26.578117                 3    23.578117\n",
       "10571      26.578117                 3    23.578117\n",
       "10590      26.966311                 3    23.966311"
      ]
     },
     "execution_count": 120,
     "metadata": {},
     "output_type": "execute_result"
    }
   ],
   "source": [
    "# create dataframe containing actual values, predictions and the differences between them\n",
    "df_scores = get_scores_dataframe(sgd_model)\n",
    "df_scores.sort_values(by=\"differences\").tail(10)"
   ]
  },
  {
   "cell_type": "markdown",
   "id": "8afab69c",
   "metadata": {},
   "source": [
    "<h4><font color=mediumvioletred>Model with BayesianRidge </font></h4>"
   ]
  },
  {
   "cell_type": "code",
   "execution_count": 121,
   "id": "21a23fac",
   "metadata": {},
   "outputs": [
    {
     "data": {
      "text/plain": [
       "BayesianRidge()"
      ]
     },
     "execution_count": 121,
     "metadata": {},
     "output_type": "execute_result"
    }
   ],
   "source": [
    "br_model = BayesianRidge()\n",
    "\n",
    "# fit the model\n",
    "br_model.fit(X_train, y_train)"
   ]
  },
  {
   "cell_type": "code",
   "execution_count": 122,
   "id": "cd215724",
   "metadata": {},
   "outputs": [
    {
     "data": {
      "text/plain": [
       "{'Training MAE': 3.6623177818342185, 'Testing MAE': 7.857052382541311}"
      ]
     },
     "execution_count": 122,
     "metadata": {},
     "output_type": "execute_result"
    }
   ],
   "source": [
    "# score model\n",
    "show_scores(br_model)"
   ]
  },
  {
   "cell_type": "code",
   "execution_count": 123,
   "id": "ead60880",
   "metadata": {},
   "outputs": [
    {
     "data": {
      "text/html": [
       "<div>\n",
       "<style scoped>\n",
       "    .dataframe tbody tr th:only-of-type {\n",
       "        vertical-align: middle;\n",
       "    }\n",
       "\n",
       "    .dataframe tbody tr th {\n",
       "        vertical-align: top;\n",
       "    }\n",
       "\n",
       "    .dataframe thead th {\n",
       "        text-align: right;\n",
       "    }\n",
       "</style>\n",
       "<table border=\"1\" class=\"dataframe\">\n",
       "  <thead>\n",
       "    <tr style=\"text-align: right;\">\n",
       "      <th></th>\n",
       "      <th>actual values</th>\n",
       "      <th>predicted values</th>\n",
       "      <th>differences</th>\n",
       "    </tr>\n",
       "  </thead>\n",
       "  <tbody>\n",
       "    <tr>\n",
       "      <th>10563</th>\n",
       "      <td>26.578117</td>\n",
       "      <td>1.024489</td>\n",
       "      <td>25.553629</td>\n",
       "    </tr>\n",
       "    <tr>\n",
       "      <th>10574</th>\n",
       "      <td>26.578117</td>\n",
       "      <td>1.009026</td>\n",
       "      <td>25.569091</td>\n",
       "    </tr>\n",
       "    <tr>\n",
       "      <th>10567</th>\n",
       "      <td>26.578117</td>\n",
       "      <td>1.003660</td>\n",
       "      <td>25.574457</td>\n",
       "    </tr>\n",
       "    <tr>\n",
       "      <th>10571</th>\n",
       "      <td>26.578117</td>\n",
       "      <td>0.995514</td>\n",
       "      <td>25.582603</td>\n",
       "    </tr>\n",
       "    <tr>\n",
       "      <th>10568</th>\n",
       "      <td>26.851381</td>\n",
       "      <td>1.068171</td>\n",
       "      <td>25.783211</td>\n",
       "    </tr>\n",
       "    <tr>\n",
       "      <th>10584</th>\n",
       "      <td>26.966311</td>\n",
       "      <td>1.137496</td>\n",
       "      <td>25.828814</td>\n",
       "    </tr>\n",
       "    <tr>\n",
       "      <th>10580</th>\n",
       "      <td>26.915167</td>\n",
       "      <td>1.031142</td>\n",
       "      <td>25.884025</td>\n",
       "    </tr>\n",
       "    <tr>\n",
       "      <th>10575</th>\n",
       "      <td>26.966311</td>\n",
       "      <td>1.081785</td>\n",
       "      <td>25.884526</td>\n",
       "    </tr>\n",
       "    <tr>\n",
       "      <th>10588</th>\n",
       "      <td>26.915167</td>\n",
       "      <td>1.023952</td>\n",
       "      <td>25.891215</td>\n",
       "    </tr>\n",
       "    <tr>\n",
       "      <th>10590</th>\n",
       "      <td>26.966311</td>\n",
       "      <td>1.008901</td>\n",
       "      <td>25.957409</td>\n",
       "    </tr>\n",
       "  </tbody>\n",
       "</table>\n",
       "</div>"
      ],
      "text/plain": [
       "       actual values  predicted values  differences\n",
       "10563      26.578117          1.024489    25.553629\n",
       "10574      26.578117          1.009026    25.569091\n",
       "10567      26.578117          1.003660    25.574457\n",
       "10571      26.578117          0.995514    25.582603\n",
       "10568      26.851381          1.068171    25.783211\n",
       "10584      26.966311          1.137496    25.828814\n",
       "10580      26.915167          1.031142    25.884025\n",
       "10575      26.966311          1.081785    25.884526\n",
       "10588      26.915167          1.023952    25.891215\n",
       "10590      26.966311          1.008901    25.957409"
      ]
     },
     "execution_count": 123,
     "metadata": {},
     "output_type": "execute_result"
    }
   ],
   "source": [
    "# create dataframe containing actual values, predictions and the differences between them\n",
    "df_scores = get_scores_dataframe(br_model)\n",
    "df_scores.sort_values(by=\"differences\").tail(10)"
   ]
  },
  {
   "cell_type": "markdown",
   "id": "5885e428",
   "metadata": {},
   "source": [
    "<h4><font color=mediumvioletred>Model with Lasso </font></h4>"
   ]
  },
  {
   "cell_type": "code",
   "execution_count": 124,
   "id": "e2c39ad5",
   "metadata": {},
   "outputs": [
    {
     "data": {
      "text/plain": [
       "LassoLars(alpha=0.1, normalize=False, random_state=42)"
      ]
     },
     "execution_count": 124,
     "metadata": {},
     "output_type": "execute_result"
    }
   ],
   "source": [
    "lasso_model = LassoLars(alpha=.1, \n",
    "                  normalize=False,\n",
    "                  random_state=42)\n",
    "\n",
    "# fit the model\n",
    "lasso_model.fit(X_train, y_train)"
   ]
  },
  {
   "cell_type": "code",
   "execution_count": 125,
   "id": "ff8dc515",
   "metadata": {},
   "outputs": [
    {
     "data": {
      "text/plain": [
       "{'Training MAE': 3.6841443897533908, 'Testing MAE': 6.518618154887404}"
      ]
     },
     "execution_count": 125,
     "metadata": {},
     "output_type": "execute_result"
    }
   ],
   "source": [
    "# score model\n",
    "show_scores(lasso_model)"
   ]
  },
  {
   "cell_type": "code",
   "execution_count": 126,
   "id": "5bba42a1",
   "metadata": {},
   "outputs": [
    {
     "data": {
      "text/html": [
       "<div>\n",
       "<style scoped>\n",
       "    .dataframe tbody tr th:only-of-type {\n",
       "        vertical-align: middle;\n",
       "    }\n",
       "\n",
       "    .dataframe tbody tr th {\n",
       "        vertical-align: top;\n",
       "    }\n",
       "\n",
       "    .dataframe thead th {\n",
       "        text-align: right;\n",
       "    }\n",
       "</style>\n",
       "<table border=\"1\" class=\"dataframe\">\n",
       "  <thead>\n",
       "    <tr style=\"text-align: right;\">\n",
       "      <th></th>\n",
       "      <th>actual values</th>\n",
       "      <th>predicted values</th>\n",
       "      <th>differences</th>\n",
       "    </tr>\n",
       "  </thead>\n",
       "  <tbody>\n",
       "    <tr>\n",
       "      <th>10563</th>\n",
       "      <td>26.578117</td>\n",
       "      <td>3.101592</td>\n",
       "      <td>23.476525</td>\n",
       "    </tr>\n",
       "    <tr>\n",
       "      <th>10574</th>\n",
       "      <td>26.578117</td>\n",
       "      <td>3.086157</td>\n",
       "      <td>23.491960</td>\n",
       "    </tr>\n",
       "    <tr>\n",
       "      <th>10567</th>\n",
       "      <td>26.578117</td>\n",
       "      <td>3.080621</td>\n",
       "      <td>23.497496</td>\n",
       "    </tr>\n",
       "    <tr>\n",
       "      <th>10571</th>\n",
       "      <td>26.578117</td>\n",
       "      <td>3.064386</td>\n",
       "      <td>23.513731</td>\n",
       "    </tr>\n",
       "    <tr>\n",
       "      <th>10568</th>\n",
       "      <td>26.851381</td>\n",
       "      <td>3.154045</td>\n",
       "      <td>23.697336</td>\n",
       "    </tr>\n",
       "    <tr>\n",
       "      <th>10584</th>\n",
       "      <td>26.966311</td>\n",
       "      <td>3.250331</td>\n",
       "      <td>23.715979</td>\n",
       "    </tr>\n",
       "    <tr>\n",
       "      <th>10575</th>\n",
       "      <td>26.966311</td>\n",
       "      <td>3.172029</td>\n",
       "      <td>23.794282</td>\n",
       "    </tr>\n",
       "    <tr>\n",
       "      <th>10580</th>\n",
       "      <td>26.915167</td>\n",
       "      <td>3.117842</td>\n",
       "      <td>23.797325</td>\n",
       "    </tr>\n",
       "    <tr>\n",
       "      <th>10588</th>\n",
       "      <td>26.915167</td>\n",
       "      <td>3.104557</td>\n",
       "      <td>23.810610</td>\n",
       "    </tr>\n",
       "    <tr>\n",
       "      <th>10590</th>\n",
       "      <td>26.966311</td>\n",
       "      <td>3.086694</td>\n",
       "      <td>23.879616</td>\n",
       "    </tr>\n",
       "  </tbody>\n",
       "</table>\n",
       "</div>"
      ],
      "text/plain": [
       "       actual values  predicted values  differences\n",
       "10563      26.578117          3.101592    23.476525\n",
       "10574      26.578117          3.086157    23.491960\n",
       "10567      26.578117          3.080621    23.497496\n",
       "10571      26.578117          3.064386    23.513731\n",
       "10568      26.851381          3.154045    23.697336\n",
       "10584      26.966311          3.250331    23.715979\n",
       "10575      26.966311          3.172029    23.794282\n",
       "10580      26.915167          3.117842    23.797325\n",
       "10588      26.915167          3.104557    23.810610\n",
       "10590      26.966311          3.086694    23.879616"
      ]
     },
     "execution_count": 126,
     "metadata": {},
     "output_type": "execute_result"
    }
   ],
   "source": [
    "# create dataframe containing actual values, predictions and the differences between them\n",
    "df_scores = get_scores_dataframe(lasso_model)\n",
    "df_scores.sort_values(by=\"differences\").tail(10)"
   ]
  },
  {
   "cell_type": "markdown",
   "id": "d4004856",
   "metadata": {},
   "source": [
    "<h4><font color=mediumvioletred>Model with ElasticNet </font></h4>"
   ]
  },
  {
   "cell_type": "code",
   "execution_count": 127,
   "id": "f17661aa",
   "metadata": {},
   "outputs": [
    {
     "data": {
      "text/plain": [
       "ElasticNet(random_state=42)"
      ]
     },
     "execution_count": 127,
     "metadata": {},
     "output_type": "execute_result"
    }
   ],
   "source": [
    "en_model = ElasticNet(random_state=42)\n",
    "\n",
    "# fit the model\n",
    "en_model.fit(X_train, y_train)"
   ]
  },
  {
   "cell_type": "code",
   "execution_count": 128,
   "id": "6181afb4",
   "metadata": {},
   "outputs": [
    {
     "data": {
      "text/plain": [
       "{'Training MAE': 3.6840563016730434, 'Testing MAE': 6.350515252679395}"
      ]
     },
     "execution_count": 128,
     "metadata": {},
     "output_type": "execute_result"
    }
   ],
   "source": [
    "# score model\n",
    "show_scores(en_model)"
   ]
  },
  {
   "cell_type": "code",
   "execution_count": 129,
   "id": "d9c89832",
   "metadata": {},
   "outputs": [
    {
     "data": {
      "text/html": [
       "<div>\n",
       "<style scoped>\n",
       "    .dataframe tbody tr th:only-of-type {\n",
       "        vertical-align: middle;\n",
       "    }\n",
       "\n",
       "    .dataframe tbody tr th {\n",
       "        vertical-align: top;\n",
       "    }\n",
       "\n",
       "    .dataframe thead th {\n",
       "        text-align: right;\n",
       "    }\n",
       "</style>\n",
       "<table border=\"1\" class=\"dataframe\">\n",
       "  <thead>\n",
       "    <tr style=\"text-align: right;\">\n",
       "      <th></th>\n",
       "      <th>actual values</th>\n",
       "      <th>predicted values</th>\n",
       "      <th>differences</th>\n",
       "    </tr>\n",
       "  </thead>\n",
       "  <tbody>\n",
       "    <tr>\n",
       "      <th>10563</th>\n",
       "      <td>26.578117</td>\n",
       "      <td>3.281729</td>\n",
       "      <td>23.296389</td>\n",
       "    </tr>\n",
       "    <tr>\n",
       "      <th>10574</th>\n",
       "      <td>26.578117</td>\n",
       "      <td>3.265955</td>\n",
       "      <td>23.312162</td>\n",
       "    </tr>\n",
       "    <tr>\n",
       "      <th>10567</th>\n",
       "      <td>26.578117</td>\n",
       "      <td>3.260261</td>\n",
       "      <td>23.317856</td>\n",
       "    </tr>\n",
       "    <tr>\n",
       "      <th>10571</th>\n",
       "      <td>26.578117</td>\n",
       "      <td>3.238834</td>\n",
       "      <td>23.339284</td>\n",
       "    </tr>\n",
       "    <tr>\n",
       "      <th>10568</th>\n",
       "      <td>26.851381</td>\n",
       "      <td>3.340498</td>\n",
       "      <td>23.510883</td>\n",
       "    </tr>\n",
       "    <tr>\n",
       "      <th>10584</th>\n",
       "      <td>26.966311</td>\n",
       "      <td>3.453342</td>\n",
       "      <td>23.512968</td>\n",
       "    </tr>\n",
       "    <tr>\n",
       "      <th>10575</th>\n",
       "      <td>26.966311</td>\n",
       "      <td>3.361315</td>\n",
       "      <td>23.604995</td>\n",
       "    </tr>\n",
       "    <tr>\n",
       "      <th>10580</th>\n",
       "      <td>26.915167</td>\n",
       "      <td>3.302663</td>\n",
       "      <td>23.612503</td>\n",
       "    </tr>\n",
       "    <tr>\n",
       "      <th>10588</th>\n",
       "      <td>26.915167</td>\n",
       "      <td>3.285358</td>\n",
       "      <td>23.629809</td>\n",
       "    </tr>\n",
       "    <tr>\n",
       "      <th>10590</th>\n",
       "      <td>26.966311</td>\n",
       "      <td>3.265679</td>\n",
       "      <td>23.700631</td>\n",
       "    </tr>\n",
       "  </tbody>\n",
       "</table>\n",
       "</div>"
      ],
      "text/plain": [
       "       actual values  predicted values  differences\n",
       "10563      26.578117          3.281729    23.296389\n",
       "10574      26.578117          3.265955    23.312162\n",
       "10567      26.578117          3.260261    23.317856\n",
       "10571      26.578117          3.238834    23.339284\n",
       "10568      26.851381          3.340498    23.510883\n",
       "10584      26.966311          3.453342    23.512968\n",
       "10575      26.966311          3.361315    23.604995\n",
       "10580      26.915167          3.302663    23.612503\n",
       "10588      26.915167          3.285358    23.629809\n",
       "10590      26.966311          3.265679    23.700631"
      ]
     },
     "execution_count": 129,
     "metadata": {},
     "output_type": "execute_result"
    }
   ],
   "source": [
    "# create dataframe containing actual values, predictions and the differences between them\n",
    "df_scores = get_scores_dataframe(en_model)\n",
    "df_scores.sort_values(by=\"differences\").tail(10)"
   ]
  },
  {
   "cell_type": "markdown",
   "id": "720fce05",
   "metadata": {},
   "source": [
    "<h4><font color=mediumvioletred>Model with SVR </font></h4>"
   ]
  },
  {
   "cell_type": "code",
   "execution_count": 130,
   "id": "dbb51fc5",
   "metadata": {},
   "outputs": [
    {
     "data": {
      "text/plain": [
       "SVR()"
      ]
     },
     "execution_count": 130,
     "metadata": {},
     "output_type": "execute_result"
    }
   ],
   "source": [
    "svr_model = SVR()\n",
    "\n",
    "# fit the model\n",
    "svr_model.fit(X_train, y_train)"
   ]
  },
  {
   "cell_type": "code",
   "execution_count": 131,
   "id": "4662e5df",
   "metadata": {},
   "outputs": [
    {
     "data": {
      "text/plain": [
       "{'Training MAE': 3.9918297186420473, 'Testing MAE': 4.097907296494186}"
      ]
     },
     "execution_count": 131,
     "metadata": {},
     "output_type": "execute_result"
    }
   ],
   "source": [
    "# score model\n",
    "show_scores(svr_model)"
   ]
  },
  {
   "cell_type": "code",
   "execution_count": 132,
   "id": "36e2a796",
   "metadata": {},
   "outputs": [
    {
     "data": {
      "text/html": [
       "<div>\n",
       "<style scoped>\n",
       "    .dataframe tbody tr th:only-of-type {\n",
       "        vertical-align: middle;\n",
       "    }\n",
       "\n",
       "    .dataframe tbody tr th {\n",
       "        vertical-align: top;\n",
       "    }\n",
       "\n",
       "    .dataframe thead th {\n",
       "        text-align: right;\n",
       "    }\n",
       "</style>\n",
       "<table border=\"1\" class=\"dataframe\">\n",
       "  <thead>\n",
       "    <tr style=\"text-align: right;\">\n",
       "      <th></th>\n",
       "      <th>actual values</th>\n",
       "      <th>predicted values</th>\n",
       "      <th>differences</th>\n",
       "    </tr>\n",
       "  </thead>\n",
       "  <tbody>\n",
       "    <tr>\n",
       "      <th>10570</th>\n",
       "      <td>26.476330</td>\n",
       "      <td>8.951844</td>\n",
       "      <td>17.524485</td>\n",
       "    </tr>\n",
       "    <tr>\n",
       "      <th>10581</th>\n",
       "      <td>26.334471</td>\n",
       "      <td>8.809311</td>\n",
       "      <td>17.525160</td>\n",
       "    </tr>\n",
       "    <tr>\n",
       "      <th>10585</th>\n",
       "      <td>26.476330</td>\n",
       "      <td>8.906799</td>\n",
       "      <td>17.569531</td>\n",
       "    </tr>\n",
       "    <tr>\n",
       "      <th>10580</th>\n",
       "      <td>26.915167</td>\n",
       "      <td>9.338078</td>\n",
       "      <td>17.577089</td>\n",
       "    </tr>\n",
       "    <tr>\n",
       "      <th>10568</th>\n",
       "      <td>26.851381</td>\n",
       "      <td>9.089657</td>\n",
       "      <td>17.761724</td>\n",
       "    </tr>\n",
       "    <tr>\n",
       "      <th>7125</th>\n",
       "      <td>25.879469</td>\n",
       "      <td>8.098710</td>\n",
       "      <td>17.780759</td>\n",
       "    </tr>\n",
       "    <tr>\n",
       "      <th>10575</th>\n",
       "      <td>26.966311</td>\n",
       "      <td>8.942436</td>\n",
       "      <td>18.023875</td>\n",
       "    </tr>\n",
       "    <tr>\n",
       "      <th>7095</th>\n",
       "      <td>26.094728</td>\n",
       "      <td>7.697157</td>\n",
       "      <td>18.397572</td>\n",
       "    </tr>\n",
       "    <tr>\n",
       "      <th>10584</th>\n",
       "      <td>26.966311</td>\n",
       "      <td>8.047904</td>\n",
       "      <td>18.918406</td>\n",
       "    </tr>\n",
       "    <tr>\n",
       "      <th>7124</th>\n",
       "      <td>25.879469</td>\n",
       "      <td>6.704156</td>\n",
       "      <td>19.175313</td>\n",
       "    </tr>\n",
       "  </tbody>\n",
       "</table>\n",
       "</div>"
      ],
      "text/plain": [
       "       actual values  predicted values  differences\n",
       "10570      26.476330          8.951844    17.524485\n",
       "10581      26.334471          8.809311    17.525160\n",
       "10585      26.476330          8.906799    17.569531\n",
       "10580      26.915167          9.338078    17.577089\n",
       "10568      26.851381          9.089657    17.761724\n",
       "7125       25.879469          8.098710    17.780759\n",
       "10575      26.966311          8.942436    18.023875\n",
       "7095       26.094728          7.697157    18.397572\n",
       "10584      26.966311          8.047904    18.918406\n",
       "7124       25.879469          6.704156    19.175313"
      ]
     },
     "execution_count": 132,
     "metadata": {},
     "output_type": "execute_result"
    }
   ],
   "source": [
    "# create dataframe containing actual values, predictions and the differences between them\n",
    "df_scores = get_scores_dataframe(svr_model)\n",
    "df_scores.sort_values(by=\"differences\").tail(10)"
   ]
  },
  {
   "cell_type": "markdown",
   "id": "4a09e550",
   "metadata": {},
   "source": [
    "<h4><font color=mediumvioletred>Model with GradientBoostingRegressor </font></h4>"
   ]
  },
  {
   "cell_type": "code",
   "execution_count": 133,
   "id": "feaaadc3",
   "metadata": {},
   "outputs": [
    {
     "data": {
      "text/plain": [
       "GradientBoostingRegressor(max_depth=1, random_state=42)"
      ]
     },
     "execution_count": 133,
     "metadata": {},
     "output_type": "execute_result"
    }
   ],
   "source": [
    "gbr_model = GradientBoostingRegressor(n_estimators=100, \n",
    "                                  learning_rate=0.1, \n",
    "                                  max_depth=1,\n",
    "                                  random_state=42)\n",
    "\n",
    "# fit the model\n",
    "gbr_model.fit(X_train, y_train)"
   ]
  },
  {
   "cell_type": "code",
   "execution_count": 134,
   "id": "e32db749",
   "metadata": {},
   "outputs": [
    {
     "data": {
      "text/plain": [
       "{'Training MAE': 3.082236678594123, 'Testing MAE': 4.221378855126229}"
      ]
     },
     "execution_count": 134,
     "metadata": {},
     "output_type": "execute_result"
    }
   ],
   "source": [
    "# score model\n",
    "show_scores(gbr_model)"
   ]
  },
  {
   "cell_type": "code",
   "execution_count": 135,
   "id": "567c8121",
   "metadata": {},
   "outputs": [
    {
     "data": {
      "text/html": [
       "<div>\n",
       "<style scoped>\n",
       "    .dataframe tbody tr th:only-of-type {\n",
       "        vertical-align: middle;\n",
       "    }\n",
       "\n",
       "    .dataframe tbody tr th {\n",
       "        vertical-align: top;\n",
       "    }\n",
       "\n",
       "    .dataframe thead th {\n",
       "        text-align: right;\n",
       "    }\n",
       "</style>\n",
       "<table border=\"1\" class=\"dataframe\">\n",
       "  <thead>\n",
       "    <tr style=\"text-align: right;\">\n",
       "      <th></th>\n",
       "      <th>actual values</th>\n",
       "      <th>predicted values</th>\n",
       "      <th>differences</th>\n",
       "    </tr>\n",
       "  </thead>\n",
       "  <tbody>\n",
       "    <tr>\n",
       "      <th>10571</th>\n",
       "      <td>26.578117</td>\n",
       "      <td>9.865241</td>\n",
       "      <td>16.712876</td>\n",
       "    </tr>\n",
       "    <tr>\n",
       "      <th>10574</th>\n",
       "      <td>26.578117</td>\n",
       "      <td>9.865241</td>\n",
       "      <td>16.712876</td>\n",
       "    </tr>\n",
       "    <tr>\n",
       "      <th>10563</th>\n",
       "      <td>26.578117</td>\n",
       "      <td>9.865241</td>\n",
       "      <td>16.712876</td>\n",
       "    </tr>\n",
       "    <tr>\n",
       "      <th>10568</th>\n",
       "      <td>26.851381</td>\n",
       "      <td>9.865241</td>\n",
       "      <td>16.986140</td>\n",
       "    </tr>\n",
       "    <tr>\n",
       "      <th>10580</th>\n",
       "      <td>26.915167</td>\n",
       "      <td>9.865241</td>\n",
       "      <td>17.049926</td>\n",
       "    </tr>\n",
       "    <tr>\n",
       "      <th>10588</th>\n",
       "      <td>26.915167</td>\n",
       "      <td>9.865241</td>\n",
       "      <td>17.049926</td>\n",
       "    </tr>\n",
       "    <tr>\n",
       "      <th>10590</th>\n",
       "      <td>26.966311</td>\n",
       "      <td>9.865241</td>\n",
       "      <td>17.101069</td>\n",
       "    </tr>\n",
       "    <tr>\n",
       "      <th>10584</th>\n",
       "      <td>26.966311</td>\n",
       "      <td>9.865241</td>\n",
       "      <td>17.101069</td>\n",
       "    </tr>\n",
       "    <tr>\n",
       "      <th>10575</th>\n",
       "      <td>26.966311</td>\n",
       "      <td>9.865241</td>\n",
       "      <td>17.101069</td>\n",
       "    </tr>\n",
       "    <tr>\n",
       "      <th>10333</th>\n",
       "      <td>26.473959</td>\n",
       "      <td>5.451149</td>\n",
       "      <td>21.022810</td>\n",
       "    </tr>\n",
       "  </tbody>\n",
       "</table>\n",
       "</div>"
      ],
      "text/plain": [
       "       actual values  predicted values  differences\n",
       "10571      26.578117          9.865241    16.712876\n",
       "10574      26.578117          9.865241    16.712876\n",
       "10563      26.578117          9.865241    16.712876\n",
       "10568      26.851381          9.865241    16.986140\n",
       "10580      26.915167          9.865241    17.049926\n",
       "10588      26.915167          9.865241    17.049926\n",
       "10590      26.966311          9.865241    17.101069\n",
       "10584      26.966311          9.865241    17.101069\n",
       "10575      26.966311          9.865241    17.101069\n",
       "10333      26.473959          5.451149    21.022810"
      ]
     },
     "execution_count": 135,
     "metadata": {},
     "output_type": "execute_result"
    }
   ],
   "source": [
    "# create dataframe containing actual values, predictions and the differences between them\n",
    "df_scores = get_scores_dataframe(gbr_model)\n",
    "df_scores.sort_values(by=\"differences\").tail(10)"
   ]
  },
  {
   "cell_type": "markdown",
   "id": "699dcbf2",
   "metadata": {},
   "source": [
    "<h4><font color=mediumvioletred>Conclusion </font></h4>"
   ]
  },
  {
   "cell_type": "markdown",
   "id": "99cb495e",
   "metadata": {},
   "source": [
    "After calculating the MAE (average of the absolute differences between predictions and actual values), we found that the following models had the best predictions:\n",
    "* SVR: 4.097907296494186\n",
    "* GradientBoostingRegressor: 4.221378855126229\n",
    "* RandomForestRegressor: 4.327968551453809"
   ]
  },
  {
   "cell_type": "markdown",
   "id": "b4b15455",
   "metadata": {},
   "source": [
    "<h4><font color=mediumvioletred>Check feature importance</font></h4>\n",
    "\n",
    "Feature importance means which features affected the model the most."
   ]
  },
  {
   "cell_type": "code",
   "execution_count": 136,
   "id": "2db09ae6",
   "metadata": {},
   "outputs": [
    {
     "data": {
      "image/png": "[encoded data removed]",
      "text/plain": [
       "<Figure size 640x480 with 1 Axes>"
      ]
     },
     "metadata": {},
     "output_type": "display_data"
    }
   ],
   "source": [
    "plot_features(X_train.columns, gbr_model.feature_importances_)"
   ]
  },
  {
   "cell_type": "markdown",
   "id": "0493e3ef",
   "metadata": {},
   "source": [
    "<h4><font color=mediumvioletred>Export the best model (SVR)</font></h4>"
   ]
  },
  {
   "cell_type": "code",
   "execution_count": 137,
   "id": "c16a6157",
   "metadata": {},
   "outputs": [],
   "source": [
    "pickle.dump(svr_model, open(\"models/svr_air_quality_prediction_model_replaced_median.pkl\", \"wb\")) # wb = write binary"
   ]
  },
  {
   "cell_type": "markdown",
   "id": "bff503c6",
   "metadata": {},
   "source": [
    "<h3><font color=steelblue>Replace all outliers with IQR</font></h3>"
   ]
  },
  {
   "cell_type": "markdown",
   "id": "8e2ceb20",
   "metadata": {},
   "source": [
    "<h4><font color=mediumvioletred>Read CSV file</font></h4>"
   ]
  },
  {
   "cell_type": "code",
   "execution_count": 138,
   "id": "73a83613",
   "metadata": {},
   "outputs": [
    {
     "data": {
      "text/html": [
       "<div>\n",
       "<style scoped>\n",
       "    .dataframe tbody tr th:only-of-type {\n",
       "        vertical-align: middle;\n",
       "    }\n",
       "\n",
       "    .dataframe tbody tr th {\n",
       "        vertical-align: top;\n",
       "    }\n",
       "\n",
       "    .dataframe thead th {\n",
       "        text-align: right;\n",
       "    }\n",
       "</style>\n",
       "<table border=\"1\" class=\"dataframe\">\n",
       "  <thead>\n",
       "    <tr style=\"text-align: right;\">\n",
       "      <th></th>\n",
       "      <th>PC4</th>\n",
       "      <th>people_number</th>\n",
       "      <th>pm2.5</th>\n",
       "      <th>wd</th>\n",
       "      <th>ws</th>\n",
       "      <th>ssrd</th>\n",
       "      <th>blh</th>\n",
       "      <th>year</th>\n",
       "      <th>month</th>\n",
       "      <th>day</th>\n",
       "      <th>day_of_week</th>\n",
       "      <th>day_of_year</th>\n",
       "    </tr>\n",
       "  </thead>\n",
       "  <tbody>\n",
       "    <tr>\n",
       "      <th>3272</th>\n",
       "      <td>5622</td>\n",
       "      <td>4366.0</td>\n",
       "      <td>17.786657</td>\n",
       "      <td>52.697958</td>\n",
       "      <td>3.807172</td>\n",
       "      <td>52.633746</td>\n",
       "      <td>366.484549</td>\n",
       "      <td>2021</td>\n",
       "      <td>4</td>\n",
       "      <td>10</td>\n",
       "      <td>5</td>\n",
       "      <td>100</td>\n",
       "    </tr>\n",
       "    <tr>\n",
       "      <th>7441</th>\n",
       "      <td>5628</td>\n",
       "      <td>5883.0</td>\n",
       "      <td>4.027476</td>\n",
       "      <td>202.906953</td>\n",
       "      <td>2.925803</td>\n",
       "      <td>172.935767</td>\n",
       "      <td>530.486952</td>\n",
       "      <td>2021</td>\n",
       "      <td>8</td>\n",
       "      <td>14</td>\n",
       "      <td>5</td>\n",
       "      <td>226</td>\n",
       "    </tr>\n",
       "    <tr>\n",
       "      <th>2741</th>\n",
       "      <td>5625</td>\n",
       "      <td>5808.0</td>\n",
       "      <td>22.140205</td>\n",
       "      <td>218.800374</td>\n",
       "      <td>2.966044</td>\n",
       "      <td>77.113732</td>\n",
       "      <td>435.885571</td>\n",
       "      <td>2021</td>\n",
       "      <td>3</td>\n",
       "      <td>25</td>\n",
       "      <td>3</td>\n",
       "      <td>84</td>\n",
       "    </tr>\n",
       "    <tr>\n",
       "      <th>1921</th>\n",
       "      <td>5644</td>\n",
       "      <td>8722.0</td>\n",
       "      <td>15.480242</td>\n",
       "      <td>37.485595</td>\n",
       "      <td>2.733805</td>\n",
       "      <td>95.134208</td>\n",
       "      <td>277.442031</td>\n",
       "      <td>2021</td>\n",
       "      <td>2</td>\n",
       "      <td>28</td>\n",
       "      <td>6</td>\n",
       "      <td>59</td>\n",
       "    </tr>\n",
       "    <tr>\n",
       "      <th>1269</th>\n",
       "      <td>5658</td>\n",
       "      <td>1302.0</td>\n",
       "      <td>9.837329</td>\n",
       "      <td>32.381460</td>\n",
       "      <td>5.756120</td>\n",
       "      <td>45.867133</td>\n",
       "      <td>649.711892</td>\n",
       "      <td>2021</td>\n",
       "      <td>2</td>\n",
       "      <td>8</td>\n",
       "      <td>0</td>\n",
       "      <td>39</td>\n",
       "    </tr>\n",
       "  </tbody>\n",
       "</table>\n",
       "</div>"
      ],
      "text/plain": [
       "       PC4  people_number      pm2.5          wd        ws        ssrd  \\\n",
       "3272  5622         4366.0  17.786657   52.697958  3.807172   52.633746   \n",
       "7441  5628         5883.0   4.027476  202.906953  2.925803  172.935767   \n",
       "2741  5625         5808.0  22.140205  218.800374  2.966044   77.113732   \n",
       "1921  5644         8722.0  15.480242   37.485595  2.733805   95.134208   \n",
       "1269  5658         1302.0   9.837329   32.381460  5.756120   45.867133   \n",
       "\n",
       "             blh  year  month  day  day_of_week  day_of_year  \n",
       "3272  366.484549  2021      4   10            5          100  \n",
       "7441  530.486952  2021      8   14            5          226  \n",
       "2741  435.885571  2021      3   25            3           84  \n",
       "1921  277.442031  2021      2   28            6           59  \n",
       "1269  649.711892  2021      2    8            0           39  "
      ]
     },
     "execution_count": 138,
     "metadata": {},
     "output_type": "execute_result"
    }
   ],
   "source": [
    "# read prepared dataset csv file\n",
    "df_replaced_iqr_outliers = pd.read_csv(\"data/df_replaced_iqr_outliers.csv\")\n",
    "df_replaced_iqr_outliers.sample(5)"
   ]
  },
  {
   "cell_type": "markdown",
   "id": "14730e7c",
   "metadata": {},
   "source": [
    "<h4><font color=mediumvioletred>Get X and y</font></h4>"
   ]
  },
  {
   "cell_type": "code",
   "execution_count": 139,
   "id": "8d4b51e8",
   "metadata": {},
   "outputs": [],
   "source": [
    "X = df_replaced_iqr_outliers.drop(\"pm2.5\", axis=1)\n",
    "y = df_replaced_iqr_outliers[\"pm2.5\"]"
   ]
  },
  {
   "cell_type": "markdown",
   "id": "a60e64c0",
   "metadata": {},
   "source": [
    "<h4><font color=mediumvioletred>Get a sample of X </font></h4>"
   ]
  },
  {
   "cell_type": "code",
   "execution_count": 140,
   "id": "e293ece0",
   "metadata": {},
   "outputs": [
    {
     "data": {
      "text/html": [
       "<div>\n",
       "<style scoped>\n",
       "    .dataframe tbody tr th:only-of-type {\n",
       "        vertical-align: middle;\n",
       "    }\n",
       "\n",
       "    .dataframe tbody tr th {\n",
       "        vertical-align: top;\n",
       "    }\n",
       "\n",
       "    .dataframe thead th {\n",
       "        text-align: right;\n",
       "    }\n",
       "</style>\n",
       "<table border=\"1\" class=\"dataframe\">\n",
       "  <thead>\n",
       "    <tr style=\"text-align: right;\">\n",
       "      <th></th>\n",
       "      <th>PC4</th>\n",
       "      <th>people_number</th>\n",
       "      <th>wd</th>\n",
       "      <th>ws</th>\n",
       "      <th>ssrd</th>\n",
       "      <th>blh</th>\n",
       "      <th>year</th>\n",
       "      <th>month</th>\n",
       "      <th>day</th>\n",
       "      <th>day_of_week</th>\n",
       "      <th>day_of_year</th>\n",
       "    </tr>\n",
       "  </thead>\n",
       "  <tbody>\n",
       "    <tr>\n",
       "      <th>5691</th>\n",
       "      <td>5632</td>\n",
       "      <td>10107.0</td>\n",
       "      <td>63.718056</td>\n",
       "      <td>3.935692</td>\n",
       "      <td>138.415124</td>\n",
       "      <td>742.551411</td>\n",
       "      <td>2021</td>\n",
       "      <td>6</td>\n",
       "      <td>22</td>\n",
       "      <td>1</td>\n",
       "      <td>173</td>\n",
       "    </tr>\n",
       "    <tr>\n",
       "      <th>1916</th>\n",
       "      <td>5628</td>\n",
       "      <td>3584.0</td>\n",
       "      <td>38.444008</td>\n",
       "      <td>2.692608</td>\n",
       "      <td>92.373836</td>\n",
       "      <td>264.331654</td>\n",
       "      <td>2021</td>\n",
       "      <td>2</td>\n",
       "      <td>28</td>\n",
       "      <td>6</td>\n",
       "      <td>59</td>\n",
       "    </tr>\n",
       "    <tr>\n",
       "      <th>2667</th>\n",
       "      <td>5657</td>\n",
       "      <td>11760.0</td>\n",
       "      <td>151.405861</td>\n",
       "      <td>2.388902</td>\n",
       "      <td>79.011872</td>\n",
       "      <td>454.382619</td>\n",
       "      <td>2021</td>\n",
       "      <td>3</td>\n",
       "      <td>22</td>\n",
       "      <td>0</td>\n",
       "      <td>81</td>\n",
       "    </tr>\n",
       "    <tr>\n",
       "      <th>3604</th>\n",
       "      <td>5646</td>\n",
       "      <td>10283.0</td>\n",
       "      <td>120.746010</td>\n",
       "      <td>1.345735</td>\n",
       "      <td>199.208428</td>\n",
       "      <td>398.987000</td>\n",
       "      <td>2021</td>\n",
       "      <td>4</td>\n",
       "      <td>20</td>\n",
       "      <td>1</td>\n",
       "      <td>110</td>\n",
       "    </tr>\n",
       "    <tr>\n",
       "      <th>3701</th>\n",
       "      <td>5632</td>\n",
       "      <td>7570.0</td>\n",
       "      <td>81.893274</td>\n",
       "      <td>2.447550</td>\n",
       "      <td>254.537612</td>\n",
       "      <td>533.781003</td>\n",
       "      <td>2021</td>\n",
       "      <td>4</td>\n",
       "      <td>23</td>\n",
       "      <td>4</td>\n",
       "      <td>113</td>\n",
       "    </tr>\n",
       "  </tbody>\n",
       "</table>\n",
       "</div>"
      ],
      "text/plain": [
       "       PC4  people_number          wd        ws        ssrd         blh  year  \\\n",
       "5691  5632        10107.0   63.718056  3.935692  138.415124  742.551411  2021   \n",
       "1916  5628         3584.0   38.444008  2.692608   92.373836  264.331654  2021   \n",
       "2667  5657        11760.0  151.405861  2.388902   79.011872  454.382619  2021   \n",
       "3604  5646        10283.0  120.746010  1.345735  199.208428  398.987000  2021   \n",
       "3701  5632         7570.0   81.893274  2.447550  254.537612  533.781003  2021   \n",
       "\n",
       "      month  day  day_of_week  day_of_year  \n",
       "5691      6   22            1          173  \n",
       "1916      2   28            6           59  \n",
       "2667      3   22            0           81  \n",
       "3604      4   20            1          110  \n",
       "3701      4   23            4          113  "
      ]
     },
     "execution_count": 140,
     "metadata": {},
     "output_type": "execute_result"
    }
   ],
   "source": [
    "X.sample(5)"
   ]
  },
  {
   "cell_type": "markdown",
   "id": "c8b45cbd",
   "metadata": {},
   "source": [
    "<h4><font color=mediumvioletred>Get a sample of y </font></h4>"
   ]
  },
  {
   "cell_type": "code",
   "execution_count": 141,
   "id": "f2f57993",
   "metadata": {
    "scrolled": true
   },
   "outputs": [
    {
     "data": {
      "text/plain": [
       "10281    11.250231\n",
       "4183     10.857234\n",
       "7541      7.813364\n",
       "2615      9.323104\n",
       "5169      6.301641\n",
       "Name: pm2.5, dtype: float64"
      ]
     },
     "execution_count": 141,
     "metadata": {},
     "output_type": "execute_result"
    }
   ],
   "source": [
    "y.sample(5)"
   ]
  },
  {
   "cell_type": "markdown",
   "id": "c19eb647",
   "metadata": {},
   "source": [
    "<h4><font color=mediumvioletred>Check shape of the dataframe </font></h4>"
   ]
  },
  {
   "cell_type": "code",
   "execution_count": 142,
   "id": "4bb97b10",
   "metadata": {},
   "outputs": [
    {
     "data": {
      "text/plain": [
       "(10626, 12)"
      ]
     },
     "execution_count": 142,
     "metadata": {},
     "output_type": "execute_result"
    }
   ],
   "source": [
    "df_replaced_iqr_outliers.shape"
   ]
  },
  {
   "cell_type": "markdown",
   "id": "3a791f14",
   "metadata": {},
   "source": [
    "<h4><font color=mediumvioletred>Split data into training and testing </font></h4>"
   ]
  },
  {
   "cell_type": "code",
   "execution_count": 143,
   "id": "799e9723",
   "metadata": {},
   "outputs": [
    {
     "data": {
      "text/plain": [
       "(6996, 3630)"
      ]
     },
     "execution_count": 143,
     "metadata": {},
     "output_type": "execute_result"
    }
   ],
   "source": [
    "df_train = df_replaced_iqr_outliers[df_replaced_iqr_outliers.month < 8]\n",
    "df_test = df_replaced_iqr_outliers[df_replaced_iqr_outliers.month >= 8]\n",
    "\n",
    "len(df_train), len(df_test)"
   ]
  },
  {
   "cell_type": "markdown",
   "id": "76d62740",
   "metadata": {},
   "source": [
    "<h4><font color=mediumvioletred>Split data into X & y </font></h4>"
   ]
  },
  {
   "cell_type": "code",
   "execution_count": 144,
   "id": "2fd497db",
   "metadata": {},
   "outputs": [
    {
     "data": {
      "text/plain": [
       "((6996, 11), (6996,), (3630, 11), (3630,))"
      ]
     },
     "execution_count": 144,
     "metadata": {},
     "output_type": "execute_result"
    }
   ],
   "source": [
    "X_train, y_train = df_train.drop(\"pm2.5\", axis=1), df_train[\"pm2.5\"]\n",
    "X_test, y_test = df_test.drop(\"pm2.5\", axis=1), df_test[\"pm2.5\"]\n",
    "\n",
    "X_train.shape, y_train.shape, X_test.shape, y_test.shape"
   ]
  },
  {
   "cell_type": "code",
   "execution_count": 145,
   "id": "86fb11aa",
   "metadata": {},
   "outputs": [
    {
     "data": {
      "text/html": [
       "<div>\n",
       "<style scoped>\n",
       "    .dataframe tbody tr th:only-of-type {\n",
       "        vertical-align: middle;\n",
       "    }\n",
       "\n",
       "    .dataframe tbody tr th {\n",
       "        vertical-align: top;\n",
       "    }\n",
       "\n",
       "    .dataframe thead th {\n",
       "        text-align: right;\n",
       "    }\n",
       "</style>\n",
       "<table border=\"1\" class=\"dataframe\">\n",
       "  <thead>\n",
       "    <tr style=\"text-align: right;\">\n",
       "      <th></th>\n",
       "      <th>PC4</th>\n",
       "      <th>people_number</th>\n",
       "      <th>wd</th>\n",
       "      <th>ws</th>\n",
       "      <th>ssrd</th>\n",
       "      <th>blh</th>\n",
       "      <th>year</th>\n",
       "      <th>month</th>\n",
       "      <th>day</th>\n",
       "      <th>day_of_week</th>\n",
       "      <th>day_of_year</th>\n",
       "    </tr>\n",
       "  </thead>\n",
       "  <tbody>\n",
       "    <tr>\n",
       "      <th>0</th>\n",
       "      <td>5611</td>\n",
       "      <td>6671.0</td>\n",
       "      <td>203.334312</td>\n",
       "      <td>2.886824</td>\n",
       "      <td>35.783607</td>\n",
       "      <td>241.558209</td>\n",
       "      <td>2021</td>\n",
       "      <td>1</td>\n",
       "      <td>1</td>\n",
       "      <td>4</td>\n",
       "      <td>1</td>\n",
       "    </tr>\n",
       "    <tr>\n",
       "      <th>1</th>\n",
       "      <td>5656</td>\n",
       "      <td>9330.0</td>\n",
       "      <td>202.914324</td>\n",
       "      <td>2.885721</td>\n",
       "      <td>36.077402</td>\n",
       "      <td>243.613262</td>\n",
       "      <td>2021</td>\n",
       "      <td>1</td>\n",
       "      <td>1</td>\n",
       "      <td>4</td>\n",
       "      <td>1</td>\n",
       "    </tr>\n",
       "    <tr>\n",
       "      <th>2</th>\n",
       "      <td>5658</td>\n",
       "      <td>1539.0</td>\n",
       "      <td>203.860565</td>\n",
       "      <td>2.900199</td>\n",
       "      <td>35.915225</td>\n",
       "      <td>240.125790</td>\n",
       "      <td>2021</td>\n",
       "      <td>1</td>\n",
       "      <td>1</td>\n",
       "      <td>4</td>\n",
       "      <td>1</td>\n",
       "    </tr>\n",
       "    <tr>\n",
       "      <th>3</th>\n",
       "      <td>5612</td>\n",
       "      <td>5478.0</td>\n",
       "      <td>203.603766</td>\n",
       "      <td>2.890154</td>\n",
       "      <td>35.685987</td>\n",
       "      <td>240.507430</td>\n",
       "      <td>2021</td>\n",
       "      <td>1</td>\n",
       "      <td>1</td>\n",
       "      <td>4</td>\n",
       "      <td>1</td>\n",
       "    </tr>\n",
       "    <tr>\n",
       "      <th>4</th>\n",
       "      <td>5625</td>\n",
       "      <td>3793.0</td>\n",
       "      <td>204.119216</td>\n",
       "      <td>2.896506</td>\n",
       "      <td>35.493932</td>\n",
       "      <td>238.454701</td>\n",
       "      <td>2021</td>\n",
       "      <td>1</td>\n",
       "      <td>1</td>\n",
       "      <td>4</td>\n",
       "      <td>1</td>\n",
       "    </tr>\n",
       "  </tbody>\n",
       "</table>\n",
       "</div>"
      ],
      "text/plain": [
       "    PC4  people_number          wd        ws       ssrd         blh  year  \\\n",
       "0  5611         6671.0  203.334312  2.886824  35.783607  241.558209  2021   \n",
       "1  5656         9330.0  202.914324  2.885721  36.077402  243.613262  2021   \n",
       "2  5658         1539.0  203.860565  2.900199  35.915225  240.125790  2021   \n",
       "3  5612         5478.0  203.603766  2.890154  35.685987  240.507430  2021   \n",
       "4  5625         3793.0  204.119216  2.896506  35.493932  238.454701  2021   \n",
       "\n",
       "   month  day  day_of_week  day_of_year  \n",
       "0      1    1            4            1  \n",
       "1      1    1            4            1  \n",
       "2      1    1            4            1  \n",
       "3      1    1            4            1  \n",
       "4      1    1            4            1  "
      ]
     },
     "execution_count": 145,
     "metadata": {},
     "output_type": "execute_result"
    }
   ],
   "source": [
    "X_train.head()"
   ]
  },
  {
   "cell_type": "markdown",
   "id": "35ce5874",
   "metadata": {},
   "source": [
    "<h4><font color=mediumvioletred>Model with RandomForestRegressor </font></h4>"
   ]
  },
  {
   "cell_type": "code",
   "execution_count": 146,
   "id": "06fe83a5",
   "metadata": {},
   "outputs": [
    {
     "data": {
      "text/plain": [
       "RandomForestRegressor(n_jobs=-1, random_state=42)"
      ]
     },
     "execution_count": 146,
     "metadata": {},
     "output_type": "execute_result"
    }
   ],
   "source": [
    "rf_model = RandomForestRegressor(n_jobs=-1,\n",
    "                             random_state=42)\n",
    "\n",
    "# fit the model\n",
    "rf_model.fit(X_train, y_train)"
   ]
  },
  {
   "cell_type": "code",
   "execution_count": 147,
   "id": "eebc854f",
   "metadata": {},
   "outputs": [
    {
     "data": {
      "text/plain": [
       "{'Training MAE': 0.03503734465613962, 'Testing MAE': 5.39585424948297}"
      ]
     },
     "execution_count": 147,
     "metadata": {},
     "output_type": "execute_result"
    }
   ],
   "source": [
    "# score model\n",
    "show_scores(rf_model)"
   ]
  },
  {
   "cell_type": "code",
   "execution_count": 148,
   "id": "1e3d7412",
   "metadata": {},
   "outputs": [
    {
     "data": {
      "text/html": [
       "<div>\n",
       "<style scoped>\n",
       "    .dataframe tbody tr th:only-of-type {\n",
       "        vertical-align: middle;\n",
       "    }\n",
       "\n",
       "    .dataframe tbody tr th {\n",
       "        vertical-align: top;\n",
       "    }\n",
       "\n",
       "    .dataframe thead th {\n",
       "        text-align: right;\n",
       "    }\n",
       "</style>\n",
       "<table border=\"1\" class=\"dataframe\">\n",
       "  <thead>\n",
       "    <tr style=\"text-align: right;\">\n",
       "      <th></th>\n",
       "      <th>actual values</th>\n",
       "      <th>predicted values</th>\n",
       "      <th>differences</th>\n",
       "    </tr>\n",
       "  </thead>\n",
       "  <tbody>\n",
       "    <tr>\n",
       "      <th>10557</th>\n",
       "      <td>29.985672</td>\n",
       "      <td>8.521763</td>\n",
       "      <td>21.463909</td>\n",
       "    </tr>\n",
       "    <tr>\n",
       "      <th>10537</th>\n",
       "      <td>29.985672</td>\n",
       "      <td>8.518593</td>\n",
       "      <td>21.467079</td>\n",
       "    </tr>\n",
       "    <tr>\n",
       "      <th>10545</th>\n",
       "      <td>29.985672</td>\n",
       "      <td>8.514904</td>\n",
       "      <td>21.470768</td>\n",
       "    </tr>\n",
       "    <tr>\n",
       "      <th>10529</th>\n",
       "      <td>29.985672</td>\n",
       "      <td>8.508220</td>\n",
       "      <td>21.477452</td>\n",
       "    </tr>\n",
       "    <tr>\n",
       "      <th>10549</th>\n",
       "      <td>29.985672</td>\n",
       "      <td>8.498606</td>\n",
       "      <td>21.487066</td>\n",
       "    </tr>\n",
       "    <tr>\n",
       "      <th>10558</th>\n",
       "      <td>29.985672</td>\n",
       "      <td>8.498487</td>\n",
       "      <td>21.487184</td>\n",
       "    </tr>\n",
       "    <tr>\n",
       "      <th>10539</th>\n",
       "      <td>29.985672</td>\n",
       "      <td>8.493875</td>\n",
       "      <td>21.491797</td>\n",
       "    </tr>\n",
       "    <tr>\n",
       "      <th>10528</th>\n",
       "      <td>29.985672</td>\n",
       "      <td>8.492649</td>\n",
       "      <td>21.493023</td>\n",
       "    </tr>\n",
       "    <tr>\n",
       "      <th>10550</th>\n",
       "      <td>29.985672</td>\n",
       "      <td>8.487547</td>\n",
       "      <td>21.498125</td>\n",
       "    </tr>\n",
       "    <tr>\n",
       "      <th>10559</th>\n",
       "      <td>29.985672</td>\n",
       "      <td>8.487327</td>\n",
       "      <td>21.498345</td>\n",
       "    </tr>\n",
       "  </tbody>\n",
       "</table>\n",
       "</div>"
      ],
      "text/plain": [
       "       actual values  predicted values  differences\n",
       "10557      29.985672          8.521763    21.463909\n",
       "10537      29.985672          8.518593    21.467079\n",
       "10545      29.985672          8.514904    21.470768\n",
       "10529      29.985672          8.508220    21.477452\n",
       "10549      29.985672          8.498606    21.487066\n",
       "10558      29.985672          8.498487    21.487184\n",
       "10539      29.985672          8.493875    21.491797\n",
       "10528      29.985672          8.492649    21.493023\n",
       "10550      29.985672          8.487547    21.498125\n",
       "10559      29.985672          8.487327    21.498345"
      ]
     },
     "execution_count": 148,
     "metadata": {},
     "output_type": "execute_result"
    }
   ],
   "source": [
    "# create dataframe containing actual values, predictions and the differences between them\n",
    "df_scores = get_scores_dataframe(rf_model)\n",
    "df_scores.sort_values(by=\"differences\").tail(10)"
   ]
  },
  {
   "cell_type": "markdown",
   "id": "6e9a31d2",
   "metadata": {},
   "source": [
    "<h4><font color=mediumvioletred>Model with SGDClassifier </font></h4>"
   ]
  },
  {
   "cell_type": "code",
   "execution_count": 149,
   "id": "141a638d",
   "metadata": {},
   "outputs": [
    {
     "data": {
      "text/plain": [
       "SGDClassifier(n_jobs=-1, random_state=42)"
      ]
     },
     "execution_count": 149,
     "metadata": {},
     "output_type": "execute_result"
    }
   ],
   "source": [
    "sgd_model = SGDClassifier(n_jobs=-1,\n",
    "                        random_state=42)\n",
    "\n",
    "# fit the model\n",
    "sgd_model.fit(X_train, y_train.astype(int))"
   ]
  },
  {
   "cell_type": "code",
   "execution_count": 150,
   "id": "8d6a5a65",
   "metadata": {},
   "outputs": [
    {
     "data": {
      "text/plain": [
       "{'Training MAE': 5.173199011861699, 'Testing MAE': 6.651697058520041}"
      ]
     },
     "execution_count": 150,
     "metadata": {},
     "output_type": "execute_result"
    }
   ],
   "source": [
    "# score model\n",
    "show_scores(sgd_model)"
   ]
  },
  {
   "cell_type": "code",
   "execution_count": 151,
   "id": "a2fafcec",
   "metadata": {},
   "outputs": [
    {
     "data": {
      "text/html": [
       "<div>\n",
       "<style scoped>\n",
       "    .dataframe tbody tr th:only-of-type {\n",
       "        vertical-align: middle;\n",
       "    }\n",
       "\n",
       "    .dataframe tbody tr th {\n",
       "        vertical-align: top;\n",
       "    }\n",
       "\n",
       "    .dataframe thead th {\n",
       "        text-align: right;\n",
       "    }\n",
       "</style>\n",
       "<table border=\"1\" class=\"dataframe\">\n",
       "  <thead>\n",
       "    <tr style=\"text-align: right;\">\n",
       "      <th></th>\n",
       "      <th>actual values</th>\n",
       "      <th>predicted values</th>\n",
       "      <th>differences</th>\n",
       "    </tr>\n",
       "  </thead>\n",
       "  <tbody>\n",
       "    <tr>\n",
       "      <th>10553</th>\n",
       "      <td>29.985672</td>\n",
       "      <td>3</td>\n",
       "      <td>26.985672</td>\n",
       "    </tr>\n",
       "    <tr>\n",
       "      <th>10552</th>\n",
       "      <td>29.985672</td>\n",
       "      <td>3</td>\n",
       "      <td>26.985672</td>\n",
       "    </tr>\n",
       "    <tr>\n",
       "      <th>10551</th>\n",
       "      <td>29.985672</td>\n",
       "      <td>3</td>\n",
       "      <td>26.985672</td>\n",
       "    </tr>\n",
       "    <tr>\n",
       "      <th>10550</th>\n",
       "      <td>29.985672</td>\n",
       "      <td>3</td>\n",
       "      <td>26.985672</td>\n",
       "    </tr>\n",
       "    <tr>\n",
       "      <th>10549</th>\n",
       "      <td>29.985672</td>\n",
       "      <td>3</td>\n",
       "      <td>26.985672</td>\n",
       "    </tr>\n",
       "    <tr>\n",
       "      <th>10483</th>\n",
       "      <td>29.730927</td>\n",
       "      <td>2</td>\n",
       "      <td>27.730927</td>\n",
       "    </tr>\n",
       "    <tr>\n",
       "      <th>10519</th>\n",
       "      <td>29.985672</td>\n",
       "      <td>2</td>\n",
       "      <td>27.985672</td>\n",
       "    </tr>\n",
       "    <tr>\n",
       "      <th>10504</th>\n",
       "      <td>29.985672</td>\n",
       "      <td>2</td>\n",
       "      <td>27.985672</td>\n",
       "    </tr>\n",
       "    <tr>\n",
       "      <th>10493</th>\n",
       "      <td>29.985672</td>\n",
       "      <td>2</td>\n",
       "      <td>27.985672</td>\n",
       "    </tr>\n",
       "    <tr>\n",
       "      <th>10506</th>\n",
       "      <td>29.985672</td>\n",
       "      <td>2</td>\n",
       "      <td>27.985672</td>\n",
       "    </tr>\n",
       "  </tbody>\n",
       "</table>\n",
       "</div>"
      ],
      "text/plain": [
       "       actual values  predicted values  differences\n",
       "10553      29.985672                 3    26.985672\n",
       "10552      29.985672                 3    26.985672\n",
       "10551      29.985672                 3    26.985672\n",
       "10550      29.985672                 3    26.985672\n",
       "10549      29.985672                 3    26.985672\n",
       "10483      29.730927                 2    27.730927\n",
       "10519      29.985672                 2    27.985672\n",
       "10504      29.985672                 2    27.985672\n",
       "10493      29.985672                 2    27.985672\n",
       "10506      29.985672                 2    27.985672"
      ]
     },
     "execution_count": 151,
     "metadata": {},
     "output_type": "execute_result"
    }
   ],
   "source": [
    "# create dataframe containing actual values, predictions and the differences between them\n",
    "df_scores = get_scores_dataframe(sgd_model)\n",
    "df_scores.sort_values(by=\"differences\").tail(10)"
   ]
  },
  {
   "cell_type": "markdown",
   "id": "ba9fbe17",
   "metadata": {},
   "source": [
    "<h4><font color=mediumvioletred>Model with BayesianRidge </font></h4>"
   ]
  },
  {
   "cell_type": "code",
   "execution_count": 152,
   "id": "b73b91e8",
   "metadata": {},
   "outputs": [
    {
     "data": {
      "text/plain": [
       "BayesianRidge()"
      ]
     },
     "execution_count": 152,
     "metadata": {},
     "output_type": "execute_result"
    }
   ],
   "source": [
    "br_model = BayesianRidge()\n",
    "\n",
    "# fit the model\n",
    "br_model.fit(X_train, y_train)"
   ]
  },
  {
   "cell_type": "code",
   "execution_count": 153,
   "id": "73528600",
   "metadata": {},
   "outputs": [
    {
     "data": {
      "text/plain": [
       "{'Training MAE': 3.9248136901350974, 'Testing MAE': 10.747735099699833}"
      ]
     },
     "execution_count": 153,
     "metadata": {},
     "output_type": "execute_result"
    }
   ],
   "source": [
    "# score model\n",
    "show_scores(br_model)"
   ]
  },
  {
   "cell_type": "code",
   "execution_count": 154,
   "id": "758b9d62",
   "metadata": {},
   "outputs": [
    {
     "data": {
      "text/html": [
       "<div>\n",
       "<style scoped>\n",
       "    .dataframe tbody tr th:only-of-type {\n",
       "        vertical-align: middle;\n",
       "    }\n",
       "\n",
       "    .dataframe tbody tr th {\n",
       "        vertical-align: top;\n",
       "    }\n",
       "\n",
       "    .dataframe thead th {\n",
       "        text-align: right;\n",
       "    }\n",
       "</style>\n",
       "<table border=\"1\" class=\"dataframe\">\n",
       "  <thead>\n",
       "    <tr style=\"text-align: right;\">\n",
       "      <th></th>\n",
       "      <th>actual values</th>\n",
       "      <th>predicted values</th>\n",
       "      <th>differences</th>\n",
       "    </tr>\n",
       "  </thead>\n",
       "  <tbody>\n",
       "    <tr>\n",
       "      <th>10482</th>\n",
       "      <td>29.985672</td>\n",
       "      <td>-4.251525</td>\n",
       "      <td>34.237196</td>\n",
       "    </tr>\n",
       "    <tr>\n",
       "      <th>10464</th>\n",
       "      <td>29.985672</td>\n",
       "      <td>-4.251972</td>\n",
       "      <td>34.237644</td>\n",
       "    </tr>\n",
       "    <tr>\n",
       "      <th>10473</th>\n",
       "      <td>29.985672</td>\n",
       "      <td>-4.259146</td>\n",
       "      <td>34.244818</td>\n",
       "    </tr>\n",
       "    <tr>\n",
       "      <th>10486</th>\n",
       "      <td>29.985672</td>\n",
       "      <td>-4.262777</td>\n",
       "      <td>34.248448</td>\n",
       "    </tr>\n",
       "    <tr>\n",
       "      <th>10493</th>\n",
       "      <td>29.985672</td>\n",
       "      <td>-4.268555</td>\n",
       "      <td>34.254226</td>\n",
       "    </tr>\n",
       "    <tr>\n",
       "      <th>10484</th>\n",
       "      <td>29.985672</td>\n",
       "      <td>-4.269651</td>\n",
       "      <td>34.255323</td>\n",
       "    </tr>\n",
       "    <tr>\n",
       "      <th>10468</th>\n",
       "      <td>29.985672</td>\n",
       "      <td>-4.271847</td>\n",
       "      <td>34.257519</td>\n",
       "    </tr>\n",
       "    <tr>\n",
       "      <th>10475</th>\n",
       "      <td>29.985672</td>\n",
       "      <td>-4.283540</td>\n",
       "      <td>34.269212</td>\n",
       "    </tr>\n",
       "    <tr>\n",
       "      <th>10481</th>\n",
       "      <td>29.985672</td>\n",
       "      <td>-4.294504</td>\n",
       "      <td>34.280176</td>\n",
       "    </tr>\n",
       "    <tr>\n",
       "      <th>10469</th>\n",
       "      <td>29.985672</td>\n",
       "      <td>-4.297539</td>\n",
       "      <td>34.283210</td>\n",
       "    </tr>\n",
       "  </tbody>\n",
       "</table>\n",
       "</div>"
      ],
      "text/plain": [
       "       actual values  predicted values  differences\n",
       "10482      29.985672         -4.251525    34.237196\n",
       "10464      29.985672         -4.251972    34.237644\n",
       "10473      29.985672         -4.259146    34.244818\n",
       "10486      29.985672         -4.262777    34.248448\n",
       "10493      29.985672         -4.268555    34.254226\n",
       "10484      29.985672         -4.269651    34.255323\n",
       "10468      29.985672         -4.271847    34.257519\n",
       "10475      29.985672         -4.283540    34.269212\n",
       "10481      29.985672         -4.294504    34.280176\n",
       "10469      29.985672         -4.297539    34.283210"
      ]
     },
     "execution_count": 154,
     "metadata": {},
     "output_type": "execute_result"
    }
   ],
   "source": [
    "# create dataframe containing actual values, predictions and the differences between them\n",
    "df_scores = get_scores_dataframe(br_model)\n",
    "df_scores.sort_values(by=\"differences\").tail(10)"
   ]
  },
  {
   "cell_type": "markdown",
   "id": "f5264b33",
   "metadata": {},
   "source": [
    "<h4><font color=mediumvioletred>Model with Lasso </font></h4>"
   ]
  },
  {
   "cell_type": "code",
   "execution_count": 155,
   "id": "6300c0ec",
   "metadata": {},
   "outputs": [
    {
     "data": {
      "text/plain": [
       "LassoLars(alpha=0.1, normalize=False, random_state=42)"
      ]
     },
     "execution_count": 155,
     "metadata": {},
     "output_type": "execute_result"
    }
   ],
   "source": [
    "lasso_model = LassoLars(alpha=.1, \n",
    "                  normalize=False,\n",
    "                  random_state=42)\n",
    "\n",
    "# fit the model\n",
    "lasso_model.fit(X_train, y_train)"
   ]
  },
  {
   "cell_type": "code",
   "execution_count": 156,
   "id": "10b1d606",
   "metadata": {},
   "outputs": [
    {
     "data": {
      "text/plain": [
       "{'Training MAE': 4.127102080258668, 'Testing MAE': 8.104427981340725}"
      ]
     },
     "execution_count": 156,
     "metadata": {},
     "output_type": "execute_result"
    }
   ],
   "source": [
    "# score model\n",
    "show_scores(lasso_model)"
   ]
  },
  {
   "cell_type": "code",
   "execution_count": 157,
   "id": "6cd781f6",
   "metadata": {},
   "outputs": [
    {
     "data": {
      "text/html": [
       "<div>\n",
       "<style scoped>\n",
       "    .dataframe tbody tr th:only-of-type {\n",
       "        vertical-align: middle;\n",
       "    }\n",
       "\n",
       "    .dataframe tbody tr th {\n",
       "        vertical-align: top;\n",
       "    }\n",
       "\n",
       "    .dataframe thead th {\n",
       "        text-align: right;\n",
       "    }\n",
       "</style>\n",
       "<table border=\"1\" class=\"dataframe\">\n",
       "  <thead>\n",
       "    <tr style=\"text-align: right;\">\n",
       "      <th></th>\n",
       "      <th>actual values</th>\n",
       "      <th>predicted values</th>\n",
       "      <th>differences</th>\n",
       "    </tr>\n",
       "  </thead>\n",
       "  <tbody>\n",
       "    <tr>\n",
       "      <th>10491</th>\n",
       "      <td>29.985672</td>\n",
       "      <td>0.083067</td>\n",
       "      <td>29.902605</td>\n",
       "    </tr>\n",
       "    <tr>\n",
       "      <th>10493</th>\n",
       "      <td>29.985672</td>\n",
       "      <td>0.079193</td>\n",
       "      <td>29.906479</td>\n",
       "    </tr>\n",
       "    <tr>\n",
       "      <th>10478</th>\n",
       "      <td>29.985672</td>\n",
       "      <td>0.073539</td>\n",
       "      <td>29.912133</td>\n",
       "    </tr>\n",
       "    <tr>\n",
       "      <th>10481</th>\n",
       "      <td>29.985672</td>\n",
       "      <td>0.060048</td>\n",
       "      <td>29.925624</td>\n",
       "    </tr>\n",
       "    <tr>\n",
       "      <th>10486</th>\n",
       "      <td>29.985672</td>\n",
       "      <td>0.054437</td>\n",
       "      <td>29.931235</td>\n",
       "    </tr>\n",
       "    <tr>\n",
       "      <th>10468</th>\n",
       "      <td>29.985672</td>\n",
       "      <td>0.052024</td>\n",
       "      <td>29.933648</td>\n",
       "    </tr>\n",
       "    <tr>\n",
       "      <th>10482</th>\n",
       "      <td>29.985672</td>\n",
       "      <td>0.050895</td>\n",
       "      <td>29.934777</td>\n",
       "    </tr>\n",
       "    <tr>\n",
       "      <th>10475</th>\n",
       "      <td>29.985672</td>\n",
       "      <td>0.044410</td>\n",
       "      <td>29.941262</td>\n",
       "    </tr>\n",
       "    <tr>\n",
       "      <th>10484</th>\n",
       "      <td>29.985672</td>\n",
       "      <td>0.031590</td>\n",
       "      <td>29.954082</td>\n",
       "    </tr>\n",
       "    <tr>\n",
       "      <th>10469</th>\n",
       "      <td>29.985672</td>\n",
       "      <td>0.026524</td>\n",
       "      <td>29.959148</td>\n",
       "    </tr>\n",
       "  </tbody>\n",
       "</table>\n",
       "</div>"
      ],
      "text/plain": [
       "       actual values  predicted values  differences\n",
       "10491      29.985672          0.083067    29.902605\n",
       "10493      29.985672          0.079193    29.906479\n",
       "10478      29.985672          0.073539    29.912133\n",
       "10481      29.985672          0.060048    29.925624\n",
       "10486      29.985672          0.054437    29.931235\n",
       "10468      29.985672          0.052024    29.933648\n",
       "10482      29.985672          0.050895    29.934777\n",
       "10475      29.985672          0.044410    29.941262\n",
       "10484      29.985672          0.031590    29.954082\n",
       "10469      29.985672          0.026524    29.959148"
      ]
     },
     "execution_count": 157,
     "metadata": {},
     "output_type": "execute_result"
    }
   ],
   "source": [
    "# create dataframe containing actual values, predictions and the differences between them\n",
    "df_scores = get_scores_dataframe(lasso_model)\n",
    "df_scores.sort_values(by=\"differences\").tail(10)"
   ]
  },
  {
   "cell_type": "markdown",
   "id": "4a8663ea",
   "metadata": {},
   "source": [
    "<h4><font color=mediumvioletred>Model with ElasticNet </font></h4>"
   ]
  },
  {
   "cell_type": "code",
   "execution_count": 158,
   "id": "75b5aa1b",
   "metadata": {},
   "outputs": [
    {
     "data": {
      "text/plain": [
       "ElasticNet(random_state=42)"
      ]
     },
     "execution_count": 158,
     "metadata": {},
     "output_type": "execute_result"
    }
   ],
   "source": [
    "en_model = ElasticNet(random_state=42)\n",
    "\n",
    "# fit the model\n",
    "en_model.fit(X_train, y_train)"
   ]
  },
  {
   "cell_type": "code",
   "execution_count": 159,
   "id": "b8e2f7f7",
   "metadata": {},
   "outputs": [
    {
     "data": {
      "text/plain": [
       "{'Training MAE': 4.118360307820273, 'Testing MAE': 8.002683402928158}"
      ]
     },
     "execution_count": 159,
     "metadata": {},
     "output_type": "execute_result"
    }
   ],
   "source": [
    "# score model\n",
    "show_scores(en_model)"
   ]
  },
  {
   "cell_type": "code",
   "execution_count": 160,
   "id": "837c369e",
   "metadata": {},
   "outputs": [
    {
     "data": {
      "text/html": [
       "<div>\n",
       "<style scoped>\n",
       "    .dataframe tbody tr th:only-of-type {\n",
       "        vertical-align: middle;\n",
       "    }\n",
       "\n",
       "    .dataframe tbody tr th {\n",
       "        vertical-align: top;\n",
       "    }\n",
       "\n",
       "    .dataframe thead th {\n",
       "        text-align: right;\n",
       "    }\n",
       "</style>\n",
       "<table border=\"1\" class=\"dataframe\">\n",
       "  <thead>\n",
       "    <tr style=\"text-align: right;\">\n",
       "      <th></th>\n",
       "      <th>actual values</th>\n",
       "      <th>predicted values</th>\n",
       "      <th>differences</th>\n",
       "    </tr>\n",
       "  </thead>\n",
       "  <tbody>\n",
       "    <tr>\n",
       "      <th>10481</th>\n",
       "      <td>29.985672</td>\n",
       "      <td>0.567991</td>\n",
       "      <td>29.417681</td>\n",
       "    </tr>\n",
       "    <tr>\n",
       "      <th>10463</th>\n",
       "      <td>29.985672</td>\n",
       "      <td>0.566675</td>\n",
       "      <td>29.418997</td>\n",
       "    </tr>\n",
       "    <tr>\n",
       "      <th>10478</th>\n",
       "      <td>29.985672</td>\n",
       "      <td>0.560308</td>\n",
       "      <td>29.425364</td>\n",
       "    </tr>\n",
       "    <tr>\n",
       "      <th>10485</th>\n",
       "      <td>29.985672</td>\n",
       "      <td>0.551125</td>\n",
       "      <td>29.434547</td>\n",
       "    </tr>\n",
       "    <tr>\n",
       "      <th>10468</th>\n",
       "      <td>29.985672</td>\n",
       "      <td>0.544480</td>\n",
       "      <td>29.441191</td>\n",
       "    </tr>\n",
       "    <tr>\n",
       "      <th>10486</th>\n",
       "      <td>29.985672</td>\n",
       "      <td>0.541522</td>\n",
       "      <td>29.444149</td>\n",
       "    </tr>\n",
       "    <tr>\n",
       "      <th>10475</th>\n",
       "      <td>29.985672</td>\n",
       "      <td>0.537129</td>\n",
       "      <td>29.448543</td>\n",
       "    </tr>\n",
       "    <tr>\n",
       "      <th>10482</th>\n",
       "      <td>29.985672</td>\n",
       "      <td>0.528711</td>\n",
       "      <td>29.456960</td>\n",
       "    </tr>\n",
       "    <tr>\n",
       "      <th>10469</th>\n",
       "      <td>29.985672</td>\n",
       "      <td>0.515557</td>\n",
       "      <td>29.470114</td>\n",
       "    </tr>\n",
       "    <tr>\n",
       "      <th>10484</th>\n",
       "      <td>29.985672</td>\n",
       "      <td>0.507355</td>\n",
       "      <td>29.478316</td>\n",
       "    </tr>\n",
       "  </tbody>\n",
       "</table>\n",
       "</div>"
      ],
      "text/plain": [
       "       actual values  predicted values  differences\n",
       "10481      29.985672          0.567991    29.417681\n",
       "10463      29.985672          0.566675    29.418997\n",
       "10478      29.985672          0.560308    29.425364\n",
       "10485      29.985672          0.551125    29.434547\n",
       "10468      29.985672          0.544480    29.441191\n",
       "10486      29.985672          0.541522    29.444149\n",
       "10475      29.985672          0.537129    29.448543\n",
       "10482      29.985672          0.528711    29.456960\n",
       "10469      29.985672          0.515557    29.470114\n",
       "10484      29.985672          0.507355    29.478316"
      ]
     },
     "execution_count": 160,
     "metadata": {},
     "output_type": "execute_result"
    }
   ],
   "source": [
    "# create dataframe containing actual values, predictions and the differences between them\n",
    "df_scores = get_scores_dataframe(en_model)\n",
    "df_scores.sort_values(by=\"differences\").tail(10)"
   ]
  },
  {
   "cell_type": "markdown",
   "id": "195a22a6",
   "metadata": {},
   "source": [
    "<h4><font color=mediumvioletred>Model with SVR </font></h4>"
   ]
  },
  {
   "cell_type": "code",
   "execution_count": 161,
   "id": "67a969a4",
   "metadata": {},
   "outputs": [
    {
     "data": {
      "text/plain": [
       "SVR()"
      ]
     },
     "execution_count": 161,
     "metadata": {},
     "output_type": "execute_result"
    }
   ],
   "source": [
    "svr_model = SVR()\n",
    "\n",
    "# fit the model\n",
    "svr_model.fit(X_train, y_train)"
   ]
  },
  {
   "cell_type": "code",
   "execution_count": 162,
   "id": "60654bd1",
   "metadata": {},
   "outputs": [
    {
     "data": {
      "text/plain": [
       "{'Training MAE': 4.84351971793446, 'Testing MAE': 5.072962909507303}"
      ]
     },
     "execution_count": 162,
     "metadata": {},
     "output_type": "execute_result"
    }
   ],
   "source": [
    "# score model\n",
    "show_scores(svr_model)"
   ]
  },
  {
   "cell_type": "code",
   "execution_count": 163,
   "id": "34bf9539",
   "metadata": {},
   "outputs": [
    {
     "data": {
      "text/html": [
       "<div>\n",
       "<style scoped>\n",
       "    .dataframe tbody tr th:only-of-type {\n",
       "        vertical-align: middle;\n",
       "    }\n",
       "\n",
       "    .dataframe tbody tr th {\n",
       "        vertical-align: top;\n",
       "    }\n",
       "\n",
       "    .dataframe thead th {\n",
       "        text-align: right;\n",
       "    }\n",
       "</style>\n",
       "<table border=\"1\" class=\"dataframe\">\n",
       "  <thead>\n",
       "    <tr style=\"text-align: right;\">\n",
       "      <th></th>\n",
       "      <th>actual values</th>\n",
       "      <th>predicted values</th>\n",
       "      <th>differences</th>\n",
       "    </tr>\n",
       "  </thead>\n",
       "  <tbody>\n",
       "    <tr>\n",
       "      <th>9321</th>\n",
       "      <td>29.985672</td>\n",
       "      <td>7.999013</td>\n",
       "      <td>21.986659</td>\n",
       "    </tr>\n",
       "    <tr>\n",
       "      <th>9330</th>\n",
       "      <td>29.985672</td>\n",
       "      <td>7.996477</td>\n",
       "      <td>21.989194</td>\n",
       "    </tr>\n",
       "    <tr>\n",
       "      <th>9329</th>\n",
       "      <td>29.714216</td>\n",
       "      <td>7.660242</td>\n",
       "      <td>22.053974</td>\n",
       "    </tr>\n",
       "    <tr>\n",
       "      <th>10501</th>\n",
       "      <td>29.985672</td>\n",
       "      <td>7.814236</td>\n",
       "      <td>22.171435</td>\n",
       "    </tr>\n",
       "    <tr>\n",
       "      <th>10427</th>\n",
       "      <td>29.985672</td>\n",
       "      <td>7.801954</td>\n",
       "      <td>22.183717</td>\n",
       "    </tr>\n",
       "    <tr>\n",
       "      <th>9324</th>\n",
       "      <td>29.985672</td>\n",
       "      <td>7.498804</td>\n",
       "      <td>22.486868</td>\n",
       "    </tr>\n",
       "    <tr>\n",
       "      <th>9314</th>\n",
       "      <td>29.985672</td>\n",
       "      <td>7.462084</td>\n",
       "      <td>22.523588</td>\n",
       "    </tr>\n",
       "    <tr>\n",
       "      <th>10398</th>\n",
       "      <td>29.985672</td>\n",
       "      <td>7.342495</td>\n",
       "      <td>22.643177</td>\n",
       "    </tr>\n",
       "    <tr>\n",
       "      <th>10410</th>\n",
       "      <td>29.985672</td>\n",
       "      <td>7.336938</td>\n",
       "      <td>22.648734</td>\n",
       "    </tr>\n",
       "    <tr>\n",
       "      <th>10473</th>\n",
       "      <td>29.985672</td>\n",
       "      <td>7.139846</td>\n",
       "      <td>22.845826</td>\n",
       "    </tr>\n",
       "  </tbody>\n",
       "</table>\n",
       "</div>"
      ],
      "text/plain": [
       "       actual values  predicted values  differences\n",
       "9321       29.985672          7.999013    21.986659\n",
       "9330       29.985672          7.996477    21.989194\n",
       "9329       29.714216          7.660242    22.053974\n",
       "10501      29.985672          7.814236    22.171435\n",
       "10427      29.985672          7.801954    22.183717\n",
       "9324       29.985672          7.498804    22.486868\n",
       "9314       29.985672          7.462084    22.523588\n",
       "10398      29.985672          7.342495    22.643177\n",
       "10410      29.985672          7.336938    22.648734\n",
       "10473      29.985672          7.139846    22.845826"
      ]
     },
     "execution_count": 163,
     "metadata": {},
     "output_type": "execute_result"
    }
   ],
   "source": [
    "# create dataframe containing actual values, predictions and the differences between them\n",
    "df_scores = get_scores_dataframe(svr_model)\n",
    "df_scores.sort_values(by=\"differences\").tail(10)"
   ]
  },
  {
   "cell_type": "markdown",
   "id": "3a5eb700",
   "metadata": {},
   "source": [
    "<h4><font color=mediumvioletred>Model with GradientBoostingRegressor </font></h4>"
   ]
  },
  {
   "cell_type": "code",
   "execution_count": 164,
   "id": "3bfc3dd2",
   "metadata": {},
   "outputs": [
    {
     "data": {
      "text/plain": [
       "GradientBoostingRegressor(max_depth=1, random_state=42)"
      ]
     },
     "execution_count": 164,
     "metadata": {},
     "output_type": "execute_result"
    }
   ],
   "source": [
    "gbr_model = GradientBoostingRegressor(n_estimators=100, \n",
    "                                  learning_rate=0.1, \n",
    "                                  max_depth=1,\n",
    "                                  random_state=42)\n",
    "\n",
    "# fit the model\n",
    "gbr_model.fit(X_train, y_train)"
   ]
  },
  {
   "cell_type": "code",
   "execution_count": 165,
   "id": "45d44353",
   "metadata": {},
   "outputs": [
    {
     "data": {
      "text/plain": [
       "{'Training MAE': 3.3402946957555257, 'Testing MAE': 4.2895217898243505}"
      ]
     },
     "execution_count": 165,
     "metadata": {},
     "output_type": "execute_result"
    }
   ],
   "source": [
    "# score model\n",
    "show_scores(gbr_model)"
   ]
  },
  {
   "cell_type": "code",
   "execution_count": 166,
   "id": "ffc7d969",
   "metadata": {},
   "outputs": [
    {
     "data": {
      "text/html": [
       "<div>\n",
       "<style scoped>\n",
       "    .dataframe tbody tr th:only-of-type {\n",
       "        vertical-align: middle;\n",
       "    }\n",
       "\n",
       "    .dataframe tbody tr th {\n",
       "        vertical-align: top;\n",
       "    }\n",
       "\n",
       "    .dataframe thead th {\n",
       "        text-align: right;\n",
       "    }\n",
       "</style>\n",
       "<table border=\"1\" class=\"dataframe\">\n",
       "  <thead>\n",
       "    <tr style=\"text-align: right;\">\n",
       "      <th></th>\n",
       "      <th>actual values</th>\n",
       "      <th>predicted values</th>\n",
       "      <th>differences</th>\n",
       "    </tr>\n",
       "  </thead>\n",
       "  <tbody>\n",
       "    <tr>\n",
       "      <th>10411</th>\n",
       "      <td>29.985672</td>\n",
       "      <td>10.260183</td>\n",
       "      <td>19.725488</td>\n",
       "    </tr>\n",
       "    <tr>\n",
       "      <th>10421</th>\n",
       "      <td>29.985672</td>\n",
       "      <td>10.260183</td>\n",
       "      <td>19.725488</td>\n",
       "    </tr>\n",
       "    <tr>\n",
       "      <th>10419</th>\n",
       "      <td>29.985672</td>\n",
       "      <td>10.260183</td>\n",
       "      <td>19.725488</td>\n",
       "    </tr>\n",
       "    <tr>\n",
       "      <th>10418</th>\n",
       "      <td>29.985672</td>\n",
       "      <td>10.260183</td>\n",
       "      <td>19.725488</td>\n",
       "    </tr>\n",
       "    <tr>\n",
       "      <th>10417</th>\n",
       "      <td>29.985672</td>\n",
       "      <td>10.260183</td>\n",
       "      <td>19.725488</td>\n",
       "    </tr>\n",
       "    <tr>\n",
       "      <th>10416</th>\n",
       "      <td>29.985672</td>\n",
       "      <td>10.260183</td>\n",
       "      <td>19.725488</td>\n",
       "    </tr>\n",
       "    <tr>\n",
       "      <th>10415</th>\n",
       "      <td>29.985672</td>\n",
       "      <td>10.260183</td>\n",
       "      <td>19.725488</td>\n",
       "    </tr>\n",
       "    <tr>\n",
       "      <th>10414</th>\n",
       "      <td>29.985672</td>\n",
       "      <td>10.260183</td>\n",
       "      <td>19.725488</td>\n",
       "    </tr>\n",
       "    <tr>\n",
       "      <th>10420</th>\n",
       "      <td>29.985672</td>\n",
       "      <td>10.260183</td>\n",
       "      <td>19.725488</td>\n",
       "    </tr>\n",
       "    <tr>\n",
       "      <th>10397</th>\n",
       "      <td>29.985672</td>\n",
       "      <td>10.260183</td>\n",
       "      <td>19.725488</td>\n",
       "    </tr>\n",
       "  </tbody>\n",
       "</table>\n",
       "</div>"
      ],
      "text/plain": [
       "       actual values  predicted values  differences\n",
       "10411      29.985672         10.260183    19.725488\n",
       "10421      29.985672         10.260183    19.725488\n",
       "10419      29.985672         10.260183    19.725488\n",
       "10418      29.985672         10.260183    19.725488\n",
       "10417      29.985672         10.260183    19.725488\n",
       "10416      29.985672         10.260183    19.725488\n",
       "10415      29.985672         10.260183    19.725488\n",
       "10414      29.985672         10.260183    19.725488\n",
       "10420      29.985672         10.260183    19.725488\n",
       "10397      29.985672         10.260183    19.725488"
      ]
     },
     "execution_count": 166,
     "metadata": {},
     "output_type": "execute_result"
    }
   ],
   "source": [
    "# create dataframe containing actual values, predictions and the differences between them\n",
    "df_scores = get_scores_dataframe(gbr_model)\n",
    "df_scores.sort_values(by=\"differences\").tail(10)"
   ]
  },
  {
   "cell_type": "markdown",
   "id": "cda824b9",
   "metadata": {},
   "source": [
    "<h4><font color=mediumvioletred>Conclusion </font></h4>"
   ]
  },
  {
   "cell_type": "markdown",
   "id": "1a58611c",
   "metadata": {},
   "source": [
    "After calculating the MAE (average of the absolute differences between predictions and actual values), we found that the following model had the best predictions:\n",
    "* GradientBoostingRegressor: 4.2895217898243505"
   ]
  },
  {
   "cell_type": "markdown",
   "id": "71574408",
   "metadata": {},
   "source": [
    "<h4><font color=mediumvioletred>Check feature importance</font></h4>\n",
    "\n",
    "Feature importance means which features affected the model the most."
   ]
  },
  {
   "cell_type": "code",
   "execution_count": 167,
   "id": "26d23d07",
   "metadata": {},
   "outputs": [
    {
     "data": {
      "image/png": "[encoded data removed]",
      "text/plain": [
       "<Figure size 640x480 with 1 Axes>"
      ]
     },
     "metadata": {},
     "output_type": "display_data"
    }
   ],
   "source": [
    "plot_features(X_train.columns, gbr_model.feature_importances_)"
   ]
  },
  {
   "cell_type": "markdown",
   "id": "c428aa3a",
   "metadata": {},
   "source": [
    "<h4><font color=mediumvioletred>Export the best model (GradientBoostingRegressor)</font></h4>"
   ]
  },
  {
   "cell_type": "code",
   "execution_count": 168,
   "id": "fb31d356",
   "metadata": {},
   "outputs": [],
   "source": [
    "pickle.dump(gbr_model, open(\"models/gbr_air_quality_prediction_model_replaced_iqr.pkl\", \"wb\")) # wb = write binary"
   ]
  },
  {
   "cell_type": "markdown",
   "id": "5ebfa5dd",
   "metadata": {},
   "source": [
    "<h2><font color=slateblue>Modelling using weekly data after handling outliers</font></h2>\n",
    "\n",
    "\n",
    "[Outliers Handling notebook](http://localhost:8888/notebooks/outliers_handling.ipynb)"
   ]
  },
  {
   "cell_type": "markdown",
   "id": "1a2ad11a",
   "metadata": {},
   "source": [
    "<h3><font color=steelblue>Replace all outliers with IQR</font></h3>"
   ]
  },
  {
   "cell_type": "markdown",
   "id": "89fc9cc4",
   "metadata": {},
   "source": [
    "<h4><font color=mediumvioletred>Read CSV file</font></h4>"
   ]
  },
  {
   "cell_type": "code",
   "execution_count": 169,
   "id": "1a252eae",
   "metadata": {},
   "outputs": [
    {
     "data": {
      "text/html": [
       "<div>\n",
       "<style scoped>\n",
       "    .dataframe tbody tr th:only-of-type {\n",
       "        vertical-align: middle;\n",
       "    }\n",
       "\n",
       "    .dataframe tbody tr th {\n",
       "        vertical-align: top;\n",
       "    }\n",
       "\n",
       "    .dataframe thead th {\n",
       "        text-align: right;\n",
       "    }\n",
       "</style>\n",
       "<table border=\"1\" class=\"dataframe\">\n",
       "  <thead>\n",
       "    <tr style=\"text-align: right;\">\n",
       "      <th></th>\n",
       "      <th>Unnamed: 0</th>\n",
       "      <th>PC4</th>\n",
       "      <th>week_number</th>\n",
       "      <th>pm2.5</th>\n",
       "      <th>wd</th>\n",
       "      <th>ws</th>\n",
       "      <th>ssrd</th>\n",
       "      <th>blh</th>\n",
       "      <th>people_number</th>\n",
       "      <th>season</th>\n",
       "    </tr>\n",
       "  </thead>\n",
       "  <tbody>\n",
       "    <tr>\n",
       "      <th>366</th>\n",
       "      <td>366</td>\n",
       "      <td>5621</td>\n",
       "      <td>38</td>\n",
       "      <td>12.646434</td>\n",
       "      <td>184.272732</td>\n",
       "      <td>2.924660</td>\n",
       "      <td>121.369573</td>\n",
       "      <td>449.448644</td>\n",
       "      <td>74466.0</td>\n",
       "      <td>2</td>\n",
       "    </tr>\n",
       "    <tr>\n",
       "      <th>954</th>\n",
       "      <td>954</td>\n",
       "      <td>5642</td>\n",
       "      <td>15</td>\n",
       "      <td>10.011511</td>\n",
       "      <td>110.002359</td>\n",
       "      <td>2.672656</td>\n",
       "      <td>210.449448</td>\n",
       "      <td>637.579861</td>\n",
       "      <td>27384.0</td>\n",
       "      <td>1</td>\n",
       "    </tr>\n",
       "    <tr>\n",
       "      <th>1172</th>\n",
       "      <td>1172</td>\n",
       "      <td>5646</td>\n",
       "      <td>45</td>\n",
       "      <td>24.980290</td>\n",
       "      <td>209.273812</td>\n",
       "      <td>2.659403</td>\n",
       "      <td>43.504693</td>\n",
       "      <td>245.792852</td>\n",
       "      <td>70044.0</td>\n",
       "      <td>3</td>\n",
       "    </tr>\n",
       "    <tr>\n",
       "      <th>1166</th>\n",
       "      <td>1166</td>\n",
       "      <td>5646</td>\n",
       "      <td>39</td>\n",
       "      <td>5.676794</td>\n",
       "      <td>244.494583</td>\n",
       "      <td>4.724451</td>\n",
       "      <td>77.794262</td>\n",
       "      <td>702.801381</td>\n",
       "      <td>91523.0</td>\n",
       "      <td>3</td>\n",
       "    </tr>\n",
       "    <tr>\n",
       "      <th>599</th>\n",
       "      <td>599</td>\n",
       "      <td>5626</td>\n",
       "      <td>36</td>\n",
       "      <td>13.760325</td>\n",
       "      <td>220.249560</td>\n",
       "      <td>2.564304</td>\n",
       "      <td>155.015357</td>\n",
       "      <td>350.174406</td>\n",
       "      <td>99214.0</td>\n",
       "      <td>2</td>\n",
       "    </tr>\n",
       "  </tbody>\n",
       "</table>\n",
       "</div>"
      ],
      "text/plain": [
       "      Unnamed: 0   PC4  week_number      pm2.5          wd        ws  \\\n",
       "366          366  5621           38  12.646434  184.272732  2.924660   \n",
       "954          954  5642           15  10.011511  110.002359  2.672656   \n",
       "1172        1172  5646           45  24.980290  209.273812  2.659403   \n",
       "1166        1166  5646           39   5.676794  244.494583  4.724451   \n",
       "599          599  5626           36  13.760325  220.249560  2.564304   \n",
       "\n",
       "            ssrd         blh  people_number  season  \n",
       "366   121.369573  449.448644        74466.0       2  \n",
       "954   210.449448  637.579861        27384.0       1  \n",
       "1172   43.504693  245.792852        70044.0       3  \n",
       "1166   77.794262  702.801381        91523.0       3  \n",
       "599   155.015357  350.174406        99214.0       2  "
      ]
     },
     "execution_count": 169,
     "metadata": {},
     "output_type": "execute_result"
    }
   ],
   "source": [
    "# read prepared dataset csv file\n",
    "df_replaced_iqr_outliers_weekly = pd.read_csv(\"data/df_replaced_iqr_outliers_weekly.csv\")\n",
    "df_replaced_iqr_outliers_weekly.sample(5)"
   ]
  },
  {
   "cell_type": "markdown",
   "id": "b9035fbc",
   "metadata": {},
   "source": [
    "<h4><font color=mediumvioletred>Get X and y</font></h4>"
   ]
  },
  {
   "cell_type": "code",
   "execution_count": 170,
   "id": "473a9489",
   "metadata": {},
   "outputs": [],
   "source": [
    "X = df_replaced_iqr_outliers_weekly.drop(\"pm2.5\", axis=1)\n",
    "y = df_replaced_iqr_outliers_weekly[\"pm2.5\"]"
   ]
  },
  {
   "cell_type": "markdown",
   "id": "1a02a930",
   "metadata": {},
   "source": [
    "<h4><font color=mediumvioletred>Get a sample of X </font></h4>"
   ]
  },
  {
   "cell_type": "code",
   "execution_count": 171,
   "id": "6b957e20",
   "metadata": {},
   "outputs": [
    {
     "data": {
      "text/html": [
       "<div>\n",
       "<style scoped>\n",
       "    .dataframe tbody tr th:only-of-type {\n",
       "        vertical-align: middle;\n",
       "    }\n",
       "\n",
       "    .dataframe tbody tr th {\n",
       "        vertical-align: top;\n",
       "    }\n",
       "\n",
       "    .dataframe thead th {\n",
       "        text-align: right;\n",
       "    }\n",
       "</style>\n",
       "<table border=\"1\" class=\"dataframe\">\n",
       "  <thead>\n",
       "    <tr style=\"text-align: right;\">\n",
       "      <th></th>\n",
       "      <th>Unnamed: 0</th>\n",
       "      <th>PC4</th>\n",
       "      <th>week_number</th>\n",
       "      <th>wd</th>\n",
       "      <th>ws</th>\n",
       "      <th>ssrd</th>\n",
       "      <th>blh</th>\n",
       "      <th>people_number</th>\n",
       "      <th>season</th>\n",
       "    </tr>\n",
       "  </thead>\n",
       "  <tbody>\n",
       "    <tr>\n",
       "      <th>638</th>\n",
       "      <td>638</td>\n",
       "      <td>5627</td>\n",
       "      <td>28</td>\n",
       "      <td>123.864873</td>\n",
       "      <td>3.487379</td>\n",
       "      <td>164.529764</td>\n",
       "      <td>507.039452</td>\n",
       "      <td>78633.00</td>\n",
       "      <td>2</td>\n",
       "    </tr>\n",
       "    <tr>\n",
       "      <th>221</th>\n",
       "      <td>221</td>\n",
       "      <td>5615</td>\n",
       "      <td>34</td>\n",
       "      <td>94.011656</td>\n",
       "      <td>3.764394</td>\n",
       "      <td>153.706513</td>\n",
       "      <td>664.189097</td>\n",
       "      <td>53295.00</td>\n",
       "      <td>2</td>\n",
       "    </tr>\n",
       "    <tr>\n",
       "      <th>19</th>\n",
       "      <td>19</td>\n",
       "      <td>5611</td>\n",
       "      <td>20</td>\n",
       "      <td>212.898096</td>\n",
       "      <td>4.731675</td>\n",
       "      <td>183.473445</td>\n",
       "      <td>884.003478</td>\n",
       "      <td>144309.75</td>\n",
       "      <td>1</td>\n",
       "    </tr>\n",
       "    <tr>\n",
       "      <th>1069</th>\n",
       "      <td>1069</td>\n",
       "      <td>5644</td>\n",
       "      <td>36</td>\n",
       "      <td>217.307660</td>\n",
       "      <td>2.544233</td>\n",
       "      <td>155.154366</td>\n",
       "      <td>358.979098</td>\n",
       "      <td>88311.00</td>\n",
       "      <td>2</td>\n",
       "    </tr>\n",
       "    <tr>\n",
       "      <th>586</th>\n",
       "      <td>586</td>\n",
       "      <td>5626</td>\n",
       "      <td>23</td>\n",
       "      <td>126.444496</td>\n",
       "      <td>2.365929</td>\n",
       "      <td>278.669007</td>\n",
       "      <td>635.172543</td>\n",
       "      <td>98454.00</td>\n",
       "      <td>1</td>\n",
       "    </tr>\n",
       "  </tbody>\n",
       "</table>\n",
       "</div>"
      ],
      "text/plain": [
       "      Unnamed: 0   PC4  week_number          wd        ws        ssrd  \\\n",
       "638          638  5627           28  123.864873  3.487379  164.529764   \n",
       "221          221  5615           34   94.011656  3.764394  153.706513   \n",
       "19            19  5611           20  212.898096  4.731675  183.473445   \n",
       "1069        1069  5644           36  217.307660  2.544233  155.154366   \n",
       "586          586  5626           23  126.444496  2.365929  278.669007   \n",
       "\n",
       "             blh  people_number  season  \n",
       "638   507.039452       78633.00       2  \n",
       "221   664.189097       53295.00       2  \n",
       "19    884.003478      144309.75       1  \n",
       "1069  358.979098       88311.00       2  \n",
       "586   635.172543       98454.00       1  "
      ]
     },
     "execution_count": 171,
     "metadata": {},
     "output_type": "execute_result"
    }
   ],
   "source": [
    "X.sample(5)"
   ]
  },
  {
   "cell_type": "markdown",
   "id": "5e7189d2",
   "metadata": {},
   "source": [
    "<h4><font color=mediumvioletred>Get a sample of y </font></h4>"
   ]
  },
  {
   "cell_type": "code",
   "execution_count": 172,
   "id": "cf1dbd6d",
   "metadata": {
    "scrolled": true
   },
   "outputs": [
    {
     "data": {
      "text/plain": [
       "1256     9.658720\n",
       "1291     5.184319\n",
       "1051     8.602022\n",
       "6       11.750731\n",
       "686      4.808475\n",
       "Name: pm2.5, dtype: float64"
      ]
     },
     "execution_count": 172,
     "metadata": {},
     "output_type": "execute_result"
    }
   ],
   "source": [
    "y.sample(5)"
   ]
  },
  {
   "cell_type": "markdown",
   "id": "aa033893",
   "metadata": {},
   "source": [
    "<h4><font color=mediumvioletred>Check shape of the dataframe </font></h4>"
   ]
  },
  {
   "cell_type": "code",
   "execution_count": 173,
   "id": "433c0452",
   "metadata": {},
   "outputs": [
    {
     "data": {
      "text/plain": [
       "(1551, 10)"
      ]
     },
     "execution_count": 173,
     "metadata": {},
     "output_type": "execute_result"
    }
   ],
   "source": [
    "df_replaced_iqr_outliers_weekly.shape"
   ]
  },
  {
   "cell_type": "markdown",
   "id": "ddac324b",
   "metadata": {},
   "source": [
    "<h4><font color=mediumvioletred>Split data into training and testing </font></h4>"
   ]
  },
  {
   "cell_type": "code",
   "execution_count": 174,
   "id": "03225b53",
   "metadata": {},
   "outputs": [
    {
     "data": {
      "text/plain": [
       "(1221, 330)"
      ]
     },
     "execution_count": 174,
     "metadata": {},
     "output_type": "execute_result"
    }
   ],
   "source": [
    "df_train = df_replaced_iqr_outliers_weekly[df_replaced_iqr_outliers_weekly.week_number < 38]\n",
    "df_test = df_replaced_iqr_outliers_weekly[df_replaced_iqr_outliers_weekly.week_number >= 38]\n",
    "\n",
    "len(df_train), len(df_test)"
   ]
  },
  {
   "cell_type": "markdown",
   "id": "6c97db36",
   "metadata": {},
   "source": [
    "<h4><font color=mediumvioletred>Split data into X & y </font></h4>"
   ]
  },
  {
   "cell_type": "code",
   "execution_count": 175,
   "id": "56f7682b",
   "metadata": {},
   "outputs": [
    {
     "data": {
      "text/plain": [
       "((1221, 9), (1221,), (330, 9), (330,))"
      ]
     },
     "execution_count": 175,
     "metadata": {},
     "output_type": "execute_result"
    }
   ],
   "source": [
    "X_train, y_train = df_train.drop(\"pm2.5\", axis=1), df_train[\"pm2.5\"]\n",
    "X_test, y_test = df_test.drop(\"pm2.5\", axis=1), df_test[\"pm2.5\"]\n",
    "\n",
    "X_train.shape, y_train.shape, X_test.shape, y_test.shape"
   ]
  },
  {
   "cell_type": "code",
   "execution_count": 176,
   "id": "57a899e0",
   "metadata": {},
   "outputs": [
    {
     "data": {
      "text/html": [
       "<div>\n",
       "<style scoped>\n",
       "    .dataframe tbody tr th:only-of-type {\n",
       "        vertical-align: middle;\n",
       "    }\n",
       "\n",
       "    .dataframe tbody tr th {\n",
       "        vertical-align: top;\n",
       "    }\n",
       "\n",
       "    .dataframe thead th {\n",
       "        text-align: right;\n",
       "    }\n",
       "</style>\n",
       "<table border=\"1\" class=\"dataframe\">\n",
       "  <thead>\n",
       "    <tr style=\"text-align: right;\">\n",
       "      <th></th>\n",
       "      <th>Unnamed: 0</th>\n",
       "      <th>PC4</th>\n",
       "      <th>week_number</th>\n",
       "      <th>wd</th>\n",
       "      <th>ws</th>\n",
       "      <th>ssrd</th>\n",
       "      <th>blh</th>\n",
       "      <th>people_number</th>\n",
       "      <th>season</th>\n",
       "    </tr>\n",
       "  </thead>\n",
       "  <tbody>\n",
       "    <tr>\n",
       "      <th>0</th>\n",
       "      <td>0</td>\n",
       "      <td>5611</td>\n",
       "      <td>1</td>\n",
       "      <td>123.293868</td>\n",
       "      <td>3.169226</td>\n",
       "      <td>21.003068</td>\n",
       "      <td>380.154143</td>\n",
       "      <td>56363.0</td>\n",
       "      <td>4</td>\n",
       "    </tr>\n",
       "    <tr>\n",
       "      <th>1</th>\n",
       "      <td>1</td>\n",
       "      <td>5611</td>\n",
       "      <td>2</td>\n",
       "      <td>170.959204</td>\n",
       "      <td>3.947350</td>\n",
       "      <td>28.768378</td>\n",
       "      <td>514.523046</td>\n",
       "      <td>46168.0</td>\n",
       "      <td>4</td>\n",
       "    </tr>\n",
       "    <tr>\n",
       "      <th>2</th>\n",
       "      <td>2</td>\n",
       "      <td>5611</td>\n",
       "      <td>3</td>\n",
       "      <td>226.749867</td>\n",
       "      <td>5.545059</td>\n",
       "      <td>31.376184</td>\n",
       "      <td>743.564144</td>\n",
       "      <td>43290.0</td>\n",
       "      <td>4</td>\n",
       "    </tr>\n",
       "    <tr>\n",
       "      <th>3</th>\n",
       "      <td>3</td>\n",
       "      <td>5611</td>\n",
       "      <td>4</td>\n",
       "      <td>179.247086</td>\n",
       "      <td>4.212432</td>\n",
       "      <td>36.637785</td>\n",
       "      <td>508.880534</td>\n",
       "      <td>37026.0</td>\n",
       "      <td>4</td>\n",
       "    </tr>\n",
       "    <tr>\n",
       "      <th>4</th>\n",
       "      <td>4</td>\n",
       "      <td>5611</td>\n",
       "      <td>5</td>\n",
       "      <td>176.705833</td>\n",
       "      <td>3.939258</td>\n",
       "      <td>27.139008</td>\n",
       "      <td>397.774059</td>\n",
       "      <td>32090.0</td>\n",
       "      <td>4</td>\n",
       "    </tr>\n",
       "  </tbody>\n",
       "</table>\n",
       "</div>"
      ],
      "text/plain": [
       "   Unnamed: 0   PC4  week_number          wd        ws       ssrd         blh  \\\n",
       "0           0  5611            1  123.293868  3.169226  21.003068  380.154143   \n",
       "1           1  5611            2  170.959204  3.947350  28.768378  514.523046   \n",
       "2           2  5611            3  226.749867  5.545059  31.376184  743.564144   \n",
       "3           3  5611            4  179.247086  4.212432  36.637785  508.880534   \n",
       "4           4  5611            5  176.705833  3.939258  27.139008  397.774059   \n",
       "\n",
       "   people_number  season  \n",
       "0        56363.0       4  \n",
       "1        46168.0       4  \n",
       "2        43290.0       4  \n",
       "3        37026.0       4  \n",
       "4        32090.0       4  "
      ]
     },
     "execution_count": 176,
     "metadata": {},
     "output_type": "execute_result"
    }
   ],
   "source": [
    "X_train.head()"
   ]
  },
  {
   "cell_type": "markdown",
   "id": "c30ea2a3",
   "metadata": {},
   "source": [
    "<h4><font color=mediumvioletred>Model with RandomForestRegressor </font></h4>"
   ]
  },
  {
   "cell_type": "code",
   "execution_count": 177,
   "id": "1700ecd7",
   "metadata": {},
   "outputs": [
    {
     "data": {
      "text/plain": [
       "RandomForestRegressor(n_jobs=-1, random_state=42)"
      ]
     },
     "execution_count": 177,
     "metadata": {},
     "output_type": "execute_result"
    }
   ],
   "source": [
    "rf_model = RandomForestRegressor(n_jobs=-1,\n",
    "                             random_state=42)\n",
    "\n",
    "# fit the model\n",
    "rf_model.fit(X_train, y_train)"
   ]
  },
  {
   "cell_type": "code",
   "execution_count": 178,
   "id": "be5c98dd",
   "metadata": {},
   "outputs": [
    {
     "data": {
      "text/plain": [
       "{'Training MAE': 0.023287286925096445, 'Testing MAE': 4.311823313460197}"
      ]
     },
     "execution_count": 178,
     "metadata": {},
     "output_type": "execute_result"
    }
   ],
   "source": [
    "# score model\n",
    "show_scores(rf_model)"
   ]
  },
  {
   "cell_type": "code",
   "execution_count": 179,
   "id": "7f4c1066",
   "metadata": {},
   "outputs": [
    {
     "data": {
      "text/html": [
       "<div>\n",
       "<style scoped>\n",
       "    .dataframe tbody tr th:only-of-type {\n",
       "        vertical-align: middle;\n",
       "    }\n",
       "\n",
       "    .dataframe tbody tr th {\n",
       "        vertical-align: top;\n",
       "    }\n",
       "\n",
       "    .dataframe thead th {\n",
       "        text-align: right;\n",
       "    }\n",
       "</style>\n",
       "<table border=\"1\" class=\"dataframe\">\n",
       "  <thead>\n",
       "    <tr style=\"text-align: right;\">\n",
       "      <th></th>\n",
       "      <th>actual values</th>\n",
       "      <th>predicted values</th>\n",
       "      <th>differences</th>\n",
       "    </tr>\n",
       "  </thead>\n",
       "  <tbody>\n",
       "    <tr>\n",
       "      <th>187</th>\n",
       "      <td>24.98029</td>\n",
       "      <td>14.349965</td>\n",
       "      <td>10.630325</td>\n",
       "    </tr>\n",
       "    <tr>\n",
       "      <th>93</th>\n",
       "      <td>24.98029</td>\n",
       "      <td>14.349965</td>\n",
       "      <td>10.630325</td>\n",
       "    </tr>\n",
       "    <tr>\n",
       "      <th>281</th>\n",
       "      <td>24.98029</td>\n",
       "      <td>14.349965</td>\n",
       "      <td>10.630325</td>\n",
       "    </tr>\n",
       "    <tr>\n",
       "      <th>46</th>\n",
       "      <td>24.98029</td>\n",
       "      <td>14.348555</td>\n",
       "      <td>10.631735</td>\n",
       "    </tr>\n",
       "    <tr>\n",
       "      <th>45</th>\n",
       "      <td>24.98029</td>\n",
       "      <td>14.347987</td>\n",
       "      <td>10.632303</td>\n",
       "    </tr>\n",
       "    <tr>\n",
       "      <th>92</th>\n",
       "      <td>24.98029</td>\n",
       "      <td>14.347987</td>\n",
       "      <td>10.632303</td>\n",
       "    </tr>\n",
       "    <tr>\n",
       "      <th>280</th>\n",
       "      <td>24.98029</td>\n",
       "      <td>14.345390</td>\n",
       "      <td>10.634900</td>\n",
       "    </tr>\n",
       "    <tr>\n",
       "      <th>233</th>\n",
       "      <td>24.98029</td>\n",
       "      <td>14.345390</td>\n",
       "      <td>10.634900</td>\n",
       "    </tr>\n",
       "    <tr>\n",
       "      <th>186</th>\n",
       "      <td>24.98029</td>\n",
       "      <td>14.345390</td>\n",
       "      <td>10.634900</td>\n",
       "    </tr>\n",
       "    <tr>\n",
       "      <th>139</th>\n",
       "      <td>24.98029</td>\n",
       "      <td>14.344609</td>\n",
       "      <td>10.635681</td>\n",
       "    </tr>\n",
       "  </tbody>\n",
       "</table>\n",
       "</div>"
      ],
      "text/plain": [
       "     actual values  predicted values  differences\n",
       "187       24.98029         14.349965    10.630325\n",
       "93        24.98029         14.349965    10.630325\n",
       "281       24.98029         14.349965    10.630325\n",
       "46        24.98029         14.348555    10.631735\n",
       "45        24.98029         14.347987    10.632303\n",
       "92        24.98029         14.347987    10.632303\n",
       "280       24.98029         14.345390    10.634900\n",
       "233       24.98029         14.345390    10.634900\n",
       "186       24.98029         14.345390    10.634900\n",
       "139       24.98029         14.344609    10.635681"
      ]
     },
     "execution_count": 179,
     "metadata": {},
     "output_type": "execute_result"
    }
   ],
   "source": [
    "# create dataframe containing actual values, predictions and the differences between them\n",
    "df_scores = get_scores_dataframe(rf_model)\n",
    "df_scores.sort_values(by=\"differences\").tail(10)"
   ]
  },
  {
   "cell_type": "markdown",
   "id": "672dd4d9",
   "metadata": {},
   "source": [
    "<h4><font color=mediumvioletred>Model with SGDClassifier </font></h4>"
   ]
  },
  {
   "cell_type": "code",
   "execution_count": 180,
   "id": "c9e6aaea",
   "metadata": {},
   "outputs": [
    {
     "data": {
      "text/plain": [
       "SGDClassifier(n_jobs=-1, random_state=42)"
      ]
     },
     "execution_count": 180,
     "metadata": {},
     "output_type": "execute_result"
    }
   ],
   "source": [
    "sgd_model = SGDClassifier(n_jobs=-1,\n",
    "                        random_state=42)\n",
    "\n",
    "# fit the model\n",
    "sgd_model.fit(X_train, y_train.astype(int))"
   ]
  },
  {
   "cell_type": "code",
   "execution_count": 181,
   "id": "261c6f48",
   "metadata": {},
   "outputs": [
    {
     "data": {
      "text/plain": [
       "{'Training MAE': 5.526574604215853, 'Testing MAE': 9.135800901584286}"
      ]
     },
     "execution_count": 181,
     "metadata": {},
     "output_type": "execute_result"
    }
   ],
   "source": [
    "# score model\n",
    "show_scores(sgd_model)"
   ]
  },
  {
   "cell_type": "code",
   "execution_count": 182,
   "id": "01e58d50",
   "metadata": {},
   "outputs": [
    {
     "data": {
      "text/html": [
       "<div>\n",
       "<style scoped>\n",
       "    .dataframe tbody tr th:only-of-type {\n",
       "        vertical-align: middle;\n",
       "    }\n",
       "\n",
       "    .dataframe tbody tr th {\n",
       "        vertical-align: top;\n",
       "    }\n",
       "\n",
       "    .dataframe thead th {\n",
       "        text-align: right;\n",
       "    }\n",
       "</style>\n",
       "<table border=\"1\" class=\"dataframe\">\n",
       "  <thead>\n",
       "    <tr style=\"text-align: right;\">\n",
       "      <th></th>\n",
       "      <th>actual values</th>\n",
       "      <th>predicted values</th>\n",
       "      <th>differences</th>\n",
       "    </tr>\n",
       "  </thead>\n",
       "  <tbody>\n",
       "    <tr>\n",
       "      <th>138</th>\n",
       "      <td>24.98029</td>\n",
       "      <td>4</td>\n",
       "      <td>20.98029</td>\n",
       "    </tr>\n",
       "    <tr>\n",
       "      <th>749</th>\n",
       "      <td>24.98029</td>\n",
       "      <td>4</td>\n",
       "      <td>20.98029</td>\n",
       "    </tr>\n",
       "    <tr>\n",
       "      <th>1172</th>\n",
       "      <td>24.98029</td>\n",
       "      <td>4</td>\n",
       "      <td>20.98029</td>\n",
       "    </tr>\n",
       "    <tr>\n",
       "      <th>796</th>\n",
       "      <td>24.98029</td>\n",
       "      <td>4</td>\n",
       "      <td>20.98029</td>\n",
       "    </tr>\n",
       "    <tr>\n",
       "      <th>91</th>\n",
       "      <td>24.98029</td>\n",
       "      <td>4</td>\n",
       "      <td>20.98029</td>\n",
       "    </tr>\n",
       "    <tr>\n",
       "      <th>609</th>\n",
       "      <td>24.98029</td>\n",
       "      <td>4</td>\n",
       "      <td>20.98029</td>\n",
       "    </tr>\n",
       "    <tr>\n",
       "      <th>608</th>\n",
       "      <td>24.98029</td>\n",
       "      <td>4</td>\n",
       "      <td>20.98029</td>\n",
       "    </tr>\n",
       "    <tr>\n",
       "      <th>1454</th>\n",
       "      <td>24.98029</td>\n",
       "      <td>4</td>\n",
       "      <td>20.98029</td>\n",
       "    </tr>\n",
       "    <tr>\n",
       "      <th>1078</th>\n",
       "      <td>24.98029</td>\n",
       "      <td>4</td>\n",
       "      <td>20.98029</td>\n",
       "    </tr>\n",
       "    <tr>\n",
       "      <th>279</th>\n",
       "      <td>24.98029</td>\n",
       "      <td>4</td>\n",
       "      <td>20.98029</td>\n",
       "    </tr>\n",
       "  </tbody>\n",
       "</table>\n",
       "</div>"
      ],
      "text/plain": [
       "      actual values  predicted values  differences\n",
       "138        24.98029                 4     20.98029\n",
       "749        24.98029                 4     20.98029\n",
       "1172       24.98029                 4     20.98029\n",
       "796        24.98029                 4     20.98029\n",
       "91         24.98029                 4     20.98029\n",
       "609        24.98029                 4     20.98029\n",
       "608        24.98029                 4     20.98029\n",
       "1454       24.98029                 4     20.98029\n",
       "1078       24.98029                 4     20.98029\n",
       "279        24.98029                 4     20.98029"
      ]
     },
     "execution_count": 182,
     "metadata": {},
     "output_type": "execute_result"
    }
   ],
   "source": [
    "# create dataframe containing actual values, predictions and the differences between them\n",
    "df_scores = get_scores_dataframe(sgd_model)\n",
    "df_scores.sort_values(by=\"differences\").tail(10)"
   ]
  },
  {
   "cell_type": "markdown",
   "id": "10100cec",
   "metadata": {},
   "source": [
    "<h4><font color=mediumvioletred>Model with BayesianRidge </font></h4>"
   ]
  },
  {
   "cell_type": "code",
   "execution_count": 183,
   "id": "198be9a5",
   "metadata": {},
   "outputs": [
    {
     "data": {
      "text/plain": [
       "BayesianRidge()"
      ]
     },
     "execution_count": 183,
     "metadata": {},
     "output_type": "execute_result"
    }
   ],
   "source": [
    "br_model = BayesianRidge()\n",
    "\n",
    "# fit the model\n",
    "br_model.fit(X_train, y_train)"
   ]
  },
  {
   "cell_type": "code",
   "execution_count": 184,
   "id": "fdcf8466",
   "metadata": {},
   "outputs": [
    {
     "data": {
      "text/plain": [
       "{'Training MAE': 2.291357703728488, 'Testing MAE': 6.775836801213102}"
      ]
     },
     "execution_count": 184,
     "metadata": {},
     "output_type": "execute_result"
    }
   ],
   "source": [
    "# score model\n",
    "show_scores(br_model)"
   ]
  },
  {
   "cell_type": "code",
   "execution_count": 185,
   "id": "7d49356f",
   "metadata": {},
   "outputs": [
    {
     "data": {
      "text/html": [
       "<div>\n",
       "<style scoped>\n",
       "    .dataframe tbody tr th:only-of-type {\n",
       "        vertical-align: middle;\n",
       "    }\n",
       "\n",
       "    .dataframe tbody tr th {\n",
       "        vertical-align: top;\n",
       "    }\n",
       "\n",
       "    .dataframe thead th {\n",
       "        text-align: right;\n",
       "    }\n",
       "</style>\n",
       "<table border=\"1\" class=\"dataframe\">\n",
       "  <thead>\n",
       "    <tr style=\"text-align: right;\">\n",
       "      <th></th>\n",
       "      <th>actual values</th>\n",
       "      <th>predicted values</th>\n",
       "      <th>differences</th>\n",
       "    </tr>\n",
       "  </thead>\n",
       "  <tbody>\n",
       "    <tr>\n",
       "      <th>1456</th>\n",
       "      <td>24.98029</td>\n",
       "      <td>8.841594</td>\n",
       "      <td>16.138696</td>\n",
       "    </tr>\n",
       "    <tr>\n",
       "      <th>328</th>\n",
       "      <td>24.98029</td>\n",
       "      <td>8.841305</td>\n",
       "      <td>16.138985</td>\n",
       "    </tr>\n",
       "    <tr>\n",
       "      <th>1503</th>\n",
       "      <td>24.98029</td>\n",
       "      <td>8.836707</td>\n",
       "      <td>16.143583</td>\n",
       "    </tr>\n",
       "    <tr>\n",
       "      <th>657</th>\n",
       "      <td>24.98029</td>\n",
       "      <td>8.821094</td>\n",
       "      <td>16.159196</td>\n",
       "    </tr>\n",
       "    <tr>\n",
       "      <th>610</th>\n",
       "      <td>24.98029</td>\n",
       "      <td>8.821085</td>\n",
       "      <td>16.159205</td>\n",
       "    </tr>\n",
       "    <tr>\n",
       "      <th>704</th>\n",
       "      <td>24.98029</td>\n",
       "      <td>8.790715</td>\n",
       "      <td>16.189575</td>\n",
       "    </tr>\n",
       "    <tr>\n",
       "      <th>751</th>\n",
       "      <td>24.98029</td>\n",
       "      <td>8.782200</td>\n",
       "      <td>16.198090</td>\n",
       "    </tr>\n",
       "    <tr>\n",
       "      <th>798</th>\n",
       "      <td>24.98029</td>\n",
       "      <td>8.774635</td>\n",
       "      <td>16.205655</td>\n",
       "    </tr>\n",
       "    <tr>\n",
       "      <th>845</th>\n",
       "      <td>24.98029</td>\n",
       "      <td>8.773706</td>\n",
       "      <td>16.206584</td>\n",
       "    </tr>\n",
       "    <tr>\n",
       "      <th>892</th>\n",
       "      <td>24.98029</td>\n",
       "      <td>8.724910</td>\n",
       "      <td>16.255380</td>\n",
       "    </tr>\n",
       "  </tbody>\n",
       "</table>\n",
       "</div>"
      ],
      "text/plain": [
       "      actual values  predicted values  differences\n",
       "1456       24.98029          8.841594    16.138696\n",
       "328        24.98029          8.841305    16.138985\n",
       "1503       24.98029          8.836707    16.143583\n",
       "657        24.98029          8.821094    16.159196\n",
       "610        24.98029          8.821085    16.159205\n",
       "704        24.98029          8.790715    16.189575\n",
       "751        24.98029          8.782200    16.198090\n",
       "798        24.98029          8.774635    16.205655\n",
       "845        24.98029          8.773706    16.206584\n",
       "892        24.98029          8.724910    16.255380"
      ]
     },
     "execution_count": 185,
     "metadata": {},
     "output_type": "execute_result"
    }
   ],
   "source": [
    "# create dataframe containing actual values, predictions and the differences between them\n",
    "df_scores = get_scores_dataframe(br_model)\n",
    "df_scores.sort_values(by=\"differences\").tail(10)"
   ]
  },
  {
   "cell_type": "markdown",
   "id": "17df5a00",
   "metadata": {},
   "source": [
    "<h4><font color=mediumvioletred>Model with Lasso </font></h4>"
   ]
  },
  {
   "cell_type": "code",
   "execution_count": 186,
   "id": "f19797cc",
   "metadata": {},
   "outputs": [
    {
     "data": {
      "text/plain": [
       "LassoLars(alpha=0.1, normalize=False, random_state=42)"
      ]
     },
     "execution_count": 186,
     "metadata": {},
     "output_type": "execute_result"
    }
   ],
   "source": [
    "lasso_model = LassoLars(alpha=.1, \n",
    "                  normalize=False,\n",
    "                  random_state=42)\n",
    "\n",
    "# fit the model\n",
    "lasso_model.fit(X_train, y_train)"
   ]
  },
  {
   "cell_type": "code",
   "execution_count": 187,
   "id": "f4dd69a7",
   "metadata": {},
   "outputs": [
    {
     "data": {
      "text/plain": [
       "{'Training MAE': 2.3035377807323214, 'Testing MAE': 6.871656729005752}"
      ]
     },
     "execution_count": 187,
     "metadata": {},
     "output_type": "execute_result"
    }
   ],
   "source": [
    "# score model\n",
    "show_scores(lasso_model)"
   ]
  },
  {
   "cell_type": "code",
   "execution_count": 188,
   "id": "05d6b822",
   "metadata": {},
   "outputs": [
    {
     "data": {
      "text/html": [
       "<div>\n",
       "<style scoped>\n",
       "    .dataframe tbody tr th:only-of-type {\n",
       "        vertical-align: middle;\n",
       "    }\n",
       "\n",
       "    .dataframe tbody tr th {\n",
       "        vertical-align: top;\n",
       "    }\n",
       "\n",
       "    .dataframe thead th {\n",
       "        text-align: right;\n",
       "    }\n",
       "</style>\n",
       "<table border=\"1\" class=\"dataframe\">\n",
       "  <thead>\n",
       "    <tr style=\"text-align: right;\">\n",
       "      <th></th>\n",
       "      <th>actual values</th>\n",
       "      <th>predicted values</th>\n",
       "      <th>differences</th>\n",
       "    </tr>\n",
       "  </thead>\n",
       "  <tbody>\n",
       "    <tr>\n",
       "      <th>469</th>\n",
       "      <td>24.98029</td>\n",
       "      <td>8.657682</td>\n",
       "      <td>16.322608</td>\n",
       "    </tr>\n",
       "    <tr>\n",
       "      <th>328</th>\n",
       "      <td>24.98029</td>\n",
       "      <td>8.656878</td>\n",
       "      <td>16.323412</td>\n",
       "    </tr>\n",
       "    <tr>\n",
       "      <th>1080</th>\n",
       "      <td>24.98029</td>\n",
       "      <td>8.655425</td>\n",
       "      <td>16.324866</td>\n",
       "    </tr>\n",
       "    <tr>\n",
       "      <th>187</th>\n",
       "      <td>24.98029</td>\n",
       "      <td>8.653970</td>\n",
       "      <td>16.326320</td>\n",
       "    </tr>\n",
       "    <tr>\n",
       "      <th>140</th>\n",
       "      <td>24.98029</td>\n",
       "      <td>8.643358</td>\n",
       "      <td>16.336932</td>\n",
       "    </tr>\n",
       "    <tr>\n",
       "      <th>798</th>\n",
       "      <td>24.98029</td>\n",
       "      <td>8.641060</td>\n",
       "      <td>16.339231</td>\n",
       "    </tr>\n",
       "    <tr>\n",
       "      <th>892</th>\n",
       "      <td>24.98029</td>\n",
       "      <td>8.635571</td>\n",
       "      <td>16.344719</td>\n",
       "    </tr>\n",
       "    <tr>\n",
       "      <th>93</th>\n",
       "      <td>24.98029</td>\n",
       "      <td>8.634177</td>\n",
       "      <td>16.346114</td>\n",
       "    </tr>\n",
       "    <tr>\n",
       "      <th>1456</th>\n",
       "      <td>24.98029</td>\n",
       "      <td>8.627841</td>\n",
       "      <td>16.352449</td>\n",
       "    </tr>\n",
       "    <tr>\n",
       "      <th>46</th>\n",
       "      <td>24.98029</td>\n",
       "      <td>8.613045</td>\n",
       "      <td>16.367246</td>\n",
       "    </tr>\n",
       "  </tbody>\n",
       "</table>\n",
       "</div>"
      ],
      "text/plain": [
       "      actual values  predicted values  differences\n",
       "469        24.98029          8.657682    16.322608\n",
       "328        24.98029          8.656878    16.323412\n",
       "1080       24.98029          8.655425    16.324866\n",
       "187        24.98029          8.653970    16.326320\n",
       "140        24.98029          8.643358    16.336932\n",
       "798        24.98029          8.641060    16.339231\n",
       "892        24.98029          8.635571    16.344719\n",
       "93         24.98029          8.634177    16.346114\n",
       "1456       24.98029          8.627841    16.352449\n",
       "46         24.98029          8.613045    16.367246"
      ]
     },
     "execution_count": 188,
     "metadata": {},
     "output_type": "execute_result"
    }
   ],
   "source": [
    "# create dataframe containing actual values, predictions and the differences between them\n",
    "df_scores = get_scores_dataframe(lasso_model)\n",
    "df_scores.sort_values(by=\"differences\").tail(10)"
   ]
  },
  {
   "cell_type": "markdown",
   "id": "20d56445",
   "metadata": {},
   "source": [
    "<h4><font color=mediumvioletred>Model with ElasticNet </font></h4>"
   ]
  },
  {
   "cell_type": "code",
   "execution_count": 189,
   "id": "59d1d866",
   "metadata": {},
   "outputs": [
    {
     "data": {
      "text/plain": [
       "ElasticNet(random_state=42)"
      ]
     },
     "execution_count": 189,
     "metadata": {},
     "output_type": "execute_result"
    }
   ],
   "source": [
    "en_model = ElasticNet(random_state=42)\n",
    "\n",
    "# fit the model\n",
    "en_model.fit(X_train, y_train)"
   ]
  },
  {
   "cell_type": "code",
   "execution_count": 190,
   "id": "b6e6b287",
   "metadata": {},
   "outputs": [
    {
     "data": {
      "text/plain": [
       "{'Training MAE': 2.3964530320616455, 'Testing MAE': 6.9207657134660705}"
      ]
     },
     "execution_count": 190,
     "metadata": {},
     "output_type": "execute_result"
    }
   ],
   "source": [
    "# score model\n",
    "show_scores(en_model)"
   ]
  },
  {
   "cell_type": "code",
   "execution_count": 191,
   "id": "5854b3c6",
   "metadata": {},
   "outputs": [
    {
     "data": {
      "text/html": [
       "<div>\n",
       "<style scoped>\n",
       "    .dataframe tbody tr th:only-of-type {\n",
       "        vertical-align: middle;\n",
       "    }\n",
       "\n",
       "    .dataframe tbody tr th {\n",
       "        vertical-align: top;\n",
       "    }\n",
       "\n",
       "    .dataframe thead th {\n",
       "        text-align: right;\n",
       "    }\n",
       "</style>\n",
       "<table border=\"1\" class=\"dataframe\">\n",
       "  <thead>\n",
       "    <tr style=\"text-align: right;\">\n",
       "      <th></th>\n",
       "      <th>actual values</th>\n",
       "      <th>predicted values</th>\n",
       "      <th>differences</th>\n",
       "    </tr>\n",
       "  </thead>\n",
       "  <tbody>\n",
       "    <tr>\n",
       "      <th>469</th>\n",
       "      <td>24.98029</td>\n",
       "      <td>8.845914</td>\n",
       "      <td>16.134376</td>\n",
       "    </tr>\n",
       "    <tr>\n",
       "      <th>1221</th>\n",
       "      <td>24.98029</td>\n",
       "      <td>8.844776</td>\n",
       "      <td>16.135514</td>\n",
       "    </tr>\n",
       "    <tr>\n",
       "      <th>798</th>\n",
       "      <td>24.98029</td>\n",
       "      <td>8.843811</td>\n",
       "      <td>16.136479</td>\n",
       "    </tr>\n",
       "    <tr>\n",
       "      <th>234</th>\n",
       "      <td>24.98029</td>\n",
       "      <td>8.840187</td>\n",
       "      <td>16.140103</td>\n",
       "    </tr>\n",
       "    <tr>\n",
       "      <th>187</th>\n",
       "      <td>24.98029</td>\n",
       "      <td>8.831223</td>\n",
       "      <td>16.149067</td>\n",
       "    </tr>\n",
       "    <tr>\n",
       "      <th>1080</th>\n",
       "      <td>24.98029</td>\n",
       "      <td>8.825601</td>\n",
       "      <td>16.154689</td>\n",
       "    </tr>\n",
       "    <tr>\n",
       "      <th>140</th>\n",
       "      <td>24.98029</td>\n",
       "      <td>8.819044</td>\n",
       "      <td>16.161247</td>\n",
       "    </tr>\n",
       "    <tr>\n",
       "      <th>93</th>\n",
       "      <td>24.98029</td>\n",
       "      <td>8.810550</td>\n",
       "      <td>16.169740</td>\n",
       "    </tr>\n",
       "    <tr>\n",
       "      <th>1456</th>\n",
       "      <td>24.98029</td>\n",
       "      <td>8.802486</td>\n",
       "      <td>16.177804</td>\n",
       "    </tr>\n",
       "    <tr>\n",
       "      <th>46</th>\n",
       "      <td>24.98029</td>\n",
       "      <td>8.782734</td>\n",
       "      <td>16.197556</td>\n",
       "    </tr>\n",
       "  </tbody>\n",
       "</table>\n",
       "</div>"
      ],
      "text/plain": [
       "      actual values  predicted values  differences\n",
       "469        24.98029          8.845914    16.134376\n",
       "1221       24.98029          8.844776    16.135514\n",
       "798        24.98029          8.843811    16.136479\n",
       "234        24.98029          8.840187    16.140103\n",
       "187        24.98029          8.831223    16.149067\n",
       "1080       24.98029          8.825601    16.154689\n",
       "140        24.98029          8.819044    16.161247\n",
       "93         24.98029          8.810550    16.169740\n",
       "1456       24.98029          8.802486    16.177804\n",
       "46         24.98029          8.782734    16.197556"
      ]
     },
     "execution_count": 191,
     "metadata": {},
     "output_type": "execute_result"
    }
   ],
   "source": [
    "# create dataframe containing actual values, predictions and the differences between them\n",
    "df_scores = get_scores_dataframe(en_model)\n",
    "df_scores.sort_values(by=\"differences\").tail(10)"
   ]
  },
  {
   "cell_type": "markdown",
   "id": "75ce736c",
   "metadata": {},
   "source": [
    "<h4><font color=mediumvioletred>Model with SVR </font></h4>"
   ]
  },
  {
   "cell_type": "code",
   "execution_count": 192,
   "id": "802ccbc2",
   "metadata": {},
   "outputs": [
    {
     "data": {
      "text/plain": [
       "SVR()"
      ]
     },
     "execution_count": 192,
     "metadata": {},
     "output_type": "execute_result"
    }
   ],
   "source": [
    "svr_model = SVR()\n",
    "\n",
    "# fit the model\n",
    "svr_model.fit(X_train, y_train)"
   ]
  },
  {
   "cell_type": "code",
   "execution_count": 193,
   "id": "ed1b91d4",
   "metadata": {},
   "outputs": [
    {
     "data": {
      "text/plain": [
       "{'Training MAE': 3.87641261239471, 'Testing MAE': 6.151710398941301}"
      ]
     },
     "execution_count": 193,
     "metadata": {},
     "output_type": "execute_result"
    }
   ],
   "source": [
    "# score model\n",
    "show_scores(svr_model)"
   ]
  },
  {
   "cell_type": "code",
   "execution_count": 194,
   "id": "e64a3c1c",
   "metadata": {},
   "outputs": [
    {
     "data": {
      "text/html": [
       "<div>\n",
       "<style scoped>\n",
       "    .dataframe tbody tr th:only-of-type {\n",
       "        vertical-align: middle;\n",
       "    }\n",
       "\n",
       "    .dataframe tbody tr th {\n",
       "        vertical-align: top;\n",
       "    }\n",
       "\n",
       "    .dataframe thead th {\n",
       "        text-align: right;\n",
       "    }\n",
       "</style>\n",
       "<table border=\"1\" class=\"dataframe\">\n",
       "  <thead>\n",
       "    <tr style=\"text-align: right;\">\n",
       "      <th></th>\n",
       "      <th>actual values</th>\n",
       "      <th>predicted values</th>\n",
       "      <th>differences</th>\n",
       "    </tr>\n",
       "  </thead>\n",
       "  <tbody>\n",
       "    <tr>\n",
       "      <th>138</th>\n",
       "      <td>24.98029</td>\n",
       "      <td>9.325376</td>\n",
       "      <td>15.654915</td>\n",
       "    </tr>\n",
       "    <tr>\n",
       "      <th>44</th>\n",
       "      <td>24.98029</td>\n",
       "      <td>9.320117</td>\n",
       "      <td>15.660173</td>\n",
       "    </tr>\n",
       "    <tr>\n",
       "      <th>185</th>\n",
       "      <td>24.98029</td>\n",
       "      <td>9.317006</td>\n",
       "      <td>15.663284</td>\n",
       "    </tr>\n",
       "    <tr>\n",
       "      <th>1172</th>\n",
       "      <td>24.98029</td>\n",
       "      <td>9.304014</td>\n",
       "      <td>15.676277</td>\n",
       "    </tr>\n",
       "    <tr>\n",
       "      <th>561</th>\n",
       "      <td>24.98029</td>\n",
       "      <td>9.302947</td>\n",
       "      <td>15.677343</td>\n",
       "    </tr>\n",
       "    <tr>\n",
       "      <th>467</th>\n",
       "      <td>24.98029</td>\n",
       "      <td>9.301024</td>\n",
       "      <td>15.679266</td>\n",
       "    </tr>\n",
       "    <tr>\n",
       "      <th>373</th>\n",
       "      <td>24.98029</td>\n",
       "      <td>9.300365</td>\n",
       "      <td>15.679925</td>\n",
       "    </tr>\n",
       "    <tr>\n",
       "      <th>1501</th>\n",
       "      <td>24.98029</td>\n",
       "      <td>9.133917</td>\n",
       "      <td>15.846374</td>\n",
       "    </tr>\n",
       "    <tr>\n",
       "      <th>1219</th>\n",
       "      <td>24.98029</td>\n",
       "      <td>8.219726</td>\n",
       "      <td>16.760564</td>\n",
       "    </tr>\n",
       "    <tr>\n",
       "      <th>1454</th>\n",
       "      <td>24.98029</td>\n",
       "      <td>6.901545</td>\n",
       "      <td>18.078745</td>\n",
       "    </tr>\n",
       "  </tbody>\n",
       "</table>\n",
       "</div>"
      ],
      "text/plain": [
       "      actual values  predicted values  differences\n",
       "138        24.98029          9.325376    15.654915\n",
       "44         24.98029          9.320117    15.660173\n",
       "185        24.98029          9.317006    15.663284\n",
       "1172       24.98029          9.304014    15.676277\n",
       "561        24.98029          9.302947    15.677343\n",
       "467        24.98029          9.301024    15.679266\n",
       "373        24.98029          9.300365    15.679925\n",
       "1501       24.98029          9.133917    15.846374\n",
       "1219       24.98029          8.219726    16.760564\n",
       "1454       24.98029          6.901545    18.078745"
      ]
     },
     "execution_count": 194,
     "metadata": {},
     "output_type": "execute_result"
    }
   ],
   "source": [
    "# create dataframe containing actual values, predictions and the differences between them\n",
    "df_scores = get_scores_dataframe(svr_model)\n",
    "df_scores.sort_values(by=\"differences\").tail(10)"
   ]
  },
  {
   "cell_type": "markdown",
   "id": "859fd536",
   "metadata": {},
   "source": [
    "<h4><font color=mediumvioletred>Model with GradientBoostingRegressor </font></h4>"
   ]
  },
  {
   "cell_type": "code",
   "execution_count": 195,
   "id": "95c866ef",
   "metadata": {},
   "outputs": [
    {
     "data": {
      "text/plain": [
       "GradientBoostingRegressor(max_depth=1, random_state=42)"
      ]
     },
     "execution_count": 195,
     "metadata": {},
     "output_type": "execute_result"
    }
   ],
   "source": [
    "gbr_model = GradientBoostingRegressor(n_estimators=100, \n",
    "                                  learning_rate=0.1, \n",
    "                                  max_depth=1,\n",
    "                                  random_state=42)\n",
    "\n",
    "# fit the model\n",
    "gbr_model.fit(X_train, y_train)"
   ]
  },
  {
   "cell_type": "code",
   "execution_count": 196,
   "id": "e8881951",
   "metadata": {},
   "outputs": [
    {
     "data": {
      "text/plain": [
       "{'Training MAE': 1.150040272567119, 'Testing MAE': 5.712817279314228}"
      ]
     },
     "execution_count": 196,
     "metadata": {},
     "output_type": "execute_result"
    }
   ],
   "source": [
    "# score model\n",
    "show_scores(gbr_model)"
   ]
  },
  {
   "cell_type": "code",
   "execution_count": 197,
   "id": "e070f849",
   "metadata": {},
   "outputs": [
    {
     "data": {
      "text/html": [
       "<div>\n",
       "<style scoped>\n",
       "    .dataframe tbody tr th:only-of-type {\n",
       "        vertical-align: middle;\n",
       "    }\n",
       "\n",
       "    .dataframe tbody tr th {\n",
       "        vertical-align: top;\n",
       "    }\n",
       "\n",
       "    .dataframe thead th {\n",
       "        text-align: right;\n",
       "    }\n",
       "</style>\n",
       "<table border=\"1\" class=\"dataframe\">\n",
       "  <thead>\n",
       "    <tr style=\"text-align: right;\">\n",
       "      <th></th>\n",
       "      <th>actual values</th>\n",
       "      <th>predicted values</th>\n",
       "      <th>differences</th>\n",
       "    </tr>\n",
       "  </thead>\n",
       "  <tbody>\n",
       "    <tr>\n",
       "      <th>421</th>\n",
       "      <td>24.98029</td>\n",
       "      <td>15.085227</td>\n",
       "      <td>9.895063</td>\n",
       "    </tr>\n",
       "    <tr>\n",
       "      <th>938</th>\n",
       "      <td>24.98029</td>\n",
       "      <td>15.085227</td>\n",
       "      <td>9.895063</td>\n",
       "    </tr>\n",
       "    <tr>\n",
       "      <th>280</th>\n",
       "      <td>24.98029</td>\n",
       "      <td>15.085227</td>\n",
       "      <td>9.895063</td>\n",
       "    </tr>\n",
       "    <tr>\n",
       "      <th>139</th>\n",
       "      <td>24.98029</td>\n",
       "      <td>15.085227</td>\n",
       "      <td>9.895063</td>\n",
       "    </tr>\n",
       "    <tr>\n",
       "      <th>703</th>\n",
       "      <td>24.98029</td>\n",
       "      <td>15.085227</td>\n",
       "      <td>9.895063</td>\n",
       "    </tr>\n",
       "    <tr>\n",
       "      <th>233</th>\n",
       "      <td>24.98029</td>\n",
       "      <td>15.085227</td>\n",
       "      <td>9.895063</td>\n",
       "    </tr>\n",
       "    <tr>\n",
       "      <th>1455</th>\n",
       "      <td>24.98029</td>\n",
       "      <td>15.085227</td>\n",
       "      <td>9.895063</td>\n",
       "    </tr>\n",
       "    <tr>\n",
       "      <th>1126</th>\n",
       "      <td>24.98029</td>\n",
       "      <td>15.085227</td>\n",
       "      <td>9.895063</td>\n",
       "    </tr>\n",
       "    <tr>\n",
       "      <th>374</th>\n",
       "      <td>24.98029</td>\n",
       "      <td>15.085227</td>\n",
       "      <td>9.895063</td>\n",
       "    </tr>\n",
       "    <tr>\n",
       "      <th>1314</th>\n",
       "      <td>24.98029</td>\n",
       "      <td>15.085227</td>\n",
       "      <td>9.895063</td>\n",
       "    </tr>\n",
       "  </tbody>\n",
       "</table>\n",
       "</div>"
      ],
      "text/plain": [
       "      actual values  predicted values  differences\n",
       "421        24.98029         15.085227     9.895063\n",
       "938        24.98029         15.085227     9.895063\n",
       "280        24.98029         15.085227     9.895063\n",
       "139        24.98029         15.085227     9.895063\n",
       "703        24.98029         15.085227     9.895063\n",
       "233        24.98029         15.085227     9.895063\n",
       "1455       24.98029         15.085227     9.895063\n",
       "1126       24.98029         15.085227     9.895063\n",
       "374        24.98029         15.085227     9.895063\n",
       "1314       24.98029         15.085227     9.895063"
      ]
     },
     "execution_count": 197,
     "metadata": {},
     "output_type": "execute_result"
    }
   ],
   "source": [
    "# create dataframe containing actual values, predictions and the differences between them\n",
    "df_scores = get_scores_dataframe(gbr_model)\n",
    "df_scores.sort_values(by=\"differences\").tail(10)"
   ]
  },
  {
   "cell_type": "markdown",
   "id": "08cfb46e",
   "metadata": {},
   "source": [
    "<h4><font color=mediumvioletred>Conclusion </font></h4>"
   ]
  },
  {
   "cell_type": "markdown",
   "id": "dbcc9dc8",
   "metadata": {},
   "source": [
    "After calculating the MAE (average of the absolute differences between predictions and actual values), we found that the following model had the best predictions:\n",
    "* RandomForestRegressor: 4.311823313460197\n",
    "* GradientBoostingRegressor: 5.712817279314228"
   ]
  },
  {
   "cell_type": "markdown",
   "id": "cc1069fc",
   "metadata": {},
   "source": [
    "<h4><font color=mediumvioletred>Check feature importance</font></h4>\n",
    "\n",
    "Feature importance means which features affected the model the most."
   ]
  },
  {
   "cell_type": "code",
   "execution_count": 198,
   "id": "7dce83b9",
   "metadata": {},
   "outputs": [
    {
     "data": {
      "image/png": "[encoded data removed]",
      "text/plain": [
       "<Figure size 640x480 with 1 Axes>"
      ]
     },
     "metadata": {},
     "output_type": "display_data"
    }
   ],
   "source": [
    "plot_features(X_train.columns, rf_model.feature_importances_)"
   ]
  },
  {
   "cell_type": "markdown",
   "id": "850647dd",
   "metadata": {},
   "source": [
    "<h4><font color=mediumvioletred>Export the best model (RandomForestRegressor)</font></h4>"
   ]
  },
  {
   "cell_type": "code",
   "execution_count": 199,
   "id": "d2518618",
   "metadata": {},
   "outputs": [],
   "source": [
    "pickle.dump(rf_model, open(\"models/rf_air_quality_prediction_model_replaced_iqr_weekly.pkl\", \"wb\")) # wb = write binary"
   ]
  },
  {
   "cell_type": "markdown",
   "id": "32a590ea",
   "metadata": {},
   "source": [
    "<h2><font color=slateblue>Conclusion</font></h2>"
   ]
  },
  {
   "cell_type": "markdown",
   "id": "8bd53a48",
   "metadata": {},
   "source": [
    "After modelling using different methods (with and without outliers, daily and weekly grouped data), we got the following results:\n",
    "\n",
    "**1. Unhandled outliers:**\n",
    "* Daily grouped data:\n",
    "\n",
    "    GradientBoostingRegressor => average 5 and max difference 36\n",
    "\n",
    "\n",
    "* Weekly grouped data:\n",
    "\n",
    "    RandomForestRegressor => average 6.07 and max difference 20.5\n",
    "\n",
    "\n",
    "**2. Handled outliers:**\n",
    "* Daily grouped data:\n",
    "\n",
    "    1. Replaced all outliers with IQR:\n",
    "\n",
    "        GradientBoostingRegressor => average 4.28 and max difference 20\n",
    "\n",
    "    2. Replaced pm2.5 outliers with median:\n",
    "\n",
    "        SVR => average 4.09 and max difference 19.17\n",
    "\n",
    "    3. Removed pm2.5 outliers:\n",
    "\n",
    "        GradientBoostingRegressor => average 4.31 and max difference 19.14\n",
    "       \n",
    "       \n",
    "* Weekly grouped data:\n",
    "\n",
    "    1. Replaced all outliers with IQR:\n",
    "    \n",
    "       RandomForestRegressor =>  average 4.31 and max difference 10.63\n",
    "       \n",
    "***\n",
    "\n",
    "From the results above, we can conclude that after handling the outliers in three different ways, the model has improved in both the daily grouped data and the weekly grouped data.\n",
    "\n",
    "However, the maximum difference is still too high. This, in our opinion, is due to a lack of sufficient correlation between the columns and our target variable.\n",
    "\n",
    "Making a clear distinction between the various areas of Eindhoven and the number of people traveling through the city should be taken into account in order to potentially improve the prediction.\n",
    "\n",
    "***"
   ]
  }
 ],
 "metadata": {
  "kernelspec": {
   "display_name": "Python 3 (ipykernel)",
   "language": "python",
   "name": "python3"
  },
  "language_info": {
   "codemirror_mode": {
    "name": "ipython",
    "version": 3
   },
   "file_extension": ".py",
   "mimetype": "text/x-python",
   "name": "python",
   "nbconvert_exporter": "python",
   "pygments_lexer": "ipython3",
   "version": "3.9.13"
  }
 },
 "nbformat": 4,
 "nbformat_minor": 5
}
