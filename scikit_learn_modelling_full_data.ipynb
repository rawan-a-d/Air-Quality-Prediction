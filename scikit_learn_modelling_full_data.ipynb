{
 "cells": [
  {
   "cell_type": "markdown",
   "id": "2db24e9f",
   "metadata": {},
   "source": [
    "<h1 style=\"font-size:3rem;color:maroon;\"> Predicting Air Pollution Level using Machine Learning</h1>\n",
    "\n",
    "This notebook is created for the modelling of the full data using [Scikit-learn](https://scikit-learn.org/stable/tutorial/machine_learning_map/index.html)."
   ]
  },
  {
   "cell_type": "markdown",
   "id": "58f6e46d",
   "metadata": {},
   "source": [
    "![title](images/scikit_learn_map.png)"
   ]
  },
  {
   "cell_type": "markdown",
   "id": "ba47ddae",
   "metadata": {},
   "source": [
    "<h2><font color=slateblue> Preparing the tools </font></h2>"
   ]
  },
  {
   "cell_type": "code",
   "execution_count": 1,
   "id": "e78ad191",
   "metadata": {},
   "outputs": [],
   "source": [
    "# Regular EDA\n",
    "import pandas as pd\n",
    "import numpy as np\n",
    "\n",
    "# Modelling\n",
    "from sklearn.ensemble import RandomForestRegressor\n",
    "from sklearn.linear_model import SGDClassifier, ElasticNet, BayesianRidge, LassoLars\n",
    "from sklearn.svm import SVR\n",
    "from sklearn.ensemble import GradientBoostingRegressor\n",
    "from sklearn.metrics import mean_absolute_error\n",
    "\n",
    "# Save a model\n",
    "import pickle"
   ]
  },
  {
   "cell_type": "markdown",
   "id": "2434455d",
   "metadata": {},
   "source": [
    "<h2><font color=slateblue>Read CSV file </font></h2>"
   ]
  },
  {
   "cell_type": "code",
   "execution_count": 2,
   "id": "8eb4eb42",
   "metadata": {},
   "outputs": [
    {
     "data": {
      "text/html": [
       "<div>\n",
       "<style scoped>\n",
       "    .dataframe tbody tr th:only-of-type {\n",
       "        vertical-align: middle;\n",
       "    }\n",
       "\n",
       "    .dataframe tbody tr th {\n",
       "        vertical-align: top;\n",
       "    }\n",
       "\n",
       "    .dataframe thead th {\n",
       "        text-align: right;\n",
       "    }\n",
       "</style>\n",
       "<table border=\"1\" class=\"dataframe\">\n",
       "  <thead>\n",
       "    <tr style=\"text-align: right;\">\n",
       "      <th></th>\n",
       "      <th>PC4</th>\n",
       "      <th>people_number</th>\n",
       "      <th>pm2.5</th>\n",
       "      <th>wd</th>\n",
       "      <th>ws</th>\n",
       "      <th>ssrd</th>\n",
       "      <th>blh</th>\n",
       "      <th>year</th>\n",
       "      <th>month</th>\n",
       "      <th>day</th>\n",
       "      <th>day_of_week</th>\n",
       "      <th>day_of_year</th>\n",
       "    </tr>\n",
       "  </thead>\n",
       "  <tbody>\n",
       "    <tr>\n",
       "      <th>6950</th>\n",
       "      <td>5656</td>\n",
       "      <td>35809.0</td>\n",
       "      <td>2.840124</td>\n",
       "      <td>241.564767</td>\n",
       "      <td>4.677432</td>\n",
       "      <td>176.222496</td>\n",
       "      <td>803.462086</td>\n",
       "      <td>2021</td>\n",
       "      <td>7</td>\n",
       "      <td>30</td>\n",
       "      <td>4</td>\n",
       "      <td>211</td>\n",
       "    </tr>\n",
       "    <tr>\n",
       "      <th>3561</th>\n",
       "      <td>5656</td>\n",
       "      <td>17895.0</td>\n",
       "      <td>13.818456</td>\n",
       "      <td>120.683401</td>\n",
       "      <td>2.363751</td>\n",
       "      <td>222.012185</td>\n",
       "      <td>388.235440</td>\n",
       "      <td>2021</td>\n",
       "      <td>4</td>\n",
       "      <td>18</td>\n",
       "      <td>6</td>\n",
       "      <td>108</td>\n",
       "    </tr>\n",
       "    <tr>\n",
       "      <th>5801</th>\n",
       "      <td>5614</td>\n",
       "      <td>10305.0</td>\n",
       "      <td>9.090640</td>\n",
       "      <td>231.464588</td>\n",
       "      <td>2.853024</td>\n",
       "      <td>137.969791</td>\n",
       "      <td>429.263292</td>\n",
       "      <td>2021</td>\n",
       "      <td>6</td>\n",
       "      <td>25</td>\n",
       "      <td>4</td>\n",
       "      <td>176</td>\n",
       "    </tr>\n",
       "    <tr>\n",
       "      <th>2099</th>\n",
       "      <td>5654</td>\n",
       "      <td>3861.0</td>\n",
       "      <td>8.156627</td>\n",
       "      <td>66.348421</td>\n",
       "      <td>3.261510</td>\n",
       "      <td>145.945466</td>\n",
       "      <td>652.804814</td>\n",
       "      <td>2021</td>\n",
       "      <td>3</td>\n",
       "      <td>5</td>\n",
       "      <td>4</td>\n",
       "      <td>64</td>\n",
       "    </tr>\n",
       "    <tr>\n",
       "      <th>3264</th>\n",
       "      <td>5629</td>\n",
       "      <td>6990.0</td>\n",
       "      <td>15.809874</td>\n",
       "      <td>177.993160</td>\n",
       "      <td>3.647418</td>\n",
       "      <td>159.838617</td>\n",
       "      <td>679.770869</td>\n",
       "      <td>2021</td>\n",
       "      <td>4</td>\n",
       "      <td>9</td>\n",
       "      <td>4</td>\n",
       "      <td>99</td>\n",
       "    </tr>\n",
       "  </tbody>\n",
       "</table>\n",
       "</div>"
      ],
      "text/plain": [
       "       PC4  people_number      pm2.5          wd        ws        ssrd  \\\n",
       "6950  5656        35809.0   2.840124  241.564767  4.677432  176.222496   \n",
       "3561  5656        17895.0  13.818456  120.683401  2.363751  222.012185   \n",
       "5801  5614        10305.0   9.090640  231.464588  2.853024  137.969791   \n",
       "2099  5654         3861.0   8.156627   66.348421  3.261510  145.945466   \n",
       "3264  5629         6990.0  15.809874  177.993160  3.647418  159.838617   \n",
       "\n",
       "             blh  year  month  day  day_of_week  day_of_year  \n",
       "6950  803.462086  2021      7   30            4          211  \n",
       "3561  388.235440  2021      4   18            6          108  \n",
       "5801  429.263292  2021      6   25            4          176  \n",
       "2099  652.804814  2021      3    5            4           64  \n",
       "3264  679.770869  2021      4    9            4           99  "
      ]
     },
     "execution_count": 2,
     "metadata": {},
     "output_type": "execute_result"
    }
   ],
   "source": [
    "# read prepared dataset csv file\n",
    "df = pd.read_csv(\"data/df_prepared_full_data.csv\")\n",
    "df.sample(5)"
   ]
  },
  {
   "cell_type": "markdown",
   "id": "b24f31a7",
   "metadata": {},
   "source": [
    "<h2><font color=slateblue>Modelling </font></h2>"
   ]
  },
  {
   "cell_type": "markdown",
   "id": "c8b12ef8",
   "metadata": {},
   "source": [
    "<h4><font color=mediumvioletred>Get X and y</font></h4>"
   ]
  },
  {
   "cell_type": "code",
   "execution_count": 3,
   "id": "3cd83af1",
   "metadata": {},
   "outputs": [],
   "source": [
    "X = df.drop(\"pm2.5\", axis=1)\n",
    "y = df[\"pm2.5\"]"
   ]
  },
  {
   "cell_type": "markdown",
   "id": "eb5c7d52",
   "metadata": {},
   "source": [
    "<h4><font color=mediumvioletred>Get a sample of X </font></h4>"
   ]
  },
  {
   "cell_type": "code",
   "execution_count": 4,
   "id": "b9c5b34e",
   "metadata": {},
   "outputs": [
    {
     "data": {
      "text/html": [
       "<div>\n",
       "<style scoped>\n",
       "    .dataframe tbody tr th:only-of-type {\n",
       "        vertical-align: middle;\n",
       "    }\n",
       "\n",
       "    .dataframe tbody tr th {\n",
       "        vertical-align: top;\n",
       "    }\n",
       "\n",
       "    .dataframe thead th {\n",
       "        text-align: right;\n",
       "    }\n",
       "</style>\n",
       "<table border=\"1\" class=\"dataframe\">\n",
       "  <thead>\n",
       "    <tr style=\"text-align: right;\">\n",
       "      <th></th>\n",
       "      <th>PC4</th>\n",
       "      <th>people_number</th>\n",
       "      <th>wd</th>\n",
       "      <th>ws</th>\n",
       "      <th>ssrd</th>\n",
       "      <th>blh</th>\n",
       "      <th>year</th>\n",
       "      <th>month</th>\n",
       "      <th>day</th>\n",
       "      <th>day_of_week</th>\n",
       "      <th>day_of_year</th>\n",
       "    </tr>\n",
       "  </thead>\n",
       "  <tbody>\n",
       "    <tr>\n",
       "      <th>3191</th>\n",
       "      <td>5646</td>\n",
       "      <td>2599.0</td>\n",
       "      <td>173.633319</td>\n",
       "      <td>5.670743</td>\n",
       "      <td>151.994140</td>\n",
       "      <td>880.071526</td>\n",
       "      <td>2021</td>\n",
       "      <td>4</td>\n",
       "      <td>7</td>\n",
       "      <td>2</td>\n",
       "      <td>97</td>\n",
       "    </tr>\n",
       "    <tr>\n",
       "      <th>8340</th>\n",
       "      <td>5646</td>\n",
       "      <td>11654.0</td>\n",
       "      <td>240.459825</td>\n",
       "      <td>2.631637</td>\n",
       "      <td>102.416937</td>\n",
       "      <td>346.537459</td>\n",
       "      <td>2021</td>\n",
       "      <td>9</td>\n",
       "      <td>10</td>\n",
       "      <td>4</td>\n",
       "      <td>253</td>\n",
       "    </tr>\n",
       "    <tr>\n",
       "      <th>3124</th>\n",
       "      <td>5654</td>\n",
       "      <td>1982.0</td>\n",
       "      <td>156.365455</td>\n",
       "      <td>6.881970</td>\n",
       "      <td>155.104311</td>\n",
       "      <td>1221.816116</td>\n",
       "      <td>2021</td>\n",
       "      <td>4</td>\n",
       "      <td>5</td>\n",
       "      <td>0</td>\n",
       "      <td>95</td>\n",
       "    </tr>\n",
       "    <tr>\n",
       "      <th>7563</th>\n",
       "      <td>5624</td>\n",
       "      <td>3191.0</td>\n",
       "      <td>198.273074</td>\n",
       "      <td>4.011516</td>\n",
       "      <td>125.301866</td>\n",
       "      <td>620.863479</td>\n",
       "      <td>2021</td>\n",
       "      <td>8</td>\n",
       "      <td>18</td>\n",
       "      <td>2</td>\n",
       "      <td>230</td>\n",
       "    </tr>\n",
       "    <tr>\n",
       "      <th>7283</th>\n",
       "      <td>5616</td>\n",
       "      <td>10405.0</td>\n",
       "      <td>242.472906</td>\n",
       "      <td>4.373803</td>\n",
       "      <td>161.456395</td>\n",
       "      <td>744.349459</td>\n",
       "      <td>2021</td>\n",
       "      <td>8</td>\n",
       "      <td>9</td>\n",
       "      <td>0</td>\n",
       "      <td>221</td>\n",
       "    </tr>\n",
       "  </tbody>\n",
       "</table>\n",
       "</div>"
      ],
      "text/plain": [
       "       PC4  people_number          wd        ws        ssrd          blh  \\\n",
       "3191  5646         2599.0  173.633319  5.670743  151.994140   880.071526   \n",
       "8340  5646        11654.0  240.459825  2.631637  102.416937   346.537459   \n",
       "3124  5654         1982.0  156.365455  6.881970  155.104311  1221.816116   \n",
       "7563  5624         3191.0  198.273074  4.011516  125.301866   620.863479   \n",
       "7283  5616        10405.0  242.472906  4.373803  161.456395   744.349459   \n",
       "\n",
       "      year  month  day  day_of_week  day_of_year  \n",
       "3191  2021      4    7            2           97  \n",
       "8340  2021      9   10            4          253  \n",
       "3124  2021      4    5            0           95  \n",
       "7563  2021      8   18            2          230  \n",
       "7283  2021      8    9            0          221  "
      ]
     },
     "execution_count": 4,
     "metadata": {},
     "output_type": "execute_result"
    }
   ],
   "source": [
    "X.sample(5)"
   ]
  },
  {
   "cell_type": "markdown",
   "id": "1ed8c64e",
   "metadata": {},
   "source": [
    "<h4><font color=mediumvioletred>Get a sample of y </font></h4>"
   ]
  },
  {
   "cell_type": "code",
   "execution_count": 5,
   "id": "d1da2d20",
   "metadata": {
    "scrolled": true
   },
   "outputs": [
    {
     "data": {
      "text/plain": [
       "1815    14.265294\n",
       "5176     6.434049\n",
       "5597     3.251687\n",
       "5431     5.928449\n",
       "8659    11.350349\n",
       "Name: pm2.5, dtype: float64"
      ]
     },
     "execution_count": 5,
     "metadata": {},
     "output_type": "execute_result"
    }
   ],
   "source": [
    "y.sample(5)"
   ]
  },
  {
   "cell_type": "markdown",
   "id": "df84c84a",
   "metadata": {},
   "source": [
    "<h4><font color=mediumvioletred>Split data into training and testing </font></h4>"
   ]
  },
  {
   "cell_type": "code",
   "execution_count": 6,
   "id": "02a514f3",
   "metadata": {},
   "outputs": [
    {
     "data": {
      "text/plain": [
       "(7491, 528)"
      ]
     },
     "execution_count": 6,
     "metadata": {},
     "output_type": "execute_result"
    }
   ],
   "source": [
    "df_train = df[((df.month == 8) & (df.day <= 15)) | (df.month < 8)]\n",
    "df_test = df[(df.month == 8) & (df.day > 15)]\n",
    "\n",
    "len(df_train), len(df_test)"
   ]
  },
  {
   "cell_type": "markdown",
   "id": "64199c79",
   "metadata": {},
   "source": [
    "<h4><font color=mediumvioletred>Split data into X & y </font></h4>"
   ]
  },
  {
   "cell_type": "code",
   "execution_count": 7,
   "id": "354d5cef",
   "metadata": {},
   "outputs": [
    {
     "data": {
      "text/plain": [
       "((7491, 11), (7491,), (528, 11), (528,))"
      ]
     },
     "execution_count": 7,
     "metadata": {},
     "output_type": "execute_result"
    }
   ],
   "source": [
    "X_train, y_train = df_train.drop(\"pm2.5\", axis=1), df_train[\"pm2.5\"]\n",
    "X_test, y_test = df_test.drop(\"pm2.5\", axis=1), df_test[\"pm2.5\"]\n",
    "\n",
    "X_train.shape, y_train.shape, X_test.shape, y_test.shape"
   ]
  },
  {
   "cell_type": "markdown",
   "id": "2437d2e2",
   "metadata": {},
   "source": [
    "<h4><font color=mediumvioletred>Create a method to evaluate model with Mean Absolute Error (MAE)</font></h4>\n",
    "\n",
    "MAE is the average of the absolute differences between predictions and actual values.\n",
    "It gives an idea of how wrong the model's predictions are."
   ]
  },
  {
   "cell_type": "code",
   "execution_count": 8,
   "id": "77e491d5",
   "metadata": {},
   "outputs": [],
   "source": [
    "def show_scores(model):\n",
    "    train_preds = model.predict(X_train)\n",
    "    test_preds = model.predict(X_test)\n",
    "    scores = {\n",
    "        \"Training MAE\": mean_absolute_error(y_train, train_preds),\n",
    "        \"Testing MAE\": mean_absolute_error(y_test, test_preds)\n",
    "    }\n",
    "    \n",
    "    return scores"
   ]
  },
  {
   "cell_type": "markdown",
   "id": "8c1d43ed",
   "metadata": {},
   "source": [
    "<h4><font color=mediumvioletred>Create a method to get a dataframe containing actual values, predictions and the differences between the two</font></h4>"
   ]
  },
  {
   "cell_type": "code",
   "execution_count": 9,
   "id": "8de71fb5",
   "metadata": {},
   "outputs": [],
   "source": [
    "def get_scores_dataframe(model):\n",
    "    test_preds = model.predict(X_test)\n",
    "    mae = mean_absolute_error(y_test, test_preds)\n",
    "\n",
    "    df = pd.DataFrame(data={\"actual values\": y_test,\n",
    "                           \"predicted values\": test_preds})\n",
    "\n",
    "    df[\"differences\"] = np.abs(df[\"predicted values\"] - df[\"actual values\"])\n",
    "\n",
    "    return df"
   ]
  },
  {
   "cell_type": "markdown",
   "id": "e8eb14a9",
   "metadata": {},
   "source": [
    "<h4><font color=mediumvioletred>Model with RandomForestRegressor </font></h4>"
   ]
  },
  {
   "cell_type": "code",
   "execution_count": 10,
   "id": "8da08b52",
   "metadata": {},
   "outputs": [
    {
     "data": {
      "text/plain": [
       "RandomForestRegressor(n_jobs=-1, random_state=42)"
      ]
     },
     "execution_count": 10,
     "metadata": {},
     "output_type": "execute_result"
    }
   ],
   "source": [
    "rf_model = RandomForestRegressor(n_jobs=-1,\n",
    "                             random_state=42)\n",
    "\n",
    "# fit the model\n",
    "rf_model.fit(X_train, y_train)"
   ]
  },
  {
   "cell_type": "code",
   "execution_count": 11,
   "id": "fc366a2a",
   "metadata": {},
   "outputs": [
    {
     "data": {
      "text/plain": [
       "{'Training MAE': 0.04148096618323276, 'Testing MAE': 2.204505979700974}"
      ]
     },
     "execution_count": 11,
     "metadata": {},
     "output_type": "execute_result"
    }
   ],
   "source": [
    "# score model\n",
    "show_scores(rf_model)"
   ]
  },
  {
   "cell_type": "code",
   "execution_count": 12,
   "id": "406d0e1c",
   "metadata": {},
   "outputs": [
    {
     "data": {
      "text/html": [
       "<div>\n",
       "<style scoped>\n",
       "    .dataframe tbody tr th:only-of-type {\n",
       "        vertical-align: middle;\n",
       "    }\n",
       "\n",
       "    .dataframe tbody tr th {\n",
       "        vertical-align: top;\n",
       "    }\n",
       "\n",
       "    .dataframe thead th {\n",
       "        text-align: right;\n",
       "    }\n",
       "</style>\n",
       "<table border=\"1\" class=\"dataframe\">\n",
       "  <thead>\n",
       "    <tr style=\"text-align: right;\">\n",
       "      <th></th>\n",
       "      <th>actual values</th>\n",
       "      <th>predicted values</th>\n",
       "      <th>differences</th>\n",
       "    </tr>\n",
       "  </thead>\n",
       "  <tbody>\n",
       "    <tr>\n",
       "      <th>7787</th>\n",
       "      <td>3.272192</td>\n",
       "      <td>3.272361</td>\n",
       "      <td>0.000169</td>\n",
       "    </tr>\n",
       "    <tr>\n",
       "      <th>7760</th>\n",
       "      <td>3.272192</td>\n",
       "      <td>3.272361</td>\n",
       "      <td>0.000169</td>\n",
       "    </tr>\n",
       "    <tr>\n",
       "      <th>7759</th>\n",
       "      <td>3.272192</td>\n",
       "      <td>3.272866</td>\n",
       "      <td>0.000674</td>\n",
       "    </tr>\n",
       "    <tr>\n",
       "      <th>7783</th>\n",
       "      <td>3.272192</td>\n",
       "      <td>3.274034</td>\n",
       "      <td>0.001842</td>\n",
       "    </tr>\n",
       "    <tr>\n",
       "      <th>7769</th>\n",
       "      <td>3.272192</td>\n",
       "      <td>3.274801</td>\n",
       "      <td>0.002609</td>\n",
       "    </tr>\n",
       "    <tr>\n",
       "      <th>7766</th>\n",
       "      <td>3.272192</td>\n",
       "      <td>3.274801</td>\n",
       "      <td>0.002609</td>\n",
       "    </tr>\n",
       "    <tr>\n",
       "      <th>7764</th>\n",
       "      <td>3.272192</td>\n",
       "      <td>3.274854</td>\n",
       "      <td>0.002662</td>\n",
       "    </tr>\n",
       "    <tr>\n",
       "      <th>7777</th>\n",
       "      <td>3.195306</td>\n",
       "      <td>3.237576</td>\n",
       "      <td>0.042270</td>\n",
       "    </tr>\n",
       "    <tr>\n",
       "      <th>7782</th>\n",
       "      <td>3.203754</td>\n",
       "      <td>3.248858</td>\n",
       "      <td>0.045104</td>\n",
       "    </tr>\n",
       "    <tr>\n",
       "      <th>7784</th>\n",
       "      <td>3.203754</td>\n",
       "      <td>3.251493</td>\n",
       "      <td>0.047739</td>\n",
       "    </tr>\n",
       "  </tbody>\n",
       "</table>\n",
       "</div>"
      ],
      "text/plain": [
       "      actual values  predicted values  differences\n",
       "7787       3.272192          3.272361     0.000169\n",
       "7760       3.272192          3.272361     0.000169\n",
       "7759       3.272192          3.272866     0.000674\n",
       "7783       3.272192          3.274034     0.001842\n",
       "7769       3.272192          3.274801     0.002609\n",
       "7766       3.272192          3.274801     0.002609\n",
       "7764       3.272192          3.274854     0.002662\n",
       "7777       3.195306          3.237576     0.042270\n",
       "7782       3.203754          3.248858     0.045104\n",
       "7784       3.203754          3.251493     0.047739"
      ]
     },
     "execution_count": 12,
     "metadata": {},
     "output_type": "execute_result"
    }
   ],
   "source": [
    "# create dataframe containing actual values, predictions and the differences between them\n",
    "df = get_scores_dataframe(rf_model)\n",
    "df.sort_values(by=\"differences\").head(10)"
   ]
  },
  {
   "cell_type": "markdown",
   "id": "1615bb6a",
   "metadata": {},
   "source": [
    "<h4><font color=mediumvioletred>Model with SGDClassifier </font></h4>"
   ]
  },
  {
   "cell_type": "code",
   "execution_count": 13,
   "id": "c988406b",
   "metadata": {},
   "outputs": [
    {
     "data": {
      "text/plain": [
       "SGDClassifier(n_jobs=-1, random_state=42)"
      ]
     },
     "execution_count": 13,
     "metadata": {},
     "output_type": "execute_result"
    }
   ],
   "source": [
    "sgd_model = SGDClassifier(n_jobs=-1,\n",
    "                        random_state=42)\n",
    "\n",
    "# fit the model\n",
    "sgd_model.fit(X_train, y_train.astype(int))"
   ]
  },
  {
   "cell_type": "code",
   "execution_count": 14,
   "id": "660a5391",
   "metadata": {},
   "outputs": [
    {
     "data": {
      "text/plain": [
       "{'Training MAE': 6.002589016170117, 'Testing MAE': 2.0665269534696233}"
      ]
     },
     "execution_count": 14,
     "metadata": {},
     "output_type": "execute_result"
    }
   ],
   "source": [
    "# score model\n",
    "show_scores(sgd_model)"
   ]
  },
  {
   "cell_type": "code",
   "execution_count": 15,
   "id": "1b492569",
   "metadata": {},
   "outputs": [
    {
     "data": {
      "text/html": [
       "<div>\n",
       "<style scoped>\n",
       "    .dataframe tbody tr th:only-of-type {\n",
       "        vertical-align: middle;\n",
       "    }\n",
       "\n",
       "    .dataframe tbody tr th {\n",
       "        vertical-align: top;\n",
       "    }\n",
       "\n",
       "    .dataframe thead th {\n",
       "        text-align: right;\n",
       "    }\n",
       "</style>\n",
       "<table border=\"1\" class=\"dataframe\">\n",
       "  <thead>\n",
       "    <tr style=\"text-align: right;\">\n",
       "      <th></th>\n",
       "      <th>actual values</th>\n",
       "      <th>predicted values</th>\n",
       "      <th>differences</th>\n",
       "    </tr>\n",
       "  </thead>\n",
       "  <tbody>\n",
       "    <tr>\n",
       "      <th>7552</th>\n",
       "      <td>7.984402</td>\n",
       "      <td>8</td>\n",
       "      <td>0.015598</td>\n",
       "    </tr>\n",
       "    <tr>\n",
       "      <th>7547</th>\n",
       "      <td>7.984402</td>\n",
       "      <td>8</td>\n",
       "      <td>0.015598</td>\n",
       "    </tr>\n",
       "    <tr>\n",
       "      <th>7795</th>\n",
       "      <td>4.019568</td>\n",
       "      <td>4</td>\n",
       "      <td>0.019568</td>\n",
       "    </tr>\n",
       "    <tr>\n",
       "      <th>7906</th>\n",
       "      <td>4.019999</td>\n",
       "      <td>4</td>\n",
       "      <td>0.019999</td>\n",
       "    </tr>\n",
       "    <tr>\n",
       "      <th>7911</th>\n",
       "      <td>4.019999</td>\n",
       "      <td>4</td>\n",
       "      <td>0.019999</td>\n",
       "    </tr>\n",
       "    <tr>\n",
       "      <th>7789</th>\n",
       "      <td>3.960641</td>\n",
       "      <td>4</td>\n",
       "      <td>0.039359</td>\n",
       "    </tr>\n",
       "    <tr>\n",
       "      <th>7537</th>\n",
       "      <td>7.951692</td>\n",
       "      <td>8</td>\n",
       "      <td>0.048308</td>\n",
       "    </tr>\n",
       "    <tr>\n",
       "      <th>7540</th>\n",
       "      <td>7.951692</td>\n",
       "      <td>8</td>\n",
       "      <td>0.048308</td>\n",
       "    </tr>\n",
       "    <tr>\n",
       "      <th>7538</th>\n",
       "      <td>7.951692</td>\n",
       "      <td>8</td>\n",
       "      <td>0.048308</td>\n",
       "    </tr>\n",
       "    <tr>\n",
       "      <th>7730</th>\n",
       "      <td>8.052810</td>\n",
       "      <td>8</td>\n",
       "      <td>0.052810</td>\n",
       "    </tr>\n",
       "  </tbody>\n",
       "</table>\n",
       "</div>"
      ],
      "text/plain": [
       "      actual values  predicted values  differences\n",
       "7552       7.984402                 8     0.015598\n",
       "7547       7.984402                 8     0.015598\n",
       "7795       4.019568                 4     0.019568\n",
       "7906       4.019999                 4     0.019999\n",
       "7911       4.019999                 4     0.019999\n",
       "7789       3.960641                 4     0.039359\n",
       "7537       7.951692                 8     0.048308\n",
       "7540       7.951692                 8     0.048308\n",
       "7538       7.951692                 8     0.048308\n",
       "7730       8.052810                 8     0.052810"
      ]
     },
     "execution_count": 15,
     "metadata": {},
     "output_type": "execute_result"
    }
   ],
   "source": [
    "# create dataframe containing actual values, predictions and the differences between them\n",
    "df = get_scores_dataframe(sgd_model)\n",
    "df.sort_values(by=\"differences\").head(10)"
   ]
  },
  {
   "cell_type": "markdown",
   "id": "051d9f3d",
   "metadata": {},
   "source": [
    "<h4><font color=mediumvioletred>Model with BayesianRidge </font></h4>"
   ]
  },
  {
   "cell_type": "code",
   "execution_count": 16,
   "id": "f581ff8a",
   "metadata": {},
   "outputs": [
    {
     "data": {
      "text/plain": [
       "BayesianRidge()"
      ]
     },
     "execution_count": 16,
     "metadata": {},
     "output_type": "execute_result"
    }
   ],
   "source": [
    "br_model = BayesianRidge()\n",
    "\n",
    "# fit the model\n",
    "br_model.fit(X_train, y_train)"
   ]
  },
  {
   "cell_type": "code",
   "execution_count": 17,
   "id": "50444332",
   "metadata": {},
   "outputs": [
    {
     "data": {
      "text/plain": [
       "{'Training MAE': 4.4578978244784055, 'Testing MAE': 4.6377377180052655}"
      ]
     },
     "execution_count": 17,
     "metadata": {},
     "output_type": "execute_result"
    }
   ],
   "source": [
    "# score model\n",
    "show_scores(br_model)"
   ]
  },
  {
   "cell_type": "code",
   "execution_count": 18,
   "id": "3f237fd9",
   "metadata": {},
   "outputs": [
    {
     "data": {
      "text/html": [
       "<div>\n",
       "<style scoped>\n",
       "    .dataframe tbody tr th:only-of-type {\n",
       "        vertical-align: middle;\n",
       "    }\n",
       "\n",
       "    .dataframe tbody tr th {\n",
       "        vertical-align: top;\n",
       "    }\n",
       "\n",
       "    .dataframe thead th {\n",
       "        text-align: right;\n",
       "    }\n",
       "</style>\n",
       "<table border=\"1\" class=\"dataframe\">\n",
       "  <thead>\n",
       "    <tr style=\"text-align: right;\">\n",
       "      <th></th>\n",
       "      <th>actual values</th>\n",
       "      <th>predicted values</th>\n",
       "      <th>differences</th>\n",
       "    </tr>\n",
       "  </thead>\n",
       "  <tbody>\n",
       "    <tr>\n",
       "      <th>7656</th>\n",
       "      <td>6.580035</td>\n",
       "      <td>6.570071</td>\n",
       "      <td>0.009964</td>\n",
       "    </tr>\n",
       "    <tr>\n",
       "      <th>7687</th>\n",
       "      <td>6.757639</td>\n",
       "      <td>6.741476</td>\n",
       "      <td>0.016164</td>\n",
       "    </tr>\n",
       "    <tr>\n",
       "      <th>7670</th>\n",
       "      <td>6.775566</td>\n",
       "      <td>6.800379</td>\n",
       "      <td>0.024813</td>\n",
       "    </tr>\n",
       "    <tr>\n",
       "      <th>7675</th>\n",
       "      <td>6.580035</td>\n",
       "      <td>6.555095</td>\n",
       "      <td>0.024941</td>\n",
       "    </tr>\n",
       "    <tr>\n",
       "      <th>7667</th>\n",
       "      <td>6.580035</td>\n",
       "      <td>6.551839</td>\n",
       "      <td>0.028196</td>\n",
       "    </tr>\n",
       "    <tr>\n",
       "      <th>7664</th>\n",
       "      <td>6.757639</td>\n",
       "      <td>6.795211</td>\n",
       "      <td>0.037572</td>\n",
       "    </tr>\n",
       "    <tr>\n",
       "      <th>7674</th>\n",
       "      <td>6.757639</td>\n",
       "      <td>6.710497</td>\n",
       "      <td>0.047143</td>\n",
       "    </tr>\n",
       "    <tr>\n",
       "      <th>7660</th>\n",
       "      <td>6.757639</td>\n",
       "      <td>6.700077</td>\n",
       "      <td>0.057562</td>\n",
       "    </tr>\n",
       "    <tr>\n",
       "      <th>7682</th>\n",
       "      <td>6.580035</td>\n",
       "      <td>6.640109</td>\n",
       "      <td>0.060074</td>\n",
       "    </tr>\n",
       "    <tr>\n",
       "      <th>7681</th>\n",
       "      <td>6.580035</td>\n",
       "      <td>6.644488</td>\n",
       "      <td>0.064453</td>\n",
       "    </tr>\n",
       "  </tbody>\n",
       "</table>\n",
       "</div>"
      ],
      "text/plain": [
       "      actual values  predicted values  differences\n",
       "7656       6.580035          6.570071     0.009964\n",
       "7687       6.757639          6.741476     0.016164\n",
       "7670       6.775566          6.800379     0.024813\n",
       "7675       6.580035          6.555095     0.024941\n",
       "7667       6.580035          6.551839     0.028196\n",
       "7664       6.757639          6.795211     0.037572\n",
       "7674       6.757639          6.710497     0.047143\n",
       "7660       6.757639          6.700077     0.057562\n",
       "7682       6.580035          6.640109     0.060074\n",
       "7681       6.580035          6.644488     0.064453"
      ]
     },
     "execution_count": 18,
     "metadata": {},
     "output_type": "execute_result"
    }
   ],
   "source": [
    "# create dataframe containing actual values, predictions and the differences between them\n",
    "df = get_scores_dataframe(br_model)\n",
    "df.sort_values(by=\"differences\").head(10)"
   ]
  },
  {
   "cell_type": "markdown",
   "id": "bbb23291",
   "metadata": {},
   "source": [
    "<h4><font color=mediumvioletred>Model with Lasso </font></h4>"
   ]
  },
  {
   "cell_type": "code",
   "execution_count": 19,
   "id": "67a3327d",
   "metadata": {},
   "outputs": [
    {
     "data": {
      "text/plain": [
       "LassoLars(alpha=0.1, normalize=False, random_state=42)"
      ]
     },
     "execution_count": 19,
     "metadata": {},
     "output_type": "execute_result"
    }
   ],
   "source": [
    "lasso_model = LassoLars(alpha=.1, \n",
    "                  normalize=False,\n",
    "                  random_state=42)\n",
    "\n",
    "# fit the model\n",
    "lasso_model.fit(X_train, y_train)"
   ]
  },
  {
   "cell_type": "code",
   "execution_count": 20,
   "id": "6c62aca6",
   "metadata": {},
   "outputs": [
    {
     "data": {
      "text/plain": [
       "{'Training MAE': 4.619486298105045, 'Testing MAE': 3.4365124189695675}"
      ]
     },
     "execution_count": 20,
     "metadata": {},
     "output_type": "execute_result"
    }
   ],
   "source": [
    "# score model\n",
    "show_scores(lasso_model)"
   ]
  },
  {
   "cell_type": "code",
   "execution_count": 21,
   "id": "9b74e8af",
   "metadata": {},
   "outputs": [
    {
     "data": {
      "text/html": [
       "<div>\n",
       "<style scoped>\n",
       "    .dataframe tbody tr th:only-of-type {\n",
       "        vertical-align: middle;\n",
       "    }\n",
       "\n",
       "    .dataframe tbody tr th {\n",
       "        vertical-align: top;\n",
       "    }\n",
       "\n",
       "    .dataframe thead th {\n",
       "        text-align: right;\n",
       "    }\n",
       "</style>\n",
       "<table border=\"1\" class=\"dataframe\">\n",
       "  <thead>\n",
       "    <tr style=\"text-align: right;\">\n",
       "      <th></th>\n",
       "      <th>actual values</th>\n",
       "      <th>predicted values</th>\n",
       "      <th>differences</th>\n",
       "    </tr>\n",
       "  </thead>\n",
       "  <tbody>\n",
       "    <tr>\n",
       "      <th>7652</th>\n",
       "      <td>6.357635</td>\n",
       "      <td>6.127766</td>\n",
       "      <td>0.229869</td>\n",
       "    </tr>\n",
       "    <tr>\n",
       "      <th>7636</th>\n",
       "      <td>6.406548</td>\n",
       "      <td>6.138659</td>\n",
       "      <td>0.267889</td>\n",
       "    </tr>\n",
       "    <tr>\n",
       "      <th>7637</th>\n",
       "      <td>6.329469</td>\n",
       "      <td>6.036660</td>\n",
       "      <td>0.292808</td>\n",
       "    </tr>\n",
       "    <tr>\n",
       "      <th>7628</th>\n",
       "      <td>6.406548</td>\n",
       "      <td>6.099841</td>\n",
       "      <td>0.306707</td>\n",
       "    </tr>\n",
       "    <tr>\n",
       "      <th>7626</th>\n",
       "      <td>6.485935</td>\n",
       "      <td>6.153935</td>\n",
       "      <td>0.331999</td>\n",
       "    </tr>\n",
       "    <tr>\n",
       "      <th>7624</th>\n",
       "      <td>6.440382</td>\n",
       "      <td>6.086861</td>\n",
       "      <td>0.353521</td>\n",
       "    </tr>\n",
       "    <tr>\n",
       "      <th>7650</th>\n",
       "      <td>6.440382</td>\n",
       "      <td>6.081795</td>\n",
       "      <td>0.358587</td>\n",
       "    </tr>\n",
       "    <tr>\n",
       "      <th>7648</th>\n",
       "      <td>6.357635</td>\n",
       "      <td>5.970011</td>\n",
       "      <td>0.387624</td>\n",
       "    </tr>\n",
       "    <tr>\n",
       "      <th>7623</th>\n",
       "      <td>6.440382</td>\n",
       "      <td>6.049700</td>\n",
       "      <td>0.390682</td>\n",
       "    </tr>\n",
       "    <tr>\n",
       "      <th>7631</th>\n",
       "      <td>6.440382</td>\n",
       "      <td>6.046309</td>\n",
       "      <td>0.394073</td>\n",
       "    </tr>\n",
       "  </tbody>\n",
       "</table>\n",
       "</div>"
      ],
      "text/plain": [
       "      actual values  predicted values  differences\n",
       "7652       6.357635          6.127766     0.229869\n",
       "7636       6.406548          6.138659     0.267889\n",
       "7637       6.329469          6.036660     0.292808\n",
       "7628       6.406548          6.099841     0.306707\n",
       "7626       6.485935          6.153935     0.331999\n",
       "7624       6.440382          6.086861     0.353521\n",
       "7650       6.440382          6.081795     0.358587\n",
       "7648       6.357635          5.970011     0.387624\n",
       "7623       6.440382          6.049700     0.390682\n",
       "7631       6.440382          6.046309     0.394073"
      ]
     },
     "execution_count": 21,
     "metadata": {},
     "output_type": "execute_result"
    }
   ],
   "source": [
    "# create dataframe containing actual values, predictions and the differences between them\n",
    "df = get_scores_dataframe(lasso_model)\n",
    "df.sort_values(by=\"differences\").head(10)"
   ]
  },
  {
   "cell_type": "markdown",
   "id": "45d3664c",
   "metadata": {},
   "source": [
    "<h4><font color=mediumvioletred>Model with ElasticNet </font></h4>"
   ]
  },
  {
   "cell_type": "code",
   "execution_count": 22,
   "id": "dde87c2b",
   "metadata": {},
   "outputs": [
    {
     "data": {
      "text/plain": [
       "ElasticNet(random_state=42)"
      ]
     },
     "execution_count": 22,
     "metadata": {},
     "output_type": "execute_result"
    }
   ],
   "source": [
    "en_model = ElasticNet(random_state=42)\n",
    "\n",
    "# fit the model\n",
    "en_model.fit(X_train, y_train)"
   ]
  },
  {
   "cell_type": "code",
   "execution_count": 23,
   "id": "7dd8bfbb",
   "metadata": {},
   "outputs": [
    {
     "data": {
      "text/plain": [
       "{'Training MAE': 4.618523434662631, 'Testing MAE': 3.3682789129454496}"
      ]
     },
     "execution_count": 23,
     "metadata": {},
     "output_type": "execute_result"
    }
   ],
   "source": [
    "# score model\n",
    "show_scores(en_model)"
   ]
  },
  {
   "cell_type": "code",
   "execution_count": 24,
   "id": "83f86332",
   "metadata": {},
   "outputs": [
    {
     "data": {
      "text/html": [
       "<div>\n",
       "<style scoped>\n",
       "    .dataframe tbody tr th:only-of-type {\n",
       "        vertical-align: middle;\n",
       "    }\n",
       "\n",
       "    .dataframe tbody tr th {\n",
       "        vertical-align: top;\n",
       "    }\n",
       "\n",
       "    .dataframe thead th {\n",
       "        text-align: right;\n",
       "    }\n",
       "</style>\n",
       "<table border=\"1\" class=\"dataframe\">\n",
       "  <thead>\n",
       "    <tr style=\"text-align: right;\">\n",
       "      <th></th>\n",
       "      <th>actual values</th>\n",
       "      <th>predicted values</th>\n",
       "      <th>differences</th>\n",
       "    </tr>\n",
       "  </thead>\n",
       "  <tbody>\n",
       "    <tr>\n",
       "      <th>7652</th>\n",
       "      <td>6.357635</td>\n",
       "      <td>6.256553</td>\n",
       "      <td>0.101082</td>\n",
       "    </tr>\n",
       "    <tr>\n",
       "      <th>7637</th>\n",
       "      <td>6.329469</td>\n",
       "      <td>6.211098</td>\n",
       "      <td>0.118370</td>\n",
       "    </tr>\n",
       "    <tr>\n",
       "      <th>7636</th>\n",
       "      <td>6.406548</td>\n",
       "      <td>6.271537</td>\n",
       "      <td>0.135011</td>\n",
       "    </tr>\n",
       "    <tr>\n",
       "      <th>7628</th>\n",
       "      <td>6.406548</td>\n",
       "      <td>6.250314</td>\n",
       "      <td>0.156234</td>\n",
       "    </tr>\n",
       "    <tr>\n",
       "      <th>7648</th>\n",
       "      <td>6.357635</td>\n",
       "      <td>6.197059</td>\n",
       "      <td>0.160576</td>\n",
       "    </tr>\n",
       "    <tr>\n",
       "      <th>7629</th>\n",
       "      <td>6.357635</td>\n",
       "      <td>6.184467</td>\n",
       "      <td>0.173168</td>\n",
       "    </tr>\n",
       "    <tr>\n",
       "      <th>7650</th>\n",
       "      <td>6.440382</td>\n",
       "      <td>6.226776</td>\n",
       "      <td>0.213605</td>\n",
       "    </tr>\n",
       "    <tr>\n",
       "      <th>7626</th>\n",
       "      <td>6.485935</td>\n",
       "      <td>6.271435</td>\n",
       "      <td>0.214500</td>\n",
       "    </tr>\n",
       "    <tr>\n",
       "      <th>7624</th>\n",
       "      <td>6.440382</td>\n",
       "      <td>6.221882</td>\n",
       "      <td>0.218500</td>\n",
       "    </tr>\n",
       "    <tr>\n",
       "      <th>7623</th>\n",
       "      <td>6.440382</td>\n",
       "      <td>6.204750</td>\n",
       "      <td>0.235632</td>\n",
       "    </tr>\n",
       "  </tbody>\n",
       "</table>\n",
       "</div>"
      ],
      "text/plain": [
       "      actual values  predicted values  differences\n",
       "7652       6.357635          6.256553     0.101082\n",
       "7637       6.329469          6.211098     0.118370\n",
       "7636       6.406548          6.271537     0.135011\n",
       "7628       6.406548          6.250314     0.156234\n",
       "7648       6.357635          6.197059     0.160576\n",
       "7629       6.357635          6.184467     0.173168\n",
       "7650       6.440382          6.226776     0.213605\n",
       "7626       6.485935          6.271435     0.214500\n",
       "7624       6.440382          6.221882     0.218500\n",
       "7623       6.440382          6.204750     0.235632"
      ]
     },
     "execution_count": 24,
     "metadata": {},
     "output_type": "execute_result"
    }
   ],
   "source": [
    "# create dataframe containing actual values, predictions and the differences between them\n",
    "df = get_scores_dataframe(en_model)\n",
    "df.sort_values(by=\"differences\").head(10)"
   ]
  },
  {
   "cell_type": "markdown",
   "id": "23cf13b8",
   "metadata": {},
   "source": [
    "<h4><font color=mediumvioletred>Model with SVR </font></h4>"
   ]
  },
  {
   "cell_type": "code",
   "execution_count": 25,
   "id": "dedf10a8",
   "metadata": {},
   "outputs": [
    {
     "data": {
      "text/plain": [
       "SVR()"
      ]
     },
     "execution_count": 25,
     "metadata": {},
     "output_type": "execute_result"
    }
   ],
   "source": [
    "svr_model = SVR()\n",
    "\n",
    "# fit the model\n",
    "svr_model.fit(X_train, y_train)"
   ]
  },
  {
   "cell_type": "code",
   "execution_count": 26,
   "id": "803528cc",
   "metadata": {},
   "outputs": [
    {
     "data": {
      "text/plain": [
       "{'Training MAE': 5.295803803386109, 'Testing MAE': 3.0729252334507695}"
      ]
     },
     "execution_count": 26,
     "metadata": {},
     "output_type": "execute_result"
    }
   ],
   "source": [
    "# score model\n",
    "show_scores(svr_model)"
   ]
  },
  {
   "cell_type": "code",
   "execution_count": 27,
   "id": "c59c13fa",
   "metadata": {},
   "outputs": [
    {
     "data": {
      "text/html": [
       "<div>\n",
       "<style scoped>\n",
       "    .dataframe tbody tr th:only-of-type {\n",
       "        vertical-align: middle;\n",
       "    }\n",
       "\n",
       "    .dataframe tbody tr th {\n",
       "        vertical-align: top;\n",
       "    }\n",
       "\n",
       "    .dataframe thead th {\n",
       "        text-align: right;\n",
       "    }\n",
       "</style>\n",
       "<table border=\"1\" class=\"dataframe\">\n",
       "  <thead>\n",
       "    <tr style=\"text-align: right;\">\n",
       "      <th></th>\n",
       "      <th>actual values</th>\n",
       "      <th>predicted values</th>\n",
       "      <th>differences</th>\n",
       "    </tr>\n",
       "  </thead>\n",
       "  <tbody>\n",
       "    <tr>\n",
       "      <th>7555</th>\n",
       "      <td>7.813364</td>\n",
       "      <td>7.826770</td>\n",
       "      <td>0.013406</td>\n",
       "    </tr>\n",
       "    <tr>\n",
       "      <th>7750</th>\n",
       "      <td>7.594278</td>\n",
       "      <td>7.577156</td>\n",
       "      <td>0.017122</td>\n",
       "    </tr>\n",
       "    <tr>\n",
       "      <th>7744</th>\n",
       "      <td>7.676454</td>\n",
       "      <td>7.695858</td>\n",
       "      <td>0.019405</td>\n",
       "    </tr>\n",
       "    <tr>\n",
       "      <th>7527</th>\n",
       "      <td>7.705212</td>\n",
       "      <td>7.726794</td>\n",
       "      <td>0.021582</td>\n",
       "    </tr>\n",
       "    <tr>\n",
       "      <th>7653</th>\n",
       "      <td>6.602896</td>\n",
       "      <td>6.558139</td>\n",
       "      <td>0.044757</td>\n",
       "    </tr>\n",
       "    <tr>\n",
       "      <th>7738</th>\n",
       "      <td>7.500286</td>\n",
       "      <td>7.454228</td>\n",
       "      <td>0.046057</td>\n",
       "    </tr>\n",
       "    <tr>\n",
       "      <th>7595</th>\n",
       "      <td>8.782942</td>\n",
       "      <td>8.831538</td>\n",
       "      <td>0.048597</td>\n",
       "    </tr>\n",
       "    <tr>\n",
       "      <th>7600</th>\n",
       "      <td>8.485416</td>\n",
       "      <td>8.564541</td>\n",
       "      <td>0.079124</td>\n",
       "    </tr>\n",
       "    <tr>\n",
       "      <th>7721</th>\n",
       "      <td>8.458179</td>\n",
       "      <td>8.368847</td>\n",
       "      <td>0.089332</td>\n",
       "    </tr>\n",
       "    <tr>\n",
       "      <th>7753</th>\n",
       "      <td>7.633494</td>\n",
       "      <td>7.541329</td>\n",
       "      <td>0.092165</td>\n",
       "    </tr>\n",
       "  </tbody>\n",
       "</table>\n",
       "</div>"
      ],
      "text/plain": [
       "      actual values  predicted values  differences\n",
       "7555       7.813364          7.826770     0.013406\n",
       "7750       7.594278          7.577156     0.017122\n",
       "7744       7.676454          7.695858     0.019405\n",
       "7527       7.705212          7.726794     0.021582\n",
       "7653       6.602896          6.558139     0.044757\n",
       "7738       7.500286          7.454228     0.046057\n",
       "7595       8.782942          8.831538     0.048597\n",
       "7600       8.485416          8.564541     0.079124\n",
       "7721       8.458179          8.368847     0.089332\n",
       "7753       7.633494          7.541329     0.092165"
      ]
     },
     "execution_count": 27,
     "metadata": {},
     "output_type": "execute_result"
    }
   ],
   "source": [
    "# create dataframe containing actual values, predictions and the differences between them\n",
    "df = get_scores_dataframe(svr_model)\n",
    "df.sort_values(by=\"differences\").head(10)"
   ]
  },
  {
   "cell_type": "markdown",
   "id": "9ec083f0",
   "metadata": {},
   "source": [
    "<h4><font color=mediumvioletred>Model with GradientBoostingRegressor </font></h4>"
   ]
  },
  {
   "cell_type": "code",
   "execution_count": 28,
   "id": "fbf18f41",
   "metadata": {},
   "outputs": [
    {
     "data": {
      "text/plain": [
       "GradientBoostingRegressor(max_depth=1, random_state=42)"
      ]
     },
     "execution_count": 28,
     "metadata": {},
     "output_type": "execute_result"
    }
   ],
   "source": [
    "gbr_model = GradientBoostingRegressor(n_estimators=100, \n",
    "                                  learning_rate=0.1, \n",
    "                                  max_depth=1,\n",
    "                                  random_state=42)\n",
    "\n",
    "# fit the model\n",
    "gbr_model.fit(X_train, y_train)"
   ]
  },
  {
   "cell_type": "code",
   "execution_count": 29,
   "id": "1abd53d2",
   "metadata": {},
   "outputs": [
    {
     "data": {
      "text/plain": [
       "{'Training MAE': 3.72130970813905, 'Testing MAE': 2.025178202818663}"
      ]
     },
     "execution_count": 29,
     "metadata": {},
     "output_type": "execute_result"
    }
   ],
   "source": [
    "# score model\n",
    "show_scores(gbr_model)"
   ]
  },
  {
   "cell_type": "code",
   "execution_count": 30,
   "id": "8c12d79e",
   "metadata": {},
   "outputs": [
    {
     "data": {
      "text/html": [
       "<div>\n",
       "<style scoped>\n",
       "    .dataframe tbody tr th:only-of-type {\n",
       "        vertical-align: middle;\n",
       "    }\n",
       "\n",
       "    .dataframe tbody tr th {\n",
       "        vertical-align: top;\n",
       "    }\n",
       "\n",
       "    .dataframe thead th {\n",
       "        text-align: right;\n",
       "    }\n",
       "</style>\n",
       "<table border=\"1\" class=\"dataframe\">\n",
       "  <thead>\n",
       "    <tr style=\"text-align: right;\">\n",
       "      <th></th>\n",
       "      <th>actual values</th>\n",
       "      <th>predicted values</th>\n",
       "      <th>differences</th>\n",
       "    </tr>\n",
       "  </thead>\n",
       "  <tbody>\n",
       "    <tr>\n",
       "      <th>7494</th>\n",
       "      <td>3.673863</td>\n",
       "      <td>3.654161</td>\n",
       "      <td>0.019703</td>\n",
       "    </tr>\n",
       "    <tr>\n",
       "      <th>7522</th>\n",
       "      <td>3.673863</td>\n",
       "      <td>3.654161</td>\n",
       "      <td>0.019703</td>\n",
       "    </tr>\n",
       "    <tr>\n",
       "      <th>7495</th>\n",
       "      <td>3.607192</td>\n",
       "      <td>3.654161</td>\n",
       "      <td>0.046969</td>\n",
       "    </tr>\n",
       "    <tr>\n",
       "      <th>7501</th>\n",
       "      <td>3.607192</td>\n",
       "      <td>3.654161</td>\n",
       "      <td>0.046969</td>\n",
       "    </tr>\n",
       "    <tr>\n",
       "      <th>7504</th>\n",
       "      <td>3.607192</td>\n",
       "      <td>3.654161</td>\n",
       "      <td>0.046969</td>\n",
       "    </tr>\n",
       "    <tr>\n",
       "      <th>7503</th>\n",
       "      <td>3.607192</td>\n",
       "      <td>3.654161</td>\n",
       "      <td>0.046969</td>\n",
       "    </tr>\n",
       "    <tr>\n",
       "      <th>7506</th>\n",
       "      <td>3.717458</td>\n",
       "      <td>3.654161</td>\n",
       "      <td>0.063297</td>\n",
       "    </tr>\n",
       "    <tr>\n",
       "      <th>7519</th>\n",
       "      <td>3.717458</td>\n",
       "      <td>3.654161</td>\n",
       "      <td>0.063297</td>\n",
       "    </tr>\n",
       "    <tr>\n",
       "      <th>7517</th>\n",
       "      <td>3.717458</td>\n",
       "      <td>3.654161</td>\n",
       "      <td>0.063297</td>\n",
       "    </tr>\n",
       "    <tr>\n",
       "      <th>7523</th>\n",
       "      <td>3.717458</td>\n",
       "      <td>3.654161</td>\n",
       "      <td>0.063297</td>\n",
       "    </tr>\n",
       "  </tbody>\n",
       "</table>\n",
       "</div>"
      ],
      "text/plain": [
       "      actual values  predicted values  differences\n",
       "7494       3.673863          3.654161     0.019703\n",
       "7522       3.673863          3.654161     0.019703\n",
       "7495       3.607192          3.654161     0.046969\n",
       "7501       3.607192          3.654161     0.046969\n",
       "7504       3.607192          3.654161     0.046969\n",
       "7503       3.607192          3.654161     0.046969\n",
       "7506       3.717458          3.654161     0.063297\n",
       "7519       3.717458          3.654161     0.063297\n",
       "7517       3.717458          3.654161     0.063297\n",
       "7523       3.717458          3.654161     0.063297"
      ]
     },
     "execution_count": 30,
     "metadata": {},
     "output_type": "execute_result"
    }
   ],
   "source": [
    "# create dataframe containing actual values, predictions and the differences between them\n",
    "df = get_scores_dataframe(gbr_model)\n",
    "df.sort_values(by=\"differences\").head(10)"
   ]
  },
  {
   "cell_type": "markdown",
   "id": "6930a7f6",
   "metadata": {},
   "source": [
    "<h4><font color=mediumvioletred>Conclusion </font></h4>"
   ]
  },
  {
   "cell_type": "markdown",
   "id": "f2e7989a",
   "metadata": {},
   "source": [
    "After calculating the MAE (average of the absolute differences between predictions and actual values), we found that the following models had the best predictions:\n",
    "* GradientBoostingRegressor: 2.025178202818663\n",
    "* SGDClassifier: 2.0665269534696233\n",
    "* RandomForestRegressor: 2.204505979700974\n",
    "\n",
    "**After using more data (from 2021-01-01 to 2021-11-18), the models' scores improved tremendously.**"
   ]
  },
  {
   "cell_type": "markdown",
   "id": "40b6d486",
   "metadata": {},
   "source": [
    "<h4><font color=mediumvioletred>Export the best model (GradientBoostingRegressor)</font></h4>"
   ]
  },
  {
   "cell_type": "code",
   "execution_count": 31,
   "id": "c809997f",
   "metadata": {},
   "outputs": [],
   "source": [
    "pickle.dump(gbr_model, open(\"models/gbr_air_quality_prediction_model.pkl\", \"wb\")) # wb = write binary"
   ]
  },
  {
   "cell_type": "markdown",
   "id": "5391c6e4",
   "metadata": {},
   "source": [
    "<h4><font color=mediumvioletred>Load the exported model and test it</font></h4>"
   ]
  },
  {
   "cell_type": "code",
   "execution_count": 32,
   "id": "0aedbc70",
   "metadata": {},
   "outputs": [
    {
     "data": {
      "text/plain": [
       "{'Training MAE': 3.72130970813905, 'Testing MAE': 2.025178202818663}"
      ]
     },
     "execution_count": 32,
     "metadata": {},
     "output_type": "execute_result"
    }
   ],
   "source": [
    "loaded_model = pickle.load(open(\"models/gbr_air_quality_prediction_model.pkl\", \"rb\"))\n",
    "show_scores(loaded_model)"
   ]
  }
 ],
 "metadata": {
  "kernelspec": {
   "display_name": "Python 3 (ipykernel)",
   "language": "python",
   "name": "python3"
  },
  "language_info": {
   "codemirror_mode": {
    "name": "ipython",
    "version": 3
   },
   "file_extension": ".py",
   "mimetype": "text/x-python",
   "name": "python",
   "nbconvert_exporter": "python",
   "pygments_lexer": "ipython3",
   "version": "3.9.13"
  }
 },
 "nbformat": 4,
 "nbformat_minor": 5
}
