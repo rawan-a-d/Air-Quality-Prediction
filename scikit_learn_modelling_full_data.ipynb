{
 "cells": [
  {
   "cell_type": "markdown",
   "id": "2db24e9f",
   "metadata": {},
   "source": [
    "<h1 style=\"font-size:3rem;color:maroon;\"> Predicting Air Pollution Level using Machine Learning</h1>\n",
    "\n",
    "This notebook is created for the modelling of the full data using [Scikit-learn](https://scikit-learn.org/stable/tutorial/machine_learning_map/index.html)."
   ]
  },
  {
   "cell_type": "markdown",
   "id": "58f6e46d",
   "metadata": {},
   "source": [
    "![title](images/scikit_learn_map.png)"
   ]
  },
  {
   "cell_type": "markdown",
   "id": "ba47ddae",
   "metadata": {},
   "source": [
    "<h2><font color=slateblue> Preparing the tools </font></h2>"
   ]
  },
  {
   "cell_type": "code",
   "execution_count": 1,
   "id": "e78ad191",
   "metadata": {},
   "outputs": [],
   "source": [
    "# Regular EDA\n",
    "import pandas as pd\n",
    "import numpy as np\n",
    "import seaborn as sns\n",
    "\n",
    "# Modelling\n",
    "from sklearn.ensemble import RandomForestRegressor\n",
    "from sklearn.linear_model import SGDClassifier, ElasticNet, BayesianRidge, LassoLars\n",
    "from sklearn.svm import SVR\n",
    "from sklearn.ensemble import GradientBoostingRegressor\n",
    "from sklearn.metrics import mean_absolute_error\n",
    "\n",
    "# Save a model\n",
    "import pickle"
   ]
  },
  {
   "cell_type": "markdown",
   "id": "2434455d",
   "metadata": {},
   "source": [
    "<h2><font color=slateblue>Read CSV file </font></h2>"
   ]
  },
  {
   "cell_type": "code",
   "execution_count": 2,
   "id": "8eb4eb42",
   "metadata": {},
   "outputs": [
    {
     "data": {
      "text/html": [
       "<div>\n",
       "<style scoped>\n",
       "    .dataframe tbody tr th:only-of-type {\n",
       "        vertical-align: middle;\n",
       "    }\n",
       "\n",
       "    .dataframe tbody tr th {\n",
       "        vertical-align: top;\n",
       "    }\n",
       "\n",
       "    .dataframe thead th {\n",
       "        text-align: right;\n",
       "    }\n",
       "</style>\n",
       "<table border=\"1\" class=\"dataframe\">\n",
       "  <thead>\n",
       "    <tr style=\"text-align: right;\">\n",
       "      <th></th>\n",
       "      <th>PC4</th>\n",
       "      <th>people_number</th>\n",
       "      <th>pm2.5</th>\n",
       "      <th>wd</th>\n",
       "      <th>ws</th>\n",
       "      <th>ssrd</th>\n",
       "      <th>blh</th>\n",
       "      <th>year</th>\n",
       "      <th>month</th>\n",
       "      <th>day</th>\n",
       "      <th>day_of_week</th>\n",
       "      <th>day_of_year</th>\n",
       "    </tr>\n",
       "  </thead>\n",
       "  <tbody>\n",
       "    <tr>\n",
       "      <th>9627</th>\n",
       "      <td>5642</td>\n",
       "      <td>10633.0</td>\n",
       "      <td>8.116954</td>\n",
       "      <td>242.498357</td>\n",
       "      <td>5.228662</td>\n",
       "      <td>22.051855</td>\n",
       "      <td>635.021184</td>\n",
       "      <td>2021</td>\n",
       "      <td>10</td>\n",
       "      <td>19</td>\n",
       "      <td>1</td>\n",
       "      <td>292</td>\n",
       "    </tr>\n",
       "    <tr>\n",
       "      <th>4434</th>\n",
       "      <td>5631</td>\n",
       "      <td>8700.0</td>\n",
       "      <td>14.202950</td>\n",
       "      <td>225.624177</td>\n",
       "      <td>2.885296</td>\n",
       "      <td>166.499413</td>\n",
       "      <td>593.492863</td>\n",
       "      <td>2021</td>\n",
       "      <td>5</td>\n",
       "      <td>15</td>\n",
       "      <td>5</td>\n",
       "      <td>135</td>\n",
       "    </tr>\n",
       "    <tr>\n",
       "      <th>7617</th>\n",
       "      <td>5657</td>\n",
       "      <td>19845.0</td>\n",
       "      <td>8.619268</td>\n",
       "      <td>209.563072</td>\n",
       "      <td>3.622298</td>\n",
       "      <td>74.004952</td>\n",
       "      <td>602.139474</td>\n",
       "      <td>2021</td>\n",
       "      <td>8</td>\n",
       "      <td>19</td>\n",
       "      <td>3</td>\n",
       "      <td>231</td>\n",
       "    </tr>\n",
       "    <tr>\n",
       "      <th>3730</th>\n",
       "      <td>5645</td>\n",
       "      <td>2962.0</td>\n",
       "      <td>3.491753</td>\n",
       "      <td>48.067562</td>\n",
       "      <td>3.536806</td>\n",
       "      <td>241.906814</td>\n",
       "      <td>640.432709</td>\n",
       "      <td>2021</td>\n",
       "      <td>4</td>\n",
       "      <td>24</td>\n",
       "      <td>5</td>\n",
       "      <td>114</td>\n",
       "    </tr>\n",
       "    <tr>\n",
       "      <th>1134</th>\n",
       "      <td>5625</td>\n",
       "      <td>5948.0</td>\n",
       "      <td>10.204138</td>\n",
       "      <td>256.761792</td>\n",
       "      <td>3.579771</td>\n",
       "      <td>54.880698</td>\n",
       "      <td>373.150277</td>\n",
       "      <td>2021</td>\n",
       "      <td>2</td>\n",
       "      <td>4</td>\n",
       "      <td>3</td>\n",
       "      <td>35</td>\n",
       "    </tr>\n",
       "  </tbody>\n",
       "</table>\n",
       "</div>"
      ],
      "text/plain": [
       "       PC4  people_number      pm2.5          wd        ws        ssrd  \\\n",
       "9627  5642        10633.0   8.116954  242.498357  5.228662   22.051855   \n",
       "4434  5631         8700.0  14.202950  225.624177  2.885296  166.499413   \n",
       "7617  5657        19845.0   8.619268  209.563072  3.622298   74.004952   \n",
       "3730  5645         2962.0   3.491753   48.067562  3.536806  241.906814   \n",
       "1134  5625         5948.0  10.204138  256.761792  3.579771   54.880698   \n",
       "\n",
       "             blh  year  month  day  day_of_week  day_of_year  \n",
       "9627  635.021184  2021     10   19            1          292  \n",
       "4434  593.492863  2021      5   15            5          135  \n",
       "7617  602.139474  2021      8   19            3          231  \n",
       "3730  640.432709  2021      4   24            5          114  \n",
       "1134  373.150277  2021      2    4            3           35  "
      ]
     },
     "execution_count": 2,
     "metadata": {},
     "output_type": "execute_result"
    }
   ],
   "source": [
    "# read prepared dataset csv file\n",
    "df = pd.read_csv(\"data/df_prepared_full_data.csv\")\n",
    "df.sample(5)"
   ]
  },
  {
   "cell_type": "markdown",
   "id": "b24f31a7",
   "metadata": {},
   "source": [
    "<h2><font color=slateblue>Modelling using daily data</font></h2>"
   ]
  },
  {
   "cell_type": "markdown",
   "id": "c8b12ef8",
   "metadata": {},
   "source": [
    "<h4><font color=mediumvioletred>Get X and y</font></h4>"
   ]
  },
  {
   "cell_type": "code",
   "execution_count": 3,
   "id": "3cd83af1",
   "metadata": {},
   "outputs": [],
   "source": [
    "X = df.drop(\"pm2.5\", axis=1)\n",
    "y = df[\"pm2.5\"]"
   ]
  },
  {
   "cell_type": "markdown",
   "id": "eb5c7d52",
   "metadata": {},
   "source": [
    "<h4><font color=mediumvioletred>Get a sample of X </font></h4>"
   ]
  },
  {
   "cell_type": "code",
   "execution_count": 4,
   "id": "b9c5b34e",
   "metadata": {},
   "outputs": [
    {
     "data": {
      "text/html": [
       "<div>\n",
       "<style scoped>\n",
       "    .dataframe tbody tr th:only-of-type {\n",
       "        vertical-align: middle;\n",
       "    }\n",
       "\n",
       "    .dataframe tbody tr th {\n",
       "        vertical-align: top;\n",
       "    }\n",
       "\n",
       "    .dataframe thead th {\n",
       "        text-align: right;\n",
       "    }\n",
       "</style>\n",
       "<table border=\"1\" class=\"dataframe\">\n",
       "  <thead>\n",
       "    <tr style=\"text-align: right;\">\n",
       "      <th></th>\n",
       "      <th>PC4</th>\n",
       "      <th>people_number</th>\n",
       "      <th>wd</th>\n",
       "      <th>ws</th>\n",
       "      <th>ssrd</th>\n",
       "      <th>blh</th>\n",
       "      <th>year</th>\n",
       "      <th>month</th>\n",
       "      <th>day</th>\n",
       "      <th>day_of_week</th>\n",
       "      <th>day_of_year</th>\n",
       "    </tr>\n",
       "  </thead>\n",
       "  <tbody>\n",
       "    <tr>\n",
       "      <th>5880</th>\n",
       "      <td>5611</td>\n",
       "      <td>16426.0</td>\n",
       "      <td>210.552521</td>\n",
       "      <td>1.576502</td>\n",
       "      <td>170.287323</td>\n",
       "      <td>374.055425</td>\n",
       "      <td>2021</td>\n",
       "      <td>6</td>\n",
       "      <td>28</td>\n",
       "      <td>0</td>\n",
       "      <td>179</td>\n",
       "    </tr>\n",
       "    <tr>\n",
       "      <th>9258</th>\n",
       "      <td>5622</td>\n",
       "      <td>10284.0</td>\n",
       "      <td>65.861809</td>\n",
       "      <td>2.246702</td>\n",
       "      <td>120.903642</td>\n",
       "      <td>261.327832</td>\n",
       "      <td>2021</td>\n",
       "      <td>10</td>\n",
       "      <td>8</td>\n",
       "      <td>4</td>\n",
       "      <td>281</td>\n",
       "    </tr>\n",
       "    <tr>\n",
       "      <th>6501</th>\n",
       "      <td>5658</td>\n",
       "      <td>3225.0</td>\n",
       "      <td>90.621340</td>\n",
       "      <td>3.346490</td>\n",
       "      <td>311.078118</td>\n",
       "      <td>555.838895</td>\n",
       "      <td>2021</td>\n",
       "      <td>7</td>\n",
       "      <td>17</td>\n",
       "      <td>5</td>\n",
       "      <td>198</td>\n",
       "    </tr>\n",
       "    <tr>\n",
       "      <th>2789</th>\n",
       "      <td>5617</td>\n",
       "      <td>5266.0</td>\n",
       "      <td>248.929563</td>\n",
       "      <td>5.168404</td>\n",
       "      <td>120.601667</td>\n",
       "      <td>903.158837</td>\n",
       "      <td>2021</td>\n",
       "      <td>3</td>\n",
       "      <td>26</td>\n",
       "      <td>4</td>\n",
       "      <td>85</td>\n",
       "    </tr>\n",
       "    <tr>\n",
       "      <th>1410</th>\n",
       "      <td>5631</td>\n",
       "      <td>6818.0</td>\n",
       "      <td>15.746153</td>\n",
       "      <td>4.543299</td>\n",
       "      <td>104.400852</td>\n",
       "      <td>434.259297</td>\n",
       "      <td>2021</td>\n",
       "      <td>2</td>\n",
       "      <td>12</td>\n",
       "      <td>4</td>\n",
       "      <td>43</td>\n",
       "    </tr>\n",
       "  </tbody>\n",
       "</table>\n",
       "</div>"
      ],
      "text/plain": [
       "       PC4  people_number          wd        ws        ssrd         blh  year  \\\n",
       "5880  5611        16426.0  210.552521  1.576502  170.287323  374.055425  2021   \n",
       "9258  5622        10284.0   65.861809  2.246702  120.903642  261.327832  2021   \n",
       "6501  5658         3225.0   90.621340  3.346490  311.078118  555.838895  2021   \n",
       "2789  5617         5266.0  248.929563  5.168404  120.601667  903.158837  2021   \n",
       "1410  5631         6818.0   15.746153  4.543299  104.400852  434.259297  2021   \n",
       "\n",
       "      month  day  day_of_week  day_of_year  \n",
       "5880      6   28            0          179  \n",
       "9258     10    8            4          281  \n",
       "6501      7   17            5          198  \n",
       "2789      3   26            4           85  \n",
       "1410      2   12            4           43  "
      ]
     },
     "execution_count": 4,
     "metadata": {},
     "output_type": "execute_result"
    }
   ],
   "source": [
    "X.sample(5)"
   ]
  },
  {
   "cell_type": "markdown",
   "id": "1ed8c64e",
   "metadata": {},
   "source": [
    "<h4><font color=mediumvioletred>Get a sample of y </font></h4>"
   ]
  },
  {
   "cell_type": "code",
   "execution_count": 5,
   "id": "d1da2d20",
   "metadata": {
    "scrolled": true
   },
   "outputs": [
    {
     "data": {
      "text/plain": [
       "821     24.685602\n",
       "5576     7.530767\n",
       "8336     6.642014\n",
       "6216     7.282204\n",
       "9150     3.831545\n",
       "Name: pm2.5, dtype: float64"
      ]
     },
     "execution_count": 5,
     "metadata": {},
     "output_type": "execute_result"
    }
   ],
   "source": [
    "y.sample(5)"
   ]
  },
  {
   "cell_type": "markdown",
   "id": "476481d4",
   "metadata": {},
   "source": [
    "<h4><font color=mediumvioletred>Check shape of the dataframe </font></h4>"
   ]
  },
  {
   "cell_type": "code",
   "execution_count": 6,
   "id": "2f904c86",
   "metadata": {},
   "outputs": [
    {
     "data": {
      "text/plain": [
       "(10626, 12)"
      ]
     },
     "execution_count": 6,
     "metadata": {},
     "output_type": "execute_result"
    }
   ],
   "source": [
    "df.shape"
   ]
  },
  {
   "cell_type": "markdown",
   "id": "df84c84a",
   "metadata": {},
   "source": [
    "<h4><font color=mediumvioletred>Split data into training and testing </font></h4>"
   ]
  },
  {
   "cell_type": "code",
   "execution_count": 7,
   "id": "02a514f3",
   "metadata": {},
   "outputs": [
    {
     "data": {
      "text/plain": [
       "(6996, 3630)"
      ]
     },
     "execution_count": 7,
     "metadata": {},
     "output_type": "execute_result"
    }
   ],
   "source": [
    "df_train = df[df.month < 8]\n",
    "df_test = df[df.month >= 8]\n",
    "\n",
    "len(df_train), len(df_test)"
   ]
  },
  {
   "cell_type": "markdown",
   "id": "64199c79",
   "metadata": {},
   "source": [
    "<h4><font color=mediumvioletred>Split data into X & y </font></h4>"
   ]
  },
  {
   "cell_type": "code",
   "execution_count": 8,
   "id": "354d5cef",
   "metadata": {},
   "outputs": [
    {
     "data": {
      "text/plain": [
       "((6996, 11), (6996,), (3630, 11), (3630,))"
      ]
     },
     "execution_count": 8,
     "metadata": {},
     "output_type": "execute_result"
    }
   ],
   "source": [
    "X_train, y_train = df_train.drop(\"pm2.5\", axis=1), df_train[\"pm2.5\"]\n",
    "X_test, y_test = df_test.drop(\"pm2.5\", axis=1), df_test[\"pm2.5\"]\n",
    "\n",
    "X_train.shape, y_train.shape, X_test.shape, y_test.shape"
   ]
  },
  {
   "cell_type": "code",
   "execution_count": 9,
   "id": "e0d08f22",
   "metadata": {},
   "outputs": [
    {
     "data": {
      "text/html": [
       "<div>\n",
       "<style scoped>\n",
       "    .dataframe tbody tr th:only-of-type {\n",
       "        vertical-align: middle;\n",
       "    }\n",
       "\n",
       "    .dataframe tbody tr th {\n",
       "        vertical-align: top;\n",
       "    }\n",
       "\n",
       "    .dataframe thead th {\n",
       "        text-align: right;\n",
       "    }\n",
       "</style>\n",
       "<table border=\"1\" class=\"dataframe\">\n",
       "  <thead>\n",
       "    <tr style=\"text-align: right;\">\n",
       "      <th></th>\n",
       "      <th>PC4</th>\n",
       "      <th>people_number</th>\n",
       "      <th>wd</th>\n",
       "      <th>ws</th>\n",
       "      <th>ssrd</th>\n",
       "      <th>blh</th>\n",
       "      <th>year</th>\n",
       "      <th>month</th>\n",
       "      <th>day</th>\n",
       "      <th>day_of_week</th>\n",
       "      <th>day_of_year</th>\n",
       "    </tr>\n",
       "  </thead>\n",
       "  <tbody>\n",
       "    <tr>\n",
       "      <th>0</th>\n",
       "      <td>5611</td>\n",
       "      <td>6671.0</td>\n",
       "      <td>203.334312</td>\n",
       "      <td>2.886824</td>\n",
       "      <td>35.783607</td>\n",
       "      <td>241.558209</td>\n",
       "      <td>2021</td>\n",
       "      <td>1</td>\n",
       "      <td>1</td>\n",
       "      <td>4</td>\n",
       "      <td>1</td>\n",
       "    </tr>\n",
       "    <tr>\n",
       "      <th>1</th>\n",
       "      <td>5656</td>\n",
       "      <td>9330.0</td>\n",
       "      <td>202.914324</td>\n",
       "      <td>2.885721</td>\n",
       "      <td>36.077402</td>\n",
       "      <td>243.613262</td>\n",
       "      <td>2021</td>\n",
       "      <td>1</td>\n",
       "      <td>1</td>\n",
       "      <td>4</td>\n",
       "      <td>1</td>\n",
       "    </tr>\n",
       "    <tr>\n",
       "      <th>2</th>\n",
       "      <td>5658</td>\n",
       "      <td>1539.0</td>\n",
       "      <td>203.860565</td>\n",
       "      <td>2.900199</td>\n",
       "      <td>35.915225</td>\n",
       "      <td>240.125790</td>\n",
       "      <td>2021</td>\n",
       "      <td>1</td>\n",
       "      <td>1</td>\n",
       "      <td>4</td>\n",
       "      <td>1</td>\n",
       "    </tr>\n",
       "    <tr>\n",
       "      <th>3</th>\n",
       "      <td>5612</td>\n",
       "      <td>5478.0</td>\n",
       "      <td>203.603766</td>\n",
       "      <td>2.890154</td>\n",
       "      <td>35.685987</td>\n",
       "      <td>240.507430</td>\n",
       "      <td>2021</td>\n",
       "      <td>1</td>\n",
       "      <td>1</td>\n",
       "      <td>4</td>\n",
       "      <td>1</td>\n",
       "    </tr>\n",
       "    <tr>\n",
       "      <th>4</th>\n",
       "      <td>5625</td>\n",
       "      <td>3793.0</td>\n",
       "      <td>204.119216</td>\n",
       "      <td>2.896506</td>\n",
       "      <td>35.493932</td>\n",
       "      <td>238.454701</td>\n",
       "      <td>2021</td>\n",
       "      <td>1</td>\n",
       "      <td>1</td>\n",
       "      <td>4</td>\n",
       "      <td>1</td>\n",
       "    </tr>\n",
       "  </tbody>\n",
       "</table>\n",
       "</div>"
      ],
      "text/plain": [
       "    PC4  people_number          wd        ws       ssrd         blh  year  \\\n",
       "0  5611         6671.0  203.334312  2.886824  35.783607  241.558209  2021   \n",
       "1  5656         9330.0  202.914324  2.885721  36.077402  243.613262  2021   \n",
       "2  5658         1539.0  203.860565  2.900199  35.915225  240.125790  2021   \n",
       "3  5612         5478.0  203.603766  2.890154  35.685987  240.507430  2021   \n",
       "4  5625         3793.0  204.119216  2.896506  35.493932  238.454701  2021   \n",
       "\n",
       "   month  day  day_of_week  day_of_year  \n",
       "0      1    1            4            1  \n",
       "1      1    1            4            1  \n",
       "2      1    1            4            1  \n",
       "3      1    1            4            1  \n",
       "4      1    1            4            1  "
      ]
     },
     "execution_count": 9,
     "metadata": {},
     "output_type": "execute_result"
    }
   ],
   "source": [
    "X_train.head()"
   ]
  },
  {
   "cell_type": "markdown",
   "id": "2437d2e2",
   "metadata": {},
   "source": [
    "<h4><font color=mediumvioletred>Create a method to evaluate model with Mean Absolute Error (MAE)</font></h4>\n",
    "\n",
    "MAE is the average of the absolute differences between predictions and actual values.\n",
    "It gives an idea of how wrong the model's predictions are."
   ]
  },
  {
   "cell_type": "code",
   "execution_count": 10,
   "id": "77e491d5",
   "metadata": {},
   "outputs": [],
   "source": [
    "def show_scores(model):\n",
    "    train_preds = model.predict(X_train)\n",
    "    test_preds = model.predict(X_test)\n",
    "    scores = {\n",
    "        \"Training MAE\": mean_absolute_error(y_train, train_preds),\n",
    "        \"Testing MAE\": mean_absolute_error(y_test, test_preds)\n",
    "    }\n",
    "    \n",
    "    return scores"
   ]
  },
  {
   "cell_type": "markdown",
   "id": "8c1d43ed",
   "metadata": {},
   "source": [
    "<h4><font color=mediumvioletred>Create a method to get a dataframe containing actual values, predictions and the differences between the two</font></h4>"
   ]
  },
  {
   "cell_type": "code",
   "execution_count": 11,
   "id": "8de71fb5",
   "metadata": {},
   "outputs": [],
   "source": [
    "def get_scores_dataframe(model):\n",
    "    test_preds = model.predict(X_test)\n",
    "    mae = mean_absolute_error(y_test, test_preds)\n",
    "\n",
    "    df = pd.DataFrame(data={\"actual values\": y_test,\n",
    "                           \"predicted values\": test_preds})\n",
    "\n",
    "    df[\"differences\"] = np.abs(df[\"predicted values\"] - df[\"actual values\"])\n",
    "\n",
    "    return df"
   ]
  },
  {
   "cell_type": "markdown",
   "id": "e8eb14a9",
   "metadata": {},
   "source": [
    "<h4><font color=mediumvioletred>Model with RandomForestRegressor </font></h4>"
   ]
  },
  {
   "cell_type": "code",
   "execution_count": 12,
   "id": "8da08b52",
   "metadata": {},
   "outputs": [
    {
     "data": {
      "text/plain": [
       "RandomForestRegressor(n_jobs=-1, random_state=42)"
      ]
     },
     "execution_count": 12,
     "metadata": {},
     "output_type": "execute_result"
    }
   ],
   "source": [
    "rf_model = RandomForestRegressor(n_jobs=-1,\n",
    "                             random_state=42)\n",
    "\n",
    "# fit the model\n",
    "rf_model.fit(X_train, y_train)"
   ]
  },
  {
   "cell_type": "code",
   "execution_count": 13,
   "id": "fc366a2a",
   "metadata": {},
   "outputs": [
    {
     "data": {
      "text/plain": [
       "{'Training MAE': 0.04171778584017379, 'Testing MAE': 5.808087347686456}"
      ]
     },
     "execution_count": 13,
     "metadata": {},
     "output_type": "execute_result"
    }
   ],
   "source": [
    "# score model\n",
    "show_scores(rf_model)"
   ]
  },
  {
   "cell_type": "code",
   "execution_count": 14,
   "id": "406d0e1c",
   "metadata": {},
   "outputs": [
    {
     "data": {
      "text/html": [
       "<div>\n",
       "<style scoped>\n",
       "    .dataframe tbody tr th:only-of-type {\n",
       "        vertical-align: middle;\n",
       "    }\n",
       "\n",
       "    .dataframe tbody tr th {\n",
       "        vertical-align: top;\n",
       "    }\n",
       "\n",
       "    .dataframe thead th {\n",
       "        text-align: right;\n",
       "    }\n",
       "</style>\n",
       "<table border=\"1\" class=\"dataframe\">\n",
       "  <thead>\n",
       "    <tr style=\"text-align: right;\">\n",
       "      <th></th>\n",
       "      <th>actual values</th>\n",
       "      <th>predicted values</th>\n",
       "      <th>differences</th>\n",
       "    </tr>\n",
       "  </thead>\n",
       "  <tbody>\n",
       "    <tr>\n",
       "      <th>10554</th>\n",
       "      <td>52.221626</td>\n",
       "      <td>8.736306</td>\n",
       "      <td>43.485320</td>\n",
       "    </tr>\n",
       "    <tr>\n",
       "      <th>10552</th>\n",
       "      <td>52.221626</td>\n",
       "      <td>8.736306</td>\n",
       "      <td>43.485320</td>\n",
       "    </tr>\n",
       "    <tr>\n",
       "      <th>10528</th>\n",
       "      <td>52.191574</td>\n",
       "      <td>8.701670</td>\n",
       "      <td>43.489904</td>\n",
       "    </tr>\n",
       "    <tr>\n",
       "      <th>10539</th>\n",
       "      <td>52.191574</td>\n",
       "      <td>8.695751</td>\n",
       "      <td>43.495824</td>\n",
       "    </tr>\n",
       "    <tr>\n",
       "      <th>10559</th>\n",
       "      <td>52.191574</td>\n",
       "      <td>8.695310</td>\n",
       "      <td>43.496264</td>\n",
       "    </tr>\n",
       "    <tr>\n",
       "      <th>10550</th>\n",
       "      <td>52.191574</td>\n",
       "      <td>8.695310</td>\n",
       "      <td>43.496264</td>\n",
       "    </tr>\n",
       "    <tr>\n",
       "      <th>10549</th>\n",
       "      <td>52.513554</td>\n",
       "      <td>8.707596</td>\n",
       "      <td>43.805958</td>\n",
       "    </tr>\n",
       "    <tr>\n",
       "      <th>10553</th>\n",
       "      <td>53.134212</td>\n",
       "      <td>8.743520</td>\n",
       "      <td>44.390692</td>\n",
       "    </tr>\n",
       "    <tr>\n",
       "      <th>10540</th>\n",
       "      <td>53.134212</td>\n",
       "      <td>8.728602</td>\n",
       "      <td>44.405611</td>\n",
       "    </tr>\n",
       "    <tr>\n",
       "      <th>10558</th>\n",
       "      <td>53.134212</td>\n",
       "      <td>8.709376</td>\n",
       "      <td>44.424836</td>\n",
       "    </tr>\n",
       "  </tbody>\n",
       "</table>\n",
       "</div>"
      ],
      "text/plain": [
       "       actual values  predicted values  differences\n",
       "10554      52.221626          8.736306    43.485320\n",
       "10552      52.221626          8.736306    43.485320\n",
       "10528      52.191574          8.701670    43.489904\n",
       "10539      52.191574          8.695751    43.495824\n",
       "10559      52.191574          8.695310    43.496264\n",
       "10550      52.191574          8.695310    43.496264\n",
       "10549      52.513554          8.707596    43.805958\n",
       "10553      53.134212          8.743520    44.390692\n",
       "10540      53.134212          8.728602    44.405611\n",
       "10558      53.134212          8.709376    44.424836"
      ]
     },
     "execution_count": 14,
     "metadata": {},
     "output_type": "execute_result"
    }
   ],
   "source": [
    "# create dataframe containing actual values, predictions and the differences between them\n",
    "df_scores = get_scores_dataframe(rf_model)\n",
    "df_scores.sort_values(by=\"differences\").tail(10)"
   ]
  },
  {
   "cell_type": "markdown",
   "id": "1615bb6a",
   "metadata": {},
   "source": [
    "<h4><font color=mediumvioletred>Model with SGDClassifier </font></h4>"
   ]
  },
  {
   "cell_type": "code",
   "execution_count": 15,
   "id": "c988406b",
   "metadata": {},
   "outputs": [
    {
     "data": {
      "text/plain": [
       "SGDClassifier(n_jobs=-1, random_state=42)"
      ]
     },
     "execution_count": 15,
     "metadata": {},
     "output_type": "execute_result"
    }
   ],
   "source": [
    "sgd_model = SGDClassifier(n_jobs=-1,\n",
    "                        random_state=42)\n",
    "\n",
    "# fit the model\n",
    "sgd_model.fit(X_train, y_train.astype(int))"
   ]
  },
  {
   "cell_type": "code",
   "execution_count": 16,
   "id": "660a5391",
   "metadata": {},
   "outputs": [
    {
     "data": {
      "text/plain": [
       "{'Training MAE': 5.636144156470307, 'Testing MAE': 6.820826154766663}"
      ]
     },
     "execution_count": 16,
     "metadata": {},
     "output_type": "execute_result"
    }
   ],
   "source": [
    "# score model\n",
    "show_scores(sgd_model)"
   ]
  },
  {
   "cell_type": "code",
   "execution_count": 17,
   "id": "1b492569",
   "metadata": {},
   "outputs": [
    {
     "data": {
      "text/html": [
       "<div>\n",
       "<style scoped>\n",
       "    .dataframe tbody tr th:only-of-type {\n",
       "        vertical-align: middle;\n",
       "    }\n",
       "\n",
       "    .dataframe tbody tr th {\n",
       "        vertical-align: top;\n",
       "    }\n",
       "\n",
       "    .dataframe thead th {\n",
       "        text-align: right;\n",
       "    }\n",
       "</style>\n",
       "<table border=\"1\" class=\"dataframe\">\n",
       "  <thead>\n",
       "    <tr style=\"text-align: right;\">\n",
       "      <th></th>\n",
       "      <th>actual values</th>\n",
       "      <th>predicted values</th>\n",
       "      <th>differences</th>\n",
       "    </tr>\n",
       "  </thead>\n",
       "  <tbody>\n",
       "    <tr>\n",
       "      <th>10558</th>\n",
       "      <td>53.134212</td>\n",
       "      <td>7</td>\n",
       "      <td>46.134212</td>\n",
       "    </tr>\n",
       "    <tr>\n",
       "      <th>10548</th>\n",
       "      <td>49.394966</td>\n",
       "      <td>3</td>\n",
       "      <td>46.394966</td>\n",
       "    </tr>\n",
       "    <tr>\n",
       "      <th>10542</th>\n",
       "      <td>50.327637</td>\n",
       "      <td>3</td>\n",
       "      <td>47.327637</td>\n",
       "    </tr>\n",
       "    <tr>\n",
       "      <th>10536</th>\n",
       "      <td>50.327637</td>\n",
       "      <td>3</td>\n",
       "      <td>47.327637</td>\n",
       "    </tr>\n",
       "    <tr>\n",
       "      <th>10527</th>\n",
       "      <td>51.049526</td>\n",
       "      <td>3</td>\n",
       "      <td>48.049526</td>\n",
       "    </tr>\n",
       "    <tr>\n",
       "      <th>10550</th>\n",
       "      <td>52.191574</td>\n",
       "      <td>3</td>\n",
       "      <td>49.191574</td>\n",
       "    </tr>\n",
       "    <tr>\n",
       "      <th>10539</th>\n",
       "      <td>52.191574</td>\n",
       "      <td>3</td>\n",
       "      <td>49.191574</td>\n",
       "    </tr>\n",
       "    <tr>\n",
       "      <th>10559</th>\n",
       "      <td>52.191574</td>\n",
       "      <td>3</td>\n",
       "      <td>49.191574</td>\n",
       "    </tr>\n",
       "    <tr>\n",
       "      <th>10528</th>\n",
       "      <td>52.191574</td>\n",
       "      <td>3</td>\n",
       "      <td>49.191574</td>\n",
       "    </tr>\n",
       "    <tr>\n",
       "      <th>10553</th>\n",
       "      <td>53.134212</td>\n",
       "      <td>3</td>\n",
       "      <td>50.134212</td>\n",
       "    </tr>\n",
       "  </tbody>\n",
       "</table>\n",
       "</div>"
      ],
      "text/plain": [
       "       actual values  predicted values  differences\n",
       "10558      53.134212                 7    46.134212\n",
       "10548      49.394966                 3    46.394966\n",
       "10542      50.327637                 3    47.327637\n",
       "10536      50.327637                 3    47.327637\n",
       "10527      51.049526                 3    48.049526\n",
       "10550      52.191574                 3    49.191574\n",
       "10539      52.191574                 3    49.191574\n",
       "10559      52.191574                 3    49.191574\n",
       "10528      52.191574                 3    49.191574\n",
       "10553      53.134212                 3    50.134212"
      ]
     },
     "execution_count": 17,
     "metadata": {},
     "output_type": "execute_result"
    }
   ],
   "source": [
    "# create dataframe containing actual values, predictions and the differences between them\n",
    "df_scores = get_scores_dataframe(sgd_model)\n",
    "df_scores.sort_values(by=\"differences\").tail(10)"
   ]
  },
  {
   "cell_type": "markdown",
   "id": "051d9f3d",
   "metadata": {},
   "source": [
    "<h4><font color=mediumvioletred>Model with BayesianRidge </font></h4>"
   ]
  },
  {
   "cell_type": "code",
   "execution_count": 18,
   "id": "f581ff8a",
   "metadata": {},
   "outputs": [
    {
     "data": {
      "text/plain": [
       "BayesianRidge()"
      ]
     },
     "execution_count": 18,
     "metadata": {},
     "output_type": "execute_result"
    }
   ],
   "source": [
    "br_model = BayesianRidge()\n",
    "\n",
    "# fit the model\n",
    "br_model.fit(X_train, y_train)"
   ]
  },
  {
   "cell_type": "code",
   "execution_count": 19,
   "id": "50444332",
   "metadata": {},
   "outputs": [
    {
     "data": {
      "text/plain": [
       "{'Training MAE': 4.493719072780842, 'Testing MAE': 12.533384729521654}"
      ]
     },
     "execution_count": 19,
     "metadata": {},
     "output_type": "execute_result"
    }
   ],
   "source": [
    "# score model\n",
    "show_scores(br_model)"
   ]
  },
  {
   "cell_type": "code",
   "execution_count": 20,
   "id": "3f237fd9",
   "metadata": {},
   "outputs": [
    {
     "data": {
      "text/html": [
       "<div>\n",
       "<style scoped>\n",
       "    .dataframe tbody tr th:only-of-type {\n",
       "        vertical-align: middle;\n",
       "    }\n",
       "\n",
       "    .dataframe tbody tr th {\n",
       "        vertical-align: top;\n",
       "    }\n",
       "\n",
       "    .dataframe thead th {\n",
       "        text-align: right;\n",
       "    }\n",
       "</style>\n",
       "<table border=\"1\" class=\"dataframe\">\n",
       "  <thead>\n",
       "    <tr style=\"text-align: right;\">\n",
       "      <th></th>\n",
       "      <th>actual values</th>\n",
       "      <th>predicted values</th>\n",
       "      <th>differences</th>\n",
       "    </tr>\n",
       "  </thead>\n",
       "  <tbody>\n",
       "    <tr>\n",
       "      <th>10538</th>\n",
       "      <td>52.221626</td>\n",
       "      <td>-2.137597</td>\n",
       "      <td>54.359223</td>\n",
       "    </tr>\n",
       "    <tr>\n",
       "      <th>10556</th>\n",
       "      <td>52.221626</td>\n",
       "      <td>-2.141879</td>\n",
       "      <td>54.363505</td>\n",
       "    </tr>\n",
       "    <tr>\n",
       "      <th>10552</th>\n",
       "      <td>52.221626</td>\n",
       "      <td>-2.145186</td>\n",
       "      <td>54.366812</td>\n",
       "    </tr>\n",
       "    <tr>\n",
       "      <th>10532</th>\n",
       "      <td>52.221626</td>\n",
       "      <td>-2.161142</td>\n",
       "      <td>54.382768</td>\n",
       "    </tr>\n",
       "    <tr>\n",
       "      <th>10534</th>\n",
       "      <td>52.221626</td>\n",
       "      <td>-2.162837</td>\n",
       "      <td>54.384464</td>\n",
       "    </tr>\n",
       "    <tr>\n",
       "      <th>10547</th>\n",
       "      <td>52.221626</td>\n",
       "      <td>-2.182549</td>\n",
       "      <td>54.404175</td>\n",
       "    </tr>\n",
       "    <tr>\n",
       "      <th>10549</th>\n",
       "      <td>52.513554</td>\n",
       "      <td>-2.066935</td>\n",
       "      <td>54.580489</td>\n",
       "    </tr>\n",
       "    <tr>\n",
       "      <th>10553</th>\n",
       "      <td>53.134212</td>\n",
       "      <td>-2.028515</td>\n",
       "      <td>55.162728</td>\n",
       "    </tr>\n",
       "    <tr>\n",
       "      <th>10558</th>\n",
       "      <td>53.134212</td>\n",
       "      <td>-2.068599</td>\n",
       "      <td>55.202812</td>\n",
       "    </tr>\n",
       "    <tr>\n",
       "      <th>10540</th>\n",
       "      <td>53.134212</td>\n",
       "      <td>-2.073668</td>\n",
       "      <td>55.207880</td>\n",
       "    </tr>\n",
       "  </tbody>\n",
       "</table>\n",
       "</div>"
      ],
      "text/plain": [
       "       actual values  predicted values  differences\n",
       "10538      52.221626         -2.137597    54.359223\n",
       "10556      52.221626         -2.141879    54.363505\n",
       "10552      52.221626         -2.145186    54.366812\n",
       "10532      52.221626         -2.161142    54.382768\n",
       "10534      52.221626         -2.162837    54.384464\n",
       "10547      52.221626         -2.182549    54.404175\n",
       "10549      52.513554         -2.066935    54.580489\n",
       "10553      53.134212         -2.028515    55.162728\n",
       "10558      53.134212         -2.068599    55.202812\n",
       "10540      53.134212         -2.073668    55.207880"
      ]
     },
     "execution_count": 20,
     "metadata": {},
     "output_type": "execute_result"
    }
   ],
   "source": [
    "# create dataframe containing actual values, predictions and the differences between them\n",
    "df_scores = get_scores_dataframe(br_model)\n",
    "df_scores.sort_values(by=\"differences\").tail(10)"
   ]
  },
  {
   "cell_type": "markdown",
   "id": "bbb23291",
   "metadata": {},
   "source": [
    "<h4><font color=mediumvioletred>Model with Lasso </font></h4>"
   ]
  },
  {
   "cell_type": "code",
   "execution_count": 21,
   "id": "67a3327d",
   "metadata": {},
   "outputs": [
    {
     "data": {
      "text/plain": [
       "LassoLars(alpha=0.1, normalize=False, random_state=42)"
      ]
     },
     "execution_count": 21,
     "metadata": {},
     "output_type": "execute_result"
    }
   ],
   "source": [
    "lasso_model = LassoLars(alpha=.1, \n",
    "                  normalize=False,\n",
    "                  random_state=42)\n",
    "\n",
    "# fit the model\n",
    "lasso_model.fit(X_train, y_train)"
   ]
  },
  {
   "cell_type": "code",
   "execution_count": 22,
   "id": "6c62aca6",
   "metadata": {},
   "outputs": [
    {
     "data": {
      "text/plain": [
       "{'Training MAE': 4.718627988121286, 'Testing MAE': 9.193399983957317}"
      ]
     },
     "execution_count": 22,
     "metadata": {},
     "output_type": "execute_result"
    }
   ],
   "source": [
    "# score model\n",
    "show_scores(lasso_model)"
   ]
  },
  {
   "cell_type": "code",
   "execution_count": 23,
   "id": "9b74e8af",
   "metadata": {},
   "outputs": [
    {
     "data": {
      "text/html": [
       "<div>\n",
       "<style scoped>\n",
       "    .dataframe tbody tr th:only-of-type {\n",
       "        vertical-align: middle;\n",
       "    }\n",
       "\n",
       "    .dataframe tbody tr th {\n",
       "        vertical-align: top;\n",
       "    }\n",
       "\n",
       "    .dataframe thead th {\n",
       "        text-align: right;\n",
       "    }\n",
       "</style>\n",
       "<table border=\"1\" class=\"dataframe\">\n",
       "  <thead>\n",
       "    <tr style=\"text-align: right;\">\n",
       "      <th></th>\n",
       "      <th>actual values</th>\n",
       "      <th>predicted values</th>\n",
       "      <th>differences</th>\n",
       "    </tr>\n",
       "  </thead>\n",
       "  <tbody>\n",
       "    <tr>\n",
       "      <th>10556</th>\n",
       "      <td>52.221626</td>\n",
       "      <td>3.399523</td>\n",
       "      <td>48.822104</td>\n",
       "    </tr>\n",
       "    <tr>\n",
       "      <th>10538</th>\n",
       "      <td>52.221626</td>\n",
       "      <td>3.392149</td>\n",
       "      <td>48.829477</td>\n",
       "    </tr>\n",
       "    <tr>\n",
       "      <th>10534</th>\n",
       "      <td>52.221626</td>\n",
       "      <td>3.390166</td>\n",
       "      <td>48.831460</td>\n",
       "    </tr>\n",
       "    <tr>\n",
       "      <th>10532</th>\n",
       "      <td>52.221626</td>\n",
       "      <td>3.388391</td>\n",
       "      <td>48.833236</td>\n",
       "    </tr>\n",
       "    <tr>\n",
       "      <th>10552</th>\n",
       "      <td>52.221626</td>\n",
       "      <td>3.387409</td>\n",
       "      <td>48.834217</td>\n",
       "    </tr>\n",
       "    <tr>\n",
       "      <th>10547</th>\n",
       "      <td>52.221626</td>\n",
       "      <td>3.378918</td>\n",
       "      <td>48.842708</td>\n",
       "    </tr>\n",
       "    <tr>\n",
       "      <th>10549</th>\n",
       "      <td>52.513554</td>\n",
       "      <td>3.456812</td>\n",
       "      <td>49.056741</td>\n",
       "    </tr>\n",
       "    <tr>\n",
       "      <th>10540</th>\n",
       "      <td>53.134212</td>\n",
       "      <td>3.488185</td>\n",
       "      <td>49.646028</td>\n",
       "    </tr>\n",
       "    <tr>\n",
       "      <th>10558</th>\n",
       "      <td>53.134212</td>\n",
       "      <td>3.459423</td>\n",
       "      <td>49.674790</td>\n",
       "    </tr>\n",
       "    <tr>\n",
       "      <th>10553</th>\n",
       "      <td>53.134212</td>\n",
       "      <td>3.457639</td>\n",
       "      <td>49.676573</td>\n",
       "    </tr>\n",
       "  </tbody>\n",
       "</table>\n",
       "</div>"
      ],
      "text/plain": [
       "       actual values  predicted values  differences\n",
       "10556      52.221626          3.399523    48.822104\n",
       "10538      52.221626          3.392149    48.829477\n",
       "10534      52.221626          3.390166    48.831460\n",
       "10532      52.221626          3.388391    48.833236\n",
       "10552      52.221626          3.387409    48.834217\n",
       "10547      52.221626          3.378918    48.842708\n",
       "10549      52.513554          3.456812    49.056741\n",
       "10540      53.134212          3.488185    49.646028\n",
       "10558      53.134212          3.459423    49.674790\n",
       "10553      53.134212          3.457639    49.676573"
      ]
     },
     "execution_count": 23,
     "metadata": {},
     "output_type": "execute_result"
    }
   ],
   "source": [
    "# create dataframe containing actual values, predictions and the differences between them\n",
    "df_scores = get_scores_dataframe(lasso_model)\n",
    "df_scores.sort_values(by=\"differences\").tail(10)"
   ]
  },
  {
   "cell_type": "markdown",
   "id": "45d3664c",
   "metadata": {},
   "source": [
    "<h4><font color=mediumvioletred>Model with ElasticNet </font></h4>"
   ]
  },
  {
   "cell_type": "code",
   "execution_count": 24,
   "id": "dde87c2b",
   "metadata": {},
   "outputs": [
    {
     "data": {
      "text/plain": [
       "ElasticNet(random_state=42)"
      ]
     },
     "execution_count": 24,
     "metadata": {},
     "output_type": "execute_result"
    }
   ],
   "source": [
    "en_model = ElasticNet(random_state=42)\n",
    "\n",
    "# fit the model\n",
    "en_model.fit(X_train, y_train)"
   ]
  },
  {
   "cell_type": "code",
   "execution_count": 25,
   "id": "7dd8bfbb",
   "metadata": {},
   "outputs": [
    {
     "data": {
      "text/plain": [
       "{'Training MAE': 4.711480312254824, 'Testing MAE': 9.081408868592785}"
      ]
     },
     "execution_count": 25,
     "metadata": {},
     "output_type": "execute_result"
    }
   ],
   "source": [
    "# score model\n",
    "show_scores(en_model)"
   ]
  },
  {
   "cell_type": "code",
   "execution_count": 26,
   "id": "83f86332",
   "metadata": {},
   "outputs": [
    {
     "data": {
      "text/html": [
       "<div>\n",
       "<style scoped>\n",
       "    .dataframe tbody tr th:only-of-type {\n",
       "        vertical-align: middle;\n",
       "    }\n",
       "\n",
       "    .dataframe tbody tr th {\n",
       "        vertical-align: top;\n",
       "    }\n",
       "\n",
       "    .dataframe thead th {\n",
       "        text-align: right;\n",
       "    }\n",
       "</style>\n",
       "<table border=\"1\" class=\"dataframe\">\n",
       "  <thead>\n",
       "    <tr style=\"text-align: right;\">\n",
       "      <th></th>\n",
       "      <th>actual values</th>\n",
       "      <th>predicted values</th>\n",
       "      <th>differences</th>\n",
       "    </tr>\n",
       "  </thead>\n",
       "  <tbody>\n",
       "    <tr>\n",
       "      <th>10556</th>\n",
       "      <td>52.221626</td>\n",
       "      <td>3.069623</td>\n",
       "      <td>49.152003</td>\n",
       "    </tr>\n",
       "    <tr>\n",
       "      <th>10554</th>\n",
       "      <td>52.221626</td>\n",
       "      <td>3.066803</td>\n",
       "      <td>49.154823</td>\n",
       "    </tr>\n",
       "    <tr>\n",
       "      <th>10547</th>\n",
       "      <td>52.221626</td>\n",
       "      <td>3.064831</td>\n",
       "      <td>49.156795</td>\n",
       "    </tr>\n",
       "    <tr>\n",
       "      <th>10532</th>\n",
       "      <td>52.221626</td>\n",
       "      <td>3.064592</td>\n",
       "      <td>49.157034</td>\n",
       "    </tr>\n",
       "    <tr>\n",
       "      <th>10538</th>\n",
       "      <td>52.221626</td>\n",
       "      <td>3.055465</td>\n",
       "      <td>49.166161</td>\n",
       "    </tr>\n",
       "    <tr>\n",
       "      <th>10552</th>\n",
       "      <td>52.221626</td>\n",
       "      <td>3.052110</td>\n",
       "      <td>49.169516</td>\n",
       "    </tr>\n",
       "    <tr>\n",
       "      <th>10549</th>\n",
       "      <td>52.513554</td>\n",
       "      <td>3.092049</td>\n",
       "      <td>49.421505</td>\n",
       "    </tr>\n",
       "    <tr>\n",
       "      <th>10540</th>\n",
       "      <td>53.134212</td>\n",
       "      <td>3.143768</td>\n",
       "      <td>49.990444</td>\n",
       "    </tr>\n",
       "    <tr>\n",
       "      <th>10558</th>\n",
       "      <td>53.134212</td>\n",
       "      <td>3.100039</td>\n",
       "      <td>50.034173</td>\n",
       "    </tr>\n",
       "    <tr>\n",
       "      <th>10553</th>\n",
       "      <td>53.134212</td>\n",
       "      <td>3.066014</td>\n",
       "      <td>50.068198</td>\n",
       "    </tr>\n",
       "  </tbody>\n",
       "</table>\n",
       "</div>"
      ],
      "text/plain": [
       "       actual values  predicted values  differences\n",
       "10556      52.221626          3.069623    49.152003\n",
       "10554      52.221626          3.066803    49.154823\n",
       "10547      52.221626          3.064831    49.156795\n",
       "10532      52.221626          3.064592    49.157034\n",
       "10538      52.221626          3.055465    49.166161\n",
       "10552      52.221626          3.052110    49.169516\n",
       "10549      52.513554          3.092049    49.421505\n",
       "10540      53.134212          3.143768    49.990444\n",
       "10558      53.134212          3.100039    50.034173\n",
       "10553      53.134212          3.066014    50.068198"
      ]
     },
     "execution_count": 26,
     "metadata": {},
     "output_type": "execute_result"
    }
   ],
   "source": [
    "# create dataframe containing actual values, predictions and the differences between them\n",
    "df_scores = get_scores_dataframe(en_model)\n",
    "df_scores.sort_values(by=\"differences\").tail(10)"
   ]
  },
  {
   "cell_type": "markdown",
   "id": "23cf13b8",
   "metadata": {},
   "source": [
    "<h4><font color=mediumvioletred>Model with SVR </font></h4>"
   ]
  },
  {
   "cell_type": "code",
   "execution_count": 27,
   "id": "dedf10a8",
   "metadata": {},
   "outputs": [
    {
     "data": {
      "text/plain": [
       "SVR()"
      ]
     },
     "execution_count": 27,
     "metadata": {},
     "output_type": "execute_result"
    }
   ],
   "source": [
    "svr_model = SVR()\n",
    "\n",
    "# fit the model\n",
    "svr_model.fit(X_train, y_train)"
   ]
  },
  {
   "cell_type": "code",
   "execution_count": 28,
   "id": "803528cc",
   "metadata": {},
   "outputs": [
    {
     "data": {
      "text/plain": [
       "{'Training MAE': 5.333511269470986, 'Testing MAE': 5.7497847250923115}"
      ]
     },
     "execution_count": 28,
     "metadata": {},
     "output_type": "execute_result"
    }
   ],
   "source": [
    "# score model\n",
    "show_scores(svr_model)"
   ]
  },
  {
   "cell_type": "code",
   "execution_count": 29,
   "id": "c59c13fa",
   "metadata": {},
   "outputs": [
    {
     "data": {
      "text/html": [
       "<div>\n",
       "<style scoped>\n",
       "    .dataframe tbody tr th:only-of-type {\n",
       "        vertical-align: middle;\n",
       "    }\n",
       "\n",
       "    .dataframe tbody tr th {\n",
       "        vertical-align: top;\n",
       "    }\n",
       "\n",
       "    .dataframe thead th {\n",
       "        text-align: right;\n",
       "    }\n",
       "</style>\n",
       "<table border=\"1\" class=\"dataframe\">\n",
       "  <thead>\n",
       "    <tr style=\"text-align: right;\">\n",
       "      <th></th>\n",
       "      <th>actual values</th>\n",
       "      <th>predicted values</th>\n",
       "      <th>differences</th>\n",
       "    </tr>\n",
       "  </thead>\n",
       "  <tbody>\n",
       "    <tr>\n",
       "      <th>10554</th>\n",
       "      <td>52.221626</td>\n",
       "      <td>11.453576</td>\n",
       "      <td>40.768050</td>\n",
       "    </tr>\n",
       "    <tr>\n",
       "      <th>10552</th>\n",
       "      <td>52.221626</td>\n",
       "      <td>11.412368</td>\n",
       "      <td>40.809258</td>\n",
       "    </tr>\n",
       "    <tr>\n",
       "      <th>10556</th>\n",
       "      <td>52.221626</td>\n",
       "      <td>10.988021</td>\n",
       "      <td>41.233605</td>\n",
       "    </tr>\n",
       "    <tr>\n",
       "      <th>10385</th>\n",
       "      <td>49.336040</td>\n",
       "      <td>8.068439</td>\n",
       "      <td>41.267601</td>\n",
       "    </tr>\n",
       "    <tr>\n",
       "      <th>10532</th>\n",
       "      <td>52.221626</td>\n",
       "      <td>10.443014</td>\n",
       "      <td>41.778612</td>\n",
       "    </tr>\n",
       "    <tr>\n",
       "      <th>10534</th>\n",
       "      <td>52.221626</td>\n",
       "      <td>10.269881</td>\n",
       "      <td>41.951745</td>\n",
       "    </tr>\n",
       "    <tr>\n",
       "      <th>10549</th>\n",
       "      <td>52.513554</td>\n",
       "      <td>10.431605</td>\n",
       "      <td>42.081948</td>\n",
       "    </tr>\n",
       "    <tr>\n",
       "      <th>10547</th>\n",
       "      <td>52.221626</td>\n",
       "      <td>9.809105</td>\n",
       "      <td>42.412522</td>\n",
       "    </tr>\n",
       "    <tr>\n",
       "      <th>10558</th>\n",
       "      <td>53.134212</td>\n",
       "      <td>10.181038</td>\n",
       "      <td>42.953174</td>\n",
       "    </tr>\n",
       "    <tr>\n",
       "      <th>10540</th>\n",
       "      <td>53.134212</td>\n",
       "      <td>8.129580</td>\n",
       "      <td>45.004633</td>\n",
       "    </tr>\n",
       "  </tbody>\n",
       "</table>\n",
       "</div>"
      ],
      "text/plain": [
       "       actual values  predicted values  differences\n",
       "10554      52.221626         11.453576    40.768050\n",
       "10552      52.221626         11.412368    40.809258\n",
       "10556      52.221626         10.988021    41.233605\n",
       "10385      49.336040          8.068439    41.267601\n",
       "10532      52.221626         10.443014    41.778612\n",
       "10534      52.221626         10.269881    41.951745\n",
       "10549      52.513554         10.431605    42.081948\n",
       "10547      52.221626          9.809105    42.412522\n",
       "10558      53.134212         10.181038    42.953174\n",
       "10540      53.134212          8.129580    45.004633"
      ]
     },
     "execution_count": 29,
     "metadata": {},
     "output_type": "execute_result"
    }
   ],
   "source": [
    "# create dataframe containing actual values, predictions and the differences between them\n",
    "df_scores = get_scores_dataframe(svr_model)\n",
    "df_scores.sort_values(by=\"differences\").tail(10)"
   ]
  },
  {
   "cell_type": "markdown",
   "id": "9ec083f0",
   "metadata": {},
   "source": [
    "<h4><font color=mediumvioletred>Model with GradientBoostingRegressor </font></h4>"
   ]
  },
  {
   "cell_type": "code",
   "execution_count": 30,
   "id": "fbf18f41",
   "metadata": {},
   "outputs": [
    {
     "data": {
      "text/plain": [
       "GradientBoostingRegressor(max_depth=1, random_state=42)"
      ]
     },
     "execution_count": 30,
     "metadata": {},
     "output_type": "execute_result"
    }
   ],
   "source": [
    "gbr_model = GradientBoostingRegressor(n_estimators=100, \n",
    "                                  learning_rate=0.1, \n",
    "                                  max_depth=1,\n",
    "                                  random_state=42)\n",
    "\n",
    "# fit the model\n",
    "gbr_model.fit(X_train, y_train)"
   ]
  },
  {
   "cell_type": "code",
   "execution_count": 31,
   "id": "1abd53d2",
   "metadata": {},
   "outputs": [
    {
     "data": {
      "text/plain": [
       "{'Training MAE': 3.702118080860074, 'Testing MAE': 5.003318273816123}"
      ]
     },
     "execution_count": 31,
     "metadata": {},
     "output_type": "execute_result"
    }
   ],
   "source": [
    "# score model\n",
    "show_scores(gbr_model)"
   ]
  },
  {
   "cell_type": "code",
   "execution_count": 32,
   "id": "8c12d79e",
   "metadata": {},
   "outputs": [
    {
     "data": {
      "text/html": [
       "<div>\n",
       "<style scoped>\n",
       "    .dataframe tbody tr th:only-of-type {\n",
       "        vertical-align: middle;\n",
       "    }\n",
       "\n",
       "    .dataframe tbody tr th {\n",
       "        vertical-align: top;\n",
       "    }\n",
       "\n",
       "    .dataframe thead th {\n",
       "        text-align: right;\n",
       "    }\n",
       "</style>\n",
       "<table border=\"1\" class=\"dataframe\">\n",
       "  <thead>\n",
       "    <tr style=\"text-align: right;\">\n",
       "      <th></th>\n",
       "      <th>actual values</th>\n",
       "      <th>predicted values</th>\n",
       "      <th>differences</th>\n",
       "    </tr>\n",
       "  </thead>\n",
       "  <tbody>\n",
       "    <tr>\n",
       "      <th>10552</th>\n",
       "      <td>52.221626</td>\n",
       "      <td>16.393411</td>\n",
       "      <td>35.828215</td>\n",
       "    </tr>\n",
       "    <tr>\n",
       "      <th>10538</th>\n",
       "      <td>52.221626</td>\n",
       "      <td>16.393411</td>\n",
       "      <td>35.828215</td>\n",
       "    </tr>\n",
       "    <tr>\n",
       "      <th>10547</th>\n",
       "      <td>52.221626</td>\n",
       "      <td>16.393411</td>\n",
       "      <td>35.828215</td>\n",
       "    </tr>\n",
       "    <tr>\n",
       "      <th>10554</th>\n",
       "      <td>52.221626</td>\n",
       "      <td>16.393411</td>\n",
       "      <td>35.828215</td>\n",
       "    </tr>\n",
       "    <tr>\n",
       "      <th>10534</th>\n",
       "      <td>52.221626</td>\n",
       "      <td>16.393411</td>\n",
       "      <td>35.828215</td>\n",
       "    </tr>\n",
       "    <tr>\n",
       "      <th>10549</th>\n",
       "      <td>52.513554</td>\n",
       "      <td>16.393411</td>\n",
       "      <td>36.120142</td>\n",
       "    </tr>\n",
       "    <tr>\n",
       "      <th>10427</th>\n",
       "      <td>45.380806</td>\n",
       "      <td>9.213524</td>\n",
       "      <td>36.167282</td>\n",
       "    </tr>\n",
       "    <tr>\n",
       "      <th>10558</th>\n",
       "      <td>53.134212</td>\n",
       "      <td>16.393411</td>\n",
       "      <td>36.740801</td>\n",
       "    </tr>\n",
       "    <tr>\n",
       "      <th>10553</th>\n",
       "      <td>53.134212</td>\n",
       "      <td>16.393411</td>\n",
       "      <td>36.740801</td>\n",
       "    </tr>\n",
       "    <tr>\n",
       "      <th>10540</th>\n",
       "      <td>53.134212</td>\n",
       "      <td>16.393411</td>\n",
       "      <td>36.740801</td>\n",
       "    </tr>\n",
       "  </tbody>\n",
       "</table>\n",
       "</div>"
      ],
      "text/plain": [
       "       actual values  predicted values  differences\n",
       "10552      52.221626         16.393411    35.828215\n",
       "10538      52.221626         16.393411    35.828215\n",
       "10547      52.221626         16.393411    35.828215\n",
       "10554      52.221626         16.393411    35.828215\n",
       "10534      52.221626         16.393411    35.828215\n",
       "10549      52.513554         16.393411    36.120142\n",
       "10427      45.380806          9.213524    36.167282\n",
       "10558      53.134212         16.393411    36.740801\n",
       "10553      53.134212         16.393411    36.740801\n",
       "10540      53.134212         16.393411    36.740801"
      ]
     },
     "execution_count": 32,
     "metadata": {},
     "output_type": "execute_result"
    }
   ],
   "source": [
    "# create dataframe containing actual values, predictions and the differences between them\n",
    "df_scores = get_scores_dataframe(gbr_model)\n",
    "df_scores.sort_values(by=\"differences\").tail(10)"
   ]
  },
  {
   "cell_type": "markdown",
   "id": "6930a7f6",
   "metadata": {},
   "source": [
    "<h4><font color=mediumvioletred>Conclusion </font></h4>"
   ]
  },
  {
   "cell_type": "markdown",
   "id": "f2e7989a",
   "metadata": {},
   "source": [
    "After calculating the MAE (average of the absolute differences between predictions and actual values), we found that the following models had the best predictions:\n",
    "* GradientBoostingRegressor: 5.003318273816123\n",
    "* SVR: 5.7497847250923115\n",
    "* RandomForestRegressor: 5.808087347686456\n",
    "\n",
    "**After using more data (from 2021-01-01 to 2021-11-18), the models' scores improved a bit.\n",
    "However, the maximum value is still too high, this is because there are unhandled outliers.**"
   ]
  },
  {
   "cell_type": "markdown",
   "id": "98e27d0b",
   "metadata": {},
   "source": [
    "<h4><font color=mediumvioletred>Check feature importance</font></h4>\n",
    "\n",
    "Feature importance means which features affected the model the most."
   ]
  },
  {
   "cell_type": "code",
   "execution_count": 33,
   "id": "15a3062a",
   "metadata": {},
   "outputs": [
    {
     "data": {
      "text/plain": [
       "array([0.        , 0.        , 0.04223137, 0.00725066, 0.05456352,\n",
       "       0.60346652, 0.        , 0.01597499, 0.03872019, 0.01141425,\n",
       "       0.2263785 ])"
      ]
     },
     "execution_count": 33,
     "metadata": {},
     "output_type": "execute_result"
    }
   ],
   "source": [
    "gbr_model.feature_importances_"
   ]
  },
  {
   "cell_type": "code",
   "execution_count": 34,
   "id": "26871201",
   "metadata": {},
   "outputs": [],
   "source": [
    "# Helper function for plotting feature importance\n",
    "def plot_features(columns, importances, n=20):\n",
    "    df = (pd.DataFrame({\"features\": columns,\n",
    "                        \"feature_importance\": importances})\n",
    "          .sort_values(\"feature_importance\", ascending=False)\n",
    "          .reset_index(drop=True))\n",
    "    \n",
    "    sns.barplot(x=\"feature_importance\",\n",
    "                y=\"features\",\n",
    "                data=df[:n],\n",
    "                orient=\"h\")"
   ]
  },
  {
   "cell_type": "code",
   "execution_count": 35,
   "id": "1a78c955",
   "metadata": {},
   "outputs": [
    {
     "data": {
      "image/png": "[encoded data removed]",
      "text/plain": [
       "<Figure size 640x480 with 1 Axes>"
      ]
     },
     "metadata": {},
     "output_type": "display_data"
    }
   ],
   "source": [
    "plot_features(X_train.columns, gbr_model.feature_importances_)"
   ]
  },
  {
   "cell_type": "markdown",
   "id": "187b3fa1",
   "metadata": {},
   "source": [
    "The columns which affected the model the most are boundary layer height, day of year, solar sun radiation, wind direction and day.\n",
    "\n",
    "The model was unable to identify a pattern or correlation between the number of people and the PM2.5 due to the fact that during rush hours, both the number of people and the PM2.5 (pollution level) rise, and when people arrive at their destinations, the number of people stays very high while the pollution level declines.\n",
    "\n",
    "Given that the zip codes are in the same city and have the same weather, it was likewise unable to establish a link between the zip code (PC4) and the PM2.5."
   ]
  },
  {
   "cell_type": "markdown",
   "id": "40b6d486",
   "metadata": {},
   "source": [
    "<h4><font color=mediumvioletred>Export the best model (GradientBoostingRegressor)</font></h4>"
   ]
  },
  {
   "cell_type": "code",
   "execution_count": 36,
   "id": "c809997f",
   "metadata": {},
   "outputs": [],
   "source": [
    "pickle.dump(gbr_model, open(\"models/gbr_air_quality_prediction_model_daily.pkl\", \"wb\")) # wb = write binary"
   ]
  },
  {
   "cell_type": "markdown",
   "id": "5391c6e4",
   "metadata": {},
   "source": [
    "<h4><font color=mediumvioletred>Load the exported model and test it</font></h4>"
   ]
  },
  {
   "cell_type": "code",
   "execution_count": 37,
   "id": "0aedbc70",
   "metadata": {},
   "outputs": [
    {
     "data": {
      "text/plain": [
       "{'Training MAE': 3.702118080860074, 'Testing MAE': 5.003318273816123}"
      ]
     },
     "execution_count": 37,
     "metadata": {},
     "output_type": "execute_result"
    }
   ],
   "source": [
    "loaded_model = pickle.load(open(\"models/gbr_air_quality_prediction_model_daily.pkl\", \"rb\"))\n",
    "show_scores(loaded_model)"
   ]
  },
  {
   "cell_type": "markdown",
   "id": "42e3eeaf",
   "metadata": {},
   "source": [
    "**After modelling, we discussed the results with Georgiana Manolache and she advised us to group the data by week and also include a column to identify the season to see if the predictions can be improved any further.**"
   ]
  },
  {
   "cell_type": "markdown",
   "id": "0762a66b",
   "metadata": {},
   "source": [
    "<h2><font color=slateblue>Modelling using weekly data</font></h2>"
   ]
  },
  {
   "cell_type": "markdown",
   "id": "ebdf7b79",
   "metadata": {},
   "source": [
    "<h4><font color=mediumvioletred>Get sample of the dataframe</font></h4>"
   ]
  },
  {
   "cell_type": "code",
   "execution_count": 38,
   "id": "f94fb08c",
   "metadata": {},
   "outputs": [
    {
     "data": {
      "text/html": [
       "<div>\n",
       "<style scoped>\n",
       "    .dataframe tbody tr th:only-of-type {\n",
       "        vertical-align: middle;\n",
       "    }\n",
       "\n",
       "    .dataframe tbody tr th {\n",
       "        vertical-align: top;\n",
       "    }\n",
       "\n",
       "    .dataframe thead th {\n",
       "        text-align: right;\n",
       "    }\n",
       "</style>\n",
       "<table border=\"1\" class=\"dataframe\">\n",
       "  <thead>\n",
       "    <tr style=\"text-align: right;\">\n",
       "      <th></th>\n",
       "      <th>PC4</th>\n",
       "      <th>people_number</th>\n",
       "      <th>pm2.5</th>\n",
       "      <th>wd</th>\n",
       "      <th>ws</th>\n",
       "      <th>ssrd</th>\n",
       "      <th>blh</th>\n",
       "      <th>year</th>\n",
       "      <th>month</th>\n",
       "      <th>day</th>\n",
       "      <th>day_of_week</th>\n",
       "      <th>day_of_year</th>\n",
       "    </tr>\n",
       "  </thead>\n",
       "  <tbody>\n",
       "    <tr>\n",
       "      <th>8321</th>\n",
       "      <td>5629</td>\n",
       "      <td>7477.0</td>\n",
       "      <td>6.640727</td>\n",
       "      <td>241.471362</td>\n",
       "      <td>2.631451</td>\n",
       "      <td>103.492339</td>\n",
       "      <td>336.340312</td>\n",
       "      <td>2021</td>\n",
       "      <td>9</td>\n",
       "      <td>10</td>\n",
       "      <td>4</td>\n",
       "      <td>253</td>\n",
       "    </tr>\n",
       "    <tr>\n",
       "      <th>772</th>\n",
       "      <td>5622</td>\n",
       "      <td>2362.0</td>\n",
       "      <td>13.485848</td>\n",
       "      <td>225.070228</td>\n",
       "      <td>3.404295</td>\n",
       "      <td>42.809242</td>\n",
       "      <td>426.715917</td>\n",
       "      <td>2021</td>\n",
       "      <td>1</td>\n",
       "      <td>24</td>\n",
       "      <td>6</td>\n",
       "      <td>24</td>\n",
       "    </tr>\n",
       "    <tr>\n",
       "      <th>3095</th>\n",
       "      <td>5628</td>\n",
       "      <td>3574.0</td>\n",
       "      <td>7.346822</td>\n",
       "      <td>169.993914</td>\n",
       "      <td>2.933185</td>\n",
       "      <td>114.922717</td>\n",
       "      <td>610.776848</td>\n",
       "      <td>2021</td>\n",
       "      <td>4</td>\n",
       "      <td>4</td>\n",
       "      <td>6</td>\n",
       "      <td>94</td>\n",
       "    </tr>\n",
       "    <tr>\n",
       "      <th>2303</th>\n",
       "      <td>5652</td>\n",
       "      <td>12357.0</td>\n",
       "      <td>6.408082</td>\n",
       "      <td>216.857766</td>\n",
       "      <td>9.368760</td>\n",
       "      <td>116.980718</td>\n",
       "      <td>1493.012566</td>\n",
       "      <td>2021</td>\n",
       "      <td>3</td>\n",
       "      <td>11</td>\n",
       "      <td>3</td>\n",
       "      <td>70</td>\n",
       "    </tr>\n",
       "    <tr>\n",
       "      <th>3148</th>\n",
       "      <td>5613</td>\n",
       "      <td>7003.0</td>\n",
       "      <td>4.446952</td>\n",
       "      <td>161.541647</td>\n",
       "      <td>5.089485</td>\n",
       "      <td>181.020853</td>\n",
       "      <td>935.249303</td>\n",
       "      <td>2021</td>\n",
       "      <td>4</td>\n",
       "      <td>6</td>\n",
       "      <td>1</td>\n",
       "      <td>96</td>\n",
       "    </tr>\n",
       "  </tbody>\n",
       "</table>\n",
       "</div>"
      ],
      "text/plain": [
       "       PC4  people_number      pm2.5          wd        ws        ssrd  \\\n",
       "8321  5629         7477.0   6.640727  241.471362  2.631451  103.492339   \n",
       "772   5622         2362.0  13.485848  225.070228  3.404295   42.809242   \n",
       "3095  5628         3574.0   7.346822  169.993914  2.933185  114.922717   \n",
       "2303  5652        12357.0   6.408082  216.857766  9.368760  116.980718   \n",
       "3148  5613         7003.0   4.446952  161.541647  5.089485  181.020853   \n",
       "\n",
       "              blh  year  month  day  day_of_week  day_of_year  \n",
       "8321   336.340312  2021      9   10            4          253  \n",
       "772    426.715917  2021      1   24            6           24  \n",
       "3095   610.776848  2021      4    4            6           94  \n",
       "2303  1493.012566  2021      3   11            3           70  \n",
       "3148   935.249303  2021      4    6            1           96  "
      ]
     },
     "execution_count": 38,
     "metadata": {},
     "output_type": "execute_result"
    }
   ],
   "source": [
    "df.sample(5)"
   ]
  },
  {
   "cell_type": "markdown",
   "id": "1598b70e",
   "metadata": {},
   "source": [
    "<h4><font color=mediumvioletred>Add date column</font></h4>"
   ]
  },
  {
   "cell_type": "code",
   "execution_count": 39,
   "id": "dea4c9d9",
   "metadata": {},
   "outputs": [],
   "source": [
    "df[\"date\"] = df[df.columns[7:10]].apply(\n",
    "    lambda x: \"-\".join(x.astype(str)), axis=1)\n",
    "\n",
    "df[\"date\"] = df[\"date\"].astype(\"datetime64[ns]\")"
   ]
  },
  {
   "cell_type": "markdown",
   "id": "fea12433",
   "metadata": {},
   "source": [
    "<h4><font color=mediumvioletred>Calculate week number from date</font></h4>"
   ]
  },
  {
   "cell_type": "code",
   "execution_count": 40,
   "id": "329c6dc2",
   "metadata": {},
   "outputs": [],
   "source": [
    "df['week_number'] = df['date'].dt.isocalendar().week"
   ]
  },
  {
   "cell_type": "markdown",
   "id": "99414431",
   "metadata": {},
   "source": [
    "<h4><font color=mediumvioletred>Add season from date</font></h4>\n",
    "\n",
    "1 = spring, 2 = summer, 3 = autumn, 4 = winter"
   ]
  },
  {
   "cell_type": "code",
   "execution_count": 41,
   "id": "fc6fe6bf",
   "metadata": {},
   "outputs": [],
   "source": [
    "date_offset = (df.date.dt.month*100 + df.date.dt.day - 320)%1300\n",
    "\n",
    "df['season'] = pd.cut(date_offset, [0, 300, 602, 900, 1300], \n",
    "                      labels=[1, 2, 3, 4])"
   ]
  },
  {
   "cell_type": "markdown",
   "id": "4c53cb9e",
   "metadata": {},
   "source": [
    "<h4><font color=mediumvioletred>Get sample of the dataframe</font></h4>"
   ]
  },
  {
   "cell_type": "code",
   "execution_count": 42,
   "id": "58d9c945",
   "metadata": {},
   "outputs": [
    {
     "data": {
      "text/html": [
       "<div>\n",
       "<style scoped>\n",
       "    .dataframe tbody tr th:only-of-type {\n",
       "        vertical-align: middle;\n",
       "    }\n",
       "\n",
       "    .dataframe tbody tr th {\n",
       "        vertical-align: top;\n",
       "    }\n",
       "\n",
       "    .dataframe thead th {\n",
       "        text-align: right;\n",
       "    }\n",
       "</style>\n",
       "<table border=\"1\" class=\"dataframe\">\n",
       "  <thead>\n",
       "    <tr style=\"text-align: right;\">\n",
       "      <th></th>\n",
       "      <th>PC4</th>\n",
       "      <th>people_number</th>\n",
       "      <th>pm2.5</th>\n",
       "      <th>wd</th>\n",
       "      <th>ws</th>\n",
       "      <th>ssrd</th>\n",
       "      <th>blh</th>\n",
       "      <th>year</th>\n",
       "      <th>month</th>\n",
       "      <th>day</th>\n",
       "      <th>day_of_week</th>\n",
       "      <th>day_of_year</th>\n",
       "      <th>date</th>\n",
       "      <th>week_number</th>\n",
       "      <th>season</th>\n",
       "    </tr>\n",
       "  </thead>\n",
       "  <tbody>\n",
       "    <tr>\n",
       "      <th>9485</th>\n",
       "      <td>5626</td>\n",
       "      <td>23545.0</td>\n",
       "      <td>10.351321</td>\n",
       "      <td>143.280173</td>\n",
       "      <td>3.297244</td>\n",
       "      <td>62.707332</td>\n",
       "      <td>604.884316</td>\n",
       "      <td>2021</td>\n",
       "      <td>10</td>\n",
       "      <td>15</td>\n",
       "      <td>4</td>\n",
       "      <td>288</td>\n",
       "      <td>2021-10-15</td>\n",
       "      <td>41</td>\n",
       "      <td>3</td>\n",
       "    </tr>\n",
       "    <tr>\n",
       "      <th>10132</th>\n",
       "      <td>5641</td>\n",
       "      <td>5681.0</td>\n",
       "      <td>19.277447</td>\n",
       "      <td>177.452414</td>\n",
       "      <td>1.959732</td>\n",
       "      <td>39.662359</td>\n",
       "      <td>111.123272</td>\n",
       "      <td>2021</td>\n",
       "      <td>11</td>\n",
       "      <td>4</td>\n",
       "      <td>3</td>\n",
       "      <td>308</td>\n",
       "      <td>2021-11-04</td>\n",
       "      <td>44</td>\n",
       "      <td>3</td>\n",
       "    </tr>\n",
       "    <tr>\n",
       "      <th>2627</th>\n",
       "      <td>5657</td>\n",
       "      <td>12728.0</td>\n",
       "      <td>9.237254</td>\n",
       "      <td>126.133999</td>\n",
       "      <td>4.463526</td>\n",
       "      <td>77.395619</td>\n",
       "      <td>766.571967</td>\n",
       "      <td>2021</td>\n",
       "      <td>3</td>\n",
       "      <td>21</td>\n",
       "      <td>6</td>\n",
       "      <td>80</td>\n",
       "      <td>2021-03-21</td>\n",
       "      <td>11</td>\n",
       "      <td>1</td>\n",
       "    </tr>\n",
       "    <tr>\n",
       "      <th>9469</th>\n",
       "      <td>5657</td>\n",
       "      <td>21374.0</td>\n",
       "      <td>15.954994</td>\n",
       "      <td>212.026864</td>\n",
       "      <td>4.633957</td>\n",
       "      <td>57.324625</td>\n",
       "      <td>575.252541</td>\n",
       "      <td>2021</td>\n",
       "      <td>10</td>\n",
       "      <td>14</td>\n",
       "      <td>3</td>\n",
       "      <td>287</td>\n",
       "      <td>2021-10-14</td>\n",
       "      <td>41</td>\n",
       "      <td>3</td>\n",
       "    </tr>\n",
       "    <tr>\n",
       "      <th>10142</th>\n",
       "      <td>5624</td>\n",
       "      <td>4426.0</td>\n",
       "      <td>18.086853</td>\n",
       "      <td>175.122821</td>\n",
       "      <td>1.949585</td>\n",
       "      <td>41.173173</td>\n",
       "      <td>115.868547</td>\n",
       "      <td>2021</td>\n",
       "      <td>11</td>\n",
       "      <td>4</td>\n",
       "      <td>3</td>\n",
       "      <td>308</td>\n",
       "      <td>2021-11-04</td>\n",
       "      <td>44</td>\n",
       "      <td>3</td>\n",
       "    </tr>\n",
       "  </tbody>\n",
       "</table>\n",
       "</div>"
      ],
      "text/plain": [
       "        PC4  people_number      pm2.5          wd        ws       ssrd  \\\n",
       "9485   5626        23545.0  10.351321  143.280173  3.297244  62.707332   \n",
       "10132  5641         5681.0  19.277447  177.452414  1.959732  39.662359   \n",
       "2627   5657        12728.0   9.237254  126.133999  4.463526  77.395619   \n",
       "9469   5657        21374.0  15.954994  212.026864  4.633957  57.324625   \n",
       "10142  5624         4426.0  18.086853  175.122821  1.949585  41.173173   \n",
       "\n",
       "              blh  year  month  day  day_of_week  day_of_year       date  \\\n",
       "9485   604.884316  2021     10   15            4          288 2021-10-15   \n",
       "10132  111.123272  2021     11    4            3          308 2021-11-04   \n",
       "2627   766.571967  2021      3   21            6           80 2021-03-21   \n",
       "9469   575.252541  2021     10   14            3          287 2021-10-14   \n",
       "10142  115.868547  2021     11    4            3          308 2021-11-04   \n",
       "\n",
       "       week_number season  \n",
       "9485            41      3  \n",
       "10132           44      3  \n",
       "2627            11      1  \n",
       "9469            41      3  \n",
       "10142           44      3  "
      ]
     },
     "execution_count": 42,
     "metadata": {},
     "output_type": "execute_result"
    }
   ],
   "source": [
    "df.sample(5)"
   ]
  },
  {
   "cell_type": "markdown",
   "id": "4b6351d3",
   "metadata": {},
   "source": [
    "<h4><font color=mediumvioletred>Group the dataframe by area and week number</font></h4>"
   ]
  },
  {
   "cell_type": "code",
   "execution_count": 43,
   "id": "c1791508",
   "metadata": {},
   "outputs": [],
   "source": [
    "df_weekly = df.groupby([\"PC4\", \"week_number\"]).agg({\"pm2.5\": \"mean\", \"wd\": \"mean\", \"ws\": \"mean\", \"ssrd\": \"mean\", \"blh\": \"mean\", \"people_number\": \"sum\", \"season\": lambda x: x.iloc[1]}).reset_index()"
   ]
  },
  {
   "cell_type": "markdown",
   "id": "52bd6407",
   "metadata": {},
   "source": [
    "<h4><font color=mediumvioletred>Get data for zip code 5615</font></h4>"
   ]
  },
  {
   "cell_type": "code",
   "execution_count": 44,
   "id": "7b921a2c",
   "metadata": {},
   "outputs": [
    {
     "data": {
      "text/html": [
       "<div>\n",
       "<style scoped>\n",
       "    .dataframe tbody tr th:only-of-type {\n",
       "        vertical-align: middle;\n",
       "    }\n",
       "\n",
       "    .dataframe tbody tr th {\n",
       "        vertical-align: top;\n",
       "    }\n",
       "\n",
       "    .dataframe thead th {\n",
       "        text-align: right;\n",
       "    }\n",
       "</style>\n",
       "<table border=\"1\" class=\"dataframe\">\n",
       "  <thead>\n",
       "    <tr style=\"text-align: right;\">\n",
       "      <th></th>\n",
       "      <th>PC4</th>\n",
       "      <th>week_number</th>\n",
       "      <th>pm2.5</th>\n",
       "      <th>wd</th>\n",
       "      <th>ws</th>\n",
       "      <th>ssrd</th>\n",
       "      <th>blh</th>\n",
       "      <th>people_number</th>\n",
       "      <th>season</th>\n",
       "    </tr>\n",
       "  </thead>\n",
       "  <tbody>\n",
       "    <tr>\n",
       "      <th>188</th>\n",
       "      <td>5615</td>\n",
       "      <td>1</td>\n",
       "      <td>22.424890</td>\n",
       "      <td>123.330978</td>\n",
       "      <td>3.164777</td>\n",
       "      <td>21.008967</td>\n",
       "      <td>379.766082</td>\n",
       "      <td>28493.0</td>\n",
       "      <td>4</td>\n",
       "    </tr>\n",
       "    <tr>\n",
       "      <th>189</th>\n",
       "      <td>5615</td>\n",
       "      <td>2</td>\n",
       "      <td>18.903186</td>\n",
       "      <td>169.627734</td>\n",
       "      <td>3.944949</td>\n",
       "      <td>28.743293</td>\n",
       "      <td>514.425679</td>\n",
       "      <td>27307.0</td>\n",
       "      <td>4</td>\n",
       "    </tr>\n",
       "    <tr>\n",
       "      <th>190</th>\n",
       "      <td>5615</td>\n",
       "      <td>3</td>\n",
       "      <td>11.120214</td>\n",
       "      <td>226.768988</td>\n",
       "      <td>5.543433</td>\n",
       "      <td>31.394141</td>\n",
       "      <td>743.666952</td>\n",
       "      <td>30429.0</td>\n",
       "      <td>4</td>\n",
       "    </tr>\n",
       "    <tr>\n",
       "      <th>191</th>\n",
       "      <td>5615</td>\n",
       "      <td>4</td>\n",
       "      <td>18.344876</td>\n",
       "      <td>179.207799</td>\n",
       "      <td>4.210786</td>\n",
       "      <td>36.645872</td>\n",
       "      <td>509.488630</td>\n",
       "      <td>28045.0</td>\n",
       "      <td>4</td>\n",
       "    </tr>\n",
       "    <tr>\n",
       "      <th>192</th>\n",
       "      <td>5615</td>\n",
       "      <td>5</td>\n",
       "      <td>21.561596</td>\n",
       "      <td>176.674427</td>\n",
       "      <td>3.935283</td>\n",
       "      <td>27.183599</td>\n",
       "      <td>397.629005</td>\n",
       "      <td>27235.0</td>\n",
       "      <td>4</td>\n",
       "    </tr>\n",
       "    <tr>\n",
       "      <th>193</th>\n",
       "      <td>5615</td>\n",
       "      <td>6</td>\n",
       "      <td>19.029066</td>\n",
       "      <td>94.393184</td>\n",
       "      <td>3.925097</td>\n",
       "      <td>84.693781</td>\n",
       "      <td>418.111591</td>\n",
       "      <td>24106.0</td>\n",
       "      <td>4</td>\n",
       "    </tr>\n",
       "    <tr>\n",
       "      <th>194</th>\n",
       "      <td>5615</td>\n",
       "      <td>7</td>\n",
       "      <td>11.750731</td>\n",
       "      <td>259.523227</td>\n",
       "      <td>4.890734</td>\n",
       "      <td>71.262752</td>\n",
       "      <td>511.467894</td>\n",
       "      <td>28397.0</td>\n",
       "      <td>4</td>\n",
       "    </tr>\n",
       "    <tr>\n",
       "      <th>195</th>\n",
       "      <td>5615</td>\n",
       "      <td>8</td>\n",
       "      <td>12.148209</td>\n",
       "      <td>170.615613</td>\n",
       "      <td>3.362601</td>\n",
       "      <td>101.748600</td>\n",
       "      <td>443.092117</td>\n",
       "      <td>30787.0</td>\n",
       "      <td>4</td>\n",
       "    </tr>\n",
       "    <tr>\n",
       "      <th>196</th>\n",
       "      <td>5615</td>\n",
       "      <td>9</td>\n",
       "      <td>26.518792</td>\n",
       "      <td>115.733766</td>\n",
       "      <td>2.529431</td>\n",
       "      <td>114.709032</td>\n",
       "      <td>357.538443</td>\n",
       "      <td>35263.0</td>\n",
       "      <td>4</td>\n",
       "    </tr>\n",
       "    <tr>\n",
       "      <th>197</th>\n",
       "      <td>5615</td>\n",
       "      <td>10</td>\n",
       "      <td>16.075805</td>\n",
       "      <td>203.702675</td>\n",
       "      <td>5.696211</td>\n",
       "      <td>94.621430</td>\n",
       "      <td>935.631505</td>\n",
       "      <td>34303.0</td>\n",
       "      <td>4</td>\n",
       "    </tr>\n",
       "    <tr>\n",
       "      <th>198</th>\n",
       "      <td>5615</td>\n",
       "      <td>11</td>\n",
       "      <td>9.466149</td>\n",
       "      <td>120.887012</td>\n",
       "      <td>3.649548</td>\n",
       "      <td>105.319617</td>\n",
       "      <td>636.622361</td>\n",
       "      <td>34314.0</td>\n",
       "      <td>4</td>\n",
       "    </tr>\n",
       "    <tr>\n",
       "      <th>199</th>\n",
       "      <td>5615</td>\n",
       "      <td>12</td>\n",
       "      <td>16.457478</td>\n",
       "      <td>209.379768</td>\n",
       "      <td>3.862361</td>\n",
       "      <td>117.169930</td>\n",
       "      <td>648.324637</td>\n",
       "      <td>47894.0</td>\n",
       "      <td>1</td>\n",
       "    </tr>\n",
       "    <tr>\n",
       "      <th>200</th>\n",
       "      <td>5615</td>\n",
       "      <td>13</td>\n",
       "      <td>12.686863</td>\n",
       "      <td>168.516322</td>\n",
       "      <td>3.170934</td>\n",
       "      <td>172.810899</td>\n",
       "      <td>493.006206</td>\n",
       "      <td>64641.0</td>\n",
       "      <td>1</td>\n",
       "    </tr>\n",
       "    <tr>\n",
       "      <th>201</th>\n",
       "      <td>5615</td>\n",
       "      <td>14</td>\n",
       "      <td>10.615531</td>\n",
       "      <td>151.190621</td>\n",
       "      <td>4.769801</td>\n",
       "      <td>142.758006</td>\n",
       "      <td>796.253527</td>\n",
       "      <td>51541.0</td>\n",
       "      <td>1</td>\n",
       "    </tr>\n",
       "    <tr>\n",
       "      <th>202</th>\n",
       "      <td>5615</td>\n",
       "      <td>15</td>\n",
       "      <td>10.150864</td>\n",
       "      <td>109.910033</td>\n",
       "      <td>2.672597</td>\n",
       "      <td>210.666241</td>\n",
       "      <td>637.155933</td>\n",
       "      <td>53096.0</td>\n",
       "      <td>1</td>\n",
       "    </tr>\n",
       "    <tr>\n",
       "      <th>203</th>\n",
       "      <td>5615</td>\n",
       "      <td>16</td>\n",
       "      <td>13.283522</td>\n",
       "      <td>91.895372</td>\n",
       "      <td>2.703433</td>\n",
       "      <td>206.683306</td>\n",
       "      <td>570.460501</td>\n",
       "      <td>121930.0</td>\n",
       "      <td>1</td>\n",
       "    </tr>\n",
       "    <tr>\n",
       "      <th>204</th>\n",
       "      <td>5615</td>\n",
       "      <td>17</td>\n",
       "      <td>12.519114</td>\n",
       "      <td>118.318787</td>\n",
       "      <td>3.392783</td>\n",
       "      <td>215.182998</td>\n",
       "      <td>656.867201</td>\n",
       "      <td>40298.0</td>\n",
       "      <td>1</td>\n",
       "    </tr>\n",
       "    <tr>\n",
       "      <th>205</th>\n",
       "      <td>5615</td>\n",
       "      <td>18</td>\n",
       "      <td>8.503137</td>\n",
       "      <td>222.684800</td>\n",
       "      <td>4.763625</td>\n",
       "      <td>201.116707</td>\n",
       "      <td>903.783830</td>\n",
       "      <td>52454.0</td>\n",
       "      <td>1</td>\n",
       "    </tr>\n",
       "    <tr>\n",
       "      <th>206</th>\n",
       "      <td>5615</td>\n",
       "      <td>19</td>\n",
       "      <td>11.091612</td>\n",
       "      <td>208.510630</td>\n",
       "      <td>2.540826</td>\n",
       "      <td>197.720079</td>\n",
       "      <td>612.155156</td>\n",
       "      <td>60296.0</td>\n",
       "      <td>1</td>\n",
       "    </tr>\n",
       "    <tr>\n",
       "      <th>207</th>\n",
       "      <td>5615</td>\n",
       "      <td>20</td>\n",
       "      <td>8.576589</td>\n",
       "      <td>212.913673</td>\n",
       "      <td>4.734617</td>\n",
       "      <td>183.496263</td>\n",
       "      <td>884.967285</td>\n",
       "      <td>63064.0</td>\n",
       "      <td>1</td>\n",
       "    </tr>\n",
       "  </tbody>\n",
       "</table>\n",
       "</div>"
      ],
      "text/plain": [
       "      PC4  week_number      pm2.5          wd        ws        ssrd  \\\n",
       "188  5615            1  22.424890  123.330978  3.164777   21.008967   \n",
       "189  5615            2  18.903186  169.627734  3.944949   28.743293   \n",
       "190  5615            3  11.120214  226.768988  5.543433   31.394141   \n",
       "191  5615            4  18.344876  179.207799  4.210786   36.645872   \n",
       "192  5615            5  21.561596  176.674427  3.935283   27.183599   \n",
       "193  5615            6  19.029066   94.393184  3.925097   84.693781   \n",
       "194  5615            7  11.750731  259.523227  4.890734   71.262752   \n",
       "195  5615            8  12.148209  170.615613  3.362601  101.748600   \n",
       "196  5615            9  26.518792  115.733766  2.529431  114.709032   \n",
       "197  5615           10  16.075805  203.702675  5.696211   94.621430   \n",
       "198  5615           11   9.466149  120.887012  3.649548  105.319617   \n",
       "199  5615           12  16.457478  209.379768  3.862361  117.169930   \n",
       "200  5615           13  12.686863  168.516322  3.170934  172.810899   \n",
       "201  5615           14  10.615531  151.190621  4.769801  142.758006   \n",
       "202  5615           15  10.150864  109.910033  2.672597  210.666241   \n",
       "203  5615           16  13.283522   91.895372  2.703433  206.683306   \n",
       "204  5615           17  12.519114  118.318787  3.392783  215.182998   \n",
       "205  5615           18   8.503137  222.684800  4.763625  201.116707   \n",
       "206  5615           19  11.091612  208.510630  2.540826  197.720079   \n",
       "207  5615           20   8.576589  212.913673  4.734617  183.496263   \n",
       "\n",
       "            blh  people_number  season  \n",
       "188  379.766082        28493.0       4  \n",
       "189  514.425679        27307.0       4  \n",
       "190  743.666952        30429.0       4  \n",
       "191  509.488630        28045.0       4  \n",
       "192  397.629005        27235.0       4  \n",
       "193  418.111591        24106.0       4  \n",
       "194  511.467894        28397.0       4  \n",
       "195  443.092117        30787.0       4  \n",
       "196  357.538443        35263.0       4  \n",
       "197  935.631505        34303.0       4  \n",
       "198  636.622361        34314.0       4  \n",
       "199  648.324637        47894.0       1  \n",
       "200  493.006206        64641.0       1  \n",
       "201  796.253527        51541.0       1  \n",
       "202  637.155933        53096.0       1  \n",
       "203  570.460501       121930.0       1  \n",
       "204  656.867201        40298.0       1  \n",
       "205  903.783830        52454.0       1  \n",
       "206  612.155156        60296.0       1  \n",
       "207  884.967285        63064.0       1  "
      ]
     },
     "execution_count": 44,
     "metadata": {},
     "output_type": "execute_result"
    }
   ],
   "source": [
    "df_weekly[df_weekly.PC4 == 5615][:20]"
   ]
  },
  {
   "cell_type": "markdown",
   "id": "b2e9fa2d",
   "metadata": {},
   "source": [
    "<h4><font color=mediumvioletred>Get X and y</font></h4>"
   ]
  },
  {
   "cell_type": "code",
   "execution_count": 45,
   "id": "6c4cdd52",
   "metadata": {},
   "outputs": [],
   "source": [
    "X = df_weekly.drop(\"pm2.5\", axis=1)\n",
    "y = df_weekly[\"pm2.5\"]"
   ]
  },
  {
   "cell_type": "markdown",
   "id": "2e1d5c7b",
   "metadata": {},
   "source": [
    "<h4><font color=mediumvioletred>Get a sample of X </font></h4>"
   ]
  },
  {
   "cell_type": "code",
   "execution_count": 46,
   "id": "067308ed",
   "metadata": {},
   "outputs": [
    {
     "data": {
      "text/html": [
       "<div>\n",
       "<style scoped>\n",
       "    .dataframe tbody tr th:only-of-type {\n",
       "        vertical-align: middle;\n",
       "    }\n",
       "\n",
       "    .dataframe tbody tr th {\n",
       "        vertical-align: top;\n",
       "    }\n",
       "\n",
       "    .dataframe thead th {\n",
       "        text-align: right;\n",
       "    }\n",
       "</style>\n",
       "<table border=\"1\" class=\"dataframe\">\n",
       "  <thead>\n",
       "    <tr style=\"text-align: right;\">\n",
       "      <th></th>\n",
       "      <th>PC4</th>\n",
       "      <th>week_number</th>\n",
       "      <th>wd</th>\n",
       "      <th>ws</th>\n",
       "      <th>ssrd</th>\n",
       "      <th>blh</th>\n",
       "      <th>people_number</th>\n",
       "      <th>season</th>\n",
       "    </tr>\n",
       "  </thead>\n",
       "  <tbody>\n",
       "    <tr>\n",
       "      <th>112</th>\n",
       "      <td>5613</td>\n",
       "      <td>19</td>\n",
       "      <td>208.493452</td>\n",
       "      <td>2.531857</td>\n",
       "      <td>197.507933</td>\n",
       "      <td>610.659853</td>\n",
       "      <td>75305.0</td>\n",
       "      <td>1</td>\n",
       "    </tr>\n",
       "    <tr>\n",
       "      <th>393</th>\n",
       "      <td>5622</td>\n",
       "      <td>18</td>\n",
       "      <td>222.641090</td>\n",
       "      <td>4.779321</td>\n",
       "      <td>200.984137</td>\n",
       "      <td>900.176619</td>\n",
       "      <td>33747.0</td>\n",
       "      <td>1</td>\n",
       "    </tr>\n",
       "    <tr>\n",
       "      <th>1070</th>\n",
       "      <td>5644</td>\n",
       "      <td>37</td>\n",
       "      <td>160.066146</td>\n",
       "      <td>2.482079</td>\n",
       "      <td>136.854726</td>\n",
       "      <td>409.820374</td>\n",
       "      <td>106988.0</td>\n",
       "      <td>2</td>\n",
       "    </tr>\n",
       "    <tr>\n",
       "      <th>1417</th>\n",
       "      <td>5656</td>\n",
       "      <td>8</td>\n",
       "      <td>170.444955</td>\n",
       "      <td>3.367424</td>\n",
       "      <td>101.887749</td>\n",
       "      <td>444.703472</td>\n",
       "      <td>126244.0</td>\n",
       "      <td>4</td>\n",
       "    </tr>\n",
       "    <tr>\n",
       "      <th>65</th>\n",
       "      <td>5612</td>\n",
       "      <td>19</td>\n",
       "      <td>207.823632</td>\n",
       "      <td>2.526364</td>\n",
       "      <td>197.393452</td>\n",
       "      <td>608.487900</td>\n",
       "      <td>135092.0</td>\n",
       "      <td>1</td>\n",
       "    </tr>\n",
       "  </tbody>\n",
       "</table>\n",
       "</div>"
      ],
      "text/plain": [
       "       PC4  week_number          wd        ws        ssrd         blh  \\\n",
       "112   5613           19  208.493452  2.531857  197.507933  610.659853   \n",
       "393   5622           18  222.641090  4.779321  200.984137  900.176619   \n",
       "1070  5644           37  160.066146  2.482079  136.854726  409.820374   \n",
       "1417  5656            8  170.444955  3.367424  101.887749  444.703472   \n",
       "65    5612           19  207.823632  2.526364  197.393452  608.487900   \n",
       "\n",
       "      people_number  season  \n",
       "112         75305.0       1  \n",
       "393         33747.0       1  \n",
       "1070       106988.0       2  \n",
       "1417       126244.0       4  \n",
       "65         135092.0       1  "
      ]
     },
     "execution_count": 46,
     "metadata": {},
     "output_type": "execute_result"
    }
   ],
   "source": [
    "X.sample(5)"
   ]
  },
  {
   "cell_type": "markdown",
   "id": "f465a911",
   "metadata": {},
   "source": [
    "<h4><font color=mediumvioletred>Get a sample of y </font></h4>"
   ]
  },
  {
   "cell_type": "code",
   "execution_count": 47,
   "id": "949bacbf",
   "metadata": {
    "scrolled": true
   },
   "outputs": [
    {
     "data": {
      "text/plain": [
       "1460    17.582236\n",
       "660     11.058645\n",
       "933     11.187904\n",
       "827      4.808475\n",
       "1399    13.577656\n",
       "Name: pm2.5, dtype: float64"
      ]
     },
     "execution_count": 47,
     "metadata": {},
     "output_type": "execute_result"
    }
   ],
   "source": [
    "y.sample(5)"
   ]
  },
  {
   "cell_type": "markdown",
   "id": "87252a69",
   "metadata": {},
   "source": [
    "<h4><font color=mediumvioletred>Check shape of the dataframe </font></h4>"
   ]
  },
  {
   "cell_type": "code",
   "execution_count": 48,
   "id": "6c63fc78",
   "metadata": {},
   "outputs": [
    {
     "data": {
      "text/plain": [
       "(1551, 9)"
      ]
     },
     "execution_count": 48,
     "metadata": {},
     "output_type": "execute_result"
    }
   ],
   "source": [
    "df_weekly.shape"
   ]
  },
  {
   "cell_type": "markdown",
   "id": "c4fabf11",
   "metadata": {},
   "source": [
    "<h4><font color=mediumvioletred>Split data into training and testing </font></h4>"
   ]
  },
  {
   "cell_type": "code",
   "execution_count": 49,
   "id": "f5e75097",
   "metadata": {},
   "outputs": [
    {
     "data": {
      "text/plain": [
       "(1221, 330)"
      ]
     },
     "execution_count": 49,
     "metadata": {},
     "output_type": "execute_result"
    }
   ],
   "source": [
    "df_train = df_weekly[df_weekly.week_number < 38]\n",
    "df_test = df_weekly[df_weekly.week_number >= 38]\n",
    "\n",
    "len(df_train), len(df_test)"
   ]
  },
  {
   "cell_type": "markdown",
   "id": "211e4a0e",
   "metadata": {},
   "source": [
    "<h4><font color=mediumvioletred>Split data into X & y </font></h4>"
   ]
  },
  {
   "cell_type": "code",
   "execution_count": 50,
   "id": "e7655dcf",
   "metadata": {},
   "outputs": [
    {
     "data": {
      "text/plain": [
       "((1221, 8), (1221,), (330, 8), (330,))"
      ]
     },
     "execution_count": 50,
     "metadata": {},
     "output_type": "execute_result"
    }
   ],
   "source": [
    "X_train, y_train = df_train.drop(\"pm2.5\", axis=1), df_train[\"pm2.5\"]\n",
    "X_test, y_test = df_test.drop(\"pm2.5\", axis=1), df_test[\"pm2.5\"]\n",
    "\n",
    "X_train.shape, y_train.shape, X_test.shape, y_test.shape"
   ]
  },
  {
   "cell_type": "markdown",
   "id": "585321c3",
   "metadata": {},
   "source": [
    "<h4><font color=mediumvioletred>Model with RandomForestRegressor </font></h4>"
   ]
  },
  {
   "cell_type": "code",
   "execution_count": 51,
   "id": "c8e700f2",
   "metadata": {},
   "outputs": [
    {
     "data": {
      "text/plain": [
       "RandomForestRegressor(n_jobs=-1, random_state=42)"
      ]
     },
     "execution_count": 51,
     "metadata": {},
     "output_type": "execute_result"
    }
   ],
   "source": [
    "rf_model = RandomForestRegressor(n_jobs=-1,\n",
    "                             random_state=42)\n",
    "\n",
    "# fit the model\n",
    "rf_model.fit(X_train, y_train)"
   ]
  },
  {
   "cell_type": "code",
   "execution_count": 52,
   "id": "ee093761",
   "metadata": {},
   "outputs": [
    {
     "data": {
      "text/plain": [
       "{'Training MAE': 0.024578897184108037, 'Testing MAE': 6.072975797769486}"
      ]
     },
     "execution_count": 52,
     "metadata": {},
     "output_type": "execute_result"
    }
   ],
   "source": [
    "# score model\n",
    "show_scores(rf_model)"
   ]
  },
  {
   "cell_type": "code",
   "execution_count": 53,
   "id": "b0faca56",
   "metadata": {},
   "outputs": [
    {
     "data": {
      "text/html": [
       "<div>\n",
       "<style scoped>\n",
       "    .dataframe tbody tr th:only-of-type {\n",
       "        vertical-align: middle;\n",
       "    }\n",
       "\n",
       "    .dataframe tbody tr th {\n",
       "        vertical-align: top;\n",
       "    }\n",
       "\n",
       "    .dataframe thead th {\n",
       "        text-align: right;\n",
       "    }\n",
       "</style>\n",
       "<table border=\"1\" class=\"dataframe\">\n",
       "  <thead>\n",
       "    <tr style=\"text-align: right;\">\n",
       "      <th></th>\n",
       "      <th>actual values</th>\n",
       "      <th>predicted values</th>\n",
       "      <th>differences</th>\n",
       "    </tr>\n",
       "  </thead>\n",
       "  <tbody>\n",
       "    <tr>\n",
       "      <th>45</th>\n",
       "      <td>34.319192</td>\n",
       "      <td>14.292401</td>\n",
       "      <td>20.026791</td>\n",
       "    </tr>\n",
       "    <tr>\n",
       "      <th>327</th>\n",
       "      <td>34.319192</td>\n",
       "      <td>14.289023</td>\n",
       "      <td>20.030169</td>\n",
       "    </tr>\n",
       "    <tr>\n",
       "      <th>186</th>\n",
       "      <td>34.319192</td>\n",
       "      <td>14.289023</td>\n",
       "      <td>20.030169</td>\n",
       "    </tr>\n",
       "    <tr>\n",
       "      <th>233</th>\n",
       "      <td>34.319192</td>\n",
       "      <td>14.289023</td>\n",
       "      <td>20.030169</td>\n",
       "    </tr>\n",
       "    <tr>\n",
       "      <th>280</th>\n",
       "      <td>34.319192</td>\n",
       "      <td>14.289023</td>\n",
       "      <td>20.030169</td>\n",
       "    </tr>\n",
       "    <tr>\n",
       "      <th>139</th>\n",
       "      <td>34.319192</td>\n",
       "      <td>14.289023</td>\n",
       "      <td>20.030169</td>\n",
       "    </tr>\n",
       "    <tr>\n",
       "      <th>1173</th>\n",
       "      <td>34.355470</td>\n",
       "      <td>14.269965</td>\n",
       "      <td>20.085505</td>\n",
       "    </tr>\n",
       "    <tr>\n",
       "      <th>1455</th>\n",
       "      <td>34.680089</td>\n",
       "      <td>14.342753</td>\n",
       "      <td>20.337337</td>\n",
       "    </tr>\n",
       "    <tr>\n",
       "      <th>1361</th>\n",
       "      <td>34.680089</td>\n",
       "      <td>14.337298</td>\n",
       "      <td>20.342791</td>\n",
       "    </tr>\n",
       "    <tr>\n",
       "      <th>1079</th>\n",
       "      <td>34.680089</td>\n",
       "      <td>14.274116</td>\n",
       "      <td>20.405973</td>\n",
       "    </tr>\n",
       "  </tbody>\n",
       "</table>\n",
       "</div>"
      ],
      "text/plain": [
       "      actual values  predicted values  differences\n",
       "45        34.319192         14.292401    20.026791\n",
       "327       34.319192         14.289023    20.030169\n",
       "186       34.319192         14.289023    20.030169\n",
       "233       34.319192         14.289023    20.030169\n",
       "280       34.319192         14.289023    20.030169\n",
       "139       34.319192         14.289023    20.030169\n",
       "1173      34.355470         14.269965    20.085505\n",
       "1455      34.680089         14.342753    20.337337\n",
       "1361      34.680089         14.337298    20.342791\n",
       "1079      34.680089         14.274116    20.405973"
      ]
     },
     "execution_count": 53,
     "metadata": {},
     "output_type": "execute_result"
    }
   ],
   "source": [
    "# create dataframe containing actual values, predictions and the differences between them\n",
    "df_scores = get_scores_dataframe(rf_model)\n",
    "df_scores.sort_values(by=\"differences\").tail(10)"
   ]
  },
  {
   "cell_type": "markdown",
   "id": "f9730383",
   "metadata": {},
   "source": [
    "<h4><font color=mediumvioletred>Model with SGDClassifier </font></h4>"
   ]
  },
  {
   "cell_type": "code",
   "execution_count": 54,
   "id": "bbe00f9a",
   "metadata": {},
   "outputs": [
    {
     "data": {
      "text/plain": [
       "SGDClassifier(n_jobs=-1, random_state=42)"
      ]
     },
     "execution_count": 54,
     "metadata": {},
     "output_type": "execute_result"
    }
   ],
   "source": [
    "sgd_model = SGDClassifier(n_jobs=-1,\n",
    "                        random_state=42)\n",
    "\n",
    "# fit the model\n",
    "sgd_model.fit(X_train, y_train.astype(int))"
   ]
  },
  {
   "cell_type": "code",
   "execution_count": 55,
   "id": "60692974",
   "metadata": {},
   "outputs": [
    {
     "data": {
      "text/plain": [
       "{'Training MAE': 4.228876435507023, 'Testing MAE': 8.53119431230069}"
      ]
     },
     "execution_count": 55,
     "metadata": {},
     "output_type": "execute_result"
    }
   ],
   "source": [
    "# score model\n",
    "show_scores(sgd_model)"
   ]
  },
  {
   "cell_type": "code",
   "execution_count": 56,
   "id": "3c8a7d2b",
   "metadata": {},
   "outputs": [
    {
     "data": {
      "text/html": [
       "<div>\n",
       "<style scoped>\n",
       "    .dataframe tbody tr th:only-of-type {\n",
       "        vertical-align: middle;\n",
       "    }\n",
       "\n",
       "    .dataframe tbody tr th {\n",
       "        vertical-align: top;\n",
       "    }\n",
       "\n",
       "    .dataframe thead th {\n",
       "        text-align: right;\n",
       "    }\n",
       "</style>\n",
       "<table border=\"1\" class=\"dataframe\">\n",
       "  <thead>\n",
       "    <tr style=\"text-align: right;\">\n",
       "      <th></th>\n",
       "      <th>actual values</th>\n",
       "      <th>predicted values</th>\n",
       "      <th>differences</th>\n",
       "    </tr>\n",
       "  </thead>\n",
       "  <tbody>\n",
       "    <tr>\n",
       "      <th>327</th>\n",
       "      <td>34.319192</td>\n",
       "      <td>11</td>\n",
       "      <td>23.319192</td>\n",
       "    </tr>\n",
       "    <tr>\n",
       "      <th>280</th>\n",
       "      <td>34.319192</td>\n",
       "      <td>11</td>\n",
       "      <td>23.319192</td>\n",
       "    </tr>\n",
       "    <tr>\n",
       "      <th>92</th>\n",
       "      <td>34.319192</td>\n",
       "      <td>11</td>\n",
       "      <td>23.319192</td>\n",
       "    </tr>\n",
       "    <tr>\n",
       "      <th>139</th>\n",
       "      <td>34.319192</td>\n",
       "      <td>11</td>\n",
       "      <td>23.319192</td>\n",
       "    </tr>\n",
       "    <tr>\n",
       "      <th>186</th>\n",
       "      <td>34.319192</td>\n",
       "      <td>11</td>\n",
       "      <td>23.319192</td>\n",
       "    </tr>\n",
       "    <tr>\n",
       "      <th>233</th>\n",
       "      <td>34.319192</td>\n",
       "      <td>11</td>\n",
       "      <td>23.319192</td>\n",
       "    </tr>\n",
       "    <tr>\n",
       "      <th>1173</th>\n",
       "      <td>34.355470</td>\n",
       "      <td>11</td>\n",
       "      <td>23.355470</td>\n",
       "    </tr>\n",
       "    <tr>\n",
       "      <th>1079</th>\n",
       "      <td>34.680089</td>\n",
       "      <td>11</td>\n",
       "      <td>23.680089</td>\n",
       "    </tr>\n",
       "    <tr>\n",
       "      <th>1361</th>\n",
       "      <td>34.680089</td>\n",
       "      <td>11</td>\n",
       "      <td>23.680089</td>\n",
       "    </tr>\n",
       "    <tr>\n",
       "      <th>1455</th>\n",
       "      <td>34.680089</td>\n",
       "      <td>11</td>\n",
       "      <td>23.680089</td>\n",
       "    </tr>\n",
       "  </tbody>\n",
       "</table>\n",
       "</div>"
      ],
      "text/plain": [
       "      actual values  predicted values  differences\n",
       "327       34.319192                11    23.319192\n",
       "280       34.319192                11    23.319192\n",
       "92        34.319192                11    23.319192\n",
       "139       34.319192                11    23.319192\n",
       "186       34.319192                11    23.319192\n",
       "233       34.319192                11    23.319192\n",
       "1173      34.355470                11    23.355470\n",
       "1079      34.680089                11    23.680089\n",
       "1361      34.680089                11    23.680089\n",
       "1455      34.680089                11    23.680089"
      ]
     },
     "execution_count": 56,
     "metadata": {},
     "output_type": "execute_result"
    }
   ],
   "source": [
    "# create dataframe containing actual values, predictions and the differences between them\n",
    "df_scores = get_scores_dataframe(sgd_model)\n",
    "df_scores.sort_values(by=\"differences\").tail(10)"
   ]
  },
  {
   "cell_type": "markdown",
   "id": "cd981c6a",
   "metadata": {},
   "source": [
    "<h4><font color=mediumvioletred>Model with GradientBoostingRegressor </font></h4>"
   ]
  },
  {
   "cell_type": "code",
   "execution_count": 57,
   "id": "a139789f",
   "metadata": {},
   "outputs": [
    {
     "data": {
      "text/plain": [
       "GradientBoostingRegressor(max_depth=1, random_state=42)"
      ]
     },
     "execution_count": 57,
     "metadata": {},
     "output_type": "execute_result"
    }
   ],
   "source": [
    "gbr_model = GradientBoostingRegressor(n_estimators=100, \n",
    "                                  learning_rate=0.1, \n",
    "                                  max_depth=1,\n",
    "                                  random_state=42)\n",
    "\n",
    "# fit the model\n",
    "gbr_model.fit(X_train, y_train)"
   ]
  },
  {
   "cell_type": "code",
   "execution_count": 58,
   "id": "e5a8421d",
   "metadata": {},
   "outputs": [
    {
     "data": {
      "text/plain": [
       "{'Training MAE': 1.1943743662594815, 'Testing MAE': 7.398151531788652}"
      ]
     },
     "execution_count": 58,
     "metadata": {},
     "output_type": "execute_result"
    }
   ],
   "source": [
    "# score model\n",
    "show_scores(gbr_model)"
   ]
  },
  {
   "cell_type": "code",
   "execution_count": 59,
   "id": "d4b5509a",
   "metadata": {},
   "outputs": [
    {
     "data": {
      "text/html": [
       "<div>\n",
       "<style scoped>\n",
       "    .dataframe tbody tr th:only-of-type {\n",
       "        vertical-align: middle;\n",
       "    }\n",
       "\n",
       "    .dataframe tbody tr th {\n",
       "        vertical-align: top;\n",
       "    }\n",
       "\n",
       "    .dataframe thead th {\n",
       "        text-align: right;\n",
       "    }\n",
       "</style>\n",
       "<table border=\"1\" class=\"dataframe\">\n",
       "  <thead>\n",
       "    <tr style=\"text-align: right;\">\n",
       "      <th></th>\n",
       "      <th>actual values</th>\n",
       "      <th>predicted values</th>\n",
       "      <th>differences</th>\n",
       "    </tr>\n",
       "  </thead>\n",
       "  <tbody>\n",
       "    <tr>\n",
       "      <th>186</th>\n",
       "      <td>34.319192</td>\n",
       "      <td>15.462908</td>\n",
       "      <td>18.856284</td>\n",
       "    </tr>\n",
       "    <tr>\n",
       "      <th>45</th>\n",
       "      <td>34.319192</td>\n",
       "      <td>15.462908</td>\n",
       "      <td>18.856284</td>\n",
       "    </tr>\n",
       "    <tr>\n",
       "      <th>280</th>\n",
       "      <td>34.319192</td>\n",
       "      <td>15.462908</td>\n",
       "      <td>18.856284</td>\n",
       "    </tr>\n",
       "    <tr>\n",
       "      <th>139</th>\n",
       "      <td>34.319192</td>\n",
       "      <td>15.462908</td>\n",
       "      <td>18.856284</td>\n",
       "    </tr>\n",
       "    <tr>\n",
       "      <th>327</th>\n",
       "      <td>34.319192</td>\n",
       "      <td>15.462908</td>\n",
       "      <td>18.856284</td>\n",
       "    </tr>\n",
       "    <tr>\n",
       "      <th>233</th>\n",
       "      <td>34.319192</td>\n",
       "      <td>15.462908</td>\n",
       "      <td>18.856284</td>\n",
       "    </tr>\n",
       "    <tr>\n",
       "      <th>1173</th>\n",
       "      <td>34.355470</td>\n",
       "      <td>15.462908</td>\n",
       "      <td>18.892562</td>\n",
       "    </tr>\n",
       "    <tr>\n",
       "      <th>1079</th>\n",
       "      <td>34.680089</td>\n",
       "      <td>15.462908</td>\n",
       "      <td>19.217181</td>\n",
       "    </tr>\n",
       "    <tr>\n",
       "      <th>1455</th>\n",
       "      <td>34.680089</td>\n",
       "      <td>15.462908</td>\n",
       "      <td>19.217181</td>\n",
       "    </tr>\n",
       "    <tr>\n",
       "      <th>1361</th>\n",
       "      <td>34.680089</td>\n",
       "      <td>15.462908</td>\n",
       "      <td>19.217181</td>\n",
       "    </tr>\n",
       "  </tbody>\n",
       "</table>\n",
       "</div>"
      ],
      "text/plain": [
       "      actual values  predicted values  differences\n",
       "186       34.319192         15.462908    18.856284\n",
       "45        34.319192         15.462908    18.856284\n",
       "280       34.319192         15.462908    18.856284\n",
       "139       34.319192         15.462908    18.856284\n",
       "327       34.319192         15.462908    18.856284\n",
       "233       34.319192         15.462908    18.856284\n",
       "1173      34.355470         15.462908    18.892562\n",
       "1079      34.680089         15.462908    19.217181\n",
       "1455      34.680089         15.462908    19.217181\n",
       "1361      34.680089         15.462908    19.217181"
      ]
     },
     "execution_count": 59,
     "metadata": {},
     "output_type": "execute_result"
    }
   ],
   "source": [
    "# create dataframe containing actual values, predictions and the differences between them\n",
    "df_scores = get_scores_dataframe(gbr_model)\n",
    "df_scores.sort_values(by=\"differences\").tail(10)"
   ]
  },
  {
   "cell_type": "markdown",
   "id": "09bb1748",
   "metadata": {},
   "source": [
    "<h4><font color=mediumvioletred>Model with BayesianRidge </font></h4>"
   ]
  },
  {
   "cell_type": "code",
   "execution_count": 60,
   "id": "ffe4f0e6",
   "metadata": {},
   "outputs": [
    {
     "data": {
      "text/plain": [
       "BayesianRidge()"
      ]
     },
     "execution_count": 60,
     "metadata": {},
     "output_type": "execute_result"
    }
   ],
   "source": [
    "br_model = BayesianRidge()\n",
    "\n",
    "# fit the model\n",
    "br_model.fit(X_train, y_train)"
   ]
  },
  {
   "cell_type": "code",
   "execution_count": 61,
   "id": "e882b2cc",
   "metadata": {},
   "outputs": [
    {
     "data": {
      "text/plain": [
       "{'Training MAE': 2.3344465343406453, 'Testing MAE': 8.503177539345117}"
      ]
     },
     "execution_count": 61,
     "metadata": {},
     "output_type": "execute_result"
    }
   ],
   "source": [
    "# score model\n",
    "show_scores(br_model)"
   ]
  },
  {
   "cell_type": "code",
   "execution_count": 62,
   "id": "81534884",
   "metadata": {},
   "outputs": [
    {
     "data": {
      "text/html": [
       "<div>\n",
       "<style scoped>\n",
       "    .dataframe tbody tr th:only-of-type {\n",
       "        vertical-align: middle;\n",
       "    }\n",
       "\n",
       "    .dataframe tbody tr th {\n",
       "        vertical-align: top;\n",
       "    }\n",
       "\n",
       "    .dataframe thead th {\n",
       "        text-align: right;\n",
       "    }\n",
       "</style>\n",
       "<table border=\"1\" class=\"dataframe\">\n",
       "  <thead>\n",
       "    <tr style=\"text-align: right;\">\n",
       "      <th></th>\n",
       "      <th>actual values</th>\n",
       "      <th>predicted values</th>\n",
       "      <th>differences</th>\n",
       "    </tr>\n",
       "  </thead>\n",
       "  <tbody>\n",
       "    <tr>\n",
       "      <th>233</th>\n",
       "      <td>34.319192</td>\n",
       "      <td>10.724954</td>\n",
       "      <td>23.594238</td>\n",
       "    </tr>\n",
       "    <tr>\n",
       "      <th>280</th>\n",
       "      <td>34.319192</td>\n",
       "      <td>10.724078</td>\n",
       "      <td>23.595114</td>\n",
       "    </tr>\n",
       "    <tr>\n",
       "      <th>186</th>\n",
       "      <td>34.319192</td>\n",
       "      <td>10.709456</td>\n",
       "      <td>23.609736</td>\n",
       "    </tr>\n",
       "    <tr>\n",
       "      <th>327</th>\n",
       "      <td>34.319192</td>\n",
       "      <td>10.704694</td>\n",
       "      <td>23.614498</td>\n",
       "    </tr>\n",
       "    <tr>\n",
       "      <th>139</th>\n",
       "      <td>34.319192</td>\n",
       "      <td>10.677221</td>\n",
       "      <td>23.641971</td>\n",
       "    </tr>\n",
       "    <tr>\n",
       "      <th>45</th>\n",
       "      <td>34.319192</td>\n",
       "      <td>10.661235</td>\n",
       "      <td>23.657957</td>\n",
       "    </tr>\n",
       "    <tr>\n",
       "      <th>92</th>\n",
       "      <td>34.319192</td>\n",
       "      <td>10.625715</td>\n",
       "      <td>23.693477</td>\n",
       "    </tr>\n",
       "    <tr>\n",
       "      <th>1361</th>\n",
       "      <td>34.680089</td>\n",
       "      <td>10.880571</td>\n",
       "      <td>23.799518</td>\n",
       "    </tr>\n",
       "    <tr>\n",
       "      <th>1079</th>\n",
       "      <td>34.680089</td>\n",
       "      <td>10.765126</td>\n",
       "      <td>23.914963</td>\n",
       "    </tr>\n",
       "    <tr>\n",
       "      <th>1455</th>\n",
       "      <td>34.680089</td>\n",
       "      <td>10.669848</td>\n",
       "      <td>24.010241</td>\n",
       "    </tr>\n",
       "  </tbody>\n",
       "</table>\n",
       "</div>"
      ],
      "text/plain": [
       "      actual values  predicted values  differences\n",
       "233       34.319192         10.724954    23.594238\n",
       "280       34.319192         10.724078    23.595114\n",
       "186       34.319192         10.709456    23.609736\n",
       "327       34.319192         10.704694    23.614498\n",
       "139       34.319192         10.677221    23.641971\n",
       "45        34.319192         10.661235    23.657957\n",
       "92        34.319192         10.625715    23.693477\n",
       "1361      34.680089         10.880571    23.799518\n",
       "1079      34.680089         10.765126    23.914963\n",
       "1455      34.680089         10.669848    24.010241"
      ]
     },
     "execution_count": 62,
     "metadata": {},
     "output_type": "execute_result"
    }
   ],
   "source": [
    "# create dataframe containing actual values, predictions and the differences between them\n",
    "df_scores = get_scores_dataframe(br_model)\n",
    "df_scores.sort_values(by=\"differences\").tail(10)"
   ]
  },
  {
   "cell_type": "markdown",
   "id": "65128dfa",
   "metadata": {},
   "source": [
    "<h4><font color=mediumvioletred>Model with Lasso </font></h4>"
   ]
  },
  {
   "cell_type": "code",
   "execution_count": 63,
   "id": "17bd192c",
   "metadata": {},
   "outputs": [
    {
     "data": {
      "text/plain": [
       "LassoLars(alpha=0.1, normalize=False, random_state=42)"
      ]
     },
     "execution_count": 63,
     "metadata": {},
     "output_type": "execute_result"
    }
   ],
   "source": [
    "lasso_model = LassoLars(alpha=.1, \n",
    "                  normalize=False,\n",
    "                  random_state=42)\n",
    "\n",
    "# fit the model\n",
    "lasso_model.fit(X_train, y_train)"
   ]
  },
  {
   "cell_type": "code",
   "execution_count": 64,
   "id": "097225b1",
   "metadata": {},
   "outputs": [
    {
     "data": {
      "text/plain": [
       "{'Training MAE': 2.3416797240304987, 'Testing MAE': 8.602986638895269}"
      ]
     },
     "execution_count": 64,
     "metadata": {},
     "output_type": "execute_result"
    }
   ],
   "source": [
    "# score model\n",
    "show_scores(lasso_model)"
   ]
  },
  {
   "cell_type": "code",
   "execution_count": 65,
   "id": "86856222",
   "metadata": {},
   "outputs": [
    {
     "data": {
      "text/html": [
       "<div>\n",
       "<style scoped>\n",
       "    .dataframe tbody tr th:only-of-type {\n",
       "        vertical-align: middle;\n",
       "    }\n",
       "\n",
       "    .dataframe tbody tr th {\n",
       "        vertical-align: top;\n",
       "    }\n",
       "\n",
       "    .dataframe thead th {\n",
       "        text-align: right;\n",
       "    }\n",
       "</style>\n",
       "<table border=\"1\" class=\"dataframe\">\n",
       "  <thead>\n",
       "    <tr style=\"text-align: right;\">\n",
       "      <th></th>\n",
       "      <th>actual values</th>\n",
       "      <th>predicted values</th>\n",
       "      <th>differences</th>\n",
       "    </tr>\n",
       "  </thead>\n",
       "  <tbody>\n",
       "    <tr>\n",
       "      <th>280</th>\n",
       "      <td>34.319192</td>\n",
       "      <td>10.425495</td>\n",
       "      <td>23.893697</td>\n",
       "    </tr>\n",
       "    <tr>\n",
       "      <th>233</th>\n",
       "      <td>34.319192</td>\n",
       "      <td>10.425011</td>\n",
       "      <td>23.894181</td>\n",
       "    </tr>\n",
       "    <tr>\n",
       "      <th>186</th>\n",
       "      <td>34.319192</td>\n",
       "      <td>10.409504</td>\n",
       "      <td>23.909688</td>\n",
       "    </tr>\n",
       "    <tr>\n",
       "      <th>327</th>\n",
       "      <td>34.319192</td>\n",
       "      <td>10.407024</td>\n",
       "      <td>23.912168</td>\n",
       "    </tr>\n",
       "    <tr>\n",
       "      <th>139</th>\n",
       "      <td>34.319192</td>\n",
       "      <td>10.379159</td>\n",
       "      <td>23.940033</td>\n",
       "    </tr>\n",
       "    <tr>\n",
       "      <th>45</th>\n",
       "      <td>34.319192</td>\n",
       "      <td>10.365094</td>\n",
       "      <td>23.954098</td>\n",
       "    </tr>\n",
       "    <tr>\n",
       "      <th>92</th>\n",
       "      <td>34.319192</td>\n",
       "      <td>10.331649</td>\n",
       "      <td>23.987543</td>\n",
       "    </tr>\n",
       "    <tr>\n",
       "      <th>1361</th>\n",
       "      <td>34.680089</td>\n",
       "      <td>10.563518</td>\n",
       "      <td>24.116571</td>\n",
       "    </tr>\n",
       "    <tr>\n",
       "      <th>1079</th>\n",
       "      <td>34.680089</td>\n",
       "      <td>10.453654</td>\n",
       "      <td>24.226435</td>\n",
       "    </tr>\n",
       "    <tr>\n",
       "      <th>1455</th>\n",
       "      <td>34.680089</td>\n",
       "      <td>10.359558</td>\n",
       "      <td>24.320532</td>\n",
       "    </tr>\n",
       "  </tbody>\n",
       "</table>\n",
       "</div>"
      ],
      "text/plain": [
       "      actual values  predicted values  differences\n",
       "280       34.319192         10.425495    23.893697\n",
       "233       34.319192         10.425011    23.894181\n",
       "186       34.319192         10.409504    23.909688\n",
       "327       34.319192         10.407024    23.912168\n",
       "139       34.319192         10.379159    23.940033\n",
       "45        34.319192         10.365094    23.954098\n",
       "92        34.319192         10.331649    23.987543\n",
       "1361      34.680089         10.563518    24.116571\n",
       "1079      34.680089         10.453654    24.226435\n",
       "1455      34.680089         10.359558    24.320532"
      ]
     },
     "execution_count": 65,
     "metadata": {},
     "output_type": "execute_result"
    }
   ],
   "source": [
    "# create dataframe containing actual values, predictions and the differences between them\n",
    "df_scores = get_scores_dataframe(lasso_model)\n",
    "df_scores.sort_values(by=\"differences\").tail(10)"
   ]
  },
  {
   "cell_type": "markdown",
   "id": "b34c2364",
   "metadata": {},
   "source": [
    "<h4><font color=mediumvioletred>Model with ElasticNet </font></h4>"
   ]
  },
  {
   "cell_type": "code",
   "execution_count": 66,
   "id": "5f00a395",
   "metadata": {},
   "outputs": [
    {
     "data": {
      "text/plain": [
       "ElasticNet(random_state=42)"
      ]
     },
     "execution_count": 66,
     "metadata": {},
     "output_type": "execute_result"
    }
   ],
   "source": [
    "en_model = ElasticNet(random_state=42)\n",
    "\n",
    "# fit the model\n",
    "en_model.fit(X_train, y_train)"
   ]
  },
  {
   "cell_type": "code",
   "execution_count": 67,
   "id": "872bb379",
   "metadata": {},
   "outputs": [
    {
     "data": {
      "text/plain": [
       "{'Training MAE': 2.422679766416977, 'Testing MAE': 8.626299350617332}"
      ]
     },
     "execution_count": 67,
     "metadata": {},
     "output_type": "execute_result"
    }
   ],
   "source": [
    "# score model\n",
    "show_scores(en_model)"
   ]
  },
  {
   "cell_type": "code",
   "execution_count": 68,
   "id": "513f6122",
   "metadata": {},
   "outputs": [
    {
     "data": {
      "text/html": [
       "<div>\n",
       "<style scoped>\n",
       "    .dataframe tbody tr th:only-of-type {\n",
       "        vertical-align: middle;\n",
       "    }\n",
       "\n",
       "    .dataframe tbody tr th {\n",
       "        vertical-align: top;\n",
       "    }\n",
       "\n",
       "    .dataframe thead th {\n",
       "        text-align: right;\n",
       "    }\n",
       "</style>\n",
       "<table border=\"1\" class=\"dataframe\">\n",
       "  <thead>\n",
       "    <tr style=\"text-align: right;\">\n",
       "      <th></th>\n",
       "      <th>actual values</th>\n",
       "      <th>predicted values</th>\n",
       "      <th>differences</th>\n",
       "    </tr>\n",
       "  </thead>\n",
       "  <tbody>\n",
       "    <tr>\n",
       "      <th>233</th>\n",
       "      <td>34.319192</td>\n",
       "      <td>10.069607</td>\n",
       "      <td>24.249585</td>\n",
       "    </tr>\n",
       "    <tr>\n",
       "      <th>186</th>\n",
       "      <td>34.319192</td>\n",
       "      <td>10.054422</td>\n",
       "      <td>24.264770</td>\n",
       "    </tr>\n",
       "    <tr>\n",
       "      <th>327</th>\n",
       "      <td>34.319192</td>\n",
       "      <td>10.051926</td>\n",
       "      <td>24.267266</td>\n",
       "    </tr>\n",
       "    <tr>\n",
       "      <th>1173</th>\n",
       "      <td>34.355470</td>\n",
       "      <td>10.063046</td>\n",
       "      <td>24.292424</td>\n",
       "    </tr>\n",
       "    <tr>\n",
       "      <th>139</th>\n",
       "      <td>34.319192</td>\n",
       "      <td>10.026660</td>\n",
       "      <td>24.292532</td>\n",
       "    </tr>\n",
       "    <tr>\n",
       "      <th>45</th>\n",
       "      <td>34.319192</td>\n",
       "      <td>10.016471</td>\n",
       "      <td>24.302721</td>\n",
       "    </tr>\n",
       "    <tr>\n",
       "      <th>92</th>\n",
       "      <td>34.319192</td>\n",
       "      <td>9.983285</td>\n",
       "      <td>24.335907</td>\n",
       "    </tr>\n",
       "    <tr>\n",
       "      <th>1361</th>\n",
       "      <td>34.680089</td>\n",
       "      <td>10.144288</td>\n",
       "      <td>24.535801</td>\n",
       "    </tr>\n",
       "    <tr>\n",
       "      <th>1079</th>\n",
       "      <td>34.680089</td>\n",
       "      <td>10.046733</td>\n",
       "      <td>24.633356</td>\n",
       "    </tr>\n",
       "    <tr>\n",
       "      <th>1455</th>\n",
       "      <td>34.680089</td>\n",
       "      <td>9.932617</td>\n",
       "      <td>24.747472</td>\n",
       "    </tr>\n",
       "  </tbody>\n",
       "</table>\n",
       "</div>"
      ],
      "text/plain": [
       "      actual values  predicted values  differences\n",
       "233       34.319192         10.069607    24.249585\n",
       "186       34.319192         10.054422    24.264770\n",
       "327       34.319192         10.051926    24.267266\n",
       "1173      34.355470         10.063046    24.292424\n",
       "139       34.319192         10.026660    24.292532\n",
       "45        34.319192         10.016471    24.302721\n",
       "92        34.319192          9.983285    24.335907\n",
       "1361      34.680089         10.144288    24.535801\n",
       "1079      34.680089         10.046733    24.633356\n",
       "1455      34.680089          9.932617    24.747472"
      ]
     },
     "execution_count": 68,
     "metadata": {},
     "output_type": "execute_result"
    }
   ],
   "source": [
    "# create dataframe containing actual values, predictions and the differences between them\n",
    "df_scores = get_scores_dataframe(en_model)\n",
    "df_scores.sort_values(by=\"differences\").tail(10)"
   ]
  },
  {
   "cell_type": "markdown",
   "id": "2cfbe560",
   "metadata": {},
   "source": [
    "<h4><font color=mediumvioletred>Model with SVR </font></h4>"
   ]
  },
  {
   "cell_type": "code",
   "execution_count": 69,
   "id": "0c144ace",
   "metadata": {},
   "outputs": [
    {
     "data": {
      "text/plain": [
       "SVR()"
      ]
     },
     "execution_count": 69,
     "metadata": {},
     "output_type": "execute_result"
    }
   ],
   "source": [
    "svr_model = SVR()\n",
    "\n",
    "# fit the model\n",
    "svr_model.fit(X_train, y_train)"
   ]
  },
  {
   "cell_type": "code",
   "execution_count": 70,
   "id": "cbbe4763",
   "metadata": {},
   "outputs": [
    {
     "data": {
      "text/plain": [
       "{'Training MAE': 3.913479596322271, 'Testing MAE': 7.805045466821868}"
      ]
     },
     "execution_count": 70,
     "metadata": {},
     "output_type": "execute_result"
    }
   ],
   "source": [
    "# score model\n",
    "show_scores(svr_model)"
   ]
  },
  {
   "cell_type": "code",
   "execution_count": 71,
   "id": "20eab29b",
   "metadata": {},
   "outputs": [
    {
     "data": {
      "text/html": [
       "<div>\n",
       "<style scoped>\n",
       "    .dataframe tbody tr th:only-of-type {\n",
       "        vertical-align: middle;\n",
       "    }\n",
       "\n",
       "    .dataframe tbody tr th {\n",
       "        vertical-align: top;\n",
       "    }\n",
       "\n",
       "    .dataframe thead th {\n",
       "        text-align: right;\n",
       "    }\n",
       "</style>\n",
       "<table border=\"1\" class=\"dataframe\">\n",
       "  <thead>\n",
       "    <tr style=\"text-align: right;\">\n",
       "      <th></th>\n",
       "      <th>actual values</th>\n",
       "      <th>predicted values</th>\n",
       "      <th>differences</th>\n",
       "    </tr>\n",
       "  </thead>\n",
       "  <tbody>\n",
       "    <tr>\n",
       "      <th>186</th>\n",
       "      <td>34.319192</td>\n",
       "      <td>11.374957</td>\n",
       "      <td>22.944235</td>\n",
       "    </tr>\n",
       "    <tr>\n",
       "      <th>609</th>\n",
       "      <td>32.812274</td>\n",
       "      <td>9.789342</td>\n",
       "      <td>23.022932</td>\n",
       "    </tr>\n",
       "    <tr>\n",
       "      <th>139</th>\n",
       "      <td>34.319192</td>\n",
       "      <td>10.966573</td>\n",
       "      <td>23.352619</td>\n",
       "    </tr>\n",
       "    <tr>\n",
       "      <th>1220</th>\n",
       "      <td>32.812274</td>\n",
       "      <td>9.420553</td>\n",
       "      <td>23.391721</td>\n",
       "    </tr>\n",
       "    <tr>\n",
       "      <th>1173</th>\n",
       "      <td>34.355470</td>\n",
       "      <td>10.868781</td>\n",
       "      <td>23.486689</td>\n",
       "    </tr>\n",
       "    <tr>\n",
       "      <th>1267</th>\n",
       "      <td>33.525037</td>\n",
       "      <td>9.902843</td>\n",
       "      <td>23.622194</td>\n",
       "    </tr>\n",
       "    <tr>\n",
       "      <th>45</th>\n",
       "      <td>34.319192</td>\n",
       "      <td>10.689036</td>\n",
       "      <td>23.630156</td>\n",
       "    </tr>\n",
       "    <tr>\n",
       "      <th>92</th>\n",
       "      <td>34.319192</td>\n",
       "      <td>10.260789</td>\n",
       "      <td>24.058403</td>\n",
       "    </tr>\n",
       "    <tr>\n",
       "      <th>1079</th>\n",
       "      <td>34.680089</td>\n",
       "      <td>10.477429</td>\n",
       "      <td>24.202660</td>\n",
       "    </tr>\n",
       "    <tr>\n",
       "      <th>1455</th>\n",
       "      <td>34.680089</td>\n",
       "      <td>9.298868</td>\n",
       "      <td>25.381221</td>\n",
       "    </tr>\n",
       "  </tbody>\n",
       "</table>\n",
       "</div>"
      ],
      "text/plain": [
       "      actual values  predicted values  differences\n",
       "186       34.319192         11.374957    22.944235\n",
       "609       32.812274          9.789342    23.022932\n",
       "139       34.319192         10.966573    23.352619\n",
       "1220      32.812274          9.420553    23.391721\n",
       "1173      34.355470         10.868781    23.486689\n",
       "1267      33.525037          9.902843    23.622194\n",
       "45        34.319192         10.689036    23.630156\n",
       "92        34.319192         10.260789    24.058403\n",
       "1079      34.680089         10.477429    24.202660\n",
       "1455      34.680089          9.298868    25.381221"
      ]
     },
     "execution_count": 71,
     "metadata": {},
     "output_type": "execute_result"
    }
   ],
   "source": [
    "# create dataframe containing actual values, predictions and the differences between them\n",
    "df_scores = get_scores_dataframe(svr_model)\n",
    "df_scores.sort_values(by=\"differences\").tail(10)"
   ]
  },
  {
   "cell_type": "markdown",
   "id": "a0d5d4d4",
   "metadata": {},
   "source": [
    "<h4><font color=mediumvioletred>Conclusion </font></h4>"
   ]
  },
  {
   "cell_type": "markdown",
   "id": "c56459ce",
   "metadata": {},
   "source": [
    "After calculating the MAE (average of the absolute differences between predictions and actual values), we found that the following models had the best predictions:\n",
    "* RandomForestRegressor: 6.0729757977694865\n",
    "* GradientBoostingRegressor: 7.398151531788652\n",
    "* SVR: 7.805045466821868\n",
    "\n",
    "**After using more data (from 2021-01-01 to 2021-11-18) and grouping the data by week, the models' scores improved a bit.\n",
    "However, the maximum value is still too high, this is because there are unhandled outliers.**"
   ]
  },
  {
   "cell_type": "markdown",
   "id": "896e431b",
   "metadata": {},
   "source": [
    "<h4><font color=mediumvioletred>Check feature importance</font></h4>\n",
    "\n",
    "Feature importance means which features affected the model the most."
   ]
  },
  {
   "cell_type": "code",
   "execution_count": 72,
   "id": "565d11a6",
   "metadata": {},
   "outputs": [
    {
     "data": {
      "image/png": "[encoded data removed]",
      "text/plain": [
       "<Figure size 640x480 with 1 Axes>"
      ]
     },
     "metadata": {},
     "output_type": "display_data"
    }
   ],
   "source": [
    "# GradientBoostingRegressor model\n",
    "plot_features(X_train.columns, gbr_model.feature_importances_)"
   ]
  },
  {
   "cell_type": "code",
   "execution_count": 73,
   "id": "33c9c820",
   "metadata": {},
   "outputs": [
    {
     "data": {
      "image/png": "[encoded data removed]",
      "text/plain": [
       "<Figure size 640x480 with 1 Axes>"
      ]
     },
     "metadata": {},
     "output_type": "display_data"
    }
   ],
   "source": [
    "# RandomForestRegressor model\n",
    "plot_features(X_train.columns, rf_model.feature_importances_)"
   ]
  },
  {
   "cell_type": "markdown",
   "id": "f195c0cf",
   "metadata": {},
   "source": [
    "The columns which affected the best models the most are week number, boundary layer height, wind direction, solar sun radiation and wind speed.\n",
    "\n",
    "The model was unable to identify a pattern or correlation between the number of people and the PM2.5 due to the fact that during rush hours, both the number of people and the PM2.5 pollution level rise, and when people arrive at their destinations, the number of people stays very high while the pollution level declines.\n",
    "\n",
    "Given that the zip codes are in the same city and have the same weather, it was likewise unable to establish a link between the zip code (PC4) and the PM2.5.\n",
    "\n",
    "Including the season column had no effect on the model."
   ]
  },
  {
   "cell_type": "markdown",
   "id": "87614d63",
   "metadata": {},
   "source": [
    "<h4><font color=mediumvioletred>Export the best model (GradientBoostingRegressor and RandomForestRegressor)</font></h4>"
   ]
  },
  {
   "cell_type": "code",
   "execution_count": 74,
   "id": "81cf274c",
   "metadata": {},
   "outputs": [],
   "source": [
    "pickle.dump(gbr_model, open(\"models/gbr_air_quality_prediction_model_weekly.pkl\", \"wb\")) # wb = write binary\n",
    "pickle.dump(gbr_model, open(\"models/rf_air_quality_prediction_model_weekly.pkl\", \"wb\")) # wb = write binary"
   ]
  }
 ],
 "metadata": {
  "kernelspec": {
   "display_name": "Python 3 (ipykernel)",
   "language": "python",
   "name": "python3"
  },
  "language_info": {
   "codemirror_mode": {
    "name": "ipython",
    "version": 3
   },
   "file_extension": ".py",
   "mimetype": "text/x-python",
   "name": "python",
   "nbconvert_exporter": "python",
   "pygments_lexer": "ipython3",
   "version": "3.9.13"
  }
 },
 "nbformat": 4,
 "nbformat_minor": 5
}
